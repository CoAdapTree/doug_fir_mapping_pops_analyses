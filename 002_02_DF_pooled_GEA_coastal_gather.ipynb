{
 "cells": [
  {
   "cell_type": "markdown",
   "metadata": {},
   "source": [
    "This notebook best viewed here: https://nbviewer.jupyter.org"
   ]
  },
  {
   "cell_type": "markdown",
   "metadata": {},
   "source": [
    " "
   ]
  },
  {
   "cell_type": "markdown",
   "metadata": {},
   "source": [
    " "
   ]
  },
  {
   "cell_type": "markdown",
   "metadata": {},
   "source": [
    " "
   ]
  },
  {
   "cell_type": "markdown",
   "metadata": {},
   "source": [
    "This notebook is for the coastal variety of Douglas fir GEA mapping pops\n",
    "\n",
    "#### Purpose\n",
    "• I've run the baypass commands across four servers, I need to gather the jobs and concatenate results.\n",
    "\n",
    "#### Notebook outline\n",
    "\n",
    "- __rsync files from servers__\n",
    "    - I execute the rsync commands to transfer files from the executing servers to our lab server\n",
    "- __check what needs to be done__\n",
    "    - given the number of gfiles and chains, make sure all of the commands have been executed/transferred\n",
    "- __gather all of the wanted resfiles and concat into single dataframes__\n",
    "    - gather the files with BF, label SNP IDs, and concat into single dataframe\n",
    "- __Remove newREPEATS and add newSNPs__\n",
    "    - after baypass was kicked off, we received an updated softmasked reference and some of the previous SNPs turned into REPEATS and some of the previous REPEATS turned into SNPs. From the baypass output, remove newREPEATS and add newSNPs\n",
    "- __Rank loci__\n",
    "    - Rank each locus for each chain by converting dB to BF (BF = 10^(dB / 10); dB = 10*log10(BF))\n",
    "    - Caclulate mean BF across 5 chains, rank each locus based on mean\n",
    "    - Create boolean column with True if locus is ranked in top 1% for at least 3/5 chains\n",
    "    - Create boolean column with True if locus has BF >= 15 for at least 3/5 chains\n",
    "    - Create boolean column with True if locus has BF >= 20 for at least 3/5 chains\n",
    "- __look at BF scores for consistent top 1% ranks__\n",
    "    - explore the top 1% of ranks\n",
    "    - count number of SNPs >= BF thresholds {15, 20}, print if not all SNPs >= thresh are consistently in top 1% across chains"
   ]
  },
  {
   "cell_type": "markdown",
   "metadata": {},
   "source": [
    "  "
   ]
  },
  {
   "cell_type": "markdown",
   "metadata": {},
   "source": [
    " "
   ]
  },
  {
   "cell_type": "markdown",
   "metadata": {},
   "source": [
    " "
   ]
  },
  {
   "cell_type": "code",
   "execution_count": 1,
   "metadata": {},
   "outputs": [],
   "source": [
    "from pythonimports import *"
   ]
  },
  {
   "cell_type": "code",
   "execution_count": 2,
   "metadata": {},
   "outputs": [],
   "source": [
    "# dir names\n",
    "baydir = '/lu213/brandon.lind/projects/pool_seq/DF_datasets/DF_pooled_GEA/DF_pooled/snpsANDindels/coastal_variety/03_maf-p05_RD-recalculated_FDC/baypass'\n",
    "cmddir = op.join(baydir, 'cmd_files')\n",
    "rundir = op.join(cmddir, 'run_01')\n",
    "gfile_dir = op.join(baydir, 'individual_gfiles')\n",
    "shdir = op.join(cmddir, 'shfiles')\n",
    "resdir = op.join(cmddir, 'results')\n",
    "rsyncdir = makedir(op.join(baydir, 'rsync_files'))"
   ]
  },
  {
   "cell_type": "code",
   "execution_count": 3,
   "metadata": {},
   "outputs": [
    {
     "name": "stdout",
     "output_type": "stream",
     "text": [
      "56 56\n"
     ]
    }
   ],
   "source": [
    "lview,dview = get_client()"
   ]
  },
  {
   "cell_type": "markdown",
   "metadata": {},
   "source": [
    "# rsync files from servers"
   ]
  },
  {
   "cell_type": "code",
   "execution_count": 4,
   "metadata": {},
   "outputs": [
    {
     "data": {
      "text/plain": [
       "['/lu213/brandon.lind/projects/pool_seq/DF_datasets/DF_pooled_GEA/DF_pooled/snpsANDindels/coastal_variety/03_maf-p05_RD-recalculated_FDC/baypass/rsync_files/arc_rsync_cmds.txt',\n",
       " '/lu213/brandon.lind/projects/pool_seq/DF_datasets/DF_pooled_GEA/DF_pooled/snpsANDindels/coastal_variety/03_maf-p05_RD-recalculated_FDC/baypass/rsync_files/beluga_rem_rsync_cmds.txt',\n",
       " '/lu213/brandon.lind/projects/pool_seq/DF_datasets/DF_pooled_GEA/DF_pooled/snpsANDindels/coastal_variety/03_maf-p05_RD-recalculated_FDC/baypass/rsync_files/beluga_rsync_cmds.txt',\n",
       " '/lu213/brandon.lind/projects/pool_seq/DF_datasets/DF_pooled_GEA/DF_pooled/snpsANDindels/coastal_variety/03_maf-p05_RD-recalculated_FDC/baypass/rsync_files/cedar_rem2_rsync_cmds.txt',\n",
       " '/lu213/brandon.lind/projects/pool_seq/DF_datasets/DF_pooled_GEA/DF_pooled/snpsANDindels/coastal_variety/03_maf-p05_RD-recalculated_FDC/baypass/rsync_files/cedar_rem_rsync_cmds.txt',\n",
       " '/lu213/brandon.lind/projects/pool_seq/DF_datasets/DF_pooled_GEA/DF_pooled/snpsANDindels/coastal_variety/03_maf-p05_RD-recalculated_FDC/baypass/rsync_files/cedar_rsync_cmds.txt',\n",
       " '/lu213/brandon.lind/projects/pool_seq/DF_datasets/DF_pooled_GEA/DF_pooled/snpsANDindels/coastal_variety/03_maf-p05_RD-recalculated_FDC/baypass/rsync_files/graham_new_rsync_cmds.txt',\n",
       " '/lu213/brandon.lind/projects/pool_seq/DF_datasets/DF_pooled_GEA/DF_pooled/snpsANDindels/coastal_variety/03_maf-p05_RD-recalculated_FDC/baypass/rsync_files/graham_rsync_cmds.txt']"
      ]
     },
     "execution_count": 4,
     "metadata": {},
     "output_type": "execute_result"
    }
   ],
   "source": [
    "fs(rsyncdir)"
   ]
  },
  {
   "cell_type": "code",
   "execution_count": 34,
   "metadata": {},
   "outputs": [],
   "source": [
    "def exe(cmd):\n",
    "    \"\"\"execute system command.\"\"\"\n",
    "    import os\n",
    "    os.system(cmd)"
   ]
  },
  {
   "cell_type": "code",
   "execution_count": 6,
   "metadata": {},
   "outputs": [],
   "source": [
    "def submit_cmds(cmds):\n",
    "    \"\"\"Execute a list of system commands in parallel. Return cmd if there was an error.\"\"\"\n",
    "    jobs = []\n",
    "    for cmd in nb(cmds):\n",
    "        jobs.append(lview.apply_async(exe, cmd))\n",
    "    watch_async(jobs)\n",
    "    \n",
    "    badcmds = []\n",
    "    for i,j in enumerate(jobs):\n",
    "        try:\n",
    "            x=j.r\n",
    "        except:\n",
    "            badcmds.append(cmds[i])\n",
    "    print('len(badcmds) = ', len(badcmds))\n",
    "    \n",
    "    return badcmds"
   ]
  },
  {
   "cell_type": "code",
   "execution_count": 37,
   "metadata": {},
   "outputs": [],
   "source": [
    "def check_realfiles(cmds, new=False):\n",
    "    \"\"\"Make sure all transferred files exist.\n",
    "    new is used if transferring the results from SNPs that were once REPEATS\n",
    "    \"\"\"\n",
    "    realfiles = []\n",
    "#     if new is True:\n",
    "#         rundir = newrundir\n",
    "#         gfile_dir = newgfiledir\n",
    "#         shdir = newshdir\n",
    "#         resdir = newresdir\n",
    "    for d in [rundir, gfile_dir, shdir, resdir]:\n",
    "        realfiles.extend(fs(d, dirs=False))\n",
    "    \n",
    "    expfiles = []\n",
    "    for cmd in cmds:\n",
    "        expfiles.append(cmd.split()[-1])\n",
    "    \n",
    "    print('len(realfiles) = ', len(realfiles))\n",
    "    print('len(expfiles) =', len(expfiles))\n",
    "    \n",
    "    needed = list(set(expfiles) - set(realfiles))\n",
    "    \n",
    "    print('needed = ', len(needed))\n",
    "    \n",
    "    needed_cmds = []\n",
    "    for n in needed:\n",
    "        for cmd in cmds:\n",
    "            if n in cmd:\n",
    "                needed_cmds.append(cmd)\n",
    "    print('needed_cmds = ', len(needed_cmds))\n",
    "    return needed_cmds"
   ]
  },
  {
   "cell_type": "markdown",
   "metadata": {},
   "source": [
    "#### cedar cmds"
   ]
  },
  {
   "cell_type": "code",
   "execution_count": 8,
   "metadata": {},
   "outputs": [
    {
     "data": {
      "text/plain": [
       "417"
      ]
     },
     "execution_count": 8,
     "metadata": {},
     "output_type": "execute_result"
    }
   ],
   "source": [
    "# first from cedar\n",
    "# cmds = read(op.join(rsyncdir, 'cedar_rsync_cmds.txt'))\n",
    "# cmds = read(op.join(rsyncdir, 'cedar_rem_rsync_cmds.txt'))\n",
    "cmds = read(op.join(rsyncdir, 'cedar_rem2_rsync_cmds.txt'))\n",
    "len(cmds)"
   ]
  },
  {
   "cell_type": "code",
   "execution_count": 9,
   "metadata": {},
   "outputs": [
    {
     "data": {
      "text/plain": [
       "'/lu213/brandon.lind/projects/pool_seq/DF_datasets/DF_pooled_GEA/DF_pooled/snpsANDindels/coastal_variety/03_maf-p05_RD-recalculated_FDC/baypass/cmd_files/results'"
      ]
     },
     "execution_count": 9,
     "metadata": {},
     "output_type": "execute_result"
    }
   ],
   "source": [
    "dirs = []\n",
    "for cmd in cmds:\n",
    "    newfile = cmd.split()[-1]\n",
    "    dname = op.dirname(newfile)\n",
    "    dirs.append(dname)\n",
    "for d in uni(dirs):\n",
    "    assert op.exists(d)\n",
    "d"
   ]
  },
  {
   "cell_type": "code",
   "execution_count": 10,
   "metadata": {},
   "outputs": [
    {
     "data": {
      "text/plain": [
       "'rsync -avz cedar:/scratch/lindb/coastal/cmd_files/results/coastal_all_snps_ADP-lt-1000_gfile_0627_chain_5_summary_beta_params.out /lu213/brandon.lind/projects/pool_seq/DF_datasets/DF_pooled_GEA/DF_pooled/snpsANDindels/coastal_variety/03_maf-p05_RD-recalculated_FDC/baypass/cmd_files/results/coastal_all_snps_ADP-lt-1000_gfile_0627_chain_5_summary_beta_params.out'"
      ]
     },
     "execution_count": 10,
     "metadata": {},
     "output_type": "execute_result"
    }
   ],
   "source": [
    "cmds[0]"
   ]
  },
  {
   "cell_type": "code",
   "execution_count": 11,
   "metadata": {
    "scrolled": true
   },
   "outputs": [
    {
     "name": "stderr",
     "output_type": "stream",
     "text": [
      "100%|██████████| 417/417 [00:00<00:00, 871.65it/s] \n"
     ]
    },
    {
     "name": "stdout",
     "output_type": "stream",
     "text": [
      "\u001b[1m\n",
      "Watching 417 jobs ...\u001b[0m\n"
     ]
    },
    {
     "name": "stderr",
     "output_type": "stream",
     "text": [
      "100%|██████████| 417/417 [06:57<00:00,  1.00s/it]"
     ]
    },
    {
     "name": "stdout",
     "output_type": "stream",
     "text": [
      "len(badcmds) =  0\n"
     ]
    },
    {
     "name": "stderr",
     "output_type": "stream",
     "text": [
      "\n"
     ]
    }
   ],
   "source": [
    "badcmds = submit_cmds(cmds)"
   ]
  },
  {
   "cell_type": "code",
   "execution_count": 12,
   "metadata": {},
   "outputs": [
    {
     "data": {
      "text/plain": [
       "0"
      ]
     },
     "execution_count": 12,
     "metadata": {},
     "output_type": "execute_result"
    }
   ],
   "source": [
    "len(badcmds)"
   ]
  },
  {
   "cell_type": "code",
   "execution_count": 15,
   "metadata": {
    "scrolled": true
   },
   "outputs": [
    {
     "name": "stdout",
     "output_type": "stream",
     "text": [
      "len(realfiles) =  41643\n",
      "len(expfiles) = 417\n",
      "needed =  0\n",
      "needed_cmds =  0\n"
     ]
    },
    {
     "data": {
      "text/plain": [
       "0"
      ]
     },
     "execution_count": 15,
     "metadata": {},
     "output_type": "execute_result"
    }
   ],
   "source": [
    "needed = check_realfiles(cmds)\n",
    "len(needed)"
   ]
  },
  {
   "cell_type": "code",
   "execution_count": 14,
   "metadata": {},
   "outputs": [
    {
     "name": "stderr",
     "output_type": "stream",
     "text": [
      "100%|██████████| 12/12 [00:00<00:00, 1909.97it/s]\n"
     ]
    },
    {
     "name": "stdout",
     "output_type": "stream",
     "text": [
      "\u001b[1m\n",
      "Watching 12 jobs ...\u001b[0m\n"
     ]
    },
    {
     "name": "stderr",
     "output_type": "stream",
     "text": [
      "100%|██████████| 12/12 [00:18<00:00,  1.57s/it]"
     ]
    },
    {
     "name": "stdout",
     "output_type": "stream",
     "text": [
      "len(badcmds) =  0\n"
     ]
    },
    {
     "name": "stderr",
     "output_type": "stream",
     "text": [
      "\n"
     ]
    }
   ],
   "source": [
    "badcmds = submit_cmds(needed)"
   ]
  },
  {
   "cell_type": "code",
   "execution_count": 31,
   "metadata": {},
   "outputs": [
    {
     "data": {
      "text/plain": [
       "375"
      ]
     },
     "execution_count": 31,
     "metadata": {},
     "output_type": "execute_result"
    }
   ],
   "source": [
    "cmds = read('/data/projects/pool_seq/DF_datasets/DF_pooled_GEA/DF_pooled/snpsANDindels/coastal_variety/03_maf-p05_RD-recalculated_FDC/baypass/rsync_files/cedar_rem3_rsync_cmds.txt')\n",
    "len(cmds)"
   ]
  },
  {
   "cell_type": "code",
   "execution_count": 33,
   "metadata": {},
   "outputs": [
    {
     "data": {
      "text/plain": [
       "'rsync -avz cedar:/scratch/lindb/coastal/cmd_files/results/coastal_all_snps_ADP-lt-1000_gfile_1094_chain_2_summary_pi_xtx.out /lu213/brandon.lind/projects/pool_seq/DF_datasets/DF_pooled_GEA/DF_pooled/snpsANDindels/coastal_variety/03_maf-p05_RD-recalculated_FDC/baypass/cmd_files/results/coastal_all_snps_ADP-lt-1000_gfile_1094_chain_2_summary_pi_xtx.out'"
      ]
     },
     "execution_count": 33,
     "metadata": {},
     "output_type": "execute_result"
    }
   ],
   "source": [
    "cmds[0]"
   ]
  },
  {
   "cell_type": "code",
   "execution_count": 39,
   "metadata": {
    "scrolled": true
   },
   "outputs": [
    {
     "name": "stderr",
     "output_type": "stream",
     "text": [
      "100%|██████████| 13/13 [00:00<00:00, 2430.83it/s]\n"
     ]
    },
    {
     "name": "stdout",
     "output_type": "stream",
     "text": [
      "\u001b[1m\n",
      "Watching 13 jobs ...\u001b[0m\n"
     ]
    },
    {
     "name": "stderr",
     "output_type": "stream",
     "text": [
      "100%|██████████| 13/13 [00:09<00:00,  1.36it/s]"
     ]
    },
    {
     "name": "stdout",
     "output_type": "stream",
     "text": [
      "len(badcmds) =  0\n"
     ]
    },
    {
     "name": "stderr",
     "output_type": "stream",
     "text": [
      "\n"
     ]
    }
   ],
   "source": [
    "badcmds = submit_cmds(needed)"
   ]
  },
  {
   "cell_type": "code",
   "execution_count": 40,
   "metadata": {},
   "outputs": [
    {
     "name": "stdout",
     "output_type": "stream",
     "text": [
      "len(realfiles) =  42018\n",
      "len(expfiles) = 375\n",
      "needed =  0\n",
      "needed_cmds =  0\n"
     ]
    }
   ],
   "source": [
    "needed = check_realfiles(cmds)"
   ]
  },
  {
   "cell_type": "code",
   "execution_count": null,
   "metadata": {},
   "outputs": [],
   "source": []
  },
  {
   "cell_type": "markdown",
   "metadata": {},
   "source": [
    "#### arc cmds"
   ]
  },
  {
   "cell_type": "code",
   "execution_count": 9,
   "metadata": {},
   "outputs": [
    {
     "data": {
      "text/plain": [
       "3561"
      ]
     },
     "execution_count": 9,
     "metadata": {},
     "output_type": "execute_result"
    }
   ],
   "source": [
    "arccmds = [cmd for cmd in read(op.join(rsyncdir, 'arc_rsync_cmds.txt')) if 'individual_gfiles' not in cmd]\n",
    "len(arccmds)"
   ]
  },
  {
   "cell_type": "code",
   "execution_count": 10,
   "metadata": {},
   "outputs": [
    {
     "data": {
      "text/plain": [
       "672"
      ]
     },
     "execution_count": 10,
     "metadata": {},
     "output_type": "execute_result"
    }
   ],
   "source": [
    "arcdicouts = [f for f in arccmds if 'DIC.out' in f]\n",
    "len(arcdicouts)"
   ]
  },
  {
   "cell_type": "code",
   "execution_count": 11,
   "metadata": {},
   "outputs": [
    {
     "data": {
      "text/plain": [
       "'/lu213/brandon.lind/projects/pool_seq/DF_datasets/DF_pooled_GEA/DF_pooled/snpsANDindels/coastal_variety/03_maf-p05_RD-recalculated_FDC/baypass/cmd_files/results'"
      ]
     },
     "execution_count": 11,
     "metadata": {},
     "output_type": "execute_result"
    }
   ],
   "source": [
    "dirs = []\n",
    "for cmd in arccmds:\n",
    "    newfile = cmd.split()[-1]\n",
    "    dname = op.dirname(newfile)\n",
    "    dirs.append(dname)\n",
    "for d in uni(dirs):\n",
    "    assert op.exists(d)\n",
    "d"
   ]
  },
  {
   "cell_type": "code",
   "execution_count": 12,
   "metadata": {},
   "outputs": [
    {
     "data": {
      "text/plain": [
       "3561"
      ]
     },
     "execution_count": 12,
     "metadata": {},
     "output_type": "execute_result"
    }
   ],
   "source": [
    "len(arccmds)"
   ]
  },
  {
   "cell_type": "code",
   "execution_count": 13,
   "metadata": {},
   "outputs": [
    {
     "name": "stderr",
     "output_type": "stream",
     "text": [
      "100%|██████████| 3561/3561 [00:03<00:00, 1088.82it/s]\n",
      "  0%|          | 4/3561 [00:00<01:41, 35.08it/s]"
     ]
    },
    {
     "name": "stdout",
     "output_type": "stream",
     "text": [
      "\u001b[1m\n",
      "Watching 3561 jobs ...\u001b[0m\n"
     ]
    },
    {
     "name": "stderr",
     "output_type": "stream",
     "text": [
      "100%|██████████| 3561/3561 [1:33:55<00:00,  1.58s/it]  "
     ]
    },
    {
     "name": "stdout",
     "output_type": "stream",
     "text": [
      "len(badcmds) =  0\n"
     ]
    },
    {
     "name": "stderr",
     "output_type": "stream",
     "text": [
      "\n"
     ]
    }
   ],
   "source": [
    "badcmds = submit_cmds(arccmds)"
   ]
  },
  {
   "cell_type": "code",
   "execution_count": 17,
   "metadata": {},
   "outputs": [
    {
     "name": "stderr",
     "output_type": "stream",
     "text": [
      "0it [00:00, ?it/s]"
     ]
    },
    {
     "name": "stdout",
     "output_type": "stream",
     "text": [
      "len(realfiles) =  13236\n",
      "len(expfiles) = 3561\n",
      "reverse: =  9677\n",
      "needed =  0\n",
      "needed_cmds =  0\n"
     ]
    },
    {
     "name": "stderr",
     "output_type": "stream",
     "text": [
      "\n"
     ]
    },
    {
     "data": {
      "text/plain": [
       "[]"
      ]
     },
     "execution_count": 17,
     "metadata": {},
     "output_type": "execute_result"
    }
   ],
   "source": [
    "needed, rev = check_realfiles(arccmds)\n",
    "needed"
   ]
  },
  {
   "cell_type": "code",
   "execution_count": null,
   "metadata": {},
   "outputs": [],
   "source": []
  },
  {
   "cell_type": "code",
   "execution_count": null,
   "metadata": {},
   "outputs": [],
   "source": []
  },
  {
   "cell_type": "code",
   "execution_count": null,
   "metadata": {},
   "outputs": [],
   "source": []
  },
  {
   "cell_type": "markdown",
   "metadata": {},
   "source": [
    "#### beluga cmds"
   ]
  },
  {
   "cell_type": "code",
   "execution_count": 8,
   "metadata": {},
   "outputs": [
    {
     "data": {
      "text/plain": [
       "14578"
      ]
     },
     "execution_count": 8,
     "metadata": {},
     "output_type": "execute_result"
    }
   ],
   "source": [
    "belugacmds = read(op.join(rsyncdir, 'beluga_rsync_cmds.txt'))\n",
    "len(belugacmds)"
   ]
  },
  {
   "cell_type": "code",
   "execution_count": 9,
   "metadata": {},
   "outputs": [
    {
     "data": {
      "text/plain": [
       "2890"
      ]
     },
     "execution_count": 9,
     "metadata": {},
     "output_type": "execute_result"
    }
   ],
   "source": [
    "bdicouts = [f for f in belugacmds if 'DIC.out' in f]\n",
    "len(bdicouts)"
   ]
  },
  {
   "cell_type": "code",
   "execution_count": 11,
   "metadata": {},
   "outputs": [
    {
     "data": {
      "text/plain": [
       "6418"
      ]
     },
     "execution_count": 11,
     "metadata": {},
     "output_type": "execute_result"
    }
   ],
   "source": [
    "rembelugacmds = read(op.join(rsyncdir, 'beluga_rem_rsync_cmds.txt'))\n",
    "len(rembelugacmds)"
   ]
  },
  {
   "cell_type": "code",
   "execution_count": 12,
   "metadata": {},
   "outputs": [
    {
     "data": {
      "text/plain": [
       "56"
      ]
     },
     "execution_count": 12,
     "metadata": {},
     "output_type": "execute_result"
    }
   ],
   "source": [
    "len(lview)"
   ]
  },
  {
   "cell_type": "code",
   "execution_count": 13,
   "metadata": {},
   "outputs": [
    {
     "name": "stderr",
     "output_type": "stream",
     "text": [
      "100%|██████████| 6418/6418 [00:04<00:00, 1318.92it/s]\n"
     ]
    },
    {
     "name": "stdout",
     "output_type": "stream",
     "text": [
      "\u001b[1m\n",
      "Watching 6418 jobs ...\u001b[0m\n"
     ]
    },
    {
     "name": "stderr",
     "output_type": "stream",
     "text": [
      "100%|██████████| 6418/6418 [39:34<00:00,  2.70it/s]  \n"
     ]
    },
    {
     "name": "stdout",
     "output_type": "stream",
     "text": [
      "len(badcmds) =  0\n"
     ]
    }
   ],
   "source": [
    "badcmds = submit_cmds(rembelugacmds)"
   ]
  },
  {
   "cell_type": "code",
   "execution_count": null,
   "metadata": {},
   "outputs": [],
   "source": []
  },
  {
   "cell_type": "code",
   "execution_count": 17,
   "metadata": {},
   "outputs": [
    {
     "name": "stdout",
     "output_type": "stream",
     "text": [
      "len(realfiles) =  41202\n",
      "len(expfiles) = 6418\n",
      "needed =  0\n",
      "needed_cmds =  0\n"
     ]
    }
   ],
   "source": [
    "needed = check_realfiles(rembelugacmds)"
   ]
  },
  {
   "cell_type": "code",
   "execution_count": null,
   "metadata": {},
   "outputs": [],
   "source": []
  },
  {
   "cell_type": "code",
   "execution_count": null,
   "metadata": {},
   "outputs": [],
   "source": []
  },
  {
   "cell_type": "code",
   "execution_count": null,
   "metadata": {},
   "outputs": [],
   "source": []
  },
  {
   "cell_type": "markdown",
   "metadata": {},
   "source": [
    "#### graham cmds"
   ]
  },
  {
   "cell_type": "code",
   "execution_count": 10,
   "metadata": {},
   "outputs": [
    {
     "data": {
      "text/plain": [
       "12209"
      ]
     },
     "execution_count": 10,
     "metadata": {},
     "output_type": "execute_result"
    }
   ],
   "source": [
    "gcmds = read(op.join(rsyncdir, 'graham_rsync_cmds.txt'))\n",
    "len(gcmds)"
   ]
  },
  {
   "cell_type": "code",
   "execution_count": 11,
   "metadata": {},
   "outputs": [
    {
     "data": {
      "text/plain": [
       "2421"
      ]
     },
     "execution_count": 11,
     "metadata": {},
     "output_type": "execute_result"
    }
   ],
   "source": [
    "gdicouts = [f for f in gcmds if 'DIC.out' in f]\n",
    "len(gdicouts)"
   ]
  },
  {
   "cell_type": "code",
   "execution_count": 12,
   "metadata": {},
   "outputs": [
    {
     "data": {
      "text/plain": [
       "(26787, 26787)"
      ]
     },
     "execution_count": 12,
     "metadata": {},
     "output_type": "execute_result"
    }
   ],
   "source": [
    "thecmds = [cmd for cmd in belugacmds + gcmds if '.out' in cmd or '.sh' in cmd]\n",
    "len(thecmds), len(belugacmds + gcmds)"
   ]
  },
  {
   "cell_type": "code",
   "execution_count": 13,
   "metadata": {},
   "outputs": [
    {
     "data": {
      "text/plain": [
       "26671"
      ]
     },
     "execution_count": 13,
     "metadata": {},
     "output_type": "execute_result"
    }
   ],
   "source": [
    "len([cmd for cmd in thecmds if cmd.endswith('.out')])"
   ]
  },
  {
   "cell_type": "code",
   "execution_count": 14,
   "metadata": {},
   "outputs": [
    {
     "name": "stdout",
     "output_type": "stream",
     "text": [
      "44 44\n"
     ]
    }
   ],
   "source": [
    "lview,dview = get_client()"
   ]
  },
  {
   "cell_type": "code",
   "execution_count": 15,
   "metadata": {},
   "outputs": [
    {
     "data": {
      "text/plain": [
       "(32, 26787)"
      ]
     },
     "execution_count": 15,
     "metadata": {},
     "output_type": "execute_result"
    }
   ],
   "source": [
    "rem = [cmd for cmd in thecmds if not op.exists(cmd.split()[-1])]\n",
    "len(rem), len(thecmds)"
   ]
  },
  {
   "cell_type": "code",
   "execution_count": 16,
   "metadata": {},
   "outputs": [
    {
     "name": "stderr",
     "output_type": "stream",
     "text": [
      "100%|██████████| 32/32 [00:00<00:00, 2078.77it/s]\n",
      "  0%|          | 0/32 [00:00<?, ?it/s]"
     ]
    },
    {
     "name": "stdout",
     "output_type": "stream",
     "text": [
      "\u001b[1m\n",
      "Watching 32 jobs ...\u001b[0m\n"
     ]
    },
    {
     "name": "stderr",
     "output_type": "stream",
     "text": [
      "100%|██████████| 32/32 [00:07<00:00,  4.40it/s]"
     ]
    },
    {
     "name": "stdout",
     "output_type": "stream",
     "text": [
      "len(badcmds) =  0\n"
     ]
    },
    {
     "name": "stderr",
     "output_type": "stream",
     "text": [
      "\n"
     ]
    }
   ],
   "source": [
    "# badcmds = submit_cmds(cmds + belugacmds + gcmds)\n",
    "# thecmds = [cmd for cmd in arccmds + gcmds if not 'individual_gfiles' in cmd]\n",
    "badcmds = submit_cmds(rem)"
   ]
  },
  {
   "cell_type": "code",
   "execution_count": 19,
   "metadata": {},
   "outputs": [
    {
     "name": "stderr",
     "output_type": "stream",
     "text": [
      "0it [00:00, ?it/s]"
     ]
    },
    {
     "name": "stdout",
     "output_type": "stream",
     "text": [
      "len(realfiles) =  36387\n",
      "len(expfiles) = 32\n",
      "reverse: =  36355\n",
      "needed =  0\n",
      "needed_cmds =  0\n"
     ]
    },
    {
     "name": "stderr",
     "output_type": "stream",
     "text": [
      "\n"
     ]
    }
   ],
   "source": [
    "needed,rev = check_realfiles(rem)"
   ]
  },
  {
   "cell_type": "code",
   "execution_count": 18,
   "metadata": {},
   "outputs": [
    {
     "name": "stderr",
     "output_type": "stream",
     "text": [
      "100%|██████████| 9/9 [00:00<00:00, 976.53it/s]\n",
      "  0%|          | 0/9 [00:00<?, ?it/s]"
     ]
    },
    {
     "name": "stdout",
     "output_type": "stream",
     "text": [
      "\u001b[1m\n",
      "Watching 9 jobs ...\u001b[0m\n"
     ]
    },
    {
     "name": "stderr",
     "output_type": "stream",
     "text": [
      "100%|██████████| 9/9 [00:01<00:00,  4.65it/s]"
     ]
    },
    {
     "name": "stdout",
     "output_type": "stream",
     "text": [
      "len(badcmds) =  0\n"
     ]
    },
    {
     "name": "stderr",
     "output_type": "stream",
     "text": [
      "\n"
     ]
    }
   ],
   "source": [
    "badcmds = submit_cmds(needed)"
   ]
  },
  {
   "cell_type": "markdown",
   "metadata": {},
   "source": [
    "#### remaining arc and beluga cmds - these are jobs that didn't finish or were missing"
   ]
  },
  {
   "cell_type": "code",
   "execution_count": null,
   "metadata": {},
   "outputs": [],
   "source": [
    "arccmds = read(op.join(rsyncdir, 'arc_rsync_cmds_remaining.txt'))\n",
    "len(arccmds)"
   ]
  },
  {
   "cell_type": "code",
   "execution_count": null,
   "metadata": {},
   "outputs": [],
   "source": [
    "belugacmds = read(op.join(rsyncdir, 'beluga_rsync_cmds_remaining.txt'))\n",
    "len(belugacmds)"
   ]
  },
  {
   "cell_type": "code",
   "execution_count": null,
   "metadata": {},
   "outputs": [],
   "source": [
    "allrem = arccmds + belugacmds\n",
    "len(allrem)"
   ]
  },
  {
   "cell_type": "code",
   "execution_count": null,
   "metadata": {},
   "outputs": [],
   "source": [
    "badcmds = submit_cmds(allrem)"
   ]
  },
  {
   "cell_type": "code",
   "execution_count": null,
   "metadata": {},
   "outputs": [],
   "source": [
    "needed = []\n",
    "for cmd in nb(allrem):\n",
    "    file = op.realpath(cmd.split()[-1])\n",
    "    if not op.exists(file):\n",
    "        needed.append(cmd)\n",
    "len(needed)"
   ]
  },
  {
   "cell_type": "markdown",
   "metadata": {},
   "source": [
    "#### newsnp cmds from graham"
   ]
  },
  {
   "cell_type": "code",
   "execution_count": 8,
   "metadata": {},
   "outputs": [
    {
     "data": {
      "text/plain": [
       "202"
      ]
     },
     "execution_count": 8,
     "metadata": {},
     "output_type": "execute_result"
    }
   ],
   "source": [
    "cmds = read('/data/projects/pool_seq/DF_datasets/DF_pooled_GEA/DF_pooled/snpsANDindels/coastal_variety/03_maf-p05_RD-recalculated_FDC/baypass/rsync_files/graham_new_rsync_cmds.txt')\n",
    "len(cmds)"
   ]
  },
  {
   "cell_type": "code",
   "execution_count": 9,
   "metadata": {},
   "outputs": [
    {
     "data": {
      "text/plain": [
       "'rsync -avz graham:/scratch/lindb/coastal/new_cmd_files/new_shfiles/batch_0000.sh /data/projects/pool_seq/DF_datasets/DF_pooled_GEA/DF_pooled/snpsANDindels/coastal_variety/03_maf-p05_RD-recalculated_FDC/baypass/cmd_files/new_shfiles/batch_0000.sh'"
      ]
     },
     "execution_count": 9,
     "metadata": {},
     "output_type": "execute_result"
    }
   ],
   "source": [
    "cmds[0]"
   ]
  },
  {
   "cell_type": "code",
   "execution_count": 65,
   "metadata": {},
   "outputs": [],
   "source": [
    "?check_realfiles"
   ]
  },
  {
   "cell_type": "code",
   "execution_count": 14,
   "metadata": {},
   "outputs": [],
   "source": [
    "newrundir = op.realpath('/lu213/brandon.lind/projects/pool_seq/DF_datasets/DF_pooled_GEA/DF_pooled/snpsANDindels/coastal_variety/03_maf-p05_RD-recalculated_FDC/baypass/cmd_files/run_02')\n",
    "newshdir = op.realpath('/lu213/brandon.lind/projects/pool_seq/DF_datasets/DF_pooled_GEA/DF_pooled/snpsANDindels/coastal_variety/03_maf-p05_RD-recalculated_FDC/baypass/cmd_files/new_shfiles')\n",
    "newgfiledir = op.realpath('/lu213/brandon.lind/projects/pool_seq/DF_datasets/DF_pooled_GEA/DF_pooled/snpsANDindels/coastal_variety/03_maf-p05_RD-recalculated_FDC/baypass/cmd_files/new_individual_gfiles')\n",
    "newresdir = op.realpath('/lu213/brandon.lind/projects/pool_seq/DF_datasets/DF_pooled_GEA/DF_pooled/snpsANDindels/coastal_variety/03_maf-p05_RD-recalculated_FDC/baypass/cmd_files/new_results')"
   ]
  },
  {
   "cell_type": "code",
   "execution_count": 67,
   "metadata": {},
   "outputs": [
    {
     "name": "stdout",
     "output_type": "stream",
     "text": [
      "len(realfiles) =  18\n",
      "len(expfiles) = 5\n",
      "needed =  4\n",
      "needed_cmds =  4\n"
     ]
    }
   ],
   "source": [
    "# make sure they don't exist (except for .sh file)\n",
    "needed,real,exp = check_realfiles(cmds, new=True)"
   ]
  },
  {
   "cell_type": "code",
   "execution_count": 18,
   "metadata": {},
   "outputs": [
    {
     "name": "stderr",
     "output_type": "stream",
     "text": [
      "100%|██████████| 5/5 [00:00<00:00, 1314.91it/s]\n"
     ]
    },
    {
     "name": "stdout",
     "output_type": "stream",
     "text": [
      "\u001b[1m\n",
      "Watching 5 jobs ...\u001b[0m\n"
     ]
    },
    {
     "name": "stderr",
     "output_type": "stream",
     "text": [
      "100%|██████████| 5/5 [00:00<00:00, 26.06it/s]"
     ]
    },
    {
     "name": "stdout",
     "output_type": "stream",
     "text": [
      "len(badcmds) =  0\n"
     ]
    },
    {
     "name": "stderr",
     "output_type": "stream",
     "text": [
      "\n"
     ]
    }
   ],
   "source": [
    "badcmds = submit_cmds(needed)"
   ]
  },
  {
   "cell_type": "code",
   "execution_count": 19,
   "metadata": {},
   "outputs": [
    {
     "name": "stdout",
     "output_type": "stream",
     "text": [
      "len(realfiles) =  219\n",
      "len(expfiles) = 202\n",
      "needed =  0\n",
      "needed_cmds =  0\n"
     ]
    }
   ],
   "source": [
    "needed = check_realfiles(cmds, new=True)"
   ]
  },
  {
   "cell_type": "code",
   "execution_count": null,
   "metadata": {},
   "outputs": [],
   "source": []
  },
  {
   "cell_type": "code",
   "execution_count": null,
   "metadata": {},
   "outputs": [],
   "source": []
  },
  {
   "cell_type": "code",
   "execution_count": null,
   "metadata": {},
   "outputs": [],
   "source": []
  },
  {
   "cell_type": "markdown",
   "metadata": {},
   "source": [
    "# check what needs to be done\n",
    "given the number of gfiles and chains, make sure all of the commands have been executed/transferred"
   ]
  },
  {
   "cell_type": "markdown",
   "metadata": {},
   "source": [
    "#### first check to make sure every sh file was exececuted (ie, check that each has a slurm .out file)"
   ]
  },
  {
   "cell_type": "code",
   "execution_count": 41,
   "metadata": {},
   "outputs": [
    {
     "data": {
      "text/plain": [
       "(161, 170)"
      ]
     },
     "execution_count": 41,
     "metadata": {},
     "output_type": "execute_result"
    }
   ],
   "source": [
    "# the the shfiles and out files\n",
    "shfiles = fs(shdir, endswith='.sh')\n",
    "outs = fs(shdir, endswith='.out')\n",
    "len(shfiles), len(outs)"
   ]
  },
  {
   "cell_type": "code",
   "execution_count": 42,
   "metadata": {
    "scrolled": true
   },
   "outputs": [],
   "source": [
    "# which sh files were not run, print out any that weren't run\n",
    "pairs = {}\n",
    "for sh in shfiles:\n",
    "    pairs[sh] = []\n",
    "    for out in outs:\n",
    "        if op.basename(sh).split(\".\")[0] in out:\n",
    "            pairs[sh].append(out)\n",
    "needed = []\n",
    "for sh,outfiles in pairs.items():\n",
    "    if len(outfiles) < 1:\n",
    "        print(sh, len(outfiles))\n",
    "        needed.append(sh)"
   ]
  },
  {
   "cell_type": "code",
   "execution_count": 22,
   "metadata": {},
   "outputs": [],
   "source": [
    "# go and run these jobs ^ on beluga"
   ]
  },
  {
   "cell_type": "markdown",
   "metadata": {},
   "source": [
    "#### go through catfiles and make sure all of the commands inside were run"
   ]
  },
  {
   "cell_type": "code",
   "execution_count": 43,
   "metadata": {},
   "outputs": [
    {
     "data": {
      "text/plain": [
       "'/lu213/brandon.lind/projects/pool_seq/DF_datasets/DF_pooled_GEA/DF_pooled/snpsANDindels/coastal_variety/03_maf-p05_RD-recalculated_FDC/baypass/cmd_files/results'"
      ]
     },
     "execution_count": 43,
     "metadata": {},
     "output_type": "execute_result"
    }
   ],
   "source": [
    "resdir"
   ]
  },
  {
   "cell_type": "code",
   "execution_count": 44,
   "metadata": {},
   "outputs": [
    {
     "data": {
      "text/plain": [
       "7690"
      ]
     },
     "execution_count": 44,
     "metadata": {},
     "output_type": "execute_result"
    }
   ],
   "source": [
    "# get one of the files for each of the commands that executed successfully (count the succesful cmds)\n",
    "resfiles = fs(resdir, endswith='DIC.out')\n",
    "len(resfiles)"
   ]
  },
  {
   "cell_type": "code",
   "execution_count": 45,
   "metadata": {},
   "outputs": [
    {
     "data": {
      "text/plain": [
       "161"
      ]
     },
     "execution_count": 45,
     "metadata": {},
     "output_type": "execute_result"
    }
   ],
   "source": [
    "# get the files with the baypass commands - this matches number of sh files (good)\n",
    "catfiles = fs(rundir, pattern='catfile')\n",
    "len(catfiles)"
   ]
  },
  {
   "cell_type": "code",
   "execution_count": 46,
   "metadata": {},
   "outputs": [
    {
     "name": "stderr",
     "output_type": "stream",
     "text": [
      "100%|██████████| 161/161 [00:41<00:00,  3.85it/s]\n"
     ]
    },
    {
     "data": {
      "text/plain": [
       "'coastal_all_snps_ADP-lt-1000_gfile_1537_chain_5'"
      ]
     },
     "execution_count": 46,
     "metadata": {},
     "output_type": "execute_result"
    }
   ],
   "source": [
    "# iterate through catfile commands and make sure there's a result for each\n",
    "found = {}  # map prefix to output file\n",
    "exe = {}  # map prefix to command used\n",
    "needed_catfiles = []\n",
    "catcount = Counter()\n",
    "cmdcats = {}  # map cmds to catfiles\n",
    "for cat in nb(catfiles):\n",
    "    # get the commands\n",
    "    cmds = read(cat)\n",
    "    \n",
    "    # assign prefixes (= num cmds) to their output\n",
    "    notfound = True\n",
    "    for cmd in cmds:\n",
    "        assert cmd not in cmdcats\n",
    "        cmdcats[cmd] = cat\n",
    "        prefix = cmd.split(\"-outprefix\")[1].split()[0]\n",
    "        assert prefix not in found and 'chain' in prefix\n",
    "        exe[prefix] = cmd\n",
    "        found[prefix] = []\n",
    "        for res in resfiles:\n",
    "            if prefix in op.basename(res):\n",
    "                found[prefix].append(res)\n",
    "        if len(found[prefix]) > 0:\n",
    "            notfound = False\n",
    "            catcount[cat] += 1\n",
    "    if notfound is True:\n",
    "        needed_catfiles.append(cat)\n",
    "            \n",
    "prefix"
   ]
  },
  {
   "cell_type": "code",
   "execution_count": 47,
   "metadata": {},
   "outputs": [
    {
     "data": {
      "text/plain": [
       "0"
      ]
     },
     "execution_count": 47,
     "metadata": {},
     "output_type": "execute_result"
    }
   ],
   "source": [
    "len(needed_catfiles)"
   ]
  },
  {
   "cell_type": "code",
   "execution_count": 48,
   "metadata": {},
   "outputs": [
    {
     "data": {
      "text/plain": [
       "Counter({48: 160, 10: 1})"
      ]
     },
     "execution_count": 48,
     "metadata": {},
     "output_type": "execute_result"
    }
   ],
   "source": [
    "Counter(catcount.values())"
   ]
  },
  {
   "cell_type": "code",
   "execution_count": 49,
   "metadata": {},
   "outputs": [
    {
     "data": {
      "text/plain": [
       "[]"
      ]
     },
     "execution_count": 49,
     "metadata": {},
     "output_type": "execute_result"
    }
   ],
   "source": [
    "needed_catfiles"
   ]
  },
  {
   "cell_type": "code",
   "execution_count": 50,
   "metadata": {},
   "outputs": [
    {
     "data": {
      "text/plain": [
       "0"
      ]
     },
     "execution_count": 50,
     "metadata": {},
     "output_type": "execute_result"
    }
   ],
   "source": [
    "# figure out which prefixes have zero output (and need to be reran) or cmds with >1 output (impossible...)\n",
    "needed_cmds = []\n",
    "for prefix,reslist in found.items():\n",
    "    if len(reslist) == 0:\n",
    "        needed_cmds.append(exe[prefix])  # get the cmd that needs to be executed\n",
    "    elif len(reslist) > 1:\n",
    "        print('\\n', prefix, len(reslist))  # this shouldn't be possible, check anyway, print if so\n",
    "len(needed_cmds)"
   ]
  },
  {
   "cell_type": "code",
   "execution_count": 51,
   "metadata": {},
   "outputs": [],
   "source": [
    "cats = []\n",
    "for cmd in needed_cmds:\n",
    "    cats.append(cmdcats[cmd])"
   ]
  },
  {
   "cell_type": "code",
   "execution_count": 52,
   "metadata": {},
   "outputs": [
    {
     "data": {
      "text/plain": [
       "0"
      ]
     },
     "execution_count": 52,
     "metadata": {},
     "output_type": "execute_result"
    }
   ],
   "source": [
    "luni(cats)"
   ]
  },
  {
   "cell_type": "code",
   "execution_count": 41,
   "metadata": {},
   "outputs": [
    {
     "name": "stdout",
     "output_type": "stream",
     "text": [
      "/lu213/brandon.lind/projects/pool_seq/DF_datasets/DF_pooled_GEA/DF_pooled/snpsANDindels/coastal_variety/03_maf-p05_RD-recalculated_FDC/baypass/cmd_files/run_01/catfile_0113.txt 33\n",
      "/lu213/brandon.lind/projects/pool_seq/DF_datasets/DF_pooled_GEA/DF_pooled/snpsANDindels/coastal_variety/03_maf-p05_RD-recalculated_FDC/baypass/cmd_files/run_01/catfile_0114.txt 41\n",
      "/lu213/brandon.lind/projects/pool_seq/DF_datasets/DF_pooled_GEA/DF_pooled/snpsANDindels/coastal_variety/03_maf-p05_RD-recalculated_FDC/baypass/cmd_files/run_01/catfile_0115.txt 38\n",
      "/lu213/brandon.lind/projects/pool_seq/DF_datasets/DF_pooled_GEA/DF_pooled/snpsANDindels/coastal_variety/03_maf-p05_RD-recalculated_FDC/baypass/cmd_files/run_01/catfile_0116.txt 38\n",
      "/lu213/brandon.lind/projects/pool_seq/DF_datasets/DF_pooled_GEA/DF_pooled/snpsANDindels/coastal_variety/03_maf-p05_RD-recalculated_FDC/baypass/cmd_files/run_01/catfile_0118.txt 40\n",
      "/lu213/brandon.lind/projects/pool_seq/DF_datasets/DF_pooled_GEA/DF_pooled/snpsANDindels/coastal_variety/03_maf-p05_RD-recalculated_FDC/baypass/cmd_files/run_01/catfile_0119.txt 41\n",
      "/lu213/brandon.lind/projects/pool_seq/DF_datasets/DF_pooled_GEA/DF_pooled/snpsANDindels/coastal_variety/03_maf-p05_RD-recalculated_FDC/baypass/cmd_files/run_01/catfile_0120.txt 36\n",
      "/lu213/brandon.lind/projects/pool_seq/DF_datasets/DF_pooled_GEA/DF_pooled/snpsANDindels/coastal_variety/03_maf-p05_RD-recalculated_FDC/baypass/cmd_files/run_01/catfile_0121.txt 42\n"
     ]
    }
   ],
   "source": [
    "for cat in suni(cats):\n",
    "    print(cat, catcount[cat])"
   ]
  },
  {
   "cell_type": "markdown",
   "metadata": {},
   "source": [
    "#### these cmds didn't execute first round"
   ]
  },
  {
   "cell_type": "code",
   "execution_count": 42,
   "metadata": {},
   "outputs": [
    {
     "name": "stdout",
     "output_type": "stream",
     "text": [
      "47 48 /lu213/brandon.lind/projects/pool_seq/DF_datasets/DF_pooled_GEA/DF_pooled/snpsANDindels/coastal_variety/03_maf-p05_RD-recalculated_FDC/baypass/cmd_files/run_remaining/remaining_catfile_0.txt\n",
      "74 27 /lu213/brandon.lind/projects/pool_seq/DF_datasets/DF_pooled_GEA/DF_pooled/snpsANDindels/coastal_variety/03_maf-p05_RD-recalculated_FDC/baypass/cmd_files/run_remaining/remaining_catfile_1.txt\n"
     ]
    },
    {
     "data": {
      "text/plain": [
       "'/lu213/brandon.lind/projects/pool_seq/DF_datasets/DF_pooled_GEA/DF_pooled/snpsANDindels/coastal_variety/03_maf-p05_RD-recalculated_FDC/baypass/cmd_files/run_remaining/remaining_catfile_1.txt'"
      ]
     },
     "execution_count": 42,
     "metadata": {},
     "output_type": "execute_result"
    }
   ],
   "source": [
    "# create catfiles with the remaining commands\n",
    "rundir = makedir(op.join(cmddir, 'run_remaining'))\n",
    "towrite = []\n",
    "newfiles = []\n",
    "for i,cmd in enumerate(needed_cmds):\n",
    "    towrite.append(cmd)\n",
    "    if len(towrite) == 48 or (i+1) == len(needed_cmds):\n",
    "        file = op.join(rundir, 'remaining_catfile_%s.txt' % str(len(newfiles)))\n",
    "        print(i, len(towrite), file)\n",
    "        newfiles.append(file)\n",
    "        with open(file, 'w') as o:\n",
    "            o.write(\"%s\" % '\\n'.join(towrite))\n",
    "        towrite = []\n",
    "file"
   ]
  },
  {
   "cell_type": "code",
   "execution_count": 43,
   "metadata": {},
   "outputs": [
    {
     "name": "stdout",
     "output_type": "stream",
     "text": [
      "48 remaining_catfile_0.txt\n",
      "27 remaining_catfile_1.txt\n"
     ]
    }
   ],
   "source": [
    "for f in newfiles:\n",
    "    print(len(read(f)), op.basename(f))"
   ]
  },
  {
   "cell_type": "code",
   "execution_count": 44,
   "metadata": {},
   "outputs": [
    {
     "name": "stdout",
     "output_type": "stream",
     "text": [
      "rsync -azv /lu213/brandon.lind/projects/pool_seq/DF_datasets/DF_pooled_GEA/DF_pooled/snpsANDindels/coastal_variety/03_maf-p05_RD-recalculated_FDC/baypass/cmd_files/run_remaining/remaining_catfile_0.txt cedar:/home/lindb/scratch/coastal/cmd_files/run_remaining/remaining_catfile_0.txt\n",
      "rsync -azv /lu213/brandon.lind/projects/pool_seq/DF_datasets/DF_pooled_GEA/DF_pooled/snpsANDindels/coastal_variety/03_maf-p05_RD-recalculated_FDC/baypass/cmd_files/run_remaining/remaining_catfile_1.txt cedar:/home/lindb/scratch/coastal/cmd_files/run_remaining/remaining_catfile_1.txt\n"
     ]
    }
   ],
   "source": [
    "# print rsync cmds to execute in command line\n",
    "for f in newfiles:\n",
    "    print(f'rsync -azv {f} cedar:/home/lindb/scratch/coastal/cmd_files/run_remaining/{op.basename(f)}')"
   ]
  },
  {
   "cell_type": "code",
   "execution_count": 68,
   "metadata": {},
   "outputs": [
    {
     "name": "stdout",
     "output_type": "stream",
     "text": [
      "scp /lu213/brandon.lind/projects/pool_seq/DF_datasets/DF_pooled_GEA/DF_pooled/snpsANDindels/coastal_variety/03_maf-p05_RD-recalculated_FDC/baypass/cmd_files/run_remaining/remaining_0.sh cedar:/home/lindb/scratch/coastal/cmd_files/run_remaining\n",
      "scp /lu213/brandon.lind/projects/pool_seq/DF_datasets/DF_pooled_GEA/DF_pooled/snpsANDindels/coastal_variety/03_maf-p05_RD-recalculated_FDC/baypass/cmd_files/run_remaining/remaining_1.sh cedar:/home/lindb/scratch/coastal/cmd_files/run_remaining\n"
     ]
    }
   ],
   "source": [
    "# create slurm.sh files for leftover commands\n",
    "cdir = '/home/lindb/scratch/coastal/cmd_files/run_remaining'\n",
    "for f in newfiles:\n",
    "    cfile = op.join(cdir, op.basename(f))\n",
    "    num = op.basename(f).split(\"_\")[-1].split(\".\")[0]\n",
    "    text = f'''#!/bin/bash\n",
    "#SBATCH --job-name=remaining_{num}\n",
    "#SBATCH --time=2-00:00:00\n",
    "#SBATCH --nodes=1\n",
    "#SBATCH --ntasks=1\n",
    "#SBATCH --mem-per-cpu=25\n",
    "#SBATCH --cpus-per-task=48\n",
    "#SBATCH --output=remaining_{num}_%j.out\n",
    "#SBATCH --mail-user=lindb@vcu.edu\n",
    "#SBATCH --mail-type=FAIL\n",
    "\n",
    "export PATH=\"${{PATH}}:/project/def-saitken/programs/baypass_2.2/sources\"\n",
    "\n",
    "cd /scratch/lindb/coastal/cmd_files/results\n",
    "\n",
    "cat {cfile} | parallel -j 48 --progress\n",
    "\n",
    "source $HOME/py3/bin/activate\n",
    "cd $HOME/pipeline\n",
    "python balance_queue.py lindb /home/lindb\n",
    "'''\n",
    "    shfile = op.join(rundir, f'remaining_{num}.sh')\n",
    "    print(f'scp {shfile} cedar:/home/lindb/scratch/coastal/cmd_files/run_remaining')\n",
    "    with open(shfile, 'w') as o:\n",
    "        o.write(\"%s\" % text)"
   ]
  },
  {
   "cell_type": "code",
   "execution_count": null,
   "metadata": {},
   "outputs": [],
   "source": [
    "# scp to cedar and run"
   ]
  },
  {
   "cell_type": "markdown",
   "metadata": {},
   "source": [
    " "
   ]
  },
  {
   "cell_type": "markdown",
   "metadata": {},
   "source": [
    " "
   ]
  },
  {
   "cell_type": "markdown",
   "metadata": {},
   "source": [
    "# gather all of the wanted resfiles and concat into single dataframes\n",
    "\n",
    "gather the files with BF, label SNP IDs, label environmental covariables, and concat into single dataframe"
   ]
  },
  {
   "cell_type": "markdown",
   "metadata": {},
   "source": [
    "#### first get SNPs that were in the origal SNPs \n",
    "\n",
    "These gfiles were created before we got the updated softmasked reference. Not all of these are still SNPs, some are now REPEATs"
   ]
  },
  {
   "cell_type": "code",
   "execution_count": null,
   "metadata": {},
   "outputs": [],
   "source": [
    "# restart notebook"
   ]
  },
  {
   "cell_type": "code",
   "execution_count": 4,
   "metadata": {},
   "outputs": [
    {
     "name": "stdout",
     "output_type": "stream",
     "text": [
      "43 43\n"
     ]
    }
   ],
   "source": [
    "lview,dview = get_client()"
   ]
  },
  {
   "cell_type": "code",
   "execution_count": 5,
   "metadata": {
    "scrolled": true
   },
   "outputs": [
    {
     "data": {
      "text/plain": [
       "(7690, 7690)"
      ]
     },
     "execution_count": 5,
     "metadata": {},
     "output_type": "execute_result"
    }
   ],
   "source": [
    "bffiles = fs(resdir, endswith='betai_reg.out')\n",
    "xtxfiles = fs(resdir, endswith='pi_xtx.out')\n",
    "len(bffiles), len(xtxfiles)"
   ]
  },
  {
   "cell_type": "code",
   "execution_count": 6,
   "metadata": {},
   "outputs": [
    {
     "data": {
      "text/html": [
       "<div>\n",
       "<style scoped>\n",
       "    .dataframe tbody tr th:only-of-type {\n",
       "        vertical-align: middle;\n",
       "    }\n",
       "\n",
       "    .dataframe tbody tr th {\n",
       "        vertical-align: top;\n",
       "    }\n",
       "\n",
       "    .dataframe thead th {\n",
       "        text-align: right;\n",
       "    }\n",
       "</style>\n",
       "<table border=\"1\" class=\"dataframe\">\n",
       "  <thead>\n",
       "    <tr style=\"text-align: right;\">\n",
       "      <th></th>\n",
       "      <th>COVARIABLE</th>\n",
       "      <th>MRK</th>\n",
       "      <th>M_Pearson</th>\n",
       "      <th>SD_Pearson</th>\n",
       "      <th>BF(dB)</th>\n",
       "      <th>Beta_is</th>\n",
       "      <th>SD_Beta_is</th>\n",
       "      <th>eBPis</th>\n",
       "    </tr>\n",
       "  </thead>\n",
       "  <tbody>\n",
       "    <tr>\n",
       "      <th>0</th>\n",
       "      <td>1</td>\n",
       "      <td>1</td>\n",
       "      <td>0.030380</td>\n",
       "      <td>0.150714</td>\n",
       "      <td>-8.422483</td>\n",
       "      <td>0.002297</td>\n",
       "      <td>0.012573</td>\n",
       "      <td>0.068009</td>\n",
       "    </tr>\n",
       "    <tr>\n",
       "      <th>1</th>\n",
       "      <td>1</td>\n",
       "      <td>2</td>\n",
       "      <td>0.083643</td>\n",
       "      <td>0.141793</td>\n",
       "      <td>-7.080080</td>\n",
       "      <td>0.006720</td>\n",
       "      <td>0.011477</td>\n",
       "      <td>0.253198</td>\n",
       "    </tr>\n",
       "    <tr>\n",
       "      <th>2</th>\n",
       "      <td>1</td>\n",
       "      <td>3</td>\n",
       "      <td>-0.011462</td>\n",
       "      <td>0.156535</td>\n",
       "      <td>-11.379507</td>\n",
       "      <td>-0.001112</td>\n",
       "      <td>0.007223</td>\n",
       "      <td>0.056671</td>\n",
       "    </tr>\n",
       "    <tr>\n",
       "      <th>3</th>\n",
       "      <td>1</td>\n",
       "      <td>4</td>\n",
       "      <td>-0.097044</td>\n",
       "      <td>0.124009</td>\n",
       "      <td>-11.050299</td>\n",
       "      <td>-0.005155</td>\n",
       "      <td>0.007332</td>\n",
       "      <td>0.316950</td>\n",
       "    </tr>\n",
       "    <tr>\n",
       "      <th>4</th>\n",
       "      <td>1</td>\n",
       "      <td>5</td>\n",
       "      <td>0.025869</td>\n",
       "      <td>0.145066</td>\n",
       "      <td>-11.300727</td>\n",
       "      <td>0.001124</td>\n",
       "      <td>0.008051</td>\n",
       "      <td>0.051126</td>\n",
       "    </tr>\n",
       "  </tbody>\n",
       "</table>\n",
       "</div>"
      ],
      "text/plain": [
       "   COVARIABLE  MRK  M_Pearson  SD_Pearson     BF(dB)   Beta_is  SD_Beta_is  \\\n",
       "0           1    1   0.030380    0.150714  -8.422483  0.002297    0.012573   \n",
       "1           1    2   0.083643    0.141793  -7.080080  0.006720    0.011477   \n",
       "2           1    3  -0.011462    0.156535 -11.379507 -0.001112    0.007223   \n",
       "3           1    4  -0.097044    0.124009 -11.050299 -0.005155    0.007332   \n",
       "4           1    5   0.025869    0.145066 -11.300727  0.001124    0.008051   \n",
       "\n",
       "      eBPis  \n",
       "0  0.068009  \n",
       "1  0.253198  \n",
       "2  0.056671  \n",
       "3  0.316950  \n",
       "4  0.051126  "
      ]
     },
     "execution_count": 6,
     "metadata": {},
     "output_type": "execute_result"
    }
   ],
   "source": [
    "bf = pd.read_table(bffiles[0], delim_whitespace=True)\n",
    "bf.head()"
   ]
  },
  {
   "cell_type": "code",
   "execution_count": 7,
   "metadata": {},
   "outputs": [
    {
     "data": {
      "text/html": [
       "<div>\n",
       "<style scoped>\n",
       "    .dataframe tbody tr th:only-of-type {\n",
       "        vertical-align: middle;\n",
       "    }\n",
       "\n",
       "    .dataframe tbody tr th {\n",
       "        vertical-align: top;\n",
       "    }\n",
       "\n",
       "    .dataframe thead th {\n",
       "        text-align: right;\n",
       "    }\n",
       "</style>\n",
       "<table border=\"1\" class=\"dataframe\">\n",
       "  <thead>\n",
       "    <tr style=\"text-align: right;\">\n",
       "      <th></th>\n",
       "      <th>MRK</th>\n",
       "      <th>M_P</th>\n",
       "      <th>SD_P</th>\n",
       "      <th>M_XtX</th>\n",
       "      <th>SD_XtX</th>\n",
       "      <th>XtXst</th>\n",
       "      <th>log10(1/pval)</th>\n",
       "    </tr>\n",
       "  </thead>\n",
       "  <tbody>\n",
       "    <tr>\n",
       "      <th>0</th>\n",
       "      <td>1</td>\n",
       "      <td>0.898686</td>\n",
       "      <td>0.063788</td>\n",
       "      <td>38.186459</td>\n",
       "      <td>8.547612</td>\n",
       "      <td>29.143439</td>\n",
       "      <td>0.087171</td>\n",
       "    </tr>\n",
       "    <tr>\n",
       "      <th>1</th>\n",
       "      <td>2</td>\n",
       "      <td>0.906177</td>\n",
       "      <td>0.055326</td>\n",
       "      <td>37.996246</td>\n",
       "      <td>8.488336</td>\n",
       "      <td>33.489468</td>\n",
       "      <td>0.197635</td>\n",
       "    </tr>\n",
       "    <tr>\n",
       "      <th>2</th>\n",
       "      <td>3</td>\n",
       "      <td>0.969151</td>\n",
       "      <td>0.025090</td>\n",
       "      <td>35.623686</td>\n",
       "      <td>8.392927</td>\n",
       "      <td>15.339147</td>\n",
       "      <td>0.000277</td>\n",
       "    </tr>\n",
       "    <tr>\n",
       "      <th>3</th>\n",
       "      <td>4</td>\n",
       "      <td>0.957474</td>\n",
       "      <td>0.044406</td>\n",
       "      <td>36.263510</td>\n",
       "      <td>8.341104</td>\n",
       "      <td>45.262135</td>\n",
       "      <td>0.781979</td>\n",
       "    </tr>\n",
       "    <tr>\n",
       "      <th>4</th>\n",
       "      <td>5</td>\n",
       "      <td>0.954015</td>\n",
       "      <td>0.024726</td>\n",
       "      <td>35.999887</td>\n",
       "      <td>8.420881</td>\n",
       "      <td>29.581775</td>\n",
       "      <td>0.095814</td>\n",
       "    </tr>\n",
       "  </tbody>\n",
       "</table>\n",
       "</div>"
      ],
      "text/plain": [
       "   MRK       M_P      SD_P      M_XtX    SD_XtX      XtXst  log10(1/pval)\n",
       "0    1  0.898686  0.063788  38.186459  8.547612  29.143439       0.087171\n",
       "1    2  0.906177  0.055326  37.996246  8.488336  33.489468       0.197635\n",
       "2    3  0.969151  0.025090  35.623686  8.392927  15.339147       0.000277\n",
       "3    4  0.957474  0.044406  36.263510  8.341104  45.262135       0.781979\n",
       "4    5  0.954015  0.024726  35.999887  8.420881  29.581775       0.095814"
      ]
     },
     "execution_count": 7,
     "metadata": {},
     "output_type": "execute_result"
    }
   ],
   "source": [
    "xtx = pd.read_table(xtxfiles[0], delim_whitespace=True)\n",
    "xtx.head()"
   ]
  },
  {
   "cell_type": "code",
   "execution_count": 9,
   "metadata": {},
   "outputs": [],
   "source": [
    "def label_snps(resfile):\n",
    "    \"\"\"Label baypass resfiles with SNP ID using pkl files saved in 002_kickoff.\"\"\"\n",
    "    import os\n",
    "    import pandas\n",
    "    # find the gfile associated with resfile\n",
    "    prefix = os.path.basename(resfile).split(\"_chain\")[0]\n",
    "    chain = \"chain_%s\" % os.path.basename(resfile).split(prefix)[1].split(\"_\")[2]\n",
    "    \n",
    "    # get the pkl file that has the ordered list of SNP IDs for the gfile\n",
    "    if 'new' in resfile:\n",
    "        newgfile_dir = os.path.dirname(resfile).replace(\"new_results\", \"new_individual_gfiles\")\n",
    "        pklfile = os.path.join(newgfile_dir, f'{prefix}_noheaderidx.pkl')\n",
    "    else:\n",
    "        pklfile = os.path.join(gfile_dir, f'{prefix}_noheaderidx.pkl')\n",
    "    gloci = pklload(pklfile)  # read in rows with SNPIDs, but only one column\n",
    "    \n",
    "    # read in the resfile\n",
    "    df = pandas.read_table(resfile, delim_whitespace=True)\n",
    "    \n",
    "    # map MRK column (SNP index) to locus name\n",
    "    gdict = dict((num+1, locus) for num,locus in enumerate(gloci))\n",
    "    \n",
    "    # map covariable column to environment ID\n",
    "    edict = dict((num+1, env) for num,env in enumerate(efile.index))\n",
    "    \n",
    "    # split each covariable (env) in to its own file, label index with SNP ID\n",
    "    df['env'] = df['COVARIABLE'].map(edict)\n",
    "    envdfs = {chain:{}}\n",
    "    for env in uni(df['env']):\n",
    "        envdfs[chain][env] = df[df['env']==env].copy()\n",
    "        envdfs[chain][env].index = envdfs[chain][env]['MRK'].map(gdict)\n",
    "        envdfs[chain][env].index.names = ['']\n",
    "\n",
    "    return envdfs\n",
    "\n",
    "efile = pd.read_table(op.join(baydir, 'coastal_efile_std_HEADERIDX.txt'), index_col=0, usecols=[0,1])\n",
    "dview['efile'] = efile\n",
    "dview['uni'] = uni\n",
    "dview['gfile_dir'] = gfile_dir\n",
    "dview['pklload'] = pklload"
   ]
  },
  {
   "cell_type": "code",
   "execution_count": 31,
   "metadata": {},
   "outputs": [
    {
     "name": "stdout",
     "output_type": "stream",
     "text": [
      "\u001b[1m\n",
      "Watching 7690 jobs ...\u001b[0m\n"
     ]
    },
    {
     "name": "stderr",
     "output_type": "stream",
     "text": [
      "100%|██████████| 7690/7690 [00:09<00:00, 804.56it/s] \n"
     ]
    }
   ],
   "source": [
    "# label SNP IDs in parallel\n",
    "jobs = []\n",
    "for bffile in nb(bffiles):\n",
    "    jobs.append(lview.apply_async(label_snps, bffile))\n",
    "watch_async(jobs)"
   ]
  },
  {
   "cell_type": "code",
   "execution_count": 32,
   "metadata": {},
   "outputs": [
    {
     "name": "stderr",
     "output_type": "stream",
     "text": [
      "100%|██████████| 7690/7690 [00:00<00:00, 21292.09it/s]\n"
     ]
    },
    {
     "data": {
      "text/plain": [
       "['chain_1', 'chain_2', 'chain_3', 'chain_4', 'chain_5']"
      ]
     },
     "execution_count": 32,
     "metadata": {},
     "output_type": "execute_result"
    }
   ],
   "source": [
    "# gather output by environment\n",
    "envlist = {}\n",
    "for j in nb(jobs):\n",
    "    if j.ready():\n",
    "        chain = keys(j.r)[0]\n",
    "        if chain not in envlist:\n",
    "            envlist[chain] = {}\n",
    "        for env in j.r[chain]:\n",
    "            if env not in envlist[chain]:\n",
    "                envlist[chain][env] = []\n",
    "            envlist[chain][env].append(j.r[chain][env])\n",
    "keys(envlist)"
   ]
  },
  {
   "cell_type": "code",
   "execution_count": 33,
   "metadata": {
    "scrolled": true
   },
   "outputs": [
    {
     "name": "stderr",
     "output_type": "stream",
     "text": [
      "chain_1: 100%|██████████| 19/19 [00:11<00:00,  1.61it/s]\n",
      "chain_2: 100%|██████████| 19/19 [00:10<00:00,  1.87it/s]\n",
      "chain_3: 100%|██████████| 19/19 [00:11<00:00,  1.64it/s]\n",
      "chain_4: 100%|██████████| 19/19 [00:11<00:00,  1.60it/s]\n",
      "chain_5: 100%|██████████| 19/19 [00:10<00:00,  1.82it/s]"
     ]
    },
    {
     "name": "stdout",
     "output_type": "stream",
     "text": [
      "\u001b[1mchain_1\u001b[0m\n",
      "\t FFP 2305827\n",
      "\t Eref 2305827\n",
      "\t SHM 2305827\n",
      "\t PAS 2305827\n",
      "\t MAT 2305827\n",
      "\t EMT 2305827\n",
      "\t bFFP 2305827\n",
      "\t DD5 2305827\n",
      "\t NFFD 2305827\n",
      "\t MCMT 2305827\n",
      "\t MWMT 2305827\n",
      "\t DD_0 2305827\n",
      "\t EXT 2305827\n",
      "\t eFFP 2305827\n",
      "\t MSP 2305827\n",
      "\t AHM 2305827\n",
      "\t CMD 2305827\n",
      "\t MAP 2305827\n",
      "\t TD 2305827\n",
      "\u001b[1mchain_2\u001b[0m\n",
      "\t FFP 2305827\n",
      "\t MAP 2305827\n",
      "\t CMD 2305827\n",
      "\t TD 2305827\n",
      "\t MWMT 2305827\n",
      "\t Eref 2305827\n",
      "\t SHM 2305827\n",
      "\t AHM 2305827\n",
      "\t MCMT 2305827\n",
      "\t PAS 2305827\n",
      "\t bFFP 2305827\n",
      "\t eFFP 2305827\n",
      "\t DD5 2305827\n",
      "\t EXT 2305827\n",
      "\t DD_0 2305827\n",
      "\t MAT 2305827\n",
      "\t MSP 2305827\n",
      "\t EMT 2305827\n",
      "\t NFFD 2305827\n",
      "\u001b[1mchain_3\u001b[0m\n",
      "\t bFFP 2305827\n",
      "\t EMT 2305827\n",
      "\t TD 2305827\n",
      "\t NFFD 2305827\n",
      "\t CMD 2305827\n",
      "\t MWMT 2305827\n",
      "\t MAP 2305827\n",
      "\t SHM 2305827\n",
      "\t DD_0 2305827\n",
      "\t FFP 2305827\n",
      "\t MAT 2305827\n",
      "\t MSP 2305827\n",
      "\t eFFP 2305827\n",
      "\t MCMT 2305827\n",
      "\t Eref 2305827\n",
      "\t EXT 2305827\n",
      "\t PAS 2305827\n",
      "\t DD5 2305827\n",
      "\t AHM 2305827\n",
      "\u001b[1mchain_4\u001b[0m\n",
      "\t CMD 2305827\n",
      "\t AHM 2305827\n",
      "\t EXT 2305827\n",
      "\t DD5 2305827\n",
      "\t bFFP 2305827\n",
      "\t PAS 2305827\n",
      "\t SHM 2305827\n",
      "\t EMT 2305827\n",
      "\t DD_0 2305827\n",
      "\t MWMT 2305827\n",
      "\t Eref 2305827\n",
      "\t eFFP 2305827\n",
      "\t MSP 2305827\n",
      "\t MCMT 2305827\n",
      "\t MAT 2305827\n",
      "\t TD 2305827\n",
      "\t MAP 2305827\n",
      "\t NFFD 2305827\n",
      "\t FFP 2305827\n",
      "\u001b[1mchain_5\u001b[0m\n",
      "\t MAP 2305827\n",
      "\t FFP 2305827\n",
      "\t PAS 2305827\n",
      "\t MWMT 2305827\n",
      "\t Eref 2305827\n",
      "\t DD_0 2305827\n",
      "\t DD5 2305827\n",
      "\t EXT 2305827\n",
      "\t SHM 2305827\n",
      "\t CMD 2305827\n",
      "\t EMT 2305827\n",
      "\t MCMT 2305827\n",
      "\t MAT 2305827\n",
      "\t NFFD 2305827\n",
      "\t TD 2305827\n",
      "\t AHM 2305827\n",
      "\t MSP 2305827\n",
      "\t bFFP 2305827\n",
      "\t eFFP 2305827\n"
     ]
    },
    {
     "name": "stderr",
     "output_type": "stream",
     "text": [
      "\n"
     ]
    }
   ],
   "source": [
    "# concatenate environmental output by each chain, print out num snps for each env for each chain\n",
    "chaindfs = {}\n",
    "for chain,envs in envlist.items():\n",
    "    assert len(envs) == 19\n",
    "    if chain not in chaindfs:\n",
    "        chaindfs[chain] = {}\n",
    "    for env,dfs in nb(envs.items(), desc=chain):\n",
    "        if env not in chaindfs[chain]:\n",
    "            chaindfs[chain][env] = pd.concat(dfs)\n",
    "        else:\n",
    "            print('crap ', chain, env)\n",
    "for chain in chaindfs:\n",
    "    print(ColorText(chain).bold())\n",
    "    for env in chaindfs[chain]:\n",
    "        print('\\t',env, nrow(chaindfs[chain][env]))"
   ]
  },
  {
   "cell_type": "code",
   "execution_count": 34,
   "metadata": {
    "scrolled": true
   },
   "outputs": [
    {
     "name": "stderr",
     "output_type": "stream",
     "text": [
      "chain_1: 100%|██████████| 19/19 [00:11<00:00,  1.69it/s]\n",
      "chain_2: 100%|██████████| 19/19 [00:09<00:00,  1.99it/s]\n",
      "chain_3: 100%|██████████| 19/19 [00:11<00:00,  1.63it/s]\n",
      "chain_4: 100%|██████████| 19/19 [00:09<00:00,  1.96it/s]\n",
      "chain_5: 100%|██████████| 19/19 [00:11<00:00,  1.71it/s]\n",
      "combo: 100%|██████████| 19/19 [03:24<00:00, 10.75s/it]\n"
     ]
    },
    {
     "data": {
      "text/html": [
       "<div>\n",
       "<style scoped>\n",
       "    .dataframe tbody tr th:only-of-type {\n",
       "        vertical-align: middle;\n",
       "    }\n",
       "\n",
       "    .dataframe tbody tr th {\n",
       "        vertical-align: top;\n",
       "    }\n",
       "\n",
       "    .dataframe thead th {\n",
       "        text-align: right;\n",
       "    }\n",
       "</style>\n",
       "<table border=\"1\" class=\"dataframe\">\n",
       "  <thead>\n",
       "    <tr style=\"text-align: right;\">\n",
       "      <th></th>\n",
       "      <th>chain_1-COVARIABLE</th>\n",
       "      <th>chain_1-MRK</th>\n",
       "      <th>chain_1-M_Pearson</th>\n",
       "      <th>chain_1-SD_Pearson</th>\n",
       "      <th>chain_1-BF(dB)</th>\n",
       "      <th>chain_1-Beta_is</th>\n",
       "      <th>chain_1-SD_Beta_is</th>\n",
       "      <th>chain_1-eBPis</th>\n",
       "      <th>chain_1-env</th>\n",
       "      <th>chain_2-COVARIABLE</th>\n",
       "      <th>chain_2-MRK</th>\n",
       "      <th>chain_2-M_Pearson</th>\n",
       "      <th>chain_2-SD_Pearson</th>\n",
       "      <th>chain_2-BF(dB)</th>\n",
       "      <th>chain_2-Beta_is</th>\n",
       "      <th>chain_2-SD_Beta_is</th>\n",
       "      <th>chain_2-eBPis</th>\n",
       "      <th>chain_2-env</th>\n",
       "      <th>chain_3-COVARIABLE</th>\n",
       "      <th>chain_3-MRK</th>\n",
       "      <th>chain_3-M_Pearson</th>\n",
       "      <th>chain_3-SD_Pearson</th>\n",
       "      <th>chain_3-BF(dB)</th>\n",
       "      <th>chain_3-Beta_is</th>\n",
       "      <th>chain_3-SD_Beta_is</th>\n",
       "      <th>chain_3-eBPis</th>\n",
       "      <th>chain_3-env</th>\n",
       "      <th>chain_4-COVARIABLE</th>\n",
       "      <th>chain_4-MRK</th>\n",
       "      <th>chain_4-M_Pearson</th>\n",
       "      <th>chain_4-SD_Pearson</th>\n",
       "      <th>chain_4-BF(dB)</th>\n",
       "      <th>chain_4-Beta_is</th>\n",
       "      <th>chain_4-SD_Beta_is</th>\n",
       "      <th>chain_4-eBPis</th>\n",
       "      <th>chain_4-env</th>\n",
       "      <th>chain_5-COVARIABLE</th>\n",
       "      <th>chain_5-MRK</th>\n",
       "      <th>chain_5-M_Pearson</th>\n",
       "      <th>chain_5-SD_Pearson</th>\n",
       "      <th>chain_5-BF(dB)</th>\n",
       "      <th>chain_5-Beta_is</th>\n",
       "      <th>chain_5-SD_Beta_is</th>\n",
       "      <th>chain_5-eBPis</th>\n",
       "      <th>chain_5-env</th>\n",
       "    </tr>\n",
       "    <tr>\n",
       "      <th></th>\n",
       "      <th></th>\n",
       "      <th></th>\n",
       "      <th></th>\n",
       "      <th></th>\n",
       "      <th></th>\n",
       "      <th></th>\n",
       "      <th></th>\n",
       "      <th></th>\n",
       "      <th></th>\n",
       "      <th></th>\n",
       "      <th></th>\n",
       "      <th></th>\n",
       "      <th></th>\n",
       "      <th></th>\n",
       "      <th></th>\n",
       "      <th></th>\n",
       "      <th></th>\n",
       "      <th></th>\n",
       "      <th></th>\n",
       "      <th></th>\n",
       "      <th></th>\n",
       "      <th></th>\n",
       "      <th></th>\n",
       "      <th></th>\n",
       "      <th></th>\n",
       "      <th></th>\n",
       "      <th></th>\n",
       "      <th></th>\n",
       "      <th></th>\n",
       "      <th></th>\n",
       "      <th></th>\n",
       "      <th></th>\n",
       "      <th></th>\n",
       "      <th></th>\n",
       "      <th></th>\n",
       "      <th></th>\n",
       "      <th></th>\n",
       "      <th></th>\n",
       "      <th></th>\n",
       "      <th></th>\n",
       "      <th></th>\n",
       "      <th></th>\n",
       "      <th></th>\n",
       "      <th></th>\n",
       "      <th></th>\n",
       "    </tr>\n",
       "  </thead>\n",
       "  <tbody>\n",
       "    <tr>\n",
       "      <th>jcf7190000000000-77738</th>\n",
       "      <td>4</td>\n",
       "      <td>1</td>\n",
       "      <td>0.052606</td>\n",
       "      <td>0.139252</td>\n",
       "      <td>-8.509406</td>\n",
       "      <td>0.004511</td>\n",
       "      <td>0.012685</td>\n",
       "      <td>0.141382</td>\n",
       "      <td>TD</td>\n",
       "      <td>4</td>\n",
       "      <td>1</td>\n",
       "      <td>0.047391</td>\n",
       "      <td>0.139289</td>\n",
       "      <td>-9.269721</td>\n",
       "      <td>0.003929</td>\n",
       "      <td>0.011932</td>\n",
       "      <td>0.129636</td>\n",
       "      <td>TD</td>\n",
       "      <td>4</td>\n",
       "      <td>1</td>\n",
       "      <td>0.054793</td>\n",
       "      <td>0.141939</td>\n",
       "      <td>-7.948701</td>\n",
       "      <td>0.004884</td>\n",
       "      <td>0.012312</td>\n",
       "      <td>0.160125</td>\n",
       "      <td>TD</td>\n",
       "      <td>4</td>\n",
       "      <td>1</td>\n",
       "      <td>0.040790</td>\n",
       "      <td>0.143065</td>\n",
       "      <td>-8.247926</td>\n",
       "      <td>0.003447</td>\n",
       "      <td>0.012262</td>\n",
       "      <td>0.108679</td>\n",
       "      <td>TD</td>\n",
       "      <td>4</td>\n",
       "      <td>1</td>\n",
       "      <td>0.044477</td>\n",
       "      <td>0.136319</td>\n",
       "      <td>-9.383110</td>\n",
       "      <td>0.003829</td>\n",
       "      <td>0.012267</td>\n",
       "      <td>0.122097</td>\n",
       "      <td>TD</td>\n",
       "    </tr>\n",
       "    <tr>\n",
       "      <th>jcf7190000000000-77764</th>\n",
       "      <td>4</td>\n",
       "      <td>2</td>\n",
       "      <td>0.055272</td>\n",
       "      <td>0.149463</td>\n",
       "      <td>-8.537988</td>\n",
       "      <td>0.004356</td>\n",
       "      <td>0.013015</td>\n",
       "      <td>0.132021</td>\n",
       "      <td>TD</td>\n",
       "      <td>4</td>\n",
       "      <td>2</td>\n",
       "      <td>0.079474</td>\n",
       "      <td>0.145473</td>\n",
       "      <td>-8.024145</td>\n",
       "      <td>0.006985</td>\n",
       "      <td>0.013533</td>\n",
       "      <td>0.217692</td>\n",
       "      <td>TD</td>\n",
       "      <td>4</td>\n",
       "      <td>2</td>\n",
       "      <td>0.077141</td>\n",
       "      <td>0.125644</td>\n",
       "      <td>-8.818893</td>\n",
       "      <td>0.006700</td>\n",
       "      <td>0.011436</td>\n",
       "      <td>0.253422</td>\n",
       "      <td>TD</td>\n",
       "      <td>4</td>\n",
       "      <td>2</td>\n",
       "      <td>0.055892</td>\n",
       "      <td>0.140073</td>\n",
       "      <td>-8.688561</td>\n",
       "      <td>0.004729</td>\n",
       "      <td>0.013162</td>\n",
       "      <td>0.143030</td>\n",
       "      <td>TD</td>\n",
       "      <td>4</td>\n",
       "      <td>2</td>\n",
       "      <td>0.070906</td>\n",
       "      <td>0.138991</td>\n",
       "      <td>-8.601899</td>\n",
       "      <td>0.005808</td>\n",
       "      <td>0.011649</td>\n",
       "      <td>0.208963</td>\n",
       "      <td>TD</td>\n",
       "    </tr>\n",
       "    <tr>\n",
       "      <th>jcf7190000000004-54418</th>\n",
       "      <td>4</td>\n",
       "      <td>3</td>\n",
       "      <td>0.022225</td>\n",
       "      <td>0.155169</td>\n",
       "      <td>-11.121776</td>\n",
       "      <td>0.001822</td>\n",
       "      <td>0.007886</td>\n",
       "      <td>0.087604</td>\n",
       "      <td>TD</td>\n",
       "      <td>4</td>\n",
       "      <td>3</td>\n",
       "      <td>0.018410</td>\n",
       "      <td>0.151466</td>\n",
       "      <td>-11.649164</td>\n",
       "      <td>0.001445</td>\n",
       "      <td>0.007233</td>\n",
       "      <td>0.074889</td>\n",
       "      <td>TD</td>\n",
       "      <td>4</td>\n",
       "      <td>3</td>\n",
       "      <td>0.025411</td>\n",
       "      <td>0.152883</td>\n",
       "      <td>-11.195197</td>\n",
       "      <td>0.001824</td>\n",
       "      <td>0.007524</td>\n",
       "      <td>0.092361</td>\n",
       "      <td>TD</td>\n",
       "      <td>4</td>\n",
       "      <td>3</td>\n",
       "      <td>0.029393</td>\n",
       "      <td>0.155451</td>\n",
       "      <td>-10.883782</td>\n",
       "      <td>0.002118</td>\n",
       "      <td>0.007755</td>\n",
       "      <td>0.105274</td>\n",
       "      <td>TD</td>\n",
       "      <td>4</td>\n",
       "      <td>3</td>\n",
       "      <td>0.020913</td>\n",
       "      <td>0.155163</td>\n",
       "      <td>-8.300746</td>\n",
       "      <td>0.001655</td>\n",
       "      <td>0.007495</td>\n",
       "      <td>0.083397</td>\n",
       "      <td>TD</td>\n",
       "    </tr>\n",
       "    <tr>\n",
       "      <th>jcf7190000000004-54508</th>\n",
       "      <td>4</td>\n",
       "      <td>4</td>\n",
       "      <td>0.160345</td>\n",
       "      <td>0.119940</td>\n",
       "      <td>-8.376227</td>\n",
       "      <td>0.009439</td>\n",
       "      <td>0.008651</td>\n",
       "      <td>0.560282</td>\n",
       "      <td>TD</td>\n",
       "      <td>4</td>\n",
       "      <td>4</td>\n",
       "      <td>0.153904</td>\n",
       "      <td>0.119523</td>\n",
       "      <td>-8.345275</td>\n",
       "      <td>0.008835</td>\n",
       "      <td>0.008046</td>\n",
       "      <td>0.565179</td>\n",
       "      <td>TD</td>\n",
       "      <td>4</td>\n",
       "      <td>4</td>\n",
       "      <td>0.158885</td>\n",
       "      <td>0.116715</td>\n",
       "      <td>-8.996210</td>\n",
       "      <td>0.008835</td>\n",
       "      <td>0.007458</td>\n",
       "      <td>0.626842</td>\n",
       "      <td>TD</td>\n",
       "      <td>4</td>\n",
       "      <td>4</td>\n",
       "      <td>0.178100</td>\n",
       "      <td>0.123841</td>\n",
       "      <td>-7.792464</td>\n",
       "      <td>0.010440</td>\n",
       "      <td>0.009024</td>\n",
       "      <td>0.606771</td>\n",
       "      <td>TD</td>\n",
       "      <td>4</td>\n",
       "      <td>4</td>\n",
       "      <td>0.162778</td>\n",
       "      <td>0.115872</td>\n",
       "      <td>-8.616263</td>\n",
       "      <td>0.009363</td>\n",
       "      <td>0.008113</td>\n",
       "      <td>0.604681</td>\n",
       "      <td>TD</td>\n",
       "    </tr>\n",
       "    <tr>\n",
       "      <th>jcf7190000000004-54540</th>\n",
       "      <td>4</td>\n",
       "      <td>5</td>\n",
       "      <td>-0.152640</td>\n",
       "      <td>0.141437</td>\n",
       "      <td>-6.963774</td>\n",
       "      <td>-0.008843</td>\n",
       "      <td>0.008903</td>\n",
       "      <td>0.494021</td>\n",
       "      <td>TD</td>\n",
       "      <td>4</td>\n",
       "      <td>5</td>\n",
       "      <td>-0.139895</td>\n",
       "      <td>0.137734</td>\n",
       "      <td>-7.349303</td>\n",
       "      <td>-0.007856</td>\n",
       "      <td>0.008444</td>\n",
       "      <td>0.453218</td>\n",
       "      <td>TD</td>\n",
       "      <td>4</td>\n",
       "      <td>5</td>\n",
       "      <td>-0.147504</td>\n",
       "      <td>0.142572</td>\n",
       "      <td>-6.728656</td>\n",
       "      <td>-0.008443</td>\n",
       "      <td>0.008913</td>\n",
       "      <td>0.464098</td>\n",
       "      <td>TD</td>\n",
       "      <td>4</td>\n",
       "      <td>5</td>\n",
       "      <td>-0.146215</td>\n",
       "      <td>0.139645</td>\n",
       "      <td>-6.483963</td>\n",
       "      <td>-0.008384</td>\n",
       "      <td>0.008727</td>\n",
       "      <td>0.472768</td>\n",
       "      <td>TD</td>\n",
       "      <td>4</td>\n",
       "      <td>5</td>\n",
       "      <td>-0.135771</td>\n",
       "      <td>0.141118</td>\n",
       "      <td>-6.958119</td>\n",
       "      <td>-0.007717</td>\n",
       "      <td>0.008917</td>\n",
       "      <td>0.412503</td>\n",
       "      <td>TD</td>\n",
       "    </tr>\n",
       "  </tbody>\n",
       "</table>\n",
       "</div>"
      ],
      "text/plain": [
       "                        chain_1-COVARIABLE  chain_1-MRK  chain_1-M_Pearson  \\\n",
       "                                                                             \n",
       "jcf7190000000000-77738                   4            1           0.052606   \n",
       "jcf7190000000000-77764                   4            2           0.055272   \n",
       "jcf7190000000004-54418                   4            3           0.022225   \n",
       "jcf7190000000004-54508                   4            4           0.160345   \n",
       "jcf7190000000004-54540                   4            5          -0.152640   \n",
       "\n",
       "                        chain_1-SD_Pearson  chain_1-BF(dB)  chain_1-Beta_is  \\\n",
       "                                                                              \n",
       "jcf7190000000000-77738            0.139252       -8.509406         0.004511   \n",
       "jcf7190000000000-77764            0.149463       -8.537988         0.004356   \n",
       "jcf7190000000004-54418            0.155169      -11.121776         0.001822   \n",
       "jcf7190000000004-54508            0.119940       -8.376227         0.009439   \n",
       "jcf7190000000004-54540            0.141437       -6.963774        -0.008843   \n",
       "\n",
       "                        chain_1-SD_Beta_is  chain_1-eBPis chain_1-env  \\\n",
       "                                                                        \n",
       "jcf7190000000000-77738            0.012685       0.141382          TD   \n",
       "jcf7190000000000-77764            0.013015       0.132021          TD   \n",
       "jcf7190000000004-54418            0.007886       0.087604          TD   \n",
       "jcf7190000000004-54508            0.008651       0.560282          TD   \n",
       "jcf7190000000004-54540            0.008903       0.494021          TD   \n",
       "\n",
       "                        chain_2-COVARIABLE  chain_2-MRK  chain_2-M_Pearson  \\\n",
       "                                                                             \n",
       "jcf7190000000000-77738                   4            1           0.047391   \n",
       "jcf7190000000000-77764                   4            2           0.079474   \n",
       "jcf7190000000004-54418                   4            3           0.018410   \n",
       "jcf7190000000004-54508                   4            4           0.153904   \n",
       "jcf7190000000004-54540                   4            5          -0.139895   \n",
       "\n",
       "                        chain_2-SD_Pearson  chain_2-BF(dB)  chain_2-Beta_is  \\\n",
       "                                                                              \n",
       "jcf7190000000000-77738            0.139289       -9.269721         0.003929   \n",
       "jcf7190000000000-77764            0.145473       -8.024145         0.006985   \n",
       "jcf7190000000004-54418            0.151466      -11.649164         0.001445   \n",
       "jcf7190000000004-54508            0.119523       -8.345275         0.008835   \n",
       "jcf7190000000004-54540            0.137734       -7.349303        -0.007856   \n",
       "\n",
       "                        chain_2-SD_Beta_is  chain_2-eBPis chain_2-env  \\\n",
       "                                                                        \n",
       "jcf7190000000000-77738            0.011932       0.129636          TD   \n",
       "jcf7190000000000-77764            0.013533       0.217692          TD   \n",
       "jcf7190000000004-54418            0.007233       0.074889          TD   \n",
       "jcf7190000000004-54508            0.008046       0.565179          TD   \n",
       "jcf7190000000004-54540            0.008444       0.453218          TD   \n",
       "\n",
       "                        chain_3-COVARIABLE  chain_3-MRK  chain_3-M_Pearson  \\\n",
       "                                                                             \n",
       "jcf7190000000000-77738                   4            1           0.054793   \n",
       "jcf7190000000000-77764                   4            2           0.077141   \n",
       "jcf7190000000004-54418                   4            3           0.025411   \n",
       "jcf7190000000004-54508                   4            4           0.158885   \n",
       "jcf7190000000004-54540                   4            5          -0.147504   \n",
       "\n",
       "                        chain_3-SD_Pearson  chain_3-BF(dB)  chain_3-Beta_is  \\\n",
       "                                                                              \n",
       "jcf7190000000000-77738            0.141939       -7.948701         0.004884   \n",
       "jcf7190000000000-77764            0.125644       -8.818893         0.006700   \n",
       "jcf7190000000004-54418            0.152883      -11.195197         0.001824   \n",
       "jcf7190000000004-54508            0.116715       -8.996210         0.008835   \n",
       "jcf7190000000004-54540            0.142572       -6.728656        -0.008443   \n",
       "\n",
       "                        chain_3-SD_Beta_is  chain_3-eBPis chain_3-env  \\\n",
       "                                                                        \n",
       "jcf7190000000000-77738            0.012312       0.160125          TD   \n",
       "jcf7190000000000-77764            0.011436       0.253422          TD   \n",
       "jcf7190000000004-54418            0.007524       0.092361          TD   \n",
       "jcf7190000000004-54508            0.007458       0.626842          TD   \n",
       "jcf7190000000004-54540            0.008913       0.464098          TD   \n",
       "\n",
       "                        chain_4-COVARIABLE  chain_4-MRK  chain_4-M_Pearson  \\\n",
       "                                                                             \n",
       "jcf7190000000000-77738                   4            1           0.040790   \n",
       "jcf7190000000000-77764                   4            2           0.055892   \n",
       "jcf7190000000004-54418                   4            3           0.029393   \n",
       "jcf7190000000004-54508                   4            4           0.178100   \n",
       "jcf7190000000004-54540                   4            5          -0.146215   \n",
       "\n",
       "                        chain_4-SD_Pearson  chain_4-BF(dB)  chain_4-Beta_is  \\\n",
       "                                                                              \n",
       "jcf7190000000000-77738            0.143065       -8.247926         0.003447   \n",
       "jcf7190000000000-77764            0.140073       -8.688561         0.004729   \n",
       "jcf7190000000004-54418            0.155451      -10.883782         0.002118   \n",
       "jcf7190000000004-54508            0.123841       -7.792464         0.010440   \n",
       "jcf7190000000004-54540            0.139645       -6.483963        -0.008384   \n",
       "\n",
       "                        chain_4-SD_Beta_is  chain_4-eBPis chain_4-env  \\\n",
       "                                                                        \n",
       "jcf7190000000000-77738            0.012262       0.108679          TD   \n",
       "jcf7190000000000-77764            0.013162       0.143030          TD   \n",
       "jcf7190000000004-54418            0.007755       0.105274          TD   \n",
       "jcf7190000000004-54508            0.009024       0.606771          TD   \n",
       "jcf7190000000004-54540            0.008727       0.472768          TD   \n",
       "\n",
       "                        chain_5-COVARIABLE  chain_5-MRK  chain_5-M_Pearson  \\\n",
       "                                                                             \n",
       "jcf7190000000000-77738                   4            1           0.044477   \n",
       "jcf7190000000000-77764                   4            2           0.070906   \n",
       "jcf7190000000004-54418                   4            3           0.020913   \n",
       "jcf7190000000004-54508                   4            4           0.162778   \n",
       "jcf7190000000004-54540                   4            5          -0.135771   \n",
       "\n",
       "                        chain_5-SD_Pearson  chain_5-BF(dB)  chain_5-Beta_is  \\\n",
       "                                                                              \n",
       "jcf7190000000000-77738            0.136319       -9.383110         0.003829   \n",
       "jcf7190000000000-77764            0.138991       -8.601899         0.005808   \n",
       "jcf7190000000004-54418            0.155163       -8.300746         0.001655   \n",
       "jcf7190000000004-54508            0.115872       -8.616263         0.009363   \n",
       "jcf7190000000004-54540            0.141118       -6.958119        -0.007717   \n",
       "\n",
       "                        chain_5-SD_Beta_is  chain_5-eBPis chain_5-env  \n",
       "                                                                       \n",
       "jcf7190000000000-77738            0.012267       0.122097          TD  \n",
       "jcf7190000000000-77764            0.011649       0.208963          TD  \n",
       "jcf7190000000004-54418            0.007495       0.083397          TD  \n",
       "jcf7190000000004-54508            0.008113       0.604681          TD  \n",
       "jcf7190000000004-54540            0.008917       0.412503          TD  "
      ]
     },
     "execution_count": 34,
     "metadata": {},
     "output_type": "execute_result"
    }
   ],
   "source": [
    "# concatenate environmental output by each env, combine chains into single df\n",
    "dflst = {}\n",
    "for chain,envs in envlist.items():\n",
    "    for env,dfs in nb(envs.items(), desc=chain):\n",
    "        if env not in dflst:\n",
    "            dflst[env] = []\n",
    "        df = pd.concat(dfs)\n",
    "        df.columns = [f\"{chain}-{col}\" for col in df.columns]\n",
    "        dflst[env].append(df)\n",
    "# combine chains for each env - should have done this in parallel\n",
    "envdfs = {}\n",
    "for env,lst in nb(dflst.items(), desc='combo'):\n",
    "    assert len(lst) == 5\n",
    "    df = pd.merge(lst[0], lst[1], left_index=True, right_index=True)\n",
    "    df2 = pd.merge(lst[2], lst[3], left_index=True, right_index=True)\n",
    "    df3 = pd.merge(df, df2, left_index=True, right_index=True)\n",
    "    envdfs[env] = pd.merge(df3, lst[4], left_index=True, right_index=True)\n",
    "    \n",
    "    \n",
    "envdfs[env].head()           "
   ]
  },
  {
   "cell_type": "code",
   "execution_count": 36,
   "metadata": {},
   "outputs": [
    {
     "name": "stderr",
     "output_type": "stream",
     "text": [
      "100%|██████████| 1538/1538 [00:12<00:00, 125.63it/s]\n"
     ]
    },
    {
     "data": {
      "text/plain": [
       "2305827"
      ]
     },
     "execution_count": 36,
     "metadata": {},
     "output_type": "execute_result"
    }
   ],
   "source": [
    "# how many SNPs should be in each env file?\n",
    "# read in each of the gfiles and sum rows\n",
    "rows = 0\n",
    "for gfile in nb(fs(gfile_dir, pattern='noheaderidx.txt')):\n",
    "    df = pd.read_table(gfile, usecols=[0], header=None)\n",
    "    rows += nrow(df)\n",
    "rows"
   ]
  },
  {
   "cell_type": "code",
   "execution_count": 37,
   "metadata": {
    "scrolled": false
   },
   "outputs": [
    {
     "name": "stdout",
     "output_type": "stream",
     "text": [
      "\u001b[1mFFP\u001b[0m\n",
      "\t FFP 2305827\n",
      "\u001b[1mEref\u001b[0m\n",
      "\t Eref 2305827\n",
      "\u001b[1mSHM\u001b[0m\n",
      "\t SHM 2305827\n",
      "\u001b[1mPAS\u001b[0m\n",
      "\t PAS 2305827\n",
      "\u001b[1mMAT\u001b[0m\n",
      "\t MAT 2305827\n",
      "\u001b[1mEMT\u001b[0m\n",
      "\t EMT 2305827\n",
      "\u001b[1mbFFP\u001b[0m\n",
      "\t bFFP 2305827\n",
      "\u001b[1mDD5\u001b[0m\n",
      "\t DD5 2305827\n",
      "\u001b[1mNFFD\u001b[0m\n",
      "\t NFFD 2305827\n",
      "\u001b[1mMCMT\u001b[0m\n",
      "\t MCMT 2305827\n",
      "\u001b[1mMWMT\u001b[0m\n",
      "\t MWMT 2305827\n",
      "\u001b[1mDD_0\u001b[0m\n",
      "\t DD_0 2305827\n",
      "\u001b[1mEXT\u001b[0m\n",
      "\t EXT 2305827\n",
      "\u001b[1meFFP\u001b[0m\n",
      "\t eFFP 2305827\n",
      "\u001b[1mMSP\u001b[0m\n",
      "\t MSP 2305827\n",
      "\u001b[1mAHM\u001b[0m\n",
      "\t AHM 2305827\n",
      "\u001b[1mCMD\u001b[0m\n",
      "\t CMD 2305827\n",
      "\u001b[1mMAP\u001b[0m\n",
      "\t MAP 2305827\n",
      "\u001b[1mTD\u001b[0m\n",
      "\t TD 2305827\n"
     ]
    }
   ],
   "source": [
    "# assert each env has the expected number of rows (SNPs)\n",
    "for env in envdfs:\n",
    "    print(ColorText(env).bold())\n",
    "    print('\\t',env, nrow(envdfs[env]))\n",
    "    if nrow(envdfs[env]) != rows:\n",
    "        print(ColorText('CRAAAAAAAAAP').fail().bold())"
   ]
  },
  {
   "cell_type": "code",
   "execution_count": 38,
   "metadata": {},
   "outputs": [],
   "source": [
    "# release some RAM\n",
    "del dflst, chaindfs, df, df2, df3, dfs, envlist, jobs"
   ]
  },
  {
   "cell_type": "markdown",
   "metadata": {},
   "source": [
    "# Remove newREPEATS and add newSNPs\n",
    "\n",
    "after baypass was kicked off, we received an updated softmasked reference and some of the previous SNPs turned into REPEATS and some of the previous REPEATS turned into SNPs. From the baypass output, remove newREPEATS and add newSNPs"
   ]
  },
  {
   "cell_type": "markdown",
   "metadata": {},
   "source": [
    "#### add newSNPs"
   ]
  },
  {
   "cell_type": "code",
   "execution_count": 39,
   "metadata": {},
   "outputs": [
    {
     "data": {
      "text/plain": [
       "'/lu213/brandon.lind/projects/pool_seq/DF_datasets/DF_pooled_GEA/DF_pooled/snpsANDindels/coastal_variety/03_maf-p05_RD-recalculated_FDC/baypass/cmd_files/new_results'"
      ]
     },
     "execution_count": 39,
     "metadata": {},
     "output_type": "execute_result"
    }
   ],
   "source": [
    "newresdir = op.join(cmddir, 'new_results')\n",
    "newresdir"
   ]
  },
  {
   "cell_type": "code",
   "execution_count": 40,
   "metadata": {},
   "outputs": [
    {
     "data": {
      "text/plain": [
       "(40, 40)"
      ]
     },
     "execution_count": 40,
     "metadata": {},
     "output_type": "execute_result"
    }
   ],
   "source": [
    "newbffiles = fs(newresdir, endswith='betai_reg.out')\n",
    "newxtxfiles = fs(newresdir, endswith='pi_xtx.out')\n",
    "len(newbffiles), len(newxtxfiles)"
   ]
  },
  {
   "cell_type": "code",
   "execution_count": 41,
   "metadata": {},
   "outputs": [
    {
     "name": "stderr",
     "output_type": "stream",
     "text": [
      "100%|██████████| 40/40 [00:00<00:00, 1419.91it/s]\n"
     ]
    },
    {
     "name": "stdout",
     "output_type": "stream",
     "text": [
      "\u001b[1m\n",
      "Watching 40 jobs ...\u001b[0m\n"
     ]
    },
    {
     "name": "stderr",
     "output_type": "stream",
     "text": [
      "100%|██████████| 40/40 [00:00<00:00, 193956.25it/s]\n"
     ]
    }
   ],
   "source": [
    "jobs = []\n",
    "for bffile in nb(newbffiles):\n",
    "    jobs.append(lview.apply_async(label_snps, bffile))\n",
    "watch_async(jobs)"
   ]
  },
  {
   "cell_type": "code",
   "execution_count": 42,
   "metadata": {},
   "outputs": [
    {
     "name": "stderr",
     "output_type": "stream",
     "text": [
      "100%|██████████| 40/40 [00:00<00:00, 15460.02it/s]\n"
     ]
    },
    {
     "data": {
      "text/plain": [
       "['chain_1', 'chain_2', 'chain_3', 'chain_4', 'chain_5']"
      ]
     },
     "execution_count": 42,
     "metadata": {},
     "output_type": "execute_result"
    }
   ],
   "source": [
    "# gather output by environment\n",
    "newenvlist = {}\n",
    "for j in nb(jobs):\n",
    "    assert len(keys(j.r)) == 1\n",
    "    chain = keys(j.r)[0]\n",
    "    if chain not in newenvlist:\n",
    "        newenvlist[chain] = {}\n",
    "    for env in j.r[chain]:\n",
    "        if env not in newenvlist[chain]:\n",
    "            newenvlist[chain][env] = []\n",
    "        newenvlist[chain][env].append(j.r[chain][env])\n",
    "keys(newenvlist)"
   ]
  },
  {
   "cell_type": "code",
   "execution_count": 43,
   "metadata": {},
   "outputs": [
    {
     "name": "stderr",
     "output_type": "stream",
     "text": [
      "chain_1: 100%|██████████| 19/19 [00:00<00:00, 577.70it/s]\n",
      "chain_2: 100%|██████████| 19/19 [00:00<00:00, 577.26it/s]\n",
      "chain_3: 100%|██████████| 19/19 [00:00<00:00, 591.64it/s]\n",
      "chain_4: 100%|██████████| 19/19 [00:00<00:00, 527.60it/s]\n",
      "chain_5: 100%|██████████| 19/19 [00:00<00:00, 578.46it/s]"
     ]
    },
    {
     "name": "stdout",
     "output_type": "stream",
     "text": [
      "\u001b[1mchain_1\u001b[0m\n",
      "\t FFP 1924\n",
      "\t SHM 1924\n",
      "\t PAS 1924\n",
      "\t Eref 1924\n",
      "\t MAP 1924\n",
      "\t MSP 1924\n",
      "\t MAT 1924\n",
      "\t TD 1924\n",
      "\t DD5 1924\n",
      "\t eFFP 1924\n",
      "\t NFFD 1924\n",
      "\t EMT 1924\n",
      "\t MWMT 1924\n",
      "\t EXT 1924\n",
      "\t bFFP 1924\n",
      "\t AHM 1924\n",
      "\t CMD 1924\n",
      "\t MCMT 1924\n",
      "\t DD_0 1924\n",
      "\u001b[1mchain_2\u001b[0m\n",
      "\t FFP 1924\n",
      "\t EMT 1924\n",
      "\t AHM 1924\n",
      "\t DD_0 1924\n",
      "\t Eref 1924\n",
      "\t eFFP 1924\n",
      "\t EXT 1924\n",
      "\t MAT 1924\n",
      "\t MSP 1924\n",
      "\t NFFD 1924\n",
      "\t SHM 1924\n",
      "\t MCMT 1924\n",
      "\t CMD 1924\n",
      "\t TD 1924\n",
      "\t DD5 1924\n",
      "\t MAP 1924\n",
      "\t MWMT 1924\n",
      "\t bFFP 1924\n",
      "\t PAS 1924\n",
      "\u001b[1mchain_3\u001b[0m\n",
      "\t MAP 1924\n",
      "\t bFFP 1924\n",
      "\t PAS 1924\n",
      "\t TD 1924\n",
      "\t Eref 1924\n",
      "\t SHM 1924\n",
      "\t DD5 1924\n",
      "\t MSP 1924\n",
      "\t eFFP 1924\n",
      "\t MCMT 1924\n",
      "\t AHM 1924\n",
      "\t MWMT 1924\n",
      "\t EXT 1924\n",
      "\t CMD 1924\n",
      "\t MAT 1924\n",
      "\t EMT 1924\n",
      "\t DD_0 1924\n",
      "\t NFFD 1924\n",
      "\t FFP 1924\n",
      "\u001b[1mchain_4\u001b[0m\n",
      "\t MCMT 1924\n",
      "\t EMT 1924\n",
      "\t MAT 1924\n",
      "\t PAS 1924\n",
      "\t NFFD 1924\n",
      "\t FFP 1924\n",
      "\t MWMT 1924\n",
      "\t CMD 1924\n",
      "\t DD5 1924\n",
      "\t DD_0 1924\n",
      "\t TD 1924\n",
      "\t MSP 1924\n",
      "\t AHM 1924\n",
      "\t eFFP 1924\n",
      "\t SHM 1924\n",
      "\t Eref 1924\n",
      "\t MAP 1924\n",
      "\t bFFP 1924\n",
      "\t EXT 1924\n",
      "\u001b[1mchain_5\u001b[0m\n",
      "\t CMD 1924\n",
      "\t DD5 1924\n",
      "\t FFP 1924\n",
      "\t MAP 1924\n",
      "\t MAT 1924\n",
      "\t AHM 1924\n",
      "\t DD_0 1924\n",
      "\t SHM 1924\n",
      "\t MCMT 1924\n",
      "\t bFFP 1924\n",
      "\t TD 1924\n",
      "\t EXT 1924\n",
      "\t NFFD 1924\n",
      "\t PAS 1924\n",
      "\t Eref 1924\n",
      "\t EMT 1924\n",
      "\t eFFP 1924\n",
      "\t MSP 1924\n",
      "\t MWMT 1924\n"
     ]
    },
    {
     "name": "stderr",
     "output_type": "stream",
     "text": [
      "\n"
     ]
    }
   ],
   "source": [
    "# concatenate environmental output by each chain, print out num snps for each env for each chain\n",
    "newchaindfs = {}\n",
    "for chain,envs in newenvlist.items():\n",
    "    assert len(envs) == 19\n",
    "    if chain not in newchaindfs:\n",
    "        newchaindfs[chain] = {}\n",
    "    for env,dfs in nb(envs.items(), desc=chain):\n",
    "        if env not in newchaindfs[chain]:\n",
    "            newchaindfs[chain][env] = pd.concat(dfs)\n",
    "        else:\n",
    "            print('crap ', chain, env)\n",
    "for chain in newchaindfs:\n",
    "    print(ColorText(chain).bold())\n",
    "    for env in newchaindfs[chain]:\n",
    "        print('\\t',env, nrow(newchaindfs[chain][env]))"
   ]
  },
  {
   "cell_type": "code",
   "execution_count": 44,
   "metadata": {},
   "outputs": [
    {
     "name": "stderr",
     "output_type": "stream",
     "text": [
      "chain_1: 100%|██████████| 19/19 [00:00<00:00, 558.90it/s]\n",
      "chain_2: 100%|██████████| 19/19 [00:00<00:00, 627.14it/s]\n",
      "chain_3: 100%|██████████| 19/19 [00:00<00:00, 630.77it/s]\n",
      "chain_4: 100%|██████████| 19/19 [00:00<00:00, 611.85it/s]\n",
      "chain_5: 100%|██████████| 19/19 [00:00<00:00, 610.72it/s]\n",
      "combo: 100%|██████████| 19/19 [00:00<00:00, 45.68it/s]\n"
     ]
    },
    {
     "data": {
      "text/html": [
       "<div>\n",
       "<style scoped>\n",
       "    .dataframe tbody tr th:only-of-type {\n",
       "        vertical-align: middle;\n",
       "    }\n",
       "\n",
       "    .dataframe tbody tr th {\n",
       "        vertical-align: top;\n",
       "    }\n",
       "\n",
       "    .dataframe thead th {\n",
       "        text-align: right;\n",
       "    }\n",
       "</style>\n",
       "<table border=\"1\" class=\"dataframe\">\n",
       "  <thead>\n",
       "    <tr style=\"text-align: right;\">\n",
       "      <th></th>\n",
       "      <th>chain_1-COVARIABLE</th>\n",
       "      <th>chain_1-MRK</th>\n",
       "      <th>chain_1-M_Pearson</th>\n",
       "      <th>chain_1-SD_Pearson</th>\n",
       "      <th>chain_1-BF(dB)</th>\n",
       "      <th>chain_1-Beta_is</th>\n",
       "      <th>chain_1-SD_Beta_is</th>\n",
       "      <th>chain_1-eBPis</th>\n",
       "      <th>chain_1-env</th>\n",
       "      <th>chain_2-COVARIABLE</th>\n",
       "      <th>chain_2-MRK</th>\n",
       "      <th>chain_2-M_Pearson</th>\n",
       "      <th>chain_2-SD_Pearson</th>\n",
       "      <th>chain_2-BF(dB)</th>\n",
       "      <th>chain_2-Beta_is</th>\n",
       "      <th>chain_2-SD_Beta_is</th>\n",
       "      <th>chain_2-eBPis</th>\n",
       "      <th>chain_2-env</th>\n",
       "      <th>chain_3-COVARIABLE</th>\n",
       "      <th>chain_3-MRK</th>\n",
       "      <th>chain_3-M_Pearson</th>\n",
       "      <th>chain_3-SD_Pearson</th>\n",
       "      <th>chain_3-BF(dB)</th>\n",
       "      <th>chain_3-Beta_is</th>\n",
       "      <th>chain_3-SD_Beta_is</th>\n",
       "      <th>chain_3-eBPis</th>\n",
       "      <th>chain_3-env</th>\n",
       "      <th>chain_4-COVARIABLE</th>\n",
       "      <th>chain_4-MRK</th>\n",
       "      <th>chain_4-M_Pearson</th>\n",
       "      <th>chain_4-SD_Pearson</th>\n",
       "      <th>chain_4-BF(dB)</th>\n",
       "      <th>chain_4-Beta_is</th>\n",
       "      <th>chain_4-SD_Beta_is</th>\n",
       "      <th>chain_4-eBPis</th>\n",
       "      <th>chain_4-env</th>\n",
       "      <th>chain_5-COVARIABLE</th>\n",
       "      <th>chain_5-MRK</th>\n",
       "      <th>chain_5-M_Pearson</th>\n",
       "      <th>chain_5-SD_Pearson</th>\n",
       "      <th>chain_5-BF(dB)</th>\n",
       "      <th>chain_5-Beta_is</th>\n",
       "      <th>chain_5-SD_Beta_is</th>\n",
       "      <th>chain_5-eBPis</th>\n",
       "      <th>chain_5-env</th>\n",
       "    </tr>\n",
       "    <tr>\n",
       "      <th></th>\n",
       "      <th></th>\n",
       "      <th></th>\n",
       "      <th></th>\n",
       "      <th></th>\n",
       "      <th></th>\n",
       "      <th></th>\n",
       "      <th></th>\n",
       "      <th></th>\n",
       "      <th></th>\n",
       "      <th></th>\n",
       "      <th></th>\n",
       "      <th></th>\n",
       "      <th></th>\n",
       "      <th></th>\n",
       "      <th></th>\n",
       "      <th></th>\n",
       "      <th></th>\n",
       "      <th></th>\n",
       "      <th></th>\n",
       "      <th></th>\n",
       "      <th></th>\n",
       "      <th></th>\n",
       "      <th></th>\n",
       "      <th></th>\n",
       "      <th></th>\n",
       "      <th></th>\n",
       "      <th></th>\n",
       "      <th></th>\n",
       "      <th></th>\n",
       "      <th></th>\n",
       "      <th></th>\n",
       "      <th></th>\n",
       "      <th></th>\n",
       "      <th></th>\n",
       "      <th></th>\n",
       "      <th></th>\n",
       "      <th></th>\n",
       "      <th></th>\n",
       "      <th></th>\n",
       "      <th></th>\n",
       "      <th></th>\n",
       "      <th></th>\n",
       "      <th></th>\n",
       "      <th></th>\n",
       "      <th></th>\n",
       "    </tr>\n",
       "  </thead>\n",
       "  <tbody>\n",
       "    <tr>\n",
       "      <th>jcf7190000000173-53782</th>\n",
       "      <td>9</td>\n",
       "      <td>1</td>\n",
       "      <td>-0.043086</td>\n",
       "      <td>0.140228</td>\n",
       "      <td>-9.671238</td>\n",
       "      <td>-0.003895</td>\n",
       "      <td>0.011570</td>\n",
       "      <td>0.132905</td>\n",
       "      <td>DD_0</td>\n",
       "      <td>9</td>\n",
       "      <td>1</td>\n",
       "      <td>-0.045174</td>\n",
       "      <td>0.132741</td>\n",
       "      <td>-5.342276</td>\n",
       "      <td>-0.004140</td>\n",
       "      <td>0.010953</td>\n",
       "      <td>0.151550</td>\n",
       "      <td>DD_0</td>\n",
       "      <td>9</td>\n",
       "      <td>1</td>\n",
       "      <td>-0.034366</td>\n",
       "      <td>0.129188</td>\n",
       "      <td>-10.604734</td>\n",
       "      <td>-0.003068</td>\n",
       "      <td>0.009737</td>\n",
       "      <td>0.123368</td>\n",
       "      <td>DD_0</td>\n",
       "      <td>9</td>\n",
       "      <td>1</td>\n",
       "      <td>-0.031981</td>\n",
       "      <td>0.141979</td>\n",
       "      <td>-8.937414</td>\n",
       "      <td>-0.003145</td>\n",
       "      <td>0.011849</td>\n",
       "      <td>0.101993</td>\n",
       "      <td>DD_0</td>\n",
       "      <td>9</td>\n",
       "      <td>1</td>\n",
       "      <td>-0.055836</td>\n",
       "      <td>0.137111</td>\n",
       "      <td>-9.433134</td>\n",
       "      <td>-0.005157</td>\n",
       "      <td>0.011405</td>\n",
       "      <td>0.186313</td>\n",
       "      <td>DD_0</td>\n",
       "    </tr>\n",
       "    <tr>\n",
       "      <th>jcf7190000000173-53833</th>\n",
       "      <td>9</td>\n",
       "      <td>2</td>\n",
       "      <td>-0.166846</td>\n",
       "      <td>0.105270</td>\n",
       "      <td>-7.058093</td>\n",
       "      <td>-0.016280</td>\n",
       "      <td>0.009903</td>\n",
       "      <td>0.999195</td>\n",
       "      <td>DD_0</td>\n",
       "      <td>9</td>\n",
       "      <td>2</td>\n",
       "      <td>-0.159835</td>\n",
       "      <td>0.107259</td>\n",
       "      <td>-6.728115</td>\n",
       "      <td>-0.015501</td>\n",
       "      <td>0.010522</td>\n",
       "      <td>0.851702</td>\n",
       "      <td>DD_0</td>\n",
       "      <td>9</td>\n",
       "      <td>2</td>\n",
       "      <td>-0.163185</td>\n",
       "      <td>0.098827</td>\n",
       "      <td>-7.194402</td>\n",
       "      <td>-0.015904</td>\n",
       "      <td>0.009184</td>\n",
       "      <td>1.079273</td>\n",
       "      <td>DD_0</td>\n",
       "      <td>9</td>\n",
       "      <td>2</td>\n",
       "      <td>-0.164436</td>\n",
       "      <td>0.110605</td>\n",
       "      <td>-6.328030</td>\n",
       "      <td>-0.015916</td>\n",
       "      <td>0.010376</td>\n",
       "      <td>0.902979</td>\n",
       "      <td>DD_0</td>\n",
       "      <td>9</td>\n",
       "      <td>2</td>\n",
       "      <td>-0.157191</td>\n",
       "      <td>0.104888</td>\n",
       "      <td>-7.305745</td>\n",
       "      <td>-0.015184</td>\n",
       "      <td>0.009718</td>\n",
       "      <td>0.927457</td>\n",
       "      <td>DD_0</td>\n",
       "    </tr>\n",
       "    <tr>\n",
       "      <th>jcf7190000000173-53870</th>\n",
       "      <td>9</td>\n",
       "      <td>3</td>\n",
       "      <td>-0.120392</td>\n",
       "      <td>0.139550</td>\n",
       "      <td>-8.671335</td>\n",
       "      <td>-0.007380</td>\n",
       "      <td>0.008563</td>\n",
       "      <td>0.410247</td>\n",
       "      <td>DD_0</td>\n",
       "      <td>9</td>\n",
       "      <td>3</td>\n",
       "      <td>-0.111166</td>\n",
       "      <td>0.133610</td>\n",
       "      <td>-9.165615</td>\n",
       "      <td>-0.006955</td>\n",
       "      <td>0.008299</td>\n",
       "      <td>0.395772</td>\n",
       "      <td>DD_0</td>\n",
       "      <td>9</td>\n",
       "      <td>3</td>\n",
       "      <td>-0.122058</td>\n",
       "      <td>0.135319</td>\n",
       "      <td>-8.871418</td>\n",
       "      <td>-0.007407</td>\n",
       "      <td>0.008157</td>\n",
       "      <td>0.439074</td>\n",
       "      <td>DD_0</td>\n",
       "      <td>9</td>\n",
       "      <td>3</td>\n",
       "      <td>-0.120436</td>\n",
       "      <td>0.137590</td>\n",
       "      <td>-8.342317</td>\n",
       "      <td>-0.007198</td>\n",
       "      <td>0.008186</td>\n",
       "      <td>0.421086</td>\n",
       "      <td>DD_0</td>\n",
       "      <td>9</td>\n",
       "      <td>3</td>\n",
       "      <td>-0.116626</td>\n",
       "      <td>0.131984</td>\n",
       "      <td>-8.851803</td>\n",
       "      <td>-0.007503</td>\n",
       "      <td>0.008490</td>\n",
       "      <td>0.423837</td>\n",
       "      <td>DD_0</td>\n",
       "    </tr>\n",
       "    <tr>\n",
       "      <th>jcf7190000000173-53990</th>\n",
       "      <td>9</td>\n",
       "      <td>4</td>\n",
       "      <td>0.145188</td>\n",
       "      <td>0.094966</td>\n",
       "      <td>-7.759643</td>\n",
       "      <td>0.014846</td>\n",
       "      <td>0.009461</td>\n",
       "      <td>0.933175</td>\n",
       "      <td>DD_0</td>\n",
       "      <td>9</td>\n",
       "      <td>4</td>\n",
       "      <td>0.146852</td>\n",
       "      <td>0.093694</td>\n",
       "      <td>-8.014668</td>\n",
       "      <td>0.014923</td>\n",
       "      <td>0.009323</td>\n",
       "      <td>0.960763</td>\n",
       "      <td>DD_0</td>\n",
       "      <td>9</td>\n",
       "      <td>4</td>\n",
       "      <td>0.138295</td>\n",
       "      <td>0.099440</td>\n",
       "      <td>-8.060055</td>\n",
       "      <td>0.014058</td>\n",
       "      <td>0.009843</td>\n",
       "      <td>0.814631</td>\n",
       "      <td>DD_0</td>\n",
       "      <td>9</td>\n",
       "      <td>4</td>\n",
       "      <td>0.138303</td>\n",
       "      <td>0.101826</td>\n",
       "      <td>-8.179976</td>\n",
       "      <td>0.013889</td>\n",
       "      <td>0.009862</td>\n",
       "      <td>0.798491</td>\n",
       "      <td>DD_0</td>\n",
       "      <td>9</td>\n",
       "      <td>4</td>\n",
       "      <td>0.135183</td>\n",
       "      <td>0.096796</td>\n",
       "      <td>-8.456722</td>\n",
       "      <td>0.013663</td>\n",
       "      <td>0.009409</td>\n",
       "      <td>0.834239</td>\n",
       "      <td>DD_0</td>\n",
       "    </tr>\n",
       "    <tr>\n",
       "      <th>jcf7190000000173-54077</th>\n",
       "      <td>9</td>\n",
       "      <td>5</td>\n",
       "      <td>0.114041</td>\n",
       "      <td>0.103352</td>\n",
       "      <td>-8.541131</td>\n",
       "      <td>0.012676</td>\n",
       "      <td>0.010725</td>\n",
       "      <td>0.624756</td>\n",
       "      <td>DD_0</td>\n",
       "      <td>9</td>\n",
       "      <td>5</td>\n",
       "      <td>0.099408</td>\n",
       "      <td>0.103388</td>\n",
       "      <td>-8.750579</td>\n",
       "      <td>0.011094</td>\n",
       "      <td>0.010595</td>\n",
       "      <td>0.530124</td>\n",
       "      <td>DD_0</td>\n",
       "      <td>9</td>\n",
       "      <td>5</td>\n",
       "      <td>0.103625</td>\n",
       "      <td>0.105787</td>\n",
       "      <td>-8.791820</td>\n",
       "      <td>0.011423</td>\n",
       "      <td>0.010706</td>\n",
       "      <td>0.543629</td>\n",
       "      <td>DD_0</td>\n",
       "      <td>9</td>\n",
       "      <td>5</td>\n",
       "      <td>0.103573</td>\n",
       "      <td>0.100145</td>\n",
       "      <td>-9.082215</td>\n",
       "      <td>0.011239</td>\n",
       "      <td>0.010038</td>\n",
       "      <td>0.580257</td>\n",
       "      <td>DD_0</td>\n",
       "      <td>9</td>\n",
       "      <td>5</td>\n",
       "      <td>0.099753</td>\n",
       "      <td>0.102363</td>\n",
       "      <td>-9.040670</td>\n",
       "      <td>0.011215</td>\n",
       "      <td>0.010514</td>\n",
       "      <td>0.543430</td>\n",
       "      <td>DD_0</td>\n",
       "    </tr>\n",
       "  </tbody>\n",
       "</table>\n",
       "</div>"
      ],
      "text/plain": [
       "                        chain_1-COVARIABLE  chain_1-MRK  chain_1-M_Pearson  \\\n",
       "                                                                             \n",
       "jcf7190000000173-53782                   9            1          -0.043086   \n",
       "jcf7190000000173-53833                   9            2          -0.166846   \n",
       "jcf7190000000173-53870                   9            3          -0.120392   \n",
       "jcf7190000000173-53990                   9            4           0.145188   \n",
       "jcf7190000000173-54077                   9            5           0.114041   \n",
       "\n",
       "                        chain_1-SD_Pearson  chain_1-BF(dB)  chain_1-Beta_is  \\\n",
       "                                                                              \n",
       "jcf7190000000173-53782            0.140228       -9.671238        -0.003895   \n",
       "jcf7190000000173-53833            0.105270       -7.058093        -0.016280   \n",
       "jcf7190000000173-53870            0.139550       -8.671335        -0.007380   \n",
       "jcf7190000000173-53990            0.094966       -7.759643         0.014846   \n",
       "jcf7190000000173-54077            0.103352       -8.541131         0.012676   \n",
       "\n",
       "                        chain_1-SD_Beta_is  chain_1-eBPis chain_1-env  \\\n",
       "                                                                        \n",
       "jcf7190000000173-53782            0.011570       0.132905        DD_0   \n",
       "jcf7190000000173-53833            0.009903       0.999195        DD_0   \n",
       "jcf7190000000173-53870            0.008563       0.410247        DD_0   \n",
       "jcf7190000000173-53990            0.009461       0.933175        DD_0   \n",
       "jcf7190000000173-54077            0.010725       0.624756        DD_0   \n",
       "\n",
       "                        chain_2-COVARIABLE  chain_2-MRK  chain_2-M_Pearson  \\\n",
       "                                                                             \n",
       "jcf7190000000173-53782                   9            1          -0.045174   \n",
       "jcf7190000000173-53833                   9            2          -0.159835   \n",
       "jcf7190000000173-53870                   9            3          -0.111166   \n",
       "jcf7190000000173-53990                   9            4           0.146852   \n",
       "jcf7190000000173-54077                   9            5           0.099408   \n",
       "\n",
       "                        chain_2-SD_Pearson  chain_2-BF(dB)  chain_2-Beta_is  \\\n",
       "                                                                              \n",
       "jcf7190000000173-53782            0.132741       -5.342276        -0.004140   \n",
       "jcf7190000000173-53833            0.107259       -6.728115        -0.015501   \n",
       "jcf7190000000173-53870            0.133610       -9.165615        -0.006955   \n",
       "jcf7190000000173-53990            0.093694       -8.014668         0.014923   \n",
       "jcf7190000000173-54077            0.103388       -8.750579         0.011094   \n",
       "\n",
       "                        chain_2-SD_Beta_is  chain_2-eBPis chain_2-env  \\\n",
       "                                                                        \n",
       "jcf7190000000173-53782            0.010953       0.151550        DD_0   \n",
       "jcf7190000000173-53833            0.010522       0.851702        DD_0   \n",
       "jcf7190000000173-53870            0.008299       0.395772        DD_0   \n",
       "jcf7190000000173-53990            0.009323       0.960763        DD_0   \n",
       "jcf7190000000173-54077            0.010595       0.530124        DD_0   \n",
       "\n",
       "                        chain_3-COVARIABLE  chain_3-MRK  chain_3-M_Pearson  \\\n",
       "                                                                             \n",
       "jcf7190000000173-53782                   9            1          -0.034366   \n",
       "jcf7190000000173-53833                   9            2          -0.163185   \n",
       "jcf7190000000173-53870                   9            3          -0.122058   \n",
       "jcf7190000000173-53990                   9            4           0.138295   \n",
       "jcf7190000000173-54077                   9            5           0.103625   \n",
       "\n",
       "                        chain_3-SD_Pearson  chain_3-BF(dB)  chain_3-Beta_is  \\\n",
       "                                                                              \n",
       "jcf7190000000173-53782            0.129188      -10.604734        -0.003068   \n",
       "jcf7190000000173-53833            0.098827       -7.194402        -0.015904   \n",
       "jcf7190000000173-53870            0.135319       -8.871418        -0.007407   \n",
       "jcf7190000000173-53990            0.099440       -8.060055         0.014058   \n",
       "jcf7190000000173-54077            0.105787       -8.791820         0.011423   \n",
       "\n",
       "                        chain_3-SD_Beta_is  chain_3-eBPis chain_3-env  \\\n",
       "                                                                        \n",
       "jcf7190000000173-53782            0.009737       0.123368        DD_0   \n",
       "jcf7190000000173-53833            0.009184       1.079273        DD_0   \n",
       "jcf7190000000173-53870            0.008157       0.439074        DD_0   \n",
       "jcf7190000000173-53990            0.009843       0.814631        DD_0   \n",
       "jcf7190000000173-54077            0.010706       0.543629        DD_0   \n",
       "\n",
       "                        chain_4-COVARIABLE  chain_4-MRK  chain_4-M_Pearson  \\\n",
       "                                                                             \n",
       "jcf7190000000173-53782                   9            1          -0.031981   \n",
       "jcf7190000000173-53833                   9            2          -0.164436   \n",
       "jcf7190000000173-53870                   9            3          -0.120436   \n",
       "jcf7190000000173-53990                   9            4           0.138303   \n",
       "jcf7190000000173-54077                   9            5           0.103573   \n",
       "\n",
       "                        chain_4-SD_Pearson  chain_4-BF(dB)  chain_4-Beta_is  \\\n",
       "                                                                              \n",
       "jcf7190000000173-53782            0.141979       -8.937414        -0.003145   \n",
       "jcf7190000000173-53833            0.110605       -6.328030        -0.015916   \n",
       "jcf7190000000173-53870            0.137590       -8.342317        -0.007198   \n",
       "jcf7190000000173-53990            0.101826       -8.179976         0.013889   \n",
       "jcf7190000000173-54077            0.100145       -9.082215         0.011239   \n",
       "\n",
       "                        chain_4-SD_Beta_is  chain_4-eBPis chain_4-env  \\\n",
       "                                                                        \n",
       "jcf7190000000173-53782            0.011849       0.101993        DD_0   \n",
       "jcf7190000000173-53833            0.010376       0.902979        DD_0   \n",
       "jcf7190000000173-53870            0.008186       0.421086        DD_0   \n",
       "jcf7190000000173-53990            0.009862       0.798491        DD_0   \n",
       "jcf7190000000173-54077            0.010038       0.580257        DD_0   \n",
       "\n",
       "                        chain_5-COVARIABLE  chain_5-MRK  chain_5-M_Pearson  \\\n",
       "                                                                             \n",
       "jcf7190000000173-53782                   9            1          -0.055836   \n",
       "jcf7190000000173-53833                   9            2          -0.157191   \n",
       "jcf7190000000173-53870                   9            3          -0.116626   \n",
       "jcf7190000000173-53990                   9            4           0.135183   \n",
       "jcf7190000000173-54077                   9            5           0.099753   \n",
       "\n",
       "                        chain_5-SD_Pearson  chain_5-BF(dB)  chain_5-Beta_is  \\\n",
       "                                                                              \n",
       "jcf7190000000173-53782            0.137111       -9.433134        -0.005157   \n",
       "jcf7190000000173-53833            0.104888       -7.305745        -0.015184   \n",
       "jcf7190000000173-53870            0.131984       -8.851803        -0.007503   \n",
       "jcf7190000000173-53990            0.096796       -8.456722         0.013663   \n",
       "jcf7190000000173-54077            0.102363       -9.040670         0.011215   \n",
       "\n",
       "                        chain_5-SD_Beta_is  chain_5-eBPis chain_5-env  \n",
       "                                                                       \n",
       "jcf7190000000173-53782            0.011405       0.186313        DD_0  \n",
       "jcf7190000000173-53833            0.009718       0.927457        DD_0  \n",
       "jcf7190000000173-53870            0.008490       0.423837        DD_0  \n",
       "jcf7190000000173-53990            0.009409       0.834239        DD_0  \n",
       "jcf7190000000173-54077            0.010514       0.543430        DD_0  "
      ]
     },
     "execution_count": 44,
     "metadata": {},
     "output_type": "execute_result"
    }
   ],
   "source": [
    "# concatenate environmental output by each env, combine chains into single df\n",
    "newdflst = {}\n",
    "for chain,envs in newenvlist.items():\n",
    "    for env,dfs in nb(envs.items(), desc=chain):\n",
    "        if env not in newdflst:\n",
    "            newdflst[env] = []\n",
    "        df = pd.concat(dfs)\n",
    "        df.columns = [f\"{chain}-{col}\" for col in df.columns]\n",
    "        newdflst[env].append(df)\n",
    "# combine chains for each env - should have done this in parallel\n",
    "newenvdfs = {}\n",
    "for env,lst in nb(newdflst.items(), desc='combo'):\n",
    "    assert len(lst) == 5\n",
    "    df = pd.merge(lst[0], lst[1], left_index=True, right_index=True)\n",
    "    df2 = pd.merge(lst[2], lst[3], left_index=True, right_index=True)\n",
    "    df3 = pd.merge(df, df2, left_index=True, right_index=True)\n",
    "    newenvdfs[env] = pd.merge(df3, lst[4], left_index=True, right_index=True)\n",
    "    \n",
    "    \n",
    "newenvdfs[env].head()           "
   ]
  },
  {
   "cell_type": "code",
   "execution_count": 45,
   "metadata": {},
   "outputs": [
    {
     "data": {
      "text/plain": [
       "(1924, 45)"
      ]
     },
     "execution_count": 45,
     "metadata": {},
     "output_type": "execute_result"
    }
   ],
   "source": [
    "newenvdfs[env].shape"
   ]
  },
  {
   "cell_type": "code",
   "execution_count": 46,
   "metadata": {},
   "outputs": [
    {
     "data": {
      "text/plain": [
       "True"
      ]
     },
     "execution_count": 46,
     "metadata": {},
     "output_type": "execute_result"
    }
   ],
   "source": [
    "newgfile_dir = op.join(cmddir, 'new_individual_gfiles')\n",
    "op.exists(newgfile_dir)"
   ]
  },
  {
   "cell_type": "code",
   "execution_count": 47,
   "metadata": {},
   "outputs": [
    {
     "name": "stderr",
     "output_type": "stream",
     "text": [
      "100%|██████████| 8/8 [00:00<00:00, 64.24it/s]\n"
     ]
    },
    {
     "data": {
      "text/plain": [
       "1924"
      ]
     },
     "execution_count": 47,
     "metadata": {},
     "output_type": "execute_result"
    }
   ],
   "source": [
    "# how many SNPs should be in each env file?\n",
    "newrows = 0\n",
    "for gfile in nb(fs(newgfile_dir, pattern='noheaderidx.txt')):\n",
    "    df = pd.read_table(gfile, usecols=[0], header=None)\n",
    "    newrows += nrow(df)\n",
    "newrows"
   ]
  },
  {
   "cell_type": "code",
   "execution_count": 48,
   "metadata": {},
   "outputs": [
    {
     "name": "stdout",
     "output_type": "stream",
     "text": [
      "\u001b[1mFFP\u001b[0m\n",
      "\t FFP 1924\n",
      "\u001b[1mSHM\u001b[0m\n",
      "\t SHM 1924\n",
      "\u001b[1mPAS\u001b[0m\n",
      "\t PAS 1924\n",
      "\u001b[1mEref\u001b[0m\n",
      "\t Eref 1924\n",
      "\u001b[1mMAP\u001b[0m\n",
      "\t MAP 1924\n",
      "\u001b[1mMSP\u001b[0m\n",
      "\t MSP 1924\n",
      "\u001b[1mMAT\u001b[0m\n",
      "\t MAT 1924\n",
      "\u001b[1mTD\u001b[0m\n",
      "\t TD 1924\n",
      "\u001b[1mDD5\u001b[0m\n",
      "\t DD5 1924\n",
      "\u001b[1meFFP\u001b[0m\n",
      "\t eFFP 1924\n",
      "\u001b[1mNFFD\u001b[0m\n",
      "\t NFFD 1924\n",
      "\u001b[1mEMT\u001b[0m\n",
      "\t EMT 1924\n",
      "\u001b[1mMWMT\u001b[0m\n",
      "\t MWMT 1924\n",
      "\u001b[1mEXT\u001b[0m\n",
      "\t EXT 1924\n",
      "\u001b[1mbFFP\u001b[0m\n",
      "\t bFFP 1924\n",
      "\u001b[1mAHM\u001b[0m\n",
      "\t AHM 1924\n",
      "\u001b[1mCMD\u001b[0m\n",
      "\t CMD 1924\n",
      "\u001b[1mMCMT\u001b[0m\n",
      "\t MCMT 1924\n",
      "\u001b[1mDD_0\u001b[0m\n",
      "\t DD_0 1924\n"
     ]
    }
   ],
   "source": [
    "# make sure that many SNPs are in each env file\n",
    "for env in newenvdfs:\n",
    "    print(ColorText(env).bold())\n",
    "    print('\\t',env, nrow(newenvdfs[env]))\n",
    "    if nrow(newenvdfs[env]) != newrows:\n",
    "        print(ColorText('CRAAAAAAAAAP').fail().bold())"
   ]
  },
  {
   "cell_type": "markdown",
   "metadata": {},
   "source": [
    "#### now remove new REPEATS from envdfs"
   ]
  },
  {
   "cell_type": "code",
   "execution_count": 49,
   "metadata": {},
   "outputs": [
    {
     "data": {
      "text/plain": [
       "28907"
      ]
     },
     "execution_count": 49,
     "metadata": {},
     "output_type": "execute_result"
    }
   ],
   "source": [
    "# get list of loci names that are now REPEATS\n",
    "# not all of these will be found in coastal since these are across coastal/interior/combined_varieties\n",
    "reps = pd.read_table('/data/projects/pool_seq/DF_datasets/previous_SNP_REPEATS/new_old/new_REPEATS.txt')\n",
    "reploci = reps['locus'].tolist()\n",
    "len(reploci)"
   ]
  },
  {
   "cell_type": "code",
   "execution_count": 50,
   "metadata": {},
   "outputs": [
    {
     "data": {
      "application/vnd.jupyter.widget-view+json": {
       "model_id": "1bcc026ebc914e0f949c574b60170448",
       "version_major": 2,
       "version_minor": 0
      },
      "text/plain": [
       "HBox(children=(FloatProgress(value=0.0, max=19.0), HTML(value='')))"
      ]
     },
     "metadata": {},
     "output_type": "display_data"
    },
    {
     "name": "stdout",
     "output_type": "stream",
     "text": [
      "FFP 16266\n",
      "Eref 16266\n",
      "SHM 16266\n",
      "PAS 16266\n",
      "MAT 16266\n",
      "EMT 16266\n",
      "bFFP 16266\n",
      "DD5 16266\n",
      "NFFD 16266\n",
      "MCMT 16266\n",
      "MWMT 16266\n",
      "DD_0 16266\n",
      "EXT 16266\n",
      "eFFP 16266\n",
      "MSP 16266\n",
      "AHM 16266\n",
      "CMD 16266\n",
      "MAP 16266\n",
      "TD 16266\n",
      "\n"
     ]
    }
   ],
   "source": [
    "# drop reploci\n",
    "for env in tnb(envdfs):\n",
    "    df = envdfs[env]\n",
    "    rows = nrow(df)\n",
    "    df['index'] = range(len(df.index))  # use to reorder\n",
    "    keep = list(set(df.index) - set(reploci))  # SNPs remaining after removing new REPEATS\n",
    "    df = df.loc[keep]  # remove newREPEATS from df\n",
    "    df.sort_values(by='index', inplace=True)  # resort by original order\n",
    "    df.drop(columns=['index'], inplace=True)  # remove unnecessary column\n",
    "    envdfs[env] = df\n",
    "    print(env, rows - nrow(df))  # how many loci were removed as newREPEATS"
   ]
  },
  {
   "cell_type": "code",
   "execution_count": 51,
   "metadata": {},
   "outputs": [
    {
     "data": {
      "text/plain": [
       "1924"
      ]
     },
     "execution_count": 51,
     "metadata": {},
     "output_type": "execute_result"
    }
   ],
   "source": [
    "nrow(newenvdfs[env])"
   ]
  },
  {
   "cell_type": "code",
   "execution_count": 52,
   "metadata": {},
   "outputs": [
    {
     "name": "stdout",
     "output_type": "stream",
     "text": [
      "FFP 1924\n",
      "Eref 1924\n",
      "SHM 1924\n",
      "PAS 1924\n",
      "MAT 1924\n",
      "EMT 1924\n",
      "bFFP 1924\n",
      "DD5 1924\n",
      "NFFD 1924\n",
      "MCMT 1924\n",
      "MWMT 1924\n",
      "DD_0 1924\n",
      "EXT 1924\n",
      "eFFP 1924\n",
      "MSP 1924\n",
      "AHM 1924\n",
      "CMD 1924\n",
      "MAP 1924\n",
      "TD 1924\n"
     ]
    }
   ],
   "source": [
    "# add new loci\n",
    "for env,df in envdfs.items():\n",
    "    rows = nrow(df)\n",
    "    envdfs[env] = pd.concat([df, newenvdfs[env]])\n",
    "    print(env, nrow(envdfs[env]) - rows)  # how many loci were added"
   ]
  },
  {
   "cell_type": "code",
   "execution_count": 53,
   "metadata": {},
   "outputs": [
    {
     "name": "stdout",
     "output_type": "stream",
     "text": [
      "FFP 2291485\n",
      "Eref 2291485\n",
      "SHM 2291485\n",
      "PAS 2291485\n",
      "MAT 2291485\n",
      "EMT 2291485\n",
      "bFFP 2291485\n",
      "DD5 2291485\n",
      "NFFD 2291485\n",
      "MCMT 2291485\n",
      "MWMT 2291485\n",
      "DD_0 2291485\n",
      "EXT 2291485\n",
      "eFFP 2291485\n",
      "MSP 2291485\n",
      "AHM 2291485\n",
      "CMD 2291485\n",
      "MAP 2291485\n",
      "TD 2291485\n"
     ]
    }
   ],
   "source": [
    "# total loci\n",
    "for env,df in envdfs.items():\n",
    "    print(env, nrow(df))"
   ]
  },
  {
   "cell_type": "code",
   "execution_count": 54,
   "metadata": {},
   "outputs": [
    {
     "data": {
      "text/plain": [
       "2291485"
      ]
     },
     "execution_count": 54,
     "metadata": {},
     "output_type": "execute_result"
    }
   ],
   "source": [
    "# reload real data to check numbers\n",
    "# this file was remade while baypass jobs were running\n",
    "# if I sort out ADP I should get the same number of loci as above\n",
    "snps = pd.read_table('/data/projects/pool_seq/DF_datasets/DF_pooled_GEA/DF_pooled/snpsANDindels/coastal_variety/03_maf-p05_RD-recalculated_FDC/DF_pooled-varscan_all_bedfiles_SNP_FDC_maf_RD-recalculated.txt',\n",
    "                     usecols=['locus', 'ADP'])\n",
    "reduced = snps[snps['ADP'] < 1000]\n",
    "nrow(reduced)"
   ]
  },
  {
   "cell_type": "code",
   "execution_count": 55,
   "metadata": {},
   "outputs": [
    {
     "data": {
      "text/plain": [
       "True"
      ]
     },
     "execution_count": 55,
     "metadata": {},
     "output_type": "execute_result"
    }
   ],
   "source": [
    "nrow(reduced) == nrow(envdfs[env])"
   ]
  },
  {
   "cell_type": "markdown",
   "metadata": {},
   "source": [
    "# Rank all loci"
   ]
  },
  {
   "cell_type": "code",
   "execution_count": 56,
   "metadata": {},
   "outputs": [
    {
     "name": "stdout",
     "output_type": "stream",
     "text": [
      "43 43\n"
     ]
    }
   ],
   "source": [
    "lview,dview = get_client()"
   ]
  },
  {
   "cell_type": "code",
   "execution_count": 76,
   "metadata": {},
   "outputs": [],
   "source": [
    "def rank_baypass(df):\n",
    "    \"\"\"Create columns to rank loci within and across chains.\"\"\"\n",
    "    import pandas\n",
    "    import tqdm\n",
    "    import math\n",
    "    chains = ['chain_1', 'chain_2', 'chain_3', 'chain_4', 'chain_5']\n",
    "\n",
    "    # rank per chain based on chain BF\n",
    "    for chain in tqdm.tqdm(chains, desc='chains'):\n",
    "        col = f'{chain}-BF(dB)'\n",
    "        colBF = df[col].apply(lambda x: 10**(x/10))  # convert deciban to BF\n",
    "        ranked = dict((locus,rank+1) for (rank,locus) in enumerate(colBF.sort_values(ascending=False).index))\n",
    "        df[f'rank_{chain}-BF'] = [ranked[locus] for locus in df.index]\n",
    "\n",
    "    # mean BF\n",
    "    print('getting mean BF')\n",
    "    bfcols = [col for col in df if 'BF(dB)' in col and col.startswith('chain')]\n",
    "    print(bfcols)\n",
    "    assert len(bfcols) == 5  # 5 chains\n",
    "    mean_BF_dB = df[bfcols].mean(axis=1)\n",
    "    df['mean_BF'] = mean_BF_dB.apply(lambda x: 10**(x/10))  # convert deciban to BF\n",
    "\n",
    "    # rank of mean BF\n",
    "    print('ranking mean BF')\n",
    "    ranked = dict((locus,rank+1) for (rank,locus) in enumerate(df['mean_BF'].sort_values(ascending=False).index))\n",
    "    df['rank_mean_BF'] = [ranked[locus] for locus in df.index]\n",
    "    \n",
    "    # bool column, enter True if BF >= 20 for >=3 chains, and BF >= 15 for >= 3 chains\n",
    "    # BF column is in dB units, value output by baypass = 10*log10(BF)\n",
    "    print('calculating bool column')\n",
    "    df['BF_gte20_for-gte3chains'] = (df[bfcols] >= 10*math.log10(20)).sum(axis=1) >= 3\n",
    "    df['BF_gte15_for-gte3chains'] = (df[bfcols] >= 10*math.log10(15)).sum(axis=1) >= 3\n",
    "    print(sum((df[bfcols] > 10*math.log10(20)).sum(axis=1) > 3))\n",
    "\n",
    "    return df"
   ]
  },
  {
   "cell_type": "code",
   "execution_count": 77,
   "metadata": {},
   "outputs": [
    {
     "name": "stdout",
     "output_type": "stream",
     "text": [
      "\u001b[1m\n",
      "Watching 19 jobs ...\u001b[0m\n"
     ]
    },
    {
     "name": "stderr",
     "output_type": "stream",
     "text": [
      "100%|██████████| 19/19 [00:39<00:00,  2.10s/it]\n"
     ]
    }
   ],
   "source": [
    "# call rank_baypass() in parallel for each environment\n",
    "jobs = []\n",
    "for env,df in envdfs.items():\n",
    "    bfcols = [col for col in df.columns if 'BF(dB)' in col and col.startswith('chain')]\n",
    "    assert len(bfcols) == 5  # num chains\n",
    "    jobs.append(lview.apply_async(rank_baypass, df[bfcols]))\n",
    "watch_async(jobs)"
   ]
  },
  {
   "cell_type": "code",
   "execution_count": 78,
   "metadata": {},
   "outputs": [
    {
     "data": {
      "text/html": [
       "<div>\n",
       "<style scoped>\n",
       "    .dataframe tbody tr th:only-of-type {\n",
       "        vertical-align: middle;\n",
       "    }\n",
       "\n",
       "    .dataframe tbody tr th {\n",
       "        vertical-align: top;\n",
       "    }\n",
       "\n",
       "    .dataframe thead th {\n",
       "        text-align: right;\n",
       "    }\n",
       "</style>\n",
       "<table border=\"1\" class=\"dataframe\">\n",
       "  <thead>\n",
       "    <tr style=\"text-align: right;\">\n",
       "      <th></th>\n",
       "      <th>chain_1-BF(dB)</th>\n",
       "      <th>chain_2-BF(dB)</th>\n",
       "      <th>chain_3-BF(dB)</th>\n",
       "      <th>chain_4-BF(dB)</th>\n",
       "      <th>chain_5-BF(dB)</th>\n",
       "      <th>rank_chain_1-BF</th>\n",
       "      <th>rank_chain_2-BF</th>\n",
       "      <th>rank_chain_3-BF</th>\n",
       "      <th>rank_chain_4-BF</th>\n",
       "      <th>rank_chain_5-BF</th>\n",
       "      <th>mean_BF</th>\n",
       "      <th>rank_mean_BF</th>\n",
       "      <th>BF_gte20_for-gte3chains</th>\n",
       "      <th>BF_gte15_for-gte3chains</th>\n",
       "    </tr>\n",
       "    <tr>\n",
       "      <th></th>\n",
       "      <th></th>\n",
       "      <th></th>\n",
       "      <th></th>\n",
       "      <th></th>\n",
       "      <th></th>\n",
       "      <th></th>\n",
       "      <th></th>\n",
       "      <th></th>\n",
       "      <th></th>\n",
       "      <th></th>\n",
       "      <th></th>\n",
       "      <th></th>\n",
       "      <th></th>\n",
       "      <th></th>\n",
       "    </tr>\n",
       "  </thead>\n",
       "  <tbody>\n",
       "    <tr>\n",
       "      <th>jcf7190000000000-77738</th>\n",
       "      <td>-8.509406</td>\n",
       "      <td>-9.269721</td>\n",
       "      <td>-7.948701</td>\n",
       "      <td>-8.247926</td>\n",
       "      <td>-9.383110</td>\n",
       "      <td>524663</td>\n",
       "      <td>699213</td>\n",
       "      <td>433277</td>\n",
       "      <td>479866</td>\n",
       "      <td>732316</td>\n",
       "      <td>0.135776</td>\n",
       "      <td>553614</td>\n",
       "      <td>False</td>\n",
       "      <td>False</td>\n",
       "    </tr>\n",
       "    <tr>\n",
       "      <th>jcf7190000000000-77764</th>\n",
       "      <td>-8.537988</td>\n",
       "      <td>-8.024145</td>\n",
       "      <td>-8.818893</td>\n",
       "      <td>-8.688561</td>\n",
       "      <td>-8.601899</td>\n",
       "      <td>530184</td>\n",
       "      <td>444368</td>\n",
       "      <td>587460</td>\n",
       "      <td>559849</td>\n",
       "      <td>543016</td>\n",
       "      <td>0.140143</td>\n",
       "      <td>526033</td>\n",
       "      <td>False</td>\n",
       "      <td>False</td>\n",
       "    </tr>\n",
       "    <tr>\n",
       "      <th>jcf7190000000004-54418</th>\n",
       "      <td>-11.121776</td>\n",
       "      <td>-11.649164</td>\n",
       "      <td>-11.195197</td>\n",
       "      <td>-10.883782</td>\n",
       "      <td>-8.300746</td>\n",
       "      <td>1378949</td>\n",
       "      <td>1555163</td>\n",
       "      <td>1405626</td>\n",
       "      <td>1291990</td>\n",
       "      <td>488374</td>\n",
       "      <td>0.086494</td>\n",
       "      <td>1207536</td>\n",
       "      <td>False</td>\n",
       "      <td>False</td>\n",
       "    </tr>\n",
       "    <tr>\n",
       "      <th>jcf7190000000004-54508</th>\n",
       "      <td>-8.376227</td>\n",
       "      <td>-8.345275</td>\n",
       "      <td>-8.996210</td>\n",
       "      <td>-7.792464</td>\n",
       "      <td>-8.616263</td>\n",
       "      <td>500902</td>\n",
       "      <td>495676</td>\n",
       "      <td>628471</td>\n",
       "      <td>412147</td>\n",
       "      <td>545802</td>\n",
       "      <td>0.143705</td>\n",
       "      <td>505562</td>\n",
       "      <td>False</td>\n",
       "      <td>False</td>\n",
       "    </tr>\n",
       "    <tr>\n",
       "      <th>jcf7190000000004-54540</th>\n",
       "      <td>-6.963774</td>\n",
       "      <td>-7.349303</td>\n",
       "      <td>-6.728656</td>\n",
       "      <td>-6.483963</td>\n",
       "      <td>-6.958119</td>\n",
       "      <td>316744</td>\n",
       "      <td>356759</td>\n",
       "      <td>294547</td>\n",
       "      <td>273891</td>\n",
       "      <td>316434</td>\n",
       "      <td>0.204326</td>\n",
       "      <td>303450</td>\n",
       "      <td>False</td>\n",
       "      <td>False</td>\n",
       "    </tr>\n",
       "  </tbody>\n",
       "</table>\n",
       "</div>"
      ],
      "text/plain": [
       "                        chain_1-BF(dB)  chain_2-BF(dB)  chain_3-BF(dB)  \\\n",
       "                                                                         \n",
       "jcf7190000000000-77738       -8.509406       -9.269721       -7.948701   \n",
       "jcf7190000000000-77764       -8.537988       -8.024145       -8.818893   \n",
       "jcf7190000000004-54418      -11.121776      -11.649164      -11.195197   \n",
       "jcf7190000000004-54508       -8.376227       -8.345275       -8.996210   \n",
       "jcf7190000000004-54540       -6.963774       -7.349303       -6.728656   \n",
       "\n",
       "                        chain_4-BF(dB)  chain_5-BF(dB)  rank_chain_1-BF  \\\n",
       "                                                                          \n",
       "jcf7190000000000-77738       -8.247926       -9.383110           524663   \n",
       "jcf7190000000000-77764       -8.688561       -8.601899           530184   \n",
       "jcf7190000000004-54418      -10.883782       -8.300746          1378949   \n",
       "jcf7190000000004-54508       -7.792464       -8.616263           500902   \n",
       "jcf7190000000004-54540       -6.483963       -6.958119           316744   \n",
       "\n",
       "                        rank_chain_2-BF  rank_chain_3-BF  rank_chain_4-BF  \\\n",
       "                                                                            \n",
       "jcf7190000000000-77738           699213           433277           479866   \n",
       "jcf7190000000000-77764           444368           587460           559849   \n",
       "jcf7190000000004-54418          1555163          1405626          1291990   \n",
       "jcf7190000000004-54508           495676           628471           412147   \n",
       "jcf7190000000004-54540           356759           294547           273891   \n",
       "\n",
       "                        rank_chain_5-BF   mean_BF  rank_mean_BF  \\\n",
       "                                                                  \n",
       "jcf7190000000000-77738           732316  0.135776        553614   \n",
       "jcf7190000000000-77764           543016  0.140143        526033   \n",
       "jcf7190000000004-54418           488374  0.086494       1207536   \n",
       "jcf7190000000004-54508           545802  0.143705        505562   \n",
       "jcf7190000000004-54540           316434  0.204326        303450   \n",
       "\n",
       "                        BF_gte20_for-gte3chains  BF_gte15_for-gte3chains  \n",
       "                                                                          \n",
       "jcf7190000000000-77738                    False                    False  \n",
       "jcf7190000000000-77764                    False                    False  \n",
       "jcf7190000000004-54418                    False                    False  \n",
       "jcf7190000000004-54508                    False                    False  \n",
       "jcf7190000000004-54540                    False                    False  "
      ]
     },
     "execution_count": 78,
     "metadata": {},
     "output_type": "execute_result"
    }
   ],
   "source": [
    "# get the returns from the engines\n",
    "new_envdfs = {}\n",
    "for i,env in enumerate(envdfs):\n",
    "    new_envdfs[env] = jobs[i].r\n",
    "new_envdfs[env].head()"
   ]
  },
  {
   "cell_type": "code",
   "execution_count": 79,
   "metadata": {},
   "outputs": [
    {
     "name": "stdout",
     "output_type": "stream",
     "text": [
      "18\n",
      "TD\n"
     ]
    },
    {
     "data": {
      "text/html": [
       "<div>\n",
       "<style scoped>\n",
       "    .dataframe tbody tr th:only-of-type {\n",
       "        vertical-align: middle;\n",
       "    }\n",
       "\n",
       "    .dataframe tbody tr th {\n",
       "        vertical-align: top;\n",
       "    }\n",
       "\n",
       "    .dataframe thead th {\n",
       "        text-align: right;\n",
       "    }\n",
       "</style>\n",
       "<table border=\"1\" class=\"dataframe\">\n",
       "  <thead>\n",
       "    <tr style=\"text-align: right;\">\n",
       "      <th></th>\n",
       "      <th>chain_1-COVARIABLE</th>\n",
       "      <th>chain_1-MRK</th>\n",
       "      <th>chain_1-M_Pearson</th>\n",
       "      <th>chain_1-SD_Pearson</th>\n",
       "      <th>chain_1-BF(dB)</th>\n",
       "      <th>chain_1-Beta_is</th>\n",
       "      <th>chain_1-SD_Beta_is</th>\n",
       "      <th>chain_1-eBPis</th>\n",
       "      <th>chain_1-env</th>\n",
       "      <th>chain_2-COVARIABLE</th>\n",
       "      <th>chain_2-MRK</th>\n",
       "      <th>chain_2-M_Pearson</th>\n",
       "      <th>chain_2-SD_Pearson</th>\n",
       "      <th>chain_2-BF(dB)</th>\n",
       "      <th>chain_2-Beta_is</th>\n",
       "      <th>chain_2-SD_Beta_is</th>\n",
       "      <th>chain_2-eBPis</th>\n",
       "      <th>chain_2-env</th>\n",
       "      <th>chain_3-COVARIABLE</th>\n",
       "      <th>chain_3-MRK</th>\n",
       "      <th>chain_3-M_Pearson</th>\n",
       "      <th>chain_3-SD_Pearson</th>\n",
       "      <th>chain_3-BF(dB)</th>\n",
       "      <th>chain_3-Beta_is</th>\n",
       "      <th>chain_3-SD_Beta_is</th>\n",
       "      <th>chain_3-eBPis</th>\n",
       "      <th>chain_3-env</th>\n",
       "      <th>chain_4-COVARIABLE</th>\n",
       "      <th>chain_4-MRK</th>\n",
       "      <th>chain_4-M_Pearson</th>\n",
       "      <th>chain_4-SD_Pearson</th>\n",
       "      <th>chain_4-BF(dB)</th>\n",
       "      <th>chain_4-Beta_is</th>\n",
       "      <th>chain_4-SD_Beta_is</th>\n",
       "      <th>chain_4-eBPis</th>\n",
       "      <th>chain_4-env</th>\n",
       "      <th>chain_5-COVARIABLE</th>\n",
       "      <th>chain_5-MRK</th>\n",
       "      <th>chain_5-M_Pearson</th>\n",
       "      <th>chain_5-SD_Pearson</th>\n",
       "      <th>chain_5-BF(dB)</th>\n",
       "      <th>chain_5-Beta_is</th>\n",
       "      <th>chain_5-SD_Beta_is</th>\n",
       "      <th>chain_5-eBPis</th>\n",
       "      <th>chain_5-env</th>\n",
       "      <th>rank_chain_1-BF</th>\n",
       "      <th>rank_chain_2-BF</th>\n",
       "      <th>rank_chain_3-BF</th>\n",
       "      <th>rank_chain_4-BF</th>\n",
       "      <th>rank_chain_5-BF</th>\n",
       "      <th>mean_BF</th>\n",
       "      <th>rank_mean_BF</th>\n",
       "      <th>BF_gte20_for-gte3chains</th>\n",
       "      <th>BF_gte15_for-gte3chains</th>\n",
       "    </tr>\n",
       "    <tr>\n",
       "      <th></th>\n",
       "      <th></th>\n",
       "      <th></th>\n",
       "      <th></th>\n",
       "      <th></th>\n",
       "      <th></th>\n",
       "      <th></th>\n",
       "      <th></th>\n",
       "      <th></th>\n",
       "      <th></th>\n",
       "      <th></th>\n",
       "      <th></th>\n",
       "      <th></th>\n",
       "      <th></th>\n",
       "      <th></th>\n",
       "      <th></th>\n",
       "      <th></th>\n",
       "      <th></th>\n",
       "      <th></th>\n",
       "      <th></th>\n",
       "      <th></th>\n",
       "      <th></th>\n",
       "      <th></th>\n",
       "      <th></th>\n",
       "      <th></th>\n",
       "      <th></th>\n",
       "      <th></th>\n",
       "      <th></th>\n",
       "      <th></th>\n",
       "      <th></th>\n",
       "      <th></th>\n",
       "      <th></th>\n",
       "      <th></th>\n",
       "      <th></th>\n",
       "      <th></th>\n",
       "      <th></th>\n",
       "      <th></th>\n",
       "      <th></th>\n",
       "      <th></th>\n",
       "      <th></th>\n",
       "      <th></th>\n",
       "      <th></th>\n",
       "      <th></th>\n",
       "      <th></th>\n",
       "      <th></th>\n",
       "      <th></th>\n",
       "      <th></th>\n",
       "      <th></th>\n",
       "      <th></th>\n",
       "      <th></th>\n",
       "      <th></th>\n",
       "      <th></th>\n",
       "      <th></th>\n",
       "      <th></th>\n",
       "      <th></th>\n",
       "    </tr>\n",
       "  </thead>\n",
       "  <tbody>\n",
       "    <tr>\n",
       "      <th>jcf7190000000000-77738</th>\n",
       "      <td>4</td>\n",
       "      <td>1</td>\n",
       "      <td>0.052606</td>\n",
       "      <td>0.139252</td>\n",
       "      <td>-8.509406</td>\n",
       "      <td>0.004511</td>\n",
       "      <td>0.012685</td>\n",
       "      <td>0.141382</td>\n",
       "      <td>TD</td>\n",
       "      <td>4</td>\n",
       "      <td>1</td>\n",
       "      <td>0.047391</td>\n",
       "      <td>0.139289</td>\n",
       "      <td>-9.269721</td>\n",
       "      <td>0.003929</td>\n",
       "      <td>0.011932</td>\n",
       "      <td>0.129636</td>\n",
       "      <td>TD</td>\n",
       "      <td>4</td>\n",
       "      <td>1</td>\n",
       "      <td>0.054793</td>\n",
       "      <td>0.141939</td>\n",
       "      <td>-7.948701</td>\n",
       "      <td>0.004884</td>\n",
       "      <td>0.012312</td>\n",
       "      <td>0.160125</td>\n",
       "      <td>TD</td>\n",
       "      <td>4</td>\n",
       "      <td>1</td>\n",
       "      <td>0.040790</td>\n",
       "      <td>0.143065</td>\n",
       "      <td>-8.247926</td>\n",
       "      <td>0.003447</td>\n",
       "      <td>0.012262</td>\n",
       "      <td>0.108679</td>\n",
       "      <td>TD</td>\n",
       "      <td>4</td>\n",
       "      <td>1</td>\n",
       "      <td>0.044477</td>\n",
       "      <td>0.136319</td>\n",
       "      <td>-9.383110</td>\n",
       "      <td>0.003829</td>\n",
       "      <td>0.012267</td>\n",
       "      <td>0.122097</td>\n",
       "      <td>TD</td>\n",
       "      <td>524663</td>\n",
       "      <td>699213</td>\n",
       "      <td>433277</td>\n",
       "      <td>479866</td>\n",
       "      <td>732316</td>\n",
       "      <td>0.135776</td>\n",
       "      <td>553614</td>\n",
       "      <td>False</td>\n",
       "      <td>False</td>\n",
       "    </tr>\n",
       "    <tr>\n",
       "      <th>jcf7190000000000-77764</th>\n",
       "      <td>4</td>\n",
       "      <td>2</td>\n",
       "      <td>0.055272</td>\n",
       "      <td>0.149463</td>\n",
       "      <td>-8.537988</td>\n",
       "      <td>0.004356</td>\n",
       "      <td>0.013015</td>\n",
       "      <td>0.132021</td>\n",
       "      <td>TD</td>\n",
       "      <td>4</td>\n",
       "      <td>2</td>\n",
       "      <td>0.079474</td>\n",
       "      <td>0.145473</td>\n",
       "      <td>-8.024145</td>\n",
       "      <td>0.006985</td>\n",
       "      <td>0.013533</td>\n",
       "      <td>0.217692</td>\n",
       "      <td>TD</td>\n",
       "      <td>4</td>\n",
       "      <td>2</td>\n",
       "      <td>0.077141</td>\n",
       "      <td>0.125644</td>\n",
       "      <td>-8.818893</td>\n",
       "      <td>0.006700</td>\n",
       "      <td>0.011436</td>\n",
       "      <td>0.253422</td>\n",
       "      <td>TD</td>\n",
       "      <td>4</td>\n",
       "      <td>2</td>\n",
       "      <td>0.055892</td>\n",
       "      <td>0.140073</td>\n",
       "      <td>-8.688561</td>\n",
       "      <td>0.004729</td>\n",
       "      <td>0.013162</td>\n",
       "      <td>0.143030</td>\n",
       "      <td>TD</td>\n",
       "      <td>4</td>\n",
       "      <td>2</td>\n",
       "      <td>0.070906</td>\n",
       "      <td>0.138991</td>\n",
       "      <td>-8.601899</td>\n",
       "      <td>0.005808</td>\n",
       "      <td>0.011649</td>\n",
       "      <td>0.208963</td>\n",
       "      <td>TD</td>\n",
       "      <td>530184</td>\n",
       "      <td>444368</td>\n",
       "      <td>587460</td>\n",
       "      <td>559849</td>\n",
       "      <td>543016</td>\n",
       "      <td>0.140143</td>\n",
       "      <td>526033</td>\n",
       "      <td>False</td>\n",
       "      <td>False</td>\n",
       "    </tr>\n",
       "    <tr>\n",
       "      <th>jcf7190000000004-54418</th>\n",
       "      <td>4</td>\n",
       "      <td>3</td>\n",
       "      <td>0.022225</td>\n",
       "      <td>0.155169</td>\n",
       "      <td>-11.121776</td>\n",
       "      <td>0.001822</td>\n",
       "      <td>0.007886</td>\n",
       "      <td>0.087604</td>\n",
       "      <td>TD</td>\n",
       "      <td>4</td>\n",
       "      <td>3</td>\n",
       "      <td>0.018410</td>\n",
       "      <td>0.151466</td>\n",
       "      <td>-11.649164</td>\n",
       "      <td>0.001445</td>\n",
       "      <td>0.007233</td>\n",
       "      <td>0.074889</td>\n",
       "      <td>TD</td>\n",
       "      <td>4</td>\n",
       "      <td>3</td>\n",
       "      <td>0.025411</td>\n",
       "      <td>0.152883</td>\n",
       "      <td>-11.195197</td>\n",
       "      <td>0.001824</td>\n",
       "      <td>0.007524</td>\n",
       "      <td>0.092361</td>\n",
       "      <td>TD</td>\n",
       "      <td>4</td>\n",
       "      <td>3</td>\n",
       "      <td>0.029393</td>\n",
       "      <td>0.155451</td>\n",
       "      <td>-10.883782</td>\n",
       "      <td>0.002118</td>\n",
       "      <td>0.007755</td>\n",
       "      <td>0.105274</td>\n",
       "      <td>TD</td>\n",
       "      <td>4</td>\n",
       "      <td>3</td>\n",
       "      <td>0.020913</td>\n",
       "      <td>0.155163</td>\n",
       "      <td>-8.300746</td>\n",
       "      <td>0.001655</td>\n",
       "      <td>0.007495</td>\n",
       "      <td>0.083397</td>\n",
       "      <td>TD</td>\n",
       "      <td>1378949</td>\n",
       "      <td>1555163</td>\n",
       "      <td>1405626</td>\n",
       "      <td>1291990</td>\n",
       "      <td>488374</td>\n",
       "      <td>0.086494</td>\n",
       "      <td>1207536</td>\n",
       "      <td>False</td>\n",
       "      <td>False</td>\n",
       "    </tr>\n",
       "    <tr>\n",
       "      <th>jcf7190000000004-54508</th>\n",
       "      <td>4</td>\n",
       "      <td>4</td>\n",
       "      <td>0.160345</td>\n",
       "      <td>0.119940</td>\n",
       "      <td>-8.376227</td>\n",
       "      <td>0.009439</td>\n",
       "      <td>0.008651</td>\n",
       "      <td>0.560282</td>\n",
       "      <td>TD</td>\n",
       "      <td>4</td>\n",
       "      <td>4</td>\n",
       "      <td>0.153904</td>\n",
       "      <td>0.119523</td>\n",
       "      <td>-8.345275</td>\n",
       "      <td>0.008835</td>\n",
       "      <td>0.008046</td>\n",
       "      <td>0.565179</td>\n",
       "      <td>TD</td>\n",
       "      <td>4</td>\n",
       "      <td>4</td>\n",
       "      <td>0.158885</td>\n",
       "      <td>0.116715</td>\n",
       "      <td>-8.996210</td>\n",
       "      <td>0.008835</td>\n",
       "      <td>0.007458</td>\n",
       "      <td>0.626842</td>\n",
       "      <td>TD</td>\n",
       "      <td>4</td>\n",
       "      <td>4</td>\n",
       "      <td>0.178100</td>\n",
       "      <td>0.123841</td>\n",
       "      <td>-7.792464</td>\n",
       "      <td>0.010440</td>\n",
       "      <td>0.009024</td>\n",
       "      <td>0.606771</td>\n",
       "      <td>TD</td>\n",
       "      <td>4</td>\n",
       "      <td>4</td>\n",
       "      <td>0.162778</td>\n",
       "      <td>0.115872</td>\n",
       "      <td>-8.616263</td>\n",
       "      <td>0.009363</td>\n",
       "      <td>0.008113</td>\n",
       "      <td>0.604681</td>\n",
       "      <td>TD</td>\n",
       "      <td>500902</td>\n",
       "      <td>495676</td>\n",
       "      <td>628471</td>\n",
       "      <td>412147</td>\n",
       "      <td>545802</td>\n",
       "      <td>0.143705</td>\n",
       "      <td>505562</td>\n",
       "      <td>False</td>\n",
       "      <td>False</td>\n",
       "    </tr>\n",
       "    <tr>\n",
       "      <th>jcf7190000000004-54540</th>\n",
       "      <td>4</td>\n",
       "      <td>5</td>\n",
       "      <td>-0.152640</td>\n",
       "      <td>0.141437</td>\n",
       "      <td>-6.963774</td>\n",
       "      <td>-0.008843</td>\n",
       "      <td>0.008903</td>\n",
       "      <td>0.494021</td>\n",
       "      <td>TD</td>\n",
       "      <td>4</td>\n",
       "      <td>5</td>\n",
       "      <td>-0.139895</td>\n",
       "      <td>0.137734</td>\n",
       "      <td>-7.349303</td>\n",
       "      <td>-0.007856</td>\n",
       "      <td>0.008444</td>\n",
       "      <td>0.453218</td>\n",
       "      <td>TD</td>\n",
       "      <td>4</td>\n",
       "      <td>5</td>\n",
       "      <td>-0.147504</td>\n",
       "      <td>0.142572</td>\n",
       "      <td>-6.728656</td>\n",
       "      <td>-0.008443</td>\n",
       "      <td>0.008913</td>\n",
       "      <td>0.464098</td>\n",
       "      <td>TD</td>\n",
       "      <td>4</td>\n",
       "      <td>5</td>\n",
       "      <td>-0.146215</td>\n",
       "      <td>0.139645</td>\n",
       "      <td>-6.483963</td>\n",
       "      <td>-0.008384</td>\n",
       "      <td>0.008727</td>\n",
       "      <td>0.472768</td>\n",
       "      <td>TD</td>\n",
       "      <td>4</td>\n",
       "      <td>5</td>\n",
       "      <td>-0.135771</td>\n",
       "      <td>0.141118</td>\n",
       "      <td>-6.958119</td>\n",
       "      <td>-0.007717</td>\n",
       "      <td>0.008917</td>\n",
       "      <td>0.412503</td>\n",
       "      <td>TD</td>\n",
       "      <td>316744</td>\n",
       "      <td>356759</td>\n",
       "      <td>294547</td>\n",
       "      <td>273891</td>\n",
       "      <td>316434</td>\n",
       "      <td>0.204326</td>\n",
       "      <td>303450</td>\n",
       "      <td>False</td>\n",
       "      <td>False</td>\n",
       "    </tr>\n",
       "  </tbody>\n",
       "</table>\n",
       "</div>"
      ],
      "text/plain": [
       "                        chain_1-COVARIABLE  chain_1-MRK  chain_1-M_Pearson  \\\n",
       "                                                                             \n",
       "jcf7190000000000-77738                   4            1           0.052606   \n",
       "jcf7190000000000-77764                   4            2           0.055272   \n",
       "jcf7190000000004-54418                   4            3           0.022225   \n",
       "jcf7190000000004-54508                   4            4           0.160345   \n",
       "jcf7190000000004-54540                   4            5          -0.152640   \n",
       "\n",
       "                        chain_1-SD_Pearson  chain_1-BF(dB)  chain_1-Beta_is  \\\n",
       "                                                                              \n",
       "jcf7190000000000-77738            0.139252       -8.509406         0.004511   \n",
       "jcf7190000000000-77764            0.149463       -8.537988         0.004356   \n",
       "jcf7190000000004-54418            0.155169      -11.121776         0.001822   \n",
       "jcf7190000000004-54508            0.119940       -8.376227         0.009439   \n",
       "jcf7190000000004-54540            0.141437       -6.963774        -0.008843   \n",
       "\n",
       "                        chain_1-SD_Beta_is  chain_1-eBPis chain_1-env  \\\n",
       "                                                                        \n",
       "jcf7190000000000-77738            0.012685       0.141382          TD   \n",
       "jcf7190000000000-77764            0.013015       0.132021          TD   \n",
       "jcf7190000000004-54418            0.007886       0.087604          TD   \n",
       "jcf7190000000004-54508            0.008651       0.560282          TD   \n",
       "jcf7190000000004-54540            0.008903       0.494021          TD   \n",
       "\n",
       "                        chain_2-COVARIABLE  chain_2-MRK  chain_2-M_Pearson  \\\n",
       "                                                                             \n",
       "jcf7190000000000-77738                   4            1           0.047391   \n",
       "jcf7190000000000-77764                   4            2           0.079474   \n",
       "jcf7190000000004-54418                   4            3           0.018410   \n",
       "jcf7190000000004-54508                   4            4           0.153904   \n",
       "jcf7190000000004-54540                   4            5          -0.139895   \n",
       "\n",
       "                        chain_2-SD_Pearson  chain_2-BF(dB)  chain_2-Beta_is  \\\n",
       "                                                                              \n",
       "jcf7190000000000-77738            0.139289       -9.269721         0.003929   \n",
       "jcf7190000000000-77764            0.145473       -8.024145         0.006985   \n",
       "jcf7190000000004-54418            0.151466      -11.649164         0.001445   \n",
       "jcf7190000000004-54508            0.119523       -8.345275         0.008835   \n",
       "jcf7190000000004-54540            0.137734       -7.349303        -0.007856   \n",
       "\n",
       "                        chain_2-SD_Beta_is  chain_2-eBPis chain_2-env  \\\n",
       "                                                                        \n",
       "jcf7190000000000-77738            0.011932       0.129636          TD   \n",
       "jcf7190000000000-77764            0.013533       0.217692          TD   \n",
       "jcf7190000000004-54418            0.007233       0.074889          TD   \n",
       "jcf7190000000004-54508            0.008046       0.565179          TD   \n",
       "jcf7190000000004-54540            0.008444       0.453218          TD   \n",
       "\n",
       "                        chain_3-COVARIABLE  chain_3-MRK  chain_3-M_Pearson  \\\n",
       "                                                                             \n",
       "jcf7190000000000-77738                   4            1           0.054793   \n",
       "jcf7190000000000-77764                   4            2           0.077141   \n",
       "jcf7190000000004-54418                   4            3           0.025411   \n",
       "jcf7190000000004-54508                   4            4           0.158885   \n",
       "jcf7190000000004-54540                   4            5          -0.147504   \n",
       "\n",
       "                        chain_3-SD_Pearson  chain_3-BF(dB)  chain_3-Beta_is  \\\n",
       "                                                                              \n",
       "jcf7190000000000-77738            0.141939       -7.948701         0.004884   \n",
       "jcf7190000000000-77764            0.125644       -8.818893         0.006700   \n",
       "jcf7190000000004-54418            0.152883      -11.195197         0.001824   \n",
       "jcf7190000000004-54508            0.116715       -8.996210         0.008835   \n",
       "jcf7190000000004-54540            0.142572       -6.728656        -0.008443   \n",
       "\n",
       "                        chain_3-SD_Beta_is  chain_3-eBPis chain_3-env  \\\n",
       "                                                                        \n",
       "jcf7190000000000-77738            0.012312       0.160125          TD   \n",
       "jcf7190000000000-77764            0.011436       0.253422          TD   \n",
       "jcf7190000000004-54418            0.007524       0.092361          TD   \n",
       "jcf7190000000004-54508            0.007458       0.626842          TD   \n",
       "jcf7190000000004-54540            0.008913       0.464098          TD   \n",
       "\n",
       "                        chain_4-COVARIABLE  chain_4-MRK  chain_4-M_Pearson  \\\n",
       "                                                                             \n",
       "jcf7190000000000-77738                   4            1           0.040790   \n",
       "jcf7190000000000-77764                   4            2           0.055892   \n",
       "jcf7190000000004-54418                   4            3           0.029393   \n",
       "jcf7190000000004-54508                   4            4           0.178100   \n",
       "jcf7190000000004-54540                   4            5          -0.146215   \n",
       "\n",
       "                        chain_4-SD_Pearson  chain_4-BF(dB)  chain_4-Beta_is  \\\n",
       "                                                                              \n",
       "jcf7190000000000-77738            0.143065       -8.247926         0.003447   \n",
       "jcf7190000000000-77764            0.140073       -8.688561         0.004729   \n",
       "jcf7190000000004-54418            0.155451      -10.883782         0.002118   \n",
       "jcf7190000000004-54508            0.123841       -7.792464         0.010440   \n",
       "jcf7190000000004-54540            0.139645       -6.483963        -0.008384   \n",
       "\n",
       "                        chain_4-SD_Beta_is  chain_4-eBPis chain_4-env  \\\n",
       "                                                                        \n",
       "jcf7190000000000-77738            0.012262       0.108679          TD   \n",
       "jcf7190000000000-77764            0.013162       0.143030          TD   \n",
       "jcf7190000000004-54418            0.007755       0.105274          TD   \n",
       "jcf7190000000004-54508            0.009024       0.606771          TD   \n",
       "jcf7190000000004-54540            0.008727       0.472768          TD   \n",
       "\n",
       "                        chain_5-COVARIABLE  chain_5-MRK  chain_5-M_Pearson  \\\n",
       "                                                                             \n",
       "jcf7190000000000-77738                   4            1           0.044477   \n",
       "jcf7190000000000-77764                   4            2           0.070906   \n",
       "jcf7190000000004-54418                   4            3           0.020913   \n",
       "jcf7190000000004-54508                   4            4           0.162778   \n",
       "jcf7190000000004-54540                   4            5          -0.135771   \n",
       "\n",
       "                        chain_5-SD_Pearson  chain_5-BF(dB)  chain_5-Beta_is  \\\n",
       "                                                                              \n",
       "jcf7190000000000-77738            0.136319       -9.383110         0.003829   \n",
       "jcf7190000000000-77764            0.138991       -8.601899         0.005808   \n",
       "jcf7190000000004-54418            0.155163       -8.300746         0.001655   \n",
       "jcf7190000000004-54508            0.115872       -8.616263         0.009363   \n",
       "jcf7190000000004-54540            0.141118       -6.958119        -0.007717   \n",
       "\n",
       "                        chain_5-SD_Beta_is  chain_5-eBPis chain_5-env  \\\n",
       "                                                                        \n",
       "jcf7190000000000-77738            0.012267       0.122097          TD   \n",
       "jcf7190000000000-77764            0.011649       0.208963          TD   \n",
       "jcf7190000000004-54418            0.007495       0.083397          TD   \n",
       "jcf7190000000004-54508            0.008113       0.604681          TD   \n",
       "jcf7190000000004-54540            0.008917       0.412503          TD   \n",
       "\n",
       "                        rank_chain_1-BF  rank_chain_2-BF  rank_chain_3-BF  \\\n",
       "                                                                            \n",
       "jcf7190000000000-77738           524663           699213           433277   \n",
       "jcf7190000000000-77764           530184           444368           587460   \n",
       "jcf7190000000004-54418          1378949          1555163          1405626   \n",
       "jcf7190000000004-54508           500902           495676           628471   \n",
       "jcf7190000000004-54540           316744           356759           294547   \n",
       "\n",
       "                        rank_chain_4-BF  rank_chain_5-BF   mean_BF  \\\n",
       "                                                                     \n",
       "jcf7190000000000-77738           479866           732316  0.135776   \n",
       "jcf7190000000000-77764           559849           543016  0.140143   \n",
       "jcf7190000000004-54418          1291990           488374  0.086494   \n",
       "jcf7190000000004-54508           412147           545802  0.143705   \n",
       "jcf7190000000004-54540           273891           316434  0.204326   \n",
       "\n",
       "                        rank_mean_BF  BF_gte20_for-gte3chains  \\\n",
       "                                                                \n",
       "jcf7190000000000-77738        553614                    False   \n",
       "jcf7190000000000-77764        526033                    False   \n",
       "jcf7190000000004-54418       1207536                    False   \n",
       "jcf7190000000004-54508        505562                    False   \n",
       "jcf7190000000004-54540        303450                    False   \n",
       "\n",
       "                        BF_gte15_for-gte3chains  \n",
       "                                                 \n",
       "jcf7190000000000-77738                    False  \n",
       "jcf7190000000000-77764                    False  \n",
       "jcf7190000000004-54418                    False  \n",
       "jcf7190000000004-54508                    False  \n",
       "jcf7190000000004-54540                    False  "
      ]
     },
     "execution_count": 79,
     "metadata": {},
     "output_type": "execute_result"
    }
   ],
   "source": [
    "# add in the new columns\n",
    "count = 0\n",
    "for env,df in envdfs.items():\n",
    "    update([count, env])\n",
    "    # keep original columns with chain info only\n",
    "    startcols = [col for col in df.columns if col.startswith('chain')]\n",
    "    assert len(bfcols) == 5\n",
    "    # grab the re-ranked columns\n",
    "    newcols = [col for col in new_envdfs[env].columns if col not in startcols]\n",
    "    envdfs[env] = pd.merge(df[startcols], new_envdfs[env][newcols], right_index=True, left_index=True)\n",
    "    count += 1\n",
    "envdfs[env].head()"
   ]
  },
  {
   "cell_type": "code",
   "execution_count": 80,
   "metadata": {},
   "outputs": [
    {
     "data": {
      "text/html": [
       "<div>\n",
       "<style scoped>\n",
       "    .dataframe tbody tr th:only-of-type {\n",
       "        vertical-align: middle;\n",
       "    }\n",
       "\n",
       "    .dataframe tbody tr th {\n",
       "        vertical-align: top;\n",
       "    }\n",
       "\n",
       "    .dataframe thead th {\n",
       "        text-align: right;\n",
       "    }\n",
       "</style>\n",
       "<table border=\"1\" class=\"dataframe\">\n",
       "  <thead>\n",
       "    <tr style=\"text-align: right;\">\n",
       "      <th></th>\n",
       "      <th>chain_1-COVARIABLE</th>\n",
       "      <th>chain_1-MRK</th>\n",
       "      <th>chain_1-M_Pearson</th>\n",
       "      <th>chain_1-SD_Pearson</th>\n",
       "      <th>chain_1-BF(dB)</th>\n",
       "      <th>chain_1-Beta_is</th>\n",
       "      <th>chain_1-SD_Beta_is</th>\n",
       "      <th>chain_1-eBPis</th>\n",
       "      <th>chain_1-env</th>\n",
       "      <th>chain_2-COVARIABLE</th>\n",
       "      <th>chain_2-MRK</th>\n",
       "      <th>chain_2-M_Pearson</th>\n",
       "      <th>chain_2-SD_Pearson</th>\n",
       "      <th>chain_2-BF(dB)</th>\n",
       "      <th>chain_2-Beta_is</th>\n",
       "      <th>chain_2-SD_Beta_is</th>\n",
       "      <th>chain_2-eBPis</th>\n",
       "      <th>chain_2-env</th>\n",
       "      <th>chain_3-COVARIABLE</th>\n",
       "      <th>chain_3-MRK</th>\n",
       "      <th>chain_3-M_Pearson</th>\n",
       "      <th>chain_3-SD_Pearson</th>\n",
       "      <th>chain_3-BF(dB)</th>\n",
       "      <th>chain_3-Beta_is</th>\n",
       "      <th>chain_3-SD_Beta_is</th>\n",
       "      <th>chain_3-eBPis</th>\n",
       "      <th>chain_3-env</th>\n",
       "      <th>chain_4-COVARIABLE</th>\n",
       "      <th>chain_4-MRK</th>\n",
       "      <th>chain_4-M_Pearson</th>\n",
       "      <th>chain_4-SD_Pearson</th>\n",
       "      <th>chain_4-BF(dB)</th>\n",
       "      <th>chain_4-Beta_is</th>\n",
       "      <th>chain_4-SD_Beta_is</th>\n",
       "      <th>chain_4-eBPis</th>\n",
       "      <th>chain_4-env</th>\n",
       "      <th>chain_5-COVARIABLE</th>\n",
       "      <th>chain_5-MRK</th>\n",
       "      <th>chain_5-M_Pearson</th>\n",
       "      <th>chain_5-SD_Pearson</th>\n",
       "      <th>chain_5-BF(dB)</th>\n",
       "      <th>chain_5-Beta_is</th>\n",
       "      <th>chain_5-SD_Beta_is</th>\n",
       "      <th>chain_5-eBPis</th>\n",
       "      <th>chain_5-env</th>\n",
       "      <th>rank_chain_1-BF</th>\n",
       "      <th>rank_chain_2-BF</th>\n",
       "      <th>rank_chain_3-BF</th>\n",
       "      <th>rank_chain_4-BF</th>\n",
       "      <th>rank_chain_5-BF</th>\n",
       "      <th>mean_BF</th>\n",
       "      <th>rank_mean_BF</th>\n",
       "      <th>BF_gte20_for-gte3chains</th>\n",
       "      <th>BF_gte15_for-gte3chains</th>\n",
       "      <th>rank_consistency_top1perc_for-gte3chains</th>\n",
       "    </tr>\n",
       "    <tr>\n",
       "      <th></th>\n",
       "      <th></th>\n",
       "      <th></th>\n",
       "      <th></th>\n",
       "      <th></th>\n",
       "      <th></th>\n",
       "      <th></th>\n",
       "      <th></th>\n",
       "      <th></th>\n",
       "      <th></th>\n",
       "      <th></th>\n",
       "      <th></th>\n",
       "      <th></th>\n",
       "      <th></th>\n",
       "      <th></th>\n",
       "      <th></th>\n",
       "      <th></th>\n",
       "      <th></th>\n",
       "      <th></th>\n",
       "      <th></th>\n",
       "      <th></th>\n",
       "      <th></th>\n",
       "      <th></th>\n",
       "      <th></th>\n",
       "      <th></th>\n",
       "      <th></th>\n",
       "      <th></th>\n",
       "      <th></th>\n",
       "      <th></th>\n",
       "      <th></th>\n",
       "      <th></th>\n",
       "      <th></th>\n",
       "      <th></th>\n",
       "      <th></th>\n",
       "      <th></th>\n",
       "      <th></th>\n",
       "      <th></th>\n",
       "      <th></th>\n",
       "      <th></th>\n",
       "      <th></th>\n",
       "      <th></th>\n",
       "      <th></th>\n",
       "      <th></th>\n",
       "      <th></th>\n",
       "      <th></th>\n",
       "      <th></th>\n",
       "      <th></th>\n",
       "      <th></th>\n",
       "      <th></th>\n",
       "      <th></th>\n",
       "      <th></th>\n",
       "      <th></th>\n",
       "      <th></th>\n",
       "      <th></th>\n",
       "      <th></th>\n",
       "      <th></th>\n",
       "    </tr>\n",
       "  </thead>\n",
       "  <tbody>\n",
       "    <tr>\n",
       "      <th>jcf7190000000000-77738</th>\n",
       "      <td>4</td>\n",
       "      <td>1</td>\n",
       "      <td>0.052606</td>\n",
       "      <td>0.139252</td>\n",
       "      <td>-8.509406</td>\n",
       "      <td>0.004511</td>\n",
       "      <td>0.012685</td>\n",
       "      <td>0.141382</td>\n",
       "      <td>TD</td>\n",
       "      <td>4</td>\n",
       "      <td>1</td>\n",
       "      <td>0.047391</td>\n",
       "      <td>0.139289</td>\n",
       "      <td>-9.269721</td>\n",
       "      <td>0.003929</td>\n",
       "      <td>0.011932</td>\n",
       "      <td>0.129636</td>\n",
       "      <td>TD</td>\n",
       "      <td>4</td>\n",
       "      <td>1</td>\n",
       "      <td>0.054793</td>\n",
       "      <td>0.141939</td>\n",
       "      <td>-7.948701</td>\n",
       "      <td>0.004884</td>\n",
       "      <td>0.012312</td>\n",
       "      <td>0.160125</td>\n",
       "      <td>TD</td>\n",
       "      <td>4</td>\n",
       "      <td>1</td>\n",
       "      <td>0.040790</td>\n",
       "      <td>0.143065</td>\n",
       "      <td>-8.247926</td>\n",
       "      <td>0.003447</td>\n",
       "      <td>0.012262</td>\n",
       "      <td>0.108679</td>\n",
       "      <td>TD</td>\n",
       "      <td>4</td>\n",
       "      <td>1</td>\n",
       "      <td>0.044477</td>\n",
       "      <td>0.136319</td>\n",
       "      <td>-9.383110</td>\n",
       "      <td>0.003829</td>\n",
       "      <td>0.012267</td>\n",
       "      <td>0.122097</td>\n",
       "      <td>TD</td>\n",
       "      <td>524663</td>\n",
       "      <td>699213</td>\n",
       "      <td>433277</td>\n",
       "      <td>479866</td>\n",
       "      <td>732316</td>\n",
       "      <td>0.135776</td>\n",
       "      <td>553614</td>\n",
       "      <td>False</td>\n",
       "      <td>False</td>\n",
       "      <td>False</td>\n",
       "    </tr>\n",
       "    <tr>\n",
       "      <th>jcf7190000000000-77764</th>\n",
       "      <td>4</td>\n",
       "      <td>2</td>\n",
       "      <td>0.055272</td>\n",
       "      <td>0.149463</td>\n",
       "      <td>-8.537988</td>\n",
       "      <td>0.004356</td>\n",
       "      <td>0.013015</td>\n",
       "      <td>0.132021</td>\n",
       "      <td>TD</td>\n",
       "      <td>4</td>\n",
       "      <td>2</td>\n",
       "      <td>0.079474</td>\n",
       "      <td>0.145473</td>\n",
       "      <td>-8.024145</td>\n",
       "      <td>0.006985</td>\n",
       "      <td>0.013533</td>\n",
       "      <td>0.217692</td>\n",
       "      <td>TD</td>\n",
       "      <td>4</td>\n",
       "      <td>2</td>\n",
       "      <td>0.077141</td>\n",
       "      <td>0.125644</td>\n",
       "      <td>-8.818893</td>\n",
       "      <td>0.006700</td>\n",
       "      <td>0.011436</td>\n",
       "      <td>0.253422</td>\n",
       "      <td>TD</td>\n",
       "      <td>4</td>\n",
       "      <td>2</td>\n",
       "      <td>0.055892</td>\n",
       "      <td>0.140073</td>\n",
       "      <td>-8.688561</td>\n",
       "      <td>0.004729</td>\n",
       "      <td>0.013162</td>\n",
       "      <td>0.143030</td>\n",
       "      <td>TD</td>\n",
       "      <td>4</td>\n",
       "      <td>2</td>\n",
       "      <td>0.070906</td>\n",
       "      <td>0.138991</td>\n",
       "      <td>-8.601899</td>\n",
       "      <td>0.005808</td>\n",
       "      <td>0.011649</td>\n",
       "      <td>0.208963</td>\n",
       "      <td>TD</td>\n",
       "      <td>530184</td>\n",
       "      <td>444368</td>\n",
       "      <td>587460</td>\n",
       "      <td>559849</td>\n",
       "      <td>543016</td>\n",
       "      <td>0.140143</td>\n",
       "      <td>526033</td>\n",
       "      <td>False</td>\n",
       "      <td>False</td>\n",
       "      <td>False</td>\n",
       "    </tr>\n",
       "    <tr>\n",
       "      <th>jcf7190000000004-54418</th>\n",
       "      <td>4</td>\n",
       "      <td>3</td>\n",
       "      <td>0.022225</td>\n",
       "      <td>0.155169</td>\n",
       "      <td>-11.121776</td>\n",
       "      <td>0.001822</td>\n",
       "      <td>0.007886</td>\n",
       "      <td>0.087604</td>\n",
       "      <td>TD</td>\n",
       "      <td>4</td>\n",
       "      <td>3</td>\n",
       "      <td>0.018410</td>\n",
       "      <td>0.151466</td>\n",
       "      <td>-11.649164</td>\n",
       "      <td>0.001445</td>\n",
       "      <td>0.007233</td>\n",
       "      <td>0.074889</td>\n",
       "      <td>TD</td>\n",
       "      <td>4</td>\n",
       "      <td>3</td>\n",
       "      <td>0.025411</td>\n",
       "      <td>0.152883</td>\n",
       "      <td>-11.195197</td>\n",
       "      <td>0.001824</td>\n",
       "      <td>0.007524</td>\n",
       "      <td>0.092361</td>\n",
       "      <td>TD</td>\n",
       "      <td>4</td>\n",
       "      <td>3</td>\n",
       "      <td>0.029393</td>\n",
       "      <td>0.155451</td>\n",
       "      <td>-10.883782</td>\n",
       "      <td>0.002118</td>\n",
       "      <td>0.007755</td>\n",
       "      <td>0.105274</td>\n",
       "      <td>TD</td>\n",
       "      <td>4</td>\n",
       "      <td>3</td>\n",
       "      <td>0.020913</td>\n",
       "      <td>0.155163</td>\n",
       "      <td>-8.300746</td>\n",
       "      <td>0.001655</td>\n",
       "      <td>0.007495</td>\n",
       "      <td>0.083397</td>\n",
       "      <td>TD</td>\n",
       "      <td>1378949</td>\n",
       "      <td>1555163</td>\n",
       "      <td>1405626</td>\n",
       "      <td>1291990</td>\n",
       "      <td>488374</td>\n",
       "      <td>0.086494</td>\n",
       "      <td>1207536</td>\n",
       "      <td>False</td>\n",
       "      <td>False</td>\n",
       "      <td>False</td>\n",
       "    </tr>\n",
       "    <tr>\n",
       "      <th>jcf7190000000004-54508</th>\n",
       "      <td>4</td>\n",
       "      <td>4</td>\n",
       "      <td>0.160345</td>\n",
       "      <td>0.119940</td>\n",
       "      <td>-8.376227</td>\n",
       "      <td>0.009439</td>\n",
       "      <td>0.008651</td>\n",
       "      <td>0.560282</td>\n",
       "      <td>TD</td>\n",
       "      <td>4</td>\n",
       "      <td>4</td>\n",
       "      <td>0.153904</td>\n",
       "      <td>0.119523</td>\n",
       "      <td>-8.345275</td>\n",
       "      <td>0.008835</td>\n",
       "      <td>0.008046</td>\n",
       "      <td>0.565179</td>\n",
       "      <td>TD</td>\n",
       "      <td>4</td>\n",
       "      <td>4</td>\n",
       "      <td>0.158885</td>\n",
       "      <td>0.116715</td>\n",
       "      <td>-8.996210</td>\n",
       "      <td>0.008835</td>\n",
       "      <td>0.007458</td>\n",
       "      <td>0.626842</td>\n",
       "      <td>TD</td>\n",
       "      <td>4</td>\n",
       "      <td>4</td>\n",
       "      <td>0.178100</td>\n",
       "      <td>0.123841</td>\n",
       "      <td>-7.792464</td>\n",
       "      <td>0.010440</td>\n",
       "      <td>0.009024</td>\n",
       "      <td>0.606771</td>\n",
       "      <td>TD</td>\n",
       "      <td>4</td>\n",
       "      <td>4</td>\n",
       "      <td>0.162778</td>\n",
       "      <td>0.115872</td>\n",
       "      <td>-8.616263</td>\n",
       "      <td>0.009363</td>\n",
       "      <td>0.008113</td>\n",
       "      <td>0.604681</td>\n",
       "      <td>TD</td>\n",
       "      <td>500902</td>\n",
       "      <td>495676</td>\n",
       "      <td>628471</td>\n",
       "      <td>412147</td>\n",
       "      <td>545802</td>\n",
       "      <td>0.143705</td>\n",
       "      <td>505562</td>\n",
       "      <td>False</td>\n",
       "      <td>False</td>\n",
       "      <td>False</td>\n",
       "    </tr>\n",
       "    <tr>\n",
       "      <th>jcf7190000000004-54540</th>\n",
       "      <td>4</td>\n",
       "      <td>5</td>\n",
       "      <td>-0.152640</td>\n",
       "      <td>0.141437</td>\n",
       "      <td>-6.963774</td>\n",
       "      <td>-0.008843</td>\n",
       "      <td>0.008903</td>\n",
       "      <td>0.494021</td>\n",
       "      <td>TD</td>\n",
       "      <td>4</td>\n",
       "      <td>5</td>\n",
       "      <td>-0.139895</td>\n",
       "      <td>0.137734</td>\n",
       "      <td>-7.349303</td>\n",
       "      <td>-0.007856</td>\n",
       "      <td>0.008444</td>\n",
       "      <td>0.453218</td>\n",
       "      <td>TD</td>\n",
       "      <td>4</td>\n",
       "      <td>5</td>\n",
       "      <td>-0.147504</td>\n",
       "      <td>0.142572</td>\n",
       "      <td>-6.728656</td>\n",
       "      <td>-0.008443</td>\n",
       "      <td>0.008913</td>\n",
       "      <td>0.464098</td>\n",
       "      <td>TD</td>\n",
       "      <td>4</td>\n",
       "      <td>5</td>\n",
       "      <td>-0.146215</td>\n",
       "      <td>0.139645</td>\n",
       "      <td>-6.483963</td>\n",
       "      <td>-0.008384</td>\n",
       "      <td>0.008727</td>\n",
       "      <td>0.472768</td>\n",
       "      <td>TD</td>\n",
       "      <td>4</td>\n",
       "      <td>5</td>\n",
       "      <td>-0.135771</td>\n",
       "      <td>0.141118</td>\n",
       "      <td>-6.958119</td>\n",
       "      <td>-0.007717</td>\n",
       "      <td>0.008917</td>\n",
       "      <td>0.412503</td>\n",
       "      <td>TD</td>\n",
       "      <td>316744</td>\n",
       "      <td>356759</td>\n",
       "      <td>294547</td>\n",
       "      <td>273891</td>\n",
       "      <td>316434</td>\n",
       "      <td>0.204326</td>\n",
       "      <td>303450</td>\n",
       "      <td>False</td>\n",
       "      <td>False</td>\n",
       "      <td>False</td>\n",
       "    </tr>\n",
       "  </tbody>\n",
       "</table>\n",
       "</div>"
      ],
      "text/plain": [
       "                        chain_1-COVARIABLE  chain_1-MRK  chain_1-M_Pearson  \\\n",
       "                                                                             \n",
       "jcf7190000000000-77738                   4            1           0.052606   \n",
       "jcf7190000000000-77764                   4            2           0.055272   \n",
       "jcf7190000000004-54418                   4            3           0.022225   \n",
       "jcf7190000000004-54508                   4            4           0.160345   \n",
       "jcf7190000000004-54540                   4            5          -0.152640   \n",
       "\n",
       "                        chain_1-SD_Pearson  chain_1-BF(dB)  chain_1-Beta_is  \\\n",
       "                                                                              \n",
       "jcf7190000000000-77738            0.139252       -8.509406         0.004511   \n",
       "jcf7190000000000-77764            0.149463       -8.537988         0.004356   \n",
       "jcf7190000000004-54418            0.155169      -11.121776         0.001822   \n",
       "jcf7190000000004-54508            0.119940       -8.376227         0.009439   \n",
       "jcf7190000000004-54540            0.141437       -6.963774        -0.008843   \n",
       "\n",
       "                        chain_1-SD_Beta_is  chain_1-eBPis chain_1-env  \\\n",
       "                                                                        \n",
       "jcf7190000000000-77738            0.012685       0.141382          TD   \n",
       "jcf7190000000000-77764            0.013015       0.132021          TD   \n",
       "jcf7190000000004-54418            0.007886       0.087604          TD   \n",
       "jcf7190000000004-54508            0.008651       0.560282          TD   \n",
       "jcf7190000000004-54540            0.008903       0.494021          TD   \n",
       "\n",
       "                        chain_2-COVARIABLE  chain_2-MRK  chain_2-M_Pearson  \\\n",
       "                                                                             \n",
       "jcf7190000000000-77738                   4            1           0.047391   \n",
       "jcf7190000000000-77764                   4            2           0.079474   \n",
       "jcf7190000000004-54418                   4            3           0.018410   \n",
       "jcf7190000000004-54508                   4            4           0.153904   \n",
       "jcf7190000000004-54540                   4            5          -0.139895   \n",
       "\n",
       "                        chain_2-SD_Pearson  chain_2-BF(dB)  chain_2-Beta_is  \\\n",
       "                                                                              \n",
       "jcf7190000000000-77738            0.139289       -9.269721         0.003929   \n",
       "jcf7190000000000-77764            0.145473       -8.024145         0.006985   \n",
       "jcf7190000000004-54418            0.151466      -11.649164         0.001445   \n",
       "jcf7190000000004-54508            0.119523       -8.345275         0.008835   \n",
       "jcf7190000000004-54540            0.137734       -7.349303        -0.007856   \n",
       "\n",
       "                        chain_2-SD_Beta_is  chain_2-eBPis chain_2-env  \\\n",
       "                                                                        \n",
       "jcf7190000000000-77738            0.011932       0.129636          TD   \n",
       "jcf7190000000000-77764            0.013533       0.217692          TD   \n",
       "jcf7190000000004-54418            0.007233       0.074889          TD   \n",
       "jcf7190000000004-54508            0.008046       0.565179          TD   \n",
       "jcf7190000000004-54540            0.008444       0.453218          TD   \n",
       "\n",
       "                        chain_3-COVARIABLE  chain_3-MRK  chain_3-M_Pearson  \\\n",
       "                                                                             \n",
       "jcf7190000000000-77738                   4            1           0.054793   \n",
       "jcf7190000000000-77764                   4            2           0.077141   \n",
       "jcf7190000000004-54418                   4            3           0.025411   \n",
       "jcf7190000000004-54508                   4            4           0.158885   \n",
       "jcf7190000000004-54540                   4            5          -0.147504   \n",
       "\n",
       "                        chain_3-SD_Pearson  chain_3-BF(dB)  chain_3-Beta_is  \\\n",
       "                                                                              \n",
       "jcf7190000000000-77738            0.141939       -7.948701         0.004884   \n",
       "jcf7190000000000-77764            0.125644       -8.818893         0.006700   \n",
       "jcf7190000000004-54418            0.152883      -11.195197         0.001824   \n",
       "jcf7190000000004-54508            0.116715       -8.996210         0.008835   \n",
       "jcf7190000000004-54540            0.142572       -6.728656        -0.008443   \n",
       "\n",
       "                        chain_3-SD_Beta_is  chain_3-eBPis chain_3-env  \\\n",
       "                                                                        \n",
       "jcf7190000000000-77738            0.012312       0.160125          TD   \n",
       "jcf7190000000000-77764            0.011436       0.253422          TD   \n",
       "jcf7190000000004-54418            0.007524       0.092361          TD   \n",
       "jcf7190000000004-54508            0.007458       0.626842          TD   \n",
       "jcf7190000000004-54540            0.008913       0.464098          TD   \n",
       "\n",
       "                        chain_4-COVARIABLE  chain_4-MRK  chain_4-M_Pearson  \\\n",
       "                                                                             \n",
       "jcf7190000000000-77738                   4            1           0.040790   \n",
       "jcf7190000000000-77764                   4            2           0.055892   \n",
       "jcf7190000000004-54418                   4            3           0.029393   \n",
       "jcf7190000000004-54508                   4            4           0.178100   \n",
       "jcf7190000000004-54540                   4            5          -0.146215   \n",
       "\n",
       "                        chain_4-SD_Pearson  chain_4-BF(dB)  chain_4-Beta_is  \\\n",
       "                                                                              \n",
       "jcf7190000000000-77738            0.143065       -8.247926         0.003447   \n",
       "jcf7190000000000-77764            0.140073       -8.688561         0.004729   \n",
       "jcf7190000000004-54418            0.155451      -10.883782         0.002118   \n",
       "jcf7190000000004-54508            0.123841       -7.792464         0.010440   \n",
       "jcf7190000000004-54540            0.139645       -6.483963        -0.008384   \n",
       "\n",
       "                        chain_4-SD_Beta_is  chain_4-eBPis chain_4-env  \\\n",
       "                                                                        \n",
       "jcf7190000000000-77738            0.012262       0.108679          TD   \n",
       "jcf7190000000000-77764            0.013162       0.143030          TD   \n",
       "jcf7190000000004-54418            0.007755       0.105274          TD   \n",
       "jcf7190000000004-54508            0.009024       0.606771          TD   \n",
       "jcf7190000000004-54540            0.008727       0.472768          TD   \n",
       "\n",
       "                        chain_5-COVARIABLE  chain_5-MRK  chain_5-M_Pearson  \\\n",
       "                                                                             \n",
       "jcf7190000000000-77738                   4            1           0.044477   \n",
       "jcf7190000000000-77764                   4            2           0.070906   \n",
       "jcf7190000000004-54418                   4            3           0.020913   \n",
       "jcf7190000000004-54508                   4            4           0.162778   \n",
       "jcf7190000000004-54540                   4            5          -0.135771   \n",
       "\n",
       "                        chain_5-SD_Pearson  chain_5-BF(dB)  chain_5-Beta_is  \\\n",
       "                                                                              \n",
       "jcf7190000000000-77738            0.136319       -9.383110         0.003829   \n",
       "jcf7190000000000-77764            0.138991       -8.601899         0.005808   \n",
       "jcf7190000000004-54418            0.155163       -8.300746         0.001655   \n",
       "jcf7190000000004-54508            0.115872       -8.616263         0.009363   \n",
       "jcf7190000000004-54540            0.141118       -6.958119        -0.007717   \n",
       "\n",
       "                        chain_5-SD_Beta_is  chain_5-eBPis chain_5-env  \\\n",
       "                                                                        \n",
       "jcf7190000000000-77738            0.012267       0.122097          TD   \n",
       "jcf7190000000000-77764            0.011649       0.208963          TD   \n",
       "jcf7190000000004-54418            0.007495       0.083397          TD   \n",
       "jcf7190000000004-54508            0.008113       0.604681          TD   \n",
       "jcf7190000000004-54540            0.008917       0.412503          TD   \n",
       "\n",
       "                        rank_chain_1-BF  rank_chain_2-BF  rank_chain_3-BF  \\\n",
       "                                                                            \n",
       "jcf7190000000000-77738           524663           699213           433277   \n",
       "jcf7190000000000-77764           530184           444368           587460   \n",
       "jcf7190000000004-54418          1378949          1555163          1405626   \n",
       "jcf7190000000004-54508           500902           495676           628471   \n",
       "jcf7190000000004-54540           316744           356759           294547   \n",
       "\n",
       "                        rank_chain_4-BF  rank_chain_5-BF   mean_BF  \\\n",
       "                                                                     \n",
       "jcf7190000000000-77738           479866           732316  0.135776   \n",
       "jcf7190000000000-77764           559849           543016  0.140143   \n",
       "jcf7190000000004-54418          1291990           488374  0.086494   \n",
       "jcf7190000000004-54508           412147           545802  0.143705   \n",
       "jcf7190000000004-54540           273891           316434  0.204326   \n",
       "\n",
       "                        rank_mean_BF  BF_gte20_for-gte3chains  \\\n",
       "                                                                \n",
       "jcf7190000000000-77738        553614                    False   \n",
       "jcf7190000000000-77764        526033                    False   \n",
       "jcf7190000000004-54418       1207536                    False   \n",
       "jcf7190000000004-54508        505562                    False   \n",
       "jcf7190000000004-54540        303450                    False   \n",
       "\n",
       "                        BF_gte15_for-gte3chains  \\\n",
       "                                                  \n",
       "jcf7190000000000-77738                    False   \n",
       "jcf7190000000000-77764                    False   \n",
       "jcf7190000000004-54418                    False   \n",
       "jcf7190000000004-54508                    False   \n",
       "jcf7190000000004-54540                    False   \n",
       "\n",
       "                        rank_consistency_top1perc_for-gte3chains  \n",
       "                                                                  \n",
       "jcf7190000000000-77738                                     False  \n",
       "jcf7190000000000-77764                                     False  \n",
       "jcf7190000000004-54418                                     False  \n",
       "jcf7190000000004-54508                                     False  \n",
       "jcf7190000000004-54540                                     False  "
      ]
     },
     "execution_count": 80,
     "metadata": {},
     "output_type": "execute_result"
    }
   ],
   "source": [
    "# add column for rank consistency (True if SNP is ranked in top 1% for >= 3 chains)\n",
    "# also add a column for mean_BF >= 20\n",
    "for env,df in envdfs.items():\n",
    "    oneperc = math.ceil(0.01*nrow(df))\n",
    "    rankcols = [col for col in df if 'rank_chain' in col]\n",
    "    envdfs[env]['rank_consistency_top1perc_for-gte3chains'] = (df[rankcols] < oneperc).sum(axis=1) >= 3\n",
    "envdfs[env].head()"
   ]
  },
  {
   "cell_type": "code",
   "execution_count": 86,
   "metadata": {},
   "outputs": [
    {
     "name": "stderr",
     "output_type": "stream",
     "text": [
      "FFP: 100%|██████████| 55/55 [00:03<00:00, 15.95it/s]\n",
      "Eref: 100%|██████████| 55/55 [00:03<00:00, 15.80it/s]\n",
      "SHM: 100%|██████████| 55/55 [00:03<00:00, 15.94it/s]\n",
      "PAS: 100%|██████████| 55/55 [00:03<00:00, 15.83it/s]\n",
      "MAT: 100%|██████████| 55/55 [00:03<00:00, 15.60it/s]\n",
      "EMT: 100%|██████████| 55/55 [00:03<00:00, 15.47it/s]\n",
      "bFFP: 100%|██████████| 55/55 [00:03<00:00, 15.71it/s]\n",
      "DD5: 100%|██████████| 55/55 [00:03<00:00, 15.78it/s]\n",
      "NFFD: 100%|██████████| 55/55 [00:03<00:00, 15.42it/s]\n",
      "MCMT: 100%|██████████| 55/55 [00:03<00:00, 15.60it/s]\n",
      "MWMT: 100%|██████████| 55/55 [00:03<00:00, 15.56it/s]\n",
      "DD_0: 100%|██████████| 55/55 [00:03<00:00, 15.62it/s]\n",
      "EXT: 100%|██████████| 55/55 [00:03<00:00, 15.68it/s]\n",
      "eFFP: 100%|██████████| 55/55 [00:03<00:00, 15.64it/s]\n",
      "MSP: 100%|██████████| 55/55 [00:03<00:00, 15.81it/s]\n",
      "AHM: 100%|██████████| 55/55 [00:03<00:00, 15.98it/s]\n",
      "CMD: 100%|██████████| 55/55 [00:03<00:00, 15.94it/s]\n",
      "MAP: 100%|██████████| 55/55 [00:03<00:00, 15.75it/s]\n",
      "TD: 100%|██████████| 55/55 [00:03<00:00, 15.68it/s]\n"
     ]
    }
   ],
   "source": [
    "# make sure that there are no ranks repeated\n",
    "for env,df in envdfs.items():\n",
    "    for col in nb(df.columns, desc=env):\n",
    "        if col.startswith('rank') and 'consistency' not in col:\n",
    "            assert nrow(df) == luni(df[col])"
   ]
  },
  {
   "cell_type": "code",
   "execution_count": 89,
   "metadata": {},
   "outputs": [],
   "source": [
    "def write_file(df, file, sep='\\t', index=False):\n",
    "    import pandas\n",
    "    df['locus'] = df.index.tolist()\n",
    "    df = df[['locus'] + [col for col in df.columns if col != 'locus']]\n",
    "    df.to_csv(file, sep=sep, index=index)\n",
    "    return file"
   ]
  },
  {
   "cell_type": "code",
   "execution_count": 91,
   "metadata": {},
   "outputs": [
    {
     "data": {
      "text/plain": [
       "'/lu213/brandon.lind/projects/pool_seq/DF_datasets/DF_pooled_GEA/DF_pooled/snpsANDindels/coastal_variety/03_maf-p05_RD-recalculated_FDC/baypass/final_results'"
      ]
     },
     "execution_count": 91,
     "metadata": {},
     "output_type": "execute_result"
    }
   ],
   "source": [
    "finaldir = makedir(op.join(baydir, 'final_results'))\n",
    "finaldir"
   ]
  },
  {
   "cell_type": "code",
   "execution_count": 92,
   "metadata": {},
   "outputs": [
    {
     "name": "stdout",
     "output_type": "stream",
     "text": [
      "\u001b[1m\n",
      "Watching 19 final jobs ...\u001b[0m\n"
     ]
    },
    {
     "name": "stderr",
     "output_type": "stream",
     "text": [
      "final: 100%|██████████| 19/19 [02:15<00:00,  7.11s/it]\n"
     ]
    }
   ],
   "source": [
    "# save files - overwrite previous saved files that included newREPEATS\n",
    "jobs = []\n",
    "for env,df in envdfs.items():\n",
    "    file = op.join(finaldir, f'coastal_maf-p05_RD-recalculated_ADP-lt-1000_{env}.txt')\n",
    "    jobs.append(lview.apply_async(write_file, *(df, file)))\n",
    "watch_async(jobs, phase='final')"
   ]
  },
  {
   "cell_type": "code",
   "execution_count": 93,
   "metadata": {},
   "outputs": [],
   "source": [
    "# save pkl for easy loading\n",
    "pkldump(envdfs, op.join(finaldir, 'envdfs_after_ranking.pkl'))"
   ]
  },
  {
   "cell_type": "code",
   "execution_count": 94,
   "metadata": {},
   "outputs": [
    {
     "name": "stdout",
     "output_type": "stream",
     "text": [
      "\u001b[92m\u001b[1mCoastal\n",
      "\u001b[0m\u001b[0m\n",
      "Env   BFConsistent20  BFConsistent15  BFMean20\t  BFMean15   RankConsistent\n",
      "AHM \t 888 \t\t 1211 \t\t 955 \t    1287 \t 16695\n",
      "CMD \t 7122 \t\t 9369 \t\t 7711 \t    10179 \t 19192\n",
      "DD5 \t 939 \t\t 1317 \t\t 1040 \t    1485 \t 17069\n",
      "DD_0 \t 1201 \t\t 1668 \t\t 1332 \t    1876 \t 17833\n",
      "EMT \t 807 \t\t 1129 \t\t 888 \t    1234 \t 17379\n",
      "EXT \t 1877 \t\t 2623 \t\t 2075 \t    2964 \t 17805\n",
      "Eref \t 12152 \t\t 15714 \t\t 13085 \t    16972 \t 19470\n",
      "FFP \t 300 \t\t 423 \t\t 318 \t    450 \t 15717\n",
      "MAP \t 858 \t\t 1230 \t\t 948 \t    1368 \t 17581\n",
      "MAT \t 786 \t\t 1111 \t\t 858 \t    1273 \t 16982\n",
      "MCMT \t 1150 \t\t 1616 \t\t 1273 \t    1777 \t 17907\n",
      "MSP \t 2121 \t\t 2912 \t\t 2365 \t    3231 \t 17995\n",
      "MWMT \t 1971 \t\t 2672 \t\t 2198 \t    2922 \t 17952\n",
      "NFFD \t 427 \t\t 595 \t\t 469 \t    686 \t 16247\n",
      "PAS \t 574 \t\t 808 \t\t 622 \t    876 \t 16254\n",
      "SHM \t 3159 \t\t 4072 \t\t 3446 \t    4454 \t 16867\n",
      "TD \t 1613 \t\t 2088 \t\t 1742 \t    2284 \t 18239\n",
      "bFFP \t 293 \t\t 392 \t\t 308 \t    445 \t 15667\n",
      "eFFP \t 402 \t\t 577 \t\t 435 \t    637 \t 16177\n"
     ]
    }
   ],
   "source": [
    "# print table with outliers based on several criteria\n",
    "print(ColorText('Coastal\\n').bold().green())\n",
    "print('Env   BFConsistent20  BFConsistent15  BFMean20\\t  BFMean15   RankConsistent')\n",
    "for env in sorted(envdfs.keys()):\n",
    "    df = envdfs[env]\n",
    "    print(env,\n",
    "          '\\t',sum(df['BF_gte20_for-gte3chains']),\n",
    "          '\\t\\t',sum(df['BF_gte15_for-gte3chains']),\n",
    "          '\\t\\t',sum(df['mean_BF']>=20),\n",
    "          '\\t   ',sum(df['mean_BF']>=15),\n",
    "          '\\t', sum(df['rank_consistency_top1perc_for-gte3chains']))"
   ]
  },
  {
   "cell_type": "code",
   "execution_count": 95,
   "metadata": {},
   "outputs": [
    {
     "data": {
      "text/plain": [
       "22914.850000000002"
      ]
     },
     "execution_count": 95,
     "metadata": {},
     "output_type": "execute_result"
    }
   ],
   "source": [
    "# what should I expect for the number in top 1%?\n",
    "0.01*nrow(df)"
   ]
  },
  {
   "cell_type": "markdown",
   "metadata": {},
   "source": [
    "# look at BF scores for consistent top 1% ranks"
   ]
  },
  {
   "cell_type": "code",
   "execution_count": 4,
   "metadata": {},
   "outputs": [],
   "source": [
    "from collections import defaultdict"
   ]
  },
  {
   "cell_type": "code",
   "execution_count": 5,
   "metadata": {},
   "outputs": [],
   "source": [
    "# reload data\n",
    "finaldir = op.join(baydir, 'final_results')\n",
    "envdfs = pklload(op.join(finaldir, 'envdfs_after_ranking.pkl'))"
   ]
  },
  {
   "cell_type": "code",
   "execution_count": 6,
   "metadata": {
    "scrolled": false
   },
   "outputs": [
    {
     "name": "stdout",
     "output_type": "stream",
     "text": [
      "\u001b[1mFFP\u001b[0m 15717\n",
      "\tnumber of loci with meanBF >= 0 :  15717 (True)\n",
      "\tnumber of loci with meanBF >= 10 :  796\n",
      "\tnumber of loci with meanBF >= 15 :  450\n",
      "\tnumber of loci with meanBF >= 20 :  318\n",
      "\tfraction of BF >= 15 :  0.03\n",
      "\tfraction of BF >= 10 :  0.05\n"
     ]
    },
    {
     "data": {
      "image/png": "[encoded data removed]",
      "text/plain": [
       "<Figure size 432x288 with 1 Axes>"
      ]
     },
     "metadata": {
      "needs_background": "light"
     },
     "output_type": "display_data"
    },
    {
     "name": "stdout",
     "output_type": "stream",
     "text": [
      "\n",
      "\n",
      "\u001b[1mEref\u001b[0m 19470\n",
      "\tnumber of loci with meanBF >= 0 :  19470 (True)\n",
      "\tnumber of loci with meanBF >= 10 :  19412\n",
      "\tnumber of loci with meanBF >= 15 :  16491\n",
      "\tnumber of loci with meanBF >= 20 :  12981\n",
      "\tfraction of BF >= 15 :  0.85\n",
      "\tfraction of BF >= 10 :  1.0\n",
      "\u001b[1m\u001b[93m\tnot all SNPs with BF >= 15 are consistently in top 1% : full (16972) vs 1% (16491) (diff = 481)\u001b[0m\u001b[0m\n",
      "\u001b[1m\u001b[93m\tnot all SNPs with BF >= 20 are consistently in top 1% : full (13085) vs 1% (12981) (diff = 104)\u001b[0m\u001b[0m\n"
     ]
    },
    {
     "data": {
      "image/png": "[encoded data removed]",
      "text/plain": [
       "<Figure size 432x288 with 1 Axes>"
      ]
     },
     "metadata": {
      "needs_background": "light"
     },
     "output_type": "display_data"
    },
    {
     "name": "stdout",
     "output_type": "stream",
     "text": [
      "\n",
      "\n",
      "\u001b[1mSHM\u001b[0m 16867\n",
      "\tnumber of loci with meanBF >= 0 :  16867 (True)\n",
      "\tnumber of loci with meanBF >= 10 :  6444\n",
      "\tnumber of loci with meanBF >= 15 :  4454\n",
      "\tnumber of loci with meanBF >= 20 :  3446\n",
      "\tfraction of BF >= 15 :  0.26\n",
      "\tfraction of BF >= 10 :  0.38\n"
     ]
    },
    {
     "data": {
      "image/png": "[encoded data removed]",
      "text/plain": [
       "<Figure size 432x288 with 1 Axes>"
      ]
     },
     "metadata": {
      "needs_background": "light"
     },
     "output_type": "display_data"
    },
    {
     "name": "stdout",
     "output_type": "stream",
     "text": [
      "\n",
      "\n",
      "\u001b[1mPAS\u001b[0m 16254\n",
      "\tnumber of loci with meanBF >= 0 :  16254 (True)\n",
      "\tnumber of loci with meanBF >= 10 :  1460\n",
      "\tnumber of loci with meanBF >= 15 :  876\n",
      "\tnumber of loci with meanBF >= 20 :  622\n",
      "\tfraction of BF >= 15 :  0.05\n",
      "\tfraction of BF >= 10 :  0.09\n"
     ]
    },
    {
     "data": {
      "image/png": "[encoded data removed]",
      "text/plain": [
       "<Figure size 432x288 with 1 Axes>"
      ]
     },
     "metadata": {
      "needs_background": "light"
     },
     "output_type": "display_data"
    },
    {
     "name": "stdout",
     "output_type": "stream",
     "text": [
      "\n",
      "\n",
      "\u001b[1mMAT\u001b[0m 16982\n",
      "\tnumber of loci with meanBF >= 0 :  16982 (True)\n",
      "\tnumber of loci with meanBF >= 10 :  2112\n",
      "\tnumber of loci with meanBF >= 15 :  1273\n",
      "\tnumber of loci with meanBF >= 20 :  858\n",
      "\tfraction of BF >= 15 :  0.07\n",
      "\tfraction of BF >= 10 :  0.12\n"
     ]
    },
    {
     "data": {
      "image/png": "[encoded data removed]",
      "text/plain": [
       "<Figure size 432x288 with 1 Axes>"
      ]
     },
     "metadata": {
      "needs_background": "light"
     },
     "output_type": "display_data"
    },
    {
     "name": "stdout",
     "output_type": "stream",
     "text": [
      "\n",
      "\n",
      "\u001b[1mEMT\u001b[0m 17379\n",
      "\tnumber of loci with meanBF >= 0 :  17379 (True)\n",
      "\tnumber of loci with meanBF >= 10 :  1978\n",
      "\tnumber of loci with meanBF >= 15 :  1234\n",
      "\tnumber of loci with meanBF >= 20 :  888\n",
      "\tfraction of BF >= 15 :  0.07\n",
      "\tfraction of BF >= 10 :  0.11\n"
     ]
    },
    {
     "data": {
      "image/png": "[encoded data removed]",
      "text/plain": [
       "<Figure size 432x288 with 1 Axes>"
      ]
     },
     "metadata": {
      "needs_background": "light"
     },
     "output_type": "display_data"
    },
    {
     "name": "stdout",
     "output_type": "stream",
     "text": [
      "\n",
      "\n",
      "\u001b[1mbFFP\u001b[0m 15667\n",
      "\tnumber of loci with meanBF >= 0 :  15667 (True)\n",
      "\tnumber of loci with meanBF >= 10 :  762\n",
      "\tnumber of loci with meanBF >= 15 :  445\n",
      "\tnumber of loci with meanBF >= 20 :  308\n",
      "\tfraction of BF >= 15 :  0.03\n",
      "\tfraction of BF >= 10 :  0.05\n"
     ]
    },
    {
     "data": {
      "image/png": "[encoded data removed]",
      "text/plain": [
       "<Figure size 432x288 with 1 Axes>"
      ]
     },
     "metadata": {
      "needs_background": "light"
     },
     "output_type": "display_data"
    },
    {
     "name": "stdout",
     "output_type": "stream",
     "text": [
      "\n",
      "\n",
      "\u001b[1mDD5\u001b[0m 17069\n",
      "\tnumber of loci with meanBF >= 0 :  17069 (True)\n",
      "\tnumber of loci with meanBF >= 10 :  2418\n",
      "\tnumber of loci with meanBF >= 15 :  1485\n",
      "\tnumber of loci with meanBF >= 20 :  1040\n",
      "\tfraction of BF >= 15 :  0.09\n",
      "\tfraction of BF >= 10 :  0.14\n"
     ]
    },
    {
     "data": {
      "image/png": "[encoded data removed]",
      "text/plain": [
       "<Figure size 432x288 with 1 Axes>"
      ]
     },
     "metadata": {
      "needs_background": "light"
     },
     "output_type": "display_data"
    },
    {
     "name": "stdout",
     "output_type": "stream",
     "text": [
      "\n",
      "\n",
      "\u001b[1mNFFD\u001b[0m 16247\n",
      "\tnumber of loci with meanBF >= 0 :  16247 (True)\n",
      "\tnumber of loci with meanBF >= 10 :  1109\n",
      "\tnumber of loci with meanBF >= 15 :  686\n",
      "\tnumber of loci with meanBF >= 20 :  469\n",
      "\tfraction of BF >= 15 :  0.04\n",
      "\tfraction of BF >= 10 :  0.07\n"
     ]
    },
    {
     "data": {
      "image/png": "[encoded data removed]",
      "text/plain": [
       "<Figure size 432x288 with 1 Axes>"
      ]
     },
     "metadata": {
      "needs_background": "light"
     },
     "output_type": "display_data"
    },
    {
     "name": "stdout",
     "output_type": "stream",
     "text": [
      "\n",
      "\n",
      "\u001b[1mMCMT\u001b[0m 17907\n",
      "\tnumber of loci with meanBF >= 0 :  17907 (True)\n",
      "\tnumber of loci with meanBF >= 10 :  2889\n",
      "\tnumber of loci with meanBF >= 15 :  1777\n",
      "\tnumber of loci with meanBF >= 20 :  1273\n",
      "\tfraction of BF >= 15 :  0.1\n",
      "\tfraction of BF >= 10 :  0.16\n"
     ]
    },
    {
     "data": {
      "image/png": "[encoded data removed]",
      "text/plain": [
       "<Figure size 432x288 with 1 Axes>"
      ]
     },
     "metadata": {
      "needs_background": "light"
     },
     "output_type": "display_data"
    },
    {
     "name": "stdout",
     "output_type": "stream",
     "text": [
      "\n",
      "\n",
      "\u001b[1mMWMT\u001b[0m 17952\n",
      "\tnumber of loci with meanBF >= 0 :  17952 (True)\n",
      "\tnumber of loci with meanBF >= 10 :  4590\n",
      "\tnumber of loci with meanBF >= 15 :  2922\n",
      "\tnumber of loci with meanBF >= 20 :  2198\n",
      "\tfraction of BF >= 15 :  0.16\n",
      "\tfraction of BF >= 10 :  0.26\n"
     ]
    },
    {
     "data": {
      "image/png": "[encoded data removed]",
      "text/plain": [
       "<Figure size 432x288 with 1 Axes>"
      ]
     },
     "metadata": {
      "needs_background": "light"
     },
     "output_type": "display_data"
    },
    {
     "name": "stdout",
     "output_type": "stream",
     "text": [
      "\n",
      "\n",
      "\u001b[1mDD_0\u001b[0m 17833\n",
      "\tnumber of loci with meanBF >= 0 :  17833 (True)\n",
      "\tnumber of loci with meanBF >= 10 :  2980\n",
      "\tnumber of loci with meanBF >= 15 :  1876\n",
      "\tnumber of loci with meanBF >= 20 :  1332\n",
      "\tfraction of BF >= 15 :  0.11\n",
      "\tfraction of BF >= 10 :  0.17\n"
     ]
    },
    {
     "data": {
      "image/png": "[encoded data removed]",
      "text/plain": [
       "<Figure size 432x288 with 1 Axes>"
      ]
     },
     "metadata": {
      "needs_background": "light"
     },
     "output_type": "display_data"
    },
    {
     "name": "stdout",
     "output_type": "stream",
     "text": [
      "\n",
      "\n",
      "\u001b[1mEXT\u001b[0m 17805\n",
      "\tnumber of loci with meanBF >= 0 :  17805 (True)\n",
      "\tnumber of loci with meanBF >= 10 :  4812\n",
      "\tnumber of loci with meanBF >= 15 :  2964\n",
      "\tnumber of loci with meanBF >= 20 :  2075\n",
      "\tfraction of BF >= 15 :  0.17\n",
      "\tfraction of BF >= 10 :  0.27\n"
     ]
    },
    {
     "data": {
      "image/png": "[encoded data removed]",
      "text/plain": [
       "<Figure size 432x288 with 1 Axes>"
      ]
     },
     "metadata": {
      "needs_background": "light"
     },
     "output_type": "display_data"
    },
    {
     "name": "stdout",
     "output_type": "stream",
     "text": [
      "\n",
      "\n",
      "\u001b[1meFFP\u001b[0m 16177\n",
      "\tnumber of loci with meanBF >= 0 :  16177 (True)\n",
      "\tnumber of loci with meanBF >= 10 :  1111\n",
      "\tnumber of loci with meanBF >= 15 :  637\n",
      "\tnumber of loci with meanBF >= 20 :  435\n",
      "\tfraction of BF >= 15 :  0.04\n",
      "\tfraction of BF >= 10 :  0.07\n"
     ]
    },
    {
     "data": {
      "image/png": "[encoded data removed]",
      "text/plain": [
       "<Figure size 432x288 with 1 Axes>"
      ]
     },
     "metadata": {
      "needs_background": "light"
     },
     "output_type": "display_data"
    },
    {
     "name": "stdout",
     "output_type": "stream",
     "text": [
      "\n",
      "\n",
      "\u001b[1mMSP\u001b[0m 17995\n",
      "\tnumber of loci with meanBF >= 0 :  17995 (True)\n",
      "\tnumber of loci with meanBF >= 10 :  5088\n",
      "\tnumber of loci with meanBF >= 15 :  3230\n",
      "\tnumber of loci with meanBF >= 20 :  2365\n",
      "\tfraction of BF >= 15 :  0.18\n",
      "\tfraction of BF >= 10 :  0.28\n",
      "\u001b[1m\u001b[93m\tnot all SNPs with BF >= 15 are consistently in top 1% : full (3231) vs 1% (3230) (diff = 1)\u001b[0m\u001b[0m\n"
     ]
    },
    {
     "data": {
      "image/png": "[encoded data removed]",
      "text/plain": [
       "<Figure size 432x288 with 1 Axes>"
      ]
     },
     "metadata": {
      "needs_background": "light"
     },
     "output_type": "display_data"
    },
    {
     "name": "stdout",
     "output_type": "stream",
     "text": [
      "\n",
      "\n",
      "\u001b[1mAHM\u001b[0m 16695\n",
      "\tnumber of loci with meanBF >= 0 :  16695 (True)\n",
      "\tnumber of loci with meanBF >= 10 :  2028\n",
      "\tnumber of loci with meanBF >= 15 :  1287\n",
      "\tnumber of loci with meanBF >= 20 :  955\n",
      "\tfraction of BF >= 15 :  0.08\n",
      "\tfraction of BF >= 10 :  0.12\n"
     ]
    },
    {
     "data": {
      "image/png": "[encoded data removed]",
      "text/plain": [
       "<Figure size 432x288 with 1 Axes>"
      ]
     },
     "metadata": {
      "needs_background": "light"
     },
     "output_type": "display_data"
    },
    {
     "name": "stdout",
     "output_type": "stream",
     "text": [
      "\n",
      "\n",
      "\u001b[1mCMD\u001b[0m 19192\n",
      "\tnumber of loci with meanBF >= 0 :  19192 (True)\n",
      "\tnumber of loci with meanBF >= 10 :  14526\n",
      "\tnumber of loci with meanBF >= 15 :  10155\n",
      "\tnumber of loci with meanBF >= 20 :  7703\n",
      "\tfraction of BF >= 15 :  0.53\n",
      "\tfraction of BF >= 10 :  0.76\n",
      "\u001b[1m\u001b[93m\tnot all SNPs with BF >= 15 are consistently in top 1% : full (10179) vs 1% (10155) (diff = 24)\u001b[0m\u001b[0m\n",
      "\u001b[1m\u001b[93m\tnot all SNPs with BF >= 20 are consistently in top 1% : full (7711) vs 1% (7703) (diff = 8)\u001b[0m\u001b[0m\n"
     ]
    },
    {
     "data": {
      "image/png": "[encoded data removed]",
      "text/plain": [
       "<Figure size 432x288 with 1 Axes>"
      ]
     },
     "metadata": {
      "needs_background": "light"
     },
     "output_type": "display_data"
    },
    {
     "name": "stdout",
     "output_type": "stream",
     "text": [
      "\n",
      "\n",
      "\u001b[1mMAP\u001b[0m 17581\n",
      "\tnumber of loci with meanBF >= 0 :  17581 (True)\n",
      "\tnumber of loci with meanBF >= 10 :  2292\n",
      "\tnumber of loci with meanBF >= 15 :  1368\n",
      "\tnumber of loci with meanBF >= 20 :  948\n",
      "\tfraction of BF >= 15 :  0.08\n",
      "\tfraction of BF >= 10 :  0.13\n"
     ]
    },
    {
     "data": {
      "image/png": "[encoded data removed]",
      "text/plain": [
       "<Figure size 432x288 with 1 Axes>"
      ]
     },
     "metadata": {
      "needs_background": "light"
     },
     "output_type": "display_data"
    },
    {
     "name": "stdout",
     "output_type": "stream",
     "text": [
      "\n",
      "\n",
      "\u001b[1mTD\u001b[0m 18239\n",
      "\tnumber of loci with meanBF >= 0 :  18239 (True)\n",
      "\tnumber of loci with meanBF >= 10 :  3419\n",
      "\tnumber of loci with meanBF >= 15 :  2284\n",
      "\tnumber of loci with meanBF >= 20 :  1742\n",
      "\tfraction of BF >= 15 :  0.13\n",
      "\tfraction of BF >= 10 :  0.19\n"
     ]
    },
    {
     "data": {
      "image/png": "[encoded data removed]",
      "text/plain": [
       "<Figure size 432x288 with 1 Axes>"
      ]
     },
     "metadata": {
      "needs_background": "light"
     },
     "output_type": "display_data"
    },
    {
     "name": "stdout",
     "output_type": "stream",
     "text": [
      "\n",
      "\n",
      "\u001b[1m\n",
      "Fraction of meanBF >=15 across envs\u001b[0m\n"
     ]
    },
    {
     "data": {
      "image/png": "[encoded data removed]",
      "text/plain": [
       "<Figure size 432x288 with 1 Axes>"
      ]
     },
     "metadata": {
      "needs_background": "light"
     },
     "output_type": "display_data"
    },
    {
     "data": {
      "text/html": [
       "<div>\n",
       "<style scoped>\n",
       "    .dataframe tbody tr th:only-of-type {\n",
       "        vertical-align: middle;\n",
       "    }\n",
       "\n",
       "    .dataframe tbody tr th {\n",
       "        vertical-align: top;\n",
       "    }\n",
       "\n",
       "    .dataframe thead th {\n",
       "        text-align: right;\n",
       "    }\n",
       "</style>\n",
       "<table border=\"1\" class=\"dataframe\">\n",
       "  <thead>\n",
       "    <tr style=\"text-align: right;\">\n",
       "      <th></th>\n",
       "      <th>FFP</th>\n",
       "      <th>Eref</th>\n",
       "      <th>SHM</th>\n",
       "      <th>PAS</th>\n",
       "      <th>MAT</th>\n",
       "      <th>EMT</th>\n",
       "      <th>bFFP</th>\n",
       "      <th>DD5</th>\n",
       "      <th>NFFD</th>\n",
       "      <th>MCMT</th>\n",
       "      <th>MWMT</th>\n",
       "      <th>DD_0</th>\n",
       "      <th>EXT</th>\n",
       "      <th>eFFP</th>\n",
       "      <th>MSP</th>\n",
       "      <th>AHM</th>\n",
       "      <th>CMD</th>\n",
       "      <th>MAP</th>\n",
       "      <th>TD</th>\n",
       "    </tr>\n",
       "  </thead>\n",
       "  <tbody>\n",
       "    <tr>\n",
       "      <th>0</th>\n",
       "      <td>0.03</td>\n",
       "      <td>0.85</td>\n",
       "      <td>0.26</td>\n",
       "      <td>0.05</td>\n",
       "      <td>0.07</td>\n",
       "      <td>0.07</td>\n",
       "      <td>0.03</td>\n",
       "      <td>0.09</td>\n",
       "      <td>0.04</td>\n",
       "      <td>0.1</td>\n",
       "      <td>0.16</td>\n",
       "      <td>0.11</td>\n",
       "      <td>0.17</td>\n",
       "      <td>0.04</td>\n",
       "      <td>0.18</td>\n",
       "      <td>0.08</td>\n",
       "      <td>0.53</td>\n",
       "      <td>0.08</td>\n",
       "      <td>0.13</td>\n",
       "    </tr>\n",
       "  </tbody>\n",
       "</table>\n",
       "</div>"
      ],
      "text/plain": [
       "    FFP  Eref   SHM   PAS   MAT   EMT  bFFP   DD5  NFFD  MCMT  MWMT  DD_0  \\\n",
       "0  0.03  0.85  0.26  0.05  0.07  0.07  0.03  0.09  0.04   0.1  0.16  0.11   \n",
       "\n",
       "    EXT  eFFP   MSP   AHM   CMD   MAP    TD  \n",
       "0  0.17  0.04  0.18  0.08  0.53  0.08  0.13  "
      ]
     },
     "execution_count": 6,
     "metadata": {},
     "output_type": "execute_result"
    }
   ],
   "source": [
    "# for **ONLY** those loci that are consistently ranked in top 1%\n",
    "# print histograms of bayes factor for each environment\n",
    "# print fraction of top 1%BFs that have BF ≥ 15 or BF ≥ 20\n",
    "# also look at histogram for BFs < 100\n",
    "\n",
    "# also count number of loci across all SNPs that have BF ≥ 15 or BF ≥ 20, print if count doesn't match top 1%\n",
    "fracs = defaultdict(dict)\n",
    "for env,df in envdfs.items():\n",
    "    df = df[df['rank_consistency_top1perc_for-gte3chains'] == True]\n",
    "    BFs = df['mean_BF']\n",
    "    small15 = sum(BFs >= 15)\n",
    "    small20 = sum(BFs >= 20)\n",
    "    print(ColorText(env).bold(), nrow(df))\n",
    "    print('\\tnumber of loci with meanBF >= 0 : ', sum(BFs >= 0), \"(%s)\" % str(sum(BFs >= 0) == nrow(df)))\n",
    "    print('\\tnumber of loci with meanBF >= 10 : ', sum(BFs >= 10))\n",
    "    print('\\tnumber of loci with meanBF >= 15 : ', small15)\n",
    "    print('\\tnumber of loci with meanBF >= 20 : ', small20)\n",
    "    frac = round(sum(BFs >= 15)/nrow(df), 2)\n",
    "    frac2 = round(sum(BFs >= 10)/nrow(df), 2)\n",
    "    fracs[env][0] = frac\n",
    "    print('\\tfraction of BF >= 15 : ', frac)\n",
    "    print('\\tfraction of BF >= 10 : ', frac2)\n",
    "    sum15 = sum(envdfs[env]['mean_BF'] >= 15)\n",
    "    sum20 = sum(envdfs[env]['mean_BF'] >= 20)\n",
    "    if small15 != sum15:\n",
    "        text = '\\tnot all SNPs with BF >= 15 are consistently in top 1%'\n",
    "        print(ColorText(f\"{text} : full ({sum15}) vs 1% ({small15}) (diff = {sum15 - small15})\").warn().bold())\n",
    "    if small20 != sum20:\n",
    "        text = '\\tnot all SNPs with BF >= 20 are consistently in top 1%'\n",
    "        print(ColorText(f\"{text} : full ({sum20}) vs 1% ({small20}) (diff = {sum20 - small20})\").warn().bold())\n",
    "    plt.hist(BFs[BFs<100], bins=100)\n",
    "    plt.title('number of loci with BF < 100')\n",
    "    plt.show()\n",
    "    print('\\n')\n",
    "\n",
    "# create histogram for fraction of SNPs in consistent top 1% across environments\n",
    "print(ColorText('\\nFraction of meanBF >=15 across envs').bold())\n",
    "fracdf = pd.DataFrame(fracs)\n",
    "plt.hist(fracdf.loc[0,:])\n",
    "plt.xlabel('fraction')\n",
    "plt.show()\n",
    "fracdf"
   ]
  },
  {
   "cell_type": "code",
   "execution_count": 7,
   "metadata": {},
   "outputs": [
    {
     "data": {
      "text/html": [
       "<div>\n",
       "<style scoped>\n",
       "    .dataframe tbody tr th:only-of-type {\n",
       "        vertical-align: middle;\n",
       "    }\n",
       "\n",
       "    .dataframe tbody tr th {\n",
       "        vertical-align: top;\n",
       "    }\n",
       "\n",
       "    .dataframe thead th {\n",
       "        text-align: right;\n",
       "    }\n",
       "</style>\n",
       "<table border=\"1\" class=\"dataframe\">\n",
       "  <thead>\n",
       "    <tr style=\"text-align: right;\">\n",
       "      <th></th>\n",
       "      <th>chain_1-COVARIABLE</th>\n",
       "      <th>chain_1-MRK</th>\n",
       "      <th>chain_1-M_Pearson</th>\n",
       "      <th>chain_1-SD_Pearson</th>\n",
       "      <th>chain_1-BF(dB)</th>\n",
       "      <th>chain_1-Beta_is</th>\n",
       "      <th>chain_1-SD_Beta_is</th>\n",
       "      <th>chain_1-eBPis</th>\n",
       "      <th>chain_1-env</th>\n",
       "      <th>chain_2-COVARIABLE</th>\n",
       "      <th>chain_2-MRK</th>\n",
       "      <th>chain_2-M_Pearson</th>\n",
       "      <th>chain_2-SD_Pearson</th>\n",
       "      <th>chain_2-BF(dB)</th>\n",
       "      <th>chain_2-Beta_is</th>\n",
       "      <th>chain_2-SD_Beta_is</th>\n",
       "      <th>chain_2-eBPis</th>\n",
       "      <th>chain_2-env</th>\n",
       "      <th>chain_3-COVARIABLE</th>\n",
       "      <th>chain_3-MRK</th>\n",
       "      <th>chain_3-M_Pearson</th>\n",
       "      <th>chain_3-SD_Pearson</th>\n",
       "      <th>chain_3-BF(dB)</th>\n",
       "      <th>chain_3-Beta_is</th>\n",
       "      <th>chain_3-SD_Beta_is</th>\n",
       "      <th>chain_3-eBPis</th>\n",
       "      <th>chain_3-env</th>\n",
       "      <th>chain_4-COVARIABLE</th>\n",
       "      <th>chain_4-MRK</th>\n",
       "      <th>chain_4-M_Pearson</th>\n",
       "      <th>chain_4-SD_Pearson</th>\n",
       "      <th>chain_4-BF(dB)</th>\n",
       "      <th>chain_4-Beta_is</th>\n",
       "      <th>chain_4-SD_Beta_is</th>\n",
       "      <th>chain_4-eBPis</th>\n",
       "      <th>chain_4-env</th>\n",
       "      <th>chain_5-COVARIABLE</th>\n",
       "      <th>chain_5-MRK</th>\n",
       "      <th>chain_5-M_Pearson</th>\n",
       "      <th>chain_5-SD_Pearson</th>\n",
       "      <th>chain_5-BF(dB)</th>\n",
       "      <th>chain_5-Beta_is</th>\n",
       "      <th>chain_5-SD_Beta_is</th>\n",
       "      <th>chain_5-eBPis</th>\n",
       "      <th>chain_5-env</th>\n",
       "      <th>rank_chain_1-BF</th>\n",
       "      <th>rank_chain_2-BF</th>\n",
       "      <th>rank_chain_3-BF</th>\n",
       "      <th>rank_chain_4-BF</th>\n",
       "      <th>rank_chain_5-BF</th>\n",
       "      <th>mean_BF</th>\n",
       "      <th>rank_mean_BF</th>\n",
       "      <th>BF_gte20_for-gte3chains</th>\n",
       "      <th>BF_gte15_for-gte3chains</th>\n",
       "      <th>rank_consistency_top1perc_for-gte3chains</th>\n",
       "    </tr>\n",
       "    <tr>\n",
       "      <th></th>\n",
       "      <th></th>\n",
       "      <th></th>\n",
       "      <th></th>\n",
       "      <th></th>\n",
       "      <th></th>\n",
       "      <th></th>\n",
       "      <th></th>\n",
       "      <th></th>\n",
       "      <th></th>\n",
       "      <th></th>\n",
       "      <th></th>\n",
       "      <th></th>\n",
       "      <th></th>\n",
       "      <th></th>\n",
       "      <th></th>\n",
       "      <th></th>\n",
       "      <th></th>\n",
       "      <th></th>\n",
       "      <th></th>\n",
       "      <th></th>\n",
       "      <th></th>\n",
       "      <th></th>\n",
       "      <th></th>\n",
       "      <th></th>\n",
       "      <th></th>\n",
       "      <th></th>\n",
       "      <th></th>\n",
       "      <th></th>\n",
       "      <th></th>\n",
       "      <th></th>\n",
       "      <th></th>\n",
       "      <th></th>\n",
       "      <th></th>\n",
       "      <th></th>\n",
       "      <th></th>\n",
       "      <th></th>\n",
       "      <th></th>\n",
       "      <th></th>\n",
       "      <th></th>\n",
       "      <th></th>\n",
       "      <th></th>\n",
       "      <th></th>\n",
       "      <th></th>\n",
       "      <th></th>\n",
       "      <th></th>\n",
       "      <th></th>\n",
       "      <th></th>\n",
       "      <th></th>\n",
       "      <th></th>\n",
       "      <th></th>\n",
       "      <th></th>\n",
       "      <th></th>\n",
       "      <th></th>\n",
       "      <th></th>\n",
       "      <th></th>\n",
       "    </tr>\n",
       "  </thead>\n",
       "  <tbody>\n",
       "    <tr>\n",
       "      <th>jcf7190000135168-4611</th>\n",
       "      <td>4</td>\n",
       "      <td>841</td>\n",
       "      <td>0.67904</td>\n",
       "      <td>0.033341</td>\n",
       "      <td>96.40002</td>\n",
       "      <td>0.16222</td>\n",
       "      <td>0.010318</td>\n",
       "      <td>15.35253</td>\n",
       "      <td>TD</td>\n",
       "      <td>4</td>\n",
       "      <td>841</td>\n",
       "      <td>0.674374</td>\n",
       "      <td>0.035989</td>\n",
       "      <td>96.446112</td>\n",
       "      <td>0.162025</td>\n",
       "      <td>0.010255</td>\n",
       "      <td>15.35253</td>\n",
       "      <td>TD</td>\n",
       "      <td>4</td>\n",
       "      <td>841</td>\n",
       "      <td>0.677824</td>\n",
       "      <td>0.033547</td>\n",
       "      <td>97.845801</td>\n",
       "      <td>0.161898</td>\n",
       "      <td>0.0101</td>\n",
       "      <td>15.35253</td>\n",
       "      <td>TD</td>\n",
       "      <td>4</td>\n",
       "      <td>841</td>\n",
       "      <td>0.679366</td>\n",
       "      <td>0.032356</td>\n",
       "      <td>97.038152</td>\n",
       "      <td>0.162914</td>\n",
       "      <td>0.009683</td>\n",
       "      <td>15.35253</td>\n",
       "      <td>TD</td>\n",
       "      <td>4</td>\n",
       "      <td>841</td>\n",
       "      <td>0.676919</td>\n",
       "      <td>0.036138</td>\n",
       "      <td>100.633408</td>\n",
       "      <td>0.162797</td>\n",
       "      <td>0.010502</td>\n",
       "      <td>15.35253</td>\n",
       "      <td>TD</td>\n",
       "      <td>1</td>\n",
       "      <td>1</td>\n",
       "      <td>1</td>\n",
       "      <td>1</td>\n",
       "      <td>1</td>\n",
       "      <td>5.851536e+09</td>\n",
       "      <td>1</td>\n",
       "      <td>True</td>\n",
       "      <td>True</td>\n",
       "      <td>True</td>\n",
       "    </tr>\n",
       "  </tbody>\n",
       "</table>\n",
       "</div>"
      ],
      "text/plain": [
       "                       chain_1-COVARIABLE  chain_1-MRK  chain_1-M_Pearson  \\\n",
       "                                                                            \n",
       "jcf7190000135168-4611                   4          841            0.67904   \n",
       "\n",
       "                       chain_1-SD_Pearson  chain_1-BF(dB)  chain_1-Beta_is  \\\n",
       "                                                                             \n",
       "jcf7190000135168-4611            0.033341        96.40002          0.16222   \n",
       "\n",
       "                       chain_1-SD_Beta_is  chain_1-eBPis chain_1-env  \\\n",
       "                                                                       \n",
       "jcf7190000135168-4611            0.010318       15.35253          TD   \n",
       "\n",
       "                       chain_2-COVARIABLE  chain_2-MRK  chain_2-M_Pearson  \\\n",
       "                                                                            \n",
       "jcf7190000135168-4611                   4          841           0.674374   \n",
       "\n",
       "                       chain_2-SD_Pearson  chain_2-BF(dB)  chain_2-Beta_is  \\\n",
       "                                                                             \n",
       "jcf7190000135168-4611            0.035989       96.446112         0.162025   \n",
       "\n",
       "                       chain_2-SD_Beta_is  chain_2-eBPis chain_2-env  \\\n",
       "                                                                       \n",
       "jcf7190000135168-4611            0.010255       15.35253          TD   \n",
       "\n",
       "                       chain_3-COVARIABLE  chain_3-MRK  chain_3-M_Pearson  \\\n",
       "                                                                            \n",
       "jcf7190000135168-4611                   4          841           0.677824   \n",
       "\n",
       "                       chain_3-SD_Pearson  chain_3-BF(dB)  chain_3-Beta_is  \\\n",
       "                                                                             \n",
       "jcf7190000135168-4611            0.033547       97.845801         0.161898   \n",
       "\n",
       "                       chain_3-SD_Beta_is  chain_3-eBPis chain_3-env  \\\n",
       "                                                                       \n",
       "jcf7190000135168-4611              0.0101       15.35253          TD   \n",
       "\n",
       "                       chain_4-COVARIABLE  chain_4-MRK  chain_4-M_Pearson  \\\n",
       "                                                                            \n",
       "jcf7190000135168-4611                   4          841           0.679366   \n",
       "\n",
       "                       chain_4-SD_Pearson  chain_4-BF(dB)  chain_4-Beta_is  \\\n",
       "                                                                             \n",
       "jcf7190000135168-4611            0.032356       97.038152         0.162914   \n",
       "\n",
       "                       chain_4-SD_Beta_is  chain_4-eBPis chain_4-env  \\\n",
       "                                                                       \n",
       "jcf7190000135168-4611            0.009683       15.35253          TD   \n",
       "\n",
       "                       chain_5-COVARIABLE  chain_5-MRK  chain_5-M_Pearson  \\\n",
       "                                                                            \n",
       "jcf7190000135168-4611                   4          841           0.676919   \n",
       "\n",
       "                       chain_5-SD_Pearson  chain_5-BF(dB)  chain_5-Beta_is  \\\n",
       "                                                                             \n",
       "jcf7190000135168-4611            0.036138      100.633408         0.162797   \n",
       "\n",
       "                       chain_5-SD_Beta_is  chain_5-eBPis chain_5-env  \\\n",
       "                                                                       \n",
       "jcf7190000135168-4611            0.010502       15.35253          TD   \n",
       "\n",
       "                       rank_chain_1-BF  rank_chain_2-BF  rank_chain_3-BF  \\\n",
       "                                                                           \n",
       "jcf7190000135168-4611                1                1                1   \n",
       "\n",
       "                       rank_chain_4-BF  rank_chain_5-BF       mean_BF  \\\n",
       "                                                                        \n",
       "jcf7190000135168-4611                1                1  5.851536e+09   \n",
       "\n",
       "                       rank_mean_BF  BF_gte20_for-gte3chains  \\\n",
       "                                                               \n",
       "jcf7190000135168-4611             1                     True   \n",
       "\n",
       "                       BF_gte15_for-gte3chains  \\\n",
       "                                                 \n",
       "jcf7190000135168-4611                     True   \n",
       "\n",
       "                       rank_consistency_top1perc_for-gte3chains  \n",
       "                                                                 \n",
       "jcf7190000135168-4611                                      True  "
      ]
     },
     "execution_count": 7,
     "metadata": {},
     "output_type": "execute_result"
    }
   ],
   "source": [
    "df[df['rank_mean_BF']==1]"
   ]
  },
  {
   "cell_type": "code",
   "execution_count": null,
   "metadata": {},
   "outputs": [],
   "source": []
  },
  {
   "cell_type": "code",
   "execution_count": null,
   "metadata": {},
   "outputs": [],
   "source": []
  },
  {
   "cell_type": "code",
   "execution_count": null,
   "metadata": {},
   "outputs": [],
   "source": []
  },
  {
   "cell_type": "code",
   "execution_count": null,
   "metadata": {},
   "outputs": [],
   "source": []
  },
  {
   "cell_type": "code",
   "execution_count": null,
   "metadata": {},
   "outputs": [],
   "source": []
  },
  {
   "cell_type": "code",
   "execution_count": null,
   "metadata": {},
   "outputs": [],
   "source": []
  },
  {
   "cell_type": "code",
   "execution_count": null,
   "metadata": {},
   "outputs": [],
   "source": []
  },
  {
   "cell_type": "code",
   "execution_count": null,
   "metadata": {},
   "outputs": [],
   "source": []
  },
  {
   "cell_type": "code",
   "execution_count": null,
   "metadata": {},
   "outputs": [],
   "source": []
  },
  {
   "cell_type": "code",
   "execution_count": null,
   "metadata": {},
   "outputs": [],
   "source": []
  },
  {
   "cell_type": "code",
   "execution_count": null,
   "metadata": {},
   "outputs": [],
   "source": []
  },
  {
   "cell_type": "code",
   "execution_count": null,
   "metadata": {},
   "outputs": [],
   "source": []
  },
  {
   "cell_type": "code",
   "execution_count": null,
   "metadata": {},
   "outputs": [],
   "source": []
  },
  {
   "cell_type": "code",
   "execution_count": null,
   "metadata": {},
   "outputs": [],
   "source": []
  },
  {
   "cell_type": "code",
   "execution_count": null,
   "metadata": {},
   "outputs": [],
   "source": []
  },
  {
   "cell_type": "code",
   "execution_count": null,
   "metadata": {},
   "outputs": [],
   "source": []
  },
  {
   "cell_type": "code",
   "execution_count": null,
   "metadata": {},
   "outputs": [],
   "source": []
  },
  {
   "cell_type": "code",
   "execution_count": null,
   "metadata": {},
   "outputs": [],
   "source": []
  },
  {
   "cell_type": "code",
   "execution_count": null,
   "metadata": {},
   "outputs": [],
   "source": []
  },
  {
   "cell_type": "code",
   "execution_count": null,
   "metadata": {},
   "outputs": [],
   "source": []
  },
  {
   "cell_type": "code",
   "execution_count": null,
   "metadata": {},
   "outputs": [],
   "source": []
  },
  {
   "cell_type": "code",
   "execution_count": null,
   "metadata": {},
   "outputs": [],
   "source": []
  }
 ],
 "metadata": {
  "kernelspec": {
   "display_name": "Python 3",
   "language": "python",
   "name": "python3"
  },
  "language_info": {
   "codemirror_mode": {
    "name": "ipython",
    "version": 3
   },
   "file_extension": ".py",
   "mimetype": "text/x-python",
   "name": "python",
   "nbconvert_exporter": "python",
   "pygments_lexer": "ipython3",
   "version": "3.7.6"
  }
 },
 "nbformat": 4,
 "nbformat_minor": 4
}
