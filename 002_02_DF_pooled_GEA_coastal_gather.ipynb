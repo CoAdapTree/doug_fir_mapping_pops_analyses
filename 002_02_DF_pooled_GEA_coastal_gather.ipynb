{
 "cells": [
  {
   "cell_type": "markdown",
   "metadata": {},
   "source": [
    "This notebook best viewed here: https://nbviewer.jupyter.org"
   ]
  },
  {
   "cell_type": "markdown",
   "metadata": {},
   "source": [
    " "
   ]
  },
  {
   "cell_type": "markdown",
   "metadata": {},
   "source": [
    " "
   ]
  },
  {
   "cell_type": "markdown",
   "metadata": {},
   "source": [
    " "
   ]
  },
  {
   "cell_type": "markdown",
   "metadata": {},
   "source": [
    "This notebook is for the interior variety of Douglas fir GEA mapping pops\n",
    "\n",
    "#### Purpose\n",
    "• I've run the baypass commands across four servers,\n",
    "\n",
    "#### Notebook outline\n",
    "\n",
    "- __rsync files from servers__\n",
    "    - I execute the rsync commands to transfer files from the executing servers to our lab server\n",
    "- __check what needs to be done__\n",
    "    - given the number of gfiles and chains, make sure all of the commands have been executed/transferred\n",
    "- __gather all of the wanted resfiles and concat into single dataframes__\n",
    "    - gather the files with BF, label SNP IDs, and concat into single dataframe"
   ]
  },
  {
   "cell_type": "markdown",
   "metadata": {},
   "source": [
    " "
   ]
  },
  {
   "cell_type": "markdown",
   "metadata": {},
   "source": [
    " "
   ]
  },
  {
   "cell_type": "markdown",
   "metadata": {},
   "source": [
    " "
   ]
  },
  {
   "cell_type": "code",
   "execution_count": 1,
   "metadata": {},
   "outputs": [],
   "source": [
    "from pythonimports import *"
   ]
  },
  {
   "cell_type": "code",
   "execution_count": 2,
   "metadata": {},
   "outputs": [],
   "source": [
    "baydir = '/lu213/brandon.lind/projects/pool_seq/DF_datasets/DF_pooled_GEA/DF_pooled/snpsANDindels/coastal_variety/03_maf-p05_RD-recalculated_FDC/baypass'\n",
    "cmddir = op.join(baydir, 'cmd_files')\n",
    "rundir = op.join(cmddir, 'run_01')\n",
    "gfile_dir = op.join(baydir, 'individual_gfiles')\n",
    "shdir = op.join(cmddir, 'shfiles')\n",
    "resdir = op.join(cmddir, 'results')\n",
    "rsyncdir = op.join(baydir, 'rsync_files')"
   ]
  },
  {
   "cell_type": "markdown",
   "metadata": {},
   "source": [
    "# rsync files from servers"
   ]
  },
  {
   "cell_type": "code",
   "execution_count": 3,
   "metadata": {},
   "outputs": [
    {
     "name": "stdout",
     "output_type": "stream",
     "text": [
      "56 56\n"
     ]
    }
   ],
   "source": [
    "lview,dview = get_client()"
   ]
  },
  {
   "cell_type": "code",
   "execution_count": 40,
   "metadata": {},
   "outputs": [
    {
     "data": {
      "text/plain": [
       "['/lu213/brandon.lind/projects/pool_seq/DF_datasets/DF_pooled_GEA/DF_pooled/snpsANDindels/coastal_variety/03_maf-p05_RD-recalculated_FDC/baypass/rsync_files/arc_rsync_cmds.txt',\n",
       " '/lu213/brandon.lind/projects/pool_seq/DF_datasets/DF_pooled_GEA/DF_pooled/snpsANDindels/coastal_variety/03_maf-p05_RD-recalculated_FDC/baypass/rsync_files/beluga_rsync_cmds.txt',\n",
       " '/lu213/brandon.lind/projects/pool_seq/DF_datasets/DF_pooled_GEA/DF_pooled/snpsANDindels/coastal_variety/03_maf-p05_RD-recalculated_FDC/baypass/rsync_files/cedar_rsync_cmds.txt',\n",
       " '/lu213/brandon.lind/projects/pool_seq/DF_datasets/DF_pooled_GEA/DF_pooled/snpsANDindels/coastal_variety/03_maf-p05_RD-recalculated_FDC/baypass/rsync_files/graham_rsync_cmds.txt']"
      ]
     },
     "execution_count": 40,
     "metadata": {},
     "output_type": "execute_result"
    }
   ],
   "source": [
    "fs(rsyncdir)"
   ]
  },
  {
   "cell_type": "code",
   "execution_count": 4,
   "metadata": {},
   "outputs": [],
   "source": [
    "def exe(cmd):\n",
    "    import os\n",
    "    os.system(cmd)"
   ]
  },
  {
   "cell_type": "code",
   "execution_count": 5,
   "metadata": {},
   "outputs": [],
   "source": [
    "def submit_cmds(cmds):\n",
    "    jobs = []\n",
    "    for cmd in nb(cmds):\n",
    "        jobs.append(lview.apply_async(exe, cmd))\n",
    "    watch_async(jobs)\n",
    "    \n",
    "    badcmds = []\n",
    "    for i,j in enumerate(jobs):\n",
    "        try:\n",
    "            x=j.r\n",
    "        except:\n",
    "            badcmds.append(i)\n",
    "    print('len(badcmds) = ', len(badcmds))\n",
    "    \n",
    "    return badcmds"
   ]
  },
  {
   "cell_type": "code",
   "execution_count": 6,
   "metadata": {},
   "outputs": [],
   "source": [
    "def check_realfiles(cmds):\n",
    "    realfiles = []\n",
    "    for d in [rundir, gfile_dir, shdir, resdir]:\n",
    "        realfiles.extend(fs(d, dirs=False))\n",
    "    \n",
    "    expfiles = []\n",
    "    for cmd in cmds:\n",
    "        expfiles.append(cmd.split()[-1])\n",
    "    \n",
    "    print('len(realfiles) = ', len(realfiles))\n",
    "    print('len(expfiles) =', len(expfiles))\n",
    "    \n",
    "    needed = list(set(expfiles) - set(realfiles))\n",
    "    \n",
    "    print('needed = ', len(needed))\n",
    "    \n",
    "    needed_cmds = []\n",
    "    for n in nb(needed):\n",
    "        for cmd in cmds:\n",
    "            if n in cmd:\n",
    "                needed_cmds.append(cmd)\n",
    "    print('needed_cmds = ', len(needed_cmds))\n",
    "    return needed_cmds"
   ]
  },
  {
   "cell_type": "markdown",
   "metadata": {},
   "source": [
    "#### cedar cmds"
   ]
  },
  {
   "cell_type": "code",
   "execution_count": 8,
   "metadata": {},
   "outputs": [
    {
     "data": {
      "text/plain": [
       "11589"
      ]
     },
     "execution_count": 8,
     "metadata": {},
     "output_type": "execute_result"
    }
   ],
   "source": [
    "# first from cedar\n",
    "cmds = read(op.join(rsyncdir, 'cedar_rsync_cmds.txt'))\n",
    "len(cmds)"
   ]
  },
  {
   "cell_type": "code",
   "execution_count": 42,
   "metadata": {},
   "outputs": [
    {
     "data": {
      "text/plain": [
       "1872"
      ]
     },
     "execution_count": 42,
     "metadata": {},
     "output_type": "execute_result"
    }
   ],
   "source": [
    "dicouts = [f for f in cmds if 'DIC.out' in f]\n",
    "len(dicouts)"
   ]
  },
  {
   "cell_type": "code",
   "execution_count": 10,
   "metadata": {},
   "outputs": [
    {
     "data": {
      "text/plain": [
       "'rsync -avz cedar:/scratch/lindb/coastal/baypass/cmd_files/run_01/catfile_0106.txt /lu213/brandon.lind/projects/pool_seq/DF_datasets/DF_pooled_GEA/DF_pooled/snpsANDindels/coastal_variety/03_maf-p05_RD-recalculated_FDC/baypass/cmd_files/run_01/catfile_0106.txt'"
      ]
     },
     "execution_count": 10,
     "metadata": {},
     "output_type": "execute_result"
    }
   ],
   "source": [
    "cmds[-1]"
   ]
  },
  {
   "cell_type": "code",
   "execution_count": 11,
   "metadata": {},
   "outputs": [
    {
     "name": "stdout",
     "output_type": "stream",
     "text": [
      "11589\n",
      "11589\n",
      "len(badcmds) =  0\n"
     ]
    }
   ],
   "source": [
    "badcmds = submit_cmds(cmds)"
   ]
  },
  {
   "cell_type": "code",
   "execution_count": 16,
   "metadata": {
    "scrolled": true
   },
   "outputs": [
    {
     "name": "stdout",
     "output_type": "stream",
     "text": [
      "len(realfiles) =  11589\n",
      "len(expfiles) = 11589\n",
      "needed =  0\n",
      "needed_cmds =  0\n"
     ]
    },
    {
     "data": {
      "text/plain": [
       "[]"
      ]
     },
     "execution_count": 16,
     "metadata": {},
     "output_type": "execute_result"
    }
   ],
   "source": [
    "needed = check_realfiles(cmds)\n",
    "needed"
   ]
  },
  {
   "cell_type": "code",
   "execution_count": null,
   "metadata": {},
   "outputs": [],
   "source": []
  },
  {
   "cell_type": "markdown",
   "metadata": {},
   "source": [
    "#### arc cmds"
   ]
  },
  {
   "cell_type": "code",
   "execution_count": 9,
   "metadata": {},
   "outputs": [
    {
     "data": {
      "text/plain": [
       "3845"
      ]
     },
     "execution_count": 9,
     "metadata": {},
     "output_type": "execute_result"
    }
   ],
   "source": [
    "arccmds = read(op.join(rsyncdir, 'arc_rsync_cmds.txt'))\n",
    "len(arccmds)"
   ]
  },
  {
   "cell_type": "code",
   "execution_count": 44,
   "metadata": {},
   "outputs": [
    {
     "data": {
      "text/plain": [
       "336"
      ]
     },
     "execution_count": 44,
     "metadata": {},
     "output_type": "execute_result"
    }
   ],
   "source": [
    "arcdicouts = [f for f in arccmds if 'DIC.out' in f]\n",
    "len(arcdicouts)"
   ]
  },
  {
   "cell_type": "markdown",
   "metadata": {},
   "source": [
    "#### beluga cmds"
   ]
  },
  {
   "cell_type": "code",
   "execution_count": 10,
   "metadata": {},
   "outputs": [
    {
     "data": {
      "text/plain": [
       "5893"
      ]
     },
     "execution_count": 10,
     "metadata": {},
     "output_type": "execute_result"
    }
   ],
   "source": [
    "belugacmds = read(op.join(rsyncdir, 'beluga_rsync_cmds.txt'))\n",
    "len(belugacmds)"
   ]
  },
  {
   "cell_type": "code",
   "execution_count": 48,
   "metadata": {},
   "outputs": [
    {
     "data": {
      "text/plain": [
       "742"
      ]
     },
     "execution_count": 48,
     "metadata": {},
     "output_type": "execute_result"
    }
   ],
   "source": [
    "bdicouts = [f for f in belugacmds if 'DIC.out' in f]\n",
    "len(bdicouts)"
   ]
  },
  {
   "cell_type": "markdown",
   "metadata": {},
   "source": [
    "#### graham cmds"
   ]
  },
  {
   "cell_type": "code",
   "execution_count": 11,
   "metadata": {},
   "outputs": [
    {
     "data": {
      "text/plain": [
       "11589"
      ]
     },
     "execution_count": 11,
     "metadata": {},
     "output_type": "execute_result"
    }
   ],
   "source": [
    "gcmds = read(op.join(rsyncdir, 'graham_rsync_cmds.txt'))\n",
    "len(gcmds)"
   ]
  },
  {
   "cell_type": "code",
   "execution_count": 52,
   "metadata": {},
   "outputs": [
    {
     "data": {
      "text/plain": [
       "1872"
      ]
     },
     "execution_count": 52,
     "metadata": {},
     "output_type": "execute_result"
    }
   ],
   "source": [
    "gdicouts = [f for f in gcmds if 'DIC.out' in f]\n",
    "len(gdicouts)"
   ]
  },
  {
   "cell_type": "code",
   "execution_count": 73,
   "metadata": {},
   "outputs": [
    {
     "data": {
      "text/plain": [
       "(11589, 15434)"
      ]
     },
     "execution_count": 73,
     "metadata": {},
     "output_type": "execute_result"
    }
   ],
   "source": [
    "thecmds = [cmd for cmd in arccmds + gcmds if not 'individual_gfiles' in cmd]\n",
    "len(cmds), len(arccmds + gcmds)"
   ]
  },
  {
   "cell_type": "code",
   "execution_count": 78,
   "metadata": {},
   "outputs": [
    {
     "data": {
      "text/plain": [
       "11086"
      ]
     },
     "execution_count": 78,
     "metadata": {},
     "output_type": "execute_result"
    }
   ],
   "source": [
    "len([cmd for cmd in thecmds if cmd.endswith('.out')])"
   ]
  },
  {
   "cell_type": "code",
   "execution_count": 81,
   "metadata": {},
   "outputs": [
    {
     "name": "stdout",
     "output_type": "stream",
     "text": [
      "56 56\n"
     ]
    }
   ],
   "source": [
    "lview,dview = get_client()"
   ]
  },
  {
   "cell_type": "code",
   "execution_count": 82,
   "metadata": {},
   "outputs": [
    {
     "data": {
      "text/plain": [
       "(9360, 11346)"
      ]
     },
     "execution_count": 82,
     "metadata": {},
     "output_type": "execute_result"
    }
   ],
   "source": [
    "rem = [cmd for cmd in thecmds if not op.exists(cmd.split()[-1])]\n",
    "len(rem), len(thecmds)"
   ]
  },
  {
   "cell_type": "code",
   "execution_count": 83,
   "metadata": {},
   "outputs": [
    {
     "name": "stdout",
     "output_type": "stream",
     "text": [
      "9360\n",
      "9360\n",
      "len(badcmds) =  0\n"
     ]
    }
   ],
   "source": [
    "# badcmds = submit_cmds(cmds + belugacmds + gcmds)\n",
    "# thecmds = [cmd for cmd in arccmds + gcmds if not 'individual_gfiles' in cmd]\n",
    "badcmds = submit_cmds(rem)"
   ]
  },
  {
   "cell_type": "code",
   "execution_count": 12,
   "metadata": {},
   "outputs": [
    {
     "name": "stderr",
     "output_type": "stream",
     "text": [
      "100%|██████████| 32916/32916 [00:02<00:00, 11343.03it/s]\n"
     ]
    },
    {
     "data": {
      "text/plain": [
       "0"
      ]
     },
     "execution_count": 12,
     "metadata": {},
     "output_type": "execute_result"
    }
   ],
   "source": [
    "needed = []\n",
    "for cmd in nb(cmds + arccmds + belugacmds + gcmds):\n",
    "    file = op.realpath(cmd.split()[-1])\n",
    "    if not op.exists(file):\n",
    "        needed.append(cmd)\n",
    "len(needed)"
   ]
  },
  {
   "cell_type": "code",
   "execution_count": 86,
   "metadata": {},
   "outputs": [
    {
     "name": "stdout",
     "output_type": "stream",
     "text": [
      "3768\n",
      "3768\n",
      "len(badcmds) =  0\n"
     ]
    }
   ],
   "source": [
    "badcmds = submit_cmds(needed)"
   ]
  },
  {
   "cell_type": "markdown",
   "metadata": {},
   "source": [
    "#### remaining arc and beluga cmds - these are jobs that didn't finish or were missing"
   ]
  },
  {
   "cell_type": "code",
   "execution_count": 7,
   "metadata": {},
   "outputs": [
    {
     "data": {
      "text/plain": [
       "474"
      ]
     },
     "execution_count": 7,
     "metadata": {},
     "output_type": "execute_result"
    }
   ],
   "source": [
    "arccmds = read(op.join(rsyncdir, 'arc_rsync_cmds_remaining.txt'))\n",
    "len(arccmds)"
   ]
  },
  {
   "cell_type": "code",
   "execution_count": 8,
   "metadata": {},
   "outputs": [
    {
     "data": {
      "text/plain": [
       "1452"
      ]
     },
     "execution_count": 8,
     "metadata": {},
     "output_type": "execute_result"
    }
   ],
   "source": [
    "belugacmds = read(op.join(rsyncdir, 'beluga_rsync_cmds_remaining.txt'))\n",
    "len(belugacmds)"
   ]
  },
  {
   "cell_type": "code",
   "execution_count": 9,
   "metadata": {},
   "outputs": [
    {
     "data": {
      "text/plain": [
       "1926"
      ]
     },
     "execution_count": 9,
     "metadata": {},
     "output_type": "execute_result"
    }
   ],
   "source": [
    "allrem = arccmds + belugacmds\n",
    "len(allrem)"
   ]
  },
  {
   "cell_type": "code",
   "execution_count": 10,
   "metadata": {},
   "outputs": [
    {
     "name": "stdout",
     "output_type": "stream",
     "text": [
      "1926\n",
      "1926\n",
      "len(badcmds) =  0\n"
     ]
    }
   ],
   "source": [
    "badcmds = submit_cmds(allrem)"
   ]
  },
  {
   "cell_type": "code",
   "execution_count": 11,
   "metadata": {},
   "outputs": [
    {
     "name": "stderr",
     "output_type": "stream",
     "text": [
      "100%|██████████| 1926/1926 [00:00<00:00, 10626.24it/s]\n"
     ]
    },
    {
     "data": {
      "text/plain": [
       "0"
      ]
     },
     "execution_count": 11,
     "metadata": {},
     "output_type": "execute_result"
    }
   ],
   "source": [
    "needed = []\n",
    "for cmd in nb(allrem):\n",
    "    file = op.realpath(cmd.split()[-1])\n",
    "    if not op.exists(file):\n",
    "        needed.append(cmd)\n",
    "len(needed)"
   ]
  },
  {
   "cell_type": "code",
   "execution_count": null,
   "metadata": {},
   "outputs": [],
   "source": []
  },
  {
   "cell_type": "markdown",
   "metadata": {},
   "source": [
    "# redo everything below here"
   ]
  },
  {
   "cell_type": "code",
   "execution_count": null,
   "metadata": {},
   "outputs": [],
   "source": []
  },
  {
   "cell_type": "code",
   "execution_count": null,
   "metadata": {},
   "outputs": [],
   "source": []
  },
  {
   "cell_type": "code",
   "execution_count": null,
   "metadata": {},
   "outputs": [],
   "source": []
  },
  {
   "cell_type": "code",
   "execution_count": null,
   "metadata": {},
   "outputs": [],
   "source": []
  },
  {
   "cell_type": "code",
   "execution_count": null,
   "metadata": {},
   "outputs": [],
   "source": []
  },
  {
   "cell_type": "markdown",
   "metadata": {},
   "source": [
    "# check what needs to be done\n",
    "given the number of gfiles and chains, make sure all of the commands have been executed/transferred"
   ]
  },
  {
   "cell_type": "markdown",
   "metadata": {},
   "source": [
    "#### first check to make sure every sh file was exececuted (ie, check that each has a slurm .out file)"
   ]
  },
  {
   "cell_type": "code",
   "execution_count": 148,
   "metadata": {},
   "outputs": [
    {
     "data": {
      "text/plain": [
       "(107, 107)"
      ]
     },
     "execution_count": 148,
     "metadata": {},
     "output_type": "execute_result"
    }
   ],
   "source": [
    "# the the shfiles and out files\n",
    "shfiles = fs(shdir, endswith='.sh')\n",
    "outs = fs(shdir, endswith='.out')\n",
    "len(shfiles), len(outs)"
   ]
  },
  {
   "cell_type": "code",
   "execution_count": 13,
   "metadata": {},
   "outputs": [],
   "source": [
    "# which sh files were not run, print out any that weren't run\n",
    "pairs = {}\n",
    "for sh in shfiles:\n",
    "    pairs[sh] = []\n",
    "    for out in outs:\n",
    "        if op.basename(sh).split(\".\")[0] in out:\n",
    "            pairs[sh].append(out)\n",
    "for sh,outfiles in pairs.items():\n",
    "    if len(outfiles) != 1:\n",
    "        print(sh, len(outfiles))"
   ]
  },
  {
   "cell_type": "code",
   "execution_count": 15,
   "metadata": {},
   "outputs": [],
   "source": [
    "# go and run these jobs ^ on beluga"
   ]
  },
  {
   "cell_type": "markdown",
   "metadata": {},
   "source": [
    "#### go through catfiles and make sure all of the commands inside were run\n",
    "\n",
    "I expect at least one command to have not been executed, and several to have failed on graham"
   ]
  },
  {
   "cell_type": "code",
   "execution_count": 14,
   "metadata": {},
   "outputs": [
    {
     "data": {
      "text/plain": [
       "'/lu213/brandon.lind/projects/pool_seq/DF_datasets/DF_pooled_GEA/DF_pooled/snpsANDindels/coastal_variety/03_maf-p05_RD-recalculated_FDC/baypass/cmd_files/results'"
      ]
     },
     "execution_count": 14,
     "metadata": {},
     "output_type": "execute_result"
    }
   ],
   "source": [
    "resdir"
   ]
  },
  {
   "cell_type": "code",
   "execution_count": 15,
   "metadata": {},
   "outputs": [
    {
     "data": {
      "text/plain": [
       "5110"
      ]
     },
     "execution_count": 15,
     "metadata": {},
     "output_type": "execute_result"
    }
   ],
   "source": [
    "# get one of the files for each of the commands that executed successfully (count the succesful cmds)\n",
    "resfiles = fs(resdir, endswith='DIC.out')\n",
    "len(resfiles)"
   ]
  },
  {
   "cell_type": "code",
   "execution_count": 16,
   "metadata": {},
   "outputs": [
    {
     "data": {
      "text/plain": [
       "107"
      ]
     },
     "execution_count": 16,
     "metadata": {},
     "output_type": "execute_result"
    }
   ],
   "source": [
    "# get the files with the baypass commands - this matches number of sh files (good)\n",
    "catfiles = fs(rundir, pattern='catfile')\n",
    "len(catfiles)"
   ]
  },
  {
   "cell_type": "code",
   "execution_count": 17,
   "metadata": {},
   "outputs": [
    {
     "name": "stderr",
     "output_type": "stream",
     "text": [
      "100%|██████████| 107/107 [00:20<00:00,  5.25it/s]\n"
     ]
    },
    {
     "data": {
      "text/plain": [
       "'interior_all_snps_ADP-lt-1000_gfile_1021_chain_5'"
      ]
     },
     "execution_count": 17,
     "metadata": {},
     "output_type": "execute_result"
    }
   ],
   "source": [
    "# iterate through catfile commands and make sure there's a result for each\n",
    "found = {}  # map prefix to output file\n",
    "exe = {}  # map prefix to command used\n",
    "for cat in nb(catfiles):\n",
    "    # get the commands\n",
    "    cmds = read(cat)\n",
    "    \n",
    "    # assign prefixes (= num cmds) to their output\n",
    "    for cmd in cmds:\n",
    "        prefix = cmd.split(\"-outprefix\")[1].split()[0]\n",
    "        assert prefix not in found and 'chain' in prefix\n",
    "        exe[prefix] = cmd\n",
    "        found[prefix] = []\n",
    "        for res in resfiles:\n",
    "            if prefix in op.basename(res):\n",
    "                found[prefix].append(res)\n",
    "prefix"
   ]
  },
  {
   "cell_type": "code",
   "execution_count": 95,
   "metadata": {},
   "outputs": [
    {
     "data": {
      "text/plain": [
       "288"
      ]
     },
     "execution_count": 95,
     "metadata": {},
     "output_type": "execute_result"
    }
   ],
   "source": [
    "# figure out which prefixes have zero output (and need to be reran) or cmds with >1 output (impossible...)\n",
    "needed_cmds = []\n",
    "for prefix,reslist in found.items():\n",
    "    if len(reslist) == 0:\n",
    "        needed_cmds.append(exe[prefix])  # get the cmd that needs to be executed\n",
    "    elif len(reslist) > 1:\n",
    "        print('\\n', prefix, len(reslist))  # this shouldn't be possible, check anyway, print if so\n",
    "len(needed_cmds)"
   ]
  },
  {
   "cell_type": "code",
   "execution_count": 18,
   "metadata": {},
   "outputs": [
    {
     "data": {
      "text/plain": [
       "0"
      ]
     },
     "execution_count": 18,
     "metadata": {},
     "output_type": "execute_result"
    }
   ],
   "source": [
    "# after doing needed_cmds on servers (allrem object)\n",
    "# figure out which prefixes have zero output (and need to be reran) or cmds with >1 output (impossible...)\n",
    "needed_cmds = []\n",
    "for prefix,reslist in found.items():\n",
    "    if len(reslist) == 0:\n",
    "        needed_cmds.append(exe[prefix])  # get the cmd that needs to be executed\n",
    "    elif len(reslist) > 1:\n",
    "        print('\\n', prefix, len(reslist))  # this shouldn't be possible, check anyway, print if so\n",
    "len(needed_cmds)"
   ]
  },
  {
   "cell_type": "code",
   "execution_count": 19,
   "metadata": {},
   "outputs": [
    {
     "data": {
      "text/plain": [
       "5110"
      ]
     },
     "execution_count": 19,
     "metadata": {},
     "output_type": "execute_result"
    }
   ],
   "source": [
    "len(found)"
   ]
  },
  {
   "cell_type": "markdown",
   "metadata": {},
   "source": [
    " "
   ]
  },
  {
   "cell_type": "markdown",
   "metadata": {},
   "source": [
    " "
   ]
  },
  {
   "cell_type": "markdown",
   "metadata": {},
   "source": [
    "# gather all of the wanted resfiles and concat into single dataframes\n",
    "\n",
    "gather the files with BF, label SNP IDs, label environmental covariables, and concat into single dataframe"
   ]
  },
  {
   "cell_type": "code",
   "execution_count": 3,
   "metadata": {},
   "outputs": [
    {
     "name": "stdout",
     "output_type": "stream",
     "text": [
      "56 56\n"
     ]
    }
   ],
   "source": [
    "lview,dview = get_client()"
   ]
  },
  {
   "cell_type": "code",
   "execution_count": 4,
   "metadata": {
    "scrolled": true
   },
   "outputs": [
    {
     "data": {
      "text/plain": [
       "(5110, 5110)"
      ]
     },
     "execution_count": 4,
     "metadata": {},
     "output_type": "execute_result"
    }
   ],
   "source": [
    "bffiles = fs(resdir, endswith='betai_reg.out')\n",
    "xtxfiles = fs(resdir, endswith='pi_xtx.out')\n",
    "len(bffiles), len(xtxfiles)"
   ]
  },
  {
   "cell_type": "code",
   "execution_count": 5,
   "metadata": {},
   "outputs": [
    {
     "data": {
      "text/html": [
       "<div>\n",
       "<style scoped>\n",
       "    .dataframe tbody tr th:only-of-type {\n",
       "        vertical-align: middle;\n",
       "    }\n",
       "\n",
       "    .dataframe tbody tr th {\n",
       "        vertical-align: top;\n",
       "    }\n",
       "\n",
       "    .dataframe thead th {\n",
       "        text-align: right;\n",
       "    }\n",
       "</style>\n",
       "<table border=\"1\" class=\"dataframe\">\n",
       "  <thead>\n",
       "    <tr style=\"text-align: right;\">\n",
       "      <th></th>\n",
       "      <th>COVARIABLE</th>\n",
       "      <th>MRK</th>\n",
       "      <th>M_Pearson</th>\n",
       "      <th>SD_Pearson</th>\n",
       "      <th>BF(dB)</th>\n",
       "      <th>Beta_is</th>\n",
       "      <th>SD_Beta_is</th>\n",
       "      <th>eBPis</th>\n",
       "    </tr>\n",
       "  </thead>\n",
       "  <tbody>\n",
       "    <tr>\n",
       "      <th>0</th>\n",
       "      <td>1</td>\n",
       "      <td>1</td>\n",
       "      <td>0.019481</td>\n",
       "      <td>0.143261</td>\n",
       "      <td>-9.818379</td>\n",
       "      <td>0.001109</td>\n",
       "      <td>0.009161</td>\n",
       "      <td>0.044014</td>\n",
       "    </tr>\n",
       "    <tr>\n",
       "      <th>1</th>\n",
       "      <td>1</td>\n",
       "      <td>2</td>\n",
       "      <td>0.067087</td>\n",
       "      <td>0.131969</td>\n",
       "      <td>-4.168396</td>\n",
       "      <td>0.005074</td>\n",
       "      <td>0.009358</td>\n",
       "      <td>0.230858</td>\n",
       "    </tr>\n",
       "    <tr>\n",
       "      <th>2</th>\n",
       "      <td>1</td>\n",
       "      <td>3</td>\n",
       "      <td>-0.010818</td>\n",
       "      <td>0.142644</td>\n",
       "      <td>-11.520927</td>\n",
       "      <td>-0.001558</td>\n",
       "      <td>0.005309</td>\n",
       "      <td>0.113974</td>\n",
       "    </tr>\n",
       "    <tr>\n",
       "      <th>3</th>\n",
       "      <td>1</td>\n",
       "      <td>4</td>\n",
       "      <td>-0.046764</td>\n",
       "      <td>0.117936</td>\n",
       "      <td>-11.884691</td>\n",
       "      <td>-0.001756</td>\n",
       "      <td>0.006781</td>\n",
       "      <td>0.099268</td>\n",
       "    </tr>\n",
       "    <tr>\n",
       "      <th>4</th>\n",
       "      <td>1</td>\n",
       "      <td>5</td>\n",
       "      <td>0.021122</td>\n",
       "      <td>0.128426</td>\n",
       "      <td>-11.381520</td>\n",
       "      <td>0.000681</td>\n",
       "      <td>0.007170</td>\n",
       "      <td>0.034198</td>\n",
       "    </tr>\n",
       "  </tbody>\n",
       "</table>\n",
       "</div>"
      ],
      "text/plain": [
       "   COVARIABLE  MRK  M_Pearson  SD_Pearson     BF(dB)   Beta_is  SD_Beta_is  \\\n",
       "0           1    1   0.019481    0.143261  -9.818379  0.001109    0.009161   \n",
       "1           1    2   0.067087    0.131969  -4.168396  0.005074    0.009358   \n",
       "2           1    3  -0.010818    0.142644 -11.520927 -0.001558    0.005309   \n",
       "3           1    4  -0.046764    0.117936 -11.884691 -0.001756    0.006781   \n",
       "4           1    5   0.021122    0.128426 -11.381520  0.000681    0.007170   \n",
       "\n",
       "      eBPis  \n",
       "0  0.044014  \n",
       "1  0.230858  \n",
       "2  0.113974  \n",
       "3  0.099268  \n",
       "4  0.034198  "
      ]
     },
     "execution_count": 5,
     "metadata": {},
     "output_type": "execute_result"
    }
   ],
   "source": [
    "bf = pd.read_table(bffiles[0], delim_whitespace=True)\n",
    "bf.head()"
   ]
  },
  {
   "cell_type": "code",
   "execution_count": 6,
   "metadata": {},
   "outputs": [
    {
     "data": {
      "text/html": [
       "<div>\n",
       "<style scoped>\n",
       "    .dataframe tbody tr th:only-of-type {\n",
       "        vertical-align: middle;\n",
       "    }\n",
       "\n",
       "    .dataframe tbody tr th {\n",
       "        vertical-align: top;\n",
       "    }\n",
       "\n",
       "    .dataframe thead th {\n",
       "        text-align: right;\n",
       "    }\n",
       "</style>\n",
       "<table border=\"1\" class=\"dataframe\">\n",
       "  <thead>\n",
       "    <tr style=\"text-align: right;\">\n",
       "      <th></th>\n",
       "      <th>MRK</th>\n",
       "      <th>M_P</th>\n",
       "      <th>SD_P</th>\n",
       "      <th>M_XtX</th>\n",
       "      <th>SD_XtX</th>\n",
       "      <th>XtXst</th>\n",
       "      <th>log10(1/pval)</th>\n",
       "    </tr>\n",
       "  </thead>\n",
       "  <tbody>\n",
       "    <tr>\n",
       "      <th>0</th>\n",
       "      <td>1</td>\n",
       "      <td>0.974898</td>\n",
       "      <td>0.026716</td>\n",
       "      <td>45.273600</td>\n",
       "      <td>9.453964</td>\n",
       "      <td>29.744166</td>\n",
       "      <td>0.017190</td>\n",
       "    </tr>\n",
       "    <tr>\n",
       "      <th>1</th>\n",
       "      <td>2</td>\n",
       "      <td>0.965371</td>\n",
       "      <td>0.044352</td>\n",
       "      <td>45.608332</td>\n",
       "      <td>9.550721</td>\n",
       "      <td>38.958259</td>\n",
       "      <td>0.139882</td>\n",
       "    </tr>\n",
       "    <tr>\n",
       "      <th>2</th>\n",
       "      <td>3</td>\n",
       "      <td>0.990501</td>\n",
       "      <td>0.008169</td>\n",
       "      <td>43.936132</td>\n",
       "      <td>9.304743</td>\n",
       "      <td>21.079412</td>\n",
       "      <td>0.000392</td>\n",
       "    </tr>\n",
       "    <tr>\n",
       "      <th>3</th>\n",
       "      <td>4</td>\n",
       "      <td>0.957969</td>\n",
       "      <td>0.095533</td>\n",
       "      <td>45.098322</td>\n",
       "      <td>9.342395</td>\n",
       "      <td>54.202269</td>\n",
       "      <td>0.786383</td>\n",
       "    </tr>\n",
       "    <tr>\n",
       "      <th>4</th>\n",
       "      <td>5</td>\n",
       "      <td>0.980168</td>\n",
       "      <td>0.010309</td>\n",
       "      <td>44.985152</td>\n",
       "      <td>9.365562</td>\n",
       "      <td>50.326890</td>\n",
       "      <td>0.567376</td>\n",
       "    </tr>\n",
       "  </tbody>\n",
       "</table>\n",
       "</div>"
      ],
      "text/plain": [
       "   MRK       M_P      SD_P      M_XtX    SD_XtX      XtXst  log10(1/pval)\n",
       "0    1  0.974898  0.026716  45.273600  9.453964  29.744166       0.017190\n",
       "1    2  0.965371  0.044352  45.608332  9.550721  38.958259       0.139882\n",
       "2    3  0.990501  0.008169  43.936132  9.304743  21.079412       0.000392\n",
       "3    4  0.957969  0.095533  45.098322  9.342395  54.202269       0.786383\n",
       "4    5  0.980168  0.010309  44.985152  9.365562  50.326890       0.567376"
      ]
     },
     "execution_count": 6,
     "metadata": {},
     "output_type": "execute_result"
    }
   ],
   "source": [
    "xtx = pd.read_table(xtxfiles[0], delim_whitespace=True)\n",
    "xtx.head()"
   ]
  },
  {
   "cell_type": "code",
   "execution_count": 7,
   "metadata": {},
   "outputs": [],
   "source": [
    "def label_snps(resfile):\n",
    "    import os\n",
    "    import pandas\n",
    "    # find the gfile associated with resfile\n",
    "    prefix = os.path.basename(resfile).split(\"_chain\")[0]\n",
    "    chain = \"chain_%s\" % os.path.basename(resfile).split(prefix)[1].split(\"_\")[2]\n",
    "    gfile = os.path.join(gfile_dir, f'{prefix}_HEADERIDX.txt')\n",
    "    gdf = pandas.read_table(gfile, index_col=0, usecols=[0,1])  # read in rows with SNPIDs, but only one column\n",
    "    \n",
    "    # read in the resfile\n",
    "    df = pandas.read_table(resfile, delim_whitespace=True)\n",
    "    \n",
    "    # map MRK column to locus name\n",
    "    gdict = dict((num+1, locus) for num,locus in enumerate(gdf.index))\n",
    "    \n",
    "    # map covariable column to environment ID\n",
    "    edict = dict((num+1, env) for num,env in enumerate(efile.index))\n",
    "    \n",
    "    # split each covariable (env) in to its own file\n",
    "    df['env'] = df['COVARIABLE'].map(edict)\n",
    "    envdfs = {chain:{}}\n",
    "    for env in uni(df['env']):\n",
    "        envdfs[chain][env] = df[df['env']==env].copy()\n",
    "        envdfs[chain][env].index = gdf.index.tolist()\n",
    "\n",
    "    return envdfs\n",
    "efile = pd.read_table(op.join(baydir, 'coastal_efile_std_HEADERIDX.txt'), index_col=0, usecols=[0,1])\n",
    "dview['efile'] = efile\n",
    "dview['uni'] = uni\n",
    "dview['gfile_dir'] = gfile_dir"
   ]
  },
  {
   "cell_type": "code",
   "execution_count": 8,
   "metadata": {},
   "outputs": [
    {
     "name": "stdout",
     "output_type": "stream",
     "text": [
      "5110\n",
      "5110\n"
     ]
    }
   ],
   "source": [
    "jobs = []\n",
    "for bffile in nb(bffiles):\n",
    "    jobs.append(lview.apply_async(label_snps, bffile))\n",
    "watch_async(jobs, sleep=5)"
   ]
  },
  {
   "cell_type": "code",
   "execution_count": 9,
   "metadata": {},
   "outputs": [
    {
     "name": "stderr",
     "output_type": "stream",
     "text": [
      "100%|██████████| 5110/5110 [00:00<00:00, 18691.76it/s]\n"
     ]
    },
    {
     "data": {
      "text/plain": [
       "['chain_1', 'chain_2', 'chain_3', 'chain_4', 'chain_5']"
      ]
     },
     "execution_count": 9,
     "metadata": {},
     "output_type": "execute_result"
    }
   ],
   "source": [
    "# gather output by environment\n",
    "envlist = {}\n",
    "for j in nb(jobs):\n",
    "    if j.ready():\n",
    "        chain = keys(j.r)[0]\n",
    "        if chain not in envlist:\n",
    "            envlist[chain] = {}\n",
    "        for env in j.r[chain]:\n",
    "            if env not in envlist[chain]:\n",
    "                envlist[chain][env] = []\n",
    "            envlist[chain][env].append(j.r[chain][env])\n",
    "keys(envlist)"
   ]
  },
  {
   "cell_type": "code",
   "execution_count": 10,
   "metadata": {
    "scrolled": true
   },
   "outputs": [
    {
     "name": "stderr",
     "output_type": "stream",
     "text": [
      "chain_1: 100%|██████████| 19/19 [00:10<00:00,  1.74it/s]\n",
      "chain_2: 100%|██████████| 19/19 [00:10<00:00,  1.87it/s]\n",
      "chain_3: 100%|██████████| 19/19 [00:08<00:00,  2.17it/s]\n",
      "chain_4: 100%|██████████| 19/19 [00:10<00:00,  1.87it/s]\n",
      "chain_5: 100%|██████████| 19/19 [00:08<00:00,  2.17it/s]"
     ]
    },
    {
     "name": "stdout",
     "output_type": "stream",
     "text": [
      "\u001b[1mchain_1\u001b[0m\n",
      "\t DD_0 2350569\n",
      "\t MCMT 2350569\n",
      "\t EMT 2350569\n",
      "\t FFP 2350569\n",
      "\t Eref 2350569\n",
      "\t bFFP 2350569\n",
      "\t PAS 2350569\n",
      "\t TD 2350569\n",
      "\t AHM 2350569\n",
      "\t EXT 2350569\n",
      "\t eFFP 2350569\n",
      "\t SHM 2350569\n",
      "\t NFFD 2350569\n",
      "\t MAP 2350569\n",
      "\t MSP 2350569\n",
      "\t CMD 2350569\n",
      "\t MWMT 2350569\n",
      "\t DD5 2350569\n",
      "\t MAT 2350569\n",
      "\u001b[1mchain_2\u001b[0m\n",
      "\t PAS 2350569\n",
      "\t CMD 2350569\n",
      "\t DD5 2350569\n",
      "\t MCMT 2350569\n",
      "\t MWMT 2350569\n",
      "\t MAT 2350569\n",
      "\t DD_0 2350569\n",
      "\t NFFD 2350569\n",
      "\t eFFP 2350569\n",
      "\t AHM 2350569\n",
      "\t EMT 2350569\n",
      "\t Eref 2350569\n",
      "\t SHM 2350569\n",
      "\t EXT 2350569\n",
      "\t MAP 2350569\n",
      "\t TD 2350569\n",
      "\t FFP 2350569\n",
      "\t MSP 2350569\n",
      "\t bFFP 2350569\n",
      "\u001b[1mchain_3\u001b[0m\n",
      "\t MCMT 2350569\n",
      "\t MWMT 2350569\n",
      "\t EXT 2350569\n",
      "\t TD 2350569\n",
      "\t MSP 2350569\n",
      "\t eFFP 2350569\n",
      "\t NFFD 2350569\n",
      "\t bFFP 2350569\n",
      "\t PAS 2350569\n",
      "\t DD_0 2350569\n",
      "\t EMT 2350569\n",
      "\t MAP 2350569\n",
      "\t AHM 2350569\n",
      "\t CMD 2350569\n",
      "\t Eref 2350569\n",
      "\t FFP 2350569\n",
      "\t DD5 2350569\n",
      "\t MAT 2350569\n",
      "\t SHM 2350569\n",
      "\u001b[1mchain_4\u001b[0m\n",
      "\t DD5 2350569\n",
      "\t TD 2350569\n",
      "\t DD_0 2350569\n",
      "\t NFFD 2350569\n",
      "\t EMT 2350569\n",
      "\t MSP 2350569\n",
      "\t EXT 2350569\n",
      "\t MAP 2350569\n",
      "\t MCMT 2350569\n",
      "\t Eref 2350569\n",
      "\t bFFP 2350569\n",
      "\t CMD 2350569\n",
      "\t SHM 2350569\n",
      "\t FFP 2350569\n",
      "\t PAS 2350569\n",
      "\t AHM 2350569\n",
      "\t MAT 2350569\n",
      "\t MWMT 2350569\n",
      "\t eFFP 2350569\n",
      "\u001b[1mchain_5\u001b[0m\n",
      "\t bFFP 2350569\n",
      "\t MAP 2350569\n",
      "\t MCMT 2350569\n",
      "\t Eref 2350569\n",
      "\t FFP 2350569\n",
      "\t MAT 2350569\n",
      "\t DD_0 2350569\n",
      "\t TD 2350569\n",
      "\t SHM 2350569\n",
      "\t EXT 2350569\n",
      "\t CMD 2350569\n",
      "\t EMT 2350569\n",
      "\t eFFP 2350569\n",
      "\t PAS 2350569\n",
      "\t DD5 2350569\n",
      "\t NFFD 2350569\n",
      "\t MSP 2350569\n",
      "\t MWMT 2350569\n",
      "\t AHM 2350569\n"
     ]
    },
    {
     "name": "stderr",
     "output_type": "stream",
     "text": [
      "\n"
     ]
    }
   ],
   "source": [
    "# concatenate environmental output by each chain, print out num snps for each env for each chain\n",
    "chaindfs = {}\n",
    "for chain,envs in envlist.items():\n",
    "    assert len(envs) == 19\n",
    "    if chain not in chaindfs:\n",
    "        chaindfs[chain] = {}\n",
    "    for env,dfs in nb(envs.items(), desc=chain):\n",
    "        if env not in chaindfs[chain]:\n",
    "            chaindfs[chain][env] = pd.concat(dfs)\n",
    "        else:\n",
    "            print('crap ', chain, env)\n",
    "for chain in chaindfs:\n",
    "    print(ColorText(chain).bold())\n",
    "    for env in chaindfs[chain]:\n",
    "        print('\\t',env, nrow(chaindfs[chain][env]))"
   ]
  },
  {
   "cell_type": "code",
   "execution_count": 12,
   "metadata": {
    "scrolled": true
   },
   "outputs": [
    {
     "name": "stderr",
     "output_type": "stream",
     "text": [
      "chain_1: 100%|██████████| 19/19 [00:08<00:00,  2.16it/s]\n",
      "chain_2: 100%|██████████| 19/19 [00:10<00:00,  1.74it/s]\n",
      "chain_3: 100%|██████████| 19/19 [00:08<00:00,  2.18it/s]\n",
      "chain_4: 100%|██████████| 19/19 [00:08<00:00,  2.21it/s]\n",
      "chain_5: 100%|██████████| 19/19 [00:10<00:00,  1.88it/s]\n",
      "combo: 100%|██████████| 19/19 [03:15<00:00, 10.31s/it]\n"
     ]
    },
    {
     "data": {
      "text/html": [
       "<div>\n",
       "<style scoped>\n",
       "    .dataframe tbody tr th:only-of-type {\n",
       "        vertical-align: middle;\n",
       "    }\n",
       "\n",
       "    .dataframe tbody tr th {\n",
       "        vertical-align: top;\n",
       "    }\n",
       "\n",
       "    .dataframe thead th {\n",
       "        text-align: right;\n",
       "    }\n",
       "</style>\n",
       "<table border=\"1\" class=\"dataframe\">\n",
       "  <thead>\n",
       "    <tr style=\"text-align: right;\">\n",
       "      <th></th>\n",
       "      <th>chain_1-COVARIABLE</th>\n",
       "      <th>chain_1-MRK</th>\n",
       "      <th>chain_1-M_Pearson</th>\n",
       "      <th>chain_1-SD_Pearson</th>\n",
       "      <th>chain_1-BF(dB)</th>\n",
       "      <th>chain_1-Beta_is</th>\n",
       "      <th>chain_1-SD_Beta_is</th>\n",
       "      <th>chain_1-eBPis</th>\n",
       "      <th>chain_1-env</th>\n",
       "      <th>chain_2-COVARIABLE</th>\n",
       "      <th>chain_2-MRK</th>\n",
       "      <th>chain_2-M_Pearson</th>\n",
       "      <th>chain_2-SD_Pearson</th>\n",
       "      <th>chain_2-BF(dB)</th>\n",
       "      <th>chain_2-Beta_is</th>\n",
       "      <th>chain_2-SD_Beta_is</th>\n",
       "      <th>chain_2-eBPis</th>\n",
       "      <th>chain_2-env</th>\n",
       "      <th>chain_3-COVARIABLE</th>\n",
       "      <th>chain_3-MRK</th>\n",
       "      <th>chain_3-M_Pearson</th>\n",
       "      <th>chain_3-SD_Pearson</th>\n",
       "      <th>chain_3-BF(dB)</th>\n",
       "      <th>chain_3-Beta_is</th>\n",
       "      <th>chain_3-SD_Beta_is</th>\n",
       "      <th>chain_3-eBPis</th>\n",
       "      <th>chain_3-env</th>\n",
       "      <th>chain_4-COVARIABLE</th>\n",
       "      <th>chain_4-MRK</th>\n",
       "      <th>chain_4-M_Pearson</th>\n",
       "      <th>chain_4-SD_Pearson</th>\n",
       "      <th>chain_4-BF(dB)</th>\n",
       "      <th>chain_4-Beta_is</th>\n",
       "      <th>chain_4-SD_Beta_is</th>\n",
       "      <th>chain_4-eBPis</th>\n",
       "      <th>chain_4-env</th>\n",
       "      <th>chain_5-COVARIABLE</th>\n",
       "      <th>chain_5-MRK</th>\n",
       "      <th>chain_5-M_Pearson</th>\n",
       "      <th>chain_5-SD_Pearson</th>\n",
       "      <th>chain_5-BF(dB)</th>\n",
       "      <th>chain_5-Beta_is</th>\n",
       "      <th>chain_5-SD_Beta_is</th>\n",
       "      <th>chain_5-eBPis</th>\n",
       "      <th>chain_5-env</th>\n",
       "    </tr>\n",
       "  </thead>\n",
       "  <tbody>\n",
       "    <tr>\n",
       "      <th>jcf7190000000000-77738</th>\n",
       "      <td>1</td>\n",
       "      <td>1</td>\n",
       "      <td>0.019481</td>\n",
       "      <td>0.143261</td>\n",
       "      <td>-9.818379</td>\n",
       "      <td>0.001109</td>\n",
       "      <td>0.009161</td>\n",
       "      <td>0.044014</td>\n",
       "      <td>MAT</td>\n",
       "      <td>1</td>\n",
       "      <td>1</td>\n",
       "      <td>0.016763</td>\n",
       "      <td>0.139889</td>\n",
       "      <td>-9.763548</td>\n",
       "      <td>0.001180</td>\n",
       "      <td>0.010172</td>\n",
       "      <td>0.042086</td>\n",
       "      <td>MAT</td>\n",
       "      <td>1</td>\n",
       "      <td>1</td>\n",
       "      <td>0.040410</td>\n",
       "      <td>0.134280</td>\n",
       "      <td>-8.941268</td>\n",
       "      <td>0.002665</td>\n",
       "      <td>0.008408</td>\n",
       "      <td>0.124187</td>\n",
       "      <td>MAT</td>\n",
       "      <td>1</td>\n",
       "      <td>1</td>\n",
       "      <td>0.011143</td>\n",
       "      <td>0.142846</td>\n",
       "      <td>-8.294361</td>\n",
       "      <td>-0.000112</td>\n",
       "      <td>0.011705</td>\n",
       "      <td>0.003325</td>\n",
       "      <td>MAT</td>\n",
       "      <td>1</td>\n",
       "      <td>1</td>\n",
       "      <td>0.040552</td>\n",
       "      <td>0.146463</td>\n",
       "      <td>-8.970313</td>\n",
       "      <td>0.003243</td>\n",
       "      <td>0.010373</td>\n",
       "      <td>0.122298</td>\n",
       "      <td>MAT</td>\n",
       "    </tr>\n",
       "    <tr>\n",
       "      <th>jcf7190000000000-77764</th>\n",
       "      <td>1</td>\n",
       "      <td>2</td>\n",
       "      <td>0.067087</td>\n",
       "      <td>0.131969</td>\n",
       "      <td>-4.168396</td>\n",
       "      <td>0.005074</td>\n",
       "      <td>0.009358</td>\n",
       "      <td>0.230858</td>\n",
       "      <td>MAT</td>\n",
       "      <td>1</td>\n",
       "      <td>2</td>\n",
       "      <td>0.051400</td>\n",
       "      <td>0.137479</td>\n",
       "      <td>-9.268755</td>\n",
       "      <td>0.004405</td>\n",
       "      <td>0.009922</td>\n",
       "      <td>0.182391</td>\n",
       "      <td>MAT</td>\n",
       "      <td>1</td>\n",
       "      <td>2</td>\n",
       "      <td>0.053341</td>\n",
       "      <td>0.145438</td>\n",
       "      <td>-8.886951</td>\n",
       "      <td>0.004971</td>\n",
       "      <td>0.011208</td>\n",
       "      <td>0.182166</td>\n",
       "      <td>MAT</td>\n",
       "      <td>1</td>\n",
       "      <td>2</td>\n",
       "      <td>0.053708</td>\n",
       "      <td>0.136611</td>\n",
       "      <td>-8.497892</td>\n",
       "      <td>0.004676</td>\n",
       "      <td>0.010306</td>\n",
       "      <td>0.187071</td>\n",
       "      <td>MAT</td>\n",
       "      <td>1</td>\n",
       "      <td>2</td>\n",
       "      <td>0.048398</td>\n",
       "      <td>0.123070</td>\n",
       "      <td>-9.735437</td>\n",
       "      <td>0.004928</td>\n",
       "      <td>0.009452</td>\n",
       "      <td>0.220294</td>\n",
       "      <td>MAT</td>\n",
       "    </tr>\n",
       "    <tr>\n",
       "      <th>jcf7190000000004-54418</th>\n",
       "      <td>1</td>\n",
       "      <td>3</td>\n",
       "      <td>-0.010818</td>\n",
       "      <td>0.142644</td>\n",
       "      <td>-11.520927</td>\n",
       "      <td>-0.001558</td>\n",
       "      <td>0.005309</td>\n",
       "      <td>0.113974</td>\n",
       "      <td>MAT</td>\n",
       "      <td>1</td>\n",
       "      <td>3</td>\n",
       "      <td>-0.005682</td>\n",
       "      <td>0.139501</td>\n",
       "      <td>-12.805761</td>\n",
       "      <td>-0.000997</td>\n",
       "      <td>0.005383</td>\n",
       "      <td>0.069020</td>\n",
       "      <td>MAT</td>\n",
       "      <td>1</td>\n",
       "      <td>3</td>\n",
       "      <td>-0.008921</td>\n",
       "      <td>0.141621</td>\n",
       "      <td>-11.531844</td>\n",
       "      <td>-0.001592</td>\n",
       "      <td>0.005944</td>\n",
       "      <td>0.103033</td>\n",
       "      <td>MAT</td>\n",
       "      <td>1</td>\n",
       "      <td>3</td>\n",
       "      <td>-0.005990</td>\n",
       "      <td>0.141390</td>\n",
       "      <td>-12.572324</td>\n",
       "      <td>-0.001247</td>\n",
       "      <td>0.005522</td>\n",
       "      <td>0.085514</td>\n",
       "      <td>MAT</td>\n",
       "      <td>1</td>\n",
       "      <td>3</td>\n",
       "      <td>-0.011867</td>\n",
       "      <td>0.146292</td>\n",
       "      <td>-11.622625</td>\n",
       "      <td>-0.001574</td>\n",
       "      <td>0.005674</td>\n",
       "      <td>0.107115</td>\n",
       "      <td>MAT</td>\n",
       "    </tr>\n",
       "    <tr>\n",
       "      <th>jcf7190000000004-54508</th>\n",
       "      <td>1</td>\n",
       "      <td>4</td>\n",
       "      <td>-0.046764</td>\n",
       "      <td>0.117936</td>\n",
       "      <td>-11.884691</td>\n",
       "      <td>-0.001756</td>\n",
       "      <td>0.006781</td>\n",
       "      <td>0.099268</td>\n",
       "      <td>MAT</td>\n",
       "      <td>1</td>\n",
       "      <td>4</td>\n",
       "      <td>-0.066645</td>\n",
       "      <td>0.110145</td>\n",
       "      <td>-11.360039</td>\n",
       "      <td>-0.006334</td>\n",
       "      <td>0.009368</td>\n",
       "      <td>0.301908</td>\n",
       "      <td>MAT</td>\n",
       "      <td>1</td>\n",
       "      <td>4</td>\n",
       "      <td>-0.046778</td>\n",
       "      <td>0.113096</td>\n",
       "      <td>-12.602799</td>\n",
       "      <td>-0.003065</td>\n",
       "      <td>0.005446</td>\n",
       "      <td>0.241436</td>\n",
       "      <td>MAT</td>\n",
       "      <td>1</td>\n",
       "      <td>4</td>\n",
       "      <td>-0.056804</td>\n",
       "      <td>0.116794</td>\n",
       "      <td>-11.745844</td>\n",
       "      <td>-0.003762</td>\n",
       "      <td>0.006513</td>\n",
       "      <td>0.249077</td>\n",
       "      <td>MAT</td>\n",
       "      <td>1</td>\n",
       "      <td>4</td>\n",
       "      <td>-0.069587</td>\n",
       "      <td>0.114737</td>\n",
       "      <td>-12.324292</td>\n",
       "      <td>-0.003220</td>\n",
       "      <td>0.005251</td>\n",
       "      <td>0.267834</td>\n",
       "      <td>MAT</td>\n",
       "    </tr>\n",
       "    <tr>\n",
       "      <th>jcf7190000000004-54540</th>\n",
       "      <td>1</td>\n",
       "      <td>5</td>\n",
       "      <td>0.021122</td>\n",
       "      <td>0.128426</td>\n",
       "      <td>-11.381520</td>\n",
       "      <td>0.000681</td>\n",
       "      <td>0.007170</td>\n",
       "      <td>0.034198</td>\n",
       "      <td>MAT</td>\n",
       "      <td>1</td>\n",
       "      <td>5</td>\n",
       "      <td>0.038666</td>\n",
       "      <td>0.132323</td>\n",
       "      <td>-10.957807</td>\n",
       "      <td>0.001610</td>\n",
       "      <td>0.007318</td>\n",
       "      <td>0.083071</td>\n",
       "      <td>MAT</td>\n",
       "      <td>1</td>\n",
       "      <td>5</td>\n",
       "      <td>0.021904</td>\n",
       "      <td>0.129940</td>\n",
       "      <td>-12.165769</td>\n",
       "      <td>0.000721</td>\n",
       "      <td>0.007136</td>\n",
       "      <td>0.036464</td>\n",
       "      <td>MAT</td>\n",
       "      <td>1</td>\n",
       "      <td>5</td>\n",
       "      <td>0.025468</td>\n",
       "      <td>0.125963</td>\n",
       "      <td>-12.216768</td>\n",
       "      <td>0.000900</td>\n",
       "      <td>0.006982</td>\n",
       "      <td>0.046970</td>\n",
       "      <td>MAT</td>\n",
       "      <td>1</td>\n",
       "      <td>5</td>\n",
       "      <td>0.013424</td>\n",
       "      <td>0.137231</td>\n",
       "      <td>-11.306552</td>\n",
       "      <td>0.000024</td>\n",
       "      <td>0.008280</td>\n",
       "      <td>0.001017</td>\n",
       "      <td>MAT</td>\n",
       "    </tr>\n",
       "  </tbody>\n",
       "</table>\n",
       "</div>"
      ],
      "text/plain": [
       "                        chain_1-COVARIABLE  chain_1-MRK  chain_1-M_Pearson  \\\n",
       "jcf7190000000000-77738                   1            1           0.019481   \n",
       "jcf7190000000000-77764                   1            2           0.067087   \n",
       "jcf7190000000004-54418                   1            3          -0.010818   \n",
       "jcf7190000000004-54508                   1            4          -0.046764   \n",
       "jcf7190000000004-54540                   1            5           0.021122   \n",
       "\n",
       "                        chain_1-SD_Pearson  chain_1-BF(dB)  chain_1-Beta_is  \\\n",
       "jcf7190000000000-77738            0.143261       -9.818379         0.001109   \n",
       "jcf7190000000000-77764            0.131969       -4.168396         0.005074   \n",
       "jcf7190000000004-54418            0.142644      -11.520927        -0.001558   \n",
       "jcf7190000000004-54508            0.117936      -11.884691        -0.001756   \n",
       "jcf7190000000004-54540            0.128426      -11.381520         0.000681   \n",
       "\n",
       "                        chain_1-SD_Beta_is  chain_1-eBPis chain_1-env  \\\n",
       "jcf7190000000000-77738            0.009161       0.044014         MAT   \n",
       "jcf7190000000000-77764            0.009358       0.230858         MAT   \n",
       "jcf7190000000004-54418            0.005309       0.113974         MAT   \n",
       "jcf7190000000004-54508            0.006781       0.099268         MAT   \n",
       "jcf7190000000004-54540            0.007170       0.034198         MAT   \n",
       "\n",
       "                        chain_2-COVARIABLE  chain_2-MRK  chain_2-M_Pearson  \\\n",
       "jcf7190000000000-77738                   1            1           0.016763   \n",
       "jcf7190000000000-77764                   1            2           0.051400   \n",
       "jcf7190000000004-54418                   1            3          -0.005682   \n",
       "jcf7190000000004-54508                   1            4          -0.066645   \n",
       "jcf7190000000004-54540                   1            5           0.038666   \n",
       "\n",
       "                        chain_2-SD_Pearson  chain_2-BF(dB)  chain_2-Beta_is  \\\n",
       "jcf7190000000000-77738            0.139889       -9.763548         0.001180   \n",
       "jcf7190000000000-77764            0.137479       -9.268755         0.004405   \n",
       "jcf7190000000004-54418            0.139501      -12.805761        -0.000997   \n",
       "jcf7190000000004-54508            0.110145      -11.360039        -0.006334   \n",
       "jcf7190000000004-54540            0.132323      -10.957807         0.001610   \n",
       "\n",
       "                        chain_2-SD_Beta_is  chain_2-eBPis chain_2-env  \\\n",
       "jcf7190000000000-77738            0.010172       0.042086         MAT   \n",
       "jcf7190000000000-77764            0.009922       0.182391         MAT   \n",
       "jcf7190000000004-54418            0.005383       0.069020         MAT   \n",
       "jcf7190000000004-54508            0.009368       0.301908         MAT   \n",
       "jcf7190000000004-54540            0.007318       0.083071         MAT   \n",
       "\n",
       "                        chain_3-COVARIABLE  chain_3-MRK  chain_3-M_Pearson  \\\n",
       "jcf7190000000000-77738                   1            1           0.040410   \n",
       "jcf7190000000000-77764                   1            2           0.053341   \n",
       "jcf7190000000004-54418                   1            3          -0.008921   \n",
       "jcf7190000000004-54508                   1            4          -0.046778   \n",
       "jcf7190000000004-54540                   1            5           0.021904   \n",
       "\n",
       "                        chain_3-SD_Pearson  chain_3-BF(dB)  chain_3-Beta_is  \\\n",
       "jcf7190000000000-77738            0.134280       -8.941268         0.002665   \n",
       "jcf7190000000000-77764            0.145438       -8.886951         0.004971   \n",
       "jcf7190000000004-54418            0.141621      -11.531844        -0.001592   \n",
       "jcf7190000000004-54508            0.113096      -12.602799        -0.003065   \n",
       "jcf7190000000004-54540            0.129940      -12.165769         0.000721   \n",
       "\n",
       "                        chain_3-SD_Beta_is  chain_3-eBPis chain_3-env  \\\n",
       "jcf7190000000000-77738            0.008408       0.124187         MAT   \n",
       "jcf7190000000000-77764            0.011208       0.182166         MAT   \n",
       "jcf7190000000004-54418            0.005944       0.103033         MAT   \n",
       "jcf7190000000004-54508            0.005446       0.241436         MAT   \n",
       "jcf7190000000004-54540            0.007136       0.036464         MAT   \n",
       "\n",
       "                        chain_4-COVARIABLE  chain_4-MRK  chain_4-M_Pearson  \\\n",
       "jcf7190000000000-77738                   1            1           0.011143   \n",
       "jcf7190000000000-77764                   1            2           0.053708   \n",
       "jcf7190000000004-54418                   1            3          -0.005990   \n",
       "jcf7190000000004-54508                   1            4          -0.056804   \n",
       "jcf7190000000004-54540                   1            5           0.025468   \n",
       "\n",
       "                        chain_4-SD_Pearson  chain_4-BF(dB)  chain_4-Beta_is  \\\n",
       "jcf7190000000000-77738            0.142846       -8.294361        -0.000112   \n",
       "jcf7190000000000-77764            0.136611       -8.497892         0.004676   \n",
       "jcf7190000000004-54418            0.141390      -12.572324        -0.001247   \n",
       "jcf7190000000004-54508            0.116794      -11.745844        -0.003762   \n",
       "jcf7190000000004-54540            0.125963      -12.216768         0.000900   \n",
       "\n",
       "                        chain_4-SD_Beta_is  chain_4-eBPis chain_4-env  \\\n",
       "jcf7190000000000-77738            0.011705       0.003325         MAT   \n",
       "jcf7190000000000-77764            0.010306       0.187071         MAT   \n",
       "jcf7190000000004-54418            0.005522       0.085514         MAT   \n",
       "jcf7190000000004-54508            0.006513       0.249077         MAT   \n",
       "jcf7190000000004-54540            0.006982       0.046970         MAT   \n",
       "\n",
       "                        chain_5-COVARIABLE  chain_5-MRK  chain_5-M_Pearson  \\\n",
       "jcf7190000000000-77738                   1            1           0.040552   \n",
       "jcf7190000000000-77764                   1            2           0.048398   \n",
       "jcf7190000000004-54418                   1            3          -0.011867   \n",
       "jcf7190000000004-54508                   1            4          -0.069587   \n",
       "jcf7190000000004-54540                   1            5           0.013424   \n",
       "\n",
       "                        chain_5-SD_Pearson  chain_5-BF(dB)  chain_5-Beta_is  \\\n",
       "jcf7190000000000-77738            0.146463       -8.970313         0.003243   \n",
       "jcf7190000000000-77764            0.123070       -9.735437         0.004928   \n",
       "jcf7190000000004-54418            0.146292      -11.622625        -0.001574   \n",
       "jcf7190000000004-54508            0.114737      -12.324292        -0.003220   \n",
       "jcf7190000000004-54540            0.137231      -11.306552         0.000024   \n",
       "\n",
       "                        chain_5-SD_Beta_is  chain_5-eBPis chain_5-env  \n",
       "jcf7190000000000-77738            0.010373       0.122298         MAT  \n",
       "jcf7190000000000-77764            0.009452       0.220294         MAT  \n",
       "jcf7190000000004-54418            0.005674       0.107115         MAT  \n",
       "jcf7190000000004-54508            0.005251       0.267834         MAT  \n",
       "jcf7190000000004-54540            0.008280       0.001017         MAT  "
      ]
     },
     "execution_count": 12,
     "metadata": {},
     "output_type": "execute_result"
    }
   ],
   "source": [
    "# concatenate environmental output by each env, combine chains into single df\n",
    "dflst = {}\n",
    "for chain,envs in envlist.items():\n",
    "    for env,dfs in nb(envs.items(), desc=chain):\n",
    "        if env not in dflst:\n",
    "            dflst[env] = []\n",
    "        df = pd.concat(dfs)\n",
    "        df.columns = [f\"{chain}-{col}\" for col in df.columns]\n",
    "        dflst[env].append(df)\n",
    "# combine chains for each env - should have done this in parallel\n",
    "envdfs = {}\n",
    "for env,lst in nb(dflst.items(), desc='combo'):\n",
    "    assert len(lst) == 5\n",
    "    df = pd.merge(lst[0], lst[1], left_index=True, right_index=True)\n",
    "    df2 = pd.merge(lst[2], lst[3], left_index=True, right_index=True)\n",
    "    df3 = pd.merge(df, df2, left_index=True, right_index=True)\n",
    "    envdfs[env] = pd.merge(df3, lst[4], left_index=True, right_index=True)\n",
    "    \n",
    "    \n",
    "envdfs[env].head()           "
   ]
  },
  {
   "cell_type": "code",
   "execution_count": 14,
   "metadata": {},
   "outputs": [
    {
     "name": "stderr",
     "output_type": "stream",
     "text": [
      "100%|██████████| 1022/1022 [00:05<00:00, 183.79it/s]\n"
     ]
    },
    {
     "data": {
      "text/plain": [
       "2350569"
      ]
     },
     "execution_count": 14,
     "metadata": {},
     "output_type": "execute_result"
    }
   ],
   "source": [
    "# how many SNPs should be in each env file?\n",
    "rows = 0\n",
    "for gfile in nb(fs(gfile_dir, pattern='noheader')):\n",
    "    df = pd.read_table(gfile, usecols=[0], header=None)\n",
    "    rows += nrow(df)\n",
    "rows"
   ]
  },
  {
   "cell_type": "code",
   "execution_count": 15,
   "metadata": {
    "scrolled": false
   },
   "outputs": [
    {
     "name": "stdout",
     "output_type": "stream",
     "text": [
      "\u001b[1mDD_0\u001b[0m\n",
      "\t DD_0 2350569\n",
      "\u001b[1mMCMT\u001b[0m\n",
      "\t MCMT 2350569\n",
      "\u001b[1mEMT\u001b[0m\n",
      "\t EMT 2350569\n",
      "\u001b[1mFFP\u001b[0m\n",
      "\t FFP 2350569\n",
      "\u001b[1mEref\u001b[0m\n",
      "\t Eref 2350569\n",
      "\u001b[1mbFFP\u001b[0m\n",
      "\t bFFP 2350569\n",
      "\u001b[1mPAS\u001b[0m\n",
      "\t PAS 2350569\n",
      "\u001b[1mTD\u001b[0m\n",
      "\t TD 2350569\n",
      "\u001b[1mAHM\u001b[0m\n",
      "\t AHM 2350569\n",
      "\u001b[1mEXT\u001b[0m\n",
      "\t EXT 2350569\n",
      "\u001b[1meFFP\u001b[0m\n",
      "\t eFFP 2350569\n",
      "\u001b[1mSHM\u001b[0m\n",
      "\t SHM 2350569\n",
      "\u001b[1mNFFD\u001b[0m\n",
      "\t NFFD 2350569\n",
      "\u001b[1mMAP\u001b[0m\n",
      "\t MAP 2350569\n",
      "\u001b[1mMSP\u001b[0m\n",
      "\t MSP 2350569\n",
      "\u001b[1mCMD\u001b[0m\n",
      "\t CMD 2350569\n",
      "\u001b[1mMWMT\u001b[0m\n",
      "\t MWMT 2350569\n",
      "\u001b[1mDD5\u001b[0m\n",
      "\t DD5 2350569\n",
      "\u001b[1mMAT\u001b[0m\n",
      "\t MAT 2350569\n"
     ]
    }
   ],
   "source": [
    "for env in envdfs:\n",
    "    print(ColorText(env).bold())\n",
    "    print('\\t',env, nrow(envdfs[env]))\n",
    "    if nrow(envdfs[env]) != rows:\n",
    "        print(ColorText('CRAAAAAAAAAP').fail().bold())"
   ]
  },
  {
   "cell_type": "code",
   "execution_count": 16,
   "metadata": {},
   "outputs": [],
   "source": [
    "# save temp state of envdfs\n",
    "finaldir = makedir(op.join(baydir, 'final_results'))\n",
    "pkldump(envdfs, op.join(finaldir, 'envdfs_before_ranking.pkl'))"
   ]
  },
  {
   "cell_type": "code",
   "execution_count": 17,
   "metadata": {},
   "outputs": [
    {
     "data": {
      "text/plain": [
       "'/lu213/brandon.lind/projects/pool_seq/DF_datasets/DF_pooled_GEA/DF_pooled/snpsANDindels/coastal_variety/03_maf-p05_RD-recalculated_FDC/baypass/final_results'"
      ]
     },
     "execution_count": 17,
     "metadata": {},
     "output_type": "execute_result"
    }
   ],
   "source": [
    "finaldir"
   ]
  },
  {
   "cell_type": "code",
   "execution_count": 18,
   "metadata": {},
   "outputs": [],
   "source": [
    "# release some RAM\n",
    "del dflst, chaindfs, df, df2, df3, dfs, envlist, jobs"
   ]
  },
  {
   "cell_type": "markdown",
   "metadata": {},
   "source": [
    "# make columns for ranking"
   ]
  },
  {
   "cell_type": "code",
   "execution_count": 3,
   "metadata": {},
   "outputs": [
    {
     "name": "stdout",
     "output_type": "stream",
     "text": [
      "56 56\n"
     ]
    }
   ],
   "source": [
    "lview,dview = get_client()"
   ]
  },
  {
   "cell_type": "code",
   "execution_count": 4,
   "metadata": {},
   "outputs": [
    {
     "data": {
      "text/plain": [
       "19"
      ]
     },
     "execution_count": 4,
     "metadata": {},
     "output_type": "execute_result"
    }
   ],
   "source": [
    "finaldir = op.join(baydir, 'final_results')\n",
    "envdfs = pklload(op.join(finaldir, 'envdfs_before_ranking.pkl'))\n",
    "len(envdfs)"
   ]
  },
  {
   "cell_type": "code",
   "execution_count": 5,
   "metadata": {},
   "outputs": [],
   "source": [
    "def rank_baypass(df):\n",
    "    \"\"\"Create columns to rank loci within and across chains.\"\"\"\n",
    "    import pandas\n",
    "    import tqdm\n",
    "    import math\n",
    "    chains = ['chain_1', 'chain_2', 'chain_3', 'chain_4', 'chain_5']\n",
    "\n",
    "    # rank per chain based on chain BF\n",
    "    for chain in tqdm.tqdm(chains, desc='chains'):\n",
    "        col = f'{chain}-BF(dB)'\n",
    "        ranked = dict((locus,rank+1) for (rank,locus) in enumerate(df[col].sort_values(ascending=False).index))\n",
    "        df[f'rank_{chain}-BF(dB)'] = [ranked[locus] for locus in df.index]\n",
    "\n",
    "    # mean BF\n",
    "    print('getting mean BF')\n",
    "    bfcols = [col for col in df if 'BF(dB)' in col and 'rank' not in col]\n",
    "    print(bfcols)\n",
    "    assert len(bfcols) == 5\n",
    "    df['mean_BF(dB)'] = df[bfcols].mean(axis=1)\n",
    "\n",
    "    # rank of mean BF\n",
    "    print('ranking mean BF')\n",
    "    ranked = dict((locus,rank+1) for (rank,locus) in enumerate(df['mean_BF(dB)'].sort_values(ascending=False).index))\n",
    "    df['rank_mean_BF(dB)'] = [ranked[locus] for locus in df.index]\n",
    "    \n",
    "    # bool column, enter True if BF >= 20 for >=3 chains\n",
    "    # BF column is in dB units, value output by baypass = 10*log10(BF)\n",
    "    print('calculating bool column')\n",
    "    df['BF(dB)_gte20_for-gte3chains'] = (df[bfcols] >= 10*math.log10(20)).sum(axis=1) > 3\n",
    "    print(sum((df[bfcols] > 10*math.log10(20)).sum(axis=1) > 3))\n",
    "\n",
    "    return df"
   ]
  },
  {
   "cell_type": "code",
   "execution_count": 30,
   "metadata": {},
   "outputs": [
    {
     "name": "stderr",
     "output_type": "stream",
     "text": [
      "chains: 100%|██████████| 5/5 [00:23<00:00,  4.69s/it]\n"
     ]
    },
    {
     "name": "stdout",
     "output_type": "stream",
     "text": [
      "getting mean BF\n",
      "['chain_1-BF(dB)', 'chain_2-BF(dB)', 'chain_3-BF(dB)', 'chain_4-BF(dB)', 'chain_5-BF(dB)']\n",
      "ranking mean BF\n",
      "calculating bool column\n",
      "309\n"
     ]
    }
   ],
   "source": [
    "# test function\n",
    "out = rank_baypass(envdfs[env])"
   ]
  },
  {
   "cell_type": "code",
   "execution_count": 31,
   "metadata": {},
   "outputs": [
    {
     "data": {
      "text/plain": [
       "309"
      ]
     },
     "execution_count": 31,
     "metadata": {},
     "output_type": "execute_result"
    }
   ],
   "source": [
    "sum(out['BF(dB)_gte20_for-gte3chains'])"
   ]
  },
  {
   "cell_type": "code",
   "execution_count": 6,
   "metadata": {},
   "outputs": [
    {
     "name": "stdout",
     "output_type": "stream",
     "text": [
      "19\n",
      "19\n"
     ]
    }
   ],
   "source": [
    "# call rank_baypass() in parallel for each environment\n",
    "jobs = []\n",
    "for env,df in envdfs.items():\n",
    "    bfcols = [col for col in df.columns if 'BF(dB)' in col]\n",
    "    assert len(bfcols) == 5  # num chains\n",
    "    jobs.append(lview.apply_async(rank_baypass, df[bfcols]))\n",
    "watch_async(jobs)"
   ]
  },
  {
   "cell_type": "code",
   "execution_count": 19,
   "metadata": {},
   "outputs": [
    {
     "data": {
      "text/html": [
       "<div>\n",
       "<style scoped>\n",
       "    .dataframe tbody tr th:only-of-type {\n",
       "        vertical-align: middle;\n",
       "    }\n",
       "\n",
       "    .dataframe tbody tr th {\n",
       "        vertical-align: top;\n",
       "    }\n",
       "\n",
       "    .dataframe thead th {\n",
       "        text-align: right;\n",
       "    }\n",
       "</style>\n",
       "<table border=\"1\" class=\"dataframe\">\n",
       "  <thead>\n",
       "    <tr style=\"text-align: right;\">\n",
       "      <th></th>\n",
       "      <th>chain_1-BF(dB)</th>\n",
       "      <th>chain_2-BF(dB)</th>\n",
       "      <th>chain_3-BF(dB)</th>\n",
       "      <th>chain_4-BF(dB)</th>\n",
       "      <th>chain_5-BF(dB)</th>\n",
       "      <th>rank_chain_1-BF(dB)</th>\n",
       "      <th>rank_chain_2-BF(dB)</th>\n",
       "      <th>rank_chain_3-BF(dB)</th>\n",
       "      <th>rank_chain_4-BF(dB)</th>\n",
       "      <th>rank_chain_5-BF(dB)</th>\n",
       "      <th>mean_BF(dB)</th>\n",
       "      <th>rank_mean_BF(dB)</th>\n",
       "      <th>BF(dB)_gte20_for-gte3chains</th>\n",
       "    </tr>\n",
       "  </thead>\n",
       "  <tbody>\n",
       "    <tr>\n",
       "      <th>jcf7190000000000-77738</th>\n",
       "      <td>-9.818379</td>\n",
       "      <td>-9.763548</td>\n",
       "      <td>-8.941268</td>\n",
       "      <td>-8.294361</td>\n",
       "      <td>-8.970313</td>\n",
       "      <td>674303</td>\n",
       "      <td>660606</td>\n",
       "      <td>487259</td>\n",
       "      <td>390696</td>\n",
       "      <td>492129</td>\n",
       "      <td>-9.157574</td>\n",
       "      <td>512312</td>\n",
       "      <td>False</td>\n",
       "    </tr>\n",
       "    <tr>\n",
       "      <th>jcf7190000000000-77764</th>\n",
       "      <td>-4.168396</td>\n",
       "      <td>-9.268755</td>\n",
       "      <td>-8.886951</td>\n",
       "      <td>-8.497892</td>\n",
       "      <td>-9.735437</td>\n",
       "      <td>112289</td>\n",
       "      <td>548242</td>\n",
       "      <td>477880</td>\n",
       "      <td>418517</td>\n",
       "      <td>653159</td>\n",
       "      <td>-8.111486</td>\n",
       "      <td>343925</td>\n",
       "      <td>False</td>\n",
       "    </tr>\n",
       "    <tr>\n",
       "      <th>jcf7190000000004-54418</th>\n",
       "      <td>-11.520927</td>\n",
       "      <td>-12.805761</td>\n",
       "      <td>-11.531844</td>\n",
       "      <td>-12.572324</td>\n",
       "      <td>-11.622625</td>\n",
       "      <td>1305721</td>\n",
       "      <td>1795502</td>\n",
       "      <td>1309915</td>\n",
       "      <td>1720478</td>\n",
       "      <td>1349973</td>\n",
       "      <td>-12.010696</td>\n",
       "      <td>1575714</td>\n",
       "      <td>False</td>\n",
       "    </tr>\n",
       "    <tr>\n",
       "      <th>jcf7190000000004-54508</th>\n",
       "      <td>-11.884691</td>\n",
       "      <td>-11.360039</td>\n",
       "      <td>-12.602799</td>\n",
       "      <td>-11.745844</td>\n",
       "      <td>-12.324292</td>\n",
       "      <td>1460397</td>\n",
       "      <td>1235529</td>\n",
       "      <td>1729590</td>\n",
       "      <td>1403391</td>\n",
       "      <td>1633079</td>\n",
       "      <td>-11.983533</td>\n",
       "      <td>1564772</td>\n",
       "      <td>False</td>\n",
       "    </tr>\n",
       "    <tr>\n",
       "      <th>jcf7190000000004-54540</th>\n",
       "      <td>-11.381520</td>\n",
       "      <td>-10.957807</td>\n",
       "      <td>-12.165769</td>\n",
       "      <td>-12.216768</td>\n",
       "      <td>-11.306552</td>\n",
       "      <td>1245463</td>\n",
       "      <td>1063397</td>\n",
       "      <td>1572648</td>\n",
       "      <td>1593009</td>\n",
       "      <td>1212267</td>\n",
       "      <td>-11.605683</td>\n",
       "      <td>1405070</td>\n",
       "      <td>False</td>\n",
       "    </tr>\n",
       "  </tbody>\n",
       "</table>\n",
       "</div>"
      ],
      "text/plain": [
       "                        chain_1-BF(dB)  chain_2-BF(dB)  chain_3-BF(dB)  \\\n",
       "jcf7190000000000-77738       -9.818379       -9.763548       -8.941268   \n",
       "jcf7190000000000-77764       -4.168396       -9.268755       -8.886951   \n",
       "jcf7190000000004-54418      -11.520927      -12.805761      -11.531844   \n",
       "jcf7190000000004-54508      -11.884691      -11.360039      -12.602799   \n",
       "jcf7190000000004-54540      -11.381520      -10.957807      -12.165769   \n",
       "\n",
       "                        chain_4-BF(dB)  chain_5-BF(dB)  rank_chain_1-BF(dB)  \\\n",
       "jcf7190000000000-77738       -8.294361       -8.970313               674303   \n",
       "jcf7190000000000-77764       -8.497892       -9.735437               112289   \n",
       "jcf7190000000004-54418      -12.572324      -11.622625              1305721   \n",
       "jcf7190000000004-54508      -11.745844      -12.324292              1460397   \n",
       "jcf7190000000004-54540      -12.216768      -11.306552              1245463   \n",
       "\n",
       "                        rank_chain_2-BF(dB)  rank_chain_3-BF(dB)  \\\n",
       "jcf7190000000000-77738               660606               487259   \n",
       "jcf7190000000000-77764               548242               477880   \n",
       "jcf7190000000004-54418              1795502              1309915   \n",
       "jcf7190000000004-54508              1235529              1729590   \n",
       "jcf7190000000004-54540              1063397              1572648   \n",
       "\n",
       "                        rank_chain_4-BF(dB)  rank_chain_5-BF(dB)  mean_BF(dB)  \\\n",
       "jcf7190000000000-77738               390696               492129    -9.157574   \n",
       "jcf7190000000000-77764               418517               653159    -8.111486   \n",
       "jcf7190000000004-54418              1720478              1349973   -12.010696   \n",
       "jcf7190000000004-54508              1403391              1633079   -11.983533   \n",
       "jcf7190000000004-54540              1593009              1212267   -11.605683   \n",
       "\n",
       "                        rank_mean_BF(dB)  BF(dB)_gte20_for-gte3chains  \n",
       "jcf7190000000000-77738            512312                        False  \n",
       "jcf7190000000000-77764            343925                        False  \n",
       "jcf7190000000004-54418           1575714                        False  \n",
       "jcf7190000000004-54508           1564772                        False  \n",
       "jcf7190000000004-54540           1405070                        False  "
      ]
     },
     "execution_count": 19,
     "metadata": {},
     "output_type": "execute_result"
    }
   ],
   "source": [
    "# get the returns from the engines\n",
    "new_envdfs = {}\n",
    "for i,env in enumerate(envdfs):\n",
    "    new_envdfs[env] = jobs[i].r\n",
    "new_envdfs[env].head()    "
   ]
  },
  {
   "cell_type": "code",
   "execution_count": 20,
   "metadata": {},
   "outputs": [
    {
     "name": "stdout",
     "output_type": "stream",
     "text": [
      "MAT\n"
     ]
    },
    {
     "data": {
      "text/html": [
       "<div>\n",
       "<style scoped>\n",
       "    .dataframe tbody tr th:only-of-type {\n",
       "        vertical-align: middle;\n",
       "    }\n",
       "\n",
       "    .dataframe tbody tr th {\n",
       "        vertical-align: top;\n",
       "    }\n",
       "\n",
       "    .dataframe thead th {\n",
       "        text-align: right;\n",
       "    }\n",
       "</style>\n",
       "<table border=\"1\" class=\"dataframe\">\n",
       "  <thead>\n",
       "    <tr style=\"text-align: right;\">\n",
       "      <th></th>\n",
       "      <th>chain_1-COVARIABLE</th>\n",
       "      <th>chain_1-MRK</th>\n",
       "      <th>chain_1-M_Pearson</th>\n",
       "      <th>chain_1-SD_Pearson</th>\n",
       "      <th>chain_1-BF(dB)</th>\n",
       "      <th>chain_1-Beta_is</th>\n",
       "      <th>chain_1-SD_Beta_is</th>\n",
       "      <th>chain_1-eBPis</th>\n",
       "      <th>chain_1-env</th>\n",
       "      <th>chain_2-COVARIABLE</th>\n",
       "      <th>chain_2-MRK</th>\n",
       "      <th>chain_2-M_Pearson</th>\n",
       "      <th>chain_2-SD_Pearson</th>\n",
       "      <th>chain_2-BF(dB)</th>\n",
       "      <th>chain_2-Beta_is</th>\n",
       "      <th>chain_2-SD_Beta_is</th>\n",
       "      <th>chain_2-eBPis</th>\n",
       "      <th>chain_2-env</th>\n",
       "      <th>chain_3-COVARIABLE</th>\n",
       "      <th>chain_3-MRK</th>\n",
       "      <th>chain_3-M_Pearson</th>\n",
       "      <th>chain_3-SD_Pearson</th>\n",
       "      <th>chain_3-BF(dB)</th>\n",
       "      <th>chain_3-Beta_is</th>\n",
       "      <th>chain_3-SD_Beta_is</th>\n",
       "      <th>chain_3-eBPis</th>\n",
       "      <th>chain_3-env</th>\n",
       "      <th>chain_4-COVARIABLE</th>\n",
       "      <th>chain_4-MRK</th>\n",
       "      <th>chain_4-M_Pearson</th>\n",
       "      <th>chain_4-SD_Pearson</th>\n",
       "      <th>chain_4-BF(dB)</th>\n",
       "      <th>chain_4-Beta_is</th>\n",
       "      <th>chain_4-SD_Beta_is</th>\n",
       "      <th>chain_4-eBPis</th>\n",
       "      <th>chain_4-env</th>\n",
       "      <th>chain_5-COVARIABLE</th>\n",
       "      <th>chain_5-MRK</th>\n",
       "      <th>chain_5-M_Pearson</th>\n",
       "      <th>chain_5-SD_Pearson</th>\n",
       "      <th>chain_5-BF(dB)</th>\n",
       "      <th>chain_5-Beta_is</th>\n",
       "      <th>chain_5-SD_Beta_is</th>\n",
       "      <th>chain_5-eBPis</th>\n",
       "      <th>chain_5-env</th>\n",
       "    </tr>\n",
       "  </thead>\n",
       "  <tbody>\n",
       "    <tr>\n",
       "      <th>jcf7190000000000-77738</th>\n",
       "      <td>1</td>\n",
       "      <td>1</td>\n",
       "      <td>0.019481</td>\n",
       "      <td>0.143261</td>\n",
       "      <td>-9.818379</td>\n",
       "      <td>0.001109</td>\n",
       "      <td>0.009161</td>\n",
       "      <td>0.044014</td>\n",
       "      <td>MAT</td>\n",
       "      <td>1</td>\n",
       "      <td>1</td>\n",
       "      <td>0.016763</td>\n",
       "      <td>0.139889</td>\n",
       "      <td>-9.763548</td>\n",
       "      <td>0.001180</td>\n",
       "      <td>0.010172</td>\n",
       "      <td>0.042086</td>\n",
       "      <td>MAT</td>\n",
       "      <td>1</td>\n",
       "      <td>1</td>\n",
       "      <td>0.040410</td>\n",
       "      <td>0.134280</td>\n",
       "      <td>-8.941268</td>\n",
       "      <td>0.002665</td>\n",
       "      <td>0.008408</td>\n",
       "      <td>0.124187</td>\n",
       "      <td>MAT</td>\n",
       "      <td>1</td>\n",
       "      <td>1</td>\n",
       "      <td>0.011143</td>\n",
       "      <td>0.142846</td>\n",
       "      <td>-8.294361</td>\n",
       "      <td>-0.000112</td>\n",
       "      <td>0.011705</td>\n",
       "      <td>0.003325</td>\n",
       "      <td>MAT</td>\n",
       "      <td>1</td>\n",
       "      <td>1</td>\n",
       "      <td>0.040552</td>\n",
       "      <td>0.146463</td>\n",
       "      <td>-8.970313</td>\n",
       "      <td>0.003243</td>\n",
       "      <td>0.010373</td>\n",
       "      <td>0.122298</td>\n",
       "      <td>MAT</td>\n",
       "    </tr>\n",
       "    <tr>\n",
       "      <th>jcf7190000000000-77764</th>\n",
       "      <td>1</td>\n",
       "      <td>2</td>\n",
       "      <td>0.067087</td>\n",
       "      <td>0.131969</td>\n",
       "      <td>-4.168396</td>\n",
       "      <td>0.005074</td>\n",
       "      <td>0.009358</td>\n",
       "      <td>0.230858</td>\n",
       "      <td>MAT</td>\n",
       "      <td>1</td>\n",
       "      <td>2</td>\n",
       "      <td>0.051400</td>\n",
       "      <td>0.137479</td>\n",
       "      <td>-9.268755</td>\n",
       "      <td>0.004405</td>\n",
       "      <td>0.009922</td>\n",
       "      <td>0.182391</td>\n",
       "      <td>MAT</td>\n",
       "      <td>1</td>\n",
       "      <td>2</td>\n",
       "      <td>0.053341</td>\n",
       "      <td>0.145438</td>\n",
       "      <td>-8.886951</td>\n",
       "      <td>0.004971</td>\n",
       "      <td>0.011208</td>\n",
       "      <td>0.182166</td>\n",
       "      <td>MAT</td>\n",
       "      <td>1</td>\n",
       "      <td>2</td>\n",
       "      <td>0.053708</td>\n",
       "      <td>0.136611</td>\n",
       "      <td>-8.497892</td>\n",
       "      <td>0.004676</td>\n",
       "      <td>0.010306</td>\n",
       "      <td>0.187071</td>\n",
       "      <td>MAT</td>\n",
       "      <td>1</td>\n",
       "      <td>2</td>\n",
       "      <td>0.048398</td>\n",
       "      <td>0.123070</td>\n",
       "      <td>-9.735437</td>\n",
       "      <td>0.004928</td>\n",
       "      <td>0.009452</td>\n",
       "      <td>0.220294</td>\n",
       "      <td>MAT</td>\n",
       "    </tr>\n",
       "    <tr>\n",
       "      <th>jcf7190000000004-54418</th>\n",
       "      <td>1</td>\n",
       "      <td>3</td>\n",
       "      <td>-0.010818</td>\n",
       "      <td>0.142644</td>\n",
       "      <td>-11.520927</td>\n",
       "      <td>-0.001558</td>\n",
       "      <td>0.005309</td>\n",
       "      <td>0.113974</td>\n",
       "      <td>MAT</td>\n",
       "      <td>1</td>\n",
       "      <td>3</td>\n",
       "      <td>-0.005682</td>\n",
       "      <td>0.139501</td>\n",
       "      <td>-12.805761</td>\n",
       "      <td>-0.000997</td>\n",
       "      <td>0.005383</td>\n",
       "      <td>0.069020</td>\n",
       "      <td>MAT</td>\n",
       "      <td>1</td>\n",
       "      <td>3</td>\n",
       "      <td>-0.008921</td>\n",
       "      <td>0.141621</td>\n",
       "      <td>-11.531844</td>\n",
       "      <td>-0.001592</td>\n",
       "      <td>0.005944</td>\n",
       "      <td>0.103033</td>\n",
       "      <td>MAT</td>\n",
       "      <td>1</td>\n",
       "      <td>3</td>\n",
       "      <td>-0.005990</td>\n",
       "      <td>0.141390</td>\n",
       "      <td>-12.572324</td>\n",
       "      <td>-0.001247</td>\n",
       "      <td>0.005522</td>\n",
       "      <td>0.085514</td>\n",
       "      <td>MAT</td>\n",
       "      <td>1</td>\n",
       "      <td>3</td>\n",
       "      <td>-0.011867</td>\n",
       "      <td>0.146292</td>\n",
       "      <td>-11.622625</td>\n",
       "      <td>-0.001574</td>\n",
       "      <td>0.005674</td>\n",
       "      <td>0.107115</td>\n",
       "      <td>MAT</td>\n",
       "    </tr>\n",
       "    <tr>\n",
       "      <th>jcf7190000000004-54508</th>\n",
       "      <td>1</td>\n",
       "      <td>4</td>\n",
       "      <td>-0.046764</td>\n",
       "      <td>0.117936</td>\n",
       "      <td>-11.884691</td>\n",
       "      <td>-0.001756</td>\n",
       "      <td>0.006781</td>\n",
       "      <td>0.099268</td>\n",
       "      <td>MAT</td>\n",
       "      <td>1</td>\n",
       "      <td>4</td>\n",
       "      <td>-0.066645</td>\n",
       "      <td>0.110145</td>\n",
       "      <td>-11.360039</td>\n",
       "      <td>-0.006334</td>\n",
       "      <td>0.009368</td>\n",
       "      <td>0.301908</td>\n",
       "      <td>MAT</td>\n",
       "      <td>1</td>\n",
       "      <td>4</td>\n",
       "      <td>-0.046778</td>\n",
       "      <td>0.113096</td>\n",
       "      <td>-12.602799</td>\n",
       "      <td>-0.003065</td>\n",
       "      <td>0.005446</td>\n",
       "      <td>0.241436</td>\n",
       "      <td>MAT</td>\n",
       "      <td>1</td>\n",
       "      <td>4</td>\n",
       "      <td>-0.056804</td>\n",
       "      <td>0.116794</td>\n",
       "      <td>-11.745844</td>\n",
       "      <td>-0.003762</td>\n",
       "      <td>0.006513</td>\n",
       "      <td>0.249077</td>\n",
       "      <td>MAT</td>\n",
       "      <td>1</td>\n",
       "      <td>4</td>\n",
       "      <td>-0.069587</td>\n",
       "      <td>0.114737</td>\n",
       "      <td>-12.324292</td>\n",
       "      <td>-0.003220</td>\n",
       "      <td>0.005251</td>\n",
       "      <td>0.267834</td>\n",
       "      <td>MAT</td>\n",
       "    </tr>\n",
       "    <tr>\n",
       "      <th>jcf7190000000004-54540</th>\n",
       "      <td>1</td>\n",
       "      <td>5</td>\n",
       "      <td>0.021122</td>\n",
       "      <td>0.128426</td>\n",
       "      <td>-11.381520</td>\n",
       "      <td>0.000681</td>\n",
       "      <td>0.007170</td>\n",
       "      <td>0.034198</td>\n",
       "      <td>MAT</td>\n",
       "      <td>1</td>\n",
       "      <td>5</td>\n",
       "      <td>0.038666</td>\n",
       "      <td>0.132323</td>\n",
       "      <td>-10.957807</td>\n",
       "      <td>0.001610</td>\n",
       "      <td>0.007318</td>\n",
       "      <td>0.083071</td>\n",
       "      <td>MAT</td>\n",
       "      <td>1</td>\n",
       "      <td>5</td>\n",
       "      <td>0.021904</td>\n",
       "      <td>0.129940</td>\n",
       "      <td>-12.165769</td>\n",
       "      <td>0.000721</td>\n",
       "      <td>0.007136</td>\n",
       "      <td>0.036464</td>\n",
       "      <td>MAT</td>\n",
       "      <td>1</td>\n",
       "      <td>5</td>\n",
       "      <td>0.025468</td>\n",
       "      <td>0.125963</td>\n",
       "      <td>-12.216768</td>\n",
       "      <td>0.000900</td>\n",
       "      <td>0.006982</td>\n",
       "      <td>0.046970</td>\n",
       "      <td>MAT</td>\n",
       "      <td>1</td>\n",
       "      <td>5</td>\n",
       "      <td>0.013424</td>\n",
       "      <td>0.137231</td>\n",
       "      <td>-11.306552</td>\n",
       "      <td>0.000024</td>\n",
       "      <td>0.008280</td>\n",
       "      <td>0.001017</td>\n",
       "      <td>MAT</td>\n",
       "    </tr>\n",
       "  </tbody>\n",
       "</table>\n",
       "</div>"
      ],
      "text/plain": [
       "                        chain_1-COVARIABLE  chain_1-MRK  chain_1-M_Pearson  \\\n",
       "jcf7190000000000-77738                   1            1           0.019481   \n",
       "jcf7190000000000-77764                   1            2           0.067087   \n",
       "jcf7190000000004-54418                   1            3          -0.010818   \n",
       "jcf7190000000004-54508                   1            4          -0.046764   \n",
       "jcf7190000000004-54540                   1            5           0.021122   \n",
       "\n",
       "                        chain_1-SD_Pearson  chain_1-BF(dB)  chain_1-Beta_is  \\\n",
       "jcf7190000000000-77738            0.143261       -9.818379         0.001109   \n",
       "jcf7190000000000-77764            0.131969       -4.168396         0.005074   \n",
       "jcf7190000000004-54418            0.142644      -11.520927        -0.001558   \n",
       "jcf7190000000004-54508            0.117936      -11.884691        -0.001756   \n",
       "jcf7190000000004-54540            0.128426      -11.381520         0.000681   \n",
       "\n",
       "                        chain_1-SD_Beta_is  chain_1-eBPis chain_1-env  \\\n",
       "jcf7190000000000-77738            0.009161       0.044014         MAT   \n",
       "jcf7190000000000-77764            0.009358       0.230858         MAT   \n",
       "jcf7190000000004-54418            0.005309       0.113974         MAT   \n",
       "jcf7190000000004-54508            0.006781       0.099268         MAT   \n",
       "jcf7190000000004-54540            0.007170       0.034198         MAT   \n",
       "\n",
       "                        chain_2-COVARIABLE  chain_2-MRK  chain_2-M_Pearson  \\\n",
       "jcf7190000000000-77738                   1            1           0.016763   \n",
       "jcf7190000000000-77764                   1            2           0.051400   \n",
       "jcf7190000000004-54418                   1            3          -0.005682   \n",
       "jcf7190000000004-54508                   1            4          -0.066645   \n",
       "jcf7190000000004-54540                   1            5           0.038666   \n",
       "\n",
       "                        chain_2-SD_Pearson  chain_2-BF(dB)  chain_2-Beta_is  \\\n",
       "jcf7190000000000-77738            0.139889       -9.763548         0.001180   \n",
       "jcf7190000000000-77764            0.137479       -9.268755         0.004405   \n",
       "jcf7190000000004-54418            0.139501      -12.805761        -0.000997   \n",
       "jcf7190000000004-54508            0.110145      -11.360039        -0.006334   \n",
       "jcf7190000000004-54540            0.132323      -10.957807         0.001610   \n",
       "\n",
       "                        chain_2-SD_Beta_is  chain_2-eBPis chain_2-env  \\\n",
       "jcf7190000000000-77738            0.010172       0.042086         MAT   \n",
       "jcf7190000000000-77764            0.009922       0.182391         MAT   \n",
       "jcf7190000000004-54418            0.005383       0.069020         MAT   \n",
       "jcf7190000000004-54508            0.009368       0.301908         MAT   \n",
       "jcf7190000000004-54540            0.007318       0.083071         MAT   \n",
       "\n",
       "                        chain_3-COVARIABLE  chain_3-MRK  chain_3-M_Pearson  \\\n",
       "jcf7190000000000-77738                   1            1           0.040410   \n",
       "jcf7190000000000-77764                   1            2           0.053341   \n",
       "jcf7190000000004-54418                   1            3          -0.008921   \n",
       "jcf7190000000004-54508                   1            4          -0.046778   \n",
       "jcf7190000000004-54540                   1            5           0.021904   \n",
       "\n",
       "                        chain_3-SD_Pearson  chain_3-BF(dB)  chain_3-Beta_is  \\\n",
       "jcf7190000000000-77738            0.134280       -8.941268         0.002665   \n",
       "jcf7190000000000-77764            0.145438       -8.886951         0.004971   \n",
       "jcf7190000000004-54418            0.141621      -11.531844        -0.001592   \n",
       "jcf7190000000004-54508            0.113096      -12.602799        -0.003065   \n",
       "jcf7190000000004-54540            0.129940      -12.165769         0.000721   \n",
       "\n",
       "                        chain_3-SD_Beta_is  chain_3-eBPis chain_3-env  \\\n",
       "jcf7190000000000-77738            0.008408       0.124187         MAT   \n",
       "jcf7190000000000-77764            0.011208       0.182166         MAT   \n",
       "jcf7190000000004-54418            0.005944       0.103033         MAT   \n",
       "jcf7190000000004-54508            0.005446       0.241436         MAT   \n",
       "jcf7190000000004-54540            0.007136       0.036464         MAT   \n",
       "\n",
       "                        chain_4-COVARIABLE  chain_4-MRK  chain_4-M_Pearson  \\\n",
       "jcf7190000000000-77738                   1            1           0.011143   \n",
       "jcf7190000000000-77764                   1            2           0.053708   \n",
       "jcf7190000000004-54418                   1            3          -0.005990   \n",
       "jcf7190000000004-54508                   1            4          -0.056804   \n",
       "jcf7190000000004-54540                   1            5           0.025468   \n",
       "\n",
       "                        chain_4-SD_Pearson  chain_4-BF(dB)  chain_4-Beta_is  \\\n",
       "jcf7190000000000-77738            0.142846       -8.294361        -0.000112   \n",
       "jcf7190000000000-77764            0.136611       -8.497892         0.004676   \n",
       "jcf7190000000004-54418            0.141390      -12.572324        -0.001247   \n",
       "jcf7190000000004-54508            0.116794      -11.745844        -0.003762   \n",
       "jcf7190000000004-54540            0.125963      -12.216768         0.000900   \n",
       "\n",
       "                        chain_4-SD_Beta_is  chain_4-eBPis chain_4-env  \\\n",
       "jcf7190000000000-77738            0.011705       0.003325         MAT   \n",
       "jcf7190000000000-77764            0.010306       0.187071         MAT   \n",
       "jcf7190000000004-54418            0.005522       0.085514         MAT   \n",
       "jcf7190000000004-54508            0.006513       0.249077         MAT   \n",
       "jcf7190000000004-54540            0.006982       0.046970         MAT   \n",
       "\n",
       "                        chain_5-COVARIABLE  chain_5-MRK  chain_5-M_Pearson  \\\n",
       "jcf7190000000000-77738                   1            1           0.040552   \n",
       "jcf7190000000000-77764                   1            2           0.048398   \n",
       "jcf7190000000004-54418                   1            3          -0.011867   \n",
       "jcf7190000000004-54508                   1            4          -0.069587   \n",
       "jcf7190000000004-54540                   1            5           0.013424   \n",
       "\n",
       "                        chain_5-SD_Pearson  chain_5-BF(dB)  chain_5-Beta_is  \\\n",
       "jcf7190000000000-77738            0.146463       -8.970313         0.003243   \n",
       "jcf7190000000000-77764            0.123070       -9.735437         0.004928   \n",
       "jcf7190000000004-54418            0.146292      -11.622625        -0.001574   \n",
       "jcf7190000000004-54508            0.114737      -12.324292        -0.003220   \n",
       "jcf7190000000004-54540            0.137231      -11.306552         0.000024   \n",
       "\n",
       "                        chain_5-SD_Beta_is  chain_5-eBPis chain_5-env  \n",
       "jcf7190000000000-77738            0.010373       0.122298         MAT  \n",
       "jcf7190000000000-77764            0.009452       0.220294         MAT  \n",
       "jcf7190000000004-54418            0.005674       0.107115         MAT  \n",
       "jcf7190000000004-54508            0.005251       0.267834         MAT  \n",
       "jcf7190000000004-54540            0.008280       0.001017         MAT  "
      ]
     },
     "execution_count": 20,
     "metadata": {},
     "output_type": "execute_result"
    }
   ],
   "source": [
    "# returns from the function or only a subset of the original columns, make sure they match up (they should)\n",
    "print(env)\n",
    "envdfs[env].head()"
   ]
  },
  {
   "cell_type": "code",
   "execution_count": 22,
   "metadata": {},
   "outputs": [
    {
     "name": "stdout",
     "output_type": "stream",
     "text": [
      "MAT\n"
     ]
    },
    {
     "data": {
      "text/html": [
       "<div>\n",
       "<style scoped>\n",
       "    .dataframe tbody tr th:only-of-type {\n",
       "        vertical-align: middle;\n",
       "    }\n",
       "\n",
       "    .dataframe tbody tr th {\n",
       "        vertical-align: top;\n",
       "    }\n",
       "\n",
       "    .dataframe thead th {\n",
       "        text-align: right;\n",
       "    }\n",
       "</style>\n",
       "<table border=\"1\" class=\"dataframe\">\n",
       "  <thead>\n",
       "    <tr style=\"text-align: right;\">\n",
       "      <th></th>\n",
       "      <th>chain_1-COVARIABLE</th>\n",
       "      <th>chain_1-MRK</th>\n",
       "      <th>chain_1-M_Pearson</th>\n",
       "      <th>chain_1-SD_Pearson</th>\n",
       "      <th>chain_1-BF(dB)</th>\n",
       "      <th>chain_1-Beta_is</th>\n",
       "      <th>chain_1-SD_Beta_is</th>\n",
       "      <th>chain_1-eBPis</th>\n",
       "      <th>chain_1-env</th>\n",
       "      <th>chain_2-COVARIABLE</th>\n",
       "      <th>chain_2-MRK</th>\n",
       "      <th>chain_2-M_Pearson</th>\n",
       "      <th>chain_2-SD_Pearson</th>\n",
       "      <th>chain_2-BF(dB)</th>\n",
       "      <th>chain_2-Beta_is</th>\n",
       "      <th>chain_2-SD_Beta_is</th>\n",
       "      <th>chain_2-eBPis</th>\n",
       "      <th>chain_2-env</th>\n",
       "      <th>chain_3-COVARIABLE</th>\n",
       "      <th>chain_3-MRK</th>\n",
       "      <th>chain_3-M_Pearson</th>\n",
       "      <th>chain_3-SD_Pearson</th>\n",
       "      <th>chain_3-BF(dB)</th>\n",
       "      <th>chain_3-Beta_is</th>\n",
       "      <th>chain_3-SD_Beta_is</th>\n",
       "      <th>chain_3-eBPis</th>\n",
       "      <th>chain_3-env</th>\n",
       "      <th>chain_4-COVARIABLE</th>\n",
       "      <th>chain_4-MRK</th>\n",
       "      <th>chain_4-M_Pearson</th>\n",
       "      <th>chain_4-SD_Pearson</th>\n",
       "      <th>chain_4-BF(dB)</th>\n",
       "      <th>chain_4-Beta_is</th>\n",
       "      <th>chain_4-SD_Beta_is</th>\n",
       "      <th>chain_4-eBPis</th>\n",
       "      <th>chain_4-env</th>\n",
       "      <th>chain_5-COVARIABLE</th>\n",
       "      <th>chain_5-MRK</th>\n",
       "      <th>chain_5-M_Pearson</th>\n",
       "      <th>chain_5-SD_Pearson</th>\n",
       "      <th>chain_5-BF(dB)</th>\n",
       "      <th>chain_5-Beta_is</th>\n",
       "      <th>chain_5-SD_Beta_is</th>\n",
       "      <th>chain_5-eBPis</th>\n",
       "      <th>chain_5-env</th>\n",
       "      <th>rank_chain_1-BF(dB)</th>\n",
       "      <th>rank_chain_2-BF(dB)</th>\n",
       "      <th>rank_chain_3-BF(dB)</th>\n",
       "      <th>rank_chain_4-BF(dB)</th>\n",
       "      <th>rank_chain_5-BF(dB)</th>\n",
       "      <th>mean_BF(dB)</th>\n",
       "      <th>rank_mean_BF(dB)</th>\n",
       "      <th>BF(dB)_gte20_for-gte3chains</th>\n",
       "    </tr>\n",
       "  </thead>\n",
       "  <tbody>\n",
       "    <tr>\n",
       "      <th>jcf7190000000000-77738</th>\n",
       "      <td>1</td>\n",
       "      <td>1</td>\n",
       "      <td>0.019481</td>\n",
       "      <td>0.143261</td>\n",
       "      <td>-9.818379</td>\n",
       "      <td>0.001109</td>\n",
       "      <td>0.009161</td>\n",
       "      <td>0.044014</td>\n",
       "      <td>MAT</td>\n",
       "      <td>1</td>\n",
       "      <td>1</td>\n",
       "      <td>0.016763</td>\n",
       "      <td>0.139889</td>\n",
       "      <td>-9.763548</td>\n",
       "      <td>0.001180</td>\n",
       "      <td>0.010172</td>\n",
       "      <td>0.042086</td>\n",
       "      <td>MAT</td>\n",
       "      <td>1</td>\n",
       "      <td>1</td>\n",
       "      <td>0.040410</td>\n",
       "      <td>0.134280</td>\n",
       "      <td>-8.941268</td>\n",
       "      <td>0.002665</td>\n",
       "      <td>0.008408</td>\n",
       "      <td>0.124187</td>\n",
       "      <td>MAT</td>\n",
       "      <td>1</td>\n",
       "      <td>1</td>\n",
       "      <td>0.011143</td>\n",
       "      <td>0.142846</td>\n",
       "      <td>-8.294361</td>\n",
       "      <td>-0.000112</td>\n",
       "      <td>0.011705</td>\n",
       "      <td>0.003325</td>\n",
       "      <td>MAT</td>\n",
       "      <td>1</td>\n",
       "      <td>1</td>\n",
       "      <td>0.040552</td>\n",
       "      <td>0.146463</td>\n",
       "      <td>-8.970313</td>\n",
       "      <td>0.003243</td>\n",
       "      <td>0.010373</td>\n",
       "      <td>0.122298</td>\n",
       "      <td>MAT</td>\n",
       "      <td>674303</td>\n",
       "      <td>660606</td>\n",
       "      <td>487259</td>\n",
       "      <td>390696</td>\n",
       "      <td>492129</td>\n",
       "      <td>-9.157574</td>\n",
       "      <td>512312</td>\n",
       "      <td>False</td>\n",
       "    </tr>\n",
       "    <tr>\n",
       "      <th>jcf7190000000000-77764</th>\n",
       "      <td>1</td>\n",
       "      <td>2</td>\n",
       "      <td>0.067087</td>\n",
       "      <td>0.131969</td>\n",
       "      <td>-4.168396</td>\n",
       "      <td>0.005074</td>\n",
       "      <td>0.009358</td>\n",
       "      <td>0.230858</td>\n",
       "      <td>MAT</td>\n",
       "      <td>1</td>\n",
       "      <td>2</td>\n",
       "      <td>0.051400</td>\n",
       "      <td>0.137479</td>\n",
       "      <td>-9.268755</td>\n",
       "      <td>0.004405</td>\n",
       "      <td>0.009922</td>\n",
       "      <td>0.182391</td>\n",
       "      <td>MAT</td>\n",
       "      <td>1</td>\n",
       "      <td>2</td>\n",
       "      <td>0.053341</td>\n",
       "      <td>0.145438</td>\n",
       "      <td>-8.886951</td>\n",
       "      <td>0.004971</td>\n",
       "      <td>0.011208</td>\n",
       "      <td>0.182166</td>\n",
       "      <td>MAT</td>\n",
       "      <td>1</td>\n",
       "      <td>2</td>\n",
       "      <td>0.053708</td>\n",
       "      <td>0.136611</td>\n",
       "      <td>-8.497892</td>\n",
       "      <td>0.004676</td>\n",
       "      <td>0.010306</td>\n",
       "      <td>0.187071</td>\n",
       "      <td>MAT</td>\n",
       "      <td>1</td>\n",
       "      <td>2</td>\n",
       "      <td>0.048398</td>\n",
       "      <td>0.123070</td>\n",
       "      <td>-9.735437</td>\n",
       "      <td>0.004928</td>\n",
       "      <td>0.009452</td>\n",
       "      <td>0.220294</td>\n",
       "      <td>MAT</td>\n",
       "      <td>112289</td>\n",
       "      <td>548242</td>\n",
       "      <td>477880</td>\n",
       "      <td>418517</td>\n",
       "      <td>653159</td>\n",
       "      <td>-8.111486</td>\n",
       "      <td>343925</td>\n",
       "      <td>False</td>\n",
       "    </tr>\n",
       "    <tr>\n",
       "      <th>jcf7190000000004-54418</th>\n",
       "      <td>1</td>\n",
       "      <td>3</td>\n",
       "      <td>-0.010818</td>\n",
       "      <td>0.142644</td>\n",
       "      <td>-11.520927</td>\n",
       "      <td>-0.001558</td>\n",
       "      <td>0.005309</td>\n",
       "      <td>0.113974</td>\n",
       "      <td>MAT</td>\n",
       "      <td>1</td>\n",
       "      <td>3</td>\n",
       "      <td>-0.005682</td>\n",
       "      <td>0.139501</td>\n",
       "      <td>-12.805761</td>\n",
       "      <td>-0.000997</td>\n",
       "      <td>0.005383</td>\n",
       "      <td>0.069020</td>\n",
       "      <td>MAT</td>\n",
       "      <td>1</td>\n",
       "      <td>3</td>\n",
       "      <td>-0.008921</td>\n",
       "      <td>0.141621</td>\n",
       "      <td>-11.531844</td>\n",
       "      <td>-0.001592</td>\n",
       "      <td>0.005944</td>\n",
       "      <td>0.103033</td>\n",
       "      <td>MAT</td>\n",
       "      <td>1</td>\n",
       "      <td>3</td>\n",
       "      <td>-0.005990</td>\n",
       "      <td>0.141390</td>\n",
       "      <td>-12.572324</td>\n",
       "      <td>-0.001247</td>\n",
       "      <td>0.005522</td>\n",
       "      <td>0.085514</td>\n",
       "      <td>MAT</td>\n",
       "      <td>1</td>\n",
       "      <td>3</td>\n",
       "      <td>-0.011867</td>\n",
       "      <td>0.146292</td>\n",
       "      <td>-11.622625</td>\n",
       "      <td>-0.001574</td>\n",
       "      <td>0.005674</td>\n",
       "      <td>0.107115</td>\n",
       "      <td>MAT</td>\n",
       "      <td>1305721</td>\n",
       "      <td>1795502</td>\n",
       "      <td>1309915</td>\n",
       "      <td>1720478</td>\n",
       "      <td>1349973</td>\n",
       "      <td>-12.010696</td>\n",
       "      <td>1575714</td>\n",
       "      <td>False</td>\n",
       "    </tr>\n",
       "    <tr>\n",
       "      <th>jcf7190000000004-54508</th>\n",
       "      <td>1</td>\n",
       "      <td>4</td>\n",
       "      <td>-0.046764</td>\n",
       "      <td>0.117936</td>\n",
       "      <td>-11.884691</td>\n",
       "      <td>-0.001756</td>\n",
       "      <td>0.006781</td>\n",
       "      <td>0.099268</td>\n",
       "      <td>MAT</td>\n",
       "      <td>1</td>\n",
       "      <td>4</td>\n",
       "      <td>-0.066645</td>\n",
       "      <td>0.110145</td>\n",
       "      <td>-11.360039</td>\n",
       "      <td>-0.006334</td>\n",
       "      <td>0.009368</td>\n",
       "      <td>0.301908</td>\n",
       "      <td>MAT</td>\n",
       "      <td>1</td>\n",
       "      <td>4</td>\n",
       "      <td>-0.046778</td>\n",
       "      <td>0.113096</td>\n",
       "      <td>-12.602799</td>\n",
       "      <td>-0.003065</td>\n",
       "      <td>0.005446</td>\n",
       "      <td>0.241436</td>\n",
       "      <td>MAT</td>\n",
       "      <td>1</td>\n",
       "      <td>4</td>\n",
       "      <td>-0.056804</td>\n",
       "      <td>0.116794</td>\n",
       "      <td>-11.745844</td>\n",
       "      <td>-0.003762</td>\n",
       "      <td>0.006513</td>\n",
       "      <td>0.249077</td>\n",
       "      <td>MAT</td>\n",
       "      <td>1</td>\n",
       "      <td>4</td>\n",
       "      <td>-0.069587</td>\n",
       "      <td>0.114737</td>\n",
       "      <td>-12.324292</td>\n",
       "      <td>-0.003220</td>\n",
       "      <td>0.005251</td>\n",
       "      <td>0.267834</td>\n",
       "      <td>MAT</td>\n",
       "      <td>1460397</td>\n",
       "      <td>1235529</td>\n",
       "      <td>1729590</td>\n",
       "      <td>1403391</td>\n",
       "      <td>1633079</td>\n",
       "      <td>-11.983533</td>\n",
       "      <td>1564772</td>\n",
       "      <td>False</td>\n",
       "    </tr>\n",
       "    <tr>\n",
       "      <th>jcf7190000000004-54540</th>\n",
       "      <td>1</td>\n",
       "      <td>5</td>\n",
       "      <td>0.021122</td>\n",
       "      <td>0.128426</td>\n",
       "      <td>-11.381520</td>\n",
       "      <td>0.000681</td>\n",
       "      <td>0.007170</td>\n",
       "      <td>0.034198</td>\n",
       "      <td>MAT</td>\n",
       "      <td>1</td>\n",
       "      <td>5</td>\n",
       "      <td>0.038666</td>\n",
       "      <td>0.132323</td>\n",
       "      <td>-10.957807</td>\n",
       "      <td>0.001610</td>\n",
       "      <td>0.007318</td>\n",
       "      <td>0.083071</td>\n",
       "      <td>MAT</td>\n",
       "      <td>1</td>\n",
       "      <td>5</td>\n",
       "      <td>0.021904</td>\n",
       "      <td>0.129940</td>\n",
       "      <td>-12.165769</td>\n",
       "      <td>0.000721</td>\n",
       "      <td>0.007136</td>\n",
       "      <td>0.036464</td>\n",
       "      <td>MAT</td>\n",
       "      <td>1</td>\n",
       "      <td>5</td>\n",
       "      <td>0.025468</td>\n",
       "      <td>0.125963</td>\n",
       "      <td>-12.216768</td>\n",
       "      <td>0.000900</td>\n",
       "      <td>0.006982</td>\n",
       "      <td>0.046970</td>\n",
       "      <td>MAT</td>\n",
       "      <td>1</td>\n",
       "      <td>5</td>\n",
       "      <td>0.013424</td>\n",
       "      <td>0.137231</td>\n",
       "      <td>-11.306552</td>\n",
       "      <td>0.000024</td>\n",
       "      <td>0.008280</td>\n",
       "      <td>0.001017</td>\n",
       "      <td>MAT</td>\n",
       "      <td>1245463</td>\n",
       "      <td>1063397</td>\n",
       "      <td>1572648</td>\n",
       "      <td>1593009</td>\n",
       "      <td>1212267</td>\n",
       "      <td>-11.605683</td>\n",
       "      <td>1405070</td>\n",
       "      <td>False</td>\n",
       "    </tr>\n",
       "  </tbody>\n",
       "</table>\n",
       "</div>"
      ],
      "text/plain": [
       "                        chain_1-COVARIABLE  chain_1-MRK  chain_1-M_Pearson  \\\n",
       "jcf7190000000000-77738                   1            1           0.019481   \n",
       "jcf7190000000000-77764                   1            2           0.067087   \n",
       "jcf7190000000004-54418                   1            3          -0.010818   \n",
       "jcf7190000000004-54508                   1            4          -0.046764   \n",
       "jcf7190000000004-54540                   1            5           0.021122   \n",
       "\n",
       "                        chain_1-SD_Pearson  chain_1-BF(dB)  chain_1-Beta_is  \\\n",
       "jcf7190000000000-77738            0.143261       -9.818379         0.001109   \n",
       "jcf7190000000000-77764            0.131969       -4.168396         0.005074   \n",
       "jcf7190000000004-54418            0.142644      -11.520927        -0.001558   \n",
       "jcf7190000000004-54508            0.117936      -11.884691        -0.001756   \n",
       "jcf7190000000004-54540            0.128426      -11.381520         0.000681   \n",
       "\n",
       "                        chain_1-SD_Beta_is  chain_1-eBPis chain_1-env  \\\n",
       "jcf7190000000000-77738            0.009161       0.044014         MAT   \n",
       "jcf7190000000000-77764            0.009358       0.230858         MAT   \n",
       "jcf7190000000004-54418            0.005309       0.113974         MAT   \n",
       "jcf7190000000004-54508            0.006781       0.099268         MAT   \n",
       "jcf7190000000004-54540            0.007170       0.034198         MAT   \n",
       "\n",
       "                        chain_2-COVARIABLE  chain_2-MRK  chain_2-M_Pearson  \\\n",
       "jcf7190000000000-77738                   1            1           0.016763   \n",
       "jcf7190000000000-77764                   1            2           0.051400   \n",
       "jcf7190000000004-54418                   1            3          -0.005682   \n",
       "jcf7190000000004-54508                   1            4          -0.066645   \n",
       "jcf7190000000004-54540                   1            5           0.038666   \n",
       "\n",
       "                        chain_2-SD_Pearson  chain_2-BF(dB)  chain_2-Beta_is  \\\n",
       "jcf7190000000000-77738            0.139889       -9.763548         0.001180   \n",
       "jcf7190000000000-77764            0.137479       -9.268755         0.004405   \n",
       "jcf7190000000004-54418            0.139501      -12.805761        -0.000997   \n",
       "jcf7190000000004-54508            0.110145      -11.360039        -0.006334   \n",
       "jcf7190000000004-54540            0.132323      -10.957807         0.001610   \n",
       "\n",
       "                        chain_2-SD_Beta_is  chain_2-eBPis chain_2-env  \\\n",
       "jcf7190000000000-77738            0.010172       0.042086         MAT   \n",
       "jcf7190000000000-77764            0.009922       0.182391         MAT   \n",
       "jcf7190000000004-54418            0.005383       0.069020         MAT   \n",
       "jcf7190000000004-54508            0.009368       0.301908         MAT   \n",
       "jcf7190000000004-54540            0.007318       0.083071         MAT   \n",
       "\n",
       "                        chain_3-COVARIABLE  chain_3-MRK  chain_3-M_Pearson  \\\n",
       "jcf7190000000000-77738                   1            1           0.040410   \n",
       "jcf7190000000000-77764                   1            2           0.053341   \n",
       "jcf7190000000004-54418                   1            3          -0.008921   \n",
       "jcf7190000000004-54508                   1            4          -0.046778   \n",
       "jcf7190000000004-54540                   1            5           0.021904   \n",
       "\n",
       "                        chain_3-SD_Pearson  chain_3-BF(dB)  chain_3-Beta_is  \\\n",
       "jcf7190000000000-77738            0.134280       -8.941268         0.002665   \n",
       "jcf7190000000000-77764            0.145438       -8.886951         0.004971   \n",
       "jcf7190000000004-54418            0.141621      -11.531844        -0.001592   \n",
       "jcf7190000000004-54508            0.113096      -12.602799        -0.003065   \n",
       "jcf7190000000004-54540            0.129940      -12.165769         0.000721   \n",
       "\n",
       "                        chain_3-SD_Beta_is  chain_3-eBPis chain_3-env  \\\n",
       "jcf7190000000000-77738            0.008408       0.124187         MAT   \n",
       "jcf7190000000000-77764            0.011208       0.182166         MAT   \n",
       "jcf7190000000004-54418            0.005944       0.103033         MAT   \n",
       "jcf7190000000004-54508            0.005446       0.241436         MAT   \n",
       "jcf7190000000004-54540            0.007136       0.036464         MAT   \n",
       "\n",
       "                        chain_4-COVARIABLE  chain_4-MRK  chain_4-M_Pearson  \\\n",
       "jcf7190000000000-77738                   1            1           0.011143   \n",
       "jcf7190000000000-77764                   1            2           0.053708   \n",
       "jcf7190000000004-54418                   1            3          -0.005990   \n",
       "jcf7190000000004-54508                   1            4          -0.056804   \n",
       "jcf7190000000004-54540                   1            5           0.025468   \n",
       "\n",
       "                        chain_4-SD_Pearson  chain_4-BF(dB)  chain_4-Beta_is  \\\n",
       "jcf7190000000000-77738            0.142846       -8.294361        -0.000112   \n",
       "jcf7190000000000-77764            0.136611       -8.497892         0.004676   \n",
       "jcf7190000000004-54418            0.141390      -12.572324        -0.001247   \n",
       "jcf7190000000004-54508            0.116794      -11.745844        -0.003762   \n",
       "jcf7190000000004-54540            0.125963      -12.216768         0.000900   \n",
       "\n",
       "                        chain_4-SD_Beta_is  chain_4-eBPis chain_4-env  \\\n",
       "jcf7190000000000-77738            0.011705       0.003325         MAT   \n",
       "jcf7190000000000-77764            0.010306       0.187071         MAT   \n",
       "jcf7190000000004-54418            0.005522       0.085514         MAT   \n",
       "jcf7190000000004-54508            0.006513       0.249077         MAT   \n",
       "jcf7190000000004-54540            0.006982       0.046970         MAT   \n",
       "\n",
       "                        chain_5-COVARIABLE  chain_5-MRK  chain_5-M_Pearson  \\\n",
       "jcf7190000000000-77738                   1            1           0.040552   \n",
       "jcf7190000000000-77764                   1            2           0.048398   \n",
       "jcf7190000000004-54418                   1            3          -0.011867   \n",
       "jcf7190000000004-54508                   1            4          -0.069587   \n",
       "jcf7190000000004-54540                   1            5           0.013424   \n",
       "\n",
       "                        chain_5-SD_Pearson  chain_5-BF(dB)  chain_5-Beta_is  \\\n",
       "jcf7190000000000-77738            0.146463       -8.970313         0.003243   \n",
       "jcf7190000000000-77764            0.123070       -9.735437         0.004928   \n",
       "jcf7190000000004-54418            0.146292      -11.622625        -0.001574   \n",
       "jcf7190000000004-54508            0.114737      -12.324292        -0.003220   \n",
       "jcf7190000000004-54540            0.137231      -11.306552         0.000024   \n",
       "\n",
       "                        chain_5-SD_Beta_is  chain_5-eBPis chain_5-env  \\\n",
       "jcf7190000000000-77738            0.010373       0.122298         MAT   \n",
       "jcf7190000000000-77764            0.009452       0.220294         MAT   \n",
       "jcf7190000000004-54418            0.005674       0.107115         MAT   \n",
       "jcf7190000000004-54508            0.005251       0.267834         MAT   \n",
       "jcf7190000000004-54540            0.008280       0.001017         MAT   \n",
       "\n",
       "                        rank_chain_1-BF(dB)  rank_chain_2-BF(dB)  \\\n",
       "jcf7190000000000-77738               674303               660606   \n",
       "jcf7190000000000-77764               112289               548242   \n",
       "jcf7190000000004-54418              1305721              1795502   \n",
       "jcf7190000000004-54508              1460397              1235529   \n",
       "jcf7190000000004-54540              1245463              1063397   \n",
       "\n",
       "                        rank_chain_3-BF(dB)  rank_chain_4-BF(dB)  \\\n",
       "jcf7190000000000-77738               487259               390696   \n",
       "jcf7190000000000-77764               477880               418517   \n",
       "jcf7190000000004-54418              1309915              1720478   \n",
       "jcf7190000000004-54508              1729590              1403391   \n",
       "jcf7190000000004-54540              1572648              1593009   \n",
       "\n",
       "                        rank_chain_5-BF(dB)  mean_BF(dB)  rank_mean_BF(dB)  \\\n",
       "jcf7190000000000-77738               492129    -9.157574            512312   \n",
       "jcf7190000000000-77764               653159    -8.111486            343925   \n",
       "jcf7190000000004-54418              1349973   -12.010696           1575714   \n",
       "jcf7190000000004-54508              1633079   -11.983533           1564772   \n",
       "jcf7190000000004-54540              1212267   -11.605683           1405070   \n",
       "\n",
       "                        BF(dB)_gte20_for-gte3chains  \n",
       "jcf7190000000000-77738                        False  \n",
       "jcf7190000000000-77764                        False  \n",
       "jcf7190000000004-54418                        False  \n",
       "jcf7190000000004-54508                        False  \n",
       "jcf7190000000004-54540                        False  "
      ]
     },
     "execution_count": 22,
     "metadata": {},
     "output_type": "execute_result"
    }
   ],
   "source": [
    "# add in the new columns\n",
    "for env,df in envdfs.items():\n",
    "    update([env])\n",
    "    newcols = [col for col in new_envdfs[env].columns if col not in df.columns]\n",
    "    envdfs[env] = pd.merge(df, new_envdfs[env][newcols], right_index=True, left_index=True)\n",
    "envdfs[env].head()"
   ]
  },
  {
   "cell_type": "code",
   "execution_count": 8,
   "metadata": {},
   "outputs": [],
   "source": [
    "def write_file(df, file, sep='\\t', index=False):\n",
    "    import pandas\n",
    "    df['locus'] = df.index.tolist()\n",
    "    df = df[['locus'] + [col for col in df.columns if col != 'locus']]\n",
    "    df.to_csv(file, sep=sep, index=index)\n",
    "    return file"
   ]
  },
  {
   "cell_type": "code",
   "execution_count": 25,
   "metadata": {},
   "outputs": [
    {
     "data": {
      "text/plain": [
       "'/lu213/brandon.lind/projects/pool_seq/DF_datasets/DF_pooled_GEA/DF_pooled/snpsANDindels/coastal_variety/03_maf-p05_RD-recalculated_FDC/baypass/final_results'"
      ]
     },
     "execution_count": 25,
     "metadata": {},
     "output_type": "execute_result"
    }
   ],
   "source": [
    "finaldir"
   ]
  },
  {
   "cell_type": "code",
   "execution_count": 26,
   "metadata": {},
   "outputs": [
    {
     "data": {
      "text/plain": [
       "['envdfs_before_ranking.pkl']"
      ]
     },
     "execution_count": 26,
     "metadata": {},
     "output_type": "execute_result"
    }
   ],
   "source": [
    "ls(finaldir)"
   ]
  },
  {
   "cell_type": "code",
   "execution_count": 9,
   "metadata": {},
   "outputs": [
    {
     "name": "stdout",
     "output_type": "stream",
     "text": [
      "final\n",
      "19\n",
      "19\n"
     ]
    }
   ],
   "source": [
    "# save files\n",
    "jobs = []\n",
    "for env,df in envdfs.items():\n",
    "    file = op.join(finaldir, f'coastal_maf-p05_RD-recalculated_ADP-lt-1000_{env}.txt')\n",
    "    jobs.append(lview.apply_async(write_file, *(df, file)))\n",
    "watch_async(jobs, phase='final')"
   ]
  },
  {
   "cell_type": "code",
   "execution_count": 28,
   "metadata": {},
   "outputs": [],
   "source": [
    "# save pkl for easy loading\n",
    "pkldump(envdfs, op.join(finaldir, 'envdfs_after_ranking.pkl'))"
   ]
  },
  {
   "cell_type": "code",
   "execution_count": 30,
   "metadata": {},
   "outputs": [
    {
     "data": {
      "text/plain": [
       "'/lu213/brandon.lind/projects/pool_seq/DF_datasets/DF_pooled_GEA/DF_pooled/snpsANDindels/coastal_variety/03_maf-p05_RD-recalculated_FDC/baypass/final_results/envdfs_after_ranking.pkl'"
      ]
     },
     "execution_count": 30,
     "metadata": {},
     "output_type": "execute_result"
    }
   ],
   "source": [
    "op.join(finaldir, 'envdfs_after_ranking.pkl')"
   ]
  },
  {
   "cell_type": "markdown",
   "metadata": {},
   "source": [
    "#### how many snps per env with mean BF > 20"
   ]
  },
  {
   "cell_type": "code",
   "execution_count": 12,
   "metadata": {},
   "outputs": [
    {
     "name": "stdout",
     "output_type": "stream",
     "text": [
      "\u001b[92m\u001b[1mCoastal\n",
      "\u001b[0m\u001b[0m\n",
      "Env   Consistent  Mean\n",
      "AHM \t 1213 \t   2123\n",
      "CMD \t 985 \t   1767\n",
      "DD5 \t 284 \t   567\n",
      "DD_0 \t 360 \t   642\n",
      "EMT \t 287 \t   528\n",
      "EXT \t 456 \t   924\n",
      "Eref \t 1116 \t   2097\n",
      "FFP \t 224 \t   445\n",
      "MAP \t 705 \t   1162\n",
      "MAT \t 309 \t   609\n",
      "MCMT \t 328 \t   579\n",
      "MSP \t 784 \t   1450\n",
      "MWMT \t 358 \t   720\n",
      "NFFD \t 257 \t   489\n",
      "PAS \t 716 \t   1189\n",
      "SHM \t 1149 \t   2272\n",
      "TD \t 546 \t   891\n",
      "bFFP \t 249 \t   467\n",
      "eFFP \t 216 \t   411\n"
     ]
    }
   ],
   "source": [
    "print(ColorText('Coastal\\n').bold().green())\n",
    "print('Env   Consistent  Mean')\n",
    "for env in sorted(envdfs.keys()):\n",
    "    df = envdfs[env]\n",
    "    print(env,'\\t',sum(df['BF(dB)_gte20_for-gte3chains']),'\\t  ',sum(df['mean_BF(dB)']>=10*math.log10(20)))"
   ]
  },
  {
   "cell_type": "code",
   "execution_count": null,
   "metadata": {},
   "outputs": [],
   "source": []
  },
  {
   "cell_type": "code",
   "execution_count": null,
   "metadata": {},
   "outputs": [],
   "source": []
  }
 ],
 "metadata": {
  "kernelspec": {
   "display_name": "Python 3",
   "language": "python",
   "name": "python3"
  },
  "language_info": {
   "codemirror_mode": {
    "name": "ipython",
    "version": 3
   },
   "file_extension": ".py",
   "mimetype": "text/x-python",
   "name": "python",
   "nbconvert_exporter": "python",
   "pygments_lexer": "ipython3",
   "version": "3.7.6"
  }
 },
 "nbformat": 4,
 "nbformat_minor": 4
}
