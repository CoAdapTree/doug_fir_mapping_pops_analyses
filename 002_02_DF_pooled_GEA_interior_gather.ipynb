{
 "cells": [
  {
   "cell_type": "markdown",
   "metadata": {},
   "source": [
    "This notebook best viewed here: https://nbviewer.jupyter.org"
   ]
  },
  {
   "cell_type": "markdown",
   "metadata": {},
   "source": [
    " "
   ]
  },
  {
   "cell_type": "markdown",
   "metadata": {},
   "source": [
    " "
   ]
  },
  {
   "cell_type": "markdown",
   "metadata": {},
   "source": [
    " "
   ]
  },
  {
   "cell_type": "markdown",
   "metadata": {},
   "source": [
    "This notebook is for the interior variety of Douglas fir GEA mapping pops\n",
    "\n",
    "#### Purpose\n",
    "• I've run the baypass commands across four servers, I need to gather the jobs and concatenate results.\n",
    "\n",
    "#### Notebook outline\n",
    "\n",
    "- __rsync files from servers__\n",
    "    - I execute the rsync commands to transfer files from the executing servers to our lab server\n",
    "- __check what needs to be done__\n",
    "    - given the number of gfiles and chains, make sure all of the commands have been executed/transferred\n",
    "- __gather all of the wanted resfiles and concat into single dataframes__\n",
    "    - gather the files with BF, label SNP IDs, and concat into single dataframe\n",
    "- __Remove newREPEATS and add newSNPs__\n",
    "    - after baypass was kicked off, we received an updated softmasked reference and some of the previous SNPs turned into REPEATS and some of the previous REPEATS turned into SNPs. From the baypass output, remove newREPEATS and add newSNPs\n",
    "- __Rank loci__\n",
    "    - Rank each locus for each chain by converting dB to BF (BF = 10^(dB / 10); dB = 10*log10(BF))\n",
    "    - Caclulate mean BF across 5 chains, rank each locus based on mean\n",
    "    - Create boolean column with True if locus is ranked in top 1% for at least 3/5 chains\n",
    "    - Create boolean column with True if locus has BF >= 15 for at least 3/5 chains\n",
    "    - Create boolean column with True if locus has BF >= 20 for at least 3/5 chains\n",
    "- __look at BF scores for consistent top 1% ranks__\n",
    "    - explore the top 1% of ranks\n",
    "    - count number of SNPs >= BF thresholds {15, 20}, print if not all SNPs >= thresh are consistently in top 1% across chains"
   ]
  },
  {
   "cell_type": "markdown",
   "metadata": {},
   "source": [
    "  "
   ]
  },
  {
   "cell_type": "markdown",
   "metadata": {},
   "source": [
    " "
   ]
  },
  {
   "cell_type": "markdown",
   "metadata": {},
   "source": [
    " "
   ]
  },
  {
   "cell_type": "code",
   "execution_count": 1,
   "metadata": {},
   "outputs": [],
   "source": [
    "from pythonimports import *"
   ]
  },
  {
   "cell_type": "code",
   "execution_count": 2,
   "metadata": {},
   "outputs": [],
   "source": [
    "# dir names\n",
    "baydir = '/lu213/brandon.lind/projects/pool_seq/DF_datasets/DF_pooled_GEA/DF_pooled/snpsANDindels/interior_variety/03_maf-p05_RD-recalculated_FDI/baypass'\n",
    "cmddir = op.join(baydir, 'cmd_files')\n",
    "rundir = op.join(cmddir, 'run_01')\n",
    "gfile_dir = op.join(baydir, 'individual_gfiles')\n",
    "shdir = op.join(cmddir, 'shfiles')\n",
    "resdir = op.join(cmddir, 'results')"
   ]
  },
  {
   "cell_type": "markdown",
   "metadata": {},
   "source": [
    "# rsync files from servers"
   ]
  },
  {
   "cell_type": "code",
   "execution_count": 3,
   "metadata": {},
   "outputs": [
    {
     "name": "stdout",
     "output_type": "stream",
     "text": [
      "itbioyeaman03.ucalgary.ca\r\n"
     ]
    }
   ],
   "source": [
    "!echo $HOSTNAME"
   ]
  },
  {
   "cell_type": "code",
   "execution_count": 10,
   "metadata": {},
   "outputs": [
    {
     "name": "stdout",
     "output_type": "stream",
     "text": [
      "56 56\n"
     ]
    }
   ],
   "source": [
    "lview,dview = get_client()"
   ]
  },
  {
   "cell_type": "code",
   "execution_count": 11,
   "metadata": {},
   "outputs": [
    {
     "data": {
      "text/plain": [
       "'/lu213/brandon.lind/projects/pool_seq/DF_datasets/DF_pooled_GEA/DF_pooled/snpsANDindels/interior_variety/03_maf-p05_RD-recalculated_FDI/baypass/rsync_files'"
      ]
     },
     "execution_count": 11,
     "metadata": {},
     "output_type": "execute_result"
    }
   ],
   "source": [
    "rsyncdir = makedir(op.join(baydir, 'rsync_files'))\n",
    "rsyncdir"
   ]
  },
  {
   "cell_type": "code",
   "execution_count": 12,
   "metadata": {},
   "outputs": [
    {
     "data": {
      "text/plain": [
       "['/lu213/brandon.lind/projects/pool_seq/DF_datasets/DF_pooled_GEA/DF_pooled/snpsANDindels/interior_variety/03_maf-p05_RD-recalculated_FDI/baypass/rsync_files/arc_rsync_cmds.txt',\n",
       " '/lu213/brandon.lind/projects/pool_seq/DF_datasets/DF_pooled_GEA/DF_pooled/snpsANDindels/interior_variety/03_maf-p05_RD-recalculated_FDI/baypass/rsync_files/beluga_rsync_cmds.txt',\n",
       " '/lu213/brandon.lind/projects/pool_seq/DF_datasets/DF_pooled_GEA/DF_pooled/snpsANDindels/interior_variety/03_maf-p05_RD-recalculated_FDI/baypass/rsync_files/cedar_rsync_cmds.txt',\n",
       " '/lu213/brandon.lind/projects/pool_seq/DF_datasets/DF_pooled_GEA/DF_pooled/snpsANDindels/interior_variety/03_maf-p05_RD-recalculated_FDI/baypass/rsync_files/graham_new_rsync_cmds.txt',\n",
       " '/lu213/brandon.lind/projects/pool_seq/DF_datasets/DF_pooled_GEA/DF_pooled/snpsANDindels/interior_variety/03_maf-p05_RD-recalculated_FDI/baypass/rsync_files/graham_rsync_cmds.txt']"
      ]
     },
     "execution_count": 12,
     "metadata": {},
     "output_type": "execute_result"
    }
   ],
   "source": [
    "fs(rsyncdir)"
   ]
  },
  {
   "cell_type": "code",
   "execution_count": 13,
   "metadata": {},
   "outputs": [],
   "source": [
    "def exe(cmd):\n",
    "    \"\"\"execute system command.\"\"\"\n",
    "    import os\n",
    "    os.system(cmd)"
   ]
  },
  {
   "cell_type": "code",
   "execution_count": 14,
   "metadata": {},
   "outputs": [],
   "source": [
    "def submit_cmds(cmds):\n",
    "    \"\"\"Execute a list of system commands. Return cmd if there was an error.\"\"\"\n",
    "    jobs = []\n",
    "    for cmd in nb(cmds):\n",
    "        jobs.append(lview.apply_async(exe, cmd))\n",
    "    watch_async(jobs)\n",
    "    \n",
    "    badcmds = []\n",
    "    for i,j in enumerate(jobs):\n",
    "        try:\n",
    "            x=j.r\n",
    "        except:\n",
    "            badcmds.append(cmds[i])\n",
    "    print('len(badcmds) = ', len(badcmds))\n",
    "    \n",
    "    return badcmds"
   ]
  },
  {
   "cell_type": "code",
   "execution_count": 15,
   "metadata": {},
   "outputs": [],
   "source": [
    "def check_realfiles(cmds, new=False):\n",
    "    \"\"\"Make sure all transferred files exist.\n",
    "    new is used if transferring the results from SNPs that were once REPEATS\n",
    "    \"\"\"\n",
    "    realfiles = []\n",
    "#     if new is True:\n",
    "#         rundir = newrundir\n",
    "#         gfile_dir = newgfiledir\n",
    "#         shdir = newshdir\n",
    "#         resdir = newresdir\n",
    "    for d in [rundir, gfile_dir, shdir, resdir]:\n",
    "        realfiles.extend(fs(d, dirs=False))\n",
    "    \n",
    "    expfiles = []\n",
    "    for cmd in cmds:\n",
    "        expfiles.append(cmd.split()[-1])\n",
    "    \n",
    "    print('len(realfiles) = ', len(realfiles))\n",
    "    print('len(expfiles) =', len(expfiles))\n",
    "    \n",
    "    needed = list(set(expfiles) - set(realfiles))\n",
    "    \n",
    "    print('needed = ', len(needed))\n",
    "    \n",
    "    needed_cmds = []\n",
    "    for n in needed:\n",
    "        for cmd in cmds:\n",
    "            if n in cmd:\n",
    "                needed_cmds.append(cmd)\n",
    "    print('needed_cmds = ', len(needed_cmds))\n",
    "    return needed_cmds"
   ]
  },
  {
   "cell_type": "markdown",
   "metadata": {},
   "source": [
    "#### cedar cmds"
   ]
  },
  {
   "cell_type": "code",
   "execution_count": 56,
   "metadata": {},
   "outputs": [
    {
     "data": {
      "text/plain": [
       "15130"
      ]
     },
     "execution_count": 56,
     "metadata": {},
     "output_type": "execute_result"
    }
   ],
   "source": [
    "# first from cedar\n",
    "cmds = read('/lu213/brandon.lind/projects/pool_seq/DF_datasets/DF_pooled_GEA/DF_pooled/snpsANDindels/interior_variety/03_maf-p05_RD-recalculated_FDI/baypass/rsync_files/cedar_rsync_cmds.txt')\n",
    "len(cmds)"
   ]
  },
  {
   "cell_type": "code",
   "execution_count": 11,
   "metadata": {},
   "outputs": [],
   "source": [
    "dnames = []\n",
    "for cmd in cmds:\n",
    "    dst = cmd.split()[-1]\n",
    "    dnames.append(op.dirname(dst))\n",
    "for d in uni(dnames):\n",
    "    assert op.exists(d)"
   ]
  },
  {
   "cell_type": "code",
   "execution_count": 12,
   "metadata": {},
   "outputs": [
    {
     "data": {
      "text/plain": [
       "15130"
      ]
     },
     "execution_count": 12,
     "metadata": {},
     "output_type": "execute_result"
    }
   ],
   "source": [
    "cmds = [cmd for cmd in cmds if '.out' in cmd or '.sh' in cmd]\n",
    "len(cmds)"
   ]
  },
  {
   "cell_type": "code",
   "execution_count": 14,
   "metadata": {},
   "outputs": [
    {
     "name": "stderr",
     "output_type": "stream",
     "text": [
      "100%|██████████| 30/30 [00:00<00:00, 2227.54it/s]\n",
      "  0%|          | 0/30 [00:00<?, ?it/s]"
     ]
    },
    {
     "name": "stdout",
     "output_type": "stream",
     "text": [
      "\u001b[1m\n",
      "Watching 30 jobs ...\u001b[0m\n"
     ]
    },
    {
     "name": "stderr",
     "output_type": "stream",
     "text": [
      "100%|██████████| 30/30 [00:18<00:00,  1.65it/s]"
     ]
    },
    {
     "name": "stdout",
     "output_type": "stream",
     "text": [
      "len(badcmds) =  0\n"
     ]
    },
    {
     "name": "stderr",
     "output_type": "stream",
     "text": [
      "\n"
     ]
    }
   ],
   "source": [
    "badcmds = submit_cmds(needed)"
   ]
  },
  {
   "cell_type": "code",
   "execution_count": 57,
   "metadata": {},
   "outputs": [
    {
     "name": "stdout",
     "output_type": "stream",
     "text": [
      "len(realfiles) =  49162\n",
      "len(expfiles) = 15130\n",
      "needed =  0\n",
      "needed_cmds =  0\n"
     ]
    },
    {
     "data": {
      "text/plain": [
       "0"
      ]
     },
     "execution_count": 57,
     "metadata": {},
     "output_type": "execute_result"
    }
   ],
   "source": [
    "needed = check_realfiles(cmds)\n",
    "len(needed)"
   ]
  },
  {
   "cell_type": "markdown",
   "metadata": {},
   "source": [
    "#### arc cmds"
   ]
  },
  {
   "cell_type": "code",
   "execution_count": 50,
   "metadata": {},
   "outputs": [
    {
     "data": {
      "text/plain": [
       "4599"
      ]
     },
     "execution_count": 50,
     "metadata": {},
     "output_type": "execute_result"
    }
   ],
   "source": [
    "arccmds = read('/lu213/brandon.lind/projects/pool_seq/DF_datasets/DF_pooled_GEA/DF_pooled/snpsANDindels/interior_variety/03_maf-p05_RD-recalculated_FDI/baypass/rsync_files/arc_rsync_cmds.txt')\n",
    "len(arccmds)"
   ]
  },
  {
   "cell_type": "code",
   "execution_count": 18,
   "metadata": {},
   "outputs": [
    {
     "data": {
      "text/plain": [
       "4599"
      ]
     },
     "execution_count": 18,
     "metadata": {},
     "output_type": "execute_result"
    }
   ],
   "source": [
    "arccmds = [cmd for cmd in arccmds if '.out' in cmd or '.sh' in cmd]\n",
    "len(arccmds)"
   ]
  },
  {
   "cell_type": "code",
   "execution_count": 26,
   "metadata": {},
   "outputs": [
    {
     "name": "stderr",
     "output_type": "stream",
     "text": [
      "100%|██████████| 4599/4599 [00:04<00:00, 996.03it/s] \n",
      "  0%|          | 4/4599 [00:00<02:18, 33.12it/s]"
     ]
    },
    {
     "name": "stdout",
     "output_type": "stream",
     "text": [
      "\u001b[1m\n",
      "Watching 4599 jobs ...\u001b[0m\n"
     ]
    },
    {
     "name": "stderr",
     "output_type": "stream",
     "text": [
      "100%|██████████| 4599/4599 [2:09:26<00:00,  1.69s/it]   "
     ]
    },
    {
     "name": "stdout",
     "output_type": "stream",
     "text": [
      "len(badcmds) =  0\n"
     ]
    },
    {
     "name": "stderr",
     "output_type": "stream",
     "text": [
      "\n"
     ]
    }
   ],
   "source": [
    "badcmds = submit_cmds(arccmds)"
   ]
  },
  {
   "cell_type": "code",
   "execution_count": 51,
   "metadata": {},
   "outputs": [
    {
     "name": "stdout",
     "output_type": "stream",
     "text": [
      "len(realfiles) =  49162\n",
      "len(expfiles) = 4599\n",
      "needed =  0\n",
      "needed_cmds =  0\n"
     ]
    },
    {
     "data": {
      "text/plain": [
       "0"
      ]
     },
     "execution_count": 51,
     "metadata": {},
     "output_type": "execute_result"
    }
   ],
   "source": [
    "needed = check_realfiles(arccmds)\n",
    "len(needed)"
   ]
  },
  {
   "cell_type": "code",
   "execution_count": 29,
   "metadata": {},
   "outputs": [
    {
     "name": "stderr",
     "output_type": "stream",
     "text": [
      "100%|██████████| 48/48 [00:00<00:00, 1893.34it/s]\n",
      "  0%|          | 0/48 [00:00<?, ?it/s]"
     ]
    },
    {
     "name": "stdout",
     "output_type": "stream",
     "text": [
      "\u001b[1m\n",
      "Watching 48 jobs ...\u001b[0m\n"
     ]
    },
    {
     "name": "stderr",
     "output_type": "stream",
     "text": [
      "100%|██████████| 48/48 [01:08<00:00,  1.44s/it]"
     ]
    },
    {
     "name": "stdout",
     "output_type": "stream",
     "text": [
      "len(badcmds) =  0\n"
     ]
    },
    {
     "name": "stderr",
     "output_type": "stream",
     "text": [
      "\n"
     ]
    }
   ],
   "source": [
    "badcmds = submit_cmds(needed)"
   ]
  },
  {
   "cell_type": "code",
   "execution_count": null,
   "metadata": {},
   "outputs": [],
   "source": []
  },
  {
   "cell_type": "markdown",
   "metadata": {},
   "source": [
    "#### beluga cmds"
   ]
  },
  {
   "cell_type": "code",
   "execution_count": 52,
   "metadata": {},
   "outputs": [
    {
     "data": {
      "text/plain": [
       "13880"
      ]
     },
     "execution_count": 52,
     "metadata": {},
     "output_type": "execute_result"
    }
   ],
   "source": [
    "belugacmds = read('/lu213/brandon.lind/projects/pool_seq/DF_datasets/DF_pooled_GEA/DF_pooled/snpsANDindels/interior_variety/03_maf-p05_RD-recalculated_FDI/baypass/rsync_files/beluga_rsync_cmds.txt')\n",
    "len(belugacmds)"
   ]
  },
  {
   "cell_type": "code",
   "execution_count": 43,
   "metadata": {},
   "outputs": [
    {
     "data": {
      "text/plain": [
       "13880"
      ]
     },
     "execution_count": 43,
     "metadata": {},
     "output_type": "execute_result"
    }
   ],
   "source": [
    "belugacmds = [cmd for cmd in belugacmds if '.sh' in cmd or '.out' in cmd]\n",
    "len(belugacmds)"
   ]
  },
  {
   "cell_type": "code",
   "execution_count": 44,
   "metadata": {},
   "outputs": [
    {
     "name": "stderr",
     "output_type": "stream",
     "text": [
      "100%|██████████| 13880/13880 [00:20<00:00, 690.06it/s]\n",
      "  0%|          | 0/13880 [00:00<?, ?it/s]"
     ]
    },
    {
     "name": "stdout",
     "output_type": "stream",
     "text": [
      "\u001b[1m\n",
      "Watching 13880 jobs ...\u001b[0m\n"
     ]
    },
    {
     "name": "stderr",
     "output_type": "stream",
     "text": [
      "100%|██████████| 13880/13880 [12:53<00:00, 17.94it/s] \n"
     ]
    },
    {
     "name": "stdout",
     "output_type": "stream",
     "text": [
      "len(badcmds) =  0\n"
     ]
    }
   ],
   "source": [
    "badbelugacmds = submit_cmds(belugacmds)"
   ]
  },
  {
   "cell_type": "code",
   "execution_count": 53,
   "metadata": {},
   "outputs": [
    {
     "name": "stdout",
     "output_type": "stream",
     "text": [
      "len(realfiles) =  49162\n",
      "len(expfiles) = 13880\n",
      "needed =  0\n",
      "needed_cmds =  0\n"
     ]
    },
    {
     "data": {
      "text/plain": [
       "0"
      ]
     },
     "execution_count": 53,
     "metadata": {},
     "output_type": "execute_result"
    }
   ],
   "source": [
    "beluganeeded = check_realfiles(belugacmds)\n",
    "len(beluganeeded)"
   ]
  },
  {
   "cell_type": "code",
   "execution_count": 46,
   "metadata": {},
   "outputs": [
    {
     "name": "stderr",
     "output_type": "stream",
     "text": [
      "0it [00:00, ?it/s]\n",
      "0it [00:00, ?it/s]"
     ]
    },
    {
     "name": "stdout",
     "output_type": "stream",
     "text": [
      "\u001b[1m\n",
      "Watching 0 jobs ...\u001b[0m\n",
      "len(badcmds) =  0\n"
     ]
    },
    {
     "name": "stderr",
     "output_type": "stream",
     "text": [
      "\n"
     ]
    }
   ],
   "source": [
    "x = submit_cmds(beluganeeded)"
   ]
  },
  {
   "cell_type": "code",
   "execution_count": null,
   "metadata": {},
   "outputs": [],
   "source": []
  },
  {
   "cell_type": "markdown",
   "metadata": {},
   "source": [
    "#### graham cmds"
   ]
  },
  {
   "cell_type": "code",
   "execution_count": 54,
   "metadata": {},
   "outputs": [
    {
     "data": {
      "text/plain": [
       "17206"
      ]
     },
     "execution_count": 54,
     "metadata": {},
     "output_type": "execute_result"
    }
   ],
   "source": [
    "gcmds = read('/lu213/brandon.lind/projects/pool_seq/DF_datasets/DF_pooled_GEA/DF_pooled/snpsANDindels/interior_variety/03_maf-p05_RD-recalculated_FDI/baypass/rsync_files/graham_rsync_cmds.txt')\n",
    "len(gcmds)"
   ]
  },
  {
   "cell_type": "code",
   "execution_count": 40,
   "metadata": {},
   "outputs": [
    {
     "data": {
      "text/plain": [
       "17206"
      ]
     },
     "execution_count": 40,
     "metadata": {},
     "output_type": "execute_result"
    }
   ],
   "source": [
    "gcmds = [cmd for cmd in gcmds if '.sh' in cmd or '.out' in cmd]\n",
    "len(gcmds)"
   ]
  },
  {
   "cell_type": "code",
   "execution_count": 41,
   "metadata": {},
   "outputs": [
    {
     "name": "stderr",
     "output_type": "stream",
     "text": [
      "100%|██████████| 17206/17206 [00:25<00:00, 679.04it/s]\n",
      "  0%|          | 0/17206 [00:00<?, ?it/s]"
     ]
    },
    {
     "name": "stdout",
     "output_type": "stream",
     "text": [
      "\u001b[1m\n",
      "Watching 17206 jobs ...\u001b[0m\n"
     ]
    },
    {
     "name": "stderr",
     "output_type": "stream",
     "text": [
      "100%|██████████| 17206/17206 [15:05<00:00, 19.00it/s] \n"
     ]
    },
    {
     "name": "stdout",
     "output_type": "stream",
     "text": [
      "len(badcmds) =  0\n"
     ]
    }
   ],
   "source": [
    "badgcmds = submit_cmds(gcmds)"
   ]
  },
  {
   "cell_type": "code",
   "execution_count": 55,
   "metadata": {},
   "outputs": [
    {
     "name": "stdout",
     "output_type": "stream",
     "text": [
      "len(realfiles) =  49162\n",
      "len(expfiles) = 17206\n",
      "needed =  0\n",
      "needed_cmds =  0\n"
     ]
    }
   ],
   "source": [
    "needed = check_realfiles(gcmds)"
   ]
  },
  {
   "cell_type": "code",
   "execution_count": 48,
   "metadata": {},
   "outputs": [
    {
     "name": "stderr",
     "output_type": "stream",
     "text": [
      "0it [00:00, ?it/s]\n",
      "0it [00:00, ?it/s]"
     ]
    },
    {
     "name": "stdout",
     "output_type": "stream",
     "text": [
      "\u001b[1m\n",
      "Watching 0 jobs ...\u001b[0m\n",
      "len(badcmds) =  0\n"
     ]
    },
    {
     "name": "stderr",
     "output_type": "stream",
     "text": [
      "\n"
     ]
    }
   ],
   "source": [
    "badgcmds = submit_cmds(needed)"
   ]
  },
  {
   "cell_type": "markdown",
   "metadata": {},
   "source": [
    "#### cmds from graham on newsnps"
   ]
  },
  {
   "cell_type": "code",
   "execution_count": 16,
   "metadata": {},
   "outputs": [],
   "source": [
    "newrundir = '/lu213/brandon.lind/projects/pool_seq/DF_datasets/DF_pooled_GEA/DF_pooled/snpsANDindels/interior_variety/03_maf-p05_RD-recalculated_FDI/baypass/cmd_files/run_02'\n",
    "newshdir = '/lu213/brandon.lind/projects/pool_seq/DF_datasets/DF_pooled_GEA/DF_pooled/snpsANDindels/interior_variety/03_maf-p05_RD-recalculated_FDI/baypass/cmd_files/new_shfiles'\n",
    "newgfiledir = '/lu213/brandon.lind/projects/pool_seq/DF_datasets/DF_pooled_GEA/DF_pooled/snpsANDindels/interior_variety/03_maf-p05_RD-recalculated_FDI/baypass/cmd_files/new_individual_gfiles'\n",
    "newresdir = '/lu213/brandon.lind/projects/pool_seq/DF_datasets/DF_pooled_GEA/DF_pooled/snpsANDindels/interior_variety/03_maf-p05_RD-recalculated_FDI/baypass/cmd_files/new_results'"
   ]
  },
  {
   "cell_type": "code",
   "execution_count": 17,
   "metadata": {},
   "outputs": [
    {
     "data": {
      "text/plain": [
       "206"
      ]
     },
     "execution_count": 17,
     "metadata": {},
     "output_type": "execute_result"
    }
   ],
   "source": [
    "cmds = read('/lu213/brandon.lind/projects/pool_seq/DF_datasets/DF_pooled_GEA/DF_pooled/snpsANDindels/interior_variety/03_maf-p05_RD-recalculated_FDI/baypass/rsync_files/graham_new_rsync_cmds.txt')\n",
    "len(cmds)"
   ]
  },
  {
   "cell_type": "code",
   "execution_count": 22,
   "metadata": {},
   "outputs": [
    {
     "name": "stderr",
     "output_type": "stream",
     "text": [
      "100%|██████████| 4/4 [00:00<00:00, 1394.38it/s]\n"
     ]
    },
    {
     "name": "stdout",
     "output_type": "stream",
     "text": [
      "\u001b[1m\n",
      "Watching 4 jobs ...\u001b[0m\n"
     ]
    },
    {
     "name": "stderr",
     "output_type": "stream",
     "text": [
      "100%|██████████| 4/4 [00:00<00:00, 14.86it/s]"
     ]
    },
    {
     "name": "stdout",
     "output_type": "stream",
     "text": [
      "len(badcmds) =  0\n"
     ]
    },
    {
     "name": "stderr",
     "output_type": "stream",
     "text": [
      "\n"
     ]
    }
   ],
   "source": [
    "badgcmds = submit_cmds(needed)"
   ]
  },
  {
   "cell_type": "code",
   "execution_count": 23,
   "metadata": {},
   "outputs": [
    {
     "name": "stdout",
     "output_type": "stream",
     "text": [
      "len(realfiles) =  223\n",
      "len(expfiles) = 206\n",
      "needed =  0\n",
      "needed_cmds =  0\n"
     ]
    }
   ],
   "source": [
    "needed = check_realfiles(cmds, new=True)"
   ]
  },
  {
   "cell_type": "code",
   "execution_count": null,
   "metadata": {},
   "outputs": [],
   "source": []
  },
  {
   "cell_type": "code",
   "execution_count": null,
   "metadata": {},
   "outputs": [],
   "source": []
  },
  {
   "cell_type": "markdown",
   "metadata": {},
   "source": [
    "# check what needs to be done\n",
    "given the number of gfiles and chains, make sure all of the commands have been executed/transferred"
   ]
  },
  {
   "cell_type": "markdown",
   "metadata": {},
   "source": [
    "#### first check to make sure every sh file was exececuted (ie, check that each has a slurm .out file)"
   ]
  },
  {
   "cell_type": "code",
   "execution_count": 4,
   "metadata": {},
   "outputs": [
    {
     "data": {
      "text/plain": [
       "(188, 239)"
      ]
     },
     "execution_count": 4,
     "metadata": {},
     "output_type": "execute_result"
    }
   ],
   "source": [
    "# the the shfiles and out files\n",
    "shfiles = fs(shdir, endswith='.sh')\n",
    "outs = fs(shdir, endswith='.out')\n",
    "len(shfiles), len(outs)"
   ]
  },
  {
   "cell_type": "code",
   "execution_count": 5,
   "metadata": {},
   "outputs": [],
   "source": [
    "# figure out why there are more outs than shfiles (I prob accidentally ran a job >1x)\n",
    "pairs = {}\n",
    "for sh in shfiles:\n",
    "    pairs[sh] = []\n",
    "    for out in outs:\n",
    "        if op.basename(sh).replace('.sh', '') in out:\n",
    "            pairs[sh].append(out)\n",
    "for sh,outfiles in pairs.items():\n",
    "    if len(outfiles) < 1:\n",
    "        print(sh, len(outfiles))"
   ]
  },
  {
   "cell_type": "markdown",
   "metadata": {},
   "source": [
    "#### go through catfiles and make sure all of the commands inside were run"
   ]
  },
  {
   "cell_type": "code",
   "execution_count": 6,
   "metadata": {},
   "outputs": [
    {
     "data": {
      "text/plain": [
       "'/lu213/brandon.lind/projects/pool_seq/DF_datasets/DF_pooled_GEA/DF_pooled/snpsANDindels/interior_variety/03_maf-p05_RD-recalculated_FDI/baypass/cmd_files/results'"
      ]
     },
     "execution_count": 6,
     "metadata": {},
     "output_type": "execute_result"
    }
   ],
   "source": [
    "resdir"
   ]
  },
  {
   "cell_type": "code",
   "execution_count": 7,
   "metadata": {},
   "outputs": [
    {
     "data": {
      "text/plain": [
       "8990"
      ]
     },
     "execution_count": 7,
     "metadata": {},
     "output_type": "execute_result"
    }
   ],
   "source": [
    "# get one of the files for each of the commands that executed successfully (count the succesful cmds)\n",
    "resfiles = fs(resdir, endswith='DIC.out')\n",
    "len(resfiles)"
   ]
  },
  {
   "cell_type": "code",
   "execution_count": 8,
   "metadata": {},
   "outputs": [
    {
     "data": {
      "text/plain": [
       "188"
      ]
     },
     "execution_count": 8,
     "metadata": {},
     "output_type": "execute_result"
    }
   ],
   "source": [
    "# get the files with the baypass commands - this matches number of sh files (good)\n",
    "catfiles = fs(rundir, pattern='catfile')\n",
    "len(catfiles)"
   ]
  },
  {
   "cell_type": "code",
   "execution_count": 9,
   "metadata": {},
   "outputs": [
    {
     "name": "stderr",
     "output_type": "stream",
     "text": [
      "100%|██████████| 188/188 [00:59<00:00,  3.14it/s]\n"
     ]
    },
    {
     "data": {
      "text/plain": [
       "'interior_all_snps_ADP-lt-1000_gfile_1797_chain_5'"
      ]
     },
     "execution_count": 9,
     "metadata": {},
     "output_type": "execute_result"
    }
   ],
   "source": [
    "# iterate through catfile commands and make sure there's a result for each\n",
    "found = {}  # map prefix to output file\n",
    "exe = {}  # map prefix to command used\n",
    "found_gfiles = []\n",
    "needed_cmds = []\n",
    "for cat in nb(catfiles):\n",
    "    # get the commands\n",
    "    cmds = read(cat)\n",
    "    \n",
    "    # assign prefixes (= num cmds) to their output\n",
    "    for cmd in cmds:\n",
    "        prefix = cmd.split(\"-outprefix\")[1].split()[0]\n",
    "        gfile = prefix.split(\"_chain\")[0]\n",
    "        found_gfiles.append(gfile)\n",
    "        assert prefix not in found\n",
    "        exe[prefix] = cmd\n",
    "        found[prefix] = []\n",
    "        for res in resfiles:\n",
    "            if prefix in op.basename(res):\n",
    "                found[prefix].append(res)\n",
    "prefix"
   ]
  },
  {
   "cell_type": "code",
   "execution_count": 10,
   "metadata": {},
   "outputs": [
    {
     "data": {
      "text/plain": [
       "(8990, 1798)"
      ]
     },
     "execution_count": 10,
     "metadata": {},
     "output_type": "execute_result"
    }
   ],
   "source": [
    "len(found_gfiles),luni(found_gfiles)"
   ]
  },
  {
   "cell_type": "code",
   "execution_count": 11,
   "metadata": {},
   "outputs": [
    {
     "data": {
      "text/plain": [
       "0"
      ]
     },
     "execution_count": 11,
     "metadata": {},
     "output_type": "execute_result"
    }
   ],
   "source": [
    "# figure out which prefixes have zero output (and need to be reran) or cmds with >1 output (impossible...)\n",
    "needed_cmds = []\n",
    "for prefix,reslist in found.items():\n",
    "    if len(reslist) == 0:\n",
    "        needed_cmds.append(exe[prefix])  # get the cmd that needs to be executed\n",
    "    elif len(reslist) > 1:\n",
    "        print('\\n', prefix, len(reslist))  # this shouldn't be possible, check anyway, print if so\n",
    "len(needed_cmds)  # came back and counted after submitting 32 jobs below"
   ]
  },
  {
   "cell_type": "code",
   "execution_count": 12,
   "metadata": {},
   "outputs": [
    {
     "data": {
      "text/plain": [
       "[]"
      ]
     },
     "execution_count": 12,
     "metadata": {},
     "output_type": "execute_result"
    }
   ],
   "source": [
    "needed_cmds"
   ]
  },
  {
   "cell_type": "code",
   "execution_count": 18,
   "metadata": {},
   "outputs": [
    {
     "data": {
      "text/plain": [
       "1798"
      ]
     },
     "execution_count": 18,
     "metadata": {},
     "output_type": "execute_result"
    }
   ],
   "source": [
    "len(fs(gfile_dir, endswith='.txt'))  # matches found_gfiles"
   ]
  },
  {
   "cell_type": "markdown",
   "metadata": {},
   "source": [
    "\n",
    " "
   ]
  },
  {
   "cell_type": "markdown",
   "metadata": {},
   "source": [
    " "
   ]
  },
  {
   "cell_type": "markdown",
   "metadata": {},
   "source": [
    " "
   ]
  },
  {
   "cell_type": "markdown",
   "metadata": {},
   "source": [
    " "
   ]
  },
  {
   "cell_type": "markdown",
   "metadata": {},
   "source": [
    "# gather all of the wanted resfiles and concat into single dataframes\n",
    "\n",
    "gather the files with BF, label SNP IDs, label environmental covariables, and concat into single dataframe"
   ]
  },
  {
   "cell_type": "markdown",
   "metadata": {},
   "source": [
    "#### first get SNPs that were in the origal SNPs \n",
    "\n",
    "These gfiles were created before we got the updated softmasked reference. Not all of these are still SNPs, some are now REPEATs"
   ]
  },
  {
   "cell_type": "code",
   "execution_count": 3,
   "metadata": {},
   "outputs": [
    {
     "name": "stdout",
     "output_type": "stream",
     "text": [
      "56 56\n"
     ]
    }
   ],
   "source": [
    "lview,dview = get_client()"
   ]
  },
  {
   "cell_type": "code",
   "execution_count": 4,
   "metadata": {
    "scrolled": true
   },
   "outputs": [
    {
     "data": {
      "text/plain": [
       "(8990, 8990)"
      ]
     },
     "execution_count": 4,
     "metadata": {},
     "output_type": "execute_result"
    }
   ],
   "source": [
    "bffiles = fs(resdir, endswith='betai_reg.out')\n",
    "xtxfiles = fs(resdir, endswith='pi_xtx.out')\n",
    "len(bffiles), len(xtxfiles)"
   ]
  },
  {
   "cell_type": "code",
   "execution_count": 5,
   "metadata": {},
   "outputs": [
    {
     "data": {
      "text/html": [
       "<div>\n",
       "<style scoped>\n",
       "    .dataframe tbody tr th:only-of-type {\n",
       "        vertical-align: middle;\n",
       "    }\n",
       "\n",
       "    .dataframe tbody tr th {\n",
       "        vertical-align: top;\n",
       "    }\n",
       "\n",
       "    .dataframe thead th {\n",
       "        text-align: right;\n",
       "    }\n",
       "</style>\n",
       "<table border=\"1\" class=\"dataframe\">\n",
       "  <thead>\n",
       "    <tr style=\"text-align: right;\">\n",
       "      <th></th>\n",
       "      <th>COVARIABLE</th>\n",
       "      <th>MRK</th>\n",
       "      <th>M_Pearson</th>\n",
       "      <th>SD_Pearson</th>\n",
       "      <th>BF(dB)</th>\n",
       "      <th>Beta_is</th>\n",
       "      <th>SD_Beta_is</th>\n",
       "      <th>eBPis</th>\n",
       "    </tr>\n",
       "  </thead>\n",
       "  <tbody>\n",
       "    <tr>\n",
       "      <th>0</th>\n",
       "      <td>1</td>\n",
       "      <td>1</td>\n",
       "      <td>0.019328</td>\n",
       "      <td>0.158403</td>\n",
       "      <td>-12.063518</td>\n",
       "      <td>0.001142</td>\n",
       "      <td>0.006460</td>\n",
       "      <td>0.065669</td>\n",
       "    </tr>\n",
       "    <tr>\n",
       "      <th>1</th>\n",
       "      <td>1</td>\n",
       "      <td>2</td>\n",
       "      <td>0.036242</td>\n",
       "      <td>0.160090</td>\n",
       "      <td>-9.262433</td>\n",
       "      <td>0.002351</td>\n",
       "      <td>0.008852</td>\n",
       "      <td>0.102060</td>\n",
       "    </tr>\n",
       "    <tr>\n",
       "      <th>2</th>\n",
       "      <td>1</td>\n",
       "      <td>3</td>\n",
       "      <td>-0.055807</td>\n",
       "      <td>0.142212</td>\n",
       "      <td>-10.787758</td>\n",
       "      <td>-0.003216</td>\n",
       "      <td>0.008893</td>\n",
       "      <td>0.144069</td>\n",
       "    </tr>\n",
       "    <tr>\n",
       "      <th>3</th>\n",
       "      <td>1</td>\n",
       "      <td>4</td>\n",
       "      <td>-0.088973</td>\n",
       "      <td>0.138312</td>\n",
       "      <td>-9.022399</td>\n",
       "      <td>-0.005157</td>\n",
       "      <td>0.013441</td>\n",
       "      <td>0.154140</td>\n",
       "    </tr>\n",
       "    <tr>\n",
       "      <th>4</th>\n",
       "      <td>1</td>\n",
       "      <td>5</td>\n",
       "      <td>-0.092610</td>\n",
       "      <td>0.141636</td>\n",
       "      <td>-9.507932</td>\n",
       "      <td>-0.004699</td>\n",
       "      <td>0.010623</td>\n",
       "      <td>0.181615</td>\n",
       "    </tr>\n",
       "  </tbody>\n",
       "</table>\n",
       "</div>"
      ],
      "text/plain": [
       "   COVARIABLE  MRK  M_Pearson  SD_Pearson     BF(dB)   Beta_is  SD_Beta_is  \\\n",
       "0           1    1   0.019328    0.158403 -12.063518  0.001142    0.006460   \n",
       "1           1    2   0.036242    0.160090  -9.262433  0.002351    0.008852   \n",
       "2           1    3  -0.055807    0.142212 -10.787758 -0.003216    0.008893   \n",
       "3           1    4  -0.088973    0.138312  -9.022399 -0.005157    0.013441   \n",
       "4           1    5  -0.092610    0.141636  -9.507932 -0.004699    0.010623   \n",
       "\n",
       "      eBPis  \n",
       "0  0.065669  \n",
       "1  0.102060  \n",
       "2  0.144069  \n",
       "3  0.154140  \n",
       "4  0.181615  "
      ]
     },
     "execution_count": 5,
     "metadata": {},
     "output_type": "execute_result"
    }
   ],
   "source": [
    "bf = pd.read_table(bffiles[0], delim_whitespace=True)\n",
    "bf.head()"
   ]
  },
  {
   "cell_type": "code",
   "execution_count": 6,
   "metadata": {},
   "outputs": [
    {
     "data": {
      "text/html": [
       "<div>\n",
       "<style scoped>\n",
       "    .dataframe tbody tr th:only-of-type {\n",
       "        vertical-align: middle;\n",
       "    }\n",
       "\n",
       "    .dataframe tbody tr th {\n",
       "        vertical-align: top;\n",
       "    }\n",
       "\n",
       "    .dataframe thead th {\n",
       "        text-align: right;\n",
       "    }\n",
       "</style>\n",
       "<table border=\"1\" class=\"dataframe\">\n",
       "  <thead>\n",
       "    <tr style=\"text-align: right;\">\n",
       "      <th></th>\n",
       "      <th>MRK</th>\n",
       "      <th>M_P</th>\n",
       "      <th>SD_P</th>\n",
       "      <th>M_XtX</th>\n",
       "      <th>SD_XtX</th>\n",
       "      <th>XtXst</th>\n",
       "      <th>log10(1/pval)</th>\n",
       "    </tr>\n",
       "  </thead>\n",
       "  <tbody>\n",
       "    <tr>\n",
       "      <th>0</th>\n",
       "      <td>1</td>\n",
       "      <td>0.979105</td>\n",
       "      <td>0.018118</td>\n",
       "      <td>34.497275</td>\n",
       "      <td>8.232360</td>\n",
       "      <td>8.442409</td>\n",
       "      <td>2.300000e-07</td>\n",
       "    </tr>\n",
       "    <tr>\n",
       "      <th>1</th>\n",
       "      <td>2</td>\n",
       "      <td>0.961510</td>\n",
       "      <td>0.044092</td>\n",
       "      <td>35.085043</td>\n",
       "      <td>8.287244</td>\n",
       "      <td>11.252697</td>\n",
       "      <td>1.099000e-05</td>\n",
       "    </tr>\n",
       "    <tr>\n",
       "      <th>2</th>\n",
       "      <td>3</td>\n",
       "      <td>0.945952</td>\n",
       "      <td>0.056978</td>\n",
       "      <td>35.720709</td>\n",
       "      <td>8.320441</td>\n",
       "      <td>22.439873</td>\n",
       "      <td>1.670308e-02</td>\n",
       "    </tr>\n",
       "    <tr>\n",
       "      <th>3</th>\n",
       "      <td>4</td>\n",
       "      <td>0.873878</td>\n",
       "      <td>0.057879</td>\n",
       "      <td>37.744704</td>\n",
       "      <td>8.348635</td>\n",
       "      <td>36.114346</td>\n",
       "      <td>3.341330e-01</td>\n",
       "    </tr>\n",
       "    <tr>\n",
       "      <th>4</th>\n",
       "      <td>5</td>\n",
       "      <td>0.926504</td>\n",
       "      <td>0.044429</td>\n",
       "      <td>35.731524</td>\n",
       "      <td>8.328053</td>\n",
       "      <td>28.518397</td>\n",
       "      <td>9.247043e-02</td>\n",
       "    </tr>\n",
       "  </tbody>\n",
       "</table>\n",
       "</div>"
      ],
      "text/plain": [
       "   MRK       M_P      SD_P      M_XtX    SD_XtX      XtXst  log10(1/pval)\n",
       "0    1  0.979105  0.018118  34.497275  8.232360   8.442409   2.300000e-07\n",
       "1    2  0.961510  0.044092  35.085043  8.287244  11.252697   1.099000e-05\n",
       "2    3  0.945952  0.056978  35.720709  8.320441  22.439873   1.670308e-02\n",
       "3    4  0.873878  0.057879  37.744704  8.348635  36.114346   3.341330e-01\n",
       "4    5  0.926504  0.044429  35.731524  8.328053  28.518397   9.247043e-02"
      ]
     },
     "execution_count": 6,
     "metadata": {},
     "output_type": "execute_result"
    }
   ],
   "source": [
    "xtx = pd.read_table(xtxfiles[0], delim_whitespace=True)\n",
    "xtx.head()"
   ]
  },
  {
   "cell_type": "code",
   "execution_count": 7,
   "metadata": {},
   "outputs": [
    {
     "data": {
      "text/plain": [
       "'interior_all_snps_ADP-lt-1000_gfile_0000_chain_1_summary_betai_reg.out'"
      ]
     },
     "execution_count": 7,
     "metadata": {},
     "output_type": "execute_result"
    }
   ],
   "source": [
    "op.basename(bffiles[0])"
   ]
  },
  {
   "cell_type": "code",
   "execution_count": 37,
   "metadata": {},
   "outputs": [
    {
     "data": {
      "text/plain": [
       "'/lu213/brandon.lind/projects/pool_seq/DF_datasets/DF_pooled_GEA/DF_pooled/snpsANDindels/interior_variety/03_maf-p05_RD-recalculated_FDI/baypass/cmd_files/new_results/interior_all_newsnps_ADP-lt-1000_gfile_00_chain_1_summary_betai_reg.out'"
      ]
     },
     "execution_count": 37,
     "metadata": {},
     "output_type": "execute_result"
    }
   ],
   "source": [
    "newbffiles[0]"
   ]
  },
  {
   "cell_type": "code",
   "execution_count": 27,
   "metadata": {},
   "outputs": [],
   "source": [
    "def label_snps(resfile):\n",
    "    \"\"\"Label baypass resfiles with SNP ID using pkl files saved in 002_kickoff.\"\"\"\n",
    "    import os\n",
    "    import pandas\n",
    "    # find the gfile associated with resfile\n",
    "    prefix = os.path.basename(resfile).split(\"_chain\")[0]\n",
    "    chain = \"chain_%s\" % os.path.basename(resfile).split(prefix)[1].split(\"_\")[2]\n",
    "    \n",
    "    # get the pkl file that has the ordered list of SNP IDs for the gfile\n",
    "    if 'new' in resfile:\n",
    "        newgfile_dir = os.path.dirname(resfile).replace(\"new_results\", \"new_individual_gfiles\")\n",
    "        pklfile = os.path.join(newgfile_dir, f'{prefix}_noheaderidx.pkl')\n",
    "    else:\n",
    "        pklfile = os.path.join(gfile_dir, f'{prefix}_noheaderidx.pkl')\n",
    "    gloci = pklload(pklfile)  # read in rows with SNPIDs, but only one column\n",
    "    \n",
    "    # read in the resfile\n",
    "    df = pandas.read_table(resfile, delim_whitespace=True)\n",
    "    \n",
    "    # map MRK column (SNP index) to locus name\n",
    "    gdict = dict((num+1, locus) for num,locus in enumerate(gloci))\n",
    "    \n",
    "    # map covariable column to environment ID\n",
    "    edict = dict((num+1, env) for num,env in enumerate(efile.index))\n",
    "    \n",
    "    # split each covariable (env) in to its own file, label index with SNP ID\n",
    "    df['env'] = df['COVARIABLE'].map(edict)\n",
    "    envdfs = {chain:{}}\n",
    "    for env in uni(df['env']):\n",
    "        envdfs[chain][env] = df[df['env']==env].copy()\n",
    "        envdfs[chain][env].index = envdfs[chain][env]['MRK'].map(gdict)\n",
    "        envdfs[chain][env].index.names = ['']\n",
    "\n",
    "    return envdfs\n",
    "\n",
    "efile = pd.read_table(op.join(baydir, 'interior_efile_std_HEADERIDX.txt'), index_col=0, usecols=[0,1])\n",
    "dview['efile'] = efile\n",
    "dview['uni'] = uni\n",
    "dview['gfile_dir'] = gfile_dir\n",
    "dview['pklload'] = pklload"
   ]
  },
  {
   "cell_type": "code",
   "execution_count": 11,
   "metadata": {
    "scrolled": true
   },
   "outputs": [
    {
     "name": "stderr",
     "output_type": "stream",
     "text": [
      "100%|██████████| 8990/8990 [00:08<00:00, 1086.84it/s]\n"
     ]
    },
    {
     "name": "stdout",
     "output_type": "stream",
     "text": [
      "\u001b[1m\n",
      "Watching 8990 jobs ...\u001b[0m\n"
     ]
    },
    {
     "name": "stderr",
     "output_type": "stream",
     "text": [
      "100%|██████████| 8990/8990 [14:27<00:00, 10.36it/s]\n"
     ]
    }
   ],
   "source": [
    "# label SNP IDs in parallel\n",
    "jobs = []\n",
    "for bffile in nb(bffiles):\n",
    "    jobs.append(lview.apply_async(label_snps, bffile))\n",
    "watch_async(jobs)"
   ]
  },
  {
   "cell_type": "code",
   "execution_count": 12,
   "metadata": {},
   "outputs": [
    {
     "name": "stderr",
     "output_type": "stream",
     "text": [
      "100%|██████████| 8990/8990 [00:00<00:00, 17506.00it/s]\n"
     ]
    },
    {
     "data": {
      "text/plain": [
       "['chain_1', 'chain_2', 'chain_3', 'chain_4', 'chain_5']"
      ]
     },
     "execution_count": 12,
     "metadata": {},
     "output_type": "execute_result"
    }
   ],
   "source": [
    "# gather output by environment\n",
    "envlist = {}\n",
    "for j in nb(jobs):\n",
    "    assert len(keys(j.r)) == 1\n",
    "    chain = keys(j.r)[0]\n",
    "    if chain not in envlist:\n",
    "        envlist[chain] = {}\n",
    "    for env in j.r[chain]:\n",
    "        if env not in envlist[chain]:\n",
    "            envlist[chain][env] = []\n",
    "        envlist[chain][env].append(j.r[chain][env])\n",
    "keys(envlist)"
   ]
  },
  {
   "cell_type": "code",
   "execution_count": 13,
   "metadata": {},
   "outputs": [
    {
     "data": {
      "text/html": [
       "<div>\n",
       "<style scoped>\n",
       "    .dataframe tbody tr th:only-of-type {\n",
       "        vertical-align: middle;\n",
       "    }\n",
       "\n",
       "    .dataframe tbody tr th {\n",
       "        vertical-align: top;\n",
       "    }\n",
       "\n",
       "    .dataframe thead th {\n",
       "        text-align: right;\n",
       "    }\n",
       "</style>\n",
       "<table border=\"1\" class=\"dataframe\">\n",
       "  <thead>\n",
       "    <tr style=\"text-align: right;\">\n",
       "      <th></th>\n",
       "      <th>COVARIABLE</th>\n",
       "      <th>MRK</th>\n",
       "      <th>M_Pearson</th>\n",
       "      <th>SD_Pearson</th>\n",
       "      <th>BF(dB)</th>\n",
       "      <th>Beta_is</th>\n",
       "      <th>SD_Beta_is</th>\n",
       "      <th>eBPis</th>\n",
       "      <th>env</th>\n",
       "    </tr>\n",
       "    <tr>\n",
       "      <th></th>\n",
       "      <th></th>\n",
       "      <th></th>\n",
       "      <th></th>\n",
       "      <th></th>\n",
       "      <th></th>\n",
       "      <th></th>\n",
       "      <th></th>\n",
       "      <th></th>\n",
       "      <th></th>\n",
       "    </tr>\n",
       "  </thead>\n",
       "  <tbody>\n",
       "    <tr>\n",
       "      <th>jcf7190016526461-5448</th>\n",
       "      <td>12</td>\n",
       "      <td>1</td>\n",
       "      <td>-0.095118</td>\n",
       "      <td>0.152770</td>\n",
       "      <td>-4.463277</td>\n",
       "      <td>-0.008106</td>\n",
       "      <td>0.009520</td>\n",
       "      <td>0.403917</td>\n",
       "      <td>bFFP</td>\n",
       "    </tr>\n",
       "    <tr>\n",
       "      <th>jcf7190016526461-5454</th>\n",
       "      <td>12</td>\n",
       "      <td>2</td>\n",
       "      <td>0.038502</td>\n",
       "      <td>0.160866</td>\n",
       "      <td>-14.859149</td>\n",
       "      <td>0.001015</td>\n",
       "      <td>0.004519</td>\n",
       "      <td>0.085000</td>\n",
       "      <td>bFFP</td>\n",
       "    </tr>\n",
       "    <tr>\n",
       "      <th>jcf7190016526461-5455</th>\n",
       "      <td>12</td>\n",
       "      <td>3</td>\n",
       "      <td>-0.022288</td>\n",
       "      <td>0.145244</td>\n",
       "      <td>-12.883302</td>\n",
       "      <td>-0.000809</td>\n",
       "      <td>0.005610</td>\n",
       "      <td>0.052921</td>\n",
       "      <td>bFFP</td>\n",
       "    </tr>\n",
       "    <tr>\n",
       "      <th>jcf7190016526461-5461</th>\n",
       "      <td>12</td>\n",
       "      <td>4</td>\n",
       "      <td>-0.041600</td>\n",
       "      <td>0.153691</td>\n",
       "      <td>-12.291447</td>\n",
       "      <td>-0.001399</td>\n",
       "      <td>0.004889</td>\n",
       "      <td>0.110801</td>\n",
       "      <td>bFFP</td>\n",
       "    </tr>\n",
       "    <tr>\n",
       "      <th>jcf7190016526461-5471</th>\n",
       "      <td>12</td>\n",
       "      <td>5</td>\n",
       "      <td>-0.062306</td>\n",
       "      <td>0.158242</td>\n",
       "      <td>-12.226679</td>\n",
       "      <td>-0.001982</td>\n",
       "      <td>0.005106</td>\n",
       "      <td>0.156171</td>\n",
       "      <td>bFFP</td>\n",
       "    </tr>\n",
       "  </tbody>\n",
       "</table>\n",
       "</div>"
      ],
      "text/plain": [
       "                       COVARIABLE  MRK  M_Pearson  SD_Pearson     BF(dB)  \\\n",
       "                                                                           \n",
       "jcf7190016526461-5448          12    1  -0.095118    0.152770  -4.463277   \n",
       "jcf7190016526461-5454          12    2   0.038502    0.160866 -14.859149   \n",
       "jcf7190016526461-5455          12    3  -0.022288    0.145244 -12.883302   \n",
       "jcf7190016526461-5461          12    4  -0.041600    0.153691 -12.291447   \n",
       "jcf7190016526461-5471          12    5  -0.062306    0.158242 -12.226679   \n",
       "\n",
       "                        Beta_is  SD_Beta_is     eBPis   env  \n",
       "                                                             \n",
       "jcf7190016526461-5448 -0.008106    0.009520  0.403917  bFFP  \n",
       "jcf7190016526461-5454  0.001015    0.004519  0.085000  bFFP  \n",
       "jcf7190016526461-5455 -0.000809    0.005610  0.052921  bFFP  \n",
       "jcf7190016526461-5461 -0.001399    0.004889  0.110801  bFFP  \n",
       "jcf7190016526461-5471 -0.001982    0.005106  0.156171  bFFP  "
      ]
     },
     "execution_count": 13,
     "metadata": {},
     "output_type": "execute_result"
    }
   ],
   "source": [
    "j.r[chain][env].head()"
   ]
  },
  {
   "cell_type": "code",
   "execution_count": 14,
   "metadata": {},
   "outputs": [
    {
     "data": {
      "text/plain": [
       "('chain_5', 'bFFP')"
      ]
     },
     "execution_count": 14,
     "metadata": {},
     "output_type": "execute_result"
    }
   ],
   "source": [
    "chain,env"
   ]
  },
  {
   "cell_type": "code",
   "execution_count": 15,
   "metadata": {},
   "outputs": [
    {
     "name": "stderr",
     "output_type": "stream",
     "text": [
      "chain_1: 100%|██████████| 19/19 [00:19<00:00,  1.02s/it]\n",
      "chain_2: 100%|██████████| 19/19 [00:13<00:00,  1.40it/s]\n",
      "chain_3: 100%|██████████| 19/19 [00:15<00:00,  1.22it/s]\n",
      "chain_4: 100%|██████████| 19/19 [00:15<00:00,  1.23it/s]\n",
      "chain_5: 100%|██████████| 19/19 [00:12<00:00,  1.48it/s]"
     ]
    },
    {
     "name": "stdout",
     "output_type": "stream",
     "text": [
      "\u001b[1mchain_1\u001b[0m\n",
      "\t DD_0 2696227\n",
      "\t FFP 2696227\n",
      "\t SHM 2696227\n",
      "\t TD 2696227\n",
      "\t AHM 2696227\n",
      "\t MWMT 2696227\n",
      "\t MCMT 2696227\n",
      "\t MSP 2696227\n",
      "\t Eref 2696227\n",
      "\t NFFD 2696227\n",
      "\t DD5 2696227\n",
      "\t eFFP 2696227\n",
      "\t CMD 2696227\n",
      "\t MAP 2696227\n",
      "\t PAS 2696227\n",
      "\t bFFP 2696227\n",
      "\t MAT 2696227\n",
      "\t EMT 2696227\n",
      "\t EXT 2696227\n",
      "\u001b[1mchain_2\u001b[0m\n",
      "\t MAP 2696227\n",
      "\t TD 2696227\n",
      "\t DD5 2696227\n",
      "\t CMD 2696227\n",
      "\t EMT 2696227\n",
      "\t DD_0 2696227\n",
      "\t SHM 2696227\n",
      "\t MSP 2696227\n",
      "\t PAS 2696227\n",
      "\t MCMT 2696227\n",
      "\t FFP 2696227\n",
      "\t bFFP 2696227\n",
      "\t Eref 2696227\n",
      "\t eFFP 2696227\n",
      "\t MWMT 2696227\n",
      "\t EXT 2696227\n",
      "\t AHM 2696227\n",
      "\t NFFD 2696227\n",
      "\t MAT 2696227\n",
      "\u001b[1mchain_3\u001b[0m\n",
      "\t AHM 2696227\n",
      "\t MWMT 2696227\n",
      "\t DD_0 2696227\n",
      "\t MSP 2696227\n",
      "\t EMT 2696227\n",
      "\t Eref 2696227\n",
      "\t MAP 2696227\n",
      "\t FFP 2696227\n",
      "\t SHM 2696227\n",
      "\t EXT 2696227\n",
      "\t PAS 2696227\n",
      "\t MAT 2696227\n",
      "\t NFFD 2696227\n",
      "\t bFFP 2696227\n",
      "\t TD 2696227\n",
      "\t eFFP 2696227\n",
      "\t DD5 2696227\n",
      "\t MCMT 2696227\n",
      "\t CMD 2696227\n",
      "\u001b[1mchain_4\u001b[0m\n",
      "\t MAP 2696227\n",
      "\t CMD 2696227\n",
      "\t EMT 2696227\n",
      "\t MCMT 2696227\n",
      "\t Eref 2696227\n",
      "\t MAT 2696227\n",
      "\t DD5 2696227\n",
      "\t DD_0 2696227\n",
      "\t NFFD 2696227\n",
      "\t EXT 2696227\n",
      "\t bFFP 2696227\n",
      "\t AHM 2696227\n",
      "\t PAS 2696227\n",
      "\t MWMT 2696227\n",
      "\t TD 2696227\n",
      "\t SHM 2696227\n",
      "\t eFFP 2696227\n",
      "\t MSP 2696227\n",
      "\t FFP 2696227\n",
      "\u001b[1mchain_5\u001b[0m\n",
      "\t FFP 2696227\n",
      "\t MAP 2696227\n",
      "\t DD_0 2696227\n",
      "\t PAS 2696227\n",
      "\t MAT 2696227\n",
      "\t DD5 2696227\n",
      "\t MWMT 2696227\n",
      "\t MSP 2696227\n",
      "\t MCMT 2696227\n",
      "\t NFFD 2696227\n",
      "\t bFFP 2696227\n",
      "\t CMD 2696227\n",
      "\t EMT 2696227\n",
      "\t SHM 2696227\n",
      "\t AHM 2696227\n",
      "\t Eref 2696227\n",
      "\t EXT 2696227\n",
      "\t eFFP 2696227\n",
      "\t TD 2696227\n"
     ]
    },
    {
     "name": "stderr",
     "output_type": "stream",
     "text": [
      "\n"
     ]
    }
   ],
   "source": [
    "# concatenate environmental output by each chain, print out num snps for each env for each chain\n",
    "chaindfs = {}\n",
    "for chain,envs in envlist.items():\n",
    "    assert len(envs) == 19\n",
    "    if chain not in chaindfs:\n",
    "        chaindfs[chain] = {}\n",
    "    for env,dfs in nb(envs.items(), desc=chain):\n",
    "        if env not in chaindfs[chain]:\n",
    "            chaindfs[chain][env] = pd.concat(dfs)\n",
    "        else:\n",
    "            print('crap ', chain, env)\n",
    "for chain in chaindfs:\n",
    "    print(ColorText(chain).bold())\n",
    "    for env in chaindfs[chain]:\n",
    "        print('\\t',env, nrow(chaindfs[chain][env]))"
   ]
  },
  {
   "cell_type": "code",
   "execution_count": 16,
   "metadata": {},
   "outputs": [
    {
     "name": "stderr",
     "output_type": "stream",
     "text": [
      "chain_1: 100%|██████████| 19/19 [00:14<00:00,  1.29it/s]\n",
      "chain_2: 100%|██████████| 19/19 [00:12<00:00,  1.56it/s]\n",
      "chain_3: 100%|██████████| 19/19 [00:14<00:00,  1.27it/s]\n",
      "chain_4: 100%|██████████| 19/19 [00:12<00:00,  1.53it/s]\n",
      "chain_5: 100%|██████████| 19/19 [00:14<00:00,  1.32it/s]\n",
      "combo: 100%|██████████| 19/19 [04:22<00:00, 13.82s/it]\n"
     ]
    },
    {
     "data": {
      "text/html": [
       "<div>\n",
       "<style scoped>\n",
       "    .dataframe tbody tr th:only-of-type {\n",
       "        vertical-align: middle;\n",
       "    }\n",
       "\n",
       "    .dataframe tbody tr th {\n",
       "        vertical-align: top;\n",
       "    }\n",
       "\n",
       "    .dataframe thead th {\n",
       "        text-align: right;\n",
       "    }\n",
       "</style>\n",
       "<table border=\"1\" class=\"dataframe\">\n",
       "  <thead>\n",
       "    <tr style=\"text-align: right;\">\n",
       "      <th></th>\n",
       "      <th>chain_1-COVARIABLE</th>\n",
       "      <th>chain_1-MRK</th>\n",
       "      <th>chain_1-M_Pearson</th>\n",
       "      <th>chain_1-SD_Pearson</th>\n",
       "      <th>chain_1-BF(dB)</th>\n",
       "      <th>chain_1-Beta_is</th>\n",
       "      <th>chain_1-SD_Beta_is</th>\n",
       "      <th>chain_1-eBPis</th>\n",
       "      <th>chain_1-env</th>\n",
       "      <th>chain_2-COVARIABLE</th>\n",
       "      <th>chain_2-MRK</th>\n",
       "      <th>chain_2-M_Pearson</th>\n",
       "      <th>chain_2-SD_Pearson</th>\n",
       "      <th>chain_2-BF(dB)</th>\n",
       "      <th>chain_2-Beta_is</th>\n",
       "      <th>chain_2-SD_Beta_is</th>\n",
       "      <th>chain_2-eBPis</th>\n",
       "      <th>chain_2-env</th>\n",
       "      <th>chain_3-COVARIABLE</th>\n",
       "      <th>chain_3-MRK</th>\n",
       "      <th>chain_3-M_Pearson</th>\n",
       "      <th>chain_3-SD_Pearson</th>\n",
       "      <th>chain_3-BF(dB)</th>\n",
       "      <th>chain_3-Beta_is</th>\n",
       "      <th>chain_3-SD_Beta_is</th>\n",
       "      <th>chain_3-eBPis</th>\n",
       "      <th>chain_3-env</th>\n",
       "      <th>chain_4-COVARIABLE</th>\n",
       "      <th>chain_4-MRK</th>\n",
       "      <th>chain_4-M_Pearson</th>\n",
       "      <th>chain_4-SD_Pearson</th>\n",
       "      <th>chain_4-BF(dB)</th>\n",
       "      <th>chain_4-Beta_is</th>\n",
       "      <th>chain_4-SD_Beta_is</th>\n",
       "      <th>chain_4-eBPis</th>\n",
       "      <th>chain_4-env</th>\n",
       "      <th>chain_5-COVARIABLE</th>\n",
       "      <th>chain_5-MRK</th>\n",
       "      <th>chain_5-M_Pearson</th>\n",
       "      <th>chain_5-SD_Pearson</th>\n",
       "      <th>chain_5-BF(dB)</th>\n",
       "      <th>chain_5-Beta_is</th>\n",
       "      <th>chain_5-SD_Beta_is</th>\n",
       "      <th>chain_5-eBPis</th>\n",
       "      <th>chain_5-env</th>\n",
       "    </tr>\n",
       "    <tr>\n",
       "      <th></th>\n",
       "      <th></th>\n",
       "      <th></th>\n",
       "      <th></th>\n",
       "      <th></th>\n",
       "      <th></th>\n",
       "      <th></th>\n",
       "      <th></th>\n",
       "      <th></th>\n",
       "      <th></th>\n",
       "      <th></th>\n",
       "      <th></th>\n",
       "      <th></th>\n",
       "      <th></th>\n",
       "      <th></th>\n",
       "      <th></th>\n",
       "      <th></th>\n",
       "      <th></th>\n",
       "      <th></th>\n",
       "      <th></th>\n",
       "      <th></th>\n",
       "      <th></th>\n",
       "      <th></th>\n",
       "      <th></th>\n",
       "      <th></th>\n",
       "      <th></th>\n",
       "      <th></th>\n",
       "      <th></th>\n",
       "      <th></th>\n",
       "      <th></th>\n",
       "      <th></th>\n",
       "      <th></th>\n",
       "      <th></th>\n",
       "      <th></th>\n",
       "      <th></th>\n",
       "      <th></th>\n",
       "      <th></th>\n",
       "      <th></th>\n",
       "      <th></th>\n",
       "      <th></th>\n",
       "      <th></th>\n",
       "      <th></th>\n",
       "      <th></th>\n",
       "      <th></th>\n",
       "      <th></th>\n",
       "      <th></th>\n",
       "    </tr>\n",
       "  </thead>\n",
       "  <tbody>\n",
       "    <tr>\n",
       "      <th>jcf7190000000000-77657</th>\n",
       "      <td>17</td>\n",
       "      <td>1</td>\n",
       "      <td>0.019362</td>\n",
       "      <td>0.159456</td>\n",
       "      <td>-12.069102</td>\n",
       "      <td>0.001243</td>\n",
       "      <td>0.006569</td>\n",
       "      <td>0.070646</td>\n",
       "      <td>EXT</td>\n",
       "      <td>17</td>\n",
       "      <td>1</td>\n",
       "      <td>0.014799</td>\n",
       "      <td>0.162190</td>\n",
       "      <td>-9.800956</td>\n",
       "      <td>0.000909</td>\n",
       "      <td>0.006735</td>\n",
       "      <td>0.049343</td>\n",
       "      <td>EXT</td>\n",
       "      <td>17</td>\n",
       "      <td>1</td>\n",
       "      <td>0.021291</td>\n",
       "      <td>0.157260</td>\n",
       "      <td>-11.354296</td>\n",
       "      <td>0.001271</td>\n",
       "      <td>0.006476</td>\n",
       "      <td>0.073459</td>\n",
       "      <td>EXT</td>\n",
       "      <td>17</td>\n",
       "      <td>1</td>\n",
       "      <td>0.014622</td>\n",
       "      <td>0.160630</td>\n",
       "      <td>-10.964986</td>\n",
       "      <td>0.000896</td>\n",
       "      <td>0.006908</td>\n",
       "      <td>0.047312</td>\n",
       "      <td>EXT</td>\n",
       "      <td>17</td>\n",
       "      <td>1</td>\n",
       "      <td>0.012706</td>\n",
       "      <td>0.157225</td>\n",
       "      <td>-12.218243</td>\n",
       "      <td>0.000777</td>\n",
       "      <td>0.006316</td>\n",
       "      <td>0.044739</td>\n",
       "      <td>EXT</td>\n",
       "    </tr>\n",
       "    <tr>\n",
       "      <th>jcf7190000000000-77738</th>\n",
       "      <td>17</td>\n",
       "      <td>2</td>\n",
       "      <td>0.060888</td>\n",
       "      <td>0.158510</td>\n",
       "      <td>-9.452265</td>\n",
       "      <td>0.003698</td>\n",
       "      <td>0.008819</td>\n",
       "      <td>0.170710</td>\n",
       "      <td>EXT</td>\n",
       "      <td>17</td>\n",
       "      <td>2</td>\n",
       "      <td>0.047670</td>\n",
       "      <td>0.160155</td>\n",
       "      <td>-7.866868</td>\n",
       "      <td>0.002975</td>\n",
       "      <td>0.008699</td>\n",
       "      <td>0.135262</td>\n",
       "      <td>EXT</td>\n",
       "      <td>17</td>\n",
       "      <td>2</td>\n",
       "      <td>0.053496</td>\n",
       "      <td>0.157537</td>\n",
       "      <td>-9.102067</td>\n",
       "      <td>0.002986</td>\n",
       "      <td>0.008900</td>\n",
       "      <td>0.132373</td>\n",
       "      <td>EXT</td>\n",
       "      <td>17</td>\n",
       "      <td>2</td>\n",
       "      <td>0.067321</td>\n",
       "      <td>0.158435</td>\n",
       "      <td>-8.421890</td>\n",
       "      <td>0.004402</td>\n",
       "      <td>0.009590</td>\n",
       "      <td>0.189629</td>\n",
       "      <td>EXT</td>\n",
       "      <td>17</td>\n",
       "      <td>2</td>\n",
       "      <td>0.054547</td>\n",
       "      <td>0.159041</td>\n",
       "      <td>-10.146648</td>\n",
       "      <td>0.003565</td>\n",
       "      <td>0.009359</td>\n",
       "      <td>0.152881</td>\n",
       "      <td>EXT</td>\n",
       "    </tr>\n",
       "    <tr>\n",
       "      <th>jcf7190000000000-77764</th>\n",
       "      <td>17</td>\n",
       "      <td>3</td>\n",
       "      <td>-0.015506</td>\n",
       "      <td>0.143560</td>\n",
       "      <td>-11.221672</td>\n",
       "      <td>-0.000378</td>\n",
       "      <td>0.008814</td>\n",
       "      <td>0.015110</td>\n",
       "      <td>EXT</td>\n",
       "      <td>17</td>\n",
       "      <td>3</td>\n",
       "      <td>-0.020512</td>\n",
       "      <td>0.139933</td>\n",
       "      <td>-11.786993</td>\n",
       "      <td>-0.000133</td>\n",
       "      <td>0.008517</td>\n",
       "      <td>0.005462</td>\n",
       "      <td>EXT</td>\n",
       "      <td>17</td>\n",
       "      <td>3</td>\n",
       "      <td>-0.007376</td>\n",
       "      <td>0.150116</td>\n",
       "      <td>-11.459481</td>\n",
       "      <td>0.000071</td>\n",
       "      <td>0.008081</td>\n",
       "      <td>0.003048</td>\n",
       "      <td>EXT</td>\n",
       "      <td>17</td>\n",
       "      <td>3</td>\n",
       "      <td>-0.000931</td>\n",
       "      <td>0.150115</td>\n",
       "      <td>-10.826779</td>\n",
       "      <td>0.000672</td>\n",
       "      <td>0.009735</td>\n",
       "      <td>0.024582</td>\n",
       "      <td>EXT</td>\n",
       "      <td>17</td>\n",
       "      <td>3</td>\n",
       "      <td>-0.015933</td>\n",
       "      <td>0.140759</td>\n",
       "      <td>-11.198963</td>\n",
       "      <td>-0.000089</td>\n",
       "      <td>0.009476</td>\n",
       "      <td>0.003279</td>\n",
       "      <td>EXT</td>\n",
       "    </tr>\n",
       "    <tr>\n",
       "      <th>jcf7190000000004-54349</th>\n",
       "      <td>17</td>\n",
       "      <td>4</td>\n",
       "      <td>-0.062393</td>\n",
       "      <td>0.141759</td>\n",
       "      <td>-9.263959</td>\n",
       "      <td>-0.001494</td>\n",
       "      <td>0.013725</td>\n",
       "      <td>0.039383</td>\n",
       "      <td>EXT</td>\n",
       "      <td>17</td>\n",
       "      <td>4</td>\n",
       "      <td>-0.065407</td>\n",
       "      <td>0.144201</td>\n",
       "      <td>-8.824183</td>\n",
       "      <td>-0.001865</td>\n",
       "      <td>0.014367</td>\n",
       "      <td>0.047338</td>\n",
       "      <td>EXT</td>\n",
       "      <td>17</td>\n",
       "      <td>4</td>\n",
       "      <td>-0.075770</td>\n",
       "      <td>0.139716</td>\n",
       "      <td>-9.150425</td>\n",
       "      <td>-0.003149</td>\n",
       "      <td>0.013585</td>\n",
       "      <td>0.087930</td>\n",
       "      <td>EXT</td>\n",
       "      <td>17</td>\n",
       "      <td>4</td>\n",
       "      <td>-0.064868</td>\n",
       "      <td>0.141376</td>\n",
       "      <td>-9.394271</td>\n",
       "      <td>-0.001723</td>\n",
       "      <td>0.013681</td>\n",
       "      <td>0.045857</td>\n",
       "      <td>EXT</td>\n",
       "      <td>17</td>\n",
       "      <td>4</td>\n",
       "      <td>-0.075954</td>\n",
       "      <td>0.145148</td>\n",
       "      <td>-8.386927</td>\n",
       "      <td>-0.003074</td>\n",
       "      <td>0.014311</td>\n",
       "      <td>0.080967</td>\n",
       "      <td>EXT</td>\n",
       "    </tr>\n",
       "    <tr>\n",
       "      <th>jcf7190000000004-54418</th>\n",
       "      <td>17</td>\n",
       "      <td>5</td>\n",
       "      <td>-0.055208</td>\n",
       "      <td>0.142147</td>\n",
       "      <td>-10.166085</td>\n",
       "      <td>-0.001191</td>\n",
       "      <td>0.010593</td>\n",
       "      <td>0.040712</td>\n",
       "      <td>EXT</td>\n",
       "      <td>17</td>\n",
       "      <td>5</td>\n",
       "      <td>-0.047039</td>\n",
       "      <td>0.146919</td>\n",
       "      <td>-9.994096</td>\n",
       "      <td>-0.000614</td>\n",
       "      <td>0.011188</td>\n",
       "      <td>0.019437</td>\n",
       "      <td>EXT</td>\n",
       "      <td>17</td>\n",
       "      <td>5</td>\n",
       "      <td>-0.055885</td>\n",
       "      <td>0.145341</td>\n",
       "      <td>-10.218846</td>\n",
       "      <td>-0.001072</td>\n",
       "      <td>0.010522</td>\n",
       "      <td>0.036744</td>\n",
       "      <td>EXT</td>\n",
       "      <td>17</td>\n",
       "      <td>5</td>\n",
       "      <td>-0.063113</td>\n",
       "      <td>0.140475</td>\n",
       "      <td>-10.258999</td>\n",
       "      <td>-0.001573</td>\n",
       "      <td>0.010831</td>\n",
       "      <td>0.053301</td>\n",
       "      <td>EXT</td>\n",
       "      <td>17</td>\n",
       "      <td>5</td>\n",
       "      <td>-0.051421</td>\n",
       "      <td>0.146818</td>\n",
       "      <td>-10.113513</td>\n",
       "      <td>-0.000778</td>\n",
       "      <td>0.010882</td>\n",
       "      <td>0.025495</td>\n",
       "      <td>EXT</td>\n",
       "    </tr>\n",
       "  </tbody>\n",
       "</table>\n",
       "</div>"
      ],
      "text/plain": [
       "                        chain_1-COVARIABLE  chain_1-MRK  chain_1-M_Pearson  \\\n",
       "                                                                             \n",
       "jcf7190000000000-77657                  17            1           0.019362   \n",
       "jcf7190000000000-77738                  17            2           0.060888   \n",
       "jcf7190000000000-77764                  17            3          -0.015506   \n",
       "jcf7190000000004-54349                  17            4          -0.062393   \n",
       "jcf7190000000004-54418                  17            5          -0.055208   \n",
       "\n",
       "                        chain_1-SD_Pearson  chain_1-BF(dB)  chain_1-Beta_is  \\\n",
       "                                                                              \n",
       "jcf7190000000000-77657            0.159456      -12.069102         0.001243   \n",
       "jcf7190000000000-77738            0.158510       -9.452265         0.003698   \n",
       "jcf7190000000000-77764            0.143560      -11.221672        -0.000378   \n",
       "jcf7190000000004-54349            0.141759       -9.263959        -0.001494   \n",
       "jcf7190000000004-54418            0.142147      -10.166085        -0.001191   \n",
       "\n",
       "                        chain_1-SD_Beta_is  chain_1-eBPis chain_1-env  \\\n",
       "                                                                        \n",
       "jcf7190000000000-77657            0.006569       0.070646         EXT   \n",
       "jcf7190000000000-77738            0.008819       0.170710         EXT   \n",
       "jcf7190000000000-77764            0.008814       0.015110         EXT   \n",
       "jcf7190000000004-54349            0.013725       0.039383         EXT   \n",
       "jcf7190000000004-54418            0.010593       0.040712         EXT   \n",
       "\n",
       "                        chain_2-COVARIABLE  chain_2-MRK  chain_2-M_Pearson  \\\n",
       "                                                                             \n",
       "jcf7190000000000-77657                  17            1           0.014799   \n",
       "jcf7190000000000-77738                  17            2           0.047670   \n",
       "jcf7190000000000-77764                  17            3          -0.020512   \n",
       "jcf7190000000004-54349                  17            4          -0.065407   \n",
       "jcf7190000000004-54418                  17            5          -0.047039   \n",
       "\n",
       "                        chain_2-SD_Pearson  chain_2-BF(dB)  chain_2-Beta_is  \\\n",
       "                                                                              \n",
       "jcf7190000000000-77657            0.162190       -9.800956         0.000909   \n",
       "jcf7190000000000-77738            0.160155       -7.866868         0.002975   \n",
       "jcf7190000000000-77764            0.139933      -11.786993        -0.000133   \n",
       "jcf7190000000004-54349            0.144201       -8.824183        -0.001865   \n",
       "jcf7190000000004-54418            0.146919       -9.994096        -0.000614   \n",
       "\n",
       "                        chain_2-SD_Beta_is  chain_2-eBPis chain_2-env  \\\n",
       "                                                                        \n",
       "jcf7190000000000-77657            0.006735       0.049343         EXT   \n",
       "jcf7190000000000-77738            0.008699       0.135262         EXT   \n",
       "jcf7190000000000-77764            0.008517       0.005462         EXT   \n",
       "jcf7190000000004-54349            0.014367       0.047338         EXT   \n",
       "jcf7190000000004-54418            0.011188       0.019437         EXT   \n",
       "\n",
       "                        chain_3-COVARIABLE  chain_3-MRK  chain_3-M_Pearson  \\\n",
       "                                                                             \n",
       "jcf7190000000000-77657                  17            1           0.021291   \n",
       "jcf7190000000000-77738                  17            2           0.053496   \n",
       "jcf7190000000000-77764                  17            3          -0.007376   \n",
       "jcf7190000000004-54349                  17            4          -0.075770   \n",
       "jcf7190000000004-54418                  17            5          -0.055885   \n",
       "\n",
       "                        chain_3-SD_Pearson  chain_3-BF(dB)  chain_3-Beta_is  \\\n",
       "                                                                              \n",
       "jcf7190000000000-77657            0.157260      -11.354296         0.001271   \n",
       "jcf7190000000000-77738            0.157537       -9.102067         0.002986   \n",
       "jcf7190000000000-77764            0.150116      -11.459481         0.000071   \n",
       "jcf7190000000004-54349            0.139716       -9.150425        -0.003149   \n",
       "jcf7190000000004-54418            0.145341      -10.218846        -0.001072   \n",
       "\n",
       "                        chain_3-SD_Beta_is  chain_3-eBPis chain_3-env  \\\n",
       "                                                                        \n",
       "jcf7190000000000-77657            0.006476       0.073459         EXT   \n",
       "jcf7190000000000-77738            0.008900       0.132373         EXT   \n",
       "jcf7190000000000-77764            0.008081       0.003048         EXT   \n",
       "jcf7190000000004-54349            0.013585       0.087930         EXT   \n",
       "jcf7190000000004-54418            0.010522       0.036744         EXT   \n",
       "\n",
       "                        chain_4-COVARIABLE  chain_4-MRK  chain_4-M_Pearson  \\\n",
       "                                                                             \n",
       "jcf7190000000000-77657                  17            1           0.014622   \n",
       "jcf7190000000000-77738                  17            2           0.067321   \n",
       "jcf7190000000000-77764                  17            3          -0.000931   \n",
       "jcf7190000000004-54349                  17            4          -0.064868   \n",
       "jcf7190000000004-54418                  17            5          -0.063113   \n",
       "\n",
       "                        chain_4-SD_Pearson  chain_4-BF(dB)  chain_4-Beta_is  \\\n",
       "                                                                              \n",
       "jcf7190000000000-77657            0.160630      -10.964986         0.000896   \n",
       "jcf7190000000000-77738            0.158435       -8.421890         0.004402   \n",
       "jcf7190000000000-77764            0.150115      -10.826779         0.000672   \n",
       "jcf7190000000004-54349            0.141376       -9.394271        -0.001723   \n",
       "jcf7190000000004-54418            0.140475      -10.258999        -0.001573   \n",
       "\n",
       "                        chain_4-SD_Beta_is  chain_4-eBPis chain_4-env  \\\n",
       "                                                                        \n",
       "jcf7190000000000-77657            0.006908       0.047312         EXT   \n",
       "jcf7190000000000-77738            0.009590       0.189629         EXT   \n",
       "jcf7190000000000-77764            0.009735       0.024582         EXT   \n",
       "jcf7190000000004-54349            0.013681       0.045857         EXT   \n",
       "jcf7190000000004-54418            0.010831       0.053301         EXT   \n",
       "\n",
       "                        chain_5-COVARIABLE  chain_5-MRK  chain_5-M_Pearson  \\\n",
       "                                                                             \n",
       "jcf7190000000000-77657                  17            1           0.012706   \n",
       "jcf7190000000000-77738                  17            2           0.054547   \n",
       "jcf7190000000000-77764                  17            3          -0.015933   \n",
       "jcf7190000000004-54349                  17            4          -0.075954   \n",
       "jcf7190000000004-54418                  17            5          -0.051421   \n",
       "\n",
       "                        chain_5-SD_Pearson  chain_5-BF(dB)  chain_5-Beta_is  \\\n",
       "                                                                              \n",
       "jcf7190000000000-77657            0.157225      -12.218243         0.000777   \n",
       "jcf7190000000000-77738            0.159041      -10.146648         0.003565   \n",
       "jcf7190000000000-77764            0.140759      -11.198963        -0.000089   \n",
       "jcf7190000000004-54349            0.145148       -8.386927        -0.003074   \n",
       "jcf7190000000004-54418            0.146818      -10.113513        -0.000778   \n",
       "\n",
       "                        chain_5-SD_Beta_is  chain_5-eBPis chain_5-env  \n",
       "                                                                       \n",
       "jcf7190000000000-77657            0.006316       0.044739         EXT  \n",
       "jcf7190000000000-77738            0.009359       0.152881         EXT  \n",
       "jcf7190000000000-77764            0.009476       0.003279         EXT  \n",
       "jcf7190000000004-54349            0.014311       0.080967         EXT  \n",
       "jcf7190000000004-54418            0.010882       0.025495         EXT  "
      ]
     },
     "execution_count": 16,
     "metadata": {},
     "output_type": "execute_result"
    }
   ],
   "source": [
    "# concatenate environmental output by each env, combine chains into single df\n",
    "dflst = {}\n",
    "for chain,envs in envlist.items():\n",
    "    for env,dfs in nb(envs.items(), desc=chain):\n",
    "        if env not in dflst:\n",
    "            dflst[env] = []\n",
    "        df = pd.concat(dfs)\n",
    "        df.columns = [f\"{chain}-{col}\" for col in df.columns]\n",
    "        dflst[env].append(df)\n",
    "# combine chains for each env - should have done this in parallel\n",
    "envdfs = {}\n",
    "for env,lst in nb(dflst.items(), desc='combo'):\n",
    "    assert len(lst) == 5\n",
    "    df = pd.merge(lst[0], lst[1], left_index=True, right_index=True)\n",
    "    df2 = pd.merge(lst[2], lst[3], left_index=True, right_index=True)\n",
    "    df3 = pd.merge(df, df2, left_index=True, right_index=True)\n",
    "    envdfs[env] = pd.merge(df3, lst[4], left_index=True, right_index=True)\n",
    "    \n",
    "    \n",
    "envdfs[env].head()           "
   ]
  },
  {
   "cell_type": "code",
   "execution_count": 17,
   "metadata": {},
   "outputs": [
    {
     "name": "stderr",
     "output_type": "stream",
     "text": [
      "100%|██████████| 1798/1798 [00:07<00:00, 228.13it/s]\n"
     ]
    },
    {
     "data": {
      "text/plain": [
       "2696227"
      ]
     },
     "execution_count": 17,
     "metadata": {},
     "output_type": "execute_result"
    }
   ],
   "source": [
    "# how many SNPs should be in each env file?\n",
    "# read in each of the gfiles and sum rows\n",
    "rows = 0\n",
    "for gfile in nb(fs(gfile_dir, pattern='noheaderidx.txt')):\n",
    "    df = pd.read_table(gfile, usecols=[0], header=None)\n",
    "    rows += nrow(df)\n",
    "rows"
   ]
  },
  {
   "cell_type": "code",
   "execution_count": 18,
   "metadata": {},
   "outputs": [
    {
     "name": "stdout",
     "output_type": "stream",
     "text": [
      "\u001b[1mDD_0\u001b[0m\n",
      "\t DD_0 2696227\n",
      "\u001b[1mFFP\u001b[0m\n",
      "\t FFP 2696227\n",
      "\u001b[1mSHM\u001b[0m\n",
      "\t SHM 2696227\n",
      "\u001b[1mTD\u001b[0m\n",
      "\t TD 2696227\n",
      "\u001b[1mAHM\u001b[0m\n",
      "\t AHM 2696227\n",
      "\u001b[1mMWMT\u001b[0m\n",
      "\t MWMT 2696227\n",
      "\u001b[1mMCMT\u001b[0m\n",
      "\t MCMT 2696227\n",
      "\u001b[1mMSP\u001b[0m\n",
      "\t MSP 2696227\n",
      "\u001b[1mEref\u001b[0m\n",
      "\t Eref 2696227\n",
      "\u001b[1mNFFD\u001b[0m\n",
      "\t NFFD 2696227\n",
      "\u001b[1mDD5\u001b[0m\n",
      "\t DD5 2696227\n",
      "\u001b[1meFFP\u001b[0m\n",
      "\t eFFP 2696227\n",
      "\u001b[1mCMD\u001b[0m\n",
      "\t CMD 2696227\n",
      "\u001b[1mMAP\u001b[0m\n",
      "\t MAP 2696227\n",
      "\u001b[1mPAS\u001b[0m\n",
      "\t PAS 2696227\n",
      "\u001b[1mbFFP\u001b[0m\n",
      "\t bFFP 2696227\n",
      "\u001b[1mMAT\u001b[0m\n",
      "\t MAT 2696227\n",
      "\u001b[1mEMT\u001b[0m\n",
      "\t EMT 2696227\n",
      "\u001b[1mEXT\u001b[0m\n",
      "\t EXT 2696227\n"
     ]
    }
   ],
   "source": [
    "# assert each env has the expected number of rows (SNPs)\n",
    "for env in envdfs:\n",
    "    print(ColorText(env).bold())\n",
    "    print('\\t',env, nrow(envdfs[env]))\n",
    "    if nrow(envdfs[env]) != rows:\n",
    "        print(ColorText('CRAAAAAAAAAP').fail().bold())"
   ]
  },
  {
   "cell_type": "code",
   "execution_count": null,
   "metadata": {},
   "outputs": [],
   "source": [
    "# release some RAM\n",
    "del dflst, chaindfs, df, df2, df3, dfs, envlist, jobs"
   ]
  },
  {
   "cell_type": "markdown",
   "metadata": {},
   "source": [
    "# make columns for ranking\n",
    "\n",
    "I didn't need to rank here, since I remove new REPEATS and add new SNPs below and re-rank afterwards"
   ]
  },
  {
   "cell_type": "code",
   "execution_count": 43,
   "metadata": {},
   "outputs": [],
   "source": [
    "finaldir = makedir(op.join(baydir, 'final_results'))"
   ]
  },
  {
   "cell_type": "code",
   "execution_count": 81,
   "metadata": {},
   "outputs": [
    {
     "name": "stdout",
     "output_type": "stream",
     "text": [
      "56 56\n"
     ]
    }
   ],
   "source": [
    "lview,dview = get_client()"
   ]
  },
  {
   "cell_type": "code",
   "execution_count": 7,
   "metadata": {},
   "outputs": [],
   "source": [
    "def rank_baypass(df):\n",
    "    \"\"\"Create columns to rank loci within and across chains.\"\"\"\n",
    "    import pandas\n",
    "    import tqdm\n",
    "    import math\n",
    "    chains = ['chain_1', 'chain_2', 'chain_3', 'chain_4', 'chain_5']\n",
    "\n",
    "    # rank per chain based on chain BF\n",
    "    for chain in tqdm.tqdm(chains, desc='chains'):\n",
    "        col = f'{chain}-BF(dB)'\n",
    "        colBF = df[col].apply(lambda x: 10**(x/10))  # convert deciban to BF\n",
    "        ranked = dict((locus,rank+1) for (rank,locus) in enumerate(colBF.sort_values(ascending=False).index))\n",
    "        df[f'rank_{chain}-BF'] = [ranked[locus] for locus in df.index]\n",
    "\n",
    "    # mean BF\n",
    "    print('getting mean BF')\n",
    "    bfcols = [col for col in df if 'BF(dB)' in col and col.startswith('chain')]\n",
    "    print(bfcols)\n",
    "    assert len(bfcols) == 5  # 5 chains\n",
    "    mean_BF_dB = df[bfcols].mean(axis=1)\n",
    "    df['mean_BF'] = mean_BF_dB.apply(lambda x: 10**(x/10))  # convert deciban to BF\n",
    "\n",
    "    # rank of mean BF\n",
    "    print('ranking mean BF')\n",
    "    ranked = dict((locus,rank+1) for (rank,locus) in enumerate(df['mean_BF'].sort_values(ascending=False).index))\n",
    "    df['rank_mean_BF'] = [ranked[locus] for locus in df.index]\n",
    "    \n",
    "    # bool column, enter True if BF >= 20 for >=3 chains, and BF >= 15 for >= 3 chains\n",
    "    # BF column is in dB units, value output by baypass = 10*log10(BF)\n",
    "    print('calculating bool column')\n",
    "    df['BF_gte20_for-gte3chains'] = (df[bfcols] >= 10*math.log10(20)).sum(axis=1) >= 3\n",
    "    df['BF_gte15_for-gte3chains'] = (df[bfcols] >= 10*math.log10(15)).sum(axis=1) >= 3\n",
    "    print(sum((df[bfcols] > 10*math.log10(20)).sum(axis=1) > 3))\n",
    "\n",
    "    return df"
   ]
  },
  {
   "cell_type": "code",
   "execution_count": 31,
   "metadata": {},
   "outputs": [
    {
     "name": "stdout",
     "output_type": "stream",
     "text": [
      "56 56\n"
     ]
    }
   ],
   "source": [
    "lview,dview = get_client()"
   ]
  },
  {
   "cell_type": "code",
   "execution_count": 32,
   "metadata": {},
   "outputs": [
    {
     "name": "stdout",
     "output_type": "stream",
     "text": [
      "\u001b[1m\n",
      "Watching 19 jobs ...\u001b[0m\n"
     ]
    },
    {
     "name": "stderr",
     "output_type": "stream",
     "text": [
      "100%|██████████| 19/19 [00:41<00:00,  2.19s/it]\n"
     ]
    }
   ],
   "source": [
    "# call rank_baypass() in parallel for each environment\n",
    "jobs = []\n",
    "for env,df in envdfs.items():\n",
    "    bfcols = [col for col in df.columns if 'BF(dB)' in col and col.startswith('chain')]\n",
    "    assert len(bfcols) == 5  # num chains\n",
    "    jobs.append(lview.apply_async(rank_baypass, df[bfcols]))\n",
    "watch_async(jobs)"
   ]
  },
  {
   "cell_type": "code",
   "execution_count": 33,
   "metadata": {},
   "outputs": [
    {
     "data": {
      "text/html": [
       "<div>\n",
       "<style scoped>\n",
       "    .dataframe tbody tr th:only-of-type {\n",
       "        vertical-align: middle;\n",
       "    }\n",
       "\n",
       "    .dataframe tbody tr th {\n",
       "        vertical-align: top;\n",
       "    }\n",
       "\n",
       "    .dataframe thead th {\n",
       "        text-align: right;\n",
       "    }\n",
       "</style>\n",
       "<table border=\"1\" class=\"dataframe\">\n",
       "  <thead>\n",
       "    <tr style=\"text-align: right;\">\n",
       "      <th></th>\n",
       "      <th>chain_1-BF(dB)</th>\n",
       "      <th>chain_2-BF(dB)</th>\n",
       "      <th>chain_3-BF(dB)</th>\n",
       "      <th>chain_4-BF(dB)</th>\n",
       "      <th>chain_5-BF(dB)</th>\n",
       "      <th>rank_chain_1-BF(dB)</th>\n",
       "      <th>rank_chain_2-BF(dB)</th>\n",
       "      <th>rank_chain_3-BF(dB)</th>\n",
       "      <th>rank_chain_4-BF(dB)</th>\n",
       "      <th>rank_chain_5-BF(dB)</th>\n",
       "      <th>mean_BF(dB)</th>\n",
       "      <th>rank_mean_BF(dB)</th>\n",
       "      <th>BF(dB)_gte20_for-gte3chains</th>\n",
       "      <th>BF(dB)_gte15_for-gte3chains</th>\n",
       "    </tr>\n",
       "    <tr>\n",
       "      <th></th>\n",
       "      <th></th>\n",
       "      <th></th>\n",
       "      <th></th>\n",
       "      <th></th>\n",
       "      <th></th>\n",
       "      <th></th>\n",
       "      <th></th>\n",
       "      <th></th>\n",
       "      <th></th>\n",
       "      <th></th>\n",
       "      <th></th>\n",
       "      <th></th>\n",
       "      <th></th>\n",
       "      <th></th>\n",
       "    </tr>\n",
       "  </thead>\n",
       "  <tbody>\n",
       "    <tr>\n",
       "      <th>jcf7190000000000-77657</th>\n",
       "      <td>-12.069102</td>\n",
       "      <td>-9.800956</td>\n",
       "      <td>-11.354296</td>\n",
       "      <td>-10.964986</td>\n",
       "      <td>-12.218243</td>\n",
       "      <td>2042787</td>\n",
       "      <td>1180345</td>\n",
       "      <td>1813140</td>\n",
       "      <td>1671019</td>\n",
       "      <td>2085473</td>\n",
       "      <td>-11.281517</td>\n",
       "      <td>1796259</td>\n",
       "      <td>False</td>\n",
       "      <td>False</td>\n",
       "    </tr>\n",
       "    <tr>\n",
       "      <th>jcf7190000000000-77738</th>\n",
       "      <td>-9.452265</td>\n",
       "      <td>-7.866868</td>\n",
       "      <td>-9.102067</td>\n",
       "      <td>-8.421890</td>\n",
       "      <td>-10.146648</td>\n",
       "      <td>1036424</td>\n",
       "      <td>588863</td>\n",
       "      <td>905649</td>\n",
       "      <td>707317</td>\n",
       "      <td>1331789</td>\n",
       "      <td>-8.997948</td>\n",
       "      <td>871710</td>\n",
       "      <td>False</td>\n",
       "      <td>False</td>\n",
       "    </tr>\n",
       "    <tr>\n",
       "      <th>jcf7190000000000-77764</th>\n",
       "      <td>-11.221672</td>\n",
       "      <td>-11.786993</td>\n",
       "      <td>-11.459481</td>\n",
       "      <td>-10.826779</td>\n",
       "      <td>-11.198963</td>\n",
       "      <td>1766256</td>\n",
       "      <td>1956936</td>\n",
       "      <td>1849384</td>\n",
       "      <td>1617782</td>\n",
       "      <td>1756806</td>\n",
       "      <td>-11.298777</td>\n",
       "      <td>1802400</td>\n",
       "      <td>False</td>\n",
       "      <td>False</td>\n",
       "    </tr>\n",
       "    <tr>\n",
       "      <th>jcf7190000000004-54349</th>\n",
       "      <td>-9.263959</td>\n",
       "      <td>-8.824183</td>\n",
       "      <td>-9.150425</td>\n",
       "      <td>-9.394271</td>\n",
       "      <td>-8.386927</td>\n",
       "      <td>963380</td>\n",
       "      <td>815623</td>\n",
       "      <td>922527</td>\n",
       "      <td>1013050</td>\n",
       "      <td>698765</td>\n",
       "      <td>-9.003953</td>\n",
       "      <td>873682</td>\n",
       "      <td>False</td>\n",
       "      <td>False</td>\n",
       "    </tr>\n",
       "    <tr>\n",
       "      <th>jcf7190000000004-54418</th>\n",
       "      <td>-10.166085</td>\n",
       "      <td>-9.994096</td>\n",
       "      <td>-10.218846</td>\n",
       "      <td>-10.258999</td>\n",
       "      <td>-10.113513</td>\n",
       "      <td>1341111</td>\n",
       "      <td>1264717</td>\n",
       "      <td>1363929</td>\n",
       "      <td>1382077</td>\n",
       "      <td>1317438</td>\n",
       "      <td>-10.150308</td>\n",
       "      <td>1343037</td>\n",
       "      <td>False</td>\n",
       "      <td>False</td>\n",
       "    </tr>\n",
       "  </tbody>\n",
       "</table>\n",
       "</div>"
      ],
      "text/plain": [
       "                        chain_1-BF(dB)  chain_2-BF(dB)  chain_3-BF(dB)  \\\n",
       "                                                                         \n",
       "jcf7190000000000-77657      -12.069102       -9.800956      -11.354296   \n",
       "jcf7190000000000-77738       -9.452265       -7.866868       -9.102067   \n",
       "jcf7190000000000-77764      -11.221672      -11.786993      -11.459481   \n",
       "jcf7190000000004-54349       -9.263959       -8.824183       -9.150425   \n",
       "jcf7190000000004-54418      -10.166085       -9.994096      -10.218846   \n",
       "\n",
       "                        chain_4-BF(dB)  chain_5-BF(dB)  rank_chain_1-BF(dB)  \\\n",
       "                                                                              \n",
       "jcf7190000000000-77657      -10.964986      -12.218243              2042787   \n",
       "jcf7190000000000-77738       -8.421890      -10.146648              1036424   \n",
       "jcf7190000000000-77764      -10.826779      -11.198963              1766256   \n",
       "jcf7190000000004-54349       -9.394271       -8.386927               963380   \n",
       "jcf7190000000004-54418      -10.258999      -10.113513              1341111   \n",
       "\n",
       "                        rank_chain_2-BF(dB)  rank_chain_3-BF(dB)  \\\n",
       "                                                                   \n",
       "jcf7190000000000-77657              1180345              1813140   \n",
       "jcf7190000000000-77738               588863               905649   \n",
       "jcf7190000000000-77764              1956936              1849384   \n",
       "jcf7190000000004-54349               815623               922527   \n",
       "jcf7190000000004-54418              1264717              1363929   \n",
       "\n",
       "                        rank_chain_4-BF(dB)  rank_chain_5-BF(dB)  mean_BF(dB)  \\\n",
       "                                                                                \n",
       "jcf7190000000000-77657              1671019              2085473   -11.281517   \n",
       "jcf7190000000000-77738               707317              1331789    -8.997948   \n",
       "jcf7190000000000-77764              1617782              1756806   -11.298777   \n",
       "jcf7190000000004-54349              1013050               698765    -9.003953   \n",
       "jcf7190000000004-54418              1382077              1317438   -10.150308   \n",
       "\n",
       "                        rank_mean_BF(dB)  BF(dB)_gte20_for-gte3chains  \\\n",
       "                                                                        \n",
       "jcf7190000000000-77657           1796259                        False   \n",
       "jcf7190000000000-77738            871710                        False   \n",
       "jcf7190000000000-77764           1802400                        False   \n",
       "jcf7190000000004-54349            873682                        False   \n",
       "jcf7190000000004-54418           1343037                        False   \n",
       "\n",
       "                        BF(dB)_gte15_for-gte3chains  \n",
       "                                                     \n",
       "jcf7190000000000-77657                        False  \n",
       "jcf7190000000000-77738                        False  \n",
       "jcf7190000000000-77764                        False  \n",
       "jcf7190000000004-54349                        False  \n",
       "jcf7190000000004-54418                        False  "
      ]
     },
     "execution_count": 33,
     "metadata": {},
     "output_type": "execute_result"
    }
   ],
   "source": [
    "# get the returns from the engines\n",
    "new_envdfs = {}\n",
    "for i,env in enumerate(envdfs):\n",
    "    new_envdfs[env] = jobs[i].r\n",
    "new_envdfs[env].head()    "
   ]
  },
  {
   "cell_type": "code",
   "execution_count": 34,
   "metadata": {},
   "outputs": [
    {
     "name": "stdout",
     "output_type": "stream",
     "text": [
      "EXT\n"
     ]
    },
    {
     "data": {
      "text/html": [
       "<div>\n",
       "<style scoped>\n",
       "    .dataframe tbody tr th:only-of-type {\n",
       "        vertical-align: middle;\n",
       "    }\n",
       "\n",
       "    .dataframe tbody tr th {\n",
       "        vertical-align: top;\n",
       "    }\n",
       "\n",
       "    .dataframe thead th {\n",
       "        text-align: right;\n",
       "    }\n",
       "</style>\n",
       "<table border=\"1\" class=\"dataframe\">\n",
       "  <thead>\n",
       "    <tr style=\"text-align: right;\">\n",
       "      <th></th>\n",
       "      <th>chain_1-COVARIABLE</th>\n",
       "      <th>chain_1-MRK</th>\n",
       "      <th>chain_1-M_Pearson</th>\n",
       "      <th>chain_1-SD_Pearson</th>\n",
       "      <th>chain_1-BF(dB)</th>\n",
       "      <th>chain_1-Beta_is</th>\n",
       "      <th>chain_1-SD_Beta_is</th>\n",
       "      <th>chain_1-eBPis</th>\n",
       "      <th>chain_1-env</th>\n",
       "      <th>chain_2-COVARIABLE</th>\n",
       "      <th>chain_2-MRK</th>\n",
       "      <th>chain_2-M_Pearson</th>\n",
       "      <th>chain_2-SD_Pearson</th>\n",
       "      <th>chain_2-BF(dB)</th>\n",
       "      <th>chain_2-Beta_is</th>\n",
       "      <th>chain_2-SD_Beta_is</th>\n",
       "      <th>chain_2-eBPis</th>\n",
       "      <th>chain_2-env</th>\n",
       "      <th>chain_3-COVARIABLE</th>\n",
       "      <th>chain_3-MRK</th>\n",
       "      <th>chain_3-M_Pearson</th>\n",
       "      <th>chain_3-SD_Pearson</th>\n",
       "      <th>chain_3-BF(dB)</th>\n",
       "      <th>chain_3-Beta_is</th>\n",
       "      <th>chain_3-SD_Beta_is</th>\n",
       "      <th>chain_3-eBPis</th>\n",
       "      <th>chain_3-env</th>\n",
       "      <th>chain_4-COVARIABLE</th>\n",
       "      <th>chain_4-MRK</th>\n",
       "      <th>chain_4-M_Pearson</th>\n",
       "      <th>chain_4-SD_Pearson</th>\n",
       "      <th>chain_4-BF(dB)</th>\n",
       "      <th>chain_4-Beta_is</th>\n",
       "      <th>chain_4-SD_Beta_is</th>\n",
       "      <th>chain_4-eBPis</th>\n",
       "      <th>chain_4-env</th>\n",
       "      <th>chain_5-COVARIABLE</th>\n",
       "      <th>chain_5-MRK</th>\n",
       "      <th>chain_5-M_Pearson</th>\n",
       "      <th>chain_5-SD_Pearson</th>\n",
       "      <th>chain_5-BF(dB)</th>\n",
       "      <th>chain_5-Beta_is</th>\n",
       "      <th>chain_5-SD_Beta_is</th>\n",
       "      <th>chain_5-eBPis</th>\n",
       "      <th>chain_5-env</th>\n",
       "      <th>rank_chain_1-BF(dB)</th>\n",
       "      <th>rank_chain_2-BF(dB)</th>\n",
       "      <th>rank_chain_3-BF(dB)</th>\n",
       "      <th>rank_chain_4-BF(dB)</th>\n",
       "      <th>rank_chain_5-BF(dB)</th>\n",
       "      <th>mean_BF(dB)</th>\n",
       "      <th>rank_mean_BF(dB)</th>\n",
       "      <th>BF(dB)_gte20_for-gte3chains</th>\n",
       "      <th>rank_consistency_top1perc_for-gte3chains</th>\n",
       "      <th>BF(dB)_gte15_for-gte3chains</th>\n",
       "    </tr>\n",
       "    <tr>\n",
       "      <th></th>\n",
       "      <th></th>\n",
       "      <th></th>\n",
       "      <th></th>\n",
       "      <th></th>\n",
       "      <th></th>\n",
       "      <th></th>\n",
       "      <th></th>\n",
       "      <th></th>\n",
       "      <th></th>\n",
       "      <th></th>\n",
       "      <th></th>\n",
       "      <th></th>\n",
       "      <th></th>\n",
       "      <th></th>\n",
       "      <th></th>\n",
       "      <th></th>\n",
       "      <th></th>\n",
       "      <th></th>\n",
       "      <th></th>\n",
       "      <th></th>\n",
       "      <th></th>\n",
       "      <th></th>\n",
       "      <th></th>\n",
       "      <th></th>\n",
       "      <th></th>\n",
       "      <th></th>\n",
       "      <th></th>\n",
       "      <th></th>\n",
       "      <th></th>\n",
       "      <th></th>\n",
       "      <th></th>\n",
       "      <th></th>\n",
       "      <th></th>\n",
       "      <th></th>\n",
       "      <th></th>\n",
       "      <th></th>\n",
       "      <th></th>\n",
       "      <th></th>\n",
       "      <th></th>\n",
       "      <th></th>\n",
       "      <th></th>\n",
       "      <th></th>\n",
       "      <th></th>\n",
       "      <th></th>\n",
       "      <th></th>\n",
       "      <th></th>\n",
       "      <th></th>\n",
       "      <th></th>\n",
       "      <th></th>\n",
       "      <th></th>\n",
       "      <th></th>\n",
       "      <th></th>\n",
       "      <th></th>\n",
       "      <th></th>\n",
       "      <th></th>\n",
       "    </tr>\n",
       "  </thead>\n",
       "  <tbody>\n",
       "    <tr>\n",
       "      <th>jcf7190000000000-77657</th>\n",
       "      <td>17</td>\n",
       "      <td>1</td>\n",
       "      <td>0.019362</td>\n",
       "      <td>0.159456</td>\n",
       "      <td>-12.069102</td>\n",
       "      <td>0.001243</td>\n",
       "      <td>0.006569</td>\n",
       "      <td>0.070646</td>\n",
       "      <td>EXT</td>\n",
       "      <td>17</td>\n",
       "      <td>1</td>\n",
       "      <td>0.014799</td>\n",
       "      <td>0.162190</td>\n",
       "      <td>-9.800956</td>\n",
       "      <td>0.000909</td>\n",
       "      <td>0.006735</td>\n",
       "      <td>0.049343</td>\n",
       "      <td>EXT</td>\n",
       "      <td>17</td>\n",
       "      <td>1</td>\n",
       "      <td>0.021291</td>\n",
       "      <td>0.157260</td>\n",
       "      <td>-11.354296</td>\n",
       "      <td>0.001271</td>\n",
       "      <td>0.006476</td>\n",
       "      <td>0.073459</td>\n",
       "      <td>EXT</td>\n",
       "      <td>17</td>\n",
       "      <td>1</td>\n",
       "      <td>0.014622</td>\n",
       "      <td>0.160630</td>\n",
       "      <td>-10.964986</td>\n",
       "      <td>0.000896</td>\n",
       "      <td>0.006908</td>\n",
       "      <td>0.047312</td>\n",
       "      <td>EXT</td>\n",
       "      <td>17</td>\n",
       "      <td>1</td>\n",
       "      <td>0.012706</td>\n",
       "      <td>0.157225</td>\n",
       "      <td>-12.218243</td>\n",
       "      <td>0.000777</td>\n",
       "      <td>0.006316</td>\n",
       "      <td>0.044739</td>\n",
       "      <td>EXT</td>\n",
       "      <td>2057173</td>\n",
       "      <td>1189016</td>\n",
       "      <td>1826070</td>\n",
       "      <td>1683050</td>\n",
       "      <td>2100187</td>\n",
       "      <td>-11.281517</td>\n",
       "      <td>1809088</td>\n",
       "      <td>False</td>\n",
       "      <td>False</td>\n",
       "      <td>False</td>\n",
       "    </tr>\n",
       "    <tr>\n",
       "      <th>jcf7190000000000-77738</th>\n",
       "      <td>17</td>\n",
       "      <td>2</td>\n",
       "      <td>0.060888</td>\n",
       "      <td>0.158510</td>\n",
       "      <td>-9.452265</td>\n",
       "      <td>0.003698</td>\n",
       "      <td>0.008819</td>\n",
       "      <td>0.170710</td>\n",
       "      <td>EXT</td>\n",
       "      <td>17</td>\n",
       "      <td>2</td>\n",
       "      <td>0.047670</td>\n",
       "      <td>0.160155</td>\n",
       "      <td>-7.866868</td>\n",
       "      <td>0.002975</td>\n",
       "      <td>0.008699</td>\n",
       "      <td>0.135262</td>\n",
       "      <td>EXT</td>\n",
       "      <td>17</td>\n",
       "      <td>2</td>\n",
       "      <td>0.053496</td>\n",
       "      <td>0.157537</td>\n",
       "      <td>-9.102067</td>\n",
       "      <td>0.002986</td>\n",
       "      <td>0.008900</td>\n",
       "      <td>0.132373</td>\n",
       "      <td>EXT</td>\n",
       "      <td>17</td>\n",
       "      <td>2</td>\n",
       "      <td>0.067321</td>\n",
       "      <td>0.158435</td>\n",
       "      <td>-8.421890</td>\n",
       "      <td>0.004402</td>\n",
       "      <td>0.009590</td>\n",
       "      <td>0.189629</td>\n",
       "      <td>EXT</td>\n",
       "      <td>17</td>\n",
       "      <td>2</td>\n",
       "      <td>0.054547</td>\n",
       "      <td>0.159041</td>\n",
       "      <td>-10.146648</td>\n",
       "      <td>0.003565</td>\n",
       "      <td>0.009359</td>\n",
       "      <td>0.152881</td>\n",
       "      <td>EXT</td>\n",
       "      <td>1044027</td>\n",
       "      <td>593072</td>\n",
       "      <td>912239</td>\n",
       "      <td>712394</td>\n",
       "      <td>1341467</td>\n",
       "      <td>-8.997948</td>\n",
       "      <td>878065</td>\n",
       "      <td>False</td>\n",
       "      <td>False</td>\n",
       "      <td>False</td>\n",
       "    </tr>\n",
       "    <tr>\n",
       "      <th>jcf7190000000000-77764</th>\n",
       "      <td>17</td>\n",
       "      <td>3</td>\n",
       "      <td>-0.015506</td>\n",
       "      <td>0.143560</td>\n",
       "      <td>-11.221672</td>\n",
       "      <td>-0.000378</td>\n",
       "      <td>0.008814</td>\n",
       "      <td>0.015110</td>\n",
       "      <td>EXT</td>\n",
       "      <td>17</td>\n",
       "      <td>3</td>\n",
       "      <td>-0.020512</td>\n",
       "      <td>0.139933</td>\n",
       "      <td>-11.786993</td>\n",
       "      <td>-0.000133</td>\n",
       "      <td>0.008517</td>\n",
       "      <td>0.005462</td>\n",
       "      <td>EXT</td>\n",
       "      <td>17</td>\n",
       "      <td>3</td>\n",
       "      <td>-0.007376</td>\n",
       "      <td>0.150116</td>\n",
       "      <td>-11.459481</td>\n",
       "      <td>0.000071</td>\n",
       "      <td>0.008081</td>\n",
       "      <td>0.003048</td>\n",
       "      <td>EXT</td>\n",
       "      <td>17</td>\n",
       "      <td>3</td>\n",
       "      <td>-0.000931</td>\n",
       "      <td>0.150115</td>\n",
       "      <td>-10.826779</td>\n",
       "      <td>0.000672</td>\n",
       "      <td>0.009735</td>\n",
       "      <td>0.024582</td>\n",
       "      <td>EXT</td>\n",
       "      <td>17</td>\n",
       "      <td>3</td>\n",
       "      <td>-0.015933</td>\n",
       "      <td>0.140759</td>\n",
       "      <td>-11.198963</td>\n",
       "      <td>-0.000089</td>\n",
       "      <td>0.009476</td>\n",
       "      <td>0.003279</td>\n",
       "      <td>EXT</td>\n",
       "      <td>1778900</td>\n",
       "      <td>1970759</td>\n",
       "      <td>1862526</td>\n",
       "      <td>1629436</td>\n",
       "      <td>1769377</td>\n",
       "      <td>-11.298777</td>\n",
       "      <td>1815274</td>\n",
       "      <td>False</td>\n",
       "      <td>False</td>\n",
       "      <td>False</td>\n",
       "    </tr>\n",
       "    <tr>\n",
       "      <th>jcf7190000000004-54349</th>\n",
       "      <td>17</td>\n",
       "      <td>4</td>\n",
       "      <td>-0.062393</td>\n",
       "      <td>0.141759</td>\n",
       "      <td>-9.263959</td>\n",
       "      <td>-0.001494</td>\n",
       "      <td>0.013725</td>\n",
       "      <td>0.039383</td>\n",
       "      <td>EXT</td>\n",
       "      <td>17</td>\n",
       "      <td>4</td>\n",
       "      <td>-0.065407</td>\n",
       "      <td>0.144201</td>\n",
       "      <td>-8.824183</td>\n",
       "      <td>-0.001865</td>\n",
       "      <td>0.014367</td>\n",
       "      <td>0.047338</td>\n",
       "      <td>EXT</td>\n",
       "      <td>17</td>\n",
       "      <td>4</td>\n",
       "      <td>-0.075770</td>\n",
       "      <td>0.139716</td>\n",
       "      <td>-9.150425</td>\n",
       "      <td>-0.003149</td>\n",
       "      <td>0.013585</td>\n",
       "      <td>0.087930</td>\n",
       "      <td>EXT</td>\n",
       "      <td>17</td>\n",
       "      <td>4</td>\n",
       "      <td>-0.064868</td>\n",
       "      <td>0.141376</td>\n",
       "      <td>-9.394271</td>\n",
       "      <td>-0.001723</td>\n",
       "      <td>0.013681</td>\n",
       "      <td>0.045857</td>\n",
       "      <td>EXT</td>\n",
       "      <td>17</td>\n",
       "      <td>4</td>\n",
       "      <td>-0.075954</td>\n",
       "      <td>0.145148</td>\n",
       "      <td>-8.386927</td>\n",
       "      <td>-0.003074</td>\n",
       "      <td>0.014311</td>\n",
       "      <td>0.080967</td>\n",
       "      <td>EXT</td>\n",
       "      <td>970430</td>\n",
       "      <td>821578</td>\n",
       "      <td>929257</td>\n",
       "      <td>1020458</td>\n",
       "      <td>703760</td>\n",
       "      <td>-9.003953</td>\n",
       "      <td>880060</td>\n",
       "      <td>False</td>\n",
       "      <td>False</td>\n",
       "      <td>False</td>\n",
       "    </tr>\n",
       "    <tr>\n",
       "      <th>jcf7190000000004-54418</th>\n",
       "      <td>17</td>\n",
       "      <td>5</td>\n",
       "      <td>-0.055208</td>\n",
       "      <td>0.142147</td>\n",
       "      <td>-10.166085</td>\n",
       "      <td>-0.001191</td>\n",
       "      <td>0.010593</td>\n",
       "      <td>0.040712</td>\n",
       "      <td>EXT</td>\n",
       "      <td>17</td>\n",
       "      <td>5</td>\n",
       "      <td>-0.047039</td>\n",
       "      <td>0.146919</td>\n",
       "      <td>-9.994096</td>\n",
       "      <td>-0.000614</td>\n",
       "      <td>0.011188</td>\n",
       "      <td>0.019437</td>\n",
       "      <td>EXT</td>\n",
       "      <td>17</td>\n",
       "      <td>5</td>\n",
       "      <td>-0.055885</td>\n",
       "      <td>0.145341</td>\n",
       "      <td>-10.218846</td>\n",
       "      <td>-0.001072</td>\n",
       "      <td>0.010522</td>\n",
       "      <td>0.036744</td>\n",
       "      <td>EXT</td>\n",
       "      <td>17</td>\n",
       "      <td>5</td>\n",
       "      <td>-0.063113</td>\n",
       "      <td>0.140475</td>\n",
       "      <td>-10.258999</td>\n",
       "      <td>-0.001573</td>\n",
       "      <td>0.010831</td>\n",
       "      <td>0.053301</td>\n",
       "      <td>EXT</td>\n",
       "      <td>17</td>\n",
       "      <td>5</td>\n",
       "      <td>-0.051421</td>\n",
       "      <td>0.146818</td>\n",
       "      <td>-10.113513</td>\n",
       "      <td>-0.000778</td>\n",
       "      <td>0.010882</td>\n",
       "      <td>0.025495</td>\n",
       "      <td>EXT</td>\n",
       "      <td>1350866</td>\n",
       "      <td>1274008</td>\n",
       "      <td>1373833</td>\n",
       "      <td>1392115</td>\n",
       "      <td>1327023</td>\n",
       "      <td>-10.150308</td>\n",
       "      <td>1352872</td>\n",
       "      <td>False</td>\n",
       "      <td>False</td>\n",
       "      <td>False</td>\n",
       "    </tr>\n",
       "  </tbody>\n",
       "</table>\n",
       "</div>"
      ],
      "text/plain": [
       "                        chain_1-COVARIABLE  chain_1-MRK  chain_1-M_Pearson  \\\n",
       "                                                                             \n",
       "jcf7190000000000-77657                  17            1           0.019362   \n",
       "jcf7190000000000-77738                  17            2           0.060888   \n",
       "jcf7190000000000-77764                  17            3          -0.015506   \n",
       "jcf7190000000004-54349                  17            4          -0.062393   \n",
       "jcf7190000000004-54418                  17            5          -0.055208   \n",
       "\n",
       "                        chain_1-SD_Pearson  chain_1-BF(dB)  chain_1-Beta_is  \\\n",
       "                                                                              \n",
       "jcf7190000000000-77657            0.159456      -12.069102         0.001243   \n",
       "jcf7190000000000-77738            0.158510       -9.452265         0.003698   \n",
       "jcf7190000000000-77764            0.143560      -11.221672        -0.000378   \n",
       "jcf7190000000004-54349            0.141759       -9.263959        -0.001494   \n",
       "jcf7190000000004-54418            0.142147      -10.166085        -0.001191   \n",
       "\n",
       "                        chain_1-SD_Beta_is  chain_1-eBPis chain_1-env  \\\n",
       "                                                                        \n",
       "jcf7190000000000-77657            0.006569       0.070646         EXT   \n",
       "jcf7190000000000-77738            0.008819       0.170710         EXT   \n",
       "jcf7190000000000-77764            0.008814       0.015110         EXT   \n",
       "jcf7190000000004-54349            0.013725       0.039383         EXT   \n",
       "jcf7190000000004-54418            0.010593       0.040712         EXT   \n",
       "\n",
       "                        chain_2-COVARIABLE  chain_2-MRK  chain_2-M_Pearson  \\\n",
       "                                                                             \n",
       "jcf7190000000000-77657                  17            1           0.014799   \n",
       "jcf7190000000000-77738                  17            2           0.047670   \n",
       "jcf7190000000000-77764                  17            3          -0.020512   \n",
       "jcf7190000000004-54349                  17            4          -0.065407   \n",
       "jcf7190000000004-54418                  17            5          -0.047039   \n",
       "\n",
       "                        chain_2-SD_Pearson  chain_2-BF(dB)  chain_2-Beta_is  \\\n",
       "                                                                              \n",
       "jcf7190000000000-77657            0.162190       -9.800956         0.000909   \n",
       "jcf7190000000000-77738            0.160155       -7.866868         0.002975   \n",
       "jcf7190000000000-77764            0.139933      -11.786993        -0.000133   \n",
       "jcf7190000000004-54349            0.144201       -8.824183        -0.001865   \n",
       "jcf7190000000004-54418            0.146919       -9.994096        -0.000614   \n",
       "\n",
       "                        chain_2-SD_Beta_is  chain_2-eBPis chain_2-env  \\\n",
       "                                                                        \n",
       "jcf7190000000000-77657            0.006735       0.049343         EXT   \n",
       "jcf7190000000000-77738            0.008699       0.135262         EXT   \n",
       "jcf7190000000000-77764            0.008517       0.005462         EXT   \n",
       "jcf7190000000004-54349            0.014367       0.047338         EXT   \n",
       "jcf7190000000004-54418            0.011188       0.019437         EXT   \n",
       "\n",
       "                        chain_3-COVARIABLE  chain_3-MRK  chain_3-M_Pearson  \\\n",
       "                                                                             \n",
       "jcf7190000000000-77657                  17            1           0.021291   \n",
       "jcf7190000000000-77738                  17            2           0.053496   \n",
       "jcf7190000000000-77764                  17            3          -0.007376   \n",
       "jcf7190000000004-54349                  17            4          -0.075770   \n",
       "jcf7190000000004-54418                  17            5          -0.055885   \n",
       "\n",
       "                        chain_3-SD_Pearson  chain_3-BF(dB)  chain_3-Beta_is  \\\n",
       "                                                                              \n",
       "jcf7190000000000-77657            0.157260      -11.354296         0.001271   \n",
       "jcf7190000000000-77738            0.157537       -9.102067         0.002986   \n",
       "jcf7190000000000-77764            0.150116      -11.459481         0.000071   \n",
       "jcf7190000000004-54349            0.139716       -9.150425        -0.003149   \n",
       "jcf7190000000004-54418            0.145341      -10.218846        -0.001072   \n",
       "\n",
       "                        chain_3-SD_Beta_is  chain_3-eBPis chain_3-env  \\\n",
       "                                                                        \n",
       "jcf7190000000000-77657            0.006476       0.073459         EXT   \n",
       "jcf7190000000000-77738            0.008900       0.132373         EXT   \n",
       "jcf7190000000000-77764            0.008081       0.003048         EXT   \n",
       "jcf7190000000004-54349            0.013585       0.087930         EXT   \n",
       "jcf7190000000004-54418            0.010522       0.036744         EXT   \n",
       "\n",
       "                        chain_4-COVARIABLE  chain_4-MRK  chain_4-M_Pearson  \\\n",
       "                                                                             \n",
       "jcf7190000000000-77657                  17            1           0.014622   \n",
       "jcf7190000000000-77738                  17            2           0.067321   \n",
       "jcf7190000000000-77764                  17            3          -0.000931   \n",
       "jcf7190000000004-54349                  17            4          -0.064868   \n",
       "jcf7190000000004-54418                  17            5          -0.063113   \n",
       "\n",
       "                        chain_4-SD_Pearson  chain_4-BF(dB)  chain_4-Beta_is  \\\n",
       "                                                                              \n",
       "jcf7190000000000-77657            0.160630      -10.964986         0.000896   \n",
       "jcf7190000000000-77738            0.158435       -8.421890         0.004402   \n",
       "jcf7190000000000-77764            0.150115      -10.826779         0.000672   \n",
       "jcf7190000000004-54349            0.141376       -9.394271        -0.001723   \n",
       "jcf7190000000004-54418            0.140475      -10.258999        -0.001573   \n",
       "\n",
       "                        chain_4-SD_Beta_is  chain_4-eBPis chain_4-env  \\\n",
       "                                                                        \n",
       "jcf7190000000000-77657            0.006908       0.047312         EXT   \n",
       "jcf7190000000000-77738            0.009590       0.189629         EXT   \n",
       "jcf7190000000000-77764            0.009735       0.024582         EXT   \n",
       "jcf7190000000004-54349            0.013681       0.045857         EXT   \n",
       "jcf7190000000004-54418            0.010831       0.053301         EXT   \n",
       "\n",
       "                        chain_5-COVARIABLE  chain_5-MRK  chain_5-M_Pearson  \\\n",
       "                                                                             \n",
       "jcf7190000000000-77657                  17            1           0.012706   \n",
       "jcf7190000000000-77738                  17            2           0.054547   \n",
       "jcf7190000000000-77764                  17            3          -0.015933   \n",
       "jcf7190000000004-54349                  17            4          -0.075954   \n",
       "jcf7190000000004-54418                  17            5          -0.051421   \n",
       "\n",
       "                        chain_5-SD_Pearson  chain_5-BF(dB)  chain_5-Beta_is  \\\n",
       "                                                                              \n",
       "jcf7190000000000-77657            0.157225      -12.218243         0.000777   \n",
       "jcf7190000000000-77738            0.159041      -10.146648         0.003565   \n",
       "jcf7190000000000-77764            0.140759      -11.198963        -0.000089   \n",
       "jcf7190000000004-54349            0.145148       -8.386927        -0.003074   \n",
       "jcf7190000000004-54418            0.146818      -10.113513        -0.000778   \n",
       "\n",
       "                        chain_5-SD_Beta_is  chain_5-eBPis chain_5-env  \\\n",
       "                                                                        \n",
       "jcf7190000000000-77657            0.006316       0.044739         EXT   \n",
       "jcf7190000000000-77738            0.009359       0.152881         EXT   \n",
       "jcf7190000000000-77764            0.009476       0.003279         EXT   \n",
       "jcf7190000000004-54349            0.014311       0.080967         EXT   \n",
       "jcf7190000000004-54418            0.010882       0.025495         EXT   \n",
       "\n",
       "                        rank_chain_1-BF(dB)  rank_chain_2-BF(dB)  \\\n",
       "                                                                   \n",
       "jcf7190000000000-77657              2057173              1189016   \n",
       "jcf7190000000000-77738              1044027               593072   \n",
       "jcf7190000000000-77764              1778900              1970759   \n",
       "jcf7190000000004-54349               970430               821578   \n",
       "jcf7190000000004-54418              1350866              1274008   \n",
       "\n",
       "                        rank_chain_3-BF(dB)  rank_chain_4-BF(dB)  \\\n",
       "                                                                   \n",
       "jcf7190000000000-77657              1826070              1683050   \n",
       "jcf7190000000000-77738               912239               712394   \n",
       "jcf7190000000000-77764              1862526              1629436   \n",
       "jcf7190000000004-54349               929257              1020458   \n",
       "jcf7190000000004-54418              1373833              1392115   \n",
       "\n",
       "                        rank_chain_5-BF(dB)  mean_BF(dB)  rank_mean_BF(dB)  \\\n",
       "                                                                             \n",
       "jcf7190000000000-77657              2100187   -11.281517           1809088   \n",
       "jcf7190000000000-77738              1341467    -8.997948            878065   \n",
       "jcf7190000000000-77764              1769377   -11.298777           1815274   \n",
       "jcf7190000000004-54349               703760    -9.003953            880060   \n",
       "jcf7190000000004-54418              1327023   -10.150308           1352872   \n",
       "\n",
       "                        BF(dB)_gte20_for-gte3chains  \\\n",
       "                                                      \n",
       "jcf7190000000000-77657                        False   \n",
       "jcf7190000000000-77738                        False   \n",
       "jcf7190000000000-77764                        False   \n",
       "jcf7190000000004-54349                        False   \n",
       "jcf7190000000004-54418                        False   \n",
       "\n",
       "                        rank_consistency_top1perc_for-gte3chains  \\\n",
       "                                                                   \n",
       "jcf7190000000000-77657                                     False   \n",
       "jcf7190000000000-77738                                     False   \n",
       "jcf7190000000000-77764                                     False   \n",
       "jcf7190000000004-54349                                     False   \n",
       "jcf7190000000004-54418                                     False   \n",
       "\n",
       "                        BF(dB)_gte15_for-gte3chains  \n",
       "                                                     \n",
       "jcf7190000000000-77657                        False  \n",
       "jcf7190000000000-77738                        False  \n",
       "jcf7190000000000-77764                        False  \n",
       "jcf7190000000004-54349                        False  \n",
       "jcf7190000000004-54418                        False  "
      ]
     },
     "execution_count": 34,
     "metadata": {},
     "output_type": "execute_result"
    }
   ],
   "source": [
    "# add in the new columns\n",
    "for env,df in envdfs.items():\n",
    "    update([env])\n",
    "    newcols = [col for col in new_envdfs[env].columns if col not in df.columns]\n",
    "    envdfs[env] = pd.merge(df, new_envdfs[env][newcols], right_index=True, left_index=True)\n",
    "envdfs[env].head()"
   ]
  },
  {
   "cell_type": "code",
   "execution_count": 15,
   "metadata": {},
   "outputs": [],
   "source": [
    "def write_file(df, file, sep='\\t', index=False):\n",
    "    import pandas\n",
    "    df['locus'] = df.index.tolist()\n",
    "    df = df[['locus'] + [col for col in df.columns if col != 'locus']]\n",
    "    df.to_csv(file, sep=sep, index=index)\n",
    "    return file"
   ]
  },
  {
   "cell_type": "code",
   "execution_count": 36,
   "metadata": {},
   "outputs": [
    {
     "data": {
      "text/plain": [
       "'/lu213/brandon.lind/projects/pool_seq/DF_datasets/DF_pooled_GEA/DF_pooled/snpsANDindels/interior_variety/03_maf-p05_RD-recalculated_FDI/baypass/final_results'"
      ]
     },
     "execution_count": 36,
     "metadata": {},
     "output_type": "execute_result"
    }
   ],
   "source": [
    "finaldir"
   ]
  },
  {
   "cell_type": "code",
   "execution_count": 37,
   "metadata": {},
   "outputs": [
    {
     "name": "stdout",
     "output_type": "stream",
     "text": [
      "\u001b[1m\n",
      "Watching 19 final jobs ...\u001b[0m\n"
     ]
    },
    {
     "name": "stderr",
     "output_type": "stream",
     "text": [
      "final: 100%|██████████| 19/19 [02:26<00:00,  7.72s/it]\n"
     ]
    }
   ],
   "source": [
    "# save files\n",
    "jobs = []\n",
    "for env,df in envdfs.items():\n",
    "    file = op.join(finaldir, f'interior_maf-p05_RD-recalculated_ADP-lt-1000_{env}.txt')\n",
    "    jobs.append(lview.apply_async(write_file, *(df, file)))\n",
    "watch_async(jobs, phase='final')"
   ]
  },
  {
   "cell_type": "code",
   "execution_count": 38,
   "metadata": {},
   "outputs": [],
   "source": [
    "# save pkl for easy loading\n",
    "pkldump(envdfs, op.join(finaldir, 'envdfs_after_ranking.pkl'))"
   ]
  },
  {
   "cell_type": "markdown",
   "metadata": {},
   "source": [
    "# Remove newREPEATS and add newSNPs\n",
    "\n",
    "after baypass was kicked off, we received an updated softmasked reference and some of the previous SNPs turned into REPEATS and some of the previous REPEATS turned into SNPs. From the baypass output, remove newREPEATS and add newSNPs"
   ]
  },
  {
   "cell_type": "markdown",
   "metadata": {},
   "source": [
    "#### add newSNPs"
   ]
  },
  {
   "cell_type": "code",
   "execution_count": 24,
   "metadata": {},
   "outputs": [],
   "source": [
    "newresdir = op.join(cmddir, 'new_results')"
   ]
  },
  {
   "cell_type": "code",
   "execution_count": 25,
   "metadata": {},
   "outputs": [
    {
     "data": {
      "text/plain": [
       "(40, 40)"
      ]
     },
     "execution_count": 25,
     "metadata": {},
     "output_type": "execute_result"
    }
   ],
   "source": [
    "newbffiles = fs(newresdir, endswith='betai_reg.out')\n",
    "newxtxfiles = fs(newresdir, endswith='pi_xtx.out')\n",
    "len(newbffiles), len(newxtxfiles)"
   ]
  },
  {
   "cell_type": "code",
   "execution_count": 29,
   "metadata": {
    "scrolled": true
   },
   "outputs": [
    {
     "name": "stderr",
     "output_type": "stream",
     "text": [
      "100%|██████████| 40/40 [00:00<00:00, 2449.41it/s]\n"
     ]
    },
    {
     "name": "stdout",
     "output_type": "stream",
     "text": [
      "\u001b[1m\n",
      "Watching 40 jobs ...\u001b[0m\n"
     ]
    },
    {
     "name": "stderr",
     "output_type": "stream",
     "text": [
      "100%|██████████| 40/40 [00:00<00:00, 54773.80it/s]\n"
     ]
    }
   ],
   "source": [
    "jobs = []\n",
    "for bffile in nb(newbffiles):\n",
    "    jobs.append(lview.apply_async(label_snps, bffile))\n",
    "watch_async(jobs)"
   ]
  },
  {
   "cell_type": "code",
   "execution_count": 30,
   "metadata": {},
   "outputs": [
    {
     "name": "stderr",
     "output_type": "stream",
     "text": [
      "100%|██████████| 40/40 [00:00<00:00, 10897.83it/s]\n"
     ]
    },
    {
     "data": {
      "text/plain": [
       "['chain_1', 'chain_2', 'chain_3', 'chain_4', 'chain_5']"
      ]
     },
     "execution_count": 30,
     "metadata": {},
     "output_type": "execute_result"
    }
   ],
   "source": [
    "# gather output by environment\n",
    "newenvlist = {}\n",
    "for j in nb(jobs):\n",
    "    assert len(keys(j.r)) == 1\n",
    "    chain = keys(j.r)[0]\n",
    "    if chain not in newenvlist:\n",
    "        newenvlist[chain] = {}\n",
    "    for env in j.r[chain]:\n",
    "        if env not in newenvlist[chain]:\n",
    "            newenvlist[chain][env] = []\n",
    "        newenvlist[chain][env].append(j.r[chain][env])\n",
    "keys(newenvlist)"
   ]
  },
  {
   "cell_type": "code",
   "execution_count": 31,
   "metadata": {},
   "outputs": [
    {
     "name": "stderr",
     "output_type": "stream",
     "text": [
      "chain_1: 100%|██████████| 19/19 [00:00<00:00, 526.96it/s]\n",
      "chain_2: 100%|██████████| 19/19 [00:00<00:00, 598.62it/s]\n",
      "chain_3: 100%|██████████| 19/19 [00:00<00:00, 585.47it/s]\n",
      "chain_4: 100%|██████████| 19/19 [00:00<00:00, 608.75it/s]\n",
      "chain_5: 100%|██████████| 19/19 [00:00<00:00, 614.75it/s]"
     ]
    },
    {
     "name": "stdout",
     "output_type": "stream",
     "text": [
      "\u001b[1mchain_1\u001b[0m\n",
      "\t SHM 2139\n",
      "\t eFFP 2139\n",
      "\t EXT 2139\n",
      "\t MWMT 2139\n",
      "\t bFFP 2139\n",
      "\t MCMT 2139\n",
      "\t FFP 2139\n",
      "\t AHM 2139\n",
      "\t DD5 2139\n",
      "\t CMD 2139\n",
      "\t MSP 2139\n",
      "\t NFFD 2139\n",
      "\t TD 2139\n",
      "\t DD_0 2139\n",
      "\t Eref 2139\n",
      "\t EMT 2139\n",
      "\t MAP 2139\n",
      "\t PAS 2139\n",
      "\t MAT 2139\n",
      "\u001b[1mchain_2\u001b[0m\n",
      "\t DD5 2139\n",
      "\t bFFP 2139\n",
      "\t EMT 2139\n",
      "\t MSP 2139\n",
      "\t MCMT 2139\n",
      "\t TD 2139\n",
      "\t SHM 2139\n",
      "\t MWMT 2139\n",
      "\t DD_0 2139\n",
      "\t NFFD 2139\n",
      "\t Eref 2139\n",
      "\t eFFP 2139\n",
      "\t MAP 2139\n",
      "\t PAS 2139\n",
      "\t FFP 2139\n",
      "\t MAT 2139\n",
      "\t AHM 2139\n",
      "\t EXT 2139\n",
      "\t CMD 2139\n",
      "\u001b[1mchain_3\u001b[0m\n",
      "\t MAP 2139\n",
      "\t DD_0 2139\n",
      "\t AHM 2139\n",
      "\t Eref 2139\n",
      "\t EXT 2139\n",
      "\t DD5 2139\n",
      "\t MAT 2139\n",
      "\t FFP 2139\n",
      "\t MSP 2139\n",
      "\t CMD 2139\n",
      "\t SHM 2139\n",
      "\t bFFP 2139\n",
      "\t PAS 2139\n",
      "\t MWMT 2139\n",
      "\t EMT 2139\n",
      "\t eFFP 2139\n",
      "\t NFFD 2139\n",
      "\t MCMT 2139\n",
      "\t TD 2139\n",
      "\u001b[1mchain_4\u001b[0m\n",
      "\t MAP 2139\n",
      "\t eFFP 2139\n",
      "\t EXT 2139\n",
      "\t CMD 2139\n",
      "\t bFFP 2139\n",
      "\t TD 2139\n",
      "\t MWMT 2139\n",
      "\t NFFD 2139\n",
      "\t FFP 2139\n",
      "\t PAS 2139\n",
      "\t DD_0 2139\n",
      "\t Eref 2139\n",
      "\t MCMT 2139\n",
      "\t MSP 2139\n",
      "\t MAT 2139\n",
      "\t DD5 2139\n",
      "\t SHM 2139\n",
      "\t AHM 2139\n",
      "\t EMT 2139\n",
      "\u001b[1mchain_5\u001b[0m\n",
      "\t SHM 2139\n",
      "\t DD_0 2139\n",
      "\t MAP 2139\n",
      "\t MCMT 2139\n",
      "\t MAT 2139\n",
      "\t bFFP 2139\n",
      "\t TD 2139\n",
      "\t Eref 2139\n",
      "\t EXT 2139\n",
      "\t EMT 2139\n",
      "\t AHM 2139\n",
      "\t NFFD 2139\n",
      "\t PAS 2139\n",
      "\t DD5 2139\n",
      "\t eFFP 2139\n",
      "\t FFP 2139\n",
      "\t MSP 2139\n",
      "\t CMD 2139\n",
      "\t MWMT 2139\n"
     ]
    },
    {
     "name": "stderr",
     "output_type": "stream",
     "text": [
      "\n"
     ]
    }
   ],
   "source": [
    "# concatenate environmental output by each chain, print out num snps for each env for each chain\n",
    "newchaindfs = {}\n",
    "for chain,envs in newenvlist.items():\n",
    "    assert len(envs) == 19\n",
    "    if chain not in newchaindfs:\n",
    "        newchaindfs[chain] = {}\n",
    "    for env,dfs in nb(envs.items(), desc=chain):\n",
    "        if env not in newchaindfs[chain]:\n",
    "            newchaindfs[chain][env] = pd.concat(dfs)\n",
    "        else:\n",
    "            print('crap ', chain, env)\n",
    "for chain in newchaindfs:\n",
    "    print(ColorText(chain).bold())\n",
    "    for env in newchaindfs[chain]:\n",
    "        print('\\t',env, nrow(newchaindfs[chain][env]))"
   ]
  },
  {
   "cell_type": "code",
   "execution_count": 32,
   "metadata": {},
   "outputs": [
    {
     "name": "stderr",
     "output_type": "stream",
     "text": [
      "chain_1: 100%|██████████| 19/19 [00:00<00:00, 630.02it/s]\n",
      "chain_2: 100%|██████████| 19/19 [00:00<00:00, 637.31it/s]\n",
      "chain_3: 100%|██████████| 19/19 [00:00<00:00, 630.73it/s]\n",
      "chain_4: 100%|██████████| 19/19 [00:00<00:00, 642.16it/s]\n",
      "chain_5: 100%|██████████| 19/19 [00:00<00:00, 650.42it/s]\n",
      "combo: 100%|██████████| 19/19 [00:00<00:00, 130.42it/s]\n"
     ]
    },
    {
     "data": {
      "text/html": [
       "<div>\n",
       "<style scoped>\n",
       "    .dataframe tbody tr th:only-of-type {\n",
       "        vertical-align: middle;\n",
       "    }\n",
       "\n",
       "    .dataframe tbody tr th {\n",
       "        vertical-align: top;\n",
       "    }\n",
       "\n",
       "    .dataframe thead th {\n",
       "        text-align: right;\n",
       "    }\n",
       "</style>\n",
       "<table border=\"1\" class=\"dataframe\">\n",
       "  <thead>\n",
       "    <tr style=\"text-align: right;\">\n",
       "      <th></th>\n",
       "      <th>chain_1-COVARIABLE</th>\n",
       "      <th>chain_1-MRK</th>\n",
       "      <th>chain_1-M_Pearson</th>\n",
       "      <th>chain_1-SD_Pearson</th>\n",
       "      <th>chain_1-BF(dB)</th>\n",
       "      <th>chain_1-Beta_is</th>\n",
       "      <th>chain_1-SD_Beta_is</th>\n",
       "      <th>chain_1-eBPis</th>\n",
       "      <th>chain_1-env</th>\n",
       "      <th>chain_2-COVARIABLE</th>\n",
       "      <th>chain_2-MRK</th>\n",
       "      <th>chain_2-M_Pearson</th>\n",
       "      <th>chain_2-SD_Pearson</th>\n",
       "      <th>chain_2-BF(dB)</th>\n",
       "      <th>chain_2-Beta_is</th>\n",
       "      <th>chain_2-SD_Beta_is</th>\n",
       "      <th>chain_2-eBPis</th>\n",
       "      <th>chain_2-env</th>\n",
       "      <th>chain_3-COVARIABLE</th>\n",
       "      <th>chain_3-MRK</th>\n",
       "      <th>chain_3-M_Pearson</th>\n",
       "      <th>chain_3-SD_Pearson</th>\n",
       "      <th>chain_3-BF(dB)</th>\n",
       "      <th>chain_3-Beta_is</th>\n",
       "      <th>chain_3-SD_Beta_is</th>\n",
       "      <th>chain_3-eBPis</th>\n",
       "      <th>chain_3-env</th>\n",
       "      <th>chain_4-COVARIABLE</th>\n",
       "      <th>chain_4-MRK</th>\n",
       "      <th>chain_4-M_Pearson</th>\n",
       "      <th>chain_4-SD_Pearson</th>\n",
       "      <th>chain_4-BF(dB)</th>\n",
       "      <th>chain_4-Beta_is</th>\n",
       "      <th>chain_4-SD_Beta_is</th>\n",
       "      <th>chain_4-eBPis</th>\n",
       "      <th>chain_4-env</th>\n",
       "      <th>chain_5-COVARIABLE</th>\n",
       "      <th>chain_5-MRK</th>\n",
       "      <th>chain_5-M_Pearson</th>\n",
       "      <th>chain_5-SD_Pearson</th>\n",
       "      <th>chain_5-BF(dB)</th>\n",
       "      <th>chain_5-Beta_is</th>\n",
       "      <th>chain_5-SD_Beta_is</th>\n",
       "      <th>chain_5-eBPis</th>\n",
       "      <th>chain_5-env</th>\n",
       "    </tr>\n",
       "    <tr>\n",
       "      <th></th>\n",
       "      <th></th>\n",
       "      <th></th>\n",
       "      <th></th>\n",
       "      <th></th>\n",
       "      <th></th>\n",
       "      <th></th>\n",
       "      <th></th>\n",
       "      <th></th>\n",
       "      <th></th>\n",
       "      <th></th>\n",
       "      <th></th>\n",
       "      <th></th>\n",
       "      <th></th>\n",
       "      <th></th>\n",
       "      <th></th>\n",
       "      <th></th>\n",
       "      <th></th>\n",
       "      <th></th>\n",
       "      <th></th>\n",
       "      <th></th>\n",
       "      <th></th>\n",
       "      <th></th>\n",
       "      <th></th>\n",
       "      <th></th>\n",
       "      <th></th>\n",
       "      <th></th>\n",
       "      <th></th>\n",
       "      <th></th>\n",
       "      <th></th>\n",
       "      <th></th>\n",
       "      <th></th>\n",
       "      <th></th>\n",
       "      <th></th>\n",
       "      <th></th>\n",
       "      <th></th>\n",
       "      <th></th>\n",
       "      <th></th>\n",
       "      <th></th>\n",
       "      <th></th>\n",
       "      <th></th>\n",
       "      <th></th>\n",
       "      <th></th>\n",
       "      <th></th>\n",
       "      <th></th>\n",
       "      <th></th>\n",
       "    </tr>\n",
       "  </thead>\n",
       "  <tbody>\n",
       "    <tr>\n",
       "      <th>jcf7190000000173-53983</th>\n",
       "      <td>1</td>\n",
       "      <td>1</td>\n",
       "      <td>0.077896</td>\n",
       "      <td>0.111443</td>\n",
       "      <td>-11.074667</td>\n",
       "      <td>0.004942</td>\n",
       "      <td>0.008360</td>\n",
       "      <td>0.256136</td>\n",
       "      <td>MAT</td>\n",
       "      <td>1</td>\n",
       "      <td>1</td>\n",
       "      <td>0.076839</td>\n",
       "      <td>0.106307</td>\n",
       "      <td>-11.403047</td>\n",
       "      <td>0.004616</td>\n",
       "      <td>0.007741</td>\n",
       "      <td>0.258851</td>\n",
       "      <td>MAT</td>\n",
       "      <td>1</td>\n",
       "      <td>1</td>\n",
       "      <td>0.070211</td>\n",
       "      <td>0.108892</td>\n",
       "      <td>-11.485402</td>\n",
       "      <td>0.004402</td>\n",
       "      <td>0.007743</td>\n",
       "      <td>0.244355</td>\n",
       "      <td>MAT</td>\n",
       "      <td>1</td>\n",
       "      <td>1</td>\n",
       "      <td>0.079483</td>\n",
       "      <td>0.109376</td>\n",
       "      <td>-11.257677</td>\n",
       "      <td>0.005102</td>\n",
       "      <td>0.008448</td>\n",
       "      <td>0.262895</td>\n",
       "      <td>MAT</td>\n",
       "      <td>1</td>\n",
       "      <td>1</td>\n",
       "      <td>0.074724</td>\n",
       "      <td>0.111477</td>\n",
       "      <td>-11.404766</td>\n",
       "      <td>0.004500</td>\n",
       "      <td>0.008023</td>\n",
       "      <td>0.240422</td>\n",
       "      <td>MAT</td>\n",
       "    </tr>\n",
       "    <tr>\n",
       "      <th>jcf7190000000173-53990</th>\n",
       "      <td>1</td>\n",
       "      <td>2</td>\n",
       "      <td>0.133828</td>\n",
       "      <td>0.090993</td>\n",
       "      <td>-8.895280</td>\n",
       "      <td>0.013107</td>\n",
       "      <td>0.008263</td>\n",
       "      <td>0.948085</td>\n",
       "      <td>MAT</td>\n",
       "      <td>1</td>\n",
       "      <td>2</td>\n",
       "      <td>0.150069</td>\n",
       "      <td>0.088278</td>\n",
       "      <td>-8.514792</td>\n",
       "      <td>0.014912</td>\n",
       "      <td>0.008131</td>\n",
       "      <td>1.176168</td>\n",
       "      <td>MAT</td>\n",
       "      <td>1</td>\n",
       "      <td>2</td>\n",
       "      <td>0.138025</td>\n",
       "      <td>0.089909</td>\n",
       "      <td>-9.095828</td>\n",
       "      <td>0.012929</td>\n",
       "      <td>0.007776</td>\n",
       "      <td>1.016016</td>\n",
       "      <td>MAT</td>\n",
       "      <td>1</td>\n",
       "      <td>2</td>\n",
       "      <td>0.132405</td>\n",
       "      <td>0.091455</td>\n",
       "      <td>-9.030425</td>\n",
       "      <td>0.013000</td>\n",
       "      <td>0.008401</td>\n",
       "      <td>0.914581</td>\n",
       "      <td>MAT</td>\n",
       "      <td>1</td>\n",
       "      <td>2</td>\n",
       "      <td>0.149331</td>\n",
       "      <td>0.093419</td>\n",
       "      <td>-8.007362</td>\n",
       "      <td>0.014533</td>\n",
       "      <td>0.008526</td>\n",
       "      <td>1.054013</td>\n",
       "      <td>MAT</td>\n",
       "    </tr>\n",
       "    <tr>\n",
       "      <th>jcf7190000000173-54077</th>\n",
       "      <td>1</td>\n",
       "      <td>3</td>\n",
       "      <td>0.108801</td>\n",
       "      <td>0.115267</td>\n",
       "      <td>-10.105262</td>\n",
       "      <td>0.007948</td>\n",
       "      <td>0.008687</td>\n",
       "      <td>0.443464</td>\n",
       "      <td>MAT</td>\n",
       "      <td>1</td>\n",
       "      <td>3</td>\n",
       "      <td>0.100888</td>\n",
       "      <td>0.117872</td>\n",
       "      <td>-9.652747</td>\n",
       "      <td>0.007437</td>\n",
       "      <td>0.008989</td>\n",
       "      <td>0.389314</td>\n",
       "      <td>MAT</td>\n",
       "      <td>1</td>\n",
       "      <td>3</td>\n",
       "      <td>0.098304</td>\n",
       "      <td>0.125211</td>\n",
       "      <td>-8.882401</td>\n",
       "      <td>0.007323</td>\n",
       "      <td>0.009866</td>\n",
       "      <td>0.339217</td>\n",
       "      <td>MAT</td>\n",
       "      <td>1</td>\n",
       "      <td>3</td>\n",
       "      <td>0.094849</td>\n",
       "      <td>0.122109</td>\n",
       "      <td>-9.941120</td>\n",
       "      <td>0.006859</td>\n",
       "      <td>0.008924</td>\n",
       "      <td>0.354482</td>\n",
       "      <td>MAT</td>\n",
       "      <td>1</td>\n",
       "      <td>3</td>\n",
       "      <td>0.098304</td>\n",
       "      <td>0.120438</td>\n",
       "      <td>-9.456504</td>\n",
       "      <td>0.007202</td>\n",
       "      <td>0.009476</td>\n",
       "      <td>0.349476</td>\n",
       "      <td>MAT</td>\n",
       "    </tr>\n",
       "    <tr>\n",
       "      <th>jcf7190000000173-54079</th>\n",
       "      <td>1</td>\n",
       "      <td>4</td>\n",
       "      <td>-0.307215</td>\n",
       "      <td>0.095888</td>\n",
       "      <td>2.723727</td>\n",
       "      <td>-0.035957</td>\n",
       "      <td>0.011648</td>\n",
       "      <td>2.694266</td>\n",
       "      <td>MAT</td>\n",
       "      <td>1</td>\n",
       "      <td>4</td>\n",
       "      <td>-0.315446</td>\n",
       "      <td>0.093849</td>\n",
       "      <td>9.905666</td>\n",
       "      <td>-0.036318</td>\n",
       "      <td>0.011430</td>\n",
       "      <td>2.827986</td>\n",
       "      <td>MAT</td>\n",
       "      <td>1</td>\n",
       "      <td>4</td>\n",
       "      <td>-0.315811</td>\n",
       "      <td>0.093868</td>\n",
       "      <td>2.690513</td>\n",
       "      <td>-0.036024</td>\n",
       "      <td>0.011096</td>\n",
       "      <td>2.932549</td>\n",
       "      <td>MAT</td>\n",
       "      <td>1</td>\n",
       "      <td>4</td>\n",
       "      <td>-0.311026</td>\n",
       "      <td>0.093750</td>\n",
       "      <td>2.151050</td>\n",
       "      <td>-0.036149</td>\n",
       "      <td>0.011409</td>\n",
       "      <td>2.814687</td>\n",
       "      <td>MAT</td>\n",
       "      <td>1</td>\n",
       "      <td>4</td>\n",
       "      <td>-0.310201</td>\n",
       "      <td>0.097990</td>\n",
       "      <td>2.680879</td>\n",
       "      <td>-0.035734</td>\n",
       "      <td>0.011824</td>\n",
       "      <td>2.600388</td>\n",
       "      <td>MAT</td>\n",
       "    </tr>\n",
       "    <tr>\n",
       "      <th>jcf7190000000175-694991</th>\n",
       "      <td>1</td>\n",
       "      <td>5</td>\n",
       "      <td>0.002649</td>\n",
       "      <td>0.137812</td>\n",
       "      <td>-8.010221</td>\n",
       "      <td>-0.000922</td>\n",
       "      <td>0.012645</td>\n",
       "      <td>0.026007</td>\n",
       "      <td>MAT</td>\n",
       "      <td>1</td>\n",
       "      <td>5</td>\n",
       "      <td>0.003857</td>\n",
       "      <td>0.141701</td>\n",
       "      <td>-9.356979</td>\n",
       "      <td>-0.000680</td>\n",
       "      <td>0.013406</td>\n",
       "      <td>0.017922</td>\n",
       "      <td>MAT</td>\n",
       "      <td>1</td>\n",
       "      <td>5</td>\n",
       "      <td>0.007100</td>\n",
       "      <td>0.142029</td>\n",
       "      <td>-9.047538</td>\n",
       "      <td>-0.000919</td>\n",
       "      <td>0.013446</td>\n",
       "      <td>0.024345</td>\n",
       "      <td>MAT</td>\n",
       "      <td>1</td>\n",
       "      <td>5</td>\n",
       "      <td>0.015815</td>\n",
       "      <td>0.143690</td>\n",
       "      <td>-9.378904</td>\n",
       "      <td>0.000100</td>\n",
       "      <td>0.013579</td>\n",
       "      <td>0.002572</td>\n",
       "      <td>MAT</td>\n",
       "      <td>1</td>\n",
       "      <td>5</td>\n",
       "      <td>0.024580</td>\n",
       "      <td>0.137073</td>\n",
       "      <td>-9.626582</td>\n",
       "      <td>0.001083</td>\n",
       "      <td>0.012576</td>\n",
       "      <td>0.030874</td>\n",
       "      <td>MAT</td>\n",
       "    </tr>\n",
       "  </tbody>\n",
       "</table>\n",
       "</div>"
      ],
      "text/plain": [
       "                         chain_1-COVARIABLE  chain_1-MRK  chain_1-M_Pearson  \\\n",
       "                                                                              \n",
       "jcf7190000000173-53983                    1            1           0.077896   \n",
       "jcf7190000000173-53990                    1            2           0.133828   \n",
       "jcf7190000000173-54077                    1            3           0.108801   \n",
       "jcf7190000000173-54079                    1            4          -0.307215   \n",
       "jcf7190000000175-694991                   1            5           0.002649   \n",
       "\n",
       "                         chain_1-SD_Pearson  chain_1-BF(dB)  chain_1-Beta_is  \\\n",
       "                                                                               \n",
       "jcf7190000000173-53983             0.111443      -11.074667         0.004942   \n",
       "jcf7190000000173-53990             0.090993       -8.895280         0.013107   \n",
       "jcf7190000000173-54077             0.115267      -10.105262         0.007948   \n",
       "jcf7190000000173-54079             0.095888        2.723727        -0.035957   \n",
       "jcf7190000000175-694991            0.137812       -8.010221        -0.000922   \n",
       "\n",
       "                         chain_1-SD_Beta_is  chain_1-eBPis chain_1-env  \\\n",
       "                                                                         \n",
       "jcf7190000000173-53983             0.008360       0.256136         MAT   \n",
       "jcf7190000000173-53990             0.008263       0.948085         MAT   \n",
       "jcf7190000000173-54077             0.008687       0.443464         MAT   \n",
       "jcf7190000000173-54079             0.011648       2.694266         MAT   \n",
       "jcf7190000000175-694991            0.012645       0.026007         MAT   \n",
       "\n",
       "                         chain_2-COVARIABLE  chain_2-MRK  chain_2-M_Pearson  \\\n",
       "                                                                              \n",
       "jcf7190000000173-53983                    1            1           0.076839   \n",
       "jcf7190000000173-53990                    1            2           0.150069   \n",
       "jcf7190000000173-54077                    1            3           0.100888   \n",
       "jcf7190000000173-54079                    1            4          -0.315446   \n",
       "jcf7190000000175-694991                   1            5           0.003857   \n",
       "\n",
       "                         chain_2-SD_Pearson  chain_2-BF(dB)  chain_2-Beta_is  \\\n",
       "                                                                               \n",
       "jcf7190000000173-53983             0.106307      -11.403047         0.004616   \n",
       "jcf7190000000173-53990             0.088278       -8.514792         0.014912   \n",
       "jcf7190000000173-54077             0.117872       -9.652747         0.007437   \n",
       "jcf7190000000173-54079             0.093849        9.905666        -0.036318   \n",
       "jcf7190000000175-694991            0.141701       -9.356979        -0.000680   \n",
       "\n",
       "                         chain_2-SD_Beta_is  chain_2-eBPis chain_2-env  \\\n",
       "                                                                         \n",
       "jcf7190000000173-53983             0.007741       0.258851         MAT   \n",
       "jcf7190000000173-53990             0.008131       1.176168         MAT   \n",
       "jcf7190000000173-54077             0.008989       0.389314         MAT   \n",
       "jcf7190000000173-54079             0.011430       2.827986         MAT   \n",
       "jcf7190000000175-694991            0.013406       0.017922         MAT   \n",
       "\n",
       "                         chain_3-COVARIABLE  chain_3-MRK  chain_3-M_Pearson  \\\n",
       "                                                                              \n",
       "jcf7190000000173-53983                    1            1           0.070211   \n",
       "jcf7190000000173-53990                    1            2           0.138025   \n",
       "jcf7190000000173-54077                    1            3           0.098304   \n",
       "jcf7190000000173-54079                    1            4          -0.315811   \n",
       "jcf7190000000175-694991                   1            5           0.007100   \n",
       "\n",
       "                         chain_3-SD_Pearson  chain_3-BF(dB)  chain_3-Beta_is  \\\n",
       "                                                                               \n",
       "jcf7190000000173-53983             0.108892      -11.485402         0.004402   \n",
       "jcf7190000000173-53990             0.089909       -9.095828         0.012929   \n",
       "jcf7190000000173-54077             0.125211       -8.882401         0.007323   \n",
       "jcf7190000000173-54079             0.093868        2.690513        -0.036024   \n",
       "jcf7190000000175-694991            0.142029       -9.047538        -0.000919   \n",
       "\n",
       "                         chain_3-SD_Beta_is  chain_3-eBPis chain_3-env  \\\n",
       "                                                                         \n",
       "jcf7190000000173-53983             0.007743       0.244355         MAT   \n",
       "jcf7190000000173-53990             0.007776       1.016016         MAT   \n",
       "jcf7190000000173-54077             0.009866       0.339217         MAT   \n",
       "jcf7190000000173-54079             0.011096       2.932549         MAT   \n",
       "jcf7190000000175-694991            0.013446       0.024345         MAT   \n",
       "\n",
       "                         chain_4-COVARIABLE  chain_4-MRK  chain_4-M_Pearson  \\\n",
       "                                                                              \n",
       "jcf7190000000173-53983                    1            1           0.079483   \n",
       "jcf7190000000173-53990                    1            2           0.132405   \n",
       "jcf7190000000173-54077                    1            3           0.094849   \n",
       "jcf7190000000173-54079                    1            4          -0.311026   \n",
       "jcf7190000000175-694991                   1            5           0.015815   \n",
       "\n",
       "                         chain_4-SD_Pearson  chain_4-BF(dB)  chain_4-Beta_is  \\\n",
       "                                                                               \n",
       "jcf7190000000173-53983             0.109376      -11.257677         0.005102   \n",
       "jcf7190000000173-53990             0.091455       -9.030425         0.013000   \n",
       "jcf7190000000173-54077             0.122109       -9.941120         0.006859   \n",
       "jcf7190000000173-54079             0.093750        2.151050        -0.036149   \n",
       "jcf7190000000175-694991            0.143690       -9.378904         0.000100   \n",
       "\n",
       "                         chain_4-SD_Beta_is  chain_4-eBPis chain_4-env  \\\n",
       "                                                                         \n",
       "jcf7190000000173-53983             0.008448       0.262895         MAT   \n",
       "jcf7190000000173-53990             0.008401       0.914581         MAT   \n",
       "jcf7190000000173-54077             0.008924       0.354482         MAT   \n",
       "jcf7190000000173-54079             0.011409       2.814687         MAT   \n",
       "jcf7190000000175-694991            0.013579       0.002572         MAT   \n",
       "\n",
       "                         chain_5-COVARIABLE  chain_5-MRK  chain_5-M_Pearson  \\\n",
       "                                                                              \n",
       "jcf7190000000173-53983                    1            1           0.074724   \n",
       "jcf7190000000173-53990                    1            2           0.149331   \n",
       "jcf7190000000173-54077                    1            3           0.098304   \n",
       "jcf7190000000173-54079                    1            4          -0.310201   \n",
       "jcf7190000000175-694991                   1            5           0.024580   \n",
       "\n",
       "                         chain_5-SD_Pearson  chain_5-BF(dB)  chain_5-Beta_is  \\\n",
       "                                                                               \n",
       "jcf7190000000173-53983             0.111477      -11.404766         0.004500   \n",
       "jcf7190000000173-53990             0.093419       -8.007362         0.014533   \n",
       "jcf7190000000173-54077             0.120438       -9.456504         0.007202   \n",
       "jcf7190000000173-54079             0.097990        2.680879        -0.035734   \n",
       "jcf7190000000175-694991            0.137073       -9.626582         0.001083   \n",
       "\n",
       "                         chain_5-SD_Beta_is  chain_5-eBPis chain_5-env  \n",
       "                                                                        \n",
       "jcf7190000000173-53983             0.008023       0.240422         MAT  \n",
       "jcf7190000000173-53990             0.008526       1.054013         MAT  \n",
       "jcf7190000000173-54077             0.009476       0.349476         MAT  \n",
       "jcf7190000000173-54079             0.011824       2.600388         MAT  \n",
       "jcf7190000000175-694991            0.012576       0.030874         MAT  "
      ]
     },
     "execution_count": 32,
     "metadata": {},
     "output_type": "execute_result"
    }
   ],
   "source": [
    "# concatenate environmental output by each env, combine chains into single df\n",
    "newdflst = {}\n",
    "for chain,envs in newenvlist.items():\n",
    "    for env,dfs in nb(envs.items(), desc=chain):\n",
    "        if env not in newdflst:\n",
    "            newdflst[env] = []\n",
    "        df = pd.concat(dfs)\n",
    "        df.columns = [f\"{chain}-{col}\" for col in df.columns]\n",
    "        newdflst[env].append(df)\n",
    "# combine chains for each env - should have done this in parallel\n",
    "newenvdfs = {}\n",
    "for env,lst in nb(newdflst.items(), desc='combo'):\n",
    "    assert len(lst) == 5\n",
    "    df = pd.merge(lst[0], lst[1], left_index=True, right_index=True)\n",
    "    df2 = pd.merge(lst[2], lst[3], left_index=True, right_index=True)\n",
    "    df3 = pd.merge(df, df2, left_index=True, right_index=True)\n",
    "    newenvdfs[env] = pd.merge(df3, lst[4], left_index=True, right_index=True)\n",
    "    \n",
    "    \n",
    "newenvdfs[env].head()           "
   ]
  },
  {
   "cell_type": "code",
   "execution_count": 33,
   "metadata": {},
   "outputs": [
    {
     "data": {
      "text/plain": [
       "(2139, 45)"
      ]
     },
     "execution_count": 33,
     "metadata": {},
     "output_type": "execute_result"
    }
   ],
   "source": [
    "newenvdfs[env].shape"
   ]
  },
  {
   "cell_type": "code",
   "execution_count": 34,
   "metadata": {},
   "outputs": [
    {
     "data": {
      "text/plain": [
       "True"
      ]
     },
     "execution_count": 34,
     "metadata": {},
     "output_type": "execute_result"
    }
   ],
   "source": [
    "newgfile_dir = op.join(cmddir, 'new_individual_gfiles')\n",
    "op.exists(newgfile_dir)"
   ]
  },
  {
   "cell_type": "code",
   "execution_count": 35,
   "metadata": {},
   "outputs": [
    {
     "name": "stderr",
     "output_type": "stream",
     "text": [
      "100%|██████████| 8/8 [00:00<00:00, 547.92it/s]\n"
     ]
    },
    {
     "data": {
      "text/plain": [
       "2139"
      ]
     },
     "execution_count": 35,
     "metadata": {},
     "output_type": "execute_result"
    }
   ],
   "source": [
    "# how many SNPs should be in each env file?\n",
    "newrows = 0\n",
    "for gfile in nb(fs(newgfile_dir, pattern='noheaderidx.txt')):\n",
    "    df = pd.read_table(gfile, usecols=[0], header=None)\n",
    "    newrows += nrow(df)\n",
    "newrows"
   ]
  },
  {
   "cell_type": "code",
   "execution_count": 36,
   "metadata": {},
   "outputs": [
    {
     "name": "stdout",
     "output_type": "stream",
     "text": [
      "\u001b[1mSHM\u001b[0m\n",
      "\t SHM 2139\n",
      "\u001b[1meFFP\u001b[0m\n",
      "\t eFFP 2139\n",
      "\u001b[1mEXT\u001b[0m\n",
      "\t EXT 2139\n",
      "\u001b[1mMWMT\u001b[0m\n",
      "\t MWMT 2139\n",
      "\u001b[1mbFFP\u001b[0m\n",
      "\t bFFP 2139\n",
      "\u001b[1mMCMT\u001b[0m\n",
      "\t MCMT 2139\n",
      "\u001b[1mFFP\u001b[0m\n",
      "\t FFP 2139\n",
      "\u001b[1mAHM\u001b[0m\n",
      "\t AHM 2139\n",
      "\u001b[1mDD5\u001b[0m\n",
      "\t DD5 2139\n",
      "\u001b[1mCMD\u001b[0m\n",
      "\t CMD 2139\n",
      "\u001b[1mMSP\u001b[0m\n",
      "\t MSP 2139\n",
      "\u001b[1mNFFD\u001b[0m\n",
      "\t NFFD 2139\n",
      "\u001b[1mTD\u001b[0m\n",
      "\t TD 2139\n",
      "\u001b[1mDD_0\u001b[0m\n",
      "\t DD_0 2139\n",
      "\u001b[1mEref\u001b[0m\n",
      "\t Eref 2139\n",
      "\u001b[1mEMT\u001b[0m\n",
      "\t EMT 2139\n",
      "\u001b[1mMAP\u001b[0m\n",
      "\t MAP 2139\n",
      "\u001b[1mPAS\u001b[0m\n",
      "\t PAS 2139\n",
      "\u001b[1mMAT\u001b[0m\n",
      "\t MAT 2139\n"
     ]
    }
   ],
   "source": [
    "# make sure that many SNPs are in each env file\n",
    "for env in newenvdfs:\n",
    "    print(ColorText(env).bold())\n",
    "    print('\\t',env, nrow(newenvdfs[env]))\n",
    "    if nrow(newenvdfs[env]) != newrows:\n",
    "        print(ColorText('CRAAAAAAAAAP').fail().bold())"
   ]
  },
  {
   "cell_type": "code",
   "execution_count": 38,
   "metadata": {},
   "outputs": [
    {
     "name": "stdout",
     "output_type": "stream",
     "text": [
      "\u001b[1m\n",
      "Watching 19 jobs ...\u001b[0m\n"
     ]
    },
    {
     "name": "stderr",
     "output_type": "stream",
     "text": [
      "100%|██████████| 19/19 [00:00<00:00, 98873.17it/s]\n"
     ]
    }
   ],
   "source": [
    "# call rank_baypass() in parallel for each environment\n",
    "jobs = []\n",
    "for env,df in newenvdfs.items():\n",
    "    bfcols = [col for col in df.columns if 'BF(dB)' in col]\n",
    "    assert len(bfcols) == 5  # num chains\n",
    "    jobs.append(lview.apply_async(rank_baypass, df[bfcols]))\n",
    "watch_async(jobs)"
   ]
  },
  {
   "cell_type": "code",
   "execution_count": 39,
   "metadata": {},
   "outputs": [
    {
     "data": {
      "text/html": [
       "<div>\n",
       "<style scoped>\n",
       "    .dataframe tbody tr th:only-of-type {\n",
       "        vertical-align: middle;\n",
       "    }\n",
       "\n",
       "    .dataframe tbody tr th {\n",
       "        vertical-align: top;\n",
       "    }\n",
       "\n",
       "    .dataframe thead th {\n",
       "        text-align: right;\n",
       "    }\n",
       "</style>\n",
       "<table border=\"1\" class=\"dataframe\">\n",
       "  <thead>\n",
       "    <tr style=\"text-align: right;\">\n",
       "      <th></th>\n",
       "      <th>chain_1-BF(dB)</th>\n",
       "      <th>chain_2-BF(dB)</th>\n",
       "      <th>chain_3-BF(dB)</th>\n",
       "      <th>chain_4-BF(dB)</th>\n",
       "      <th>chain_5-BF(dB)</th>\n",
       "      <th>rank_chain_1-BF(dB)</th>\n",
       "      <th>rank_chain_2-BF(dB)</th>\n",
       "      <th>rank_chain_3-BF(dB)</th>\n",
       "      <th>rank_chain_4-BF(dB)</th>\n",
       "      <th>rank_chain_5-BF(dB)</th>\n",
       "      <th>mean_BF(dB)</th>\n",
       "      <th>rank_mean_BF(dB)</th>\n",
       "      <th>BF(dB)_gte20_for-gte3chains</th>\n",
       "    </tr>\n",
       "    <tr>\n",
       "      <th></th>\n",
       "      <th></th>\n",
       "      <th></th>\n",
       "      <th></th>\n",
       "      <th></th>\n",
       "      <th></th>\n",
       "      <th></th>\n",
       "      <th></th>\n",
       "      <th></th>\n",
       "      <th></th>\n",
       "      <th></th>\n",
       "      <th></th>\n",
       "      <th></th>\n",
       "      <th></th>\n",
       "    </tr>\n",
       "  </thead>\n",
       "  <tbody>\n",
       "    <tr>\n",
       "      <th>jcf7190000000173-53983</th>\n",
       "      <td>-11.074667</td>\n",
       "      <td>-11.403047</td>\n",
       "      <td>-11.485402</td>\n",
       "      <td>-11.257677</td>\n",
       "      <td>-11.404766</td>\n",
       "      <td>1313</td>\n",
       "      <td>1426</td>\n",
       "      <td>1438</td>\n",
       "      <td>1397</td>\n",
       "      <td>1421</td>\n",
       "      <td>-11.325112</td>\n",
       "      <td>1413</td>\n",
       "      <td>False</td>\n",
       "    </tr>\n",
       "    <tr>\n",
       "      <th>jcf7190000000173-53990</th>\n",
       "      <td>-8.895280</td>\n",
       "      <td>-8.514792</td>\n",
       "      <td>-9.095828</td>\n",
       "      <td>-9.030425</td>\n",
       "      <td>-8.007362</td>\n",
       "      <td>561</td>\n",
       "      <td>481</td>\n",
       "      <td>638</td>\n",
       "      <td>606</td>\n",
       "      <td>421</td>\n",
       "      <td>-8.708737</td>\n",
       "      <td>527</td>\n",
       "      <td>False</td>\n",
       "    </tr>\n",
       "    <tr>\n",
       "      <th>jcf7190000000173-54077</th>\n",
       "      <td>-10.105262</td>\n",
       "      <td>-9.652747</td>\n",
       "      <td>-8.882401</td>\n",
       "      <td>-9.941120</td>\n",
       "      <td>-9.456504</td>\n",
       "      <td>976</td>\n",
       "      <td>793</td>\n",
       "      <td>582</td>\n",
       "      <td>908</td>\n",
       "      <td>744</td>\n",
       "      <td>-9.607607</td>\n",
       "      <td>793</td>\n",
       "      <td>False</td>\n",
       "    </tr>\n",
       "    <tr>\n",
       "      <th>jcf7190000000173-54079</th>\n",
       "      <td>2.723727</td>\n",
       "      <td>9.905666</td>\n",
       "      <td>2.690513</td>\n",
       "      <td>2.151050</td>\n",
       "      <td>2.680879</td>\n",
       "      <td>14</td>\n",
       "      <td>3</td>\n",
       "      <td>12</td>\n",
       "      <td>20</td>\n",
       "      <td>16</td>\n",
       "      <td>4.030367</td>\n",
       "      <td>6</td>\n",
       "      <td>False</td>\n",
       "    </tr>\n",
       "    <tr>\n",
       "      <th>jcf7190000000175-694991</th>\n",
       "      <td>-8.010221</td>\n",
       "      <td>-9.356979</td>\n",
       "      <td>-9.047538</td>\n",
       "      <td>-9.378904</td>\n",
       "      <td>-9.626582</td>\n",
       "      <td>408</td>\n",
       "      <td>684</td>\n",
       "      <td>626</td>\n",
       "      <td>711</td>\n",
       "      <td>804</td>\n",
       "      <td>-9.084045</td>\n",
       "      <td>611</td>\n",
       "      <td>False</td>\n",
       "    </tr>\n",
       "  </tbody>\n",
       "</table>\n",
       "</div>"
      ],
      "text/plain": [
       "                         chain_1-BF(dB)  chain_2-BF(dB)  chain_3-BF(dB)  \\\n",
       "                                                                          \n",
       "jcf7190000000173-53983       -11.074667      -11.403047      -11.485402   \n",
       "jcf7190000000173-53990        -8.895280       -8.514792       -9.095828   \n",
       "jcf7190000000173-54077       -10.105262       -9.652747       -8.882401   \n",
       "jcf7190000000173-54079         2.723727        9.905666        2.690513   \n",
       "jcf7190000000175-694991       -8.010221       -9.356979       -9.047538   \n",
       "\n",
       "                         chain_4-BF(dB)  chain_5-BF(dB)  rank_chain_1-BF(dB)  \\\n",
       "                                                                               \n",
       "jcf7190000000173-53983       -11.257677      -11.404766                 1313   \n",
       "jcf7190000000173-53990        -9.030425       -8.007362                  561   \n",
       "jcf7190000000173-54077        -9.941120       -9.456504                  976   \n",
       "jcf7190000000173-54079         2.151050        2.680879                   14   \n",
       "jcf7190000000175-694991       -9.378904       -9.626582                  408   \n",
       "\n",
       "                         rank_chain_2-BF(dB)  rank_chain_3-BF(dB)  \\\n",
       "                                                                    \n",
       "jcf7190000000173-53983                  1426                 1438   \n",
       "jcf7190000000173-53990                   481                  638   \n",
       "jcf7190000000173-54077                   793                  582   \n",
       "jcf7190000000173-54079                     3                   12   \n",
       "jcf7190000000175-694991                  684                  626   \n",
       "\n",
       "                         rank_chain_4-BF(dB)  rank_chain_5-BF(dB)  \\\n",
       "                                                                    \n",
       "jcf7190000000173-53983                  1397                 1421   \n",
       "jcf7190000000173-53990                   606                  421   \n",
       "jcf7190000000173-54077                   908                  744   \n",
       "jcf7190000000173-54079                    20                   16   \n",
       "jcf7190000000175-694991                  711                  804   \n",
       "\n",
       "                         mean_BF(dB)  rank_mean_BF(dB)  \\\n",
       "                                                         \n",
       "jcf7190000000173-53983    -11.325112              1413   \n",
       "jcf7190000000173-53990     -8.708737               527   \n",
       "jcf7190000000173-54077     -9.607607               793   \n",
       "jcf7190000000173-54079      4.030367                 6   \n",
       "jcf7190000000175-694991    -9.084045               611   \n",
       "\n",
       "                         BF(dB)_gte20_for-gte3chains  \n",
       "                                                      \n",
       "jcf7190000000173-53983                         False  \n",
       "jcf7190000000173-53990                         False  \n",
       "jcf7190000000173-54077                         False  \n",
       "jcf7190000000173-54079                         False  \n",
       "jcf7190000000175-694991                        False  "
      ]
     },
     "execution_count": 39,
     "metadata": {},
     "output_type": "execute_result"
    }
   ],
   "source": [
    "# get the returns from the engines\n",
    "new_newenvdfs = {}\n",
    "for i,env in enumerate(newenvdfs):\n",
    "    new_newenvdfs[env] = jobs[i].r\n",
    "new_newenvdfs[env].head()    "
   ]
  },
  {
   "cell_type": "code",
   "execution_count": 40,
   "metadata": {},
   "outputs": [
    {
     "name": "stdout",
     "output_type": "stream",
     "text": [
      "MAT\n"
     ]
    },
    {
     "data": {
      "text/html": [
       "<div>\n",
       "<style scoped>\n",
       "    .dataframe tbody tr th:only-of-type {\n",
       "        vertical-align: middle;\n",
       "    }\n",
       "\n",
       "    .dataframe tbody tr th {\n",
       "        vertical-align: top;\n",
       "    }\n",
       "\n",
       "    .dataframe thead th {\n",
       "        text-align: right;\n",
       "    }\n",
       "</style>\n",
       "<table border=\"1\" class=\"dataframe\">\n",
       "  <thead>\n",
       "    <tr style=\"text-align: right;\">\n",
       "      <th></th>\n",
       "      <th>chain_1-COVARIABLE</th>\n",
       "      <th>chain_1-MRK</th>\n",
       "      <th>chain_1-M_Pearson</th>\n",
       "      <th>chain_1-SD_Pearson</th>\n",
       "      <th>chain_1-BF(dB)</th>\n",
       "      <th>chain_1-Beta_is</th>\n",
       "      <th>chain_1-SD_Beta_is</th>\n",
       "      <th>chain_1-eBPis</th>\n",
       "      <th>chain_1-env</th>\n",
       "      <th>chain_2-COVARIABLE</th>\n",
       "      <th>chain_2-MRK</th>\n",
       "      <th>chain_2-M_Pearson</th>\n",
       "      <th>chain_2-SD_Pearson</th>\n",
       "      <th>chain_2-BF(dB)</th>\n",
       "      <th>chain_2-Beta_is</th>\n",
       "      <th>chain_2-SD_Beta_is</th>\n",
       "      <th>chain_2-eBPis</th>\n",
       "      <th>chain_2-env</th>\n",
       "      <th>chain_3-COVARIABLE</th>\n",
       "      <th>chain_3-MRK</th>\n",
       "      <th>chain_3-M_Pearson</th>\n",
       "      <th>chain_3-SD_Pearson</th>\n",
       "      <th>chain_3-BF(dB)</th>\n",
       "      <th>chain_3-Beta_is</th>\n",
       "      <th>chain_3-SD_Beta_is</th>\n",
       "      <th>chain_3-eBPis</th>\n",
       "      <th>chain_3-env</th>\n",
       "      <th>chain_4-COVARIABLE</th>\n",
       "      <th>chain_4-MRK</th>\n",
       "      <th>chain_4-M_Pearson</th>\n",
       "      <th>chain_4-SD_Pearson</th>\n",
       "      <th>chain_4-BF(dB)</th>\n",
       "      <th>chain_4-Beta_is</th>\n",
       "      <th>chain_4-SD_Beta_is</th>\n",
       "      <th>chain_4-eBPis</th>\n",
       "      <th>chain_4-env</th>\n",
       "      <th>chain_5-COVARIABLE</th>\n",
       "      <th>chain_5-MRK</th>\n",
       "      <th>chain_5-M_Pearson</th>\n",
       "      <th>chain_5-SD_Pearson</th>\n",
       "      <th>chain_5-BF(dB)</th>\n",
       "      <th>chain_5-Beta_is</th>\n",
       "      <th>chain_5-SD_Beta_is</th>\n",
       "      <th>chain_5-eBPis</th>\n",
       "      <th>chain_5-env</th>\n",
       "      <th>rank_chain_1-BF(dB)</th>\n",
       "      <th>rank_chain_2-BF(dB)</th>\n",
       "      <th>rank_chain_3-BF(dB)</th>\n",
       "      <th>rank_chain_4-BF(dB)</th>\n",
       "      <th>rank_chain_5-BF(dB)</th>\n",
       "      <th>mean_BF(dB)</th>\n",
       "      <th>rank_mean_BF(dB)</th>\n",
       "      <th>BF(dB)_gte20_for-gte3chains</th>\n",
       "    </tr>\n",
       "    <tr>\n",
       "      <th></th>\n",
       "      <th></th>\n",
       "      <th></th>\n",
       "      <th></th>\n",
       "      <th></th>\n",
       "      <th></th>\n",
       "      <th></th>\n",
       "      <th></th>\n",
       "      <th></th>\n",
       "      <th></th>\n",
       "      <th></th>\n",
       "      <th></th>\n",
       "      <th></th>\n",
       "      <th></th>\n",
       "      <th></th>\n",
       "      <th></th>\n",
       "      <th></th>\n",
       "      <th></th>\n",
       "      <th></th>\n",
       "      <th></th>\n",
       "      <th></th>\n",
       "      <th></th>\n",
       "      <th></th>\n",
       "      <th></th>\n",
       "      <th></th>\n",
       "      <th></th>\n",
       "      <th></th>\n",
       "      <th></th>\n",
       "      <th></th>\n",
       "      <th></th>\n",
       "      <th></th>\n",
       "      <th></th>\n",
       "      <th></th>\n",
       "      <th></th>\n",
       "      <th></th>\n",
       "      <th></th>\n",
       "      <th></th>\n",
       "      <th></th>\n",
       "      <th></th>\n",
       "      <th></th>\n",
       "      <th></th>\n",
       "      <th></th>\n",
       "      <th></th>\n",
       "      <th></th>\n",
       "      <th></th>\n",
       "      <th></th>\n",
       "      <th></th>\n",
       "      <th></th>\n",
       "      <th></th>\n",
       "      <th></th>\n",
       "      <th></th>\n",
       "      <th></th>\n",
       "      <th></th>\n",
       "      <th></th>\n",
       "    </tr>\n",
       "  </thead>\n",
       "  <tbody>\n",
       "    <tr>\n",
       "      <th>jcf7190000000173-53983</th>\n",
       "      <td>1</td>\n",
       "      <td>1</td>\n",
       "      <td>0.077896</td>\n",
       "      <td>0.111443</td>\n",
       "      <td>-11.074667</td>\n",
       "      <td>0.004942</td>\n",
       "      <td>0.008360</td>\n",
       "      <td>0.256136</td>\n",
       "      <td>MAT</td>\n",
       "      <td>1</td>\n",
       "      <td>1</td>\n",
       "      <td>0.076839</td>\n",
       "      <td>0.106307</td>\n",
       "      <td>-11.403047</td>\n",
       "      <td>0.004616</td>\n",
       "      <td>0.007741</td>\n",
       "      <td>0.258851</td>\n",
       "      <td>MAT</td>\n",
       "      <td>1</td>\n",
       "      <td>1</td>\n",
       "      <td>0.070211</td>\n",
       "      <td>0.108892</td>\n",
       "      <td>-11.485402</td>\n",
       "      <td>0.004402</td>\n",
       "      <td>0.007743</td>\n",
       "      <td>0.244355</td>\n",
       "      <td>MAT</td>\n",
       "      <td>1</td>\n",
       "      <td>1</td>\n",
       "      <td>0.079483</td>\n",
       "      <td>0.109376</td>\n",
       "      <td>-11.257677</td>\n",
       "      <td>0.005102</td>\n",
       "      <td>0.008448</td>\n",
       "      <td>0.262895</td>\n",
       "      <td>MAT</td>\n",
       "      <td>1</td>\n",
       "      <td>1</td>\n",
       "      <td>0.074724</td>\n",
       "      <td>0.111477</td>\n",
       "      <td>-11.404766</td>\n",
       "      <td>0.004500</td>\n",
       "      <td>0.008023</td>\n",
       "      <td>0.240422</td>\n",
       "      <td>MAT</td>\n",
       "      <td>1313</td>\n",
       "      <td>1426</td>\n",
       "      <td>1438</td>\n",
       "      <td>1397</td>\n",
       "      <td>1421</td>\n",
       "      <td>-11.325112</td>\n",
       "      <td>1413</td>\n",
       "      <td>False</td>\n",
       "    </tr>\n",
       "    <tr>\n",
       "      <th>jcf7190000000173-53990</th>\n",
       "      <td>1</td>\n",
       "      <td>2</td>\n",
       "      <td>0.133828</td>\n",
       "      <td>0.090993</td>\n",
       "      <td>-8.895280</td>\n",
       "      <td>0.013107</td>\n",
       "      <td>0.008263</td>\n",
       "      <td>0.948085</td>\n",
       "      <td>MAT</td>\n",
       "      <td>1</td>\n",
       "      <td>2</td>\n",
       "      <td>0.150069</td>\n",
       "      <td>0.088278</td>\n",
       "      <td>-8.514792</td>\n",
       "      <td>0.014912</td>\n",
       "      <td>0.008131</td>\n",
       "      <td>1.176168</td>\n",
       "      <td>MAT</td>\n",
       "      <td>1</td>\n",
       "      <td>2</td>\n",
       "      <td>0.138025</td>\n",
       "      <td>0.089909</td>\n",
       "      <td>-9.095828</td>\n",
       "      <td>0.012929</td>\n",
       "      <td>0.007776</td>\n",
       "      <td>1.016016</td>\n",
       "      <td>MAT</td>\n",
       "      <td>1</td>\n",
       "      <td>2</td>\n",
       "      <td>0.132405</td>\n",
       "      <td>0.091455</td>\n",
       "      <td>-9.030425</td>\n",
       "      <td>0.013000</td>\n",
       "      <td>0.008401</td>\n",
       "      <td>0.914581</td>\n",
       "      <td>MAT</td>\n",
       "      <td>1</td>\n",
       "      <td>2</td>\n",
       "      <td>0.149331</td>\n",
       "      <td>0.093419</td>\n",
       "      <td>-8.007362</td>\n",
       "      <td>0.014533</td>\n",
       "      <td>0.008526</td>\n",
       "      <td>1.054013</td>\n",
       "      <td>MAT</td>\n",
       "      <td>561</td>\n",
       "      <td>481</td>\n",
       "      <td>638</td>\n",
       "      <td>606</td>\n",
       "      <td>421</td>\n",
       "      <td>-8.708737</td>\n",
       "      <td>527</td>\n",
       "      <td>False</td>\n",
       "    </tr>\n",
       "    <tr>\n",
       "      <th>jcf7190000000173-54077</th>\n",
       "      <td>1</td>\n",
       "      <td>3</td>\n",
       "      <td>0.108801</td>\n",
       "      <td>0.115267</td>\n",
       "      <td>-10.105262</td>\n",
       "      <td>0.007948</td>\n",
       "      <td>0.008687</td>\n",
       "      <td>0.443464</td>\n",
       "      <td>MAT</td>\n",
       "      <td>1</td>\n",
       "      <td>3</td>\n",
       "      <td>0.100888</td>\n",
       "      <td>0.117872</td>\n",
       "      <td>-9.652747</td>\n",
       "      <td>0.007437</td>\n",
       "      <td>0.008989</td>\n",
       "      <td>0.389314</td>\n",
       "      <td>MAT</td>\n",
       "      <td>1</td>\n",
       "      <td>3</td>\n",
       "      <td>0.098304</td>\n",
       "      <td>0.125211</td>\n",
       "      <td>-8.882401</td>\n",
       "      <td>0.007323</td>\n",
       "      <td>0.009866</td>\n",
       "      <td>0.339217</td>\n",
       "      <td>MAT</td>\n",
       "      <td>1</td>\n",
       "      <td>3</td>\n",
       "      <td>0.094849</td>\n",
       "      <td>0.122109</td>\n",
       "      <td>-9.941120</td>\n",
       "      <td>0.006859</td>\n",
       "      <td>0.008924</td>\n",
       "      <td>0.354482</td>\n",
       "      <td>MAT</td>\n",
       "      <td>1</td>\n",
       "      <td>3</td>\n",
       "      <td>0.098304</td>\n",
       "      <td>0.120438</td>\n",
       "      <td>-9.456504</td>\n",
       "      <td>0.007202</td>\n",
       "      <td>0.009476</td>\n",
       "      <td>0.349476</td>\n",
       "      <td>MAT</td>\n",
       "      <td>976</td>\n",
       "      <td>793</td>\n",
       "      <td>582</td>\n",
       "      <td>908</td>\n",
       "      <td>744</td>\n",
       "      <td>-9.607607</td>\n",
       "      <td>793</td>\n",
       "      <td>False</td>\n",
       "    </tr>\n",
       "    <tr>\n",
       "      <th>jcf7190000000173-54079</th>\n",
       "      <td>1</td>\n",
       "      <td>4</td>\n",
       "      <td>-0.307215</td>\n",
       "      <td>0.095888</td>\n",
       "      <td>2.723727</td>\n",
       "      <td>-0.035957</td>\n",
       "      <td>0.011648</td>\n",
       "      <td>2.694266</td>\n",
       "      <td>MAT</td>\n",
       "      <td>1</td>\n",
       "      <td>4</td>\n",
       "      <td>-0.315446</td>\n",
       "      <td>0.093849</td>\n",
       "      <td>9.905666</td>\n",
       "      <td>-0.036318</td>\n",
       "      <td>0.011430</td>\n",
       "      <td>2.827986</td>\n",
       "      <td>MAT</td>\n",
       "      <td>1</td>\n",
       "      <td>4</td>\n",
       "      <td>-0.315811</td>\n",
       "      <td>0.093868</td>\n",
       "      <td>2.690513</td>\n",
       "      <td>-0.036024</td>\n",
       "      <td>0.011096</td>\n",
       "      <td>2.932549</td>\n",
       "      <td>MAT</td>\n",
       "      <td>1</td>\n",
       "      <td>4</td>\n",
       "      <td>-0.311026</td>\n",
       "      <td>0.093750</td>\n",
       "      <td>2.151050</td>\n",
       "      <td>-0.036149</td>\n",
       "      <td>0.011409</td>\n",
       "      <td>2.814687</td>\n",
       "      <td>MAT</td>\n",
       "      <td>1</td>\n",
       "      <td>4</td>\n",
       "      <td>-0.310201</td>\n",
       "      <td>0.097990</td>\n",
       "      <td>2.680879</td>\n",
       "      <td>-0.035734</td>\n",
       "      <td>0.011824</td>\n",
       "      <td>2.600388</td>\n",
       "      <td>MAT</td>\n",
       "      <td>14</td>\n",
       "      <td>3</td>\n",
       "      <td>12</td>\n",
       "      <td>20</td>\n",
       "      <td>16</td>\n",
       "      <td>4.030367</td>\n",
       "      <td>6</td>\n",
       "      <td>False</td>\n",
       "    </tr>\n",
       "    <tr>\n",
       "      <th>jcf7190000000175-694991</th>\n",
       "      <td>1</td>\n",
       "      <td>5</td>\n",
       "      <td>0.002649</td>\n",
       "      <td>0.137812</td>\n",
       "      <td>-8.010221</td>\n",
       "      <td>-0.000922</td>\n",
       "      <td>0.012645</td>\n",
       "      <td>0.026007</td>\n",
       "      <td>MAT</td>\n",
       "      <td>1</td>\n",
       "      <td>5</td>\n",
       "      <td>0.003857</td>\n",
       "      <td>0.141701</td>\n",
       "      <td>-9.356979</td>\n",
       "      <td>-0.000680</td>\n",
       "      <td>0.013406</td>\n",
       "      <td>0.017922</td>\n",
       "      <td>MAT</td>\n",
       "      <td>1</td>\n",
       "      <td>5</td>\n",
       "      <td>0.007100</td>\n",
       "      <td>0.142029</td>\n",
       "      <td>-9.047538</td>\n",
       "      <td>-0.000919</td>\n",
       "      <td>0.013446</td>\n",
       "      <td>0.024345</td>\n",
       "      <td>MAT</td>\n",
       "      <td>1</td>\n",
       "      <td>5</td>\n",
       "      <td>0.015815</td>\n",
       "      <td>0.143690</td>\n",
       "      <td>-9.378904</td>\n",
       "      <td>0.000100</td>\n",
       "      <td>0.013579</td>\n",
       "      <td>0.002572</td>\n",
       "      <td>MAT</td>\n",
       "      <td>1</td>\n",
       "      <td>5</td>\n",
       "      <td>0.024580</td>\n",
       "      <td>0.137073</td>\n",
       "      <td>-9.626582</td>\n",
       "      <td>0.001083</td>\n",
       "      <td>0.012576</td>\n",
       "      <td>0.030874</td>\n",
       "      <td>MAT</td>\n",
       "      <td>408</td>\n",
       "      <td>684</td>\n",
       "      <td>626</td>\n",
       "      <td>711</td>\n",
       "      <td>804</td>\n",
       "      <td>-9.084045</td>\n",
       "      <td>611</td>\n",
       "      <td>False</td>\n",
       "    </tr>\n",
       "  </tbody>\n",
       "</table>\n",
       "</div>"
      ],
      "text/plain": [
       "                         chain_1-COVARIABLE  chain_1-MRK  chain_1-M_Pearson  \\\n",
       "                                                                              \n",
       "jcf7190000000173-53983                    1            1           0.077896   \n",
       "jcf7190000000173-53990                    1            2           0.133828   \n",
       "jcf7190000000173-54077                    1            3           0.108801   \n",
       "jcf7190000000173-54079                    1            4          -0.307215   \n",
       "jcf7190000000175-694991                   1            5           0.002649   \n",
       "\n",
       "                         chain_1-SD_Pearson  chain_1-BF(dB)  chain_1-Beta_is  \\\n",
       "                                                                               \n",
       "jcf7190000000173-53983             0.111443      -11.074667         0.004942   \n",
       "jcf7190000000173-53990             0.090993       -8.895280         0.013107   \n",
       "jcf7190000000173-54077             0.115267      -10.105262         0.007948   \n",
       "jcf7190000000173-54079             0.095888        2.723727        -0.035957   \n",
       "jcf7190000000175-694991            0.137812       -8.010221        -0.000922   \n",
       "\n",
       "                         chain_1-SD_Beta_is  chain_1-eBPis chain_1-env  \\\n",
       "                                                                         \n",
       "jcf7190000000173-53983             0.008360       0.256136         MAT   \n",
       "jcf7190000000173-53990             0.008263       0.948085         MAT   \n",
       "jcf7190000000173-54077             0.008687       0.443464         MAT   \n",
       "jcf7190000000173-54079             0.011648       2.694266         MAT   \n",
       "jcf7190000000175-694991            0.012645       0.026007         MAT   \n",
       "\n",
       "                         chain_2-COVARIABLE  chain_2-MRK  chain_2-M_Pearson  \\\n",
       "                                                                              \n",
       "jcf7190000000173-53983                    1            1           0.076839   \n",
       "jcf7190000000173-53990                    1            2           0.150069   \n",
       "jcf7190000000173-54077                    1            3           0.100888   \n",
       "jcf7190000000173-54079                    1            4          -0.315446   \n",
       "jcf7190000000175-694991                   1            5           0.003857   \n",
       "\n",
       "                         chain_2-SD_Pearson  chain_2-BF(dB)  chain_2-Beta_is  \\\n",
       "                                                                               \n",
       "jcf7190000000173-53983             0.106307      -11.403047         0.004616   \n",
       "jcf7190000000173-53990             0.088278       -8.514792         0.014912   \n",
       "jcf7190000000173-54077             0.117872       -9.652747         0.007437   \n",
       "jcf7190000000173-54079             0.093849        9.905666        -0.036318   \n",
       "jcf7190000000175-694991            0.141701       -9.356979        -0.000680   \n",
       "\n",
       "                         chain_2-SD_Beta_is  chain_2-eBPis chain_2-env  \\\n",
       "                                                                         \n",
       "jcf7190000000173-53983             0.007741       0.258851         MAT   \n",
       "jcf7190000000173-53990             0.008131       1.176168         MAT   \n",
       "jcf7190000000173-54077             0.008989       0.389314         MAT   \n",
       "jcf7190000000173-54079             0.011430       2.827986         MAT   \n",
       "jcf7190000000175-694991            0.013406       0.017922         MAT   \n",
       "\n",
       "                         chain_3-COVARIABLE  chain_3-MRK  chain_3-M_Pearson  \\\n",
       "                                                                              \n",
       "jcf7190000000173-53983                    1            1           0.070211   \n",
       "jcf7190000000173-53990                    1            2           0.138025   \n",
       "jcf7190000000173-54077                    1            3           0.098304   \n",
       "jcf7190000000173-54079                    1            4          -0.315811   \n",
       "jcf7190000000175-694991                   1            5           0.007100   \n",
       "\n",
       "                         chain_3-SD_Pearson  chain_3-BF(dB)  chain_3-Beta_is  \\\n",
       "                                                                               \n",
       "jcf7190000000173-53983             0.108892      -11.485402         0.004402   \n",
       "jcf7190000000173-53990             0.089909       -9.095828         0.012929   \n",
       "jcf7190000000173-54077             0.125211       -8.882401         0.007323   \n",
       "jcf7190000000173-54079             0.093868        2.690513        -0.036024   \n",
       "jcf7190000000175-694991            0.142029       -9.047538        -0.000919   \n",
       "\n",
       "                         chain_3-SD_Beta_is  chain_3-eBPis chain_3-env  \\\n",
       "                                                                         \n",
       "jcf7190000000173-53983             0.007743       0.244355         MAT   \n",
       "jcf7190000000173-53990             0.007776       1.016016         MAT   \n",
       "jcf7190000000173-54077             0.009866       0.339217         MAT   \n",
       "jcf7190000000173-54079             0.011096       2.932549         MAT   \n",
       "jcf7190000000175-694991            0.013446       0.024345         MAT   \n",
       "\n",
       "                         chain_4-COVARIABLE  chain_4-MRK  chain_4-M_Pearson  \\\n",
       "                                                                              \n",
       "jcf7190000000173-53983                    1            1           0.079483   \n",
       "jcf7190000000173-53990                    1            2           0.132405   \n",
       "jcf7190000000173-54077                    1            3           0.094849   \n",
       "jcf7190000000173-54079                    1            4          -0.311026   \n",
       "jcf7190000000175-694991                   1            5           0.015815   \n",
       "\n",
       "                         chain_4-SD_Pearson  chain_4-BF(dB)  chain_4-Beta_is  \\\n",
       "                                                                               \n",
       "jcf7190000000173-53983             0.109376      -11.257677         0.005102   \n",
       "jcf7190000000173-53990             0.091455       -9.030425         0.013000   \n",
       "jcf7190000000173-54077             0.122109       -9.941120         0.006859   \n",
       "jcf7190000000173-54079             0.093750        2.151050        -0.036149   \n",
       "jcf7190000000175-694991            0.143690       -9.378904         0.000100   \n",
       "\n",
       "                         chain_4-SD_Beta_is  chain_4-eBPis chain_4-env  \\\n",
       "                                                                         \n",
       "jcf7190000000173-53983             0.008448       0.262895         MAT   \n",
       "jcf7190000000173-53990             0.008401       0.914581         MAT   \n",
       "jcf7190000000173-54077             0.008924       0.354482         MAT   \n",
       "jcf7190000000173-54079             0.011409       2.814687         MAT   \n",
       "jcf7190000000175-694991            0.013579       0.002572         MAT   \n",
       "\n",
       "                         chain_5-COVARIABLE  chain_5-MRK  chain_5-M_Pearson  \\\n",
       "                                                                              \n",
       "jcf7190000000173-53983                    1            1           0.074724   \n",
       "jcf7190000000173-53990                    1            2           0.149331   \n",
       "jcf7190000000173-54077                    1            3           0.098304   \n",
       "jcf7190000000173-54079                    1            4          -0.310201   \n",
       "jcf7190000000175-694991                   1            5           0.024580   \n",
       "\n",
       "                         chain_5-SD_Pearson  chain_5-BF(dB)  chain_5-Beta_is  \\\n",
       "                                                                               \n",
       "jcf7190000000173-53983             0.111477      -11.404766         0.004500   \n",
       "jcf7190000000173-53990             0.093419       -8.007362         0.014533   \n",
       "jcf7190000000173-54077             0.120438       -9.456504         0.007202   \n",
       "jcf7190000000173-54079             0.097990        2.680879        -0.035734   \n",
       "jcf7190000000175-694991            0.137073       -9.626582         0.001083   \n",
       "\n",
       "                         chain_5-SD_Beta_is  chain_5-eBPis chain_5-env  \\\n",
       "                                                                         \n",
       "jcf7190000000173-53983             0.008023       0.240422         MAT   \n",
       "jcf7190000000173-53990             0.008526       1.054013         MAT   \n",
       "jcf7190000000173-54077             0.009476       0.349476         MAT   \n",
       "jcf7190000000173-54079             0.011824       2.600388         MAT   \n",
       "jcf7190000000175-694991            0.012576       0.030874         MAT   \n",
       "\n",
       "                         rank_chain_1-BF(dB)  rank_chain_2-BF(dB)  \\\n",
       "                                                                    \n",
       "jcf7190000000173-53983                  1313                 1426   \n",
       "jcf7190000000173-53990                   561                  481   \n",
       "jcf7190000000173-54077                   976                  793   \n",
       "jcf7190000000173-54079                    14                    3   \n",
       "jcf7190000000175-694991                  408                  684   \n",
       "\n",
       "                         rank_chain_3-BF(dB)  rank_chain_4-BF(dB)  \\\n",
       "                                                                    \n",
       "jcf7190000000173-53983                  1438                 1397   \n",
       "jcf7190000000173-53990                   638                  606   \n",
       "jcf7190000000173-54077                   582                  908   \n",
       "jcf7190000000173-54079                    12                   20   \n",
       "jcf7190000000175-694991                  626                  711   \n",
       "\n",
       "                         rank_chain_5-BF(dB)  mean_BF(dB)  rank_mean_BF(dB)  \\\n",
       "                                                                              \n",
       "jcf7190000000173-53983                  1421   -11.325112              1413   \n",
       "jcf7190000000173-53990                   421    -8.708737               527   \n",
       "jcf7190000000173-54077                   744    -9.607607               793   \n",
       "jcf7190000000173-54079                    16     4.030367                 6   \n",
       "jcf7190000000175-694991                  804    -9.084045               611   \n",
       "\n",
       "                         BF(dB)_gte20_for-gte3chains  \n",
       "                                                      \n",
       "jcf7190000000173-53983                         False  \n",
       "jcf7190000000173-53990                         False  \n",
       "jcf7190000000173-54077                         False  \n",
       "jcf7190000000173-54079                         False  \n",
       "jcf7190000000175-694991                        False  "
      ]
     },
     "execution_count": 40,
     "metadata": {},
     "output_type": "execute_result"
    }
   ],
   "source": [
    "# add in the new columns\n",
    "for env,df in newenvdfs.items():\n",
    "    update([env])\n",
    "    newcols = [col for col in new_newenvdfs[env].columns if col not in df.columns]\n",
    "    newenvdfs[env] = pd.merge(df, new_newenvdfs[env][newcols], right_index=True, left_index=True)\n",
    "newenvdfs[env].head()"
   ]
  },
  {
   "cell_type": "markdown",
   "metadata": {},
   "source": [
    "#### now remove new REPEATS from envdfs"
   ]
  },
  {
   "cell_type": "code",
   "execution_count": 44,
   "metadata": {},
   "outputs": [],
   "source": [
    "# reload submitted data\n",
    "envdfs = pklload(op.join(finaldir, 'envdfs_after_ranking.pkl'))"
   ]
  },
  {
   "cell_type": "code",
   "execution_count": 46,
   "metadata": {},
   "outputs": [
    {
     "data": {
      "text/plain": [
       "28907"
      ]
     },
     "execution_count": 46,
     "metadata": {},
     "output_type": "execute_result"
    }
   ],
   "source": [
    "# get list of loci names that are now REPEATS\n",
    "reps = pd.read_table('/data/projects/pool_seq/DF_datasets/previous_SNP_REPEATS/new_old/new_REPEATS.txt')\n",
    "reploci = reps['locus'].tolist()\n",
    "len(reploci)"
   ]
  },
  {
   "cell_type": "code",
   "execution_count": 89,
   "metadata": {},
   "outputs": [
    {
     "data": {
      "application/vnd.jupyter.widget-view+json": {
       "model_id": "b4901f64746442c49175d8586ec5361a",
       "version_major": 2,
       "version_minor": 0
      },
      "text/plain": [
       "HBox(children=(FloatProgress(value=0.0, max=19.0), HTML(value='')))"
      ]
     },
     "metadata": {},
     "output_type": "display_data"
    },
    {
     "name": "stdout",
     "output_type": "stream",
     "text": [
      "DD_0 19968\n",
      "FFP 19968\n",
      "SHM 19968\n",
      "TD 19968\n",
      "AHM 19968\n",
      "MWMT 19968\n",
      "MCMT 19968\n",
      "MSP 19968\n",
      "Eref 19968\n",
      "NFFD 19968\n",
      "DD5 19968\n",
      "eFFP 19968\n",
      "CMD 19968\n",
      "MAP 19968\n",
      "PAS 19968\n",
      "bFFP 19968\n",
      "MAT 19968\n",
      "EMT 19968\n",
      "EXT 19968\n",
      "\n"
     ]
    }
   ],
   "source": [
    "# drop reploci\n",
    "for env in tnb(envdfs):\n",
    "    df = envdfs[env]\n",
    "    rows = nrow(df)\n",
    "    df['index'] = range(len(df.index))  # use to reorder\n",
    "    keep = list(set(df.index) - set(reploci))  # SNPs remaining after removing new REPEATS\n",
    "    df = df.loc[keep]  # remove newREPEATS from df\n",
    "    df.sort_values(by='index', inplace=True)  # resort by original order\n",
    "    df.drop(columns=['index'], inplace=True)  # remove unnecessary column\n",
    "    envdfs[env] = df\n",
    "    print(env, rows - nrow(df))  # how many loci were removed as newREPEATS"
   ]
  },
  {
   "cell_type": "code",
   "execution_count": 90,
   "metadata": {},
   "outputs": [
    {
     "data": {
      "text/plain": [
       "2139"
      ]
     },
     "execution_count": 90,
     "metadata": {},
     "output_type": "execute_result"
    }
   ],
   "source": [
    "nrow(newenvdfs[env])"
   ]
  },
  {
   "cell_type": "code",
   "execution_count": 92,
   "metadata": {},
   "outputs": [
    {
     "name": "stdout",
     "output_type": "stream",
     "text": [
      "DD_0 2139\n",
      "FFP 2139\n",
      "SHM 2139\n",
      "TD 2139\n",
      "AHM 2139\n",
      "MWMT 2139\n",
      "MCMT 2139\n",
      "MSP 2139\n",
      "Eref 2139\n",
      "NFFD 2139\n",
      "DD5 2139\n",
      "eFFP 2139\n",
      "CMD 2139\n",
      "MAP 2139\n",
      "PAS 2139\n",
      "bFFP 2139\n",
      "MAT 2139\n",
      "EMT 2139\n",
      "EXT 2139\n"
     ]
    }
   ],
   "source": [
    "# add new loci\n",
    "for env,df in envdfs.items():\n",
    "    rows = nrow(df)\n",
    "    envdfs[env] = pd.concat([df, newenvdfs[env]])\n",
    "    print(env, nrow(envdfs[env]) - rows)  # how many loci were added"
   ]
  },
  {
   "cell_type": "code",
   "execution_count": 93,
   "metadata": {},
   "outputs": [
    {
     "name": "stdout",
     "output_type": "stream",
     "text": [
      "DD_0 2678398\n",
      "FFP 2678398\n",
      "SHM 2678398\n",
      "TD 2678398\n",
      "AHM 2678398\n",
      "MWMT 2678398\n",
      "MCMT 2678398\n",
      "MSP 2678398\n",
      "Eref 2678398\n",
      "NFFD 2678398\n",
      "DD5 2678398\n",
      "eFFP 2678398\n",
      "CMD 2678398\n",
      "MAP 2678398\n",
      "PAS 2678398\n",
      "bFFP 2678398\n",
      "MAT 2678398\n",
      "EMT 2678398\n",
      "EXT 2678398\n"
     ]
    }
   ],
   "source": [
    "# total loci\n",
    "for env,df in envdfs.items():\n",
    "    print(env, nrow(df))"
   ]
  },
  {
   "cell_type": "code",
   "execution_count": 94,
   "metadata": {},
   "outputs": [
    {
     "data": {
      "text/plain": [
       "2678398"
      ]
     },
     "execution_count": 94,
     "metadata": {},
     "output_type": "execute_result"
    }
   ],
   "source": [
    "# reload real data to check numbers\n",
    "# this file was remade while baypass jobs were running\n",
    "# if I sort out ADP I should get the same number of loci as above\n",
    "snps = pd.read_table('/data/projects/pool_seq/DF_datasets/DF_pooled_GEA/DF_pooled/snpsANDindels/interior_variety/03_maf-p05_RD-recalculated_FDI/DF_pooled-varscan_all_bedfiles_SNP_FDI_maf_RD-recalculated.txt',\n",
    "                     usecols=['locus', 'ADP'])\n",
    "reduced = snps[snps['ADP'] < 1000]\n",
    "nrow(reduced)"
   ]
  },
  {
   "cell_type": "code",
   "execution_count": 95,
   "metadata": {},
   "outputs": [
    {
     "data": {
      "text/plain": [
       "True"
      ]
     },
     "execution_count": 95,
     "metadata": {},
     "output_type": "execute_result"
    }
   ],
   "source": [
    "nrow(reduced) == nrow(envdfs[env])"
   ]
  },
  {
   "cell_type": "markdown",
   "metadata": {},
   "source": [
    "#### rerank loci"
   ]
  },
  {
   "cell_type": "code",
   "execution_count": 3,
   "metadata": {},
   "outputs": [
    {
     "name": "stdout",
     "output_type": "stream",
     "text": [
      "43 43\n"
     ]
    }
   ],
   "source": [
    "lview,dview = get_client()"
   ]
  },
  {
   "cell_type": "code",
   "execution_count": 6,
   "metadata": {},
   "outputs": [],
   "source": [
    "envdfs = pklload(op.join(finaldir, 'envdfs_after_ranking.pkl'))"
   ]
  },
  {
   "cell_type": "code",
   "execution_count": 8,
   "metadata": {},
   "outputs": [
    {
     "name": "stdout",
     "output_type": "stream",
     "text": [
      "\u001b[1m\n",
      "Watching 19 jobs ...\u001b[0m\n"
     ]
    },
    {
     "name": "stderr",
     "output_type": "stream",
     "text": [
      "100%|██████████| 19/19 [00:52<00:00,  2.76s/it]\n"
     ]
    }
   ],
   "source": [
    "# call rank_baypass() in parallel for each environment\n",
    "jobs = []\n",
    "for env,df in envdfs.items():\n",
    "    bfcols = [col for col in df.columns if 'BF(dB)' in col and col.startswith('chain')]\n",
    "    assert len(bfcols) == 5  # num chains\n",
    "    jobs.append(lview.apply_async(rank_baypass, df[bfcols]))\n",
    "watch_async(jobs)"
   ]
  },
  {
   "cell_type": "code",
   "execution_count": 9,
   "metadata": {},
   "outputs": [
    {
     "data": {
      "text/html": [
       "<div>\n",
       "<style scoped>\n",
       "    .dataframe tbody tr th:only-of-type {\n",
       "        vertical-align: middle;\n",
       "    }\n",
       "\n",
       "    .dataframe tbody tr th {\n",
       "        vertical-align: top;\n",
       "    }\n",
       "\n",
       "    .dataframe thead th {\n",
       "        text-align: right;\n",
       "    }\n",
       "</style>\n",
       "<table border=\"1\" class=\"dataframe\">\n",
       "  <thead>\n",
       "    <tr style=\"text-align: right;\">\n",
       "      <th></th>\n",
       "      <th>chain_1-BF(dB)</th>\n",
       "      <th>chain_2-BF(dB)</th>\n",
       "      <th>chain_3-BF(dB)</th>\n",
       "      <th>chain_4-BF(dB)</th>\n",
       "      <th>chain_5-BF(dB)</th>\n",
       "      <th>rank_chain_1-BF</th>\n",
       "      <th>rank_chain_2-BF</th>\n",
       "      <th>rank_chain_3-BF</th>\n",
       "      <th>rank_chain_4-BF</th>\n",
       "      <th>rank_chain_5-BF</th>\n",
       "      <th>mean_BF</th>\n",
       "      <th>rank_mean_BF</th>\n",
       "      <th>BF_gte20_for-gte3chains</th>\n",
       "      <th>BF_gte15_for-gte3chains</th>\n",
       "    </tr>\n",
       "    <tr>\n",
       "      <th></th>\n",
       "      <th></th>\n",
       "      <th></th>\n",
       "      <th></th>\n",
       "      <th></th>\n",
       "      <th></th>\n",
       "      <th></th>\n",
       "      <th></th>\n",
       "      <th></th>\n",
       "      <th></th>\n",
       "      <th></th>\n",
       "      <th></th>\n",
       "      <th></th>\n",
       "      <th></th>\n",
       "      <th></th>\n",
       "    </tr>\n",
       "  </thead>\n",
       "  <tbody>\n",
       "    <tr>\n",
       "      <th>jcf7190000000000-77657</th>\n",
       "      <td>-12.069102</td>\n",
       "      <td>-9.800956</td>\n",
       "      <td>-11.354296</td>\n",
       "      <td>-10.964986</td>\n",
       "      <td>-12.218243</td>\n",
       "      <td>2042787</td>\n",
       "      <td>1180345</td>\n",
       "      <td>1813140</td>\n",
       "      <td>1671019</td>\n",
       "      <td>2085473</td>\n",
       "      <td>0.074447</td>\n",
       "      <td>1796259</td>\n",
       "      <td>False</td>\n",
       "      <td>False</td>\n",
       "    </tr>\n",
       "    <tr>\n",
       "      <th>jcf7190000000000-77738</th>\n",
       "      <td>-9.452265</td>\n",
       "      <td>-7.866868</td>\n",
       "      <td>-9.102067</td>\n",
       "      <td>-8.421890</td>\n",
       "      <td>-10.146648</td>\n",
       "      <td>1036424</td>\n",
       "      <td>588863</td>\n",
       "      <td>905649</td>\n",
       "      <td>707317</td>\n",
       "      <td>1331789</td>\n",
       "      <td>0.125952</td>\n",
       "      <td>871710</td>\n",
       "      <td>False</td>\n",
       "      <td>False</td>\n",
       "    </tr>\n",
       "    <tr>\n",
       "      <th>jcf7190000000000-77764</th>\n",
       "      <td>-11.221672</td>\n",
       "      <td>-11.786993</td>\n",
       "      <td>-11.459481</td>\n",
       "      <td>-10.826779</td>\n",
       "      <td>-11.198963</td>\n",
       "      <td>1766256</td>\n",
       "      <td>1956936</td>\n",
       "      <td>1849384</td>\n",
       "      <td>1617782</td>\n",
       "      <td>1756806</td>\n",
       "      <td>0.074152</td>\n",
       "      <td>1802400</td>\n",
       "      <td>False</td>\n",
       "      <td>False</td>\n",
       "    </tr>\n",
       "    <tr>\n",
       "      <th>jcf7190000000004-54349</th>\n",
       "      <td>-9.263959</td>\n",
       "      <td>-8.824183</td>\n",
       "      <td>-9.150425</td>\n",
       "      <td>-9.394271</td>\n",
       "      <td>-8.386927</td>\n",
       "      <td>963380</td>\n",
       "      <td>815623</td>\n",
       "      <td>922527</td>\n",
       "      <td>1013050</td>\n",
       "      <td>698765</td>\n",
       "      <td>0.125778</td>\n",
       "      <td>873682</td>\n",
       "      <td>False</td>\n",
       "      <td>False</td>\n",
       "    </tr>\n",
       "    <tr>\n",
       "      <th>jcf7190000000004-54418</th>\n",
       "      <td>-10.166085</td>\n",
       "      <td>-9.994096</td>\n",
       "      <td>-10.218846</td>\n",
       "      <td>-10.258999</td>\n",
       "      <td>-10.113513</td>\n",
       "      <td>1341111</td>\n",
       "      <td>1264717</td>\n",
       "      <td>1363929</td>\n",
       "      <td>1382077</td>\n",
       "      <td>1317438</td>\n",
       "      <td>0.096598</td>\n",
       "      <td>1343037</td>\n",
       "      <td>False</td>\n",
       "      <td>False</td>\n",
       "    </tr>\n",
       "  </tbody>\n",
       "</table>\n",
       "</div>"
      ],
      "text/plain": [
       "                        chain_1-BF(dB)  chain_2-BF(dB)  chain_3-BF(dB)  \\\n",
       "                                                                         \n",
       "jcf7190000000000-77657      -12.069102       -9.800956      -11.354296   \n",
       "jcf7190000000000-77738       -9.452265       -7.866868       -9.102067   \n",
       "jcf7190000000000-77764      -11.221672      -11.786993      -11.459481   \n",
       "jcf7190000000004-54349       -9.263959       -8.824183       -9.150425   \n",
       "jcf7190000000004-54418      -10.166085       -9.994096      -10.218846   \n",
       "\n",
       "                        chain_4-BF(dB)  chain_5-BF(dB)  rank_chain_1-BF  \\\n",
       "                                                                          \n",
       "jcf7190000000000-77657      -10.964986      -12.218243          2042787   \n",
       "jcf7190000000000-77738       -8.421890      -10.146648          1036424   \n",
       "jcf7190000000000-77764      -10.826779      -11.198963          1766256   \n",
       "jcf7190000000004-54349       -9.394271       -8.386927           963380   \n",
       "jcf7190000000004-54418      -10.258999      -10.113513          1341111   \n",
       "\n",
       "                        rank_chain_2-BF  rank_chain_3-BF  rank_chain_4-BF  \\\n",
       "                                                                            \n",
       "jcf7190000000000-77657          1180345          1813140          1671019   \n",
       "jcf7190000000000-77738           588863           905649           707317   \n",
       "jcf7190000000000-77764          1956936          1849384          1617782   \n",
       "jcf7190000000004-54349           815623           922527          1013050   \n",
       "jcf7190000000004-54418          1264717          1363929          1382077   \n",
       "\n",
       "                        rank_chain_5-BF   mean_BF  rank_mean_BF  \\\n",
       "                                                                  \n",
       "jcf7190000000000-77657          2085473  0.074447       1796259   \n",
       "jcf7190000000000-77738          1331789  0.125952        871710   \n",
       "jcf7190000000000-77764          1756806  0.074152       1802400   \n",
       "jcf7190000000004-54349           698765  0.125778        873682   \n",
       "jcf7190000000004-54418          1317438  0.096598       1343037   \n",
       "\n",
       "                        BF_gte20_for-gte3chains  BF_gte15_for-gte3chains  \n",
       "                                                                          \n",
       "jcf7190000000000-77657                    False                    False  \n",
       "jcf7190000000000-77738                    False                    False  \n",
       "jcf7190000000000-77764                    False                    False  \n",
       "jcf7190000000004-54349                    False                    False  \n",
       "jcf7190000000004-54418                    False                    False  "
      ]
     },
     "execution_count": 9,
     "metadata": {},
     "output_type": "execute_result"
    }
   ],
   "source": [
    "# get the returns from the engines\n",
    "new_envdfs = {}\n",
    "for i,env in enumerate(envdfs):\n",
    "    new_envdfs[env] = jobs[i].r\n",
    "new_envdfs[env].head()"
   ]
  },
  {
   "cell_type": "code",
   "execution_count": 10,
   "metadata": {},
   "outputs": [
    {
     "name": "stdout",
     "output_type": "stream",
     "text": [
      "18\n",
      "EXT\n"
     ]
    },
    {
     "data": {
      "text/html": [
       "<div>\n",
       "<style scoped>\n",
       "    .dataframe tbody tr th:only-of-type {\n",
       "        vertical-align: middle;\n",
       "    }\n",
       "\n",
       "    .dataframe tbody tr th {\n",
       "        vertical-align: top;\n",
       "    }\n",
       "\n",
       "    .dataframe thead th {\n",
       "        text-align: right;\n",
       "    }\n",
       "</style>\n",
       "<table border=\"1\" class=\"dataframe\">\n",
       "  <thead>\n",
       "    <tr style=\"text-align: right;\">\n",
       "      <th></th>\n",
       "      <th>chain_1-COVARIABLE</th>\n",
       "      <th>chain_1-MRK</th>\n",
       "      <th>chain_1-M_Pearson</th>\n",
       "      <th>chain_1-SD_Pearson</th>\n",
       "      <th>chain_1-BF(dB)</th>\n",
       "      <th>chain_1-Beta_is</th>\n",
       "      <th>chain_1-SD_Beta_is</th>\n",
       "      <th>chain_1-eBPis</th>\n",
       "      <th>chain_1-env</th>\n",
       "      <th>chain_2-COVARIABLE</th>\n",
       "      <th>chain_2-MRK</th>\n",
       "      <th>chain_2-M_Pearson</th>\n",
       "      <th>chain_2-SD_Pearson</th>\n",
       "      <th>chain_2-BF(dB)</th>\n",
       "      <th>chain_2-Beta_is</th>\n",
       "      <th>chain_2-SD_Beta_is</th>\n",
       "      <th>chain_2-eBPis</th>\n",
       "      <th>chain_2-env</th>\n",
       "      <th>chain_3-COVARIABLE</th>\n",
       "      <th>chain_3-MRK</th>\n",
       "      <th>chain_3-M_Pearson</th>\n",
       "      <th>chain_3-SD_Pearson</th>\n",
       "      <th>chain_3-BF(dB)</th>\n",
       "      <th>chain_3-Beta_is</th>\n",
       "      <th>chain_3-SD_Beta_is</th>\n",
       "      <th>chain_3-eBPis</th>\n",
       "      <th>chain_3-env</th>\n",
       "      <th>chain_4-COVARIABLE</th>\n",
       "      <th>chain_4-MRK</th>\n",
       "      <th>chain_4-M_Pearson</th>\n",
       "      <th>chain_4-SD_Pearson</th>\n",
       "      <th>chain_4-BF(dB)</th>\n",
       "      <th>chain_4-Beta_is</th>\n",
       "      <th>chain_4-SD_Beta_is</th>\n",
       "      <th>chain_4-eBPis</th>\n",
       "      <th>chain_4-env</th>\n",
       "      <th>chain_5-COVARIABLE</th>\n",
       "      <th>chain_5-MRK</th>\n",
       "      <th>chain_5-M_Pearson</th>\n",
       "      <th>chain_5-SD_Pearson</th>\n",
       "      <th>chain_5-BF(dB)</th>\n",
       "      <th>chain_5-Beta_is</th>\n",
       "      <th>chain_5-SD_Beta_is</th>\n",
       "      <th>chain_5-eBPis</th>\n",
       "      <th>chain_5-env</th>\n",
       "      <th>rank_chain_1-BF</th>\n",
       "      <th>rank_chain_2-BF</th>\n",
       "      <th>rank_chain_3-BF</th>\n",
       "      <th>rank_chain_4-BF</th>\n",
       "      <th>rank_chain_5-BF</th>\n",
       "      <th>mean_BF</th>\n",
       "      <th>rank_mean_BF</th>\n",
       "      <th>BF_gte20_for-gte3chains</th>\n",
       "      <th>BF_gte15_for-gte3chains</th>\n",
       "    </tr>\n",
       "    <tr>\n",
       "      <th></th>\n",
       "      <th></th>\n",
       "      <th></th>\n",
       "      <th></th>\n",
       "      <th></th>\n",
       "      <th></th>\n",
       "      <th></th>\n",
       "      <th></th>\n",
       "      <th></th>\n",
       "      <th></th>\n",
       "      <th></th>\n",
       "      <th></th>\n",
       "      <th></th>\n",
       "      <th></th>\n",
       "      <th></th>\n",
       "      <th></th>\n",
       "      <th></th>\n",
       "      <th></th>\n",
       "      <th></th>\n",
       "      <th></th>\n",
       "      <th></th>\n",
       "      <th></th>\n",
       "      <th></th>\n",
       "      <th></th>\n",
       "      <th></th>\n",
       "      <th></th>\n",
       "      <th></th>\n",
       "      <th></th>\n",
       "      <th></th>\n",
       "      <th></th>\n",
       "      <th></th>\n",
       "      <th></th>\n",
       "      <th></th>\n",
       "      <th></th>\n",
       "      <th></th>\n",
       "      <th></th>\n",
       "      <th></th>\n",
       "      <th></th>\n",
       "      <th></th>\n",
       "      <th></th>\n",
       "      <th></th>\n",
       "      <th></th>\n",
       "      <th></th>\n",
       "      <th></th>\n",
       "      <th></th>\n",
       "      <th></th>\n",
       "      <th></th>\n",
       "      <th></th>\n",
       "      <th></th>\n",
       "      <th></th>\n",
       "      <th></th>\n",
       "      <th></th>\n",
       "      <th></th>\n",
       "      <th></th>\n",
       "      <th></th>\n",
       "    </tr>\n",
       "  </thead>\n",
       "  <tbody>\n",
       "    <tr>\n",
       "      <th>jcf7190000000000-77657</th>\n",
       "      <td>17</td>\n",
       "      <td>1</td>\n",
       "      <td>0.019362</td>\n",
       "      <td>0.159456</td>\n",
       "      <td>-12.069102</td>\n",
       "      <td>0.001243</td>\n",
       "      <td>0.006569</td>\n",
       "      <td>0.070646</td>\n",
       "      <td>EXT</td>\n",
       "      <td>17</td>\n",
       "      <td>1</td>\n",
       "      <td>0.014799</td>\n",
       "      <td>0.162190</td>\n",
       "      <td>-9.800956</td>\n",
       "      <td>0.000909</td>\n",
       "      <td>0.006735</td>\n",
       "      <td>0.049343</td>\n",
       "      <td>EXT</td>\n",
       "      <td>17</td>\n",
       "      <td>1</td>\n",
       "      <td>0.021291</td>\n",
       "      <td>0.157260</td>\n",
       "      <td>-11.354296</td>\n",
       "      <td>0.001271</td>\n",
       "      <td>0.006476</td>\n",
       "      <td>0.073459</td>\n",
       "      <td>EXT</td>\n",
       "      <td>17</td>\n",
       "      <td>1</td>\n",
       "      <td>0.014622</td>\n",
       "      <td>0.160630</td>\n",
       "      <td>-10.964986</td>\n",
       "      <td>0.000896</td>\n",
       "      <td>0.006908</td>\n",
       "      <td>0.047312</td>\n",
       "      <td>EXT</td>\n",
       "      <td>17</td>\n",
       "      <td>1</td>\n",
       "      <td>0.012706</td>\n",
       "      <td>0.157225</td>\n",
       "      <td>-12.218243</td>\n",
       "      <td>0.000777</td>\n",
       "      <td>0.006316</td>\n",
       "      <td>0.044739</td>\n",
       "      <td>EXT</td>\n",
       "      <td>2042787</td>\n",
       "      <td>1180345</td>\n",
       "      <td>1813140</td>\n",
       "      <td>1671019</td>\n",
       "      <td>2085473</td>\n",
       "      <td>0.074447</td>\n",
       "      <td>1796259</td>\n",
       "      <td>False</td>\n",
       "      <td>False</td>\n",
       "    </tr>\n",
       "    <tr>\n",
       "      <th>jcf7190000000000-77738</th>\n",
       "      <td>17</td>\n",
       "      <td>2</td>\n",
       "      <td>0.060888</td>\n",
       "      <td>0.158510</td>\n",
       "      <td>-9.452265</td>\n",
       "      <td>0.003698</td>\n",
       "      <td>0.008819</td>\n",
       "      <td>0.170710</td>\n",
       "      <td>EXT</td>\n",
       "      <td>17</td>\n",
       "      <td>2</td>\n",
       "      <td>0.047670</td>\n",
       "      <td>0.160155</td>\n",
       "      <td>-7.866868</td>\n",
       "      <td>0.002975</td>\n",
       "      <td>0.008699</td>\n",
       "      <td>0.135262</td>\n",
       "      <td>EXT</td>\n",
       "      <td>17</td>\n",
       "      <td>2</td>\n",
       "      <td>0.053496</td>\n",
       "      <td>0.157537</td>\n",
       "      <td>-9.102067</td>\n",
       "      <td>0.002986</td>\n",
       "      <td>0.008900</td>\n",
       "      <td>0.132373</td>\n",
       "      <td>EXT</td>\n",
       "      <td>17</td>\n",
       "      <td>2</td>\n",
       "      <td>0.067321</td>\n",
       "      <td>0.158435</td>\n",
       "      <td>-8.421890</td>\n",
       "      <td>0.004402</td>\n",
       "      <td>0.009590</td>\n",
       "      <td>0.189629</td>\n",
       "      <td>EXT</td>\n",
       "      <td>17</td>\n",
       "      <td>2</td>\n",
       "      <td>0.054547</td>\n",
       "      <td>0.159041</td>\n",
       "      <td>-10.146648</td>\n",
       "      <td>0.003565</td>\n",
       "      <td>0.009359</td>\n",
       "      <td>0.152881</td>\n",
       "      <td>EXT</td>\n",
       "      <td>1036424</td>\n",
       "      <td>588863</td>\n",
       "      <td>905649</td>\n",
       "      <td>707317</td>\n",
       "      <td>1331789</td>\n",
       "      <td>0.125952</td>\n",
       "      <td>871710</td>\n",
       "      <td>False</td>\n",
       "      <td>False</td>\n",
       "    </tr>\n",
       "    <tr>\n",
       "      <th>jcf7190000000000-77764</th>\n",
       "      <td>17</td>\n",
       "      <td>3</td>\n",
       "      <td>-0.015506</td>\n",
       "      <td>0.143560</td>\n",
       "      <td>-11.221672</td>\n",
       "      <td>-0.000378</td>\n",
       "      <td>0.008814</td>\n",
       "      <td>0.015110</td>\n",
       "      <td>EXT</td>\n",
       "      <td>17</td>\n",
       "      <td>3</td>\n",
       "      <td>-0.020512</td>\n",
       "      <td>0.139933</td>\n",
       "      <td>-11.786993</td>\n",
       "      <td>-0.000133</td>\n",
       "      <td>0.008517</td>\n",
       "      <td>0.005462</td>\n",
       "      <td>EXT</td>\n",
       "      <td>17</td>\n",
       "      <td>3</td>\n",
       "      <td>-0.007376</td>\n",
       "      <td>0.150116</td>\n",
       "      <td>-11.459481</td>\n",
       "      <td>0.000071</td>\n",
       "      <td>0.008081</td>\n",
       "      <td>0.003048</td>\n",
       "      <td>EXT</td>\n",
       "      <td>17</td>\n",
       "      <td>3</td>\n",
       "      <td>-0.000931</td>\n",
       "      <td>0.150115</td>\n",
       "      <td>-10.826779</td>\n",
       "      <td>0.000672</td>\n",
       "      <td>0.009735</td>\n",
       "      <td>0.024582</td>\n",
       "      <td>EXT</td>\n",
       "      <td>17</td>\n",
       "      <td>3</td>\n",
       "      <td>-0.015933</td>\n",
       "      <td>0.140759</td>\n",
       "      <td>-11.198963</td>\n",
       "      <td>-0.000089</td>\n",
       "      <td>0.009476</td>\n",
       "      <td>0.003279</td>\n",
       "      <td>EXT</td>\n",
       "      <td>1766256</td>\n",
       "      <td>1956936</td>\n",
       "      <td>1849384</td>\n",
       "      <td>1617782</td>\n",
       "      <td>1756806</td>\n",
       "      <td>0.074152</td>\n",
       "      <td>1802400</td>\n",
       "      <td>False</td>\n",
       "      <td>False</td>\n",
       "    </tr>\n",
       "    <tr>\n",
       "      <th>jcf7190000000004-54349</th>\n",
       "      <td>17</td>\n",
       "      <td>4</td>\n",
       "      <td>-0.062393</td>\n",
       "      <td>0.141759</td>\n",
       "      <td>-9.263959</td>\n",
       "      <td>-0.001494</td>\n",
       "      <td>0.013725</td>\n",
       "      <td>0.039383</td>\n",
       "      <td>EXT</td>\n",
       "      <td>17</td>\n",
       "      <td>4</td>\n",
       "      <td>-0.065407</td>\n",
       "      <td>0.144201</td>\n",
       "      <td>-8.824183</td>\n",
       "      <td>-0.001865</td>\n",
       "      <td>0.014367</td>\n",
       "      <td>0.047338</td>\n",
       "      <td>EXT</td>\n",
       "      <td>17</td>\n",
       "      <td>4</td>\n",
       "      <td>-0.075770</td>\n",
       "      <td>0.139716</td>\n",
       "      <td>-9.150425</td>\n",
       "      <td>-0.003149</td>\n",
       "      <td>0.013585</td>\n",
       "      <td>0.087930</td>\n",
       "      <td>EXT</td>\n",
       "      <td>17</td>\n",
       "      <td>4</td>\n",
       "      <td>-0.064868</td>\n",
       "      <td>0.141376</td>\n",
       "      <td>-9.394271</td>\n",
       "      <td>-0.001723</td>\n",
       "      <td>0.013681</td>\n",
       "      <td>0.045857</td>\n",
       "      <td>EXT</td>\n",
       "      <td>17</td>\n",
       "      <td>4</td>\n",
       "      <td>-0.075954</td>\n",
       "      <td>0.145148</td>\n",
       "      <td>-8.386927</td>\n",
       "      <td>-0.003074</td>\n",
       "      <td>0.014311</td>\n",
       "      <td>0.080967</td>\n",
       "      <td>EXT</td>\n",
       "      <td>963380</td>\n",
       "      <td>815623</td>\n",
       "      <td>922527</td>\n",
       "      <td>1013050</td>\n",
       "      <td>698765</td>\n",
       "      <td>0.125778</td>\n",
       "      <td>873682</td>\n",
       "      <td>False</td>\n",
       "      <td>False</td>\n",
       "    </tr>\n",
       "    <tr>\n",
       "      <th>jcf7190000000004-54418</th>\n",
       "      <td>17</td>\n",
       "      <td>5</td>\n",
       "      <td>-0.055208</td>\n",
       "      <td>0.142147</td>\n",
       "      <td>-10.166085</td>\n",
       "      <td>-0.001191</td>\n",
       "      <td>0.010593</td>\n",
       "      <td>0.040712</td>\n",
       "      <td>EXT</td>\n",
       "      <td>17</td>\n",
       "      <td>5</td>\n",
       "      <td>-0.047039</td>\n",
       "      <td>0.146919</td>\n",
       "      <td>-9.994096</td>\n",
       "      <td>-0.000614</td>\n",
       "      <td>0.011188</td>\n",
       "      <td>0.019437</td>\n",
       "      <td>EXT</td>\n",
       "      <td>17</td>\n",
       "      <td>5</td>\n",
       "      <td>-0.055885</td>\n",
       "      <td>0.145341</td>\n",
       "      <td>-10.218846</td>\n",
       "      <td>-0.001072</td>\n",
       "      <td>0.010522</td>\n",
       "      <td>0.036744</td>\n",
       "      <td>EXT</td>\n",
       "      <td>17</td>\n",
       "      <td>5</td>\n",
       "      <td>-0.063113</td>\n",
       "      <td>0.140475</td>\n",
       "      <td>-10.258999</td>\n",
       "      <td>-0.001573</td>\n",
       "      <td>0.010831</td>\n",
       "      <td>0.053301</td>\n",
       "      <td>EXT</td>\n",
       "      <td>17</td>\n",
       "      <td>5</td>\n",
       "      <td>-0.051421</td>\n",
       "      <td>0.146818</td>\n",
       "      <td>-10.113513</td>\n",
       "      <td>-0.000778</td>\n",
       "      <td>0.010882</td>\n",
       "      <td>0.025495</td>\n",
       "      <td>EXT</td>\n",
       "      <td>1341111</td>\n",
       "      <td>1264717</td>\n",
       "      <td>1363929</td>\n",
       "      <td>1382077</td>\n",
       "      <td>1317438</td>\n",
       "      <td>0.096598</td>\n",
       "      <td>1343037</td>\n",
       "      <td>False</td>\n",
       "      <td>False</td>\n",
       "    </tr>\n",
       "  </tbody>\n",
       "</table>\n",
       "</div>"
      ],
      "text/plain": [
       "                        chain_1-COVARIABLE  chain_1-MRK  chain_1-M_Pearson  \\\n",
       "                                                                             \n",
       "jcf7190000000000-77657                  17            1           0.019362   \n",
       "jcf7190000000000-77738                  17            2           0.060888   \n",
       "jcf7190000000000-77764                  17            3          -0.015506   \n",
       "jcf7190000000004-54349                  17            4          -0.062393   \n",
       "jcf7190000000004-54418                  17            5          -0.055208   \n",
       "\n",
       "                        chain_1-SD_Pearson  chain_1-BF(dB)  chain_1-Beta_is  \\\n",
       "                                                                              \n",
       "jcf7190000000000-77657            0.159456      -12.069102         0.001243   \n",
       "jcf7190000000000-77738            0.158510       -9.452265         0.003698   \n",
       "jcf7190000000000-77764            0.143560      -11.221672        -0.000378   \n",
       "jcf7190000000004-54349            0.141759       -9.263959        -0.001494   \n",
       "jcf7190000000004-54418            0.142147      -10.166085        -0.001191   \n",
       "\n",
       "                        chain_1-SD_Beta_is  chain_1-eBPis chain_1-env  \\\n",
       "                                                                        \n",
       "jcf7190000000000-77657            0.006569       0.070646         EXT   \n",
       "jcf7190000000000-77738            0.008819       0.170710         EXT   \n",
       "jcf7190000000000-77764            0.008814       0.015110         EXT   \n",
       "jcf7190000000004-54349            0.013725       0.039383         EXT   \n",
       "jcf7190000000004-54418            0.010593       0.040712         EXT   \n",
       "\n",
       "                        chain_2-COVARIABLE  chain_2-MRK  chain_2-M_Pearson  \\\n",
       "                                                                             \n",
       "jcf7190000000000-77657                  17            1           0.014799   \n",
       "jcf7190000000000-77738                  17            2           0.047670   \n",
       "jcf7190000000000-77764                  17            3          -0.020512   \n",
       "jcf7190000000004-54349                  17            4          -0.065407   \n",
       "jcf7190000000004-54418                  17            5          -0.047039   \n",
       "\n",
       "                        chain_2-SD_Pearson  chain_2-BF(dB)  chain_2-Beta_is  \\\n",
       "                                                                              \n",
       "jcf7190000000000-77657            0.162190       -9.800956         0.000909   \n",
       "jcf7190000000000-77738            0.160155       -7.866868         0.002975   \n",
       "jcf7190000000000-77764            0.139933      -11.786993        -0.000133   \n",
       "jcf7190000000004-54349            0.144201       -8.824183        -0.001865   \n",
       "jcf7190000000004-54418            0.146919       -9.994096        -0.000614   \n",
       "\n",
       "                        chain_2-SD_Beta_is  chain_2-eBPis chain_2-env  \\\n",
       "                                                                        \n",
       "jcf7190000000000-77657            0.006735       0.049343         EXT   \n",
       "jcf7190000000000-77738            0.008699       0.135262         EXT   \n",
       "jcf7190000000000-77764            0.008517       0.005462         EXT   \n",
       "jcf7190000000004-54349            0.014367       0.047338         EXT   \n",
       "jcf7190000000004-54418            0.011188       0.019437         EXT   \n",
       "\n",
       "                        chain_3-COVARIABLE  chain_3-MRK  chain_3-M_Pearson  \\\n",
       "                                                                             \n",
       "jcf7190000000000-77657                  17            1           0.021291   \n",
       "jcf7190000000000-77738                  17            2           0.053496   \n",
       "jcf7190000000000-77764                  17            3          -0.007376   \n",
       "jcf7190000000004-54349                  17            4          -0.075770   \n",
       "jcf7190000000004-54418                  17            5          -0.055885   \n",
       "\n",
       "                        chain_3-SD_Pearson  chain_3-BF(dB)  chain_3-Beta_is  \\\n",
       "                                                                              \n",
       "jcf7190000000000-77657            0.157260      -11.354296         0.001271   \n",
       "jcf7190000000000-77738            0.157537       -9.102067         0.002986   \n",
       "jcf7190000000000-77764            0.150116      -11.459481         0.000071   \n",
       "jcf7190000000004-54349            0.139716       -9.150425        -0.003149   \n",
       "jcf7190000000004-54418            0.145341      -10.218846        -0.001072   \n",
       "\n",
       "                        chain_3-SD_Beta_is  chain_3-eBPis chain_3-env  \\\n",
       "                                                                        \n",
       "jcf7190000000000-77657            0.006476       0.073459         EXT   \n",
       "jcf7190000000000-77738            0.008900       0.132373         EXT   \n",
       "jcf7190000000000-77764            0.008081       0.003048         EXT   \n",
       "jcf7190000000004-54349            0.013585       0.087930         EXT   \n",
       "jcf7190000000004-54418            0.010522       0.036744         EXT   \n",
       "\n",
       "                        chain_4-COVARIABLE  chain_4-MRK  chain_4-M_Pearson  \\\n",
       "                                                                             \n",
       "jcf7190000000000-77657                  17            1           0.014622   \n",
       "jcf7190000000000-77738                  17            2           0.067321   \n",
       "jcf7190000000000-77764                  17            3          -0.000931   \n",
       "jcf7190000000004-54349                  17            4          -0.064868   \n",
       "jcf7190000000004-54418                  17            5          -0.063113   \n",
       "\n",
       "                        chain_4-SD_Pearson  chain_4-BF(dB)  chain_4-Beta_is  \\\n",
       "                                                                              \n",
       "jcf7190000000000-77657            0.160630      -10.964986         0.000896   \n",
       "jcf7190000000000-77738            0.158435       -8.421890         0.004402   \n",
       "jcf7190000000000-77764            0.150115      -10.826779         0.000672   \n",
       "jcf7190000000004-54349            0.141376       -9.394271        -0.001723   \n",
       "jcf7190000000004-54418            0.140475      -10.258999        -0.001573   \n",
       "\n",
       "                        chain_4-SD_Beta_is  chain_4-eBPis chain_4-env  \\\n",
       "                                                                        \n",
       "jcf7190000000000-77657            0.006908       0.047312         EXT   \n",
       "jcf7190000000000-77738            0.009590       0.189629         EXT   \n",
       "jcf7190000000000-77764            0.009735       0.024582         EXT   \n",
       "jcf7190000000004-54349            0.013681       0.045857         EXT   \n",
       "jcf7190000000004-54418            0.010831       0.053301         EXT   \n",
       "\n",
       "                        chain_5-COVARIABLE  chain_5-MRK  chain_5-M_Pearson  \\\n",
       "                                                                             \n",
       "jcf7190000000000-77657                  17            1           0.012706   \n",
       "jcf7190000000000-77738                  17            2           0.054547   \n",
       "jcf7190000000000-77764                  17            3          -0.015933   \n",
       "jcf7190000000004-54349                  17            4          -0.075954   \n",
       "jcf7190000000004-54418                  17            5          -0.051421   \n",
       "\n",
       "                        chain_5-SD_Pearson  chain_5-BF(dB)  chain_5-Beta_is  \\\n",
       "                                                                              \n",
       "jcf7190000000000-77657            0.157225      -12.218243         0.000777   \n",
       "jcf7190000000000-77738            0.159041      -10.146648         0.003565   \n",
       "jcf7190000000000-77764            0.140759      -11.198963        -0.000089   \n",
       "jcf7190000000004-54349            0.145148       -8.386927        -0.003074   \n",
       "jcf7190000000004-54418            0.146818      -10.113513        -0.000778   \n",
       "\n",
       "                        chain_5-SD_Beta_is  chain_5-eBPis chain_5-env  \\\n",
       "                                                                        \n",
       "jcf7190000000000-77657            0.006316       0.044739         EXT   \n",
       "jcf7190000000000-77738            0.009359       0.152881         EXT   \n",
       "jcf7190000000000-77764            0.009476       0.003279         EXT   \n",
       "jcf7190000000004-54349            0.014311       0.080967         EXT   \n",
       "jcf7190000000004-54418            0.010882       0.025495         EXT   \n",
       "\n",
       "                        rank_chain_1-BF  rank_chain_2-BF  rank_chain_3-BF  \\\n",
       "                                                                            \n",
       "jcf7190000000000-77657          2042787          1180345          1813140   \n",
       "jcf7190000000000-77738          1036424           588863           905649   \n",
       "jcf7190000000000-77764          1766256          1956936          1849384   \n",
       "jcf7190000000004-54349           963380           815623           922527   \n",
       "jcf7190000000004-54418          1341111          1264717          1363929   \n",
       "\n",
       "                        rank_chain_4-BF  rank_chain_5-BF   mean_BF  \\\n",
       "                                                                     \n",
       "jcf7190000000000-77657          1671019          2085473  0.074447   \n",
       "jcf7190000000000-77738           707317          1331789  0.125952   \n",
       "jcf7190000000000-77764          1617782          1756806  0.074152   \n",
       "jcf7190000000004-54349          1013050           698765  0.125778   \n",
       "jcf7190000000004-54418          1382077          1317438  0.096598   \n",
       "\n",
       "                        rank_mean_BF  BF_gte20_for-gte3chains  \\\n",
       "                                                                \n",
       "jcf7190000000000-77657       1796259                    False   \n",
       "jcf7190000000000-77738        871710                    False   \n",
       "jcf7190000000000-77764       1802400                    False   \n",
       "jcf7190000000004-54349        873682                    False   \n",
       "jcf7190000000004-54418       1343037                    False   \n",
       "\n",
       "                        BF_gte15_for-gte3chains  \n",
       "                                                 \n",
       "jcf7190000000000-77657                    False  \n",
       "jcf7190000000000-77738                    False  \n",
       "jcf7190000000000-77764                    False  \n",
       "jcf7190000000004-54349                    False  \n",
       "jcf7190000000004-54418                    False  "
      ]
     },
     "execution_count": 10,
     "metadata": {},
     "output_type": "execute_result"
    }
   ],
   "source": [
    "# add in the new columns\n",
    "count = 0\n",
    "for env,df in envdfs.items():\n",
    "    update([count, env])\n",
    "    # keep original columns with chain info only\n",
    "    startcols = [col for col in df.columns if col.startswith('chain')]\n",
    "    assert len(bfcols) == 5\n",
    "    # grab the re-ranked columns\n",
    "    newcols = [col for col in new_envdfs[env].columns if col not in startcols]\n",
    "    envdfs[env] = pd.merge(df[startcols], new_envdfs[env][newcols], right_index=True, left_index=True)\n",
    "    count += 1\n",
    "envdfs[env].head()"
   ]
  },
  {
   "cell_type": "code",
   "execution_count": 11,
   "metadata": {},
   "outputs": [
    {
     "data": {
      "text/html": [
       "<div>\n",
       "<style scoped>\n",
       "    .dataframe tbody tr th:only-of-type {\n",
       "        vertical-align: middle;\n",
       "    }\n",
       "\n",
       "    .dataframe tbody tr th {\n",
       "        vertical-align: top;\n",
       "    }\n",
       "\n",
       "    .dataframe thead th {\n",
       "        text-align: right;\n",
       "    }\n",
       "</style>\n",
       "<table border=\"1\" class=\"dataframe\">\n",
       "  <thead>\n",
       "    <tr style=\"text-align: right;\">\n",
       "      <th></th>\n",
       "      <th>chain_1-COVARIABLE</th>\n",
       "      <th>chain_1-MRK</th>\n",
       "      <th>chain_1-M_Pearson</th>\n",
       "      <th>chain_1-SD_Pearson</th>\n",
       "      <th>chain_1-BF(dB)</th>\n",
       "      <th>chain_1-Beta_is</th>\n",
       "      <th>chain_1-SD_Beta_is</th>\n",
       "      <th>chain_1-eBPis</th>\n",
       "      <th>chain_1-env</th>\n",
       "      <th>chain_2-COVARIABLE</th>\n",
       "      <th>chain_2-MRK</th>\n",
       "      <th>chain_2-M_Pearson</th>\n",
       "      <th>chain_2-SD_Pearson</th>\n",
       "      <th>chain_2-BF(dB)</th>\n",
       "      <th>chain_2-Beta_is</th>\n",
       "      <th>chain_2-SD_Beta_is</th>\n",
       "      <th>chain_2-eBPis</th>\n",
       "      <th>chain_2-env</th>\n",
       "      <th>chain_3-COVARIABLE</th>\n",
       "      <th>chain_3-MRK</th>\n",
       "      <th>chain_3-M_Pearson</th>\n",
       "      <th>chain_3-SD_Pearson</th>\n",
       "      <th>chain_3-BF(dB)</th>\n",
       "      <th>chain_3-Beta_is</th>\n",
       "      <th>chain_3-SD_Beta_is</th>\n",
       "      <th>chain_3-eBPis</th>\n",
       "      <th>chain_3-env</th>\n",
       "      <th>chain_4-COVARIABLE</th>\n",
       "      <th>chain_4-MRK</th>\n",
       "      <th>chain_4-M_Pearson</th>\n",
       "      <th>chain_4-SD_Pearson</th>\n",
       "      <th>chain_4-BF(dB)</th>\n",
       "      <th>chain_4-Beta_is</th>\n",
       "      <th>chain_4-SD_Beta_is</th>\n",
       "      <th>chain_4-eBPis</th>\n",
       "      <th>chain_4-env</th>\n",
       "      <th>chain_5-COVARIABLE</th>\n",
       "      <th>chain_5-MRK</th>\n",
       "      <th>chain_5-M_Pearson</th>\n",
       "      <th>chain_5-SD_Pearson</th>\n",
       "      <th>chain_5-BF(dB)</th>\n",
       "      <th>chain_5-Beta_is</th>\n",
       "      <th>chain_5-SD_Beta_is</th>\n",
       "      <th>chain_5-eBPis</th>\n",
       "      <th>chain_5-env</th>\n",
       "      <th>rank_chain_1-BF</th>\n",
       "      <th>rank_chain_2-BF</th>\n",
       "      <th>rank_chain_3-BF</th>\n",
       "      <th>rank_chain_4-BF</th>\n",
       "      <th>rank_chain_5-BF</th>\n",
       "      <th>mean_BF</th>\n",
       "      <th>rank_mean_BF</th>\n",
       "      <th>BF_gte20_for-gte3chains</th>\n",
       "      <th>BF_gte15_for-gte3chains</th>\n",
       "      <th>rank_consistency_top1perc_for-gte3chains</th>\n",
       "    </tr>\n",
       "    <tr>\n",
       "      <th></th>\n",
       "      <th></th>\n",
       "      <th></th>\n",
       "      <th></th>\n",
       "      <th></th>\n",
       "      <th></th>\n",
       "      <th></th>\n",
       "      <th></th>\n",
       "      <th></th>\n",
       "      <th></th>\n",
       "      <th></th>\n",
       "      <th></th>\n",
       "      <th></th>\n",
       "      <th></th>\n",
       "      <th></th>\n",
       "      <th></th>\n",
       "      <th></th>\n",
       "      <th></th>\n",
       "      <th></th>\n",
       "      <th></th>\n",
       "      <th></th>\n",
       "      <th></th>\n",
       "      <th></th>\n",
       "      <th></th>\n",
       "      <th></th>\n",
       "      <th></th>\n",
       "      <th></th>\n",
       "      <th></th>\n",
       "      <th></th>\n",
       "      <th></th>\n",
       "      <th></th>\n",
       "      <th></th>\n",
       "      <th></th>\n",
       "      <th></th>\n",
       "      <th></th>\n",
       "      <th></th>\n",
       "      <th></th>\n",
       "      <th></th>\n",
       "      <th></th>\n",
       "      <th></th>\n",
       "      <th></th>\n",
       "      <th></th>\n",
       "      <th></th>\n",
       "      <th></th>\n",
       "      <th></th>\n",
       "      <th></th>\n",
       "      <th></th>\n",
       "      <th></th>\n",
       "      <th></th>\n",
       "      <th></th>\n",
       "      <th></th>\n",
       "      <th></th>\n",
       "      <th></th>\n",
       "      <th></th>\n",
       "      <th></th>\n",
       "      <th></th>\n",
       "    </tr>\n",
       "  </thead>\n",
       "  <tbody>\n",
       "    <tr>\n",
       "      <th>jcf7190000000000-77657</th>\n",
       "      <td>17</td>\n",
       "      <td>1</td>\n",
       "      <td>0.019362</td>\n",
       "      <td>0.159456</td>\n",
       "      <td>-12.069102</td>\n",
       "      <td>0.001243</td>\n",
       "      <td>0.006569</td>\n",
       "      <td>0.070646</td>\n",
       "      <td>EXT</td>\n",
       "      <td>17</td>\n",
       "      <td>1</td>\n",
       "      <td>0.014799</td>\n",
       "      <td>0.162190</td>\n",
       "      <td>-9.800956</td>\n",
       "      <td>0.000909</td>\n",
       "      <td>0.006735</td>\n",
       "      <td>0.049343</td>\n",
       "      <td>EXT</td>\n",
       "      <td>17</td>\n",
       "      <td>1</td>\n",
       "      <td>0.021291</td>\n",
       "      <td>0.157260</td>\n",
       "      <td>-11.354296</td>\n",
       "      <td>0.001271</td>\n",
       "      <td>0.006476</td>\n",
       "      <td>0.073459</td>\n",
       "      <td>EXT</td>\n",
       "      <td>17</td>\n",
       "      <td>1</td>\n",
       "      <td>0.014622</td>\n",
       "      <td>0.160630</td>\n",
       "      <td>-10.964986</td>\n",
       "      <td>0.000896</td>\n",
       "      <td>0.006908</td>\n",
       "      <td>0.047312</td>\n",
       "      <td>EXT</td>\n",
       "      <td>17</td>\n",
       "      <td>1</td>\n",
       "      <td>0.012706</td>\n",
       "      <td>0.157225</td>\n",
       "      <td>-12.218243</td>\n",
       "      <td>0.000777</td>\n",
       "      <td>0.006316</td>\n",
       "      <td>0.044739</td>\n",
       "      <td>EXT</td>\n",
       "      <td>2042787</td>\n",
       "      <td>1180345</td>\n",
       "      <td>1813140</td>\n",
       "      <td>1671019</td>\n",
       "      <td>2085473</td>\n",
       "      <td>0.074447</td>\n",
       "      <td>1796259</td>\n",
       "      <td>False</td>\n",
       "      <td>False</td>\n",
       "      <td>False</td>\n",
       "    </tr>\n",
       "    <tr>\n",
       "      <th>jcf7190000000000-77738</th>\n",
       "      <td>17</td>\n",
       "      <td>2</td>\n",
       "      <td>0.060888</td>\n",
       "      <td>0.158510</td>\n",
       "      <td>-9.452265</td>\n",
       "      <td>0.003698</td>\n",
       "      <td>0.008819</td>\n",
       "      <td>0.170710</td>\n",
       "      <td>EXT</td>\n",
       "      <td>17</td>\n",
       "      <td>2</td>\n",
       "      <td>0.047670</td>\n",
       "      <td>0.160155</td>\n",
       "      <td>-7.866868</td>\n",
       "      <td>0.002975</td>\n",
       "      <td>0.008699</td>\n",
       "      <td>0.135262</td>\n",
       "      <td>EXT</td>\n",
       "      <td>17</td>\n",
       "      <td>2</td>\n",
       "      <td>0.053496</td>\n",
       "      <td>0.157537</td>\n",
       "      <td>-9.102067</td>\n",
       "      <td>0.002986</td>\n",
       "      <td>0.008900</td>\n",
       "      <td>0.132373</td>\n",
       "      <td>EXT</td>\n",
       "      <td>17</td>\n",
       "      <td>2</td>\n",
       "      <td>0.067321</td>\n",
       "      <td>0.158435</td>\n",
       "      <td>-8.421890</td>\n",
       "      <td>0.004402</td>\n",
       "      <td>0.009590</td>\n",
       "      <td>0.189629</td>\n",
       "      <td>EXT</td>\n",
       "      <td>17</td>\n",
       "      <td>2</td>\n",
       "      <td>0.054547</td>\n",
       "      <td>0.159041</td>\n",
       "      <td>-10.146648</td>\n",
       "      <td>0.003565</td>\n",
       "      <td>0.009359</td>\n",
       "      <td>0.152881</td>\n",
       "      <td>EXT</td>\n",
       "      <td>1036424</td>\n",
       "      <td>588863</td>\n",
       "      <td>905649</td>\n",
       "      <td>707317</td>\n",
       "      <td>1331789</td>\n",
       "      <td>0.125952</td>\n",
       "      <td>871710</td>\n",
       "      <td>False</td>\n",
       "      <td>False</td>\n",
       "      <td>False</td>\n",
       "    </tr>\n",
       "    <tr>\n",
       "      <th>jcf7190000000000-77764</th>\n",
       "      <td>17</td>\n",
       "      <td>3</td>\n",
       "      <td>-0.015506</td>\n",
       "      <td>0.143560</td>\n",
       "      <td>-11.221672</td>\n",
       "      <td>-0.000378</td>\n",
       "      <td>0.008814</td>\n",
       "      <td>0.015110</td>\n",
       "      <td>EXT</td>\n",
       "      <td>17</td>\n",
       "      <td>3</td>\n",
       "      <td>-0.020512</td>\n",
       "      <td>0.139933</td>\n",
       "      <td>-11.786993</td>\n",
       "      <td>-0.000133</td>\n",
       "      <td>0.008517</td>\n",
       "      <td>0.005462</td>\n",
       "      <td>EXT</td>\n",
       "      <td>17</td>\n",
       "      <td>3</td>\n",
       "      <td>-0.007376</td>\n",
       "      <td>0.150116</td>\n",
       "      <td>-11.459481</td>\n",
       "      <td>0.000071</td>\n",
       "      <td>0.008081</td>\n",
       "      <td>0.003048</td>\n",
       "      <td>EXT</td>\n",
       "      <td>17</td>\n",
       "      <td>3</td>\n",
       "      <td>-0.000931</td>\n",
       "      <td>0.150115</td>\n",
       "      <td>-10.826779</td>\n",
       "      <td>0.000672</td>\n",
       "      <td>0.009735</td>\n",
       "      <td>0.024582</td>\n",
       "      <td>EXT</td>\n",
       "      <td>17</td>\n",
       "      <td>3</td>\n",
       "      <td>-0.015933</td>\n",
       "      <td>0.140759</td>\n",
       "      <td>-11.198963</td>\n",
       "      <td>-0.000089</td>\n",
       "      <td>0.009476</td>\n",
       "      <td>0.003279</td>\n",
       "      <td>EXT</td>\n",
       "      <td>1766256</td>\n",
       "      <td>1956936</td>\n",
       "      <td>1849384</td>\n",
       "      <td>1617782</td>\n",
       "      <td>1756806</td>\n",
       "      <td>0.074152</td>\n",
       "      <td>1802400</td>\n",
       "      <td>False</td>\n",
       "      <td>False</td>\n",
       "      <td>False</td>\n",
       "    </tr>\n",
       "    <tr>\n",
       "      <th>jcf7190000000004-54349</th>\n",
       "      <td>17</td>\n",
       "      <td>4</td>\n",
       "      <td>-0.062393</td>\n",
       "      <td>0.141759</td>\n",
       "      <td>-9.263959</td>\n",
       "      <td>-0.001494</td>\n",
       "      <td>0.013725</td>\n",
       "      <td>0.039383</td>\n",
       "      <td>EXT</td>\n",
       "      <td>17</td>\n",
       "      <td>4</td>\n",
       "      <td>-0.065407</td>\n",
       "      <td>0.144201</td>\n",
       "      <td>-8.824183</td>\n",
       "      <td>-0.001865</td>\n",
       "      <td>0.014367</td>\n",
       "      <td>0.047338</td>\n",
       "      <td>EXT</td>\n",
       "      <td>17</td>\n",
       "      <td>4</td>\n",
       "      <td>-0.075770</td>\n",
       "      <td>0.139716</td>\n",
       "      <td>-9.150425</td>\n",
       "      <td>-0.003149</td>\n",
       "      <td>0.013585</td>\n",
       "      <td>0.087930</td>\n",
       "      <td>EXT</td>\n",
       "      <td>17</td>\n",
       "      <td>4</td>\n",
       "      <td>-0.064868</td>\n",
       "      <td>0.141376</td>\n",
       "      <td>-9.394271</td>\n",
       "      <td>-0.001723</td>\n",
       "      <td>0.013681</td>\n",
       "      <td>0.045857</td>\n",
       "      <td>EXT</td>\n",
       "      <td>17</td>\n",
       "      <td>4</td>\n",
       "      <td>-0.075954</td>\n",
       "      <td>0.145148</td>\n",
       "      <td>-8.386927</td>\n",
       "      <td>-0.003074</td>\n",
       "      <td>0.014311</td>\n",
       "      <td>0.080967</td>\n",
       "      <td>EXT</td>\n",
       "      <td>963380</td>\n",
       "      <td>815623</td>\n",
       "      <td>922527</td>\n",
       "      <td>1013050</td>\n",
       "      <td>698765</td>\n",
       "      <td>0.125778</td>\n",
       "      <td>873682</td>\n",
       "      <td>False</td>\n",
       "      <td>False</td>\n",
       "      <td>False</td>\n",
       "    </tr>\n",
       "    <tr>\n",
       "      <th>jcf7190000000004-54418</th>\n",
       "      <td>17</td>\n",
       "      <td>5</td>\n",
       "      <td>-0.055208</td>\n",
       "      <td>0.142147</td>\n",
       "      <td>-10.166085</td>\n",
       "      <td>-0.001191</td>\n",
       "      <td>0.010593</td>\n",
       "      <td>0.040712</td>\n",
       "      <td>EXT</td>\n",
       "      <td>17</td>\n",
       "      <td>5</td>\n",
       "      <td>-0.047039</td>\n",
       "      <td>0.146919</td>\n",
       "      <td>-9.994096</td>\n",
       "      <td>-0.000614</td>\n",
       "      <td>0.011188</td>\n",
       "      <td>0.019437</td>\n",
       "      <td>EXT</td>\n",
       "      <td>17</td>\n",
       "      <td>5</td>\n",
       "      <td>-0.055885</td>\n",
       "      <td>0.145341</td>\n",
       "      <td>-10.218846</td>\n",
       "      <td>-0.001072</td>\n",
       "      <td>0.010522</td>\n",
       "      <td>0.036744</td>\n",
       "      <td>EXT</td>\n",
       "      <td>17</td>\n",
       "      <td>5</td>\n",
       "      <td>-0.063113</td>\n",
       "      <td>0.140475</td>\n",
       "      <td>-10.258999</td>\n",
       "      <td>-0.001573</td>\n",
       "      <td>0.010831</td>\n",
       "      <td>0.053301</td>\n",
       "      <td>EXT</td>\n",
       "      <td>17</td>\n",
       "      <td>5</td>\n",
       "      <td>-0.051421</td>\n",
       "      <td>0.146818</td>\n",
       "      <td>-10.113513</td>\n",
       "      <td>-0.000778</td>\n",
       "      <td>0.010882</td>\n",
       "      <td>0.025495</td>\n",
       "      <td>EXT</td>\n",
       "      <td>1341111</td>\n",
       "      <td>1264717</td>\n",
       "      <td>1363929</td>\n",
       "      <td>1382077</td>\n",
       "      <td>1317438</td>\n",
       "      <td>0.096598</td>\n",
       "      <td>1343037</td>\n",
       "      <td>False</td>\n",
       "      <td>False</td>\n",
       "      <td>False</td>\n",
       "    </tr>\n",
       "  </tbody>\n",
       "</table>\n",
       "</div>"
      ],
      "text/plain": [
       "                        chain_1-COVARIABLE  chain_1-MRK  chain_1-M_Pearson  \\\n",
       "                                                                             \n",
       "jcf7190000000000-77657                  17            1           0.019362   \n",
       "jcf7190000000000-77738                  17            2           0.060888   \n",
       "jcf7190000000000-77764                  17            3          -0.015506   \n",
       "jcf7190000000004-54349                  17            4          -0.062393   \n",
       "jcf7190000000004-54418                  17            5          -0.055208   \n",
       "\n",
       "                        chain_1-SD_Pearson  chain_1-BF(dB)  chain_1-Beta_is  \\\n",
       "                                                                              \n",
       "jcf7190000000000-77657            0.159456      -12.069102         0.001243   \n",
       "jcf7190000000000-77738            0.158510       -9.452265         0.003698   \n",
       "jcf7190000000000-77764            0.143560      -11.221672        -0.000378   \n",
       "jcf7190000000004-54349            0.141759       -9.263959        -0.001494   \n",
       "jcf7190000000004-54418            0.142147      -10.166085        -0.001191   \n",
       "\n",
       "                        chain_1-SD_Beta_is  chain_1-eBPis chain_1-env  \\\n",
       "                                                                        \n",
       "jcf7190000000000-77657            0.006569       0.070646         EXT   \n",
       "jcf7190000000000-77738            0.008819       0.170710         EXT   \n",
       "jcf7190000000000-77764            0.008814       0.015110         EXT   \n",
       "jcf7190000000004-54349            0.013725       0.039383         EXT   \n",
       "jcf7190000000004-54418            0.010593       0.040712         EXT   \n",
       "\n",
       "                        chain_2-COVARIABLE  chain_2-MRK  chain_2-M_Pearson  \\\n",
       "                                                                             \n",
       "jcf7190000000000-77657                  17            1           0.014799   \n",
       "jcf7190000000000-77738                  17            2           0.047670   \n",
       "jcf7190000000000-77764                  17            3          -0.020512   \n",
       "jcf7190000000004-54349                  17            4          -0.065407   \n",
       "jcf7190000000004-54418                  17            5          -0.047039   \n",
       "\n",
       "                        chain_2-SD_Pearson  chain_2-BF(dB)  chain_2-Beta_is  \\\n",
       "                                                                              \n",
       "jcf7190000000000-77657            0.162190       -9.800956         0.000909   \n",
       "jcf7190000000000-77738            0.160155       -7.866868         0.002975   \n",
       "jcf7190000000000-77764            0.139933      -11.786993        -0.000133   \n",
       "jcf7190000000004-54349            0.144201       -8.824183        -0.001865   \n",
       "jcf7190000000004-54418            0.146919       -9.994096        -0.000614   \n",
       "\n",
       "                        chain_2-SD_Beta_is  chain_2-eBPis chain_2-env  \\\n",
       "                                                                        \n",
       "jcf7190000000000-77657            0.006735       0.049343         EXT   \n",
       "jcf7190000000000-77738            0.008699       0.135262         EXT   \n",
       "jcf7190000000000-77764            0.008517       0.005462         EXT   \n",
       "jcf7190000000004-54349            0.014367       0.047338         EXT   \n",
       "jcf7190000000004-54418            0.011188       0.019437         EXT   \n",
       "\n",
       "                        chain_3-COVARIABLE  chain_3-MRK  chain_3-M_Pearson  \\\n",
       "                                                                             \n",
       "jcf7190000000000-77657                  17            1           0.021291   \n",
       "jcf7190000000000-77738                  17            2           0.053496   \n",
       "jcf7190000000000-77764                  17            3          -0.007376   \n",
       "jcf7190000000004-54349                  17            4          -0.075770   \n",
       "jcf7190000000004-54418                  17            5          -0.055885   \n",
       "\n",
       "                        chain_3-SD_Pearson  chain_3-BF(dB)  chain_3-Beta_is  \\\n",
       "                                                                              \n",
       "jcf7190000000000-77657            0.157260      -11.354296         0.001271   \n",
       "jcf7190000000000-77738            0.157537       -9.102067         0.002986   \n",
       "jcf7190000000000-77764            0.150116      -11.459481         0.000071   \n",
       "jcf7190000000004-54349            0.139716       -9.150425        -0.003149   \n",
       "jcf7190000000004-54418            0.145341      -10.218846        -0.001072   \n",
       "\n",
       "                        chain_3-SD_Beta_is  chain_3-eBPis chain_3-env  \\\n",
       "                                                                        \n",
       "jcf7190000000000-77657            0.006476       0.073459         EXT   \n",
       "jcf7190000000000-77738            0.008900       0.132373         EXT   \n",
       "jcf7190000000000-77764            0.008081       0.003048         EXT   \n",
       "jcf7190000000004-54349            0.013585       0.087930         EXT   \n",
       "jcf7190000000004-54418            0.010522       0.036744         EXT   \n",
       "\n",
       "                        chain_4-COVARIABLE  chain_4-MRK  chain_4-M_Pearson  \\\n",
       "                                                                             \n",
       "jcf7190000000000-77657                  17            1           0.014622   \n",
       "jcf7190000000000-77738                  17            2           0.067321   \n",
       "jcf7190000000000-77764                  17            3          -0.000931   \n",
       "jcf7190000000004-54349                  17            4          -0.064868   \n",
       "jcf7190000000004-54418                  17            5          -0.063113   \n",
       "\n",
       "                        chain_4-SD_Pearson  chain_4-BF(dB)  chain_4-Beta_is  \\\n",
       "                                                                              \n",
       "jcf7190000000000-77657            0.160630      -10.964986         0.000896   \n",
       "jcf7190000000000-77738            0.158435       -8.421890         0.004402   \n",
       "jcf7190000000000-77764            0.150115      -10.826779         0.000672   \n",
       "jcf7190000000004-54349            0.141376       -9.394271        -0.001723   \n",
       "jcf7190000000004-54418            0.140475      -10.258999        -0.001573   \n",
       "\n",
       "                        chain_4-SD_Beta_is  chain_4-eBPis chain_4-env  \\\n",
       "                                                                        \n",
       "jcf7190000000000-77657            0.006908       0.047312         EXT   \n",
       "jcf7190000000000-77738            0.009590       0.189629         EXT   \n",
       "jcf7190000000000-77764            0.009735       0.024582         EXT   \n",
       "jcf7190000000004-54349            0.013681       0.045857         EXT   \n",
       "jcf7190000000004-54418            0.010831       0.053301         EXT   \n",
       "\n",
       "                        chain_5-COVARIABLE  chain_5-MRK  chain_5-M_Pearson  \\\n",
       "                                                                             \n",
       "jcf7190000000000-77657                  17            1           0.012706   \n",
       "jcf7190000000000-77738                  17            2           0.054547   \n",
       "jcf7190000000000-77764                  17            3          -0.015933   \n",
       "jcf7190000000004-54349                  17            4          -0.075954   \n",
       "jcf7190000000004-54418                  17            5          -0.051421   \n",
       "\n",
       "                        chain_5-SD_Pearson  chain_5-BF(dB)  chain_5-Beta_is  \\\n",
       "                                                                              \n",
       "jcf7190000000000-77657            0.157225      -12.218243         0.000777   \n",
       "jcf7190000000000-77738            0.159041      -10.146648         0.003565   \n",
       "jcf7190000000000-77764            0.140759      -11.198963        -0.000089   \n",
       "jcf7190000000004-54349            0.145148       -8.386927        -0.003074   \n",
       "jcf7190000000004-54418            0.146818      -10.113513        -0.000778   \n",
       "\n",
       "                        chain_5-SD_Beta_is  chain_5-eBPis chain_5-env  \\\n",
       "                                                                        \n",
       "jcf7190000000000-77657            0.006316       0.044739         EXT   \n",
       "jcf7190000000000-77738            0.009359       0.152881         EXT   \n",
       "jcf7190000000000-77764            0.009476       0.003279         EXT   \n",
       "jcf7190000000004-54349            0.014311       0.080967         EXT   \n",
       "jcf7190000000004-54418            0.010882       0.025495         EXT   \n",
       "\n",
       "                        rank_chain_1-BF  rank_chain_2-BF  rank_chain_3-BF  \\\n",
       "                                                                            \n",
       "jcf7190000000000-77657          2042787          1180345          1813140   \n",
       "jcf7190000000000-77738          1036424           588863           905649   \n",
       "jcf7190000000000-77764          1766256          1956936          1849384   \n",
       "jcf7190000000004-54349           963380           815623           922527   \n",
       "jcf7190000000004-54418          1341111          1264717          1363929   \n",
       "\n",
       "                        rank_chain_4-BF  rank_chain_5-BF   mean_BF  \\\n",
       "                                                                     \n",
       "jcf7190000000000-77657          1671019          2085473  0.074447   \n",
       "jcf7190000000000-77738           707317          1331789  0.125952   \n",
       "jcf7190000000000-77764          1617782          1756806  0.074152   \n",
       "jcf7190000000004-54349          1013050           698765  0.125778   \n",
       "jcf7190000000004-54418          1382077          1317438  0.096598   \n",
       "\n",
       "                        rank_mean_BF  BF_gte20_for-gte3chains  \\\n",
       "                                                                \n",
       "jcf7190000000000-77657       1796259                    False   \n",
       "jcf7190000000000-77738        871710                    False   \n",
       "jcf7190000000000-77764       1802400                    False   \n",
       "jcf7190000000004-54349        873682                    False   \n",
       "jcf7190000000004-54418       1343037                    False   \n",
       "\n",
       "                        BF_gte15_for-gte3chains  \\\n",
       "                                                  \n",
       "jcf7190000000000-77657                    False   \n",
       "jcf7190000000000-77738                    False   \n",
       "jcf7190000000000-77764                    False   \n",
       "jcf7190000000004-54349                    False   \n",
       "jcf7190000000004-54418                    False   \n",
       "\n",
       "                        rank_consistency_top1perc_for-gte3chains  \n",
       "                                                                  \n",
       "jcf7190000000000-77657                                     False  \n",
       "jcf7190000000000-77738                                     False  \n",
       "jcf7190000000000-77764                                     False  \n",
       "jcf7190000000004-54349                                     False  \n",
       "jcf7190000000004-54418                                     False  "
      ]
     },
     "execution_count": 11,
     "metadata": {},
     "output_type": "execute_result"
    }
   ],
   "source": [
    "# add column for rank consistency (True if SNP is ranked in top 1% for >= 3 chains)\n",
    "# also add a column for mean_BF >= 20\n",
    "for env,df in envdfs.items():\n",
    "    oneperc = math.ceil(0.01*nrow(df))\n",
    "    rankcols = [col for col in df if 'rank_chain' in col]\n",
    "    envdfs[env]['rank_consistency_top1perc_for-gte3chains'] = (df[rankcols] < oneperc).sum(axis=1) >= 3\n",
    "envdfs[env].head()"
   ]
  },
  {
   "cell_type": "code",
   "execution_count": 12,
   "metadata": {},
   "outputs": [
    {
     "name": "stderr",
     "output_type": "stream",
     "text": [
      "DD_0: 100%|██████████| 55/55 [00:04<00:00, 11.63it/s]\n",
      "FFP: 100%|██████████| 55/55 [00:04<00:00, 11.79it/s]\n",
      "SHM: 100%|██████████| 55/55 [00:04<00:00, 11.82it/s]\n",
      "TD: 100%|██████████| 55/55 [00:04<00:00, 11.83it/s]\n",
      "AHM: 100%|██████████| 55/55 [00:04<00:00, 11.86it/s]\n",
      "MWMT: 100%|██████████| 55/55 [00:04<00:00, 11.81it/s]\n",
      "MCMT: 100%|██████████| 55/55 [00:04<00:00, 11.84it/s]\n",
      "MSP: 100%|██████████| 55/55 [00:04<00:00, 11.74it/s]\n",
      "Eref: 100%|██████████| 55/55 [00:04<00:00, 11.68it/s]\n",
      "NFFD: 100%|██████████| 55/55 [00:04<00:00, 11.56it/s]\n",
      "DD5: 100%|██████████| 55/55 [00:04<00:00, 11.48it/s]\n",
      "eFFP: 100%|██████████| 55/55 [00:04<00:00, 11.66it/s]\n",
      "CMD: 100%|██████████| 55/55 [00:04<00:00, 11.52it/s]\n",
      "MAP: 100%|██████████| 55/55 [00:04<00:00, 11.67it/s]\n",
      "PAS: 100%|██████████| 55/55 [00:04<00:00, 11.58it/s]\n",
      "bFFP: 100%|██████████| 55/55 [00:04<00:00, 11.37it/s]\n",
      "MAT: 100%|██████████| 55/55 [00:04<00:00, 11.54it/s]\n",
      "EMT: 100%|██████████| 55/55 [00:04<00:00, 11.62it/s]\n",
      "EXT: 100%|██████████| 55/55 [00:04<00:00, 11.67it/s]\n"
     ]
    }
   ],
   "source": [
    "# make sure that there are no ranks repeated\n",
    "for env,df in envdfs.items():\n",
    "    for col in nb(df.columns, desc=env):\n",
    "        if col.startswith('rank') and 'consistency' not in col:\n",
    "            assert nrow(df) == luni(df[col])"
   ]
  },
  {
   "cell_type": "code",
   "execution_count": 16,
   "metadata": {},
   "outputs": [],
   "source": [
    "# save files - overwrite previous saved files that included newREPEATS\n",
    "jobs = []\n",
    "for env,df in envdfs.items():\n",
    "    file = op.join(finaldir, f'interior_maf-p05_RD-recalculated_ADP-lt-1000_{env}.txt')\n",
    "    jobs.append(lview.apply_async(write_file, *(df, file)))\n",
    "#watch_async(jobs, phase='final')"
   ]
  },
  {
   "cell_type": "code",
   "execution_count": 17,
   "metadata": {},
   "outputs": [],
   "source": [
    "# save pkl for easy loading - overwrite previous saved files that included newREPEATS\n",
    "pkldump(envdfs, op.join(finaldir, 'envdfs_after_ranking.pkl'))"
   ]
  },
  {
   "cell_type": "code",
   "execution_count": 18,
   "metadata": {},
   "outputs": [
    {
     "name": "stdout",
     "output_type": "stream",
     "text": [
      "\u001b[94m\u001b[1mInterior\n",
      "\u001b[0m\u001b[0m\n",
      "Env   BFConsistent20  BFConsistent15  BFMean20\t  BFMean15   RankConsistent\n",
      "AHM \t 2507 \t\t 2841 \t\t 2582 \t    2947 \t 20596\n",
      "CMD \t 1157 \t\t 1390 \t\t 1236 \t    1470 \t 20045\n",
      "DD5 \t 992 \t\t 1402 \t\t 1098 \t    1571 \t 21528\n",
      "DD_0 \t 2479 \t\t 3369 \t\t 2674 \t    3688 \t 22642\n",
      "EMT \t 3813 \t\t 5118 \t\t 4111 \t    5549 \t 22684\n",
      "EXT \t 1632 \t\t 2309 \t\t 1783 \t    2575 \t 21977\n",
      "Eref \t 1841 \t\t 2617 \t\t 2064 \t    2899 \t 22348\n",
      "FFP \t 497 \t\t 734 \t\t 572 \t    810 \t 20418\n",
      "MAP \t 2497 \t\t 2902 \t\t 2618 \t    3054 \t 20374\n",
      "MAT \t 1537 \t\t 2153 \t\t 1697 \t    2329 \t 22167\n",
      "MCMT \t 5395 \t\t 7196 \t\t 5811 \t    7713 \t 23366\n",
      "MSP \t 1531 \t\t 1812 \t\t 1602 \t    1916 \t 19420\n",
      "MWMT \t 1455 \t\t 2040 \t\t 1609 \t    2257 \t 21599\n",
      "NFFD \t 814 \t\t 1166 \t\t 909 \t    1303 \t 21198\n",
      "PAS \t 1491 \t\t 1783 \t\t 1552 \t    1864 \t 19970\n",
      "SHM \t 1836 \t\t 2145 \t\t 1912 \t    2223 \t 20501\n",
      "TD \t 4785 \t\t 6542 \t\t 5216 \t    7161 \t 22457\n",
      "bFFP \t 488 \t\t 709 \t\t 542 \t    798 \t 20380\n",
      "eFFP \t 709 \t\t 1027 \t\t 794 \t    1155 \t 20679\n"
     ]
    }
   ],
   "source": [
    "# print table with outliers based on several criteria\n",
    "print(ColorText('Interior\\n').bold().blue())\n",
    "print('Env   BFConsistent20  BFConsistent15  BFMean20\\t  BFMean15   RankConsistent')\n",
    "for env in sorted(envdfs.keys()):\n",
    "    df = envdfs[env]\n",
    "    print(env,\n",
    "          '\\t',sum(df['BF_gte20_for-gte3chains']),\n",
    "          '\\t\\t',sum(df['BF_gte15_for-gte3chains']),\n",
    "          '\\t\\t',sum(df['mean_BF']>=20),\n",
    "          '\\t   ',sum(df['mean_BF']>=15),\n",
    "          '\\t', sum(df['rank_consistency_top1perc_for-gte3chains']))"
   ]
  },
  {
   "cell_type": "code",
   "execution_count": 36,
   "metadata": {},
   "outputs": [
    {
     "data": {
      "text/plain": [
       "26783.98"
      ]
     },
     "execution_count": 36,
     "metadata": {},
     "output_type": "execute_result"
    }
   ],
   "source": [
    "# what should I expect for the number in top 1%?\n",
    "0.01*nrow(df)"
   ]
  },
  {
   "cell_type": "code",
   "execution_count": 40,
   "metadata": {},
   "outputs": [
    {
     "name": "stdout",
     "output_type": "stream",
     "text": [
      "(18, 'EXT')\n"
     ]
    }
   ],
   "source": [
    "# triple check that no ranks are duplicated\n",
    "count = 0\n",
    "for env,df in envdfs.items():\n",
    "    update([(count, env)])\n",
    "    for col in df.columns:\n",
    "        if col.startswith('rank_') and col.endswith(')'):\n",
    "            assert luni(df[col]) == nrow(df)\n",
    "    count += 1"
   ]
  },
  {
   "cell_type": "code",
   "execution_count": 41,
   "metadata": {},
   "outputs": [
    {
     "data": {
      "text/plain": [
       "['rank_chain_1-BF(dB)',\n",
       " 'rank_chain_2-BF(dB)',\n",
       " 'rank_chain_3-BF(dB)',\n",
       " 'rank_chain_4-BF(dB)',\n",
       " 'rank_chain_5-BF(dB)',\n",
       " 'rank_mean_BF(dB)']"
      ]
     },
     "execution_count": 41,
     "metadata": {},
     "output_type": "execute_result"
    }
   ],
   "source": [
    "[col for col in df if col.startswith('rank') and col.endswith(')')]"
   ]
  },
  {
   "cell_type": "markdown",
   "metadata": {},
   "source": [
    "# look at BF scores for consistent top 1% ranks"
   ]
  },
  {
   "cell_type": "code",
   "execution_count": 3,
   "metadata": {},
   "outputs": [],
   "source": [
    "from collections import defaultdict"
   ]
  },
  {
   "cell_type": "code",
   "execution_count": 4,
   "metadata": {},
   "outputs": [],
   "source": [
    "# reload data\n",
    "finaldir = op.join(baydir, 'final_results')\n",
    "envdfs = pklload(op.join(finaldir, 'envdfs_after_ranking.pkl'))"
   ]
  },
  {
   "cell_type": "code",
   "execution_count": 5,
   "metadata": {
    "scrolled": false
   },
   "outputs": [
    {
     "name": "stdout",
     "output_type": "stream",
     "text": [
      "\u001b[1mDD_0\u001b[0m 22642\n",
      "\tnumber of loci with meanBF >= 0 :  22642 (True)\n",
      "\tnumber of loci with meanBF >= 10 :  5802\n",
      "\tnumber of loci with meanBF >= 15 :  3688\n",
      "\tnumber of loci with meanBF >= 20 :  2674\n",
      "\tfraction of BF >= 15 :  0.16\n",
      "\tfraction of BF >= 10 :  0.26\n"
     ]
    },
    {
     "data": {
      "image/png": "[encoded data removed]",
      "text/plain": [
       "<Figure size 432x288 with 1 Axes>"
      ]
     },
     "metadata": {
      "needs_background": "light"
     },
     "output_type": "display_data"
    },
    {
     "name": "stdout",
     "output_type": "stream",
     "text": [
      "\n",
      "\n",
      "\u001b[1mFFP\u001b[0m 20418\n",
      "\tnumber of loci with meanBF >= 0 :  20418 (True)\n",
      "\tnumber of loci with meanBF >= 10 :  1416\n",
      "\tnumber of loci with meanBF >= 15 :  810\n",
      "\tnumber of loci with meanBF >= 20 :  572\n",
      "\tfraction of BF >= 15 :  0.04\n",
      "\tfraction of BF >= 10 :  0.07\n"
     ]
    },
    {
     "data": {
      "image/png": "[encoded data removed]",
      "text/plain": [
       "<Figure size 432x288 with 1 Axes>"
      ]
     },
     "metadata": {
      "needs_background": "light"
     },
     "output_type": "display_data"
    },
    {
     "name": "stdout",
     "output_type": "stream",
     "text": [
      "\n",
      "\n",
      "\u001b[1mSHM\u001b[0m 20501\n",
      "\tnumber of loci with meanBF >= 0 :  20501 (True)\n",
      "\tnumber of loci with meanBF >= 10 :  2860\n",
      "\tnumber of loci with meanBF >= 15 :  2223\n",
      "\tnumber of loci with meanBF >= 20 :  1912\n",
      "\tfraction of BF >= 15 :  0.11\n",
      "\tfraction of BF >= 10 :  0.14\n"
     ]
    },
    {
     "data": {
      "image/png": "[encoded data removed]",
      "text/plain": [
       "<Figure size 432x288 with 1 Axes>"
      ]
     },
     "metadata": {
      "needs_background": "light"
     },
     "output_type": "display_data"
    },
    {
     "name": "stdout",
     "output_type": "stream",
     "text": [
      "\n",
      "\n",
      "\u001b[1mTD\u001b[0m 22457\n",
      "\tnumber of loci with meanBF >= 0 :  22457 (True)\n",
      "\tnumber of loci with meanBF >= 10 :  10955\n",
      "\tnumber of loci with meanBF >= 15 :  7159\n",
      "\tnumber of loci with meanBF >= 20 :  5215\n",
      "\tfraction of BF >= 15 :  0.32\n",
      "\tfraction of BF >= 10 :  0.49\n",
      "\u001b[1m\u001b[93m\tnot all SNPs with BF >= 15 are consistently in top 1% : full (7161) vs 1% (7159) (diff = 2)\u001b[0m\u001b[0m\n",
      "\u001b[1m\u001b[93m\tnot all SNPs with BF >= 20 are consistently in top 1% : full (5216) vs 1% (5215) (diff = 1)\u001b[0m\u001b[0m\n"
     ]
    },
    {
     "data": {
      "image/png": "[encoded data removed]",
      "text/plain": [
       "<Figure size 432x288 with 1 Axes>"
      ]
     },
     "metadata": {
      "needs_background": "light"
     },
     "output_type": "display_data"
    },
    {
     "name": "stdout",
     "output_type": "stream",
     "text": [
      "\n",
      "\n",
      "\u001b[1mAHM\u001b[0m 20596\n",
      "\tnumber of loci with meanBF >= 0 :  20596 (True)\n",
      "\tnumber of loci with meanBF >= 10 :  3635\n",
      "\tnumber of loci with meanBF >= 15 :  2947\n",
      "\tnumber of loci with meanBF >= 20 :  2582\n",
      "\tfraction of BF >= 15 :  0.14\n",
      "\tfraction of BF >= 10 :  0.18\n"
     ]
    },
    {
     "data": {
      "image/png": "[encoded data removed]",
      "text/plain": [
       "<Figure size 432x288 with 1 Axes>"
      ]
     },
     "metadata": {
      "needs_background": "light"
     },
     "output_type": "display_data"
    },
    {
     "name": "stdout",
     "output_type": "stream",
     "text": [
      "\n",
      "\n",
      "\u001b[1mMWMT\u001b[0m 21599\n",
      "\tnumber of loci with meanBF >= 0 :  21599 (True)\n",
      "\tnumber of loci with meanBF >= 10 :  3630\n",
      "\tnumber of loci with meanBF >= 15 :  2257\n",
      "\tnumber of loci with meanBF >= 20 :  1609\n",
      "\tfraction of BF >= 15 :  0.1\n",
      "\tfraction of BF >= 10 :  0.17\n"
     ]
    },
    {
     "data": {
      "image/png": "[encoded data removed]",
      "text/plain": [
       "<Figure size 432x288 with 1 Axes>"
      ]
     },
     "metadata": {
      "needs_background": "light"
     },
     "output_type": "display_data"
    },
    {
     "name": "stdout",
     "output_type": "stream",
     "text": [
      "\n",
      "\n",
      "\u001b[1mMCMT\u001b[0m 23366\n",
      "\tnumber of loci with meanBF >= 0 :  23366 (True)\n",
      "\tnumber of loci with meanBF >= 10 :  11548\n",
      "\tnumber of loci with meanBF >= 15 :  7709\n",
      "\tnumber of loci with meanBF >= 20 :  5810\n",
      "\tfraction of BF >= 15 :  0.33\n",
      "\tfraction of BF >= 10 :  0.49\n",
      "\u001b[1m\u001b[93m\tnot all SNPs with BF >= 15 are consistently in top 1% : full (7713) vs 1% (7709) (diff = 4)\u001b[0m\u001b[0m\n",
      "\u001b[1m\u001b[93m\tnot all SNPs with BF >= 20 are consistently in top 1% : full (5811) vs 1% (5810) (diff = 1)\u001b[0m\u001b[0m\n"
     ]
    },
    {
     "data": {
      "image/png": "[encoded data removed]",
      "text/plain": [
       "<Figure size 432x288 with 1 Axes>"
      ]
     },
     "metadata": {
      "needs_background": "light"
     },
     "output_type": "display_data"
    },
    {
     "name": "stdout",
     "output_type": "stream",
     "text": [
      "\n",
      "\n",
      "\u001b[1mMSP\u001b[0m 19420\n",
      "\tnumber of loci with meanBF >= 0 :  19420 (True)\n",
      "\tnumber of loci with meanBF >= 10 :  2544\n",
      "\tnumber of loci with meanBF >= 15 :  1916\n",
      "\tnumber of loci with meanBF >= 20 :  1602\n",
      "\tfraction of BF >= 15 :  0.1\n",
      "\tfraction of BF >= 10 :  0.13\n"
     ]
    },
    {
     "data": {
      "image/png": "[encoded data removed]",
      "text/plain": [
       "<Figure size 432x288 with 1 Axes>"
      ]
     },
     "metadata": {
      "needs_background": "light"
     },
     "output_type": "display_data"
    },
    {
     "name": "stdout",
     "output_type": "stream",
     "text": [
      "\n",
      "\n",
      "\u001b[1mEref\u001b[0m 22348\n",
      "\tnumber of loci with meanBF >= 0 :  22348 (True)\n",
      "\tnumber of loci with meanBF >= 10 :  4660\n",
      "\tnumber of loci with meanBF >= 15 :  2898\n",
      "\tnumber of loci with meanBF >= 20 :  2064\n",
      "\tfraction of BF >= 15 :  0.13\n",
      "\tfraction of BF >= 10 :  0.21\n",
      "\u001b[1m\u001b[93m\tnot all SNPs with BF >= 15 are consistently in top 1% : full (2899) vs 1% (2898) (diff = 1)\u001b[0m\u001b[0m\n"
     ]
    },
    {
     "data": {
      "image/png": "[encoded data removed]",
      "text/plain": [
       "<Figure size 432x288 with 1 Axes>"
      ]
     },
     "metadata": {
      "needs_background": "light"
     },
     "output_type": "display_data"
    },
    {
     "name": "stdout",
     "output_type": "stream",
     "text": [
      "\n",
      "\n",
      "\u001b[1mNFFD\u001b[0m 21198\n",
      "\tnumber of loci with meanBF >= 0 :  21198 (True)\n",
      "\tnumber of loci with meanBF >= 10 :  2170\n",
      "\tnumber of loci with meanBF >= 15 :  1303\n",
      "\tnumber of loci with meanBF >= 20 :  909\n",
      "\tfraction of BF >= 15 :  0.06\n",
      "\tfraction of BF >= 10 :  0.1\n"
     ]
    },
    {
     "data": {
      "image/png": "[encoded data removed]",
      "text/plain": [
       "<Figure size 432x288 with 1 Axes>"
      ]
     },
     "metadata": {
      "needs_background": "light"
     },
     "output_type": "display_data"
    },
    {
     "name": "stdout",
     "output_type": "stream",
     "text": [
      "\n",
      "\n",
      "\u001b[1mDD5\u001b[0m 21528\n",
      "\tnumber of loci with meanBF >= 0 :  21528 (True)\n",
      "\tnumber of loci with meanBF >= 10 :  2634\n",
      "\tnumber of loci with meanBF >= 15 :  1571\n",
      "\tnumber of loci with meanBF >= 20 :  1098\n",
      "\tfraction of BF >= 15 :  0.07\n",
      "\tfraction of BF >= 10 :  0.12\n"
     ]
    },
    {
     "data": {
      "image/png": "[encoded data removed]",
      "text/plain": [
       "<Figure size 432x288 with 1 Axes>"
      ]
     },
     "metadata": {
      "needs_background": "light"
     },
     "output_type": "display_data"
    },
    {
     "name": "stdout",
     "output_type": "stream",
     "text": [
      "\n",
      "\n",
      "\u001b[1meFFP\u001b[0m 20679\n",
      "\tnumber of loci with meanBF >= 0 :  20679 (True)\n",
      "\tnumber of loci with meanBF >= 10 :  1880\n",
      "\tnumber of loci with meanBF >= 15 :  1155\n",
      "\tnumber of loci with meanBF >= 20 :  794\n",
      "\tfraction of BF >= 15 :  0.06\n",
      "\tfraction of BF >= 10 :  0.09\n"
     ]
    },
    {
     "data": {
      "image/png": "[encoded data removed]",
      "text/plain": [
       "<Figure size 432x288 with 1 Axes>"
      ]
     },
     "metadata": {
      "needs_background": "light"
     },
     "output_type": "display_data"
    },
    {
     "name": "stdout",
     "output_type": "stream",
     "text": [
      "\n",
      "\n",
      "\u001b[1mCMD\u001b[0m 20045\n",
      "\tnumber of loci with meanBF >= 0 :  20045 (True)\n",
      "\tnumber of loci with meanBF >= 10 :  1910\n",
      "\tnumber of loci with meanBF >= 15 :  1470\n",
      "\tnumber of loci with meanBF >= 20 :  1236\n",
      "\tfraction of BF >= 15 :  0.07\n",
      "\tfraction of BF >= 10 :  0.1\n"
     ]
    },
    {
     "data": {
      "image/png": "[encoded data removed]",
      "text/plain": [
       "<Figure size 432x288 with 1 Axes>"
      ]
     },
     "metadata": {
      "needs_background": "light"
     },
     "output_type": "display_data"
    },
    {
     "name": "stdout",
     "output_type": "stream",
     "text": [
      "\n",
      "\n",
      "\u001b[1mMAP\u001b[0m 20374\n",
      "\tnumber of loci with meanBF >= 0 :  20374 (True)\n",
      "\tnumber of loci with meanBF >= 10 :  4043\n",
      "\tnumber of loci with meanBF >= 15 :  3054\n",
      "\tnumber of loci with meanBF >= 20 :  2618\n",
      "\tfraction of BF >= 15 :  0.15\n",
      "\tfraction of BF >= 10 :  0.2\n"
     ]
    },
    {
     "data": {
      "image/png": "[encoded data removed]",
      "text/plain": [
       "<Figure size 432x288 with 1 Axes>"
      ]
     },
     "metadata": {
      "needs_background": "light"
     },
     "output_type": "display_data"
    },
    {
     "name": "stdout",
     "output_type": "stream",
     "text": [
      "\n",
      "\n",
      "\u001b[1mPAS\u001b[0m 19970\n",
      "\tnumber of loci with meanBF >= 0 :  19970 (True)\n",
      "\tnumber of loci with meanBF >= 10 :  2483\n",
      "\tnumber of loci with meanBF >= 15 :  1864\n",
      "\tnumber of loci with meanBF >= 20 :  1552\n",
      "\tfraction of BF >= 15 :  0.09\n",
      "\tfraction of BF >= 10 :  0.12\n"
     ]
    },
    {
     "data": {
      "image/png": "[encoded data removed]",
      "text/plain": [
       "<Figure size 432x288 with 1 Axes>"
      ]
     },
     "metadata": {
      "needs_background": "light"
     },
     "output_type": "display_data"
    },
    {
     "name": "stdout",
     "output_type": "stream",
     "text": [
      "\n",
      "\n",
      "\u001b[1mbFFP\u001b[0m 20380\n",
      "\tnumber of loci with meanBF >= 0 :  20380 (True)\n",
      "\tnumber of loci with meanBF >= 10 :  1322\n",
      "\tnumber of loci with meanBF >= 15 :  798\n",
      "\tnumber of loci with meanBF >= 20 :  542\n",
      "\tfraction of BF >= 15 :  0.04\n",
      "\tfraction of BF >= 10 :  0.06\n"
     ]
    },
    {
     "data": {
      "image/png": "[encoded data removed]",
      "text/plain": [
       "<Figure size 432x288 with 1 Axes>"
      ]
     },
     "metadata": {
      "needs_background": "light"
     },
     "output_type": "display_data"
    },
    {
     "name": "stdout",
     "output_type": "stream",
     "text": [
      "\n",
      "\n",
      "\u001b[1mMAT\u001b[0m 22167\n",
      "\tnumber of loci with meanBF >= 0 :  22167 (True)\n",
      "\tnumber of loci with meanBF >= 10 :  3752\n",
      "\tnumber of loci with meanBF >= 15 :  2329\n",
      "\tnumber of loci with meanBF >= 20 :  1697\n",
      "\tfraction of BF >= 15 :  0.11\n",
      "\tfraction of BF >= 10 :  0.17\n"
     ]
    },
    {
     "data": {
      "image/png": "[encoded data removed]",
      "text/plain": [
       "<Figure size 432x288 with 1 Axes>"
      ]
     },
     "metadata": {
      "needs_background": "light"
     },
     "output_type": "display_data"
    },
    {
     "name": "stdout",
     "output_type": "stream",
     "text": [
      "\n",
      "\n",
      "\u001b[1mEMT\u001b[0m 22684\n",
      "\tnumber of loci with meanBF >= 0 :  22684 (True)\n",
      "\tnumber of loci with meanBF >= 10 :  8519\n",
      "\tnumber of loci with meanBF >= 15 :  5549\n",
      "\tnumber of loci with meanBF >= 20 :  4111\n",
      "\tfraction of BF >= 15 :  0.24\n",
      "\tfraction of BF >= 10 :  0.38\n"
     ]
    },
    {
     "data": {
      "image/png": "[encoded data removed]",
      "text/plain": [
       "<Figure size 432x288 with 1 Axes>"
      ]
     },
     "metadata": {
      "needs_background": "light"
     },
     "output_type": "display_data"
    },
    {
     "name": "stdout",
     "output_type": "stream",
     "text": [
      "\n",
      "\n",
      "\u001b[1mEXT\u001b[0m 21977\n",
      "\tnumber of loci with meanBF >= 0 :  21977 (True)\n",
      "\tnumber of loci with meanBF >= 10 :  4214\n",
      "\tnumber of loci with meanBF >= 15 :  2574\n",
      "\tnumber of loci with meanBF >= 20 :  1783\n",
      "\tfraction of BF >= 15 :  0.12\n",
      "\tfraction of BF >= 10 :  0.19\n",
      "\u001b[1m\u001b[93m\tnot all SNPs with BF >= 15 are consistently in top 1% : full (2575) vs 1% (2574) (diff = 1)\u001b[0m\u001b[0m\n"
     ]
    },
    {
     "data": {
      "image/png": "[encoded data removed]",
      "text/plain": [
       "<Figure size 432x288 with 1 Axes>"
      ]
     },
     "metadata": {
      "needs_background": "light"
     },
     "output_type": "display_data"
    },
    {
     "name": "stdout",
     "output_type": "stream",
     "text": [
      "\n",
      "\n",
      "\u001b[1m\n",
      "Fraction of meanBF >=15 across envs\u001b[0m\n"
     ]
    },
    {
     "data": {
      "image/png": "[encoded data removed]",
      "text/plain": [
       "<Figure size 432x288 with 1 Axes>"
      ]
     },
     "metadata": {
      "needs_background": "light"
     },
     "output_type": "display_data"
    },
    {
     "data": {
      "text/html": [
       "<div>\n",
       "<style scoped>\n",
       "    .dataframe tbody tr th:only-of-type {\n",
       "        vertical-align: middle;\n",
       "    }\n",
       "\n",
       "    .dataframe tbody tr th {\n",
       "        vertical-align: top;\n",
       "    }\n",
       "\n",
       "    .dataframe thead th {\n",
       "        text-align: right;\n",
       "    }\n",
       "</style>\n",
       "<table border=\"1\" class=\"dataframe\">\n",
       "  <thead>\n",
       "    <tr style=\"text-align: right;\">\n",
       "      <th></th>\n",
       "      <th>DD_0</th>\n",
       "      <th>FFP</th>\n",
       "      <th>SHM</th>\n",
       "      <th>TD</th>\n",
       "      <th>AHM</th>\n",
       "      <th>MWMT</th>\n",
       "      <th>MCMT</th>\n",
       "      <th>MSP</th>\n",
       "      <th>Eref</th>\n",
       "      <th>NFFD</th>\n",
       "      <th>DD5</th>\n",
       "      <th>eFFP</th>\n",
       "      <th>CMD</th>\n",
       "      <th>MAP</th>\n",
       "      <th>PAS</th>\n",
       "      <th>bFFP</th>\n",
       "      <th>MAT</th>\n",
       "      <th>EMT</th>\n",
       "      <th>EXT</th>\n",
       "    </tr>\n",
       "  </thead>\n",
       "  <tbody>\n",
       "    <tr>\n",
       "      <th>0</th>\n",
       "      <td>0.16</td>\n",
       "      <td>0.04</td>\n",
       "      <td>0.11</td>\n",
       "      <td>0.32</td>\n",
       "      <td>0.14</td>\n",
       "      <td>0.1</td>\n",
       "      <td>0.33</td>\n",
       "      <td>0.1</td>\n",
       "      <td>0.13</td>\n",
       "      <td>0.06</td>\n",
       "      <td>0.07</td>\n",
       "      <td>0.06</td>\n",
       "      <td>0.07</td>\n",
       "      <td>0.15</td>\n",
       "      <td>0.09</td>\n",
       "      <td>0.04</td>\n",
       "      <td>0.11</td>\n",
       "      <td>0.24</td>\n",
       "      <td>0.12</td>\n",
       "    </tr>\n",
       "  </tbody>\n",
       "</table>\n",
       "</div>"
      ],
      "text/plain": [
       "   DD_0   FFP   SHM    TD   AHM  MWMT  MCMT  MSP  Eref  NFFD   DD5  eFFP  \\\n",
       "0  0.16  0.04  0.11  0.32  0.14   0.1  0.33  0.1  0.13  0.06  0.07  0.06   \n",
       "\n",
       "    CMD   MAP   PAS  bFFP   MAT   EMT   EXT  \n",
       "0  0.07  0.15  0.09  0.04  0.11  0.24  0.12  "
      ]
     },
     "execution_count": 5,
     "metadata": {},
     "output_type": "execute_result"
    }
   ],
   "source": [
    "# for **ONLY** those loci that are consistently ranked in top 1%\n",
    "# print histograms of bayes factor for each environment\n",
    "# print fraction of top 1%BFs that have BF ≥ 15 or BF ≥ 20\n",
    "# also look at histogram for BFs < 100\n",
    "\n",
    "# also count number of loci across all SNPs that have BF ≥ 15 or BF ≥ 20, print if count doesn't match top 1%\n",
    "\n",
    "fracs = defaultdict(dict)\n",
    "for env,df in envdfs.items():\n",
    "    df = df[df['rank_consistency_top1perc_for-gte3chains'] == True]\n",
    "    BFs = df['mean_BF']\n",
    "    small15 = sum(BFs >= 15)\n",
    "    small20 = sum(BFs >= 20)\n",
    "    print(ColorText(env).bold(), nrow(df))\n",
    "    print('\\tnumber of loci with meanBF >= 0 : ', sum(BFs >= 0), \"(%s)\" % str(sum(BFs >= 0) == nrow(df)))\n",
    "    print('\\tnumber of loci with meanBF >= 10 : ', sum(BFs >= 10))\n",
    "    print('\\tnumber of loci with meanBF >= 15 : ', small15)\n",
    "    print('\\tnumber of loci with meanBF >= 20 : ', small20)\n",
    "    frac = round(sum(BFs >= 15)/nrow(df), 2)\n",
    "    frac2 = round(sum(BFs >= 10)/nrow(df), 2)\n",
    "    fracs[env][0] = frac\n",
    "    print('\\tfraction of BF >= 15 : ', frac)\n",
    "    print('\\tfraction of BF >= 10 : ', frac2)\n",
    "    sum15 = sum(envdfs[env]['mean_BF'] >= 15)\n",
    "    sum20 = sum(envdfs[env]['mean_BF'] >= 20)\n",
    "    if small15 != sum15:\n",
    "        text = '\\tnot all SNPs with BF >= 15 are consistently in top 1%'\n",
    "        print(ColorText(f\"{text} : full ({sum15}) vs 1% ({small15}) (diff = {sum15 - small15})\").warn().bold())\n",
    "    if small20 != sum20:\n",
    "        text = '\\tnot all SNPs with BF >= 20 are consistently in top 1%'\n",
    "        print(ColorText(f\"{text} : full ({sum20}) vs 1% ({small20}) (diff = {sum20 - small20})\").warn().bold())\n",
    "    plt.hist(BFs[BFs<100], bins=100)\n",
    "    plt.title('number of loci with BF < 100')\n",
    "    plt.show()\n",
    "    print('\\n')\n",
    "    \n",
    "# create histogram for fraction of SNPs in consistent top 1% across environments\n",
    "print(ColorText('\\nFraction of meanBF >=15 across envs').bold())\n",
    "fracdf = pd.DataFrame(fracs)\n",
    "plt.hist(fracdf.loc[0,:])\n",
    "plt.xlabel('fraction')\n",
    "plt.show()\n",
    "fracdf"
   ]
  },
  {
   "cell_type": "code",
   "execution_count": 6,
   "metadata": {},
   "outputs": [
    {
     "data": {
      "text/html": [
       "<div>\n",
       "<style scoped>\n",
       "    .dataframe tbody tr th:only-of-type {\n",
       "        vertical-align: middle;\n",
       "    }\n",
       "\n",
       "    .dataframe tbody tr th {\n",
       "        vertical-align: top;\n",
       "    }\n",
       "\n",
       "    .dataframe thead th {\n",
       "        text-align: right;\n",
       "    }\n",
       "</style>\n",
       "<table border=\"1\" class=\"dataframe\">\n",
       "  <thead>\n",
       "    <tr style=\"text-align: right;\">\n",
       "      <th></th>\n",
       "      <th>chain_1-COVARIABLE</th>\n",
       "      <th>chain_1-MRK</th>\n",
       "      <th>chain_1-M_Pearson</th>\n",
       "      <th>chain_1-SD_Pearson</th>\n",
       "      <th>chain_1-BF(dB)</th>\n",
       "      <th>chain_1-Beta_is</th>\n",
       "      <th>chain_1-SD_Beta_is</th>\n",
       "      <th>chain_1-eBPis</th>\n",
       "      <th>chain_1-env</th>\n",
       "      <th>chain_2-COVARIABLE</th>\n",
       "      <th>chain_2-MRK</th>\n",
       "      <th>chain_2-M_Pearson</th>\n",
       "      <th>chain_2-SD_Pearson</th>\n",
       "      <th>chain_2-BF(dB)</th>\n",
       "      <th>chain_2-Beta_is</th>\n",
       "      <th>chain_2-SD_Beta_is</th>\n",
       "      <th>chain_2-eBPis</th>\n",
       "      <th>chain_2-env</th>\n",
       "      <th>chain_3-COVARIABLE</th>\n",
       "      <th>chain_3-MRK</th>\n",
       "      <th>chain_3-M_Pearson</th>\n",
       "      <th>chain_3-SD_Pearson</th>\n",
       "      <th>chain_3-BF(dB)</th>\n",
       "      <th>chain_3-Beta_is</th>\n",
       "      <th>chain_3-SD_Beta_is</th>\n",
       "      <th>chain_3-eBPis</th>\n",
       "      <th>chain_3-env</th>\n",
       "      <th>chain_4-COVARIABLE</th>\n",
       "      <th>chain_4-MRK</th>\n",
       "      <th>chain_4-M_Pearson</th>\n",
       "      <th>chain_4-SD_Pearson</th>\n",
       "      <th>chain_4-BF(dB)</th>\n",
       "      <th>chain_4-Beta_is</th>\n",
       "      <th>chain_4-SD_Beta_is</th>\n",
       "      <th>chain_4-eBPis</th>\n",
       "      <th>chain_4-env</th>\n",
       "      <th>chain_5-COVARIABLE</th>\n",
       "      <th>chain_5-MRK</th>\n",
       "      <th>chain_5-M_Pearson</th>\n",
       "      <th>chain_5-SD_Pearson</th>\n",
       "      <th>chain_5-BF(dB)</th>\n",
       "      <th>chain_5-Beta_is</th>\n",
       "      <th>chain_5-SD_Beta_is</th>\n",
       "      <th>chain_5-eBPis</th>\n",
       "      <th>chain_5-env</th>\n",
       "      <th>rank_chain_1-BF</th>\n",
       "      <th>rank_chain_2-BF</th>\n",
       "      <th>rank_chain_3-BF</th>\n",
       "      <th>rank_chain_4-BF</th>\n",
       "      <th>rank_chain_5-BF</th>\n",
       "      <th>mean_BF</th>\n",
       "      <th>rank_mean_BF</th>\n",
       "      <th>BF_gte20_for-gte3chains</th>\n",
       "      <th>BF_gte15_for-gte3chains</th>\n",
       "      <th>rank_consistency_top1perc_for-gte3chains</th>\n",
       "    </tr>\n",
       "    <tr>\n",
       "      <th></th>\n",
       "      <th></th>\n",
       "      <th></th>\n",
       "      <th></th>\n",
       "      <th></th>\n",
       "      <th></th>\n",
       "      <th></th>\n",
       "      <th></th>\n",
       "      <th></th>\n",
       "      <th></th>\n",
       "      <th></th>\n",
       "      <th></th>\n",
       "      <th></th>\n",
       "      <th></th>\n",
       "      <th></th>\n",
       "      <th></th>\n",
       "      <th></th>\n",
       "      <th></th>\n",
       "      <th></th>\n",
       "      <th></th>\n",
       "      <th></th>\n",
       "      <th></th>\n",
       "      <th></th>\n",
       "      <th></th>\n",
       "      <th></th>\n",
       "      <th></th>\n",
       "      <th></th>\n",
       "      <th></th>\n",
       "      <th></th>\n",
       "      <th></th>\n",
       "      <th></th>\n",
       "      <th></th>\n",
       "      <th></th>\n",
       "      <th></th>\n",
       "      <th></th>\n",
       "      <th></th>\n",
       "      <th></th>\n",
       "      <th></th>\n",
       "      <th></th>\n",
       "      <th></th>\n",
       "      <th></th>\n",
       "      <th></th>\n",
       "      <th></th>\n",
       "      <th></th>\n",
       "      <th></th>\n",
       "      <th></th>\n",
       "      <th></th>\n",
       "      <th></th>\n",
       "      <th></th>\n",
       "      <th></th>\n",
       "      <th></th>\n",
       "      <th></th>\n",
       "      <th></th>\n",
       "      <th></th>\n",
       "      <th></th>\n",
       "      <th></th>\n",
       "    </tr>\n",
       "  </thead>\n",
       "  <tbody>\n",
       "    <tr>\n",
       "      <th>jcf7190000052971-188663</th>\n",
       "      <td>17</td>\n",
       "      <td>147</td>\n",
       "      <td>0.570555</td>\n",
       "      <td>0.05102</td>\n",
       "      <td>63.834731</td>\n",
       "      <td>0.118572</td>\n",
       "      <td>0.017339</td>\n",
       "      <td>11.096378</td>\n",
       "      <td>EXT</td>\n",
       "      <td>17</td>\n",
       "      <td>147</td>\n",
       "      <td>0.566303</td>\n",
       "      <td>0.054728</td>\n",
       "      <td>59.762672</td>\n",
       "      <td>0.119738</td>\n",
       "      <td>0.01555</td>\n",
       "      <td>13.86823</td>\n",
       "      <td>EXT</td>\n",
       "      <td>17</td>\n",
       "      <td>147</td>\n",
       "      <td>0.577755</td>\n",
       "      <td>0.045856</td>\n",
       "      <td>61.559503</td>\n",
       "      <td>0.122156</td>\n",
       "      <td>0.014544</td>\n",
       "      <td>15.35253</td>\n",
       "      <td>EXT</td>\n",
       "      <td>17</td>\n",
       "      <td>147</td>\n",
       "      <td>0.575809</td>\n",
       "      <td>0.05057</td>\n",
       "      <td>63.164111</td>\n",
       "      <td>0.122335</td>\n",
       "      <td>0.016491</td>\n",
       "      <td>12.926019</td>\n",
       "      <td>EXT</td>\n",
       "      <td>17</td>\n",
       "      <td>147</td>\n",
       "      <td>0.583494</td>\n",
       "      <td>0.048323</td>\n",
       "      <td>72.807503</td>\n",
       "      <td>0.123832</td>\n",
       "      <td>0.016119</td>\n",
       "      <td>13.808462</td>\n",
       "      <td>EXT</td>\n",
       "      <td>2</td>\n",
       "      <td>2</td>\n",
       "      <td>2</td>\n",
       "      <td>1</td>\n",
       "      <td>1</td>\n",
       "      <td>2.645881e+06</td>\n",
       "      <td>1</td>\n",
       "      <td>True</td>\n",
       "      <td>True</td>\n",
       "      <td>True</td>\n",
       "    </tr>\n",
       "  </tbody>\n",
       "</table>\n",
       "</div>"
      ],
      "text/plain": [
       "                         chain_1-COVARIABLE  chain_1-MRK  chain_1-M_Pearson  \\\n",
       "                                                                              \n",
       "jcf7190000052971-188663                  17          147           0.570555   \n",
       "\n",
       "                         chain_1-SD_Pearson  chain_1-BF(dB)  chain_1-Beta_is  \\\n",
       "                                                                               \n",
       "jcf7190000052971-188663             0.05102       63.834731         0.118572   \n",
       "\n",
       "                         chain_1-SD_Beta_is  chain_1-eBPis chain_1-env  \\\n",
       "                                                                         \n",
       "jcf7190000052971-188663            0.017339      11.096378         EXT   \n",
       "\n",
       "                         chain_2-COVARIABLE  chain_2-MRK  chain_2-M_Pearson  \\\n",
       "                                                                              \n",
       "jcf7190000052971-188663                  17          147           0.566303   \n",
       "\n",
       "                         chain_2-SD_Pearson  chain_2-BF(dB)  chain_2-Beta_is  \\\n",
       "                                                                               \n",
       "jcf7190000052971-188663            0.054728       59.762672         0.119738   \n",
       "\n",
       "                         chain_2-SD_Beta_is  chain_2-eBPis chain_2-env  \\\n",
       "                                                                         \n",
       "jcf7190000052971-188663             0.01555       13.86823         EXT   \n",
       "\n",
       "                         chain_3-COVARIABLE  chain_3-MRK  chain_3-M_Pearson  \\\n",
       "                                                                              \n",
       "jcf7190000052971-188663                  17          147           0.577755   \n",
       "\n",
       "                         chain_3-SD_Pearson  chain_3-BF(dB)  chain_3-Beta_is  \\\n",
       "                                                                               \n",
       "jcf7190000052971-188663            0.045856       61.559503         0.122156   \n",
       "\n",
       "                         chain_3-SD_Beta_is  chain_3-eBPis chain_3-env  \\\n",
       "                                                                         \n",
       "jcf7190000052971-188663            0.014544       15.35253         EXT   \n",
       "\n",
       "                         chain_4-COVARIABLE  chain_4-MRK  chain_4-M_Pearson  \\\n",
       "                                                                              \n",
       "jcf7190000052971-188663                  17          147           0.575809   \n",
       "\n",
       "                         chain_4-SD_Pearson  chain_4-BF(dB)  chain_4-Beta_is  \\\n",
       "                                                                               \n",
       "jcf7190000052971-188663             0.05057       63.164111         0.122335   \n",
       "\n",
       "                         chain_4-SD_Beta_is  chain_4-eBPis chain_4-env  \\\n",
       "                                                                         \n",
       "jcf7190000052971-188663            0.016491      12.926019         EXT   \n",
       "\n",
       "                         chain_5-COVARIABLE  chain_5-MRK  chain_5-M_Pearson  \\\n",
       "                                                                              \n",
       "jcf7190000052971-188663                  17          147           0.583494   \n",
       "\n",
       "                         chain_5-SD_Pearson  chain_5-BF(dB)  chain_5-Beta_is  \\\n",
       "                                                                               \n",
       "jcf7190000052971-188663            0.048323       72.807503         0.123832   \n",
       "\n",
       "                         chain_5-SD_Beta_is  chain_5-eBPis chain_5-env  \\\n",
       "                                                                         \n",
       "jcf7190000052971-188663            0.016119      13.808462         EXT   \n",
       "\n",
       "                         rank_chain_1-BF  rank_chain_2-BF  rank_chain_3-BF  \\\n",
       "                                                                             \n",
       "jcf7190000052971-188663                2                2                2   \n",
       "\n",
       "                         rank_chain_4-BF  rank_chain_5-BF       mean_BF  \\\n",
       "                                                                          \n",
       "jcf7190000052971-188663                1                1  2.645881e+06   \n",
       "\n",
       "                         rank_mean_BF  BF_gte20_for-gte3chains  \\\n",
       "                                                                 \n",
       "jcf7190000052971-188663             1                     True   \n",
       "\n",
       "                         BF_gte15_for-gte3chains  \\\n",
       "                                                   \n",
       "jcf7190000052971-188663                     True   \n",
       "\n",
       "                         rank_consistency_top1perc_for-gte3chains  \n",
       "                                                                   \n",
       "jcf7190000052971-188663                                      True  "
      ]
     },
     "execution_count": 6,
     "metadata": {},
     "output_type": "execute_result"
    }
   ],
   "source": [
    "df[df['rank_mean_BF']==1]"
   ]
  },
  {
   "cell_type": "code",
   "execution_count": null,
   "metadata": {},
   "outputs": [],
   "source": []
  },
  {
   "cell_type": "code",
   "execution_count": null,
   "metadata": {},
   "outputs": [],
   "source": []
  },
  {
   "cell_type": "code",
   "execution_count": null,
   "metadata": {},
   "outputs": [],
   "source": []
  },
  {
   "cell_type": "code",
   "execution_count": null,
   "metadata": {},
   "outputs": [],
   "source": []
  },
  {
   "cell_type": "code",
   "execution_count": null,
   "metadata": {},
   "outputs": [],
   "source": []
  },
  {
   "cell_type": "code",
   "execution_count": null,
   "metadata": {},
   "outputs": [],
   "source": []
  },
  {
   "cell_type": "code",
   "execution_count": null,
   "metadata": {},
   "outputs": [],
   "source": []
  },
  {
   "cell_type": "code",
   "execution_count": null,
   "metadata": {},
   "outputs": [],
   "source": []
  },
  {
   "cell_type": "code",
   "execution_count": null,
   "metadata": {},
   "outputs": [],
   "source": []
  },
  {
   "cell_type": "code",
   "execution_count": null,
   "metadata": {},
   "outputs": [],
   "source": []
  }
 ],
 "metadata": {
  "kernelspec": {
   "display_name": "Python 3",
   "language": "python",
   "name": "python3"
  },
  "language_info": {
   "codemirror_mode": {
    "name": "ipython",
    "version": 3
   },
   "file_extension": ".py",
   "mimetype": "text/x-python",
   "name": "python",
   "nbconvert_exporter": "python",
   "pygments_lexer": "ipython3",
   "version": "3.7.6"
  }
 },
 "nbformat": 4,
 "nbformat_minor": 4
}
