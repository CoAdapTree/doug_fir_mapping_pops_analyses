{
 "cells": [
  {
   "cell_type": "markdown",
   "metadata": {},
   "source": [
    "This notebook best viewed here: https://nbviewer.jupyter.org"
   ]
  },
  {
   "cell_type": "markdown",
   "metadata": {},
   "source": [
    " "
   ]
  },
  {
   "cell_type": "markdown",
   "metadata": {},
   "source": [
    " "
   ]
  },
  {
   "cell_type": "markdown",
   "metadata": {},
   "source": [
    " "
   ]
  },
  {
   "cell_type": "markdown",
   "metadata": {},
   "source": [
    "This notebook is for the interior variety of Douglas fir GEA mapping pops\n",
    "\n",
    "#### Purpose\n",
    "• I've run the baypass commands across four servers,\n",
    "\n",
    "#### Notebook outline\n",
    "\n",
    "- __rsync files from servers__\n",
    "    - I execute the rsync commands to transfer files from the executing servers to our lab server\n",
    "- __check what needs to be done__\n",
    "    - given the number of gfiles and chains, make sure all of the commands have been executed/transferred\n",
    "- __gather all of the wanted resfiles and concat into single dataframes__\n",
    "    - gather the files with BF, label SNP IDs, and concat into single dataframe"
   ]
  },
  {
   "cell_type": "markdown",
   "metadata": {},
   "source": [
    " "
   ]
  },
  {
   "cell_type": "markdown",
   "metadata": {},
   "source": [
    " "
   ]
  },
  {
   "cell_type": "markdown",
   "metadata": {},
   "source": [
    " "
   ]
  },
  {
   "cell_type": "code",
   "execution_count": 1,
   "metadata": {},
   "outputs": [],
   "source": [
    "from pythonimports import *"
   ]
  },
  {
   "cell_type": "code",
   "execution_count": 2,
   "metadata": {},
   "outputs": [],
   "source": [
    "baydir = '/lu213/brandon.lind/projects/pool_seq/DF_datasets/DF_pooled_GEA/DF_pooled/snpsANDindels/interior_variety/03_maf-p05_RD-recalculated_FDI/baypass'\n",
    "cmddir = op.join(baydir, 'cmd_files')\n",
    "rundir = op.join(cmddir, 'run_01')\n",
    "gfile_dir = op.join(baydir, 'individual_gfiles')\n",
    "shdir = op.join(cmddir, 'shfiles')\n",
    "resdir = op.join(cmddir, 'results')"
   ]
  },
  {
   "cell_type": "markdown",
   "metadata": {},
   "source": [
    "# rsync files from servers"
   ]
  },
  {
   "cell_type": "code",
   "execution_count": 3,
   "metadata": {},
   "outputs": [
    {
     "name": "stdout",
     "output_type": "stream",
     "text": [
      "56 56\n"
     ]
    }
   ],
   "source": [
    "lview,dview = get_client()"
   ]
  },
  {
   "cell_type": "code",
   "execution_count": 4,
   "metadata": {},
   "outputs": [
    {
     "data": {
      "text/plain": [
       "['/lu213/brandon.lind/projects/pool_seq/DF_datasets/DF_pooled_GEA/DF_pooled/snpsANDindels/interior_variety/03_maf-p05_RD-recalculated_FDI/baypass/rsync_files/arc_arsync_cmds.txt',\n",
       " '/lu213/brandon.lind/projects/pool_seq/DF_datasets/DF_pooled_GEA/DF_pooled/snpsANDindels/interior_variety/03_maf-p05_RD-recalculated_FDI/baypass/rsync_files/beluga_rsync_cmds.txt',\n",
       " '/lu213/brandon.lind/projects/pool_seq/DF_datasets/DF_pooled_GEA/DF_pooled/snpsANDindels/interior_variety/03_maf-p05_RD-recalculated_FDI/baypass/rsync_files/beluga_rsync_cmds_remaining.txt',\n",
       " '/lu213/brandon.lind/projects/pool_seq/DF_datasets/DF_pooled_GEA/DF_pooled/snpsANDindels/interior_variety/03_maf-p05_RD-recalculated_FDI/baypass/rsync_files/cedar_rsync_cmds.txt',\n",
       " '/lu213/brandon.lind/projects/pool_seq/DF_datasets/DF_pooled_GEA/DF_pooled/snpsANDindels/interior_variety/03_maf-p05_RD-recalculated_FDI/baypass/rsync_files/graham_rsync_cmds.txt']"
      ]
     },
     "execution_count": 4,
     "metadata": {},
     "output_type": "execute_result"
    }
   ],
   "source": [
    "rsyncdir = op.join(baydir, 'rsync_files')\n",
    "fs(rsyncdir)"
   ]
  },
  {
   "cell_type": "code",
   "execution_count": 6,
   "metadata": {},
   "outputs": [],
   "source": [
    "def exe(cmd):\n",
    "    import os\n",
    "    os.system(cmd)"
   ]
  },
  {
   "cell_type": "code",
   "execution_count": 7,
   "metadata": {},
   "outputs": [],
   "source": [
    "def submit_cmds(cmds):\n",
    "    jobs = []\n",
    "    for cmd in nb(cmds):\n",
    "        jobs.append(lview.apply_async(exe, cmd))\n",
    "    watch_async(jobs)\n",
    "    \n",
    "    badcmds = []\n",
    "    for i,j in enumerate(jobs):\n",
    "        try:\n",
    "            x=j.r\n",
    "        except:\n",
    "            badcmds.append(i)\n",
    "    print('len(badcmds) = ', len(badcmds))\n",
    "    \n",
    "    return badcmds"
   ]
  },
  {
   "cell_type": "code",
   "execution_count": 8,
   "metadata": {},
   "outputs": [],
   "source": [
    "def check_realfiles(cmds):\n",
    "    realfiles = []\n",
    "    for d in [rundir, gfile_dir, shdir, resdir]:\n",
    "        realfiles.extend(fs(d, dirs=False))\n",
    "    \n",
    "    expfiles = []\n",
    "    for cmd in cmds:\n",
    "        expfiles.append(cmd.split()[-1])\n",
    "    \n",
    "    print('len(realfiles) = ', len(realfiles))\n",
    "    print('len(expfiles) =', len(expfiles))\n",
    "    \n",
    "    needed = list(set(expfiles) - set(realfiles))\n",
    "    \n",
    "    print('needed = ', len(needed))\n",
    "    \n",
    "    needed_cmds = []\n",
    "    for n in needed:\n",
    "        for cmd in cmds:\n",
    "            if n in cmd:\n",
    "                needed_cmds.append(cmd)\n",
    "    print('needed_cmds = ', len(needed_cmds))\n",
    "    return needed_cmds"
   ]
  },
  {
   "cell_type": "markdown",
   "metadata": {},
   "source": [
    "#### cedar cmds"
   ]
  },
  {
   "cell_type": "code",
   "execution_count": 8,
   "metadata": {},
   "outputs": [
    {
     "data": {
      "text/plain": [
       "15493"
      ]
     },
     "execution_count": 8,
     "metadata": {},
     "output_type": "execute_result"
    }
   ],
   "source": [
    "# first from cedar\n",
    "cmds = read('/lu213/brandon.lind/projects/pool_seq/DF_datasets/DF_pooled_GEA/DF_pooled/snpsANDindels/interior_variety/03_maf-p05_RD-recalculated_FDI/baypass/rsync_files/cedar_rsync_cmds.txt')\n",
    "len(cmds)"
   ]
  },
  {
   "cell_type": "code",
   "execution_count": 37,
   "metadata": {},
   "outputs": [
    {
     "name": "stdout",
     "output_type": "stream",
     "text": [
      "15493\n",
      "15493\n",
      "len(badcmds) =  0\n"
     ]
    }
   ],
   "source": [
    "badcmds = submit_cmds(cmds)"
   ]
  },
  {
   "cell_type": "code",
   "execution_count": 38,
   "metadata": {},
   "outputs": [
    {
     "name": "stdout",
     "output_type": "stream",
     "text": [
      "len(realfiles) =  15493\n",
      "len(expfiles) = 15493\n",
      "needed =  0\n",
      "needed_cmds =  0\n"
     ]
    },
    {
     "data": {
      "text/plain": [
       "[]"
      ]
     },
     "execution_count": 38,
     "metadata": {},
     "output_type": "execute_result"
    }
   ],
   "source": [
    "needed = check_realfiles(cmds)\n",
    "needed"
   ]
  },
  {
   "cell_type": "markdown",
   "metadata": {},
   "source": [
    "#### arc cmds"
   ]
  },
  {
   "cell_type": "code",
   "execution_count": 39,
   "metadata": {},
   "outputs": [
    {
     "data": {
      "text/plain": [
       "3629"
      ]
     },
     "execution_count": 39,
     "metadata": {},
     "output_type": "execute_result"
    }
   ],
   "source": [
    "cmds = read('/lu213/brandon.lind/projects/pool_seq/DF_datasets/DF_pooled_GEA/DF_pooled/snpsANDindels/interior_variety/03_maf-p05_RD-recalculated_FDI/baypass/rsync_files/arc_arsync_cmds.txt')\n",
    "len(cmds)"
   ]
  },
  {
   "cell_type": "code",
   "execution_count": 44,
   "metadata": {},
   "outputs": [
    {
     "name": "stdout",
     "output_type": "stream",
     "text": [
      "3629\n",
      "3629\n",
      "len(badcmds) =  0\n"
     ]
    }
   ],
   "source": [
    "badcmds = submit_cmds(cmds)"
   ]
  },
  {
   "cell_type": "code",
   "execution_count": 45,
   "metadata": {},
   "outputs": [
    {
     "name": "stdout",
     "output_type": "stream",
     "text": [
      "len(realfiles) =  16939\n",
      "len(expfiles) = 3629\n",
      "needed =  0\n",
      "needed_cmds =  0\n"
     ]
    },
    {
     "data": {
      "text/plain": [
       "[]"
      ]
     },
     "execution_count": 45,
     "metadata": {},
     "output_type": "execute_result"
    }
   ],
   "source": [
    "needed = check_realfiles(cmds)\n",
    "needed"
   ]
  },
  {
   "cell_type": "code",
   "execution_count": 46,
   "metadata": {},
   "outputs": [
    {
     "name": "stderr",
     "output_type": "stream",
     "text": [
      "0it [00:00, ?it/s]"
     ]
    },
    {
     "name": "stdout",
     "output_type": "stream",
     "text": [
      "0\n",
      "len(badcmds) =  0\n"
     ]
    },
    {
     "name": "stderr",
     "output_type": "stream",
     "text": [
      "\n"
     ]
    },
    {
     "data": {
      "text/plain": [
       "[]"
      ]
     },
     "execution_count": 46,
     "metadata": {},
     "output_type": "execute_result"
    }
   ],
   "source": [
    "submit_cmds(needed)"
   ]
  },
  {
   "cell_type": "code",
   "execution_count": null,
   "metadata": {},
   "outputs": [],
   "source": []
  },
  {
   "cell_type": "code",
   "execution_count": null,
   "metadata": {},
   "outputs": [],
   "source": []
  },
  {
   "cell_type": "markdown",
   "metadata": {},
   "source": [
    "#### beluga cmds"
   ]
  },
  {
   "cell_type": "code",
   "execution_count": 8,
   "metadata": {},
   "outputs": [],
   "source": [
    "belugacmds = read('/lu213/brandon.lind/projects/pool_seq/DF_datasets/DF_pooled_GEA/DF_pooled/snpsANDindels/interior_variety/03_maf-p05_RD-recalculated_FDI/baypass/rsync_files/beluga_rsync_cmds.txt')"
   ]
  },
  {
   "cell_type": "code",
   "execution_count": 11,
   "metadata": {},
   "outputs": [
    {
     "name": "stdout",
     "output_type": "stream",
     "text": [
      "8455\n",
      "8455\n",
      "len(badcmds) =  0\n"
     ]
    }
   ],
   "source": [
    "badbelugacmds = submit_cmds(belugacmds)"
   ]
  },
  {
   "cell_type": "code",
   "execution_count": 12,
   "metadata": {},
   "outputs": [
    {
     "name": "stdout",
     "output_type": "stream",
     "text": [
      "len(realfiles) =  22965\n",
      "len(expfiles) = 8455\n",
      "needed =  0\n",
      "needed_cmds =  0\n"
     ]
    }
   ],
   "source": [
    "needed = check_realfiles(belugacmds)"
   ]
  },
  {
   "cell_type": "code",
   "execution_count": 13,
   "metadata": {},
   "outputs": [
    {
     "name": "stderr",
     "output_type": "stream",
     "text": [
      "0it [00:00, ?it/s]"
     ]
    },
    {
     "name": "stdout",
     "output_type": "stream",
     "text": [
      "0\n",
      "len(badcmds) =  0\n"
     ]
    },
    {
     "name": "stderr",
     "output_type": "stream",
     "text": [
      "\n"
     ]
    },
    {
     "data": {
      "text/plain": [
       "[]"
      ]
     },
     "execution_count": 13,
     "metadata": {},
     "output_type": "execute_result"
    }
   ],
   "source": [
    "submit_cmds(needed)"
   ]
  },
  {
   "cell_type": "code",
   "execution_count": 9,
   "metadata": {},
   "outputs": [
    {
     "name": "stdout",
     "output_type": "stream",
     "text": [
      "26\n",
      "26\n",
      "len(badcmds) =  0\n"
     ]
    }
   ],
   "source": [
    "# rem cmds\n",
    "belugacmds = read(op.join(rsyncdir, 'beluga_rsync_cmds_remaining.txt'))\n",
    "badcmds = submit_cmds(belugacmds)"
   ]
  },
  {
   "cell_type": "code",
   "execution_count": 10,
   "metadata": {},
   "outputs": [
    {
     "name": "stdout",
     "output_type": "stream",
     "text": [
      "len(realfiles) =  28516\n",
      "len(expfiles) = 26\n",
      "needed =  0\n",
      "needed_cmds =  0\n"
     ]
    }
   ],
   "source": [
    "needed = check_realfiles(belugacmds)"
   ]
  },
  {
   "cell_type": "code",
   "execution_count": null,
   "metadata": {},
   "outputs": [],
   "source": []
  },
  {
   "cell_type": "markdown",
   "metadata": {},
   "source": [
    "#### graham cmds"
   ]
  },
  {
   "cell_type": "code",
   "execution_count": 14,
   "metadata": {},
   "outputs": [],
   "source": [
    "gcmds = read('/lu213/brandon.lind/projects/pool_seq/DF_datasets/DF_pooled_GEA/DF_pooled/snpsANDindels/interior_variety/03_maf-p05_RD-recalculated_FDI/baypass/rsync_files/graham_rsync_cmds.txt')"
   ]
  },
  {
   "cell_type": "code",
   "execution_count": 15,
   "metadata": {},
   "outputs": [
    {
     "name": "stdout",
     "output_type": "stream",
     "text": [
      "7122\n",
      "7122\n",
      "len(badcmds) =  0\n"
     ]
    }
   ],
   "source": [
    "badgcmds = submit_cmds(gcmds)"
   ]
  },
  {
   "cell_type": "code",
   "execution_count": 16,
   "metadata": {},
   "outputs": [
    {
     "name": "stdout",
     "output_type": "stream",
     "text": [
      "len(realfiles) =  27902\n",
      "len(expfiles) = 7122\n",
      "needed =  1\n",
      "needed_cmds =  1\n"
     ]
    }
   ],
   "source": [
    "needed = check_realfiles(gcmds)"
   ]
  },
  {
   "cell_type": "code",
   "execution_count": 17,
   "metadata": {},
   "outputs": [
    {
     "name": "stdout",
     "output_type": "stream",
     "text": [
      "1\n",
      "1\n",
      "len(badcmds) =  0\n"
     ]
    },
    {
     "data": {
      "text/plain": [
       "[]"
      ]
     },
     "execution_count": 17,
     "metadata": {},
     "output_type": "execute_result"
    }
   ],
   "source": [
    "submit_cmds(needed)"
   ]
  },
  {
   "cell_type": "code",
   "execution_count": null,
   "metadata": {},
   "outputs": [],
   "source": []
  },
  {
   "cell_type": "markdown",
   "metadata": {},
   "source": [
    "# check what needs to be done\n",
    "given the number of gfiles and chains, make sure all of the commands have been executed/transferred"
   ]
  },
  {
   "cell_type": "markdown",
   "metadata": {},
   "source": [
    "#### first check to make sure every sh file was exececuted (ie, check that each has a slurm .out file)"
   ]
  },
  {
   "cell_type": "code",
   "execution_count": 11,
   "metadata": {},
   "outputs": [
    {
     "data": {
      "text/plain": [
       "(109, 110)"
      ]
     },
     "execution_count": 11,
     "metadata": {},
     "output_type": "execute_result"
    }
   ],
   "source": [
    "# the the shfiles and out files\n",
    "shfiles = fs(shdir, endswith='.sh')\n",
    "outs = fs(shdir, endswith='.out')\n",
    "len(shfiles), len(outs)"
   ]
  },
  {
   "cell_type": "code",
   "execution_count": 12,
   "metadata": {},
   "outputs": [
    {
     "name": "stdout",
     "output_type": "stream",
     "text": [
      "/lu213/brandon.lind/projects/pool_seq/DF_datasets/DF_pooled_GEA/DF_pooled/snpsANDindels/interior_variety/03_maf-p05_RD-recalculated_FDI/baypass/cmd_files/shfiles/batch_0096.sh 2\n"
     ]
    }
   ],
   "source": [
    "# figure out why there are more outs than shfiles (I prob accidentally ran a job >1x)\n",
    "pairs = {}\n",
    "for sh in shfiles:\n",
    "    pairs[sh] = []\n",
    "    for out in outs:\n",
    "        if op.basename(sh).replace('.sh', '') in out:\n",
    "            pairs[sh].append(out)\n",
    "for sh,outfiles in pairs.items():\n",
    "    if len(outfiles) != 1:\n",
    "        print(sh, len(outfiles))"
   ]
  },
  {
   "cell_type": "code",
   "execution_count": 13,
   "metadata": {},
   "outputs": [
    {
     "data": {
      "text/plain": [
       "['/lu213/brandon.lind/projects/pool_seq/DF_datasets/DF_pooled_GEA/DF_pooled/snpsANDindels/interior_variety/03_maf-p05_RD-recalculated_FDI/baypass/cmd_files/shfiles/batch_0096_41726992.out',\n",
       " '/lu213/brandon.lind/projects/pool_seq/DF_datasets/DF_pooled_GEA/DF_pooled/snpsANDindels/interior_variety/03_maf-p05_RD-recalculated_FDI/baypass/cmd_files/shfiles/batch_0096_7474810.out']"
      ]
     },
     "execution_count": 13,
     "metadata": {},
     "output_type": "execute_result"
    }
   ],
   "source": [
    "# yep, executed one more than once, each on a different server (see SLURM_JOB_ID at end of .out file)\n",
    "pairs['/lu213/brandon.lind/projects/pool_seq/DF_datasets/DF_pooled_GEA/DF_pooled/snpsANDindels/interior_variety/03_maf-p05_RD-recalculated_FDI/baypass/cmd_files/shfiles/batch_0096.sh']"
   ]
  },
  {
   "cell_type": "markdown",
   "metadata": {},
   "source": [
    "#### go through catfiles and make sure all of the commands inside were run\n",
    "\n",
    "I expect at least one command to have not been executed, and several to have failed on graham"
   ]
  },
  {
   "cell_type": "code",
   "execution_count": 14,
   "metadata": {},
   "outputs": [
    {
     "data": {
      "text/plain": [
       "'/lu213/brandon.lind/projects/pool_seq/DF_datasets/DF_pooled_GEA/DF_pooled/snpsANDindels/interior_variety/03_maf-p05_RD-recalculated_FDI/baypass/cmd_files/results'"
      ]
     },
     "execution_count": 14,
     "metadata": {},
     "output_type": "execute_result"
    }
   ],
   "source": [
    "resdir"
   ]
  },
  {
   "cell_type": "code",
   "execution_count": 15,
   "metadata": {},
   "outputs": [
    {
     "data": {
      "text/plain": [
       "5220"
      ]
     },
     "execution_count": 15,
     "metadata": {},
     "output_type": "execute_result"
    }
   ],
   "source": [
    "# get one of the files for each of the commands that executed successfully (count the succesful cmds)\n",
    "resfiles = fs(resdir, endswith='DIC.out')\n",
    "len(resfiles)"
   ]
  },
  {
   "cell_type": "code",
   "execution_count": 16,
   "metadata": {},
   "outputs": [
    {
     "data": {
      "text/plain": [
       "109"
      ]
     },
     "execution_count": 16,
     "metadata": {},
     "output_type": "execute_result"
    }
   ],
   "source": [
    "# get the files with the baypass commands - this matches number of sh files (good)\n",
    "catfiles = fs(rundir, pattern='catfile')\n",
    "len(catfiles)"
   ]
  },
  {
   "cell_type": "code",
   "execution_count": 17,
   "metadata": {},
   "outputs": [
    {
     "name": "stderr",
     "output_type": "stream",
     "text": [
      "100%|██████████| 109/109 [00:19<00:00,  5.64it/s]\n"
     ]
    },
    {
     "data": {
      "text/plain": [
       "'interior_all_snps_ADP-lt-1000_gfile_0977_chain_5'"
      ]
     },
     "execution_count": 17,
     "metadata": {},
     "output_type": "execute_result"
    }
   ],
   "source": [
    "# iterate through catfile commands and make sure there's a result for each\n",
    "found = {}  # map prefix to output file\n",
    "exe = {}  # map prefix to command used\n",
    "found_gfiles = []\n",
    "needed_cmds = []\n",
    "for cat in nb(catfiles):\n",
    "    # get the commands\n",
    "    cmds = read(cat)\n",
    "    \n",
    "    # assign prefixes (= num cmds) to their output\n",
    "    for cmd in cmds:\n",
    "        prefix = cmd.split(\"-outprefix\")[1].split()[0]\n",
    "        gfile = prefix.split(\"_chain\")[0]\n",
    "        found_gfiles.append(gfile)\n",
    "        assert prefix not in found\n",
    "        exe[prefix] = cmd\n",
    "        found[prefix] = []\n",
    "        for res in resfiles:\n",
    "            if prefix in op.basename(res):\n",
    "                found[prefix].append(res)\n",
    "prefix"
   ]
  },
  {
   "cell_type": "code",
   "execution_count": 18,
   "metadata": {},
   "outputs": [
    {
     "data": {
      "text/plain": [
       "(5220, 1044)"
      ]
     },
     "execution_count": 18,
     "metadata": {},
     "output_type": "execute_result"
    }
   ],
   "source": [
    "len(found_gfiles),luni(found_gfiles)"
   ]
  },
  {
   "cell_type": "code",
   "execution_count": 19,
   "metadata": {},
   "outputs": [
    {
     "data": {
      "text/plain": [
       "0"
      ]
     },
     "execution_count": 19,
     "metadata": {},
     "output_type": "execute_result"
    }
   ],
   "source": [
    "# figure out which prefixes have zero output (and need to be reran) or cmds with >1 output (impossible...)\n",
    "needed_cmds = []\n",
    "for prefix,reslist in found.items():\n",
    "    if len(reslist) == 0:\n",
    "        needed_cmds.append(exe[prefix])  # get the cmd that needs to be executed\n",
    "    elif len(reslist) > 1:\n",
    "        print('\\n', prefix, len(reslist))  # this shouldn't be possible, check anyway, print if so\n",
    "len(needed_cmds)  # came back and counted after submitting 32 jobs below"
   ]
  },
  {
   "cell_type": "code",
   "execution_count": 20,
   "metadata": {},
   "outputs": [
    {
     "data": {
      "text/plain": [
       "32"
      ]
     },
     "execution_count": 20,
     "metadata": {},
     "output_type": "execute_result"
    }
   ],
   "source": [
    "# figure out which prefixes have zero output (and need to be reran) or cmds with >1 output (impossible...)\n",
    "needed_cmds = []\n",
    "for prefix,reslist in found.items():\n",
    "    if len(reslist) == 0:\n",
    "        needed_cmds.append(exe[prefix])  # get the cmd that needs to be executed\n",
    "    elif len(reslist) > 1:\n",
    "        print('\\n', prefix, len(reslist))  # this shouldn't be possible, check anyway, print if so\n",
    "len(needed_cmds)"
   ]
  },
  {
   "cell_type": "code",
   "execution_count": 7,
   "metadata": {},
   "outputs": [
    {
     "data": {
      "text/plain": [
       "'i_baypass -gfile /project/def-saitken/interior/baypass/individual_gfiles/interior_all_snps_ADP-lt-1000_gfile_0670_noheaderidx.txt -efile /project/def-saitken/interior/baypass/interior_efile_std_noheaderidx.txt -omegafile /project/def-saitken/interior/baypass/interior_neutral_average_omegafile_noheaderidx.txt -poolsizefile /project/def-saitken/interior/baypass/interior_poolsizefile_noheaderidx.txt -outprefix interior_all_snps_ADP-lt-1000_gfile_0670_chain_3 -d0yij 8 -seed 98704 -pilotlength 1000 -nval 50000 -npilot 40 '"
      ]
     },
     "execution_count": 7,
     "metadata": {},
     "output_type": "execute_result"
    }
   ],
   "source": [
    "needed_cmds[0]"
   ]
  },
  {
   "cell_type": "code",
   "execution_count": 33,
   "metadata": {},
   "outputs": [
    {
     "name": "stderr",
     "output_type": "stream",
     "text": [
      "100%|██████████| 32/32 [00:00<00:00, 24174.66it/s]\n"
     ]
    }
   ],
   "source": [
    "# change the commands to work on yeaman03 server\n",
    "for i,cmd in enumerate(nb(needed_cmds)):\n",
    "    # replace some text\n",
    "    cmd = cmd.replace(\"i_baypass\", \"g_baypass\")\n",
    "    assert '/project/def-saitken/interior/baypass/interior' in cmd\n",
    "    cmd = cmd.replace('/project/def-saitken/interior/baypass', baydir)\n",
    "    \n",
    "    # make sure all of the files exist\n",
    "    for x in cmd.split():\n",
    "        if x.endswith('.txt'):\n",
    "            assert op.exists(x)\n",
    "    \n",
    "    needed_cmds[i] = cmd"
   ]
  },
  {
   "cell_type": "code",
   "execution_count": 134,
   "metadata": {},
   "outputs": [
    {
     "name": "stdout",
     "output_type": "stream",
     "text": [
      "/lu213/brandon.lind/projects/pool_seq/DF_datasets/DF_pooled_GEA/DF_pooled/snpsANDindels/interior_variety/03_maf-p05_RD-recalculated_FDI/baypass/individual_gfiles/interior_all_snps_ADP-lt-1000_gfile_0670_noheaderidx.txt\n",
      "\n",
      "/lu213/brandon.lind/projects/pool_seq/DF_datasets/DF_pooled_GEA/DF_pooled/snpsANDindels/interior_variety/03_maf-p05_RD-recalculated_FDI/baypass/interior_efile_std_noheaderidx.txt\n",
      "\n",
      "/lu213/brandon.lind/projects/pool_seq/DF_datasets/DF_pooled_GEA/DF_pooled/snpsANDindels/interior_variety/03_maf-p05_RD-recalculated_FDI/baypass/interior_neutral_average_omegafile_noheaderidx.txt\n",
      "\n",
      "/lu213/brandon.lind/projects/pool_seq/DF_datasets/DF_pooled_GEA/DF_pooled/snpsANDindels/interior_variety/03_maf-p05_RD-recalculated_FDI/baypass/interior_poolsizefile_noheaderidx.txt\n"
     ]
    }
   ],
   "source": [
    "# double check all files end with .txt\n",
    "print('\\n\\n'.join([x for x in needed_cmds[0].split() if x.startswith('/')]))"
   ]
  },
  {
   "cell_type": "code",
   "execution_count": 43,
   "metadata": {},
   "outputs": [],
   "source": [
    "# write a file of cmds to execute on yeaman03\n",
    "catfile = op.join(cmddir, 'rem_cmds_catfile.txt')\n",
    "with open(catfile, 'w') as o:\n",
    "    o.write(\"%s\" % '\\n'.join(needed_cmds))"
   ]
  },
  {
   "cell_type": "code",
   "execution_count": 44,
   "metadata": {},
   "outputs": [
    {
     "data": {
      "text/plain": [
       "'/lu213/brandon.lind/projects/pool_seq/DF_datasets/DF_pooled_GEA/DF_pooled/snpsANDindels/interior_variety/03_maf-p05_RD-recalculated_FDI/baypass/cmd_files'"
      ]
     },
     "execution_count": 44,
     "metadata": {},
     "output_type": "execute_result"
    }
   ],
   "source": [
    "cmddir"
   ]
  },
  {
   "cell_type": "code",
   "execution_count": 208,
   "metadata": {
    "collapsed": true
   },
   "outputs": [
    {
     "name": "stdout",
     "output_type": "stream",
     "text": [
      "interior_all_snps_ADP-lt-1000_gfile_0670_noheaderidx.txt\n",
      "interior_all_snps_ADP-lt-1000_gfile_0672_noheaderidx.txt\n",
      "interior_all_snps_ADP-lt-1000_gfile_0672_noheaderidx.txt\n",
      "interior_all_snps_ADP-lt-1000_gfile_0673_noheaderidx.txt\n",
      "interior_all_snps_ADP-lt-1000_gfile_0673_noheaderidx.txt\n",
      "interior_all_snps_ADP-lt-1000_gfile_0682_noheaderidx.txt\n",
      "interior_all_snps_ADP-lt-1000_gfile_0682_noheaderidx.txt\n",
      "interior_all_snps_ADP-lt-1000_gfile_0682_noheaderidx.txt\n",
      "interior_all_snps_ADP-lt-1000_gfile_0682_noheaderidx.txt\n",
      "interior_all_snps_ADP-lt-1000_gfile_0682_noheaderidx.txt\n",
      "interior_all_snps_ADP-lt-1000_gfile_0735_noheaderidx.txt\n",
      "interior_all_snps_ADP-lt-1000_gfile_0735_noheaderidx.txt\n",
      "interior_all_snps_ADP-lt-1000_gfile_0735_noheaderidx.txt\n",
      "interior_all_snps_ADP-lt-1000_gfile_0735_noheaderidx.txt\n",
      "interior_all_snps_ADP-lt-1000_gfile_0735_noheaderidx.txt\n",
      "interior_all_snps_ADP-lt-1000_gfile_0736_noheaderidx.txt\n",
      "interior_all_snps_ADP-lt-1000_gfile_0774_noheaderidx.txt\n",
      "interior_all_snps_ADP-lt-1000_gfile_0774_noheaderidx.txt\n",
      "interior_all_snps_ADP-lt-1000_gfile_0803_noheaderidx.txt\n",
      "interior_all_snps_ADP-lt-1000_gfile_0812_noheaderidx.txt\n",
      "interior_all_snps_ADP-lt-1000_gfile_0812_noheaderidx.txt\n",
      "interior_all_snps_ADP-lt-1000_gfile_0830_noheaderidx.txt\n",
      "interior_all_snps_ADP-lt-1000_gfile_0830_noheaderidx.txt\n",
      "interior_all_snps_ADP-lt-1000_gfile_0832_noheaderidx.txt\n",
      "interior_all_snps_ADP-lt-1000_gfile_0832_noheaderidx.txt\n",
      "interior_all_snps_ADP-lt-1000_gfile_0832_noheaderidx.txt\n",
      "interior_all_snps_ADP-lt-1000_gfile_0832_noheaderidx.txt\n",
      "interior_all_snps_ADP-lt-1000_gfile_0832_noheaderidx.txt\n",
      "interior_all_snps_ADP-lt-1000_gfile_0842_noheaderidx.txt\n",
      "interior_all_snps_ADP-lt-1000_gfile_0849_noheaderidx.txt\n",
      "interior_all_snps_ADP-lt-1000_gfile_0849_noheaderidx.txt\n",
      "interior_all_snps_ADP-lt-1000_gfile_0914_noheaderidx.txt\n"
     ]
    },
    {
     "data": {
      "text/plain": [
       "32"
      ]
     },
     "execution_count": 208,
     "metadata": {},
     "output_type": "execute_result"
    }
   ],
   "source": [
    "neededfiles = []\n",
    "for cmd in needed_cmds:\n",
    "    file = cmd.split(\"-gfile\")[1].split()[0]\n",
    "    print(op.basename(file))\n",
    "    neededfiles.append(file)\n",
    "len(neededfiles)"
   ]
  },
  {
   "cell_type": "code",
   "execution_count": 8,
   "metadata": {},
   "outputs": [
    {
     "data": {
      "text/plain": [
       "'g_baypass -gfile /lu213/brandon.lind/projects/pool_seq/DF_datasets/DF_pooled_GEA/DF_pooled/snpsANDindels/interior_variety/03_maf-p05_RD-recalculated_FDI/baypass/individual_gfiles/interior_all_snps_ADP-lt-1000_gfile_0670_noheaderidx.txt -efile /lu213/brandon.lind/projects/pool_seq/DF_datasets/DF_pooled_GEA/DF_pooled/snpsANDindels/interior_variety/03_maf-p05_RD-recalculated_FDI/baypass/interior_efile_std_noheaderidx.txt -omegafile /lu213/brandon.lind/projects/pool_seq/DF_datasets/DF_pooled_GEA/DF_pooled/snpsANDindels/interior_variety/03_maf-p05_RD-recalculated_FDI/baypass/interior_neutral_average_omegafile_noheaderidx.txt -poolsizefile /lu213/brandon.lind/projects/pool_seq/DF_datasets/DF_pooled_GEA/DF_pooled/snpsANDindels/interior_variety/03_maf-p05_RD-recalculated_FDI/baypass/interior_poolsizefile_noheaderidx.txt -outprefix interior_all_snps_ADP-lt-1000_gfile_0670_chain_3 -d0yij 8 -seed 98704 -pilotlength 1000 -nval 50000 -npilot 40 '"
      ]
     },
     "execution_count": 8,
     "metadata": {},
     "output_type": "execute_result"
    }
   ],
   "source": [
    "catfile = op.join(cmddir, 'rem_cmds_catfile.txt')\n",
    "text = read(catfile)\n",
    "text[0]"
   ]
  },
  {
   "cell_type": "code",
   "execution_count": null,
   "metadata": {},
   "outputs": [],
   "source": []
  },
  {
   "cell_type": "code",
   "execution_count": null,
   "metadata": {},
   "outputs": [],
   "source": []
  },
  {
   "cell_type": "code",
   "execution_count": null,
   "metadata": {},
   "outputs": [],
   "source": []
  },
  {
   "cell_type": "code",
   "execution_count": null,
   "metadata": {},
   "outputs": [],
   "source": []
  },
  {
   "cell_type": "code",
   "execution_count": null,
   "metadata": {},
   "outputs": [],
   "source": []
  },
  {
   "cell_type": "code",
   "execution_count": null,
   "metadata": {},
   "outputs": [],
   "source": []
  },
  {
   "cell_type": "code",
   "execution_count": null,
   "metadata": {},
   "outputs": [],
   "source": []
  },
  {
   "cell_type": "markdown",
   "metadata": {},
   "source": [
    " "
   ]
  },
  {
   "cell_type": "markdown",
   "metadata": {},
   "source": [
    " "
   ]
  },
  {
   "cell_type": "markdown",
   "metadata": {},
   "source": [
    "# gather all of the wanted resfiles and concat into single dataframes\n",
    "\n",
    "gather the files with BF, label SNP IDs, label environmental covariables, and concat into single dataframe"
   ]
  },
  {
   "cell_type": "code",
   "execution_count": 20,
   "metadata": {},
   "outputs": [
    {
     "name": "stdout",
     "output_type": "stream",
     "text": [
      "56 56\n"
     ]
    }
   ],
   "source": [
    "lview,dview = get_client()"
   ]
  },
  {
   "cell_type": "code",
   "execution_count": 21,
   "metadata": {
    "scrolled": true
   },
   "outputs": [
    {
     "data": {
      "text/plain": [
       "(5220, 5220)"
      ]
     },
     "execution_count": 21,
     "metadata": {},
     "output_type": "execute_result"
    }
   ],
   "source": [
    "bffiles = fs(resdir, endswith='betai_reg.out')\n",
    "xtxfiles = fs(resdir, endswith='pi_xtx.out')\n",
    "len(bffiles), len(xtxfiles)"
   ]
  },
  {
   "cell_type": "code",
   "execution_count": 22,
   "metadata": {},
   "outputs": [
    {
     "data": {
      "text/html": [
       "<div>\n",
       "<style scoped>\n",
       "    .dataframe tbody tr th:only-of-type {\n",
       "        vertical-align: middle;\n",
       "    }\n",
       "\n",
       "    .dataframe tbody tr th {\n",
       "        vertical-align: top;\n",
       "    }\n",
       "\n",
       "    .dataframe thead th {\n",
       "        text-align: right;\n",
       "    }\n",
       "</style>\n",
       "<table border=\"1\" class=\"dataframe\">\n",
       "  <thead>\n",
       "    <tr style=\"text-align: right;\">\n",
       "      <th></th>\n",
       "      <th>COVARIABLE</th>\n",
       "      <th>MRK</th>\n",
       "      <th>M_Pearson</th>\n",
       "      <th>SD_Pearson</th>\n",
       "      <th>BF(dB)</th>\n",
       "      <th>Beta_is</th>\n",
       "      <th>SD_Beta_is</th>\n",
       "      <th>eBPis</th>\n",
       "    </tr>\n",
       "  </thead>\n",
       "  <tbody>\n",
       "    <tr>\n",
       "      <th>0</th>\n",
       "      <td>1</td>\n",
       "      <td>1</td>\n",
       "      <td>-0.063003</td>\n",
       "      <td>0.149073</td>\n",
       "      <td>-10.226517</td>\n",
       "      <td>-0.002679</td>\n",
       "      <td>0.007614</td>\n",
       "      <td>0.139720</td>\n",
       "    </tr>\n",
       "    <tr>\n",
       "      <th>1</th>\n",
       "      <td>1</td>\n",
       "      <td>2</td>\n",
       "      <td>0.013383</td>\n",
       "      <td>0.152160</td>\n",
       "      <td>-12.653082</td>\n",
       "      <td>0.000592</td>\n",
       "      <td>0.005773</td>\n",
       "      <td>0.037003</td>\n",
       "    </tr>\n",
       "    <tr>\n",
       "      <th>2</th>\n",
       "      <td>1</td>\n",
       "      <td>3</td>\n",
       "      <td>0.026909</td>\n",
       "      <td>0.152118</td>\n",
       "      <td>-11.438698</td>\n",
       "      <td>0.001851</td>\n",
       "      <td>0.008789</td>\n",
       "      <td>0.079237</td>\n",
       "    </tr>\n",
       "    <tr>\n",
       "      <th>3</th>\n",
       "      <td>1</td>\n",
       "      <td>4</td>\n",
       "      <td>-0.096491</td>\n",
       "      <td>0.168093</td>\n",
       "      <td>0.639129</td>\n",
       "      <td>-0.011898</td>\n",
       "      <td>0.021544</td>\n",
       "      <td>0.235997</td>\n",
       "    </tr>\n",
       "    <tr>\n",
       "      <th>4</th>\n",
       "      <td>1</td>\n",
       "      <td>5</td>\n",
       "      <td>-0.092128</td>\n",
       "      <td>0.149615</td>\n",
       "      <td>-7.672383</td>\n",
       "      <td>-0.004643</td>\n",
       "      <td>0.008691</td>\n",
       "      <td>0.226841</td>\n",
       "    </tr>\n",
       "  </tbody>\n",
       "</table>\n",
       "</div>"
      ],
      "text/plain": [
       "   COVARIABLE  MRK  M_Pearson  SD_Pearson     BF(dB)   Beta_is  SD_Beta_is  \\\n",
       "0           1    1  -0.063003    0.149073 -10.226517 -0.002679    0.007614   \n",
       "1           1    2   0.013383    0.152160 -12.653082  0.000592    0.005773   \n",
       "2           1    3   0.026909    0.152118 -11.438698  0.001851    0.008789   \n",
       "3           1    4  -0.096491    0.168093   0.639129 -0.011898    0.021544   \n",
       "4           1    5  -0.092128    0.149615  -7.672383 -0.004643    0.008691   \n",
       "\n",
       "      eBPis  \n",
       "0  0.139720  \n",
       "1  0.037003  \n",
       "2  0.079237  \n",
       "3  0.235997  \n",
       "4  0.226841  "
      ]
     },
     "execution_count": 22,
     "metadata": {},
     "output_type": "execute_result"
    }
   ],
   "source": [
    "bf = pd.read_table(bffiles[0], delim_whitespace=True)\n",
    "bf.head()"
   ]
  },
  {
   "cell_type": "code",
   "execution_count": 23,
   "metadata": {},
   "outputs": [
    {
     "data": {
      "text/html": [
       "<div>\n",
       "<style scoped>\n",
       "    .dataframe tbody tr th:only-of-type {\n",
       "        vertical-align: middle;\n",
       "    }\n",
       "\n",
       "    .dataframe tbody tr th {\n",
       "        vertical-align: top;\n",
       "    }\n",
       "\n",
       "    .dataframe thead th {\n",
       "        text-align: right;\n",
       "    }\n",
       "</style>\n",
       "<table border=\"1\" class=\"dataframe\">\n",
       "  <thead>\n",
       "    <tr style=\"text-align: right;\">\n",
       "      <th></th>\n",
       "      <th>MRK</th>\n",
       "      <th>M_P</th>\n",
       "      <th>SD_P</th>\n",
       "      <th>M_XtX</th>\n",
       "      <th>SD_XtX</th>\n",
       "      <th>XtXst</th>\n",
       "      <th>log10(1/pval)</th>\n",
       "    </tr>\n",
       "  </thead>\n",
       "  <tbody>\n",
       "    <tr>\n",
       "      <th>0</th>\n",
       "      <td>1</td>\n",
       "      <td>0.980058</td>\n",
       "      <td>0.044678</td>\n",
       "      <td>40.953638</td>\n",
       "      <td>8.853538</td>\n",
       "      <td>12.754650</td>\n",
       "      <td>0.000002</td>\n",
       "    </tr>\n",
       "    <tr>\n",
       "      <th>1</th>\n",
       "      <td>2</td>\n",
       "      <td>0.990812</td>\n",
       "      <td>0.028951</td>\n",
       "      <td>40.689339</td>\n",
       "      <td>9.046996</td>\n",
       "      <td>8.592176</td>\n",
       "      <td>0.000000</td>\n",
       "    </tr>\n",
       "    <tr>\n",
       "      <th>2</th>\n",
       "      <td>3</td>\n",
       "      <td>0.981134</td>\n",
       "      <td>0.035385</td>\n",
       "      <td>41.124775</td>\n",
       "      <td>9.118520</td>\n",
       "      <td>12.440687</td>\n",
       "      <td>0.000001</td>\n",
       "    </tr>\n",
       "    <tr>\n",
       "      <th>3</th>\n",
       "      <td>4</td>\n",
       "      <td>0.953051</td>\n",
       "      <td>0.074715</td>\n",
       "      <td>43.055256</td>\n",
       "      <td>9.447901</td>\n",
       "      <td>25.381439</td>\n",
       "      <td>0.008770</td>\n",
       "    </tr>\n",
       "    <tr>\n",
       "      <th>4</th>\n",
       "      <td>5</td>\n",
       "      <td>0.978309</td>\n",
       "      <td>0.049286</td>\n",
       "      <td>41.254539</td>\n",
       "      <td>8.965934</td>\n",
       "      <td>17.528268</td>\n",
       "      <td>0.000136</td>\n",
       "    </tr>\n",
       "  </tbody>\n",
       "</table>\n",
       "</div>"
      ],
      "text/plain": [
       "   MRK       M_P      SD_P      M_XtX    SD_XtX      XtXst  log10(1/pval)\n",
       "0    1  0.980058  0.044678  40.953638  8.853538  12.754650       0.000002\n",
       "1    2  0.990812  0.028951  40.689339  9.046996   8.592176       0.000000\n",
       "2    3  0.981134  0.035385  41.124775  9.118520  12.440687       0.000001\n",
       "3    4  0.953051  0.074715  43.055256  9.447901  25.381439       0.008770\n",
       "4    5  0.978309  0.049286  41.254539  8.965934  17.528268       0.000136"
      ]
     },
     "execution_count": 23,
     "metadata": {},
     "output_type": "execute_result"
    }
   ],
   "source": [
    "xtx = pd.read_table(xtxfiles[0], delim_whitespace=True)\n",
    "xtx.head()"
   ]
  },
  {
   "cell_type": "code",
   "execution_count": 24,
   "metadata": {},
   "outputs": [
    {
     "data": {
      "text/plain": [
       "'interior_all_snps_ADP-lt-1000_gfile_0000_chain_1_summary_betai_reg.out'"
      ]
     },
     "execution_count": 24,
     "metadata": {},
     "output_type": "execute_result"
    }
   ],
   "source": [
    "op.basename(bffiles[0])"
   ]
  },
  {
   "cell_type": "code",
   "execution_count": 25,
   "metadata": {},
   "outputs": [],
   "source": [
    "def label_snps(resfile):\n",
    "    import os\n",
    "    import pandas\n",
    "    # find the gfile associated with resfile\n",
    "    prefix = os.path.basename(resfile).split(\"_chain\")[0]\n",
    "    chain = \"chain_%s\" % os.path.basename(resfile).split(prefix)[1].split(\"_\")[2]\n",
    "    gfile = os.path.join(gfile_dir, f'{prefix}_HEADERIDX.txt')\n",
    "    gdf = pandas.read_table(gfile, index_col=0, usecols=[0,1])  # read in rows with SNPIDs, but only one column\n",
    "    \n",
    "    # read in the resfile\n",
    "    df = pandas.read_table(resfile, delim_whitespace=True)\n",
    "    \n",
    "    # map MRK column to locus name\n",
    "    gdict = dict((num+1, locus) for num,locus in enumerate(gdf.index))\n",
    "    \n",
    "    # map covariable column to environment ID\n",
    "    edict = dict((num+1, env) for num,env in enumerate(efile.index))\n",
    "    \n",
    "    # split each covariable (env) in to its own file\n",
    "    df['env'] = df['COVARIABLE'].map(edict)\n",
    "    envdfs = {chain:{}}\n",
    "    for env in uni(df['env']):\n",
    "        envdfs[chain][env] = df[df['env']==env].copy()\n",
    "        envdfs[chain][env].index = gdf.index.tolist()\n",
    "\n",
    "    return envdfs\n",
    "efile = pd.read_table(op.join(baydir, 'interior_efile_std_HEADERIDX.txt'), index_col=0, usecols=[0,1])\n",
    "dview['efile'] = efile\n",
    "dview['uni'] = uni\n",
    "dview['gfile_dir'] = gfile_dir"
   ]
  },
  {
   "cell_type": "code",
   "execution_count": 26,
   "metadata": {},
   "outputs": [
    {
     "name": "stdout",
     "output_type": "stream",
     "text": [
      "5220\n",
      "5220\n"
     ]
    }
   ],
   "source": [
    "jobs = []\n",
    "for bffile in nb(bffiles):\n",
    "    jobs.append(lview.apply_async(label_snps, bffile))\n",
    "watch_async(jobs, sleep=5)"
   ]
  },
  {
   "cell_type": "code",
   "execution_count": 27,
   "metadata": {},
   "outputs": [
    {
     "name": "stderr",
     "output_type": "stream",
     "text": [
      "100%|██████████| 5220/5220 [00:00<00:00, 20544.26it/s]\n"
     ]
    },
    {
     "data": {
      "text/plain": [
       "['chain_1', 'chain_2', 'chain_3', 'chain_4', 'chain_5']"
      ]
     },
     "execution_count": 27,
     "metadata": {},
     "output_type": "execute_result"
    }
   ],
   "source": [
    "# gather output by environment\n",
    "envlist = {}\n",
    "for j in nb(jobs):\n",
    "    chain = keys(j.r)[0]\n",
    "    if chain not in envlist:\n",
    "        envlist[chain] = {}\n",
    "    for env in j.r[chain]:\n",
    "        if env not in envlist[chain]:\n",
    "            envlist[chain][env] = []\n",
    "        envlist[chain][env].append(j.r[chain][env])\n",
    "keys(envlist)"
   ]
  },
  {
   "cell_type": "code",
   "execution_count": 28,
   "metadata": {},
   "outputs": [
    {
     "data": {
      "text/html": [
       "<div>\n",
       "<style scoped>\n",
       "    .dataframe tbody tr th:only-of-type {\n",
       "        vertical-align: middle;\n",
       "    }\n",
       "\n",
       "    .dataframe tbody tr th {\n",
       "        vertical-align: top;\n",
       "    }\n",
       "\n",
       "    .dataframe thead th {\n",
       "        text-align: right;\n",
       "    }\n",
       "</style>\n",
       "<table border=\"1\" class=\"dataframe\">\n",
       "  <thead>\n",
       "    <tr style=\"text-align: right;\">\n",
       "      <th></th>\n",
       "      <th>COVARIABLE</th>\n",
       "      <th>MRK</th>\n",
       "      <th>M_Pearson</th>\n",
       "      <th>SD_Pearson</th>\n",
       "      <th>BF(dB)</th>\n",
       "      <th>Beta_is</th>\n",
       "      <th>SD_Beta_is</th>\n",
       "      <th>eBPis</th>\n",
       "      <th>env</th>\n",
       "    </tr>\n",
       "  </thead>\n",
       "  <tbody>\n",
       "    <tr>\n",
       "      <th>jcf7190016526014-7714</th>\n",
       "      <td>17</td>\n",
       "      <td>1</td>\n",
       "      <td>-0.052595</td>\n",
       "      <td>0.114593</td>\n",
       "      <td>-11.497486</td>\n",
       "      <td>-0.003562</td>\n",
       "      <td>0.009022</td>\n",
       "      <td>0.159260</td>\n",
       "      <td>EXT</td>\n",
       "    </tr>\n",
       "    <tr>\n",
       "      <th>jcf7190016526014-7716</th>\n",
       "      <td>17</td>\n",
       "      <td>2</td>\n",
       "      <td>-0.087006</td>\n",
       "      <td>0.124500</td>\n",
       "      <td>-12.796975</td>\n",
       "      <td>-0.001741</td>\n",
       "      <td>0.005318</td>\n",
       "      <td>0.128784</td>\n",
       "      <td>EXT</td>\n",
       "    </tr>\n",
       "    <tr>\n",
       "      <th>jcf7190016526014-7766</th>\n",
       "      <td>17</td>\n",
       "      <td>3</td>\n",
       "      <td>-0.087532</td>\n",
       "      <td>0.107358</td>\n",
       "      <td>-10.329001</td>\n",
       "      <td>-0.006972</td>\n",
       "      <td>0.010076</td>\n",
       "      <td>0.310727</td>\n",
       "      <td>EXT</td>\n",
       "    </tr>\n",
       "    <tr>\n",
       "      <th>jcf7190016526014-7772</th>\n",
       "      <td>17</td>\n",
       "      <td>4</td>\n",
       "      <td>-0.102293</td>\n",
       "      <td>0.125602</td>\n",
       "      <td>-8.839844</td>\n",
       "      <td>-0.008024</td>\n",
       "      <td>0.008969</td>\n",
       "      <td>0.430633</td>\n",
       "      <td>EXT</td>\n",
       "    </tr>\n",
       "    <tr>\n",
       "      <th>jcf7190016526014-7830</th>\n",
       "      <td>17</td>\n",
       "      <td>5</td>\n",
       "      <td>0.058249</td>\n",
       "      <td>0.126964</td>\n",
       "      <td>-11.722212</td>\n",
       "      <td>0.003616</td>\n",
       "      <td>0.007426</td>\n",
       "      <td>0.203244</td>\n",
       "      <td>EXT</td>\n",
       "    </tr>\n",
       "    <tr>\n",
       "      <th>...</th>\n",
       "      <td>...</td>\n",
       "      <td>...</td>\n",
       "      <td>...</td>\n",
       "      <td>...</td>\n",
       "      <td>...</td>\n",
       "      <td>...</td>\n",
       "      <td>...</td>\n",
       "      <td>...</td>\n",
       "      <td>...</td>\n",
       "    </tr>\n",
       "    <tr>\n",
       "      <th>jcf7190016526567-48549</th>\n",
       "      <td>17</td>\n",
       "      <td>1800</td>\n",
       "      <td>0.112872</td>\n",
       "      <td>0.104000</td>\n",
       "      <td>-6.859326</td>\n",
       "      <td>0.011788</td>\n",
       "      <td>0.008604</td>\n",
       "      <td>0.767819</td>\n",
       "      <td>EXT</td>\n",
       "    </tr>\n",
       "    <tr>\n",
       "      <th>jcf7190016526567-48911</th>\n",
       "      <td>17</td>\n",
       "      <td>1801</td>\n",
       "      <td>-0.067625</td>\n",
       "      <td>0.118084</td>\n",
       "      <td>-10.931551</td>\n",
       "      <td>-0.004632</td>\n",
       "      <td>0.008792</td>\n",
       "      <td>0.223070</td>\n",
       "      <td>EXT</td>\n",
       "    </tr>\n",
       "    <tr>\n",
       "      <th>jcf7190016526567-48941</th>\n",
       "      <td>17</td>\n",
       "      <td>1802</td>\n",
       "      <td>0.038814</td>\n",
       "      <td>0.116547</td>\n",
       "      <td>-8.634165</td>\n",
       "      <td>0.007839</td>\n",
       "      <td>0.013815</td>\n",
       "      <td>0.243806</td>\n",
       "      <td>EXT</td>\n",
       "    </tr>\n",
       "    <tr>\n",
       "      <th>jcf7190016526567-48974</th>\n",
       "      <td>17</td>\n",
       "      <td>1803</td>\n",
       "      <td>-0.047999</td>\n",
       "      <td>0.118350</td>\n",
       "      <td>-11.203722</td>\n",
       "      <td>-0.003237</td>\n",
       "      <td>0.008540</td>\n",
       "      <td>0.152044</td>\n",
       "      <td>EXT</td>\n",
       "    </tr>\n",
       "    <tr>\n",
       "      <th>jcf7190016526567-48993</th>\n",
       "      <td>17</td>\n",
       "      <td>1804</td>\n",
       "      <td>0.037346</td>\n",
       "      <td>0.133052</td>\n",
       "      <td>-8.076142</td>\n",
       "      <td>0.008832</td>\n",
       "      <td>0.016095</td>\n",
       "      <td>0.234202</td>\n",
       "      <td>EXT</td>\n",
       "    </tr>\n",
       "  </tbody>\n",
       "</table>\n",
       "<p>1804 rows × 9 columns</p>\n",
       "</div>"
      ],
      "text/plain": [
       "                        COVARIABLE   MRK  M_Pearson  SD_Pearson     BF(dB)  \\\n",
       "jcf7190016526014-7714           17     1  -0.052595    0.114593 -11.497486   \n",
       "jcf7190016526014-7716           17     2  -0.087006    0.124500 -12.796975   \n",
       "jcf7190016526014-7766           17     3  -0.087532    0.107358 -10.329001   \n",
       "jcf7190016526014-7772           17     4  -0.102293    0.125602  -8.839844   \n",
       "jcf7190016526014-7830           17     5   0.058249    0.126964 -11.722212   \n",
       "...                            ...   ...        ...         ...        ...   \n",
       "jcf7190016526567-48549          17  1800   0.112872    0.104000  -6.859326   \n",
       "jcf7190016526567-48911          17  1801  -0.067625    0.118084 -10.931551   \n",
       "jcf7190016526567-48941          17  1802   0.038814    0.116547  -8.634165   \n",
       "jcf7190016526567-48974          17  1803  -0.047999    0.118350 -11.203722   \n",
       "jcf7190016526567-48993          17  1804   0.037346    0.133052  -8.076142   \n",
       "\n",
       "                         Beta_is  SD_Beta_is     eBPis  env  \n",
       "jcf7190016526014-7714  -0.003562    0.009022  0.159260  EXT  \n",
       "jcf7190016526014-7716  -0.001741    0.005318  0.128784  EXT  \n",
       "jcf7190016526014-7766  -0.006972    0.010076  0.310727  EXT  \n",
       "jcf7190016526014-7772  -0.008024    0.008969  0.430633  EXT  \n",
       "jcf7190016526014-7830   0.003616    0.007426  0.203244  EXT  \n",
       "...                          ...         ...       ...  ...  \n",
       "jcf7190016526567-48549  0.011788    0.008604  0.767819  EXT  \n",
       "jcf7190016526567-48911 -0.004632    0.008792  0.223070  EXT  \n",
       "jcf7190016526567-48941  0.007839    0.013815  0.243806  EXT  \n",
       "jcf7190016526567-48974 -0.003237    0.008540  0.152044  EXT  \n",
       "jcf7190016526567-48993  0.008832    0.016095  0.234202  EXT  \n",
       "\n",
       "[1804 rows x 9 columns]"
      ]
     },
     "execution_count": 28,
     "metadata": {},
     "output_type": "execute_result"
    }
   ],
   "source": [
    "j.r[chain][env]"
   ]
  },
  {
   "cell_type": "code",
   "execution_count": 29,
   "metadata": {},
   "outputs": [
    {
     "data": {
      "text/html": [
       "<div>\n",
       "<style scoped>\n",
       "    .dataframe tbody tr th:only-of-type {\n",
       "        vertical-align: middle;\n",
       "    }\n",
       "\n",
       "    .dataframe tbody tr th {\n",
       "        vertical-align: top;\n",
       "    }\n",
       "\n",
       "    .dataframe thead th {\n",
       "        text-align: right;\n",
       "    }\n",
       "</style>\n",
       "<table border=\"1\" class=\"dataframe\">\n",
       "  <thead>\n",
       "    <tr style=\"text-align: right;\">\n",
       "      <th></th>\n",
       "      <th>COVARIABLE</th>\n",
       "      <th>MRK</th>\n",
       "      <th>M_Pearson</th>\n",
       "      <th>SD_Pearson</th>\n",
       "      <th>BF(dB)</th>\n",
       "      <th>Beta_is</th>\n",
       "      <th>SD_Beta_is</th>\n",
       "      <th>eBPis</th>\n",
       "      <th>env</th>\n",
       "    </tr>\n",
       "  </thead>\n",
       "  <tbody>\n",
       "    <tr>\n",
       "      <th>jcf7190016526567-48549</th>\n",
       "      <td>17</td>\n",
       "      <td>1800</td>\n",
       "      <td>0.112872</td>\n",
       "      <td>0.104000</td>\n",
       "      <td>-6.859326</td>\n",
       "      <td>0.011788</td>\n",
       "      <td>0.008604</td>\n",
       "      <td>0.767819</td>\n",
       "      <td>EXT</td>\n",
       "    </tr>\n",
       "    <tr>\n",
       "      <th>jcf7190016526567-48911</th>\n",
       "      <td>17</td>\n",
       "      <td>1801</td>\n",
       "      <td>-0.067625</td>\n",
       "      <td>0.118084</td>\n",
       "      <td>-10.931551</td>\n",
       "      <td>-0.004632</td>\n",
       "      <td>0.008792</td>\n",
       "      <td>0.223070</td>\n",
       "      <td>EXT</td>\n",
       "    </tr>\n",
       "    <tr>\n",
       "      <th>jcf7190016526567-48941</th>\n",
       "      <td>17</td>\n",
       "      <td>1802</td>\n",
       "      <td>0.038814</td>\n",
       "      <td>0.116547</td>\n",
       "      <td>-8.634165</td>\n",
       "      <td>0.007839</td>\n",
       "      <td>0.013815</td>\n",
       "      <td>0.243806</td>\n",
       "      <td>EXT</td>\n",
       "    </tr>\n",
       "    <tr>\n",
       "      <th>jcf7190016526567-48974</th>\n",
       "      <td>17</td>\n",
       "      <td>1803</td>\n",
       "      <td>-0.047999</td>\n",
       "      <td>0.118350</td>\n",
       "      <td>-11.203722</td>\n",
       "      <td>-0.003237</td>\n",
       "      <td>0.008540</td>\n",
       "      <td>0.152044</td>\n",
       "      <td>EXT</td>\n",
       "    </tr>\n",
       "    <tr>\n",
       "      <th>jcf7190016526567-48993</th>\n",
       "      <td>17</td>\n",
       "      <td>1804</td>\n",
       "      <td>0.037346</td>\n",
       "      <td>0.133052</td>\n",
       "      <td>-8.076142</td>\n",
       "      <td>0.008832</td>\n",
       "      <td>0.016095</td>\n",
       "      <td>0.234202</td>\n",
       "      <td>EXT</td>\n",
       "    </tr>\n",
       "  </tbody>\n",
       "</table>\n",
       "</div>"
      ],
      "text/plain": [
       "                        COVARIABLE   MRK  M_Pearson  SD_Pearson     BF(dB)  \\\n",
       "jcf7190016526567-48549          17  1800   0.112872    0.104000  -6.859326   \n",
       "jcf7190016526567-48911          17  1801  -0.067625    0.118084 -10.931551   \n",
       "jcf7190016526567-48941          17  1802   0.038814    0.116547  -8.634165   \n",
       "jcf7190016526567-48974          17  1803  -0.047999    0.118350 -11.203722   \n",
       "jcf7190016526567-48993          17  1804   0.037346    0.133052  -8.076142   \n",
       "\n",
       "                         Beta_is  SD_Beta_is     eBPis  env  \n",
       "jcf7190016526567-48549  0.011788    0.008604  0.767819  EXT  \n",
       "jcf7190016526567-48911 -0.004632    0.008792  0.223070  EXT  \n",
       "jcf7190016526567-48941  0.007839    0.013815  0.243806  EXT  \n",
       "jcf7190016526567-48974 -0.003237    0.008540  0.152044  EXT  \n",
       "jcf7190016526567-48993  0.008832    0.016095  0.234202  EXT  "
      ]
     },
     "execution_count": 29,
     "metadata": {},
     "output_type": "execute_result"
    }
   ],
   "source": [
    "j.r[chain][env].tail()"
   ]
  },
  {
   "cell_type": "code",
   "execution_count": 31,
   "metadata": {},
   "outputs": [
    {
     "name": "stderr",
     "output_type": "stream",
     "text": [
      "chain_1: 100%|██████████| 19/19 [00:07<00:00,  2.46it/s]\n",
      "chain_2: 100%|██████████| 19/19 [00:09<00:00,  2.06it/s]\n",
      "chain_3: 100%|██████████| 19/19 [00:08<00:00,  2.35it/s]\n",
      "chain_4: 100%|██████████| 19/19 [00:09<00:00,  2.01it/s]\n",
      "chain_5: 100%|██████████| 19/19 [00:08<00:00,  2.25it/s]"
     ]
    },
    {
     "name": "stdout",
     "output_type": "stream",
     "text": [
      "\u001b[1mchain_1\u001b[0m\n",
      "\t FFP 2609304\n",
      "\t bFFP 2609304\n",
      "\t MSP 2609304\n",
      "\t AHM 2609304\n",
      "\t EXT 2609304\n",
      "\t NFFD 2609304\n",
      "\t Eref 2609304\n",
      "\t MCMT 2609304\n",
      "\t eFFP 2609304\n",
      "\t SHM 2609304\n",
      "\t TD 2609304\n",
      "\t DD_0 2609304\n",
      "\t CMD 2609304\n",
      "\t MAP 2609304\n",
      "\t EMT 2609304\n",
      "\t DD5 2609304\n",
      "\t PAS 2609304\n",
      "\t MAT 2609304\n",
      "\t MWMT 2609304\n",
      "\u001b[1mchain_2\u001b[0m\n",
      "\t MCMT 2609304\n",
      "\t CMD 2609304\n",
      "\t MAT 2609304\n",
      "\t MSP 2609304\n",
      "\t NFFD 2609304\n",
      "\t FFP 2609304\n",
      "\t DD5 2609304\n",
      "\t MAP 2609304\n",
      "\t AHM 2609304\n",
      "\t Eref 2609304\n",
      "\t SHM 2609304\n",
      "\t MWMT 2609304\n",
      "\t PAS 2609304\n",
      "\t EXT 2609304\n",
      "\t TD 2609304\n",
      "\t DD_0 2609304\n",
      "\t bFFP 2609304\n",
      "\t eFFP 2609304\n",
      "\t EMT 2609304\n",
      "\u001b[1mchain_3\u001b[0m\n",
      "\t PAS 2609304\n",
      "\t CMD 2609304\n",
      "\t MSP 2609304\n",
      "\t bFFP 2609304\n",
      "\t DD_0 2609304\n",
      "\t Eref 2609304\n",
      "\t NFFD 2609304\n",
      "\t EMT 2609304\n",
      "\t TD 2609304\n",
      "\t EXT 2609304\n",
      "\t AHM 2609304\n",
      "\t eFFP 2609304\n",
      "\t FFP 2609304\n",
      "\t DD5 2609304\n",
      "\t MAT 2609304\n",
      "\t MWMT 2609304\n",
      "\t MAP 2609304\n",
      "\t MCMT 2609304\n",
      "\t SHM 2609304\n",
      "\u001b[1mchain_4\u001b[0m\n",
      "\t CMD 2609304\n",
      "\t MAP 2609304\n",
      "\t PAS 2609304\n",
      "\t SHM 2609304\n",
      "\t MWMT 2609304\n",
      "\t AHM 2609304\n",
      "\t TD 2609304\n",
      "\t MCMT 2609304\n",
      "\t eFFP 2609304\n",
      "\t DD5 2609304\n",
      "\t FFP 2609304\n",
      "\t bFFP 2609304\n",
      "\t EXT 2609304\n",
      "\t NFFD 2609304\n",
      "\t MAT 2609304\n",
      "\t DD_0 2609304\n",
      "\t MSP 2609304\n",
      "\t Eref 2609304\n",
      "\t EMT 2609304\n",
      "\u001b[1mchain_5\u001b[0m\n",
      "\t MCMT 2609304\n",
      "\t AHM 2609304\n",
      "\t SHM 2609304\n",
      "\t MWMT 2609304\n",
      "\t DD5 2609304\n",
      "\t MAP 2609304\n",
      "\t Eref 2609304\n",
      "\t MSP 2609304\n",
      "\t bFFP 2609304\n",
      "\t PAS 2609304\n",
      "\t NFFD 2609304\n",
      "\t eFFP 2609304\n",
      "\t DD_0 2609304\n",
      "\t FFP 2609304\n",
      "\t CMD 2609304\n",
      "\t MAT 2609304\n",
      "\t EMT 2609304\n",
      "\t TD 2609304\n",
      "\t EXT 2609304\n"
     ]
    },
    {
     "name": "stderr",
     "output_type": "stream",
     "text": [
      "\n"
     ]
    }
   ],
   "source": [
    "# concatenate environmental output by each chain, print out num snps for each env for each chain\n",
    "chaindfs = {}\n",
    "for chain,envs in envlist.items():\n",
    "    assert len(envs) == 19\n",
    "    if chain not in chaindfs:\n",
    "        chaindfs[chain] = {}\n",
    "    for env,dfs in nb(envs.items(), desc=chain):\n",
    "        if env not in chaindfs[chain]:\n",
    "            chaindfs[chain][env] = pd.concat(dfs)\n",
    "        else:\n",
    "            print('crap ', chain, env)\n",
    "for chain in chaindfs:\n",
    "    print(ColorText(chain).bold())\n",
    "    for env in chaindfs[chain]:\n",
    "        print('\\t',env, nrow(chaindfs[chain][env]))"
   ]
  },
  {
   "cell_type": "code",
   "execution_count": 32,
   "metadata": {},
   "outputs": [
    {
     "name": "stderr",
     "output_type": "stream",
     "text": [
      "chain_1: 100%|██████████| 19/19 [00:09<00:00,  1.99it/s]\n",
      "chain_2: 100%|██████████| 19/19 [00:07<00:00,  2.41it/s]\n",
      "chain_3: 100%|██████████| 19/19 [00:09<00:00,  2.05it/s]\n",
      "chain_4: 100%|██████████| 19/19 [00:08<00:00,  2.33it/s]\n",
      "chain_5: 100%|██████████| 19/19 [00:08<00:00,  2.34it/s]\n",
      "combo: 100%|██████████| 19/19 [04:25<00:00, 13.98s/it]\n"
     ]
    },
    {
     "data": {
      "text/html": [
       "<div>\n",
       "<style scoped>\n",
       "    .dataframe tbody tr th:only-of-type {\n",
       "        vertical-align: middle;\n",
       "    }\n",
       "\n",
       "    .dataframe tbody tr th {\n",
       "        vertical-align: top;\n",
       "    }\n",
       "\n",
       "    .dataframe thead th {\n",
       "        text-align: right;\n",
       "    }\n",
       "</style>\n",
       "<table border=\"1\" class=\"dataframe\">\n",
       "  <thead>\n",
       "    <tr style=\"text-align: right;\">\n",
       "      <th></th>\n",
       "      <th>chain_1-COVARIABLE</th>\n",
       "      <th>chain_1-MRK</th>\n",
       "      <th>chain_1-M_Pearson</th>\n",
       "      <th>chain_1-SD_Pearson</th>\n",
       "      <th>chain_1-BF(dB)</th>\n",
       "      <th>chain_1-Beta_is</th>\n",
       "      <th>chain_1-SD_Beta_is</th>\n",
       "      <th>chain_1-eBPis</th>\n",
       "      <th>chain_1-env</th>\n",
       "      <th>chain_2-COVARIABLE</th>\n",
       "      <th>chain_2-MRK</th>\n",
       "      <th>chain_2-M_Pearson</th>\n",
       "      <th>chain_2-SD_Pearson</th>\n",
       "      <th>chain_2-BF(dB)</th>\n",
       "      <th>chain_2-Beta_is</th>\n",
       "      <th>chain_2-SD_Beta_is</th>\n",
       "      <th>chain_2-eBPis</th>\n",
       "      <th>chain_2-env</th>\n",
       "      <th>chain_3-COVARIABLE</th>\n",
       "      <th>chain_3-MRK</th>\n",
       "      <th>chain_3-M_Pearson</th>\n",
       "      <th>chain_3-SD_Pearson</th>\n",
       "      <th>chain_3-BF(dB)</th>\n",
       "      <th>chain_3-Beta_is</th>\n",
       "      <th>chain_3-SD_Beta_is</th>\n",
       "      <th>chain_3-eBPis</th>\n",
       "      <th>chain_3-env</th>\n",
       "      <th>chain_4-COVARIABLE</th>\n",
       "      <th>chain_4-MRK</th>\n",
       "      <th>chain_4-M_Pearson</th>\n",
       "      <th>chain_4-SD_Pearson</th>\n",
       "      <th>chain_4-BF(dB)</th>\n",
       "      <th>chain_4-Beta_is</th>\n",
       "      <th>chain_4-SD_Beta_is</th>\n",
       "      <th>chain_4-eBPis</th>\n",
       "      <th>chain_4-env</th>\n",
       "      <th>chain_5-COVARIABLE</th>\n",
       "      <th>chain_5-MRK</th>\n",
       "      <th>chain_5-M_Pearson</th>\n",
       "      <th>chain_5-SD_Pearson</th>\n",
       "      <th>chain_5-BF(dB)</th>\n",
       "      <th>chain_5-Beta_is</th>\n",
       "      <th>chain_5-SD_Beta_is</th>\n",
       "      <th>chain_5-eBPis</th>\n",
       "      <th>chain_5-env</th>\n",
       "    </tr>\n",
       "  </thead>\n",
       "  <tbody>\n",
       "    <tr>\n",
       "      <th>jcf7190000000000-77602</th>\n",
       "      <td>2</td>\n",
       "      <td>1</td>\n",
       "      <td>-0.059695</td>\n",
       "      <td>0.154870</td>\n",
       "      <td>-10.315651</td>\n",
       "      <td>-0.002027</td>\n",
       "      <td>0.007659</td>\n",
       "      <td>0.101651</td>\n",
       "      <td>MWMT</td>\n",
       "      <td>2</td>\n",
       "      <td>1</td>\n",
       "      <td>-0.066420</td>\n",
       "      <td>0.143067</td>\n",
       "      <td>-11.442209</td>\n",
       "      <td>-0.002319</td>\n",
       "      <td>0.006078</td>\n",
       "      <td>0.153135</td>\n",
       "      <td>MWMT</td>\n",
       "      <td>2</td>\n",
       "      <td>1</td>\n",
       "      <td>-0.077138</td>\n",
       "      <td>0.152742</td>\n",
       "      <td>-8.541995</td>\n",
       "      <td>-0.003609</td>\n",
       "      <td>0.007430</td>\n",
       "      <td>0.202620</td>\n",
       "      <td>MWMT</td>\n",
       "      <td>2</td>\n",
       "      <td>1</td>\n",
       "      <td>-0.079436</td>\n",
       "      <td>0.149906</td>\n",
       "      <td>-9.972365</td>\n",
       "      <td>-0.004994</td>\n",
       "      <td>0.010911</td>\n",
       "      <td>0.188968</td>\n",
       "      <td>MWMT</td>\n",
       "      <td>2</td>\n",
       "      <td>1</td>\n",
       "      <td>-0.060251</td>\n",
       "      <td>0.152622</td>\n",
       "      <td>-11.001017</td>\n",
       "      <td>-0.002196</td>\n",
       "      <td>0.006988</td>\n",
       "      <td>0.123017</td>\n",
       "      <td>MWMT</td>\n",
       "    </tr>\n",
       "    <tr>\n",
       "      <th>jcf7190000000000-77657</th>\n",
       "      <td>2</td>\n",
       "      <td>2</td>\n",
       "      <td>0.020953</td>\n",
       "      <td>0.153436</td>\n",
       "      <td>-12.323689</td>\n",
       "      <td>0.000968</td>\n",
       "      <td>0.005721</td>\n",
       "      <td>0.062652</td>\n",
       "      <td>MWMT</td>\n",
       "      <td>2</td>\n",
       "      <td>2</td>\n",
       "      <td>0.006919</td>\n",
       "      <td>0.148635</td>\n",
       "      <td>-13.310383</td>\n",
       "      <td>0.000449</td>\n",
       "      <td>0.005103</td>\n",
       "      <td>0.031532</td>\n",
       "      <td>MWMT</td>\n",
       "      <td>2</td>\n",
       "      <td>2</td>\n",
       "      <td>0.027004</td>\n",
       "      <td>0.151214</td>\n",
       "      <td>-12.768456</td>\n",
       "      <td>0.001106</td>\n",
       "      <td>0.005475</td>\n",
       "      <td>0.075750</td>\n",
       "      <td>MWMT</td>\n",
       "      <td>2</td>\n",
       "      <td>2</td>\n",
       "      <td>-0.001368</td>\n",
       "      <td>0.152914</td>\n",
       "      <td>-12.528119</td>\n",
       "      <td>-0.000094</td>\n",
       "      <td>0.004738</td>\n",
       "      <td>0.006900</td>\n",
       "      <td>MWMT</td>\n",
       "      <td>2</td>\n",
       "      <td>2</td>\n",
       "      <td>0.009743</td>\n",
       "      <td>0.150375</td>\n",
       "      <td>-12.624277</td>\n",
       "      <td>0.000279</td>\n",
       "      <td>0.005611</td>\n",
       "      <td>0.017583</td>\n",
       "      <td>MWMT</td>\n",
       "    </tr>\n",
       "    <tr>\n",
       "      <th>jcf7190000000000-77738</th>\n",
       "      <td>2</td>\n",
       "      <td>3</td>\n",
       "      <td>0.039097</td>\n",
       "      <td>0.154505</td>\n",
       "      <td>-11.188217</td>\n",
       "      <td>0.002525</td>\n",
       "      <td>0.009096</td>\n",
       "      <td>0.107181</td>\n",
       "      <td>MWMT</td>\n",
       "      <td>2</td>\n",
       "      <td>3</td>\n",
       "      <td>0.041063</td>\n",
       "      <td>0.145520</td>\n",
       "      <td>-11.733662</td>\n",
       "      <td>0.002525</td>\n",
       "      <td>0.008043</td>\n",
       "      <td>0.122896</td>\n",
       "      <td>MWMT</td>\n",
       "      <td>2</td>\n",
       "      <td>3</td>\n",
       "      <td>0.027552</td>\n",
       "      <td>0.151078</td>\n",
       "      <td>-4.989675</td>\n",
       "      <td>0.000964</td>\n",
       "      <td>0.006743</td>\n",
       "      <td>0.052424</td>\n",
       "      <td>MWMT</td>\n",
       "      <td>2</td>\n",
       "      <td>3</td>\n",
       "      <td>0.035289</td>\n",
       "      <td>0.145525</td>\n",
       "      <td>-12.354602</td>\n",
       "      <td>0.001393</td>\n",
       "      <td>0.005699</td>\n",
       "      <td>0.093200</td>\n",
       "      <td>MWMT</td>\n",
       "      <td>2</td>\n",
       "      <td>3</td>\n",
       "      <td>0.022239</td>\n",
       "      <td>0.157984</td>\n",
       "      <td>-9.640782</td>\n",
       "      <td>0.000811</td>\n",
       "      <td>0.006669</td>\n",
       "      <td>0.044195</td>\n",
       "      <td>MWMT</td>\n",
       "    </tr>\n",
       "    <tr>\n",
       "      <th>jcf7190000000000-77764</th>\n",
       "      <td>2</td>\n",
       "      <td>4</td>\n",
       "      <td>-0.079505</td>\n",
       "      <td>0.167924</td>\n",
       "      <td>-1.940167</td>\n",
       "      <td>-0.009583</td>\n",
       "      <td>0.019190</td>\n",
       "      <td>0.209350</td>\n",
       "      <td>MWMT</td>\n",
       "      <td>2</td>\n",
       "      <td>4</td>\n",
       "      <td>-0.048553</td>\n",
       "      <td>0.134093</td>\n",
       "      <td>-10.519567</td>\n",
       "      <td>-0.003799</td>\n",
       "      <td>0.009843</td>\n",
       "      <td>0.155211</td>\n",
       "      <td>MWMT</td>\n",
       "      <td>2</td>\n",
       "      <td>4</td>\n",
       "      <td>-0.076049</td>\n",
       "      <td>0.140049</td>\n",
       "      <td>-8.677595</td>\n",
       "      <td>-0.005720</td>\n",
       "      <td>0.011118</td>\n",
       "      <td>0.216894</td>\n",
       "      <td>MWMT</td>\n",
       "      <td>2</td>\n",
       "      <td>4</td>\n",
       "      <td>-0.029182</td>\n",
       "      <td>0.140738</td>\n",
       "      <td>-9.922823</td>\n",
       "      <td>-0.000073</td>\n",
       "      <td>0.012426</td>\n",
       "      <td>0.002032</td>\n",
       "      <td>MWMT</td>\n",
       "      <td>2</td>\n",
       "      <td>4</td>\n",
       "      <td>-0.016146</td>\n",
       "      <td>0.134182</td>\n",
       "      <td>-10.910335</td>\n",
       "      <td>-0.000106</td>\n",
       "      <td>0.009176</td>\n",
       "      <td>0.004013</td>\n",
       "      <td>MWMT</td>\n",
       "    </tr>\n",
       "    <tr>\n",
       "      <th>jcf7190000000000-77784</th>\n",
       "      <td>2</td>\n",
       "      <td>5</td>\n",
       "      <td>-0.073913</td>\n",
       "      <td>0.150817</td>\n",
       "      <td>-8.604977</td>\n",
       "      <td>-0.002951</td>\n",
       "      <td>0.008278</td>\n",
       "      <td>0.141796</td>\n",
       "      <td>MWMT</td>\n",
       "      <td>2</td>\n",
       "      <td>5</td>\n",
       "      <td>-0.095359</td>\n",
       "      <td>0.152136</td>\n",
       "      <td>-7.801701</td>\n",
       "      <td>-0.005687</td>\n",
       "      <td>0.010279</td>\n",
       "      <td>0.236517</td>\n",
       "      <td>MWMT</td>\n",
       "      <td>2</td>\n",
       "      <td>5</td>\n",
       "      <td>-0.139000</td>\n",
       "      <td>0.132152</td>\n",
       "      <td>-7.418525</td>\n",
       "      <td>-0.011693</td>\n",
       "      <td>0.013303</td>\n",
       "      <td>0.420904</td>\n",
       "      <td>MWMT</td>\n",
       "      <td>2</td>\n",
       "      <td>5</td>\n",
       "      <td>-0.127927</td>\n",
       "      <td>0.136911</td>\n",
       "      <td>-8.060870</td>\n",
       "      <td>-0.010245</td>\n",
       "      <td>0.011709</td>\n",
       "      <td>0.418372</td>\n",
       "      <td>MWMT</td>\n",
       "      <td>2</td>\n",
       "      <td>5</td>\n",
       "      <td>-0.113937</td>\n",
       "      <td>0.144394</td>\n",
       "      <td>-7.363750</td>\n",
       "      <td>-0.007948</td>\n",
       "      <td>0.011738</td>\n",
       "      <td>0.302507</td>\n",
       "      <td>MWMT</td>\n",
       "    </tr>\n",
       "  </tbody>\n",
       "</table>\n",
       "</div>"
      ],
      "text/plain": [
       "                        chain_1-COVARIABLE  chain_1-MRK  chain_1-M_Pearson  \\\n",
       "jcf7190000000000-77602                   2            1          -0.059695   \n",
       "jcf7190000000000-77657                   2            2           0.020953   \n",
       "jcf7190000000000-77738                   2            3           0.039097   \n",
       "jcf7190000000000-77764                   2            4          -0.079505   \n",
       "jcf7190000000000-77784                   2            5          -0.073913   \n",
       "\n",
       "                        chain_1-SD_Pearson  chain_1-BF(dB)  chain_1-Beta_is  \\\n",
       "jcf7190000000000-77602            0.154870      -10.315651        -0.002027   \n",
       "jcf7190000000000-77657            0.153436      -12.323689         0.000968   \n",
       "jcf7190000000000-77738            0.154505      -11.188217         0.002525   \n",
       "jcf7190000000000-77764            0.167924       -1.940167        -0.009583   \n",
       "jcf7190000000000-77784            0.150817       -8.604977        -0.002951   \n",
       "\n",
       "                        chain_1-SD_Beta_is  chain_1-eBPis chain_1-env  \\\n",
       "jcf7190000000000-77602            0.007659       0.101651        MWMT   \n",
       "jcf7190000000000-77657            0.005721       0.062652        MWMT   \n",
       "jcf7190000000000-77738            0.009096       0.107181        MWMT   \n",
       "jcf7190000000000-77764            0.019190       0.209350        MWMT   \n",
       "jcf7190000000000-77784            0.008278       0.141796        MWMT   \n",
       "\n",
       "                        chain_2-COVARIABLE  chain_2-MRK  chain_2-M_Pearson  \\\n",
       "jcf7190000000000-77602                   2            1          -0.066420   \n",
       "jcf7190000000000-77657                   2            2           0.006919   \n",
       "jcf7190000000000-77738                   2            3           0.041063   \n",
       "jcf7190000000000-77764                   2            4          -0.048553   \n",
       "jcf7190000000000-77784                   2            5          -0.095359   \n",
       "\n",
       "                        chain_2-SD_Pearson  chain_2-BF(dB)  chain_2-Beta_is  \\\n",
       "jcf7190000000000-77602            0.143067      -11.442209        -0.002319   \n",
       "jcf7190000000000-77657            0.148635      -13.310383         0.000449   \n",
       "jcf7190000000000-77738            0.145520      -11.733662         0.002525   \n",
       "jcf7190000000000-77764            0.134093      -10.519567        -0.003799   \n",
       "jcf7190000000000-77784            0.152136       -7.801701        -0.005687   \n",
       "\n",
       "                        chain_2-SD_Beta_is  chain_2-eBPis chain_2-env  \\\n",
       "jcf7190000000000-77602            0.006078       0.153135        MWMT   \n",
       "jcf7190000000000-77657            0.005103       0.031532        MWMT   \n",
       "jcf7190000000000-77738            0.008043       0.122896        MWMT   \n",
       "jcf7190000000000-77764            0.009843       0.155211        MWMT   \n",
       "jcf7190000000000-77784            0.010279       0.236517        MWMT   \n",
       "\n",
       "                        chain_3-COVARIABLE  chain_3-MRK  chain_3-M_Pearson  \\\n",
       "jcf7190000000000-77602                   2            1          -0.077138   \n",
       "jcf7190000000000-77657                   2            2           0.027004   \n",
       "jcf7190000000000-77738                   2            3           0.027552   \n",
       "jcf7190000000000-77764                   2            4          -0.076049   \n",
       "jcf7190000000000-77784                   2            5          -0.139000   \n",
       "\n",
       "                        chain_3-SD_Pearson  chain_3-BF(dB)  chain_3-Beta_is  \\\n",
       "jcf7190000000000-77602            0.152742       -8.541995        -0.003609   \n",
       "jcf7190000000000-77657            0.151214      -12.768456         0.001106   \n",
       "jcf7190000000000-77738            0.151078       -4.989675         0.000964   \n",
       "jcf7190000000000-77764            0.140049       -8.677595        -0.005720   \n",
       "jcf7190000000000-77784            0.132152       -7.418525        -0.011693   \n",
       "\n",
       "                        chain_3-SD_Beta_is  chain_3-eBPis chain_3-env  \\\n",
       "jcf7190000000000-77602            0.007430       0.202620        MWMT   \n",
       "jcf7190000000000-77657            0.005475       0.075750        MWMT   \n",
       "jcf7190000000000-77738            0.006743       0.052424        MWMT   \n",
       "jcf7190000000000-77764            0.011118       0.216894        MWMT   \n",
       "jcf7190000000000-77784            0.013303       0.420904        MWMT   \n",
       "\n",
       "                        chain_4-COVARIABLE  chain_4-MRK  chain_4-M_Pearson  \\\n",
       "jcf7190000000000-77602                   2            1          -0.079436   \n",
       "jcf7190000000000-77657                   2            2          -0.001368   \n",
       "jcf7190000000000-77738                   2            3           0.035289   \n",
       "jcf7190000000000-77764                   2            4          -0.029182   \n",
       "jcf7190000000000-77784                   2            5          -0.127927   \n",
       "\n",
       "                        chain_4-SD_Pearson  chain_4-BF(dB)  chain_4-Beta_is  \\\n",
       "jcf7190000000000-77602            0.149906       -9.972365        -0.004994   \n",
       "jcf7190000000000-77657            0.152914      -12.528119        -0.000094   \n",
       "jcf7190000000000-77738            0.145525      -12.354602         0.001393   \n",
       "jcf7190000000000-77764            0.140738       -9.922823        -0.000073   \n",
       "jcf7190000000000-77784            0.136911       -8.060870        -0.010245   \n",
       "\n",
       "                        chain_4-SD_Beta_is  chain_4-eBPis chain_4-env  \\\n",
       "jcf7190000000000-77602            0.010911       0.188968        MWMT   \n",
       "jcf7190000000000-77657            0.004738       0.006900        MWMT   \n",
       "jcf7190000000000-77738            0.005699       0.093200        MWMT   \n",
       "jcf7190000000000-77764            0.012426       0.002032        MWMT   \n",
       "jcf7190000000000-77784            0.011709       0.418372        MWMT   \n",
       "\n",
       "                        chain_5-COVARIABLE  chain_5-MRK  chain_5-M_Pearson  \\\n",
       "jcf7190000000000-77602                   2            1          -0.060251   \n",
       "jcf7190000000000-77657                   2            2           0.009743   \n",
       "jcf7190000000000-77738                   2            3           0.022239   \n",
       "jcf7190000000000-77764                   2            4          -0.016146   \n",
       "jcf7190000000000-77784                   2            5          -0.113937   \n",
       "\n",
       "                        chain_5-SD_Pearson  chain_5-BF(dB)  chain_5-Beta_is  \\\n",
       "jcf7190000000000-77602            0.152622      -11.001017        -0.002196   \n",
       "jcf7190000000000-77657            0.150375      -12.624277         0.000279   \n",
       "jcf7190000000000-77738            0.157984       -9.640782         0.000811   \n",
       "jcf7190000000000-77764            0.134182      -10.910335        -0.000106   \n",
       "jcf7190000000000-77784            0.144394       -7.363750        -0.007948   \n",
       "\n",
       "                        chain_5-SD_Beta_is  chain_5-eBPis chain_5-env  \n",
       "jcf7190000000000-77602            0.006988       0.123017        MWMT  \n",
       "jcf7190000000000-77657            0.005611       0.017583        MWMT  \n",
       "jcf7190000000000-77738            0.006669       0.044195        MWMT  \n",
       "jcf7190000000000-77764            0.009176       0.004013        MWMT  \n",
       "jcf7190000000000-77784            0.011738       0.302507        MWMT  "
      ]
     },
     "execution_count": 32,
     "metadata": {},
     "output_type": "execute_result"
    }
   ],
   "source": [
    "# concatenate environmental output by each env, combine chains into single df\n",
    "dflst = {}\n",
    "for chain,envs in envlist.items():\n",
    "    for env,dfs in nb(envs.items(), desc=chain):\n",
    "        if env not in dflst:\n",
    "            dflst[env] = []\n",
    "        df = pd.concat(dfs)\n",
    "        df.columns = [f\"{chain}-{col}\" for col in df.columns]\n",
    "        dflst[env].append(df)\n",
    "# combine chains for each env - should have done this in parallel\n",
    "envdfs = {}\n",
    "for env,lst in nb(dflst.items(), desc='combo'):\n",
    "    assert len(lst) == 5\n",
    "    df = pd.merge(lst[0], lst[1], left_index=True, right_index=True)\n",
    "    df2 = pd.merge(lst[2], lst[3], left_index=True, right_index=True)\n",
    "    df3 = pd.merge(df, df2, left_index=True, right_index=True)\n",
    "    envdfs[env] = pd.merge(df3, lst[4], left_index=True, right_index=True)\n",
    "    \n",
    "    \n",
    "envdfs[env].head()           "
   ]
  },
  {
   "cell_type": "code",
   "execution_count": 33,
   "metadata": {},
   "outputs": [
    {
     "name": "stderr",
     "output_type": "stream",
     "text": [
      "100%|██████████| 1044/1044 [00:07<00:00, 148.30it/s]\n"
     ]
    },
    {
     "data": {
      "text/plain": [
       "2609304"
      ]
     },
     "execution_count": 33,
     "metadata": {},
     "output_type": "execute_result"
    }
   ],
   "source": [
    "# how many SNPs should be in each env file?\n",
    "rows = 0\n",
    "for gfile in nb(fs(gfile_dir, pattern='noheader')):\n",
    "    df = pd.read_table(gfile, usecols=[0], header=None)\n",
    "    rows += nrow(df)\n",
    "rows"
   ]
  },
  {
   "cell_type": "code",
   "execution_count": 34,
   "metadata": {},
   "outputs": [
    {
     "name": "stdout",
     "output_type": "stream",
     "text": [
      "\u001b[1mFFP\u001b[0m\n",
      "\t FFP 2609304\n",
      "\u001b[1mbFFP\u001b[0m\n",
      "\t bFFP 2609304\n",
      "\u001b[1mMSP\u001b[0m\n",
      "\t MSP 2609304\n",
      "\u001b[1mAHM\u001b[0m\n",
      "\t AHM 2609304\n",
      "\u001b[1mEXT\u001b[0m\n",
      "\t EXT 2609304\n",
      "\u001b[1mNFFD\u001b[0m\n",
      "\t NFFD 2609304\n",
      "\u001b[1mEref\u001b[0m\n",
      "\t Eref 2609304\n",
      "\u001b[1mMCMT\u001b[0m\n",
      "\t MCMT 2609304\n",
      "\u001b[1meFFP\u001b[0m\n",
      "\t eFFP 2609304\n",
      "\u001b[1mSHM\u001b[0m\n",
      "\t SHM 2609304\n",
      "\u001b[1mTD\u001b[0m\n",
      "\t TD 2609304\n",
      "\u001b[1mDD_0\u001b[0m\n",
      "\t DD_0 2609304\n",
      "\u001b[1mCMD\u001b[0m\n",
      "\t CMD 2609304\n",
      "\u001b[1mMAP\u001b[0m\n",
      "\t MAP 2609304\n",
      "\u001b[1mEMT\u001b[0m\n",
      "\t EMT 2609304\n",
      "\u001b[1mDD5\u001b[0m\n",
      "\t DD5 2609304\n",
      "\u001b[1mPAS\u001b[0m\n",
      "\t PAS 2609304\n",
      "\u001b[1mMAT\u001b[0m\n",
      "\t MAT 2609304\n",
      "\u001b[1mMWMT\u001b[0m\n",
      "\t MWMT 2609304\n"
     ]
    }
   ],
   "source": [
    "for env in envdfs:\n",
    "    print(ColorText(env).bold())\n",
    "    print('\\t',env, nrow(envdfs[env]))\n",
    "    if nrow(envdfs[env]) != rows:\n",
    "        print(ColorText('CRAAAAAAAAAP').fail().bold())"
   ]
  },
  {
   "cell_type": "code",
   "execution_count": 35,
   "metadata": {},
   "outputs": [],
   "source": [
    "# save temp state of envdfs\n",
    "finaldir = makedir(op.join(baydir, 'final_results'))\n",
    "pkldump(envdfs, op.join(finaldir, 'envdfs_before_ranking.pkl'))"
   ]
  },
  {
   "cell_type": "code",
   "execution_count": 37,
   "metadata": {},
   "outputs": [
    {
     "data": {
      "text/plain": [
       "'/lu213/brandon.lind/projects/pool_seq/DF_datasets/DF_pooled_GEA/DF_pooled/snpsANDindels/interior_variety/03_maf-p05_RD-recalculated_FDI/baypass/final_results'"
      ]
     },
     "execution_count": 37,
     "metadata": {},
     "output_type": "execute_result"
    }
   ],
   "source": [
    "finaldir"
   ]
  },
  {
   "cell_type": "code",
   "execution_count": 38,
   "metadata": {},
   "outputs": [
    {
     "data": {
      "text/plain": [
       "['envdfs_before_ranking.pkl']"
      ]
     },
     "execution_count": 38,
     "metadata": {},
     "output_type": "execute_result"
    }
   ],
   "source": [
    "ls(finaldir)"
   ]
  },
  {
   "cell_type": "code",
   "execution_count": 39,
   "metadata": {},
   "outputs": [],
   "source": [
    "# release some RAM\n",
    "del dflst, chaindfs, df, df2, df3, dfs, envlist, jobs"
   ]
  },
  {
   "cell_type": "markdown",
   "metadata": {},
   "source": [
    "# make columns for ranking"
   ]
  },
  {
   "cell_type": "code",
   "execution_count": 40,
   "metadata": {},
   "outputs": [
    {
     "name": "stdout",
     "output_type": "stream",
     "text": [
      "56 56\n"
     ]
    }
   ],
   "source": [
    "lview,dview = get_client()"
   ]
  },
  {
   "cell_type": "code",
   "execution_count": 41,
   "metadata": {},
   "outputs": [],
   "source": [
    "def rank_baypass(df):\n",
    "    \"\"\"Create columns to rank loci within and across chains.\"\"\"\n",
    "    import pandas\n",
    "    import tqdm\n",
    "    import math\n",
    "    chains = ['chain_1', 'chain_2', 'chain_3', 'chain_4', 'chain_5']\n",
    "\n",
    "    # rank per chain based on chain BF\n",
    "    for chain in tqdm.tqdm(chains, desc='chains'):\n",
    "        col = f'{chain}-BF(dB)'\n",
    "        ranked = dict((locus,rank+1) for (rank,locus) in enumerate(df[col].sort_values(ascending=False).index))\n",
    "        df[f'rank_{chain}-BF(dB)'] = [ranked[locus] for locus in df.index]\n",
    "\n",
    "    # mean BF\n",
    "    print('getting mean BF')\n",
    "    bfcols = [col for col in df if 'BF(dB)' in col and 'rank' not in col]\n",
    "    print(bfcols)\n",
    "    assert len(bfcols) == 5\n",
    "    df['mean_BF(dB)'] = df[bfcols].mean(axis=1)\n",
    "\n",
    "    # rank of mean BF\n",
    "    print('ranking mean BF')\n",
    "    ranked = dict((locus,rank+1) for (rank,locus) in enumerate(df['mean_BF(dB)'].sort_values(ascending=False).index))\n",
    "    df['rank_mean_BF(dB)'] = [ranked[locus] for locus in df.index]\n",
    "    \n",
    "    # bool column, enter True if BF >= 20 for >=3 chains\n",
    "    # BF column is in dB units, value output by baypass = 10*log10(BF)\n",
    "    print('calculating bool column')\n",
    "    df['BF(dB)_gte20_for-gte3chains'] = (df[bfcols] >= 10*math.log10(20)).sum(axis=1) > 3\n",
    "    print(sum((df[bfcols] > 10*math.log10(20)).sum(axis=1) > 3))\n",
    "\n",
    "    return df"
   ]
  },
  {
   "cell_type": "code",
   "execution_count": 42,
   "metadata": {},
   "outputs": [
    {
     "name": "stdout",
     "output_type": "stream",
     "text": [
      "19\n",
      "19\n"
     ]
    }
   ],
   "source": [
    "# call rank_baypass() in parallel for each environment\n",
    "jobs = []\n",
    "for env,df in envdfs.items():\n",
    "    bfcols = [col for col in df.columns if 'BF(dB)' in col]\n",
    "    assert len(bfcols) == 5  # num chains\n",
    "    jobs.append(lview.apply_async(rank_baypass, df[bfcols]))\n",
    "watch_async(jobs)"
   ]
  },
  {
   "cell_type": "code",
   "execution_count": 43,
   "metadata": {},
   "outputs": [
    {
     "data": {
      "text/html": [
       "<div>\n",
       "<style scoped>\n",
       "    .dataframe tbody tr th:only-of-type {\n",
       "        vertical-align: middle;\n",
       "    }\n",
       "\n",
       "    .dataframe tbody tr th {\n",
       "        vertical-align: top;\n",
       "    }\n",
       "\n",
       "    .dataframe thead th {\n",
       "        text-align: right;\n",
       "    }\n",
       "</style>\n",
       "<table border=\"1\" class=\"dataframe\">\n",
       "  <thead>\n",
       "    <tr style=\"text-align: right;\">\n",
       "      <th></th>\n",
       "      <th>chain_1-BF(dB)</th>\n",
       "      <th>chain_2-BF(dB)</th>\n",
       "      <th>chain_3-BF(dB)</th>\n",
       "      <th>chain_4-BF(dB)</th>\n",
       "      <th>chain_5-BF(dB)</th>\n",
       "      <th>rank_chain_1-BF(dB)</th>\n",
       "      <th>rank_chain_2-BF(dB)</th>\n",
       "      <th>rank_chain_3-BF(dB)</th>\n",
       "      <th>rank_chain_4-BF(dB)</th>\n",
       "      <th>rank_chain_5-BF(dB)</th>\n",
       "      <th>mean_BF(dB)</th>\n",
       "      <th>rank_mean_BF(dB)</th>\n",
       "      <th>BF(dB)_gte20_for-gte3chains</th>\n",
       "    </tr>\n",
       "  </thead>\n",
       "  <tbody>\n",
       "    <tr>\n",
       "      <th>jcf7190000000000-77602</th>\n",
       "      <td>-10.315651</td>\n",
       "      <td>-11.442209</td>\n",
       "      <td>-8.541995</td>\n",
       "      <td>-9.972365</td>\n",
       "      <td>-11.001017</td>\n",
       "      <td>1198234</td>\n",
       "      <td>1696692</td>\n",
       "      <td>594901</td>\n",
       "      <td>1048229</td>\n",
       "      <td>1508604</td>\n",
       "      <td>-10.254647</td>\n",
       "      <td>1203554</td>\n",
       "      <td>False</td>\n",
       "    </tr>\n",
       "    <tr>\n",
       "      <th>jcf7190000000000-77657</th>\n",
       "      <td>-12.323689</td>\n",
       "      <td>-13.310383</td>\n",
       "      <td>-12.768456</td>\n",
       "      <td>-12.528119</td>\n",
       "      <td>-12.624277</td>\n",
       "      <td>2014733</td>\n",
       "      <td>2267601</td>\n",
       "      <td>2140479</td>\n",
       "      <td>2075136</td>\n",
       "      <td>2102365</td>\n",
       "      <td>-12.710985</td>\n",
       "      <td>2164523</td>\n",
       "      <td>False</td>\n",
       "    </tr>\n",
       "    <tr>\n",
       "      <th>jcf7190000000000-77738</th>\n",
       "      <td>-11.188217</td>\n",
       "      <td>-11.733662</td>\n",
       "      <td>-4.989675</td>\n",
       "      <td>-12.354602</td>\n",
       "      <td>-9.640782</td>\n",
       "      <td>1590864</td>\n",
       "      <td>1811515</td>\n",
       "      <td>185404</td>\n",
       "      <td>2023695</td>\n",
       "      <td>918027</td>\n",
       "      <td>-9.981388</td>\n",
       "      <td>1077702</td>\n",
       "      <td>False</td>\n",
       "    </tr>\n",
       "    <tr>\n",
       "      <th>jcf7190000000000-77764</th>\n",
       "      <td>-1.940167</td>\n",
       "      <td>-10.519567</td>\n",
       "      <td>-8.677595</td>\n",
       "      <td>-9.922823</td>\n",
       "      <td>-10.910335</td>\n",
       "      <td>77050</td>\n",
       "      <td>1290113</td>\n",
       "      <td>626190</td>\n",
       "      <td>1027920</td>\n",
       "      <td>1468015</td>\n",
       "      <td>-8.394097</td>\n",
       "      <td>551460</td>\n",
       "      <td>False</td>\n",
       "    </tr>\n",
       "    <tr>\n",
       "      <th>jcf7190000000000-77784</th>\n",
       "      <td>-8.604977</td>\n",
       "      <td>-7.801701</td>\n",
       "      <td>-7.418525</td>\n",
       "      <td>-8.060870</td>\n",
       "      <td>-7.363750</td>\n",
       "      <td>608481</td>\n",
       "      <td>454890</td>\n",
       "      <td>399411</td>\n",
       "      <td>498756</td>\n",
       "      <td>392520</td>\n",
       "      <td>-7.849964</td>\n",
       "      <td>446399</td>\n",
       "      <td>False</td>\n",
       "    </tr>\n",
       "  </tbody>\n",
       "</table>\n",
       "</div>"
      ],
      "text/plain": [
       "                        chain_1-BF(dB)  chain_2-BF(dB)  chain_3-BF(dB)  \\\n",
       "jcf7190000000000-77602      -10.315651      -11.442209       -8.541995   \n",
       "jcf7190000000000-77657      -12.323689      -13.310383      -12.768456   \n",
       "jcf7190000000000-77738      -11.188217      -11.733662       -4.989675   \n",
       "jcf7190000000000-77764       -1.940167      -10.519567       -8.677595   \n",
       "jcf7190000000000-77784       -8.604977       -7.801701       -7.418525   \n",
       "\n",
       "                        chain_4-BF(dB)  chain_5-BF(dB)  rank_chain_1-BF(dB)  \\\n",
       "jcf7190000000000-77602       -9.972365      -11.001017              1198234   \n",
       "jcf7190000000000-77657      -12.528119      -12.624277              2014733   \n",
       "jcf7190000000000-77738      -12.354602       -9.640782              1590864   \n",
       "jcf7190000000000-77764       -9.922823      -10.910335                77050   \n",
       "jcf7190000000000-77784       -8.060870       -7.363750               608481   \n",
       "\n",
       "                        rank_chain_2-BF(dB)  rank_chain_3-BF(dB)  \\\n",
       "jcf7190000000000-77602              1696692               594901   \n",
       "jcf7190000000000-77657              2267601              2140479   \n",
       "jcf7190000000000-77738              1811515               185404   \n",
       "jcf7190000000000-77764              1290113               626190   \n",
       "jcf7190000000000-77784               454890               399411   \n",
       "\n",
       "                        rank_chain_4-BF(dB)  rank_chain_5-BF(dB)  mean_BF(dB)  \\\n",
       "jcf7190000000000-77602              1048229              1508604   -10.254647   \n",
       "jcf7190000000000-77657              2075136              2102365   -12.710985   \n",
       "jcf7190000000000-77738              2023695               918027    -9.981388   \n",
       "jcf7190000000000-77764              1027920              1468015    -8.394097   \n",
       "jcf7190000000000-77784               498756               392520    -7.849964   \n",
       "\n",
       "                        rank_mean_BF(dB)  BF(dB)_gte20_for-gte3chains  \n",
       "jcf7190000000000-77602           1203554                        False  \n",
       "jcf7190000000000-77657           2164523                        False  \n",
       "jcf7190000000000-77738           1077702                        False  \n",
       "jcf7190000000000-77764            551460                        False  \n",
       "jcf7190000000000-77784            446399                        False  "
      ]
     },
     "execution_count": 43,
     "metadata": {},
     "output_type": "execute_result"
    }
   ],
   "source": [
    "# get the returns from the engines\n",
    "new_envdfs = {}\n",
    "for i,env in enumerate(envdfs):\n",
    "    new_envdfs[env] = jobs[i].r\n",
    "new_envdfs[env].head()    "
   ]
  },
  {
   "cell_type": "code",
   "execution_count": 44,
   "metadata": {},
   "outputs": [
    {
     "name": "stdout",
     "output_type": "stream",
     "text": [
      "MWMT\n"
     ]
    },
    {
     "data": {
      "text/html": [
       "<div>\n",
       "<style scoped>\n",
       "    .dataframe tbody tr th:only-of-type {\n",
       "        vertical-align: middle;\n",
       "    }\n",
       "\n",
       "    .dataframe tbody tr th {\n",
       "        vertical-align: top;\n",
       "    }\n",
       "\n",
       "    .dataframe thead th {\n",
       "        text-align: right;\n",
       "    }\n",
       "</style>\n",
       "<table border=\"1\" class=\"dataframe\">\n",
       "  <thead>\n",
       "    <tr style=\"text-align: right;\">\n",
       "      <th></th>\n",
       "      <th>chain_1-COVARIABLE</th>\n",
       "      <th>chain_1-MRK</th>\n",
       "      <th>chain_1-M_Pearson</th>\n",
       "      <th>chain_1-SD_Pearson</th>\n",
       "      <th>chain_1-BF(dB)</th>\n",
       "      <th>chain_1-Beta_is</th>\n",
       "      <th>chain_1-SD_Beta_is</th>\n",
       "      <th>chain_1-eBPis</th>\n",
       "      <th>chain_1-env</th>\n",
       "      <th>chain_2-COVARIABLE</th>\n",
       "      <th>chain_2-MRK</th>\n",
       "      <th>chain_2-M_Pearson</th>\n",
       "      <th>chain_2-SD_Pearson</th>\n",
       "      <th>chain_2-BF(dB)</th>\n",
       "      <th>chain_2-Beta_is</th>\n",
       "      <th>chain_2-SD_Beta_is</th>\n",
       "      <th>chain_2-eBPis</th>\n",
       "      <th>chain_2-env</th>\n",
       "      <th>chain_3-COVARIABLE</th>\n",
       "      <th>chain_3-MRK</th>\n",
       "      <th>chain_3-M_Pearson</th>\n",
       "      <th>chain_3-SD_Pearson</th>\n",
       "      <th>chain_3-BF(dB)</th>\n",
       "      <th>chain_3-Beta_is</th>\n",
       "      <th>chain_3-SD_Beta_is</th>\n",
       "      <th>chain_3-eBPis</th>\n",
       "      <th>chain_3-env</th>\n",
       "      <th>chain_4-COVARIABLE</th>\n",
       "      <th>chain_4-MRK</th>\n",
       "      <th>chain_4-M_Pearson</th>\n",
       "      <th>chain_4-SD_Pearson</th>\n",
       "      <th>chain_4-BF(dB)</th>\n",
       "      <th>chain_4-Beta_is</th>\n",
       "      <th>chain_4-SD_Beta_is</th>\n",
       "      <th>chain_4-eBPis</th>\n",
       "      <th>chain_4-env</th>\n",
       "      <th>chain_5-COVARIABLE</th>\n",
       "      <th>chain_5-MRK</th>\n",
       "      <th>chain_5-M_Pearson</th>\n",
       "      <th>chain_5-SD_Pearson</th>\n",
       "      <th>chain_5-BF(dB)</th>\n",
       "      <th>chain_5-Beta_is</th>\n",
       "      <th>chain_5-SD_Beta_is</th>\n",
       "      <th>chain_5-eBPis</th>\n",
       "      <th>chain_5-env</th>\n",
       "      <th>rank_chain_1-BF(dB)</th>\n",
       "      <th>rank_chain_2-BF(dB)</th>\n",
       "      <th>rank_chain_3-BF(dB)</th>\n",
       "      <th>rank_chain_4-BF(dB)</th>\n",
       "      <th>rank_chain_5-BF(dB)</th>\n",
       "      <th>mean_BF(dB)</th>\n",
       "      <th>rank_mean_BF(dB)</th>\n",
       "      <th>BF(dB)_gte20_for-gte3chains</th>\n",
       "    </tr>\n",
       "  </thead>\n",
       "  <tbody>\n",
       "    <tr>\n",
       "      <th>jcf7190000000000-77602</th>\n",
       "      <td>2</td>\n",
       "      <td>1</td>\n",
       "      <td>-0.059695</td>\n",
       "      <td>0.154870</td>\n",
       "      <td>-10.315651</td>\n",
       "      <td>-0.002027</td>\n",
       "      <td>0.007659</td>\n",
       "      <td>0.101651</td>\n",
       "      <td>MWMT</td>\n",
       "      <td>2</td>\n",
       "      <td>1</td>\n",
       "      <td>-0.066420</td>\n",
       "      <td>0.143067</td>\n",
       "      <td>-11.442209</td>\n",
       "      <td>-0.002319</td>\n",
       "      <td>0.006078</td>\n",
       "      <td>0.153135</td>\n",
       "      <td>MWMT</td>\n",
       "      <td>2</td>\n",
       "      <td>1</td>\n",
       "      <td>-0.077138</td>\n",
       "      <td>0.152742</td>\n",
       "      <td>-8.541995</td>\n",
       "      <td>-0.003609</td>\n",
       "      <td>0.007430</td>\n",
       "      <td>0.202620</td>\n",
       "      <td>MWMT</td>\n",
       "      <td>2</td>\n",
       "      <td>1</td>\n",
       "      <td>-0.079436</td>\n",
       "      <td>0.149906</td>\n",
       "      <td>-9.972365</td>\n",
       "      <td>-0.004994</td>\n",
       "      <td>0.010911</td>\n",
       "      <td>0.188968</td>\n",
       "      <td>MWMT</td>\n",
       "      <td>2</td>\n",
       "      <td>1</td>\n",
       "      <td>-0.060251</td>\n",
       "      <td>0.152622</td>\n",
       "      <td>-11.001017</td>\n",
       "      <td>-0.002196</td>\n",
       "      <td>0.006988</td>\n",
       "      <td>0.123017</td>\n",
       "      <td>MWMT</td>\n",
       "      <td>1198234</td>\n",
       "      <td>1696692</td>\n",
       "      <td>594901</td>\n",
       "      <td>1048229</td>\n",
       "      <td>1508604</td>\n",
       "      <td>-10.254647</td>\n",
       "      <td>1203554</td>\n",
       "      <td>False</td>\n",
       "    </tr>\n",
       "    <tr>\n",
       "      <th>jcf7190000000000-77657</th>\n",
       "      <td>2</td>\n",
       "      <td>2</td>\n",
       "      <td>0.020953</td>\n",
       "      <td>0.153436</td>\n",
       "      <td>-12.323689</td>\n",
       "      <td>0.000968</td>\n",
       "      <td>0.005721</td>\n",
       "      <td>0.062652</td>\n",
       "      <td>MWMT</td>\n",
       "      <td>2</td>\n",
       "      <td>2</td>\n",
       "      <td>0.006919</td>\n",
       "      <td>0.148635</td>\n",
       "      <td>-13.310383</td>\n",
       "      <td>0.000449</td>\n",
       "      <td>0.005103</td>\n",
       "      <td>0.031532</td>\n",
       "      <td>MWMT</td>\n",
       "      <td>2</td>\n",
       "      <td>2</td>\n",
       "      <td>0.027004</td>\n",
       "      <td>0.151214</td>\n",
       "      <td>-12.768456</td>\n",
       "      <td>0.001106</td>\n",
       "      <td>0.005475</td>\n",
       "      <td>0.075750</td>\n",
       "      <td>MWMT</td>\n",
       "      <td>2</td>\n",
       "      <td>2</td>\n",
       "      <td>-0.001368</td>\n",
       "      <td>0.152914</td>\n",
       "      <td>-12.528119</td>\n",
       "      <td>-0.000094</td>\n",
       "      <td>0.004738</td>\n",
       "      <td>0.006900</td>\n",
       "      <td>MWMT</td>\n",
       "      <td>2</td>\n",
       "      <td>2</td>\n",
       "      <td>0.009743</td>\n",
       "      <td>0.150375</td>\n",
       "      <td>-12.624277</td>\n",
       "      <td>0.000279</td>\n",
       "      <td>0.005611</td>\n",
       "      <td>0.017583</td>\n",
       "      <td>MWMT</td>\n",
       "      <td>2014733</td>\n",
       "      <td>2267601</td>\n",
       "      <td>2140479</td>\n",
       "      <td>2075136</td>\n",
       "      <td>2102365</td>\n",
       "      <td>-12.710985</td>\n",
       "      <td>2164523</td>\n",
       "      <td>False</td>\n",
       "    </tr>\n",
       "    <tr>\n",
       "      <th>jcf7190000000000-77738</th>\n",
       "      <td>2</td>\n",
       "      <td>3</td>\n",
       "      <td>0.039097</td>\n",
       "      <td>0.154505</td>\n",
       "      <td>-11.188217</td>\n",
       "      <td>0.002525</td>\n",
       "      <td>0.009096</td>\n",
       "      <td>0.107181</td>\n",
       "      <td>MWMT</td>\n",
       "      <td>2</td>\n",
       "      <td>3</td>\n",
       "      <td>0.041063</td>\n",
       "      <td>0.145520</td>\n",
       "      <td>-11.733662</td>\n",
       "      <td>0.002525</td>\n",
       "      <td>0.008043</td>\n",
       "      <td>0.122896</td>\n",
       "      <td>MWMT</td>\n",
       "      <td>2</td>\n",
       "      <td>3</td>\n",
       "      <td>0.027552</td>\n",
       "      <td>0.151078</td>\n",
       "      <td>-4.989675</td>\n",
       "      <td>0.000964</td>\n",
       "      <td>0.006743</td>\n",
       "      <td>0.052424</td>\n",
       "      <td>MWMT</td>\n",
       "      <td>2</td>\n",
       "      <td>3</td>\n",
       "      <td>0.035289</td>\n",
       "      <td>0.145525</td>\n",
       "      <td>-12.354602</td>\n",
       "      <td>0.001393</td>\n",
       "      <td>0.005699</td>\n",
       "      <td>0.093200</td>\n",
       "      <td>MWMT</td>\n",
       "      <td>2</td>\n",
       "      <td>3</td>\n",
       "      <td>0.022239</td>\n",
       "      <td>0.157984</td>\n",
       "      <td>-9.640782</td>\n",
       "      <td>0.000811</td>\n",
       "      <td>0.006669</td>\n",
       "      <td>0.044195</td>\n",
       "      <td>MWMT</td>\n",
       "      <td>1590864</td>\n",
       "      <td>1811515</td>\n",
       "      <td>185404</td>\n",
       "      <td>2023695</td>\n",
       "      <td>918027</td>\n",
       "      <td>-9.981388</td>\n",
       "      <td>1077702</td>\n",
       "      <td>False</td>\n",
       "    </tr>\n",
       "    <tr>\n",
       "      <th>jcf7190000000000-77764</th>\n",
       "      <td>2</td>\n",
       "      <td>4</td>\n",
       "      <td>-0.079505</td>\n",
       "      <td>0.167924</td>\n",
       "      <td>-1.940167</td>\n",
       "      <td>-0.009583</td>\n",
       "      <td>0.019190</td>\n",
       "      <td>0.209350</td>\n",
       "      <td>MWMT</td>\n",
       "      <td>2</td>\n",
       "      <td>4</td>\n",
       "      <td>-0.048553</td>\n",
       "      <td>0.134093</td>\n",
       "      <td>-10.519567</td>\n",
       "      <td>-0.003799</td>\n",
       "      <td>0.009843</td>\n",
       "      <td>0.155211</td>\n",
       "      <td>MWMT</td>\n",
       "      <td>2</td>\n",
       "      <td>4</td>\n",
       "      <td>-0.076049</td>\n",
       "      <td>0.140049</td>\n",
       "      <td>-8.677595</td>\n",
       "      <td>-0.005720</td>\n",
       "      <td>0.011118</td>\n",
       "      <td>0.216894</td>\n",
       "      <td>MWMT</td>\n",
       "      <td>2</td>\n",
       "      <td>4</td>\n",
       "      <td>-0.029182</td>\n",
       "      <td>0.140738</td>\n",
       "      <td>-9.922823</td>\n",
       "      <td>-0.000073</td>\n",
       "      <td>0.012426</td>\n",
       "      <td>0.002032</td>\n",
       "      <td>MWMT</td>\n",
       "      <td>2</td>\n",
       "      <td>4</td>\n",
       "      <td>-0.016146</td>\n",
       "      <td>0.134182</td>\n",
       "      <td>-10.910335</td>\n",
       "      <td>-0.000106</td>\n",
       "      <td>0.009176</td>\n",
       "      <td>0.004013</td>\n",
       "      <td>MWMT</td>\n",
       "      <td>77050</td>\n",
       "      <td>1290113</td>\n",
       "      <td>626190</td>\n",
       "      <td>1027920</td>\n",
       "      <td>1468015</td>\n",
       "      <td>-8.394097</td>\n",
       "      <td>551460</td>\n",
       "      <td>False</td>\n",
       "    </tr>\n",
       "    <tr>\n",
       "      <th>jcf7190000000000-77784</th>\n",
       "      <td>2</td>\n",
       "      <td>5</td>\n",
       "      <td>-0.073913</td>\n",
       "      <td>0.150817</td>\n",
       "      <td>-8.604977</td>\n",
       "      <td>-0.002951</td>\n",
       "      <td>0.008278</td>\n",
       "      <td>0.141796</td>\n",
       "      <td>MWMT</td>\n",
       "      <td>2</td>\n",
       "      <td>5</td>\n",
       "      <td>-0.095359</td>\n",
       "      <td>0.152136</td>\n",
       "      <td>-7.801701</td>\n",
       "      <td>-0.005687</td>\n",
       "      <td>0.010279</td>\n",
       "      <td>0.236517</td>\n",
       "      <td>MWMT</td>\n",
       "      <td>2</td>\n",
       "      <td>5</td>\n",
       "      <td>-0.139000</td>\n",
       "      <td>0.132152</td>\n",
       "      <td>-7.418525</td>\n",
       "      <td>-0.011693</td>\n",
       "      <td>0.013303</td>\n",
       "      <td>0.420904</td>\n",
       "      <td>MWMT</td>\n",
       "      <td>2</td>\n",
       "      <td>5</td>\n",
       "      <td>-0.127927</td>\n",
       "      <td>0.136911</td>\n",
       "      <td>-8.060870</td>\n",
       "      <td>-0.010245</td>\n",
       "      <td>0.011709</td>\n",
       "      <td>0.418372</td>\n",
       "      <td>MWMT</td>\n",
       "      <td>2</td>\n",
       "      <td>5</td>\n",
       "      <td>-0.113937</td>\n",
       "      <td>0.144394</td>\n",
       "      <td>-7.363750</td>\n",
       "      <td>-0.007948</td>\n",
       "      <td>0.011738</td>\n",
       "      <td>0.302507</td>\n",
       "      <td>MWMT</td>\n",
       "      <td>608481</td>\n",
       "      <td>454890</td>\n",
       "      <td>399411</td>\n",
       "      <td>498756</td>\n",
       "      <td>392520</td>\n",
       "      <td>-7.849964</td>\n",
       "      <td>446399</td>\n",
       "      <td>False</td>\n",
       "    </tr>\n",
       "  </tbody>\n",
       "</table>\n",
       "</div>"
      ],
      "text/plain": [
       "                        chain_1-COVARIABLE  chain_1-MRK  chain_1-M_Pearson  \\\n",
       "jcf7190000000000-77602                   2            1          -0.059695   \n",
       "jcf7190000000000-77657                   2            2           0.020953   \n",
       "jcf7190000000000-77738                   2            3           0.039097   \n",
       "jcf7190000000000-77764                   2            4          -0.079505   \n",
       "jcf7190000000000-77784                   2            5          -0.073913   \n",
       "\n",
       "                        chain_1-SD_Pearson  chain_1-BF(dB)  chain_1-Beta_is  \\\n",
       "jcf7190000000000-77602            0.154870      -10.315651        -0.002027   \n",
       "jcf7190000000000-77657            0.153436      -12.323689         0.000968   \n",
       "jcf7190000000000-77738            0.154505      -11.188217         0.002525   \n",
       "jcf7190000000000-77764            0.167924       -1.940167        -0.009583   \n",
       "jcf7190000000000-77784            0.150817       -8.604977        -0.002951   \n",
       "\n",
       "                        chain_1-SD_Beta_is  chain_1-eBPis chain_1-env  \\\n",
       "jcf7190000000000-77602            0.007659       0.101651        MWMT   \n",
       "jcf7190000000000-77657            0.005721       0.062652        MWMT   \n",
       "jcf7190000000000-77738            0.009096       0.107181        MWMT   \n",
       "jcf7190000000000-77764            0.019190       0.209350        MWMT   \n",
       "jcf7190000000000-77784            0.008278       0.141796        MWMT   \n",
       "\n",
       "                        chain_2-COVARIABLE  chain_2-MRK  chain_2-M_Pearson  \\\n",
       "jcf7190000000000-77602                   2            1          -0.066420   \n",
       "jcf7190000000000-77657                   2            2           0.006919   \n",
       "jcf7190000000000-77738                   2            3           0.041063   \n",
       "jcf7190000000000-77764                   2            4          -0.048553   \n",
       "jcf7190000000000-77784                   2            5          -0.095359   \n",
       "\n",
       "                        chain_2-SD_Pearson  chain_2-BF(dB)  chain_2-Beta_is  \\\n",
       "jcf7190000000000-77602            0.143067      -11.442209        -0.002319   \n",
       "jcf7190000000000-77657            0.148635      -13.310383         0.000449   \n",
       "jcf7190000000000-77738            0.145520      -11.733662         0.002525   \n",
       "jcf7190000000000-77764            0.134093      -10.519567        -0.003799   \n",
       "jcf7190000000000-77784            0.152136       -7.801701        -0.005687   \n",
       "\n",
       "                        chain_2-SD_Beta_is  chain_2-eBPis chain_2-env  \\\n",
       "jcf7190000000000-77602            0.006078       0.153135        MWMT   \n",
       "jcf7190000000000-77657            0.005103       0.031532        MWMT   \n",
       "jcf7190000000000-77738            0.008043       0.122896        MWMT   \n",
       "jcf7190000000000-77764            0.009843       0.155211        MWMT   \n",
       "jcf7190000000000-77784            0.010279       0.236517        MWMT   \n",
       "\n",
       "                        chain_3-COVARIABLE  chain_3-MRK  chain_3-M_Pearson  \\\n",
       "jcf7190000000000-77602                   2            1          -0.077138   \n",
       "jcf7190000000000-77657                   2            2           0.027004   \n",
       "jcf7190000000000-77738                   2            3           0.027552   \n",
       "jcf7190000000000-77764                   2            4          -0.076049   \n",
       "jcf7190000000000-77784                   2            5          -0.139000   \n",
       "\n",
       "                        chain_3-SD_Pearson  chain_3-BF(dB)  chain_3-Beta_is  \\\n",
       "jcf7190000000000-77602            0.152742       -8.541995        -0.003609   \n",
       "jcf7190000000000-77657            0.151214      -12.768456         0.001106   \n",
       "jcf7190000000000-77738            0.151078       -4.989675         0.000964   \n",
       "jcf7190000000000-77764            0.140049       -8.677595        -0.005720   \n",
       "jcf7190000000000-77784            0.132152       -7.418525        -0.011693   \n",
       "\n",
       "                        chain_3-SD_Beta_is  chain_3-eBPis chain_3-env  \\\n",
       "jcf7190000000000-77602            0.007430       0.202620        MWMT   \n",
       "jcf7190000000000-77657            0.005475       0.075750        MWMT   \n",
       "jcf7190000000000-77738            0.006743       0.052424        MWMT   \n",
       "jcf7190000000000-77764            0.011118       0.216894        MWMT   \n",
       "jcf7190000000000-77784            0.013303       0.420904        MWMT   \n",
       "\n",
       "                        chain_4-COVARIABLE  chain_4-MRK  chain_4-M_Pearson  \\\n",
       "jcf7190000000000-77602                   2            1          -0.079436   \n",
       "jcf7190000000000-77657                   2            2          -0.001368   \n",
       "jcf7190000000000-77738                   2            3           0.035289   \n",
       "jcf7190000000000-77764                   2            4          -0.029182   \n",
       "jcf7190000000000-77784                   2            5          -0.127927   \n",
       "\n",
       "                        chain_4-SD_Pearson  chain_4-BF(dB)  chain_4-Beta_is  \\\n",
       "jcf7190000000000-77602            0.149906       -9.972365        -0.004994   \n",
       "jcf7190000000000-77657            0.152914      -12.528119        -0.000094   \n",
       "jcf7190000000000-77738            0.145525      -12.354602         0.001393   \n",
       "jcf7190000000000-77764            0.140738       -9.922823        -0.000073   \n",
       "jcf7190000000000-77784            0.136911       -8.060870        -0.010245   \n",
       "\n",
       "                        chain_4-SD_Beta_is  chain_4-eBPis chain_4-env  \\\n",
       "jcf7190000000000-77602            0.010911       0.188968        MWMT   \n",
       "jcf7190000000000-77657            0.004738       0.006900        MWMT   \n",
       "jcf7190000000000-77738            0.005699       0.093200        MWMT   \n",
       "jcf7190000000000-77764            0.012426       0.002032        MWMT   \n",
       "jcf7190000000000-77784            0.011709       0.418372        MWMT   \n",
       "\n",
       "                        chain_5-COVARIABLE  chain_5-MRK  chain_5-M_Pearson  \\\n",
       "jcf7190000000000-77602                   2            1          -0.060251   \n",
       "jcf7190000000000-77657                   2            2           0.009743   \n",
       "jcf7190000000000-77738                   2            3           0.022239   \n",
       "jcf7190000000000-77764                   2            4          -0.016146   \n",
       "jcf7190000000000-77784                   2            5          -0.113937   \n",
       "\n",
       "                        chain_5-SD_Pearson  chain_5-BF(dB)  chain_5-Beta_is  \\\n",
       "jcf7190000000000-77602            0.152622      -11.001017        -0.002196   \n",
       "jcf7190000000000-77657            0.150375      -12.624277         0.000279   \n",
       "jcf7190000000000-77738            0.157984       -9.640782         0.000811   \n",
       "jcf7190000000000-77764            0.134182      -10.910335        -0.000106   \n",
       "jcf7190000000000-77784            0.144394       -7.363750        -0.007948   \n",
       "\n",
       "                        chain_5-SD_Beta_is  chain_5-eBPis chain_5-env  \\\n",
       "jcf7190000000000-77602            0.006988       0.123017        MWMT   \n",
       "jcf7190000000000-77657            0.005611       0.017583        MWMT   \n",
       "jcf7190000000000-77738            0.006669       0.044195        MWMT   \n",
       "jcf7190000000000-77764            0.009176       0.004013        MWMT   \n",
       "jcf7190000000000-77784            0.011738       0.302507        MWMT   \n",
       "\n",
       "                        rank_chain_1-BF(dB)  rank_chain_2-BF(dB)  \\\n",
       "jcf7190000000000-77602              1198234              1696692   \n",
       "jcf7190000000000-77657              2014733              2267601   \n",
       "jcf7190000000000-77738              1590864              1811515   \n",
       "jcf7190000000000-77764                77050              1290113   \n",
       "jcf7190000000000-77784               608481               454890   \n",
       "\n",
       "                        rank_chain_3-BF(dB)  rank_chain_4-BF(dB)  \\\n",
       "jcf7190000000000-77602               594901              1048229   \n",
       "jcf7190000000000-77657              2140479              2075136   \n",
       "jcf7190000000000-77738               185404              2023695   \n",
       "jcf7190000000000-77764               626190              1027920   \n",
       "jcf7190000000000-77784               399411               498756   \n",
       "\n",
       "                        rank_chain_5-BF(dB)  mean_BF(dB)  rank_mean_BF(dB)  \\\n",
       "jcf7190000000000-77602              1508604   -10.254647           1203554   \n",
       "jcf7190000000000-77657              2102365   -12.710985           2164523   \n",
       "jcf7190000000000-77738               918027    -9.981388           1077702   \n",
       "jcf7190000000000-77764              1468015    -8.394097            551460   \n",
       "jcf7190000000000-77784               392520    -7.849964            446399   \n",
       "\n",
       "                        BF(dB)_gte20_for-gte3chains  \n",
       "jcf7190000000000-77602                        False  \n",
       "jcf7190000000000-77657                        False  \n",
       "jcf7190000000000-77738                        False  \n",
       "jcf7190000000000-77764                        False  \n",
       "jcf7190000000000-77784                        False  "
      ]
     },
     "execution_count": 44,
     "metadata": {},
     "output_type": "execute_result"
    }
   ],
   "source": [
    "# add in the new columns\n",
    "for env,df in envdfs.items():\n",
    "    update([env])\n",
    "    newcols = [col for col in new_envdfs[env].columns if col not in df.columns]\n",
    "    envdfs[env] = pd.merge(df, new_envdfs[env][newcols], right_index=True, left_index=True)\n",
    "envdfs[env].head()"
   ]
  },
  {
   "cell_type": "code",
   "execution_count": 46,
   "metadata": {},
   "outputs": [],
   "source": [
    "def write_file(df, file, sep='\\t', index=False):\n",
    "    import pandas\n",
    "    df['locus'] = df.index.tolist()\n",
    "    df = df[['locus'] + [col for col in df.columns if col != 'locus']]\n",
    "    df.to_csv(file, sep=sep, index=index)\n",
    "    return file"
   ]
  },
  {
   "cell_type": "code",
   "execution_count": 47,
   "metadata": {},
   "outputs": [
    {
     "name": "stdout",
     "output_type": "stream",
     "text": [
      "final\n",
      "19\n",
      "19\n"
     ]
    }
   ],
   "source": [
    "# save files\n",
    "jobs = []\n",
    "for env,df in envdfs.items():\n",
    "    file = op.join(finaldir, f'interior_maf-p05_RD-recalculated_ADP-lt-1000_{env}.txt')\n",
    "    jobs.append(lview.apply_async(write_file, *(df, file)))\n",
    "watch_async(jobs, phase='final')"
   ]
  },
  {
   "cell_type": "code",
   "execution_count": 48,
   "metadata": {},
   "outputs": [
    {
     "data": {
      "text/plain": [
       "'/lu213/brandon.lind/projects/pool_seq/DF_datasets/DF_pooled_GEA/DF_pooled/snpsANDindels/interior_variety/03_maf-p05_RD-recalculated_FDI/baypass/final_results'"
      ]
     },
     "execution_count": 48,
     "metadata": {},
     "output_type": "execute_result"
    }
   ],
   "source": [
    "finaldir"
   ]
  },
  {
   "cell_type": "code",
   "execution_count": 49,
   "metadata": {},
   "outputs": [],
   "source": [
    "# save pkl for easy loading\n",
    "pkldump(envdfs, op.join(finaldir, 'envdfs_after_ranking.pkl'))"
   ]
  },
  {
   "cell_type": "code",
   "execution_count": 50,
   "metadata": {},
   "outputs": [
    {
     "data": {
      "text/plain": [
       "'/lu213/brandon.lind/projects/pool_seq/DF_datasets/DF_pooled_GEA/DF_pooled/snpsANDindels/interior_variety/03_maf-p05_RD-recalculated_FDI/baypass/final_results/envdfs_after_ranking.pkl'"
      ]
     },
     "execution_count": 50,
     "metadata": {},
     "output_type": "execute_result"
    }
   ],
   "source": [
    "op.join(finaldir, 'envdfs_after_ranking.pkl')"
   ]
  },
  {
   "cell_type": "markdown",
   "metadata": {},
   "source": [
    "#### how many snps per env with mean BF > 20"
   ]
  },
  {
   "cell_type": "code",
   "execution_count": 53,
   "metadata": {},
   "outputs": [
    {
     "name": "stdout",
     "output_type": "stream",
     "text": [
      "\u001b[94m\u001b[1mInterior\n",
      "\u001b[0m\u001b[0m\n",
      "Env   Consistent  Mean\n",
      "AHM \t 1732 \t   2277\n",
      "CMD \t 930 \t   1537\n",
      "DD5 \t 303 \t   610\n",
      "DD_0 \t 483 \t   899\n",
      "EMT \t 717 \t   1191\n",
      "EXT \t 403 \t   872\n",
      "Eref \t 448 \t   872\n",
      "FFP \t 299 \t   551\n",
      "MAP \t 895 \t   1459\n",
      "MAT \t 339 \t   679\n",
      "MCMT \t 1055 \t   1692\n",
      "MSP \t 1055 \t   1827\n",
      "MWMT \t 342 \t   678\n",
      "NFFD \t 276 \t   523\n",
      "PAS \t 546 \t   993\n",
      "SHM \t 925 \t   1603\n",
      "TD \t 541 \t   1112\n",
      "bFFP \t 297 \t   577\n",
      "eFFP \t 296 \t   552\n"
     ]
    }
   ],
   "source": [
    "print(ColorText('Interior\\n').bold().blue())\n",
    "print('Env   Consistent  Mean')\n",
    "for env in sorted(envdfs.keys()):\n",
    "    df = envdfs[env]\n",
    "    print(env,'\\t',sum(df['BF(dB)_gte20_for-gte3chains']),'\\t  ',sum(df['mean_BF(dB)']>=10*math.log10(20)))"
   ]
  },
  {
   "cell_type": "code",
   "execution_count": null,
   "metadata": {},
   "outputs": [],
   "source": []
  },
  {
   "cell_type": "code",
   "execution_count": null,
   "metadata": {},
   "outputs": [],
   "source": []
  },
  {
   "cell_type": "code",
   "execution_count": null,
   "metadata": {},
   "outputs": [],
   "source": []
  },
  {
   "cell_type": "code",
   "execution_count": null,
   "metadata": {},
   "outputs": [],
   "source": []
  },
  {
   "cell_type": "code",
   "execution_count": null,
   "metadata": {},
   "outputs": [],
   "source": []
  },
  {
   "cell_type": "code",
   "execution_count": null,
   "metadata": {},
   "outputs": [],
   "source": []
  },
  {
   "cell_type": "code",
   "execution_count": null,
   "metadata": {},
   "outputs": [],
   "source": []
  },
  {
   "cell_type": "code",
   "execution_count": null,
   "metadata": {},
   "outputs": [],
   "source": []
  },
  {
   "cell_type": "code",
   "execution_count": null,
   "metadata": {},
   "outputs": [],
   "source": []
  },
  {
   "cell_type": "code",
   "execution_count": null,
   "metadata": {},
   "outputs": [],
   "source": []
  },
  {
   "cell_type": "code",
   "execution_count": null,
   "metadata": {},
   "outputs": [],
   "source": []
  },
  {
   "cell_type": "code",
   "execution_count": null,
   "metadata": {},
   "outputs": [],
   "source": []
  },
  {
   "cell_type": "code",
   "execution_count": null,
   "metadata": {},
   "outputs": [],
   "source": []
  },
  {
   "cell_type": "code",
   "execution_count": null,
   "metadata": {},
   "outputs": [],
   "source": []
  },
  {
   "cell_type": "code",
   "execution_count": null,
   "metadata": {},
   "outputs": [],
   "source": []
  },
  {
   "cell_type": "code",
   "execution_count": null,
   "metadata": {},
   "outputs": [],
   "source": []
  },
  {
   "cell_type": "code",
   "execution_count": null,
   "metadata": {},
   "outputs": [],
   "source": []
  },
  {
   "cell_type": "code",
   "execution_count": null,
   "metadata": {},
   "outputs": [],
   "source": []
  }
 ],
 "metadata": {
  "kernelspec": {
   "display_name": "Python 3",
   "language": "python",
   "name": "python3"
  },
  "language_info": {
   "codemirror_mode": {
    "name": "ipython",
    "version": 3
   },
   "file_extension": ".py",
   "mimetype": "text/x-python",
   "name": "python",
   "nbconvert_exporter": "python",
   "pygments_lexer": "ipython3",
   "version": "3.7.6"
  }
 },
 "nbformat": 4,
 "nbformat_minor": 4
}
