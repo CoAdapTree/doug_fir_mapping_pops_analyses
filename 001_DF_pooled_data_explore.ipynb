{
 "cells": [
  {
   "cell_type": "markdown",
   "metadata": {},
   "source": [
    "This notebook best viewed here: https://nbviewer.jupyter.org"
   ]
  },
  {
   "cell_type": "code",
   "execution_count": null,
   "metadata": {},
   "outputs": [],
   "source": []
  },
  {
   "cell_type": "markdown",
   "metadata": {},
   "source": [
    "This notebooke encompasses\n",
    "- sending files to start varscan_pipeline on server\n",
    "- maf filtering\n",
    "- LD pruning to get SNPs for structure estimation in GEA"
   ]
  },
  {
   "cell_type": "code",
   "execution_count": 1,
   "metadata": {},
   "outputs": [],
   "source": [
    "from pythonimports import *"
   ]
  },
  {
   "cell_type": "markdown",
   "metadata": {},
   "source": [
    "# copy over fastq and md5 files to compute canada server"
   ]
  },
  {
   "cell_type": "code",
   "execution_count": 2,
   "metadata": {},
   "outputs": [
    {
     "data": {
      "text/plain": [
       "352"
      ]
     },
     "execution_count": 2,
     "metadata": {},
     "output_type": "execute_result"
    }
   ],
   "source": [
    "DIR = '/data/fastq/mengmeng/CoAdapTree_DouglasFir/received_2019_Sep10'\n",
    "fastqs = fs(DIR, pattern='.fastq')\n",
    "len(fastqs)"
   ]
  },
  {
   "cell_type": "code",
   "execution_count": 4,
   "metadata": {},
   "outputs": [],
   "source": [
    "cmdtext = op.join(DIR, 'cp_to_graham_cmds.txt')\n",
    "with open(cmdtext, 'w') as o:\n",
    "    cmds = []\n",
    "    for fastq in fastqs:\n",
    "        cmds.append(f'rsync -avz {fastq} graham:/scratch/lindb/DF_pooled/')\n",
    "    o.write(\"%s\" % '\\n'.join(cmds))"
   ]
  },
  {
   "cell_type": "code",
   "execution_count": 8,
   "metadata": {},
   "outputs": [
    {
     "name": "stdout",
     "output_type": "stream",
     "text": [
      "56 56\n"
     ]
    }
   ],
   "source": [
    "lview, dview = get_client('default')"
   ]
  },
  {
   "cell_type": "code",
   "execution_count": 9,
   "metadata": {},
   "outputs": [],
   "source": [
    "def exe(cmd):\n",
    "    import os\n",
    "    os.system(cmd)"
   ]
  },
  {
   "cell_type": "code",
   "execution_count": 10,
   "metadata": {},
   "outputs": [
    {
     "data": {
      "text/plain": [
       "352"
      ]
     },
     "execution_count": 10,
     "metadata": {},
     "output_type": "execute_result"
    }
   ],
   "source": [
    "len(cmds)"
   ]
  },
  {
   "cell_type": "code",
   "execution_count": 11,
   "metadata": {
    "collapsed": true
   },
   "outputs": [
    {
     "name": "stdout",
     "output_type": "stream",
     "text": [
      "61\n",
      "352\n"
     ]
    },
    {
     "ename": "KeyboardInterrupt",
     "evalue": "",
     "output_type": "error",
     "traceback": [
      "\u001b[0;31m---------------------------------------------------------------------------\u001b[0m",
      "\u001b[0;31mKeyboardInterrupt\u001b[0m                         Traceback (most recent call last)",
      "\u001b[0;32m<ipython-input-11-096e3f4e5dca>\u001b[0m in \u001b[0;36m<module>\u001b[0;34m\u001b[0m\n\u001b[1;32m      1\u001b[0m \u001b[0mjobs\u001b[0m \u001b[0;34m=\u001b[0m \u001b[0mmake_jobs\u001b[0m\u001b[0;34m(\u001b[0m\u001b[0mcmds\u001b[0m\u001b[0;34m,\u001b[0m \u001b[0mexe\u001b[0m\u001b[0;34m,\u001b[0m \u001b[0mlview\u001b[0m\u001b[0;34m)\u001b[0m\u001b[0;34m\u001b[0m\u001b[0;34m\u001b[0m\u001b[0m\n\u001b[0;32m----> 2\u001b[0;31m \u001b[0mwatch_async\u001b[0m\u001b[0;34m(\u001b[0m\u001b[0mjobs\u001b[0m\u001b[0;34m)\u001b[0m\u001b[0;34m\u001b[0m\u001b[0;34m\u001b[0m\u001b[0m\n\u001b[0m",
      "\u001b[0;32m/data/programs/brandon_anaconda3/mypy/pythonimports/pythonimports.py\u001b[0m in \u001b[0;36mwatch_async\u001b[0;34m(jobs, phase)\u001b[0m\n\u001b[1;32m    186\u001b[0m     \u001b[0mcount\u001b[0m \u001b[0;34m=\u001b[0m \u001b[0;36m0\u001b[0m\u001b[0;34m\u001b[0m\u001b[0;34m\u001b[0m\u001b[0m\n\u001b[1;32m    187\u001b[0m     \u001b[0;32mwhile\u001b[0m \u001b[0mcount\u001b[0m \u001b[0;34m!=\u001b[0m \u001b[0mlen\u001b[0m\u001b[0;34m(\u001b[0m\u001b[0mjobs\u001b[0m\u001b[0;34m)\u001b[0m\u001b[0;34m:\u001b[0m\u001b[0;34m\u001b[0m\u001b[0;34m\u001b[0m\u001b[0m\n\u001b[0;32m--> 188\u001b[0;31m         \u001b[0mtime\u001b[0m\u001b[0;34m.\u001b[0m\u001b[0msleep\u001b[0m\u001b[0;34m(\u001b[0m\u001b[0;36m5\u001b[0m\u001b[0;34m)\u001b[0m\u001b[0;34m\u001b[0m\u001b[0;34m\u001b[0m\u001b[0m\n\u001b[0m\u001b[1;32m    189\u001b[0m         \u001b[0mcount\u001b[0m \u001b[0;34m=\u001b[0m \u001b[0;36m0\u001b[0m\u001b[0;34m\u001b[0m\u001b[0;34m\u001b[0m\u001b[0m\n\u001b[1;32m    190\u001b[0m         \u001b[0;32mfor\u001b[0m \u001b[0mj\u001b[0m \u001b[0;32min\u001b[0m \u001b[0mjobs\u001b[0m\u001b[0;34m:\u001b[0m\u001b[0;34m\u001b[0m\u001b[0;34m\u001b[0m\u001b[0m\n",
      "\u001b[0;31mKeyboardInterrupt\u001b[0m: "
     ]
    }
   ],
   "source": [
    "jobs = make_jobs(cmds, exe, lview)\n",
    "watch_async(jobs)"
   ]
  },
  {
   "cell_type": "code",
   "execution_count": 12,
   "metadata": {},
   "outputs": [
    {
     "data": {
      "text/plain": [
       "'/data/fastq/mengmeng/CoAdapTree_DouglasFir/received_2019_Sep10/cp_to_graham_cmds.txt'"
      ]
     },
     "execution_count": 12,
     "metadata": {},
     "output_type": "execute_result"
    }
   ],
   "source": [
    "cmdtext"
   ]
  },
  {
   "cell_type": "code",
   "execution_count": 13,
   "metadata": {},
   "outputs": [],
   "source": [
    "for j in jobs:\n",
    "    x = j.r"
   ]
  },
  {
   "cell_type": "code",
   "execution_count": 18,
   "metadata": {},
   "outputs": [
    {
     "data": {
      "text/plain": [
       "3"
      ]
     },
     "execution_count": 18,
     "metadata": {},
     "output_type": "execute_result"
    }
   ],
   "source": [
    "needed = []\n",
    "for cmd in cmds:\n",
    "    fq = op.basename(cmd.split()[2])\n",
    "    for x in ['NS.1195.001.D707---D504.DF_p54_cap25_kit3_R1.fastq.gz',\n",
    "              'NS.1195.001.D707---D504.DF_p54_cap25_kit3_R2.fastq.gz',\n",
    "              'NS.1195.001.D707---D505.DF_p85_cap27_kit3_R1.fastq.gz']:\n",
    "        if fq == x:\n",
    "            needed.append(cmd)\n",
    "len(needed)"
   ]
  },
  {
   "cell_type": "code",
   "execution_count": 20,
   "metadata": {},
   "outputs": [
    {
     "name": "stdout",
     "output_type": "stream",
     "text": [
      "3\n",
      "3\n"
     ]
    }
   ],
   "source": [
    "jobs = make_jobs(needed, exe, lview)\n",
    "watch_async(jobs)"
   ]
  },
  {
   "cell_type": "markdown",
   "metadata": {},
   "source": [
    "# filter for MAF"
   ]
  },
  {
   "cell_type": "code",
   "execution_count": 2,
   "metadata": {},
   "outputs": [
    {
     "name": "stdout",
     "output_type": "stream",
     "text": [
      "56 56\n"
     ]
    }
   ],
   "source": [
    "lview,dview = get_client('default')"
   ]
  },
  {
   "cell_type": "code",
   "execution_count": 3,
   "metadata": {},
   "outputs": [],
   "source": [
    "def maf_filter(f):\n",
    "    \"\"\"filter MAF >= 0.01, write to file.\"\"\"\n",
    "    import pandas\n",
    "    import os\n",
    "    chunks = pandas.read_csv(f, sep='\\t', chunksize=10000)\n",
    "    dfs = []\n",
    "    for chunk in chunks:\n",
    "#         if len(dfs) % 5 == 0:\n",
    "#             update([op.basename(f), len(dfs)])\n",
    "        df = chunk[(chunk['AF'].astype(float) >= 0.01) & (chunk['AF'].astype(float) <= 0.99)].copy()\n",
    "        df['MAF'] = df['AF']\n",
    "        df.loc[df['AF'].astype(float) > 0.5, 'MAF'] = 1 - chunk['AF'][chunk['AF'].astype(float) > 0.5]\n",
    "        dfs.append(df)\n",
    "    \n",
    "    df = pandas.concat(dfs)\n",
    "    print(df.shape)\n",
    "    \n",
    "    out = f.replace(\".txt\", \"_maf.txt\").replace('02_baseline_filtered', '03_maf-p01_RD-recalculated')\n",
    "    makedir(os.path.dirname(out))\n",
    "    \n",
    "    df.to_csv(out, sep='\\t', index=False)\n",
    "    print('done!')\n",
    "dview['maf_filter'] = maf_filter\n",
    "dview['makedir'] = makedir"
   ]
  },
  {
   "cell_type": "code",
   "execution_count": 4,
   "metadata": {},
   "outputs": [
    {
     "data": {
      "text/plain": [
       "['/data/projects/pool_seq/DF_datasets/DF_pooled_GEA/DF_pooled/snpsANDindels/02_baseline_filtered/DF_pooled-varscan_all_bedfiles_PARALOGS.txt',\n",
       " '/data/projects/pool_seq/DF_datasets/DF_pooled_GEA/DF_pooled/snpsANDindels/02_baseline_filtered/DF_pooled-varscan_all_bedfiles_REPEATS.txt',\n",
       " '/data/projects/pool_seq/DF_datasets/DF_pooled_GEA/DF_pooled/snpsANDindels/02_baseline_filtered/DF_pooled-varscan_all_bedfiles_SNP.txt']"
      ]
     },
     "execution_count": 4,
     "metadata": {},
     "output_type": "execute_result"
    }
   ],
   "source": [
    "# create dirs, get the baseline filtered files\n",
    "DIR = '/data/projects/pool_seq/DF_datasets/DF_pooled_GEA'\n",
    "snpdir = op.join(DIR, 'DF_pooled/snpsANDindels')\n",
    "basedir = op.join(snpdir, '02_baseline_filtered')\n",
    "basefiles = [f for f in fs(basedir) if '.md5' not in f and 'INDEL' not in f]\n",
    "basefiles"
   ]
  },
  {
   "cell_type": "code",
   "execution_count": 7,
   "metadata": {},
   "outputs": [
    {
     "name": "stdout",
     "output_type": "stream",
     "text": [
      "3\n",
      "3\n"
     ]
    }
   ],
   "source": [
    "jobs = make_jobs(basefiles, maf_filter, lview)\n",
    "watch_async(jobs)"
   ]
  },
  {
   "cell_type": "markdown",
   "metadata": {},
   "source": [
    " "
   ]
  },
  {
   "cell_type": "markdown",
   "metadata": {},
   "source": [
    " "
   ]
  },
  {
   "cell_type": "markdown",
   "metadata": {},
   "source": [
    " "
   ]
  },
  {
   "cell_type": "markdown",
   "metadata": {},
   "source": [
    " "
   ]
  },
  {
   "cell_type": "markdown",
   "metadata": {},
   "source": [
    " "
   ]
  },
  {
   "cell_type": "markdown",
   "metadata": {},
   "source": [
    "# Recalcuate RD\n",
    "\n",
    "Looking at our testdata (1 poolseq pop vs indSeq of same individuals), AD/DP was consistent with the frequency prediction from GATK. We saw that adjusting FREQ to AD / (AD + RD) decreased concordance between the two datasets. So that we are consistent with respect to uncorrected and corrected, I'm adjusting RD = DP - AD so we don't have to make adjustments in the future"
   ]
  },
  {
   "cell_type": "code",
   "execution_count": 1,
   "metadata": {},
   "outputs": [],
   "source": [
    "from pythonimports import *"
   ]
  },
  {
   "cell_type": "code",
   "execution_count": 2,
   "metadata": {},
   "outputs": [
    {
     "name": "stdout",
     "output_type": "stream",
     "text": [
      "51 51\n"
     ]
    }
   ],
   "source": [
    "lview,dview = get_client()"
   ]
  },
  {
   "cell_type": "code",
   "execution_count": 17,
   "metadata": {},
   "outputs": [
    {
     "data": {
      "text/plain": [
       "['/data/projects/pool_seq/DF_datasets/DF_pooled_GEA/DF_pooled/snpsANDindels/03_maf-p01_RD-recalculated/DF_pooled-varscan_all_bedfiles_PARALOGS_maf.txt',\n",
       " '/data/projects/pool_seq/DF_datasets/DF_pooled_GEA/DF_pooled/snpsANDindels/03_maf-p01_RD-recalculated/DF_pooled-varscan_all_bedfiles_REPEATS_maf.txt',\n",
       " '/data/projects/pool_seq/DF_datasets/DF_pooled_GEA/DF_pooled/snpsANDindels/03_maf-p01_RD-recalculated/DF_pooled-varscan_all_bedfiles_SNP_maf.txt']"
      ]
     },
     "execution_count": 17,
     "metadata": {},
     "output_type": "execute_result"
    }
   ],
   "source": [
    "DIR = '/data/projects/pool_seq/DF_datasets/DF_pooled_GEA/DF_pooled/snpsANDindels/03_maf-p01_RD-recalculated'\n",
    "files = fs(DIR, endswith='maf.txt', exclude='README')\n",
    "files"
   ]
  },
  {
   "cell_type": "code",
   "execution_count": 6,
   "metadata": {},
   "outputs": [
    {
     "name": "stdout",
     "output_type": "stream",
     "text": [
      "/data/projects/pool_seq/DF_datasets/DF_pooled_GEA/DF_pooled/snpsANDindels/03_maf-p01_RD-recalculated/DF_pooled-varscan_all_bedfiles_PARALOGS_maf.txt\n"
     ]
    },
    {
     "name": "stderr",
     "output_type": "stream",
     "text": [
      "100%|██████████| 87/87 [00:00<00:00, 4085.22it/s]\n"
     ]
    },
    {
     "name": "stdout",
     "output_type": "stream",
     "text": [
      "/data/projects/pool_seq/DF_datasets/DF_pooled_GEA/DF_pooled/snpsANDindels/03_maf-p01_RD-recalculated/DF_pooled-varscan_all_bedfiles_REPEATS_maf.txt\n"
     ]
    },
    {
     "name": "stderr",
     "output_type": "stream",
     "text": [
      "100%|██████████| 87/87 [00:00<00:00, 745.82it/s]\n"
     ]
    }
   ],
   "source": [
    "# read in paralog and repeats, recalc RD\n",
    "def recalc_rd(df):\n",
    "    \"\"\"Recalculate RD so RD = DP - AD.\"\"\"\n",
    "    rdcols = [col for col in df if '.RD' in col]\n",
    "    for col in nb(rdcols):\n",
    "        pop = col.split(\".\")[0]\n",
    "        df[f'{pop}.RD'] = df[f'{pop}.DP'] - df[f'{pop}.AD']\n",
    "    return df\n",
    "    \n",
    "dfs = {}\n",
    "for f in files[:-1]:\n",
    "    print(f)\n",
    "    df = pd.read_table(f)\n",
    "    dfs[f] = recalc_rd(df)"
   ]
  },
  {
   "cell_type": "code",
   "execution_count": 4,
   "metadata": {},
   "outputs": [],
   "source": [
    "def get_skipto_df(f, skipto, nrows, cols=None):\n",
    "    \"\"\"Retrieve dataframe so that all rows are captured when iterating.\n",
    "    \n",
    "    f = filename to open\n",
    "    skipto = row number to skip, read rows thereafter\n",
    "    nrows = how many rows to read from f\n",
    "    \"\"\"\n",
    "    import pandas\n",
    "    \n",
    "    if skipto == 0:\n",
    "        df = pandas.read_table(f, nrows=nrows-1)\n",
    "    else:\n",
    "        df = pandas.read_table(f, skiprows=range(1, skipto), nrows=nrows)\n",
    "    \n",
    "    if cols is not None:\n",
    "        if isinstance(cols, str):\n",
    "            cols = [cols]\n",
    "        df = df[cols].copy()\n",
    "    \n",
    "    return df\n",
    "dview['get_skipto_df'] = get_skipto_df"
   ]
  },
  {
   "cell_type": "code",
   "execution_count": 5,
   "metadata": {},
   "outputs": [
    {
     "name": "stdout",
     "output_type": "stream",
     "text": [
      "DF_pooled-varscan_all_bedfiles_PARALOGS_maf_RD-recalculated.txt 1629\n",
      "DF_pooled-varscan_all_bedfiles_REPEATS_maf_RD-recalculated.txt 220443\n",
      "DF_pooled-varscan_all_bedfiles_SNP_maf_RD-recalculated.txt 6728422\n"
     ]
    }
   ],
   "source": [
    "# get linenums, includes header\n",
    "linenums = {}\n",
    "for f in files:\n",
    "    out = !wc -l $f\n",
    "    linenums[f] = int(out[0].split()[0])\n",
    "    print(op.basename(f), linenums[f])"
   ]
  },
  {
   "cell_type": "code",
   "execution_count": 6,
   "metadata": {},
   "outputs": [
    {
     "name": "stdout",
     "output_type": "stream",
     "text": [
      "135\n",
      "135\n"
     ]
    }
   ],
   "source": [
    "# read in SNPs in parallel, \n",
    "nrows = 50000\n",
    "jobs = []\n",
    "count = 0\n",
    "for skipto in range(0, linenums[files[-1]], nrows):\n",
    "    num = str(count).zfill(4)\n",
    "    jobs.append(lview.apply_async(get_skipto_df, *(files[-1], skipto, nrows)))\n",
    "    count += 1\n",
    "watch_async(jobs)"
   ]
  },
  {
   "cell_type": "code",
   "execution_count": null,
   "metadata": {},
   "outputs": [],
   "source": [
    "# recalc_rd for SNPs\n",
    "dfs[files[-1]] = recalc_rd(pd.concat([j.r for j in jobs]))"
   ]
  },
  {
   "cell_type": "code",
   "execution_count": 11,
   "metadata": {},
   "outputs": [
    {
     "name": "stdout",
     "output_type": "stream",
     "text": [
      "/data/projects/pool_seq/DF_datasets/DF_pooled_GEA/DF_pooled/snpsANDindels/03_maf-p01_RD-recalculated/DF_pooled-varscan_all_bedfiles_PARALOGS_maf.txt\n",
      "\t /data/projects/pool_seq/DF_datasets/DF_pooled_GEA/DF_pooled/snpsANDindels/03_maf-p01_RD-recalculated/DF_pooled-varscan_all_bedfiles_PARALOGS_maf_RD-recalculated.txt\n",
      "/data/projects/pool_seq/DF_datasets/DF_pooled_GEA/DF_pooled/snpsANDindels/03_maf-p01_RD-recalculated/DF_pooled-varscan_all_bedfiles_REPEATS_maf.txt\n",
      "\t /data/projects/pool_seq/DF_datasets/DF_pooled_GEA/DF_pooled/snpsANDindels/03_maf-p01_RD-recalculated/DF_pooled-varscan_all_bedfiles_REPEATS_maf_RD-recalculated.txt\n",
      "/data/projects/pool_seq/DF_datasets/DF_pooled_GEA/DF_pooled/snpsANDindels/03_maf-p01_RD-recalculated/DF_pooled-varscan_all_bedfiles_SNP_maf.txt\n",
      "\t /data/projects/pool_seq/DF_datasets/DF_pooled_GEA/DF_pooled/snpsANDindels/03_maf-p01_RD-recalculated/DF_pooled-varscan_all_bedfiles_SNP_maf_RD-recalculated.txt\n"
     ]
    }
   ],
   "source": [
    "for f,df in dfs.items():\n",
    "    print(f)\n",
    "    newf = f.replace(\"_maf.txt\", \"_maf_RD-recalculated.txt\")\n",
    "    print('\\t', newf)\n",
    "    df.to_csv(newf, sep='\\t', index=False)"
   ]
  },
  {
   "cell_type": "markdown",
   "metadata": {},
   "source": [
    " "
   ]
  },
  {
   "cell_type": "markdown",
   "metadata": {},
   "source": [
    " "
   ]
  },
  {
   "cell_type": "markdown",
   "metadata": {},
   "source": [
    " "
   ]
  },
  {
   "cell_type": "markdown",
   "metadata": {},
   "source": [
    " "
   ]
  },
  {
   "cell_type": "markdown",
   "metadata": {},
   "source": [
    " "
   ]
  },
  {
   "cell_type": "markdown",
   "metadata": {},
   "source": [
    " "
   ]
  },
  {
   "cell_type": "markdown",
   "metadata": {},
   "source": [
    "# Choose SNPs for GEA structure correction in baypass\n",
    "\n",
    "for SNPs with MAF > 0.01 and for all pops: 40 < DP < 1000, randomly choose one snp per contig (for contigs > 1Kbp), then LD prune so no pairwise r2 > 99.9th percentile of r2"
   ]
  },
  {
   "cell_type": "markdown",
   "metadata": {},
   "source": [
    "#### get the snps"
   ]
  },
  {
   "cell_type": "code",
   "execution_count": 3,
   "metadata": {},
   "outputs": [],
   "source": [
    "from pythonimports import *\n",
    "\n",
    "def get_mafdict(afs, roundto):\n",
    "    # bins for p52 depth\n",
    "    mafs = [round(1-float(af),roundto) if float(af) > 0.5 else round(float(af),roundto) for af in afs]\n",
    "    t = table(mafs)\n",
    "    mafsdict = OrderedDict()\n",
    "    for k in sorted(t):\n",
    "        newk = '%.10f' % k\n",
    "        if not newk in mafsdict:\n",
    "            mafsdict[newk] = t[k]\n",
    "        else:\n",
    "            mafsdict[newk] += t[k]\n",
    "    retdict = OrderedDict()\n",
    "    for newk,count in mafsdict.items():\n",
    "        retdict[newk] = count / sum(mafsdict.values())\n",
    "    print(len(retdict.keys()))\n",
    "\n",
    "    return retdict\n",
    "\n",
    "def subcategorybar(X, vals, width=.9):\n",
    "    n = len(vals)\n",
    "    _X = np.arange(len(X))\n",
    "    for i in range(n):\n",
    "        plt.bar(_X - width/2. + i/float(n)*width, vals[i], \n",
    "                width=width/float(n), align=\"edge\")   \n",
    "    plt.xticks(_X, X)\n",
    "\n",
    "def make_mafdict_fig(pruned_snpdict, all_snpdict, title=None):\n",
    "    fig = plt.figure(figsize=(25,5))\n",
    "    X = ['%.3f' % float(key) for key in sorted(keys(pruned_snpdict))]\n",
    "    Y = [pruned_snpdict[freq] for freq in sorted(keys(pruned_snpdict))]\n",
    "    Z = [all_snpdict[freq] for freq in sorted(keys(all_snpdict))]\n",
    "    subcategorybar(X, [Y,Z])\n",
    "    plt.legend(['pruned snps', 'all snps'],fontsize=20)\n",
    "    plt.ylabel('proportion of SNPs in category',size=20)\n",
    "    plt.xlabel('minor allele frequency',size=20)\n",
    "    plt.title(title, size=20)\n",
    "    plt.show()"
   ]
  },
  {
   "cell_type": "code",
   "execution_count": 4,
   "metadata": {},
   "outputs": [
    {
     "name": "stdout",
     "output_type": "stream",
     "text": [
      "56 56\n"
     ]
    }
   ],
   "source": [
    "lview,dview = get_client()"
   ]
  },
  {
   "cell_type": "code",
   "execution_count": 5,
   "metadata": {},
   "outputs": [],
   "source": [
    "snpdir = '/data/projects/pool_seq/DF_datasets/DF_pooled_GEA/DF_pooled/snpsANDindels'"
   ]
  },
  {
   "cell_type": "code",
   "execution_count": 6,
   "metadata": {},
   "outputs": [],
   "source": [
    "def filter_depth(*args):\n",
    "    \"\"\"Filter min/max depth, reduce columns.\"\"\"\n",
    "    chunk = get_skipto_df(*args)\n",
    "    dpcols = [col for col in chunk.columns if '.DP' in col]\n",
    "    freqcols = [col for col in chunk.columns if '.FREQ' in col]\n",
    "    cols = ['CHROM', 'locus', 'AF', 'MAF'] + dpcols + freqcols\n",
    "    chunk = chunk[cols].copy()\n",
    "    for col in dpcols:\n",
    "        chunk = chunk[chunk[col] >= 20].copy()\n",
    "        chunk = chunk[chunk[col] < 1000].copy()\n",
    "    chunk.index = chunk['locus'].tolist()\n",
    "    return chunk"
   ]
  },
  {
   "cell_type": "code",
   "execution_count": 9,
   "metadata": {},
   "outputs": [
    {
     "data": {
      "text/plain": [
       "True"
      ]
     },
     "execution_count": 9,
     "metadata": {},
     "output_type": "execute_result"
    }
   ],
   "source": [
    "mafdir = op.join(snpdir, '03_maf-p01_RD-recalculated')\n",
    "f = op.join(mafdir, 'DF_pooled-varscan_all_bedfiles_SNP_maf_RD-recalculated.txt')\n",
    "op.exists(f)"
   ]
  },
  {
   "cell_type": "code",
   "execution_count": 26,
   "metadata": {},
   "outputs": [
    {
     "data": {
      "text/plain": [
       "['6728422 /data/projects/pool_seq/DF_datasets/DF_pooled_GEA/DF_pooled/snpsANDindels/03_maf-p01/DF_pooled-varscan_all_bedfiles_SNP_maf.txt']"
      ]
     },
     "execution_count": 26,
     "metadata": {},
     "output_type": "execute_result"
    }
   ],
   "source": [
    "out = !wc -l $f\n",
    "out"
   ]
  },
  {
   "cell_type": "code",
   "execution_count": 7,
   "metadata": {},
   "outputs": [
    {
     "name": "stdout",
     "output_type": "stream",
     "text": [
      "6728421\n"
     ]
    }
   ],
   "source": [
    "linenums = int(out[0].split()[0]) - 1\n",
    "linenums"
   ]
  },
  {
   "cell_type": "code",
   "execution_count": 10,
   "metadata": {},
   "outputs": [],
   "source": [
    "linenums = 6728421"
   ]
  },
  {
   "cell_type": "code",
   "execution_count": 12,
   "metadata": {},
   "outputs": [
    {
     "name": "stdout",
     "output_type": "stream",
     "text": [
      "135\n",
      "135\n"
     ]
    }
   ],
   "source": [
    "# filter for depth in parallel as I read it in\n",
    "nrows = 50000\n",
    "jobs = []\n",
    "for skipto in range(0, linenums, nrows):\n",
    "    jobs.append(lview.apply_async(filter_depth, *(f, skipto, nrows)))\n",
    "watch_async(jobs)"
   ]
  },
  {
   "cell_type": "code",
   "execution_count": 13,
   "metadata": {},
   "outputs": [
    {
     "name": "stdout",
     "output_type": "stream",
     "text": [
      "(1995933, 178)\n"
     ]
    },
    {
     "data": {
      "text/html": [
       "<div>\n",
       "<style scoped>\n",
       "    .dataframe tbody tr th:only-of-type {\n",
       "        vertical-align: middle;\n",
       "    }\n",
       "\n",
       "    .dataframe tbody tr th {\n",
       "        vertical-align: top;\n",
       "    }\n",
       "\n",
       "    .dataframe thead th {\n",
       "        text-align: right;\n",
       "    }\n",
       "</style>\n",
       "<table border=\"1\" class=\"dataframe\">\n",
       "  <thead>\n",
       "    <tr style=\"text-align: right;\">\n",
       "      <th></th>\n",
       "      <th>CHROM</th>\n",
       "      <th>locus</th>\n",
       "      <th>AF</th>\n",
       "      <th>MAF</th>\n",
       "      <th>DF_p1.DP</th>\n",
       "      <th>DF_p18.DP</th>\n",
       "      <th>DF_p19.DP</th>\n",
       "      <th>DF_p2.DP</th>\n",
       "      <th>DF_p20.DP</th>\n",
       "      <th>DF_p23.DP</th>\n",
       "      <th>DF_p24.DP</th>\n",
       "      <th>DF_p25.DP</th>\n",
       "      <th>DF_p26.DP</th>\n",
       "      <th>DF_p27.DP</th>\n",
       "      <th>DF_p28.DP</th>\n",
       "      <th>DF_p10.DP</th>\n",
       "      <th>DF_p29.DP</th>\n",
       "      <th>DF_p3.DP</th>\n",
       "      <th>DF_p30.DP</th>\n",
       "      <th>DF_p31.DP</th>\n",
       "      <th>DF_p32.DP</th>\n",
       "      <th>DF_p33.DP</th>\n",
       "      <th>DF_p34.DP</th>\n",
       "      <th>DF_p35.DP</th>\n",
       "      <th>DF_p36.DP</th>\n",
       "      <th>DF_p37.DP</th>\n",
       "      <th>DF_p11.DP</th>\n",
       "      <th>DF_p38.DP</th>\n",
       "      <th>DF_p39.DP</th>\n",
       "      <th>DF_p4.DP</th>\n",
       "      <th>DF_p40.DP</th>\n",
       "      <th>DF_p41.DP</th>\n",
       "      <th>DF_p42.DP</th>\n",
       "      <th>DF_p43.DP</th>\n",
       "      <th>DF_p44.DP</th>\n",
       "      <th>DF_p45.DP</th>\n",
       "      <th>DF_p46.DP</th>\n",
       "      <th>DF_p12.DP</th>\n",
       "      <th>DF_p47.DP</th>\n",
       "      <th>DF_p48.DP</th>\n",
       "      <th>DF_p49.DP</th>\n",
       "      <th>DF_p5.DP</th>\n",
       "      <th>DF_p50.DP</th>\n",
       "      <th>DF_p51.DP</th>\n",
       "      <th>DF_p52.DP</th>\n",
       "      <th>DF_p53.DP</th>\n",
       "      <th>DF_p54.DP</th>\n",
       "      <th>DF_p55.DP</th>\n",
       "      <th>DF_p13.DP</th>\n",
       "      <th>DF_p56.DP</th>\n",
       "      <th>...</th>\n",
       "      <th>DF_p5.FREQ</th>\n",
       "      <th>DF_p50.FREQ</th>\n",
       "      <th>DF_p51.FREQ</th>\n",
       "      <th>DF_p52.FREQ</th>\n",
       "      <th>DF_p53.FREQ</th>\n",
       "      <th>DF_p54.FREQ</th>\n",
       "      <th>DF_p55.FREQ</th>\n",
       "      <th>DF_p13.FREQ</th>\n",
       "      <th>DF_p56.FREQ</th>\n",
       "      <th>DF_p57.FREQ</th>\n",
       "      <th>DF_p58.FREQ</th>\n",
       "      <th>DF_p59.FREQ</th>\n",
       "      <th>DF_p6.FREQ</th>\n",
       "      <th>DF_p60.FREQ</th>\n",
       "      <th>DF_p61.FREQ</th>\n",
       "      <th>DF_p62.FREQ</th>\n",
       "      <th>DF_p7.FREQ</th>\n",
       "      <th>DF_p72.FREQ</th>\n",
       "      <th>DF_p14.FREQ</th>\n",
       "      <th>DF_p73.FREQ</th>\n",
       "      <th>DF_p74.FREQ</th>\n",
       "      <th>DF_p75.FREQ</th>\n",
       "      <th>DF_p76.FREQ</th>\n",
       "      <th>DF_p77.FREQ</th>\n",
       "      <th>DF_p78.FREQ</th>\n",
       "      <th>DF_p79.FREQ</th>\n",
       "      <th>DF_p8.FREQ</th>\n",
       "      <th>DF_p80.FREQ</th>\n",
       "      <th>DF_p81.FREQ</th>\n",
       "      <th>DF_p15.FREQ</th>\n",
       "      <th>DF_p82.FREQ</th>\n",
       "      <th>DF_p83.FREQ</th>\n",
       "      <th>DF_p84.FREQ</th>\n",
       "      <th>DF_p85.FREQ</th>\n",
       "      <th>DF_p86.FREQ</th>\n",
       "      <th>DF_p87.FREQ</th>\n",
       "      <th>DF_p88.FREQ</th>\n",
       "      <th>DF_p89.FREQ</th>\n",
       "      <th>DF_p9.FREQ</th>\n",
       "      <th>DF_p90.FREQ</th>\n",
       "      <th>DF_p16.FREQ</th>\n",
       "      <th>DF_p91.FREQ</th>\n",
       "      <th>DF_p92.FREQ</th>\n",
       "      <th>DF_p93.FREQ</th>\n",
       "      <th>DF_p94.FREQ</th>\n",
       "      <th>DF_p95.FREQ</th>\n",
       "      <th>DF_p96.FREQ</th>\n",
       "      <th>DF_p97.FREQ</th>\n",
       "      <th>DF_p98.FREQ</th>\n",
       "      <th>DF_p17.FREQ</th>\n",
       "    </tr>\n",
       "  </thead>\n",
       "  <tbody>\n",
       "    <tr>\n",
       "      <th>jcf7190000000004-54587</th>\n",
       "      <td>jcf7190000000004</td>\n",
       "      <td>jcf7190000000004-54587</td>\n",
       "      <td>0.105580</td>\n",
       "      <td>0.105580</td>\n",
       "      <td>76.0</td>\n",
       "      <td>52.0</td>\n",
       "      <td>69.0</td>\n",
       "      <td>31.0</td>\n",
       "      <td>35.0</td>\n",
       "      <td>48.0</td>\n",
       "      <td>72.0</td>\n",
       "      <td>65.0</td>\n",
       "      <td>52.0</td>\n",
       "      <td>67.0</td>\n",
       "      <td>41.0</td>\n",
       "      <td>62.0</td>\n",
       "      <td>78.0</td>\n",
       "      <td>59.0</td>\n",
       "      <td>55.0</td>\n",
       "      <td>41.0</td>\n",
       "      <td>61.0</td>\n",
       "      <td>64.0</td>\n",
       "      <td>71.0</td>\n",
       "      <td>64.0</td>\n",
       "      <td>54.0</td>\n",
       "      <td>37.0</td>\n",
       "      <td>58.0</td>\n",
       "      <td>49.0</td>\n",
       "      <td>45.0</td>\n",
       "      <td>60.0</td>\n",
       "      <td>22.0</td>\n",
       "      <td>42.0</td>\n",
       "      <td>26.0</td>\n",
       "      <td>67.0</td>\n",
       "      <td>67.0</td>\n",
       "      <td>57.0</td>\n",
       "      <td>53.0</td>\n",
       "      <td>75.0</td>\n",
       "      <td>51.0</td>\n",
       "      <td>57.0</td>\n",
       "      <td>66.0</td>\n",
       "      <td>51.0</td>\n",
       "      <td>52.0</td>\n",
       "      <td>57.0</td>\n",
       "      <td>69.0</td>\n",
       "      <td>62.0</td>\n",
       "      <td>66.0</td>\n",
       "      <td>67.0</td>\n",
       "      <td>59.0</td>\n",
       "      <td>55.0</td>\n",
       "      <td>...</td>\n",
       "      <td>19.61%</td>\n",
       "      <td>15.38%</td>\n",
       "      <td>42.11%</td>\n",
       "      <td>37.68%</td>\n",
       "      <td>NaN</td>\n",
       "      <td>0%</td>\n",
       "      <td>5.97%</td>\n",
       "      <td>NaN</td>\n",
       "      <td>14.55%</td>\n",
       "      <td>NaN</td>\n",
       "      <td>16.67%</td>\n",
       "      <td>4.35%</td>\n",
       "      <td>1.72%</td>\n",
       "      <td>2.7%</td>\n",
       "      <td>17.39%</td>\n",
       "      <td>NaN</td>\n",
       "      <td>22.22%</td>\n",
       "      <td>10.14%</td>\n",
       "      <td>21.88%</td>\n",
       "      <td>20.69%</td>\n",
       "      <td>8.51%</td>\n",
       "      <td>22.81%</td>\n",
       "      <td>5.97%</td>\n",
       "      <td>13.58%</td>\n",
       "      <td>8.97%</td>\n",
       "      <td>2.99%</td>\n",
       "      <td>27.91%</td>\n",
       "      <td>NaN</td>\n",
       "      <td>18.97%</td>\n",
       "      <td>1.92%</td>\n",
       "      <td>10.39%</td>\n",
       "      <td>10.34%</td>\n",
       "      <td>NaN</td>\n",
       "      <td>0%</td>\n",
       "      <td>6.98%</td>\n",
       "      <td>3.7%</td>\n",
       "      <td>NaN</td>\n",
       "      <td>1.61%</td>\n",
       "      <td>NaN</td>\n",
       "      <td>NaN</td>\n",
       "      <td>5.97%</td>\n",
       "      <td>12.86%</td>\n",
       "      <td>4.55%</td>\n",
       "      <td>6.67%</td>\n",
       "      <td>9.52%</td>\n",
       "      <td>NaN</td>\n",
       "      <td>0%</td>\n",
       "      <td>26.56%</td>\n",
       "      <td>15.28%</td>\n",
       "      <td>NaN</td>\n",
       "    </tr>\n",
       "    <tr>\n",
       "      <th>jcf7190000000004-54589</th>\n",
       "      <td>jcf7190000000004</td>\n",
       "      <td>jcf7190000000004-54589</td>\n",
       "      <td>0.889279</td>\n",
       "      <td>0.110721</td>\n",
       "      <td>75.0</td>\n",
       "      <td>52.0</td>\n",
       "      <td>68.0</td>\n",
       "      <td>31.0</td>\n",
       "      <td>35.0</td>\n",
       "      <td>46.0</td>\n",
       "      <td>74.0</td>\n",
       "      <td>67.0</td>\n",
       "      <td>50.0</td>\n",
       "      <td>67.0</td>\n",
       "      <td>41.0</td>\n",
       "      <td>60.0</td>\n",
       "      <td>78.0</td>\n",
       "      <td>60.0</td>\n",
       "      <td>55.0</td>\n",
       "      <td>41.0</td>\n",
       "      <td>60.0</td>\n",
       "      <td>65.0</td>\n",
       "      <td>69.0</td>\n",
       "      <td>61.0</td>\n",
       "      <td>58.0</td>\n",
       "      <td>38.0</td>\n",
       "      <td>57.0</td>\n",
       "      <td>46.0</td>\n",
       "      <td>46.0</td>\n",
       "      <td>60.0</td>\n",
       "      <td>22.0</td>\n",
       "      <td>40.0</td>\n",
       "      <td>26.0</td>\n",
       "      <td>68.0</td>\n",
       "      <td>67.0</td>\n",
       "      <td>59.0</td>\n",
       "      <td>51.0</td>\n",
       "      <td>73.0</td>\n",
       "      <td>51.0</td>\n",
       "      <td>58.0</td>\n",
       "      <td>65.0</td>\n",
       "      <td>47.0</td>\n",
       "      <td>51.0</td>\n",
       "      <td>56.0</td>\n",
       "      <td>69.0</td>\n",
       "      <td>63.0</td>\n",
       "      <td>66.0</td>\n",
       "      <td>67.0</td>\n",
       "      <td>59.0</td>\n",
       "      <td>54.0</td>\n",
       "      <td>...</td>\n",
       "      <td>100%</td>\n",
       "      <td>84.31%</td>\n",
       "      <td>89.29%</td>\n",
       "      <td>89.86%</td>\n",
       "      <td>61.9%</td>\n",
       "      <td>100%</td>\n",
       "      <td>97.01%</td>\n",
       "      <td>77.97%</td>\n",
       "      <td>100%</td>\n",
       "      <td>100%</td>\n",
       "      <td>100%</td>\n",
       "      <td>100%</td>\n",
       "      <td>91.53%</td>\n",
       "      <td>95.95%</td>\n",
       "      <td>100%</td>\n",
       "      <td>100%</td>\n",
       "      <td>98.41%</td>\n",
       "      <td>63.38%</td>\n",
       "      <td>76.19%</td>\n",
       "      <td>72.88%</td>\n",
       "      <td>86.36%</td>\n",
       "      <td>91.38%</td>\n",
       "      <td>65.67%</td>\n",
       "      <td>93.67%</td>\n",
       "      <td>80.52%</td>\n",
       "      <td>72.31%</td>\n",
       "      <td>97.73%</td>\n",
       "      <td>74.36%</td>\n",
       "      <td>79.31%</td>\n",
       "      <td>72.22%</td>\n",
       "      <td>79.73%</td>\n",
       "      <td>81.61%</td>\n",
       "      <td>58.97%</td>\n",
       "      <td>100%</td>\n",
       "      <td>100%</td>\n",
       "      <td>100%</td>\n",
       "      <td>100%</td>\n",
       "      <td>96.88%</td>\n",
       "      <td>100%</td>\n",
       "      <td>68.63%</td>\n",
       "      <td>76.12%</td>\n",
       "      <td>84.29%</td>\n",
       "      <td>95.38%</td>\n",
       "      <td>83.33%</td>\n",
       "      <td>100%</td>\n",
       "      <td>76.19%</td>\n",
       "      <td>61.76%</td>\n",
       "      <td>82.81%</td>\n",
       "      <td>97.26%</td>\n",
       "      <td>86.36%</td>\n",
       "    </tr>\n",
       "    <tr>\n",
       "      <th>jcf7190000000004-54619</th>\n",
       "      <td>jcf7190000000004</td>\n",
       "      <td>jcf7190000000004-54619</td>\n",
       "      <td>0.033857</td>\n",
       "      <td>0.033857</td>\n",
       "      <td>77.0</td>\n",
       "      <td>56.0</td>\n",
       "      <td>67.0</td>\n",
       "      <td>33.0</td>\n",
       "      <td>32.0</td>\n",
       "      <td>50.0</td>\n",
       "      <td>69.0</td>\n",
       "      <td>75.0</td>\n",
       "      <td>66.0</td>\n",
       "      <td>69.0</td>\n",
       "      <td>47.0</td>\n",
       "      <td>65.0</td>\n",
       "      <td>64.0</td>\n",
       "      <td>64.0</td>\n",
       "      <td>58.0</td>\n",
       "      <td>50.0</td>\n",
       "      <td>63.0</td>\n",
       "      <td>63.0</td>\n",
       "      <td>70.0</td>\n",
       "      <td>58.0</td>\n",
       "      <td>63.0</td>\n",
       "      <td>34.0</td>\n",
       "      <td>60.0</td>\n",
       "      <td>46.0</td>\n",
       "      <td>47.0</td>\n",
       "      <td>62.0</td>\n",
       "      <td>25.0</td>\n",
       "      <td>37.0</td>\n",
       "      <td>26.0</td>\n",
       "      <td>70.0</td>\n",
       "      <td>63.0</td>\n",
       "      <td>57.0</td>\n",
       "      <td>56.0</td>\n",
       "      <td>70.0</td>\n",
       "      <td>52.0</td>\n",
       "      <td>54.0</td>\n",
       "      <td>60.0</td>\n",
       "      <td>48.0</td>\n",
       "      <td>55.0</td>\n",
       "      <td>53.0</td>\n",
       "      <td>59.0</td>\n",
       "      <td>61.0</td>\n",
       "      <td>67.0</td>\n",
       "      <td>69.0</td>\n",
       "      <td>70.0</td>\n",
       "      <td>71.0</td>\n",
       "      <td>...</td>\n",
       "      <td>8.33%</td>\n",
       "      <td>0%</td>\n",
       "      <td>0%</td>\n",
       "      <td>0%</td>\n",
       "      <td>0%</td>\n",
       "      <td>NaN</td>\n",
       "      <td>4.35%</td>\n",
       "      <td>0%</td>\n",
       "      <td>4.23%</td>\n",
       "      <td>21.67%</td>\n",
       "      <td>1.35%</td>\n",
       "      <td>8.7%</td>\n",
       "      <td>0%</td>\n",
       "      <td>NaN</td>\n",
       "      <td>0%</td>\n",
       "      <td>15.15%</td>\n",
       "      <td>NaN</td>\n",
       "      <td>2.74%</td>\n",
       "      <td>0%</td>\n",
       "      <td>0%</td>\n",
       "      <td>0%</td>\n",
       "      <td>0%</td>\n",
       "      <td>0%</td>\n",
       "      <td>0%</td>\n",
       "      <td>0%</td>\n",
       "      <td>0%</td>\n",
       "      <td>4.17%</td>\n",
       "      <td>0%</td>\n",
       "      <td>0%</td>\n",
       "      <td>0%</td>\n",
       "      <td>0%</td>\n",
       "      <td>0%</td>\n",
       "      <td>0%</td>\n",
       "      <td>2.99%</td>\n",
       "      <td>0%</td>\n",
       "      <td>7.84%</td>\n",
       "      <td>10.81%</td>\n",
       "      <td>6.35%</td>\n",
       "      <td>12.5%</td>\n",
       "      <td>0%</td>\n",
       "      <td>0%</td>\n",
       "      <td>0%</td>\n",
       "      <td>0%</td>\n",
       "      <td>0%</td>\n",
       "      <td>0%</td>\n",
       "      <td>0%</td>\n",
       "      <td>0%</td>\n",
       "      <td>0%</td>\n",
       "      <td>0%</td>\n",
       "      <td>0%</td>\n",
       "    </tr>\n",
       "    <tr>\n",
       "      <th>jcf7190000000004-54623</th>\n",
       "      <td>jcf7190000000004</td>\n",
       "      <td>jcf7190000000004-54623</td>\n",
       "      <td>0.065287</td>\n",
       "      <td>0.065287</td>\n",
       "      <td>77.0</td>\n",
       "      <td>57.0</td>\n",
       "      <td>63.0</td>\n",
       "      <td>34.0</td>\n",
       "      <td>31.0</td>\n",
       "      <td>53.0</td>\n",
       "      <td>68.0</td>\n",
       "      <td>78.0</td>\n",
       "      <td>64.0</td>\n",
       "      <td>67.0</td>\n",
       "      <td>49.0</td>\n",
       "      <td>65.0</td>\n",
       "      <td>66.0</td>\n",
       "      <td>65.0</td>\n",
       "      <td>57.0</td>\n",
       "      <td>49.0</td>\n",
       "      <td>64.0</td>\n",
       "      <td>65.0</td>\n",
       "      <td>71.0</td>\n",
       "      <td>59.0</td>\n",
       "      <td>64.0</td>\n",
       "      <td>34.0</td>\n",
       "      <td>60.0</td>\n",
       "      <td>44.0</td>\n",
       "      <td>45.0</td>\n",
       "      <td>63.0</td>\n",
       "      <td>24.0</td>\n",
       "      <td>34.0</td>\n",
       "      <td>26.0</td>\n",
       "      <td>69.0</td>\n",
       "      <td>63.0</td>\n",
       "      <td>59.0</td>\n",
       "      <td>56.0</td>\n",
       "      <td>70.0</td>\n",
       "      <td>55.0</td>\n",
       "      <td>53.0</td>\n",
       "      <td>60.0</td>\n",
       "      <td>46.0</td>\n",
       "      <td>52.0</td>\n",
       "      <td>52.0</td>\n",
       "      <td>56.0</td>\n",
       "      <td>59.0</td>\n",
       "      <td>69.0</td>\n",
       "      <td>67.0</td>\n",
       "      <td>70.0</td>\n",
       "      <td>70.0</td>\n",
       "      <td>...</td>\n",
       "      <td>15.22%</td>\n",
       "      <td>0%</td>\n",
       "      <td>0%</td>\n",
       "      <td>0%</td>\n",
       "      <td>0%</td>\n",
       "      <td>NaN</td>\n",
       "      <td>17.91%</td>\n",
       "      <td>0%</td>\n",
       "      <td>NaN</td>\n",
       "      <td>28.33%</td>\n",
       "      <td>44.74%</td>\n",
       "      <td>4.35%</td>\n",
       "      <td>0%</td>\n",
       "      <td>21.92%</td>\n",
       "      <td>16.67%</td>\n",
       "      <td>1.47%</td>\n",
       "      <td>11.76%</td>\n",
       "      <td>0%</td>\n",
       "      <td>0%</td>\n",
       "      <td>0%</td>\n",
       "      <td>0%</td>\n",
       "      <td>7.14%</td>\n",
       "      <td>0%</td>\n",
       "      <td>0%</td>\n",
       "      <td>0%</td>\n",
       "      <td>0%</td>\n",
       "      <td>15.56%</td>\n",
       "      <td>0%</td>\n",
       "      <td>0%</td>\n",
       "      <td>0%</td>\n",
       "      <td>0%</td>\n",
       "      <td>0%</td>\n",
       "      <td>0%</td>\n",
       "      <td>10.45%</td>\n",
       "      <td>10.53%</td>\n",
       "      <td>18%</td>\n",
       "      <td>2.7%</td>\n",
       "      <td>20.34%</td>\n",
       "      <td>21.43%</td>\n",
       "      <td>0%</td>\n",
       "      <td>0%</td>\n",
       "      <td>0%</td>\n",
       "      <td>0%</td>\n",
       "      <td>0%</td>\n",
       "      <td>21.95%</td>\n",
       "      <td>0%</td>\n",
       "      <td>0%</td>\n",
       "      <td>0%</td>\n",
       "      <td>0%</td>\n",
       "      <td>0%</td>\n",
       "    </tr>\n",
       "    <tr>\n",
       "      <th>jcf7190000000004-54643</th>\n",
       "      <td>jcf7190000000004</td>\n",
       "      <td>jcf7190000000004-54643</td>\n",
       "      <td>0.246071</td>\n",
       "      <td>0.246071</td>\n",
       "      <td>68.0</td>\n",
       "      <td>56.0</td>\n",
       "      <td>57.0</td>\n",
       "      <td>34.0</td>\n",
       "      <td>27.0</td>\n",
       "      <td>49.0</td>\n",
       "      <td>53.0</td>\n",
       "      <td>76.0</td>\n",
       "      <td>61.0</td>\n",
       "      <td>72.0</td>\n",
       "      <td>56.0</td>\n",
       "      <td>61.0</td>\n",
       "      <td>66.0</td>\n",
       "      <td>63.0</td>\n",
       "      <td>62.0</td>\n",
       "      <td>47.0</td>\n",
       "      <td>64.0</td>\n",
       "      <td>66.0</td>\n",
       "      <td>77.0</td>\n",
       "      <td>58.0</td>\n",
       "      <td>64.0</td>\n",
       "      <td>33.0</td>\n",
       "      <td>55.0</td>\n",
       "      <td>38.0</td>\n",
       "      <td>42.0</td>\n",
       "      <td>63.0</td>\n",
       "      <td>27.0</td>\n",
       "      <td>35.0</td>\n",
       "      <td>24.0</td>\n",
       "      <td>67.0</td>\n",
       "      <td>66.0</td>\n",
       "      <td>56.0</td>\n",
       "      <td>59.0</td>\n",
       "      <td>68.0</td>\n",
       "      <td>59.0</td>\n",
       "      <td>52.0</td>\n",
       "      <td>51.0</td>\n",
       "      <td>46.0</td>\n",
       "      <td>47.0</td>\n",
       "      <td>50.0</td>\n",
       "      <td>49.0</td>\n",
       "      <td>65.0</td>\n",
       "      <td>60.0</td>\n",
       "      <td>62.0</td>\n",
       "      <td>76.0</td>\n",
       "      <td>76.0</td>\n",
       "      <td>...</td>\n",
       "      <td>8.7%</td>\n",
       "      <td>23.4%</td>\n",
       "      <td>8%</td>\n",
       "      <td>28.57%</td>\n",
       "      <td>18.46%</td>\n",
       "      <td>25%</td>\n",
       "      <td>16.13%</td>\n",
       "      <td>21.05%</td>\n",
       "      <td>26.32%</td>\n",
       "      <td>39.29%</td>\n",
       "      <td>16.44%</td>\n",
       "      <td>32.56%</td>\n",
       "      <td>14.29%</td>\n",
       "      <td>13.33%</td>\n",
       "      <td>16.33%</td>\n",
       "      <td>41.1%</td>\n",
       "      <td>35.38%</td>\n",
       "      <td>25.33%</td>\n",
       "      <td>15.71%</td>\n",
       "      <td>13.56%</td>\n",
       "      <td>37.78%</td>\n",
       "      <td>1.54%</td>\n",
       "      <td>18.46%</td>\n",
       "      <td>22.22%</td>\n",
       "      <td>30%</td>\n",
       "      <td>21.05%</td>\n",
       "      <td>58.14%</td>\n",
       "      <td>NaN</td>\n",
       "      <td>12.12%</td>\n",
       "      <td>19.12%</td>\n",
       "      <td>19.48%</td>\n",
       "      <td>27.91%</td>\n",
       "      <td>9.76%</td>\n",
       "      <td>34.21%</td>\n",
       "      <td>29.55%</td>\n",
       "      <td>15.09%</td>\n",
       "      <td>37.5%</td>\n",
       "      <td>21.05%</td>\n",
       "      <td>42.86%</td>\n",
       "      <td>NaN</td>\n",
       "      <td>20.27%</td>\n",
       "      <td>28.79%</td>\n",
       "      <td>26.32%</td>\n",
       "      <td>13.21%</td>\n",
       "      <td>8.7%</td>\n",
       "      <td>14.94%</td>\n",
       "      <td>12.5%</td>\n",
       "      <td>22.06%</td>\n",
       "      <td>30%</td>\n",
       "      <td>NaN</td>\n",
       "    </tr>\n",
       "  </tbody>\n",
       "</table>\n",
       "<p>5 rows × 178 columns</p>\n",
       "</div>"
      ],
      "text/plain": [
       "                                   CHROM                   locus        AF  \\\n",
       "jcf7190000000004-54587  jcf7190000000004  jcf7190000000004-54587  0.105580   \n",
       "jcf7190000000004-54589  jcf7190000000004  jcf7190000000004-54589  0.889279   \n",
       "jcf7190000000004-54619  jcf7190000000004  jcf7190000000004-54619  0.033857   \n",
       "jcf7190000000004-54623  jcf7190000000004  jcf7190000000004-54623  0.065287   \n",
       "jcf7190000000004-54643  jcf7190000000004  jcf7190000000004-54643  0.246071   \n",
       "\n",
       "                             MAF  DF_p1.DP  DF_p18.DP  DF_p19.DP  DF_p2.DP  \\\n",
       "jcf7190000000004-54587  0.105580      76.0       52.0       69.0      31.0   \n",
       "jcf7190000000004-54589  0.110721      75.0       52.0       68.0      31.0   \n",
       "jcf7190000000004-54619  0.033857      77.0       56.0       67.0      33.0   \n",
       "jcf7190000000004-54623  0.065287      77.0       57.0       63.0      34.0   \n",
       "jcf7190000000004-54643  0.246071      68.0       56.0       57.0      34.0   \n",
       "\n",
       "                        DF_p20.DP  DF_p23.DP  DF_p24.DP  DF_p25.DP  DF_p26.DP  \\\n",
       "jcf7190000000004-54587       35.0       48.0       72.0       65.0       52.0   \n",
       "jcf7190000000004-54589       35.0       46.0       74.0       67.0       50.0   \n",
       "jcf7190000000004-54619       32.0       50.0       69.0       75.0       66.0   \n",
       "jcf7190000000004-54623       31.0       53.0       68.0       78.0       64.0   \n",
       "jcf7190000000004-54643       27.0       49.0       53.0       76.0       61.0   \n",
       "\n",
       "                        DF_p27.DP  DF_p28.DP  DF_p10.DP  DF_p29.DP  DF_p3.DP  \\\n",
       "jcf7190000000004-54587       67.0       41.0       62.0       78.0      59.0   \n",
       "jcf7190000000004-54589       67.0       41.0       60.0       78.0      60.0   \n",
       "jcf7190000000004-54619       69.0       47.0       65.0       64.0      64.0   \n",
       "jcf7190000000004-54623       67.0       49.0       65.0       66.0      65.0   \n",
       "jcf7190000000004-54643       72.0       56.0       61.0       66.0      63.0   \n",
       "\n",
       "                        DF_p30.DP  DF_p31.DP  DF_p32.DP  DF_p33.DP  DF_p34.DP  \\\n",
       "jcf7190000000004-54587       55.0       41.0       61.0       64.0       71.0   \n",
       "jcf7190000000004-54589       55.0       41.0       60.0       65.0       69.0   \n",
       "jcf7190000000004-54619       58.0       50.0       63.0       63.0       70.0   \n",
       "jcf7190000000004-54623       57.0       49.0       64.0       65.0       71.0   \n",
       "jcf7190000000004-54643       62.0       47.0       64.0       66.0       77.0   \n",
       "\n",
       "                        DF_p35.DP  DF_p36.DP  DF_p37.DP  DF_p11.DP  DF_p38.DP  \\\n",
       "jcf7190000000004-54587       64.0       54.0       37.0       58.0       49.0   \n",
       "jcf7190000000004-54589       61.0       58.0       38.0       57.0       46.0   \n",
       "jcf7190000000004-54619       58.0       63.0       34.0       60.0       46.0   \n",
       "jcf7190000000004-54623       59.0       64.0       34.0       60.0       44.0   \n",
       "jcf7190000000004-54643       58.0       64.0       33.0       55.0       38.0   \n",
       "\n",
       "                        DF_p39.DP  DF_p4.DP  DF_p40.DP  DF_p41.DP  DF_p42.DP  \\\n",
       "jcf7190000000004-54587       45.0      60.0       22.0       42.0       26.0   \n",
       "jcf7190000000004-54589       46.0      60.0       22.0       40.0       26.0   \n",
       "jcf7190000000004-54619       47.0      62.0       25.0       37.0       26.0   \n",
       "jcf7190000000004-54623       45.0      63.0       24.0       34.0       26.0   \n",
       "jcf7190000000004-54643       42.0      63.0       27.0       35.0       24.0   \n",
       "\n",
       "                        DF_p43.DP  DF_p44.DP  DF_p45.DP  DF_p46.DP  DF_p12.DP  \\\n",
       "jcf7190000000004-54587       67.0       67.0       57.0       53.0       75.0   \n",
       "jcf7190000000004-54589       68.0       67.0       59.0       51.0       73.0   \n",
       "jcf7190000000004-54619       70.0       63.0       57.0       56.0       70.0   \n",
       "jcf7190000000004-54623       69.0       63.0       59.0       56.0       70.0   \n",
       "jcf7190000000004-54643       67.0       66.0       56.0       59.0       68.0   \n",
       "\n",
       "                        DF_p47.DP  DF_p48.DP  DF_p49.DP  DF_p5.DP  DF_p50.DP  \\\n",
       "jcf7190000000004-54587       51.0       57.0       66.0      51.0       52.0   \n",
       "jcf7190000000004-54589       51.0       58.0       65.0      47.0       51.0   \n",
       "jcf7190000000004-54619       52.0       54.0       60.0      48.0       55.0   \n",
       "jcf7190000000004-54623       55.0       53.0       60.0      46.0       52.0   \n",
       "jcf7190000000004-54643       59.0       52.0       51.0      46.0       47.0   \n",
       "\n",
       "                        DF_p51.DP  DF_p52.DP  DF_p53.DP  DF_p54.DP  DF_p55.DP  \\\n",
       "jcf7190000000004-54587       57.0       69.0       62.0       66.0       67.0   \n",
       "jcf7190000000004-54589       56.0       69.0       63.0       66.0       67.0   \n",
       "jcf7190000000004-54619       53.0       59.0       61.0       67.0       69.0   \n",
       "jcf7190000000004-54623       52.0       56.0       59.0       69.0       67.0   \n",
       "jcf7190000000004-54643       50.0       49.0       65.0       60.0       62.0   \n",
       "\n",
       "                        DF_p13.DP  DF_p56.DP  ...  DF_p5.FREQ  DF_p50.FREQ  \\\n",
       "jcf7190000000004-54587       59.0       55.0  ...      19.61%       15.38%   \n",
       "jcf7190000000004-54589       59.0       54.0  ...        100%       84.31%   \n",
       "jcf7190000000004-54619       70.0       71.0  ...       8.33%           0%   \n",
       "jcf7190000000004-54623       70.0       70.0  ...      15.22%           0%   \n",
       "jcf7190000000004-54643       76.0       76.0  ...        8.7%        23.4%   \n",
       "\n",
       "                        DF_p51.FREQ  DF_p52.FREQ  DF_p53.FREQ  DF_p54.FREQ  \\\n",
       "jcf7190000000004-54587       42.11%       37.68%          NaN           0%   \n",
       "jcf7190000000004-54589       89.29%       89.86%        61.9%         100%   \n",
       "jcf7190000000004-54619           0%           0%           0%          NaN   \n",
       "jcf7190000000004-54623           0%           0%           0%          NaN   \n",
       "jcf7190000000004-54643           8%       28.57%       18.46%          25%   \n",
       "\n",
       "                        DF_p55.FREQ  DF_p13.FREQ  DF_p56.FREQ  DF_p57.FREQ  \\\n",
       "jcf7190000000004-54587        5.97%          NaN       14.55%          NaN   \n",
       "jcf7190000000004-54589       97.01%       77.97%         100%         100%   \n",
       "jcf7190000000004-54619        4.35%           0%        4.23%       21.67%   \n",
       "jcf7190000000004-54623       17.91%           0%          NaN       28.33%   \n",
       "jcf7190000000004-54643       16.13%       21.05%       26.32%       39.29%   \n",
       "\n",
       "                        DF_p58.FREQ  DF_p59.FREQ  DF_p6.FREQ  DF_p60.FREQ  \\\n",
       "jcf7190000000004-54587       16.67%        4.35%       1.72%         2.7%   \n",
       "jcf7190000000004-54589         100%         100%      91.53%       95.95%   \n",
       "jcf7190000000004-54619        1.35%         8.7%          0%          NaN   \n",
       "jcf7190000000004-54623       44.74%        4.35%          0%       21.92%   \n",
       "jcf7190000000004-54643       16.44%       32.56%      14.29%       13.33%   \n",
       "\n",
       "                        DF_p61.FREQ  DF_p62.FREQ  DF_p7.FREQ  DF_p72.FREQ  \\\n",
       "jcf7190000000004-54587       17.39%          NaN      22.22%       10.14%   \n",
       "jcf7190000000004-54589         100%         100%      98.41%       63.38%   \n",
       "jcf7190000000004-54619           0%       15.15%         NaN        2.74%   \n",
       "jcf7190000000004-54623       16.67%        1.47%      11.76%           0%   \n",
       "jcf7190000000004-54643       16.33%        41.1%      35.38%       25.33%   \n",
       "\n",
       "                        DF_p14.FREQ  DF_p73.FREQ  DF_p74.FREQ  DF_p75.FREQ  \\\n",
       "jcf7190000000004-54587       21.88%       20.69%        8.51%       22.81%   \n",
       "jcf7190000000004-54589       76.19%       72.88%       86.36%       91.38%   \n",
       "jcf7190000000004-54619           0%           0%           0%           0%   \n",
       "jcf7190000000004-54623           0%           0%           0%        7.14%   \n",
       "jcf7190000000004-54643       15.71%       13.56%       37.78%        1.54%   \n",
       "\n",
       "                        DF_p76.FREQ  DF_p77.FREQ  DF_p78.FREQ  DF_p79.FREQ  \\\n",
       "jcf7190000000004-54587        5.97%       13.58%        8.97%        2.99%   \n",
       "jcf7190000000004-54589       65.67%       93.67%       80.52%       72.31%   \n",
       "jcf7190000000004-54619           0%           0%           0%           0%   \n",
       "jcf7190000000004-54623           0%           0%           0%           0%   \n",
       "jcf7190000000004-54643       18.46%       22.22%          30%       21.05%   \n",
       "\n",
       "                        DF_p8.FREQ  DF_p80.FREQ  DF_p81.FREQ  DF_p15.FREQ  \\\n",
       "jcf7190000000004-54587      27.91%          NaN       18.97%        1.92%   \n",
       "jcf7190000000004-54589      97.73%       74.36%       79.31%       72.22%   \n",
       "jcf7190000000004-54619       4.17%           0%           0%           0%   \n",
       "jcf7190000000004-54623      15.56%           0%           0%           0%   \n",
       "jcf7190000000004-54643      58.14%          NaN       12.12%       19.12%   \n",
       "\n",
       "                        DF_p82.FREQ  DF_p83.FREQ  DF_p84.FREQ  DF_p85.FREQ  \\\n",
       "jcf7190000000004-54587       10.39%       10.34%          NaN           0%   \n",
       "jcf7190000000004-54589       79.73%       81.61%       58.97%         100%   \n",
       "jcf7190000000004-54619           0%           0%           0%        2.99%   \n",
       "jcf7190000000004-54623           0%           0%           0%       10.45%   \n",
       "jcf7190000000004-54643       19.48%       27.91%        9.76%       34.21%   \n",
       "\n",
       "                        DF_p86.FREQ  DF_p87.FREQ  DF_p88.FREQ  DF_p89.FREQ  \\\n",
       "jcf7190000000004-54587        6.98%         3.7%          NaN        1.61%   \n",
       "jcf7190000000004-54589         100%         100%         100%       96.88%   \n",
       "jcf7190000000004-54619           0%        7.84%       10.81%        6.35%   \n",
       "jcf7190000000004-54623       10.53%          18%         2.7%       20.34%   \n",
       "jcf7190000000004-54643       29.55%       15.09%        37.5%       21.05%   \n",
       "\n",
       "                        DF_p9.FREQ  DF_p90.FREQ  DF_p16.FREQ DF_p91.FREQ  \\\n",
       "jcf7190000000004-54587         NaN          NaN        5.97%      12.86%   \n",
       "jcf7190000000004-54589        100%       68.63%       76.12%      84.29%   \n",
       "jcf7190000000004-54619       12.5%           0%           0%          0%   \n",
       "jcf7190000000004-54623      21.43%           0%           0%          0%   \n",
       "jcf7190000000004-54643      42.86%          NaN       20.27%      28.79%   \n",
       "\n",
       "                       DF_p92.FREQ DF_p93.FREQ DF_p94.FREQ DF_p95.FREQ  \\\n",
       "jcf7190000000004-54587       4.55%       6.67%       9.52%         NaN   \n",
       "jcf7190000000004-54589      95.38%      83.33%        100%      76.19%   \n",
       "jcf7190000000004-54619          0%          0%          0%          0%   \n",
       "jcf7190000000004-54623          0%          0%      21.95%          0%   \n",
       "jcf7190000000004-54643      26.32%      13.21%        8.7%      14.94%   \n",
       "\n",
       "                       DF_p96.FREQ DF_p97.FREQ DF_p98.FREQ DF_p17.FREQ  \n",
       "jcf7190000000004-54587          0%      26.56%      15.28%         NaN  \n",
       "jcf7190000000004-54589      61.76%      82.81%      97.26%      86.36%  \n",
       "jcf7190000000004-54619          0%          0%          0%          0%  \n",
       "jcf7190000000004-54623          0%          0%          0%          0%  \n",
       "jcf7190000000004-54643       12.5%      22.06%         30%         NaN  \n",
       "\n",
       "[5 rows x 178 columns]"
      ]
     },
     "execution_count": 13,
     "metadata": {},
     "output_type": "execute_result"
    }
   ],
   "source": [
    "snps = pd.concat([j.r for j in jobs])\n",
    "print(snps.shape)\n",
    "snps.head()"
   ]
  },
  {
   "cell_type": "code",
   "execution_count": 23,
   "metadata": {},
   "outputs": [
    {
     "data": {
      "text/plain": [
       "25448"
      ]
     },
     "execution_count": 23,
     "metadata": {},
     "output_type": "execute_result"
    }
   ],
   "source": [
    "luni(snps['CHROM'])"
   ]
  },
  {
   "cell_type": "code",
   "execution_count": 24,
   "metadata": {},
   "outputs": [
    {
     "data": {
      "text/plain": [
       "'/data/projects/pool_seq/DF_datasets/DF_pooled_GEA/DF_pooled/snpsANDindels/03_maf-p01/DF_pooled-varscan_all_bedfiles_SNP_maf.txt'"
      ]
     },
     "execution_count": 24,
     "metadata": {},
     "output_type": "execute_result"
    }
   ],
   "source": [
    "f"
   ]
  },
  {
   "cell_type": "markdown",
   "metadata": {},
   "source": [
    "#### reduce those snps on contigs > 1Kbp"
   ]
  },
  {
   "cell_type": "code",
   "execution_count": 25,
   "metadata": {},
   "outputs": [
    {
     "data": {
      "text/html": [
       "<div>\n",
       "<style scoped>\n",
       "    .dataframe tbody tr th:only-of-type {\n",
       "        vertical-align: middle;\n",
       "    }\n",
       "\n",
       "    .dataframe tbody tr th {\n",
       "        vertical-align: top;\n",
       "    }\n",
       "\n",
       "    .dataframe thead th {\n",
       "        text-align: right;\n",
       "    }\n",
       "</style>\n",
       "<table border=\"1\" class=\"dataframe\">\n",
       "  <thead>\n",
       "    <tr style=\"text-align: right;\">\n",
       "      <th></th>\n",
       "      <th>0</th>\n",
       "      <th>1</th>\n",
       "    </tr>\n",
       "  </thead>\n",
       "  <tbody>\n",
       "    <tr>\n",
       "      <th>0</th>\n",
       "      <td>jcf7190000000000</td>\n",
       "      <td>104664</td>\n",
       "    </tr>\n",
       "    <tr>\n",
       "      <th>1</th>\n",
       "      <td>jcf7190000000004</td>\n",
       "      <td>713351</td>\n",
       "    </tr>\n",
       "    <tr>\n",
       "      <th>2</th>\n",
       "      <td>jcf7190000000008</td>\n",
       "      <td>780568</td>\n",
       "    </tr>\n",
       "    <tr>\n",
       "      <th>3</th>\n",
       "      <td>jcf7190000000009</td>\n",
       "      <td>80234</td>\n",
       "    </tr>\n",
       "    <tr>\n",
       "      <th>4</th>\n",
       "      <td>jcf7190000000010</td>\n",
       "      <td>335878</td>\n",
       "    </tr>\n",
       "  </tbody>\n",
       "</table>\n",
       "</div>"
      ],
      "text/plain": [
       "                  0       1\n",
       "0  jcf7190000000000  104664\n",
       "1  jcf7190000000004  713351\n",
       "2  jcf7190000000008  780568\n",
       "3  jcf7190000000009   80234\n",
       "4  jcf7190000000010  335878"
      ]
     },
     "execution_count": 25,
     "metadata": {},
     "output_type": "execute_result"
    }
   ],
   "source": [
    "# get contig lengths\n",
    "lengths = pd.read_table('/data/database/DouglasFir_ref_genome/DF_ref_edit.fasta.length', header=None)\n",
    "lengths.head()"
   ]
  },
  {
   "cell_type": "code",
   "execution_count": 26,
   "metadata": {},
   "outputs": [
    {
     "data": {
      "text/plain": [
       "79910"
      ]
     },
     "execution_count": 26,
     "metadata": {},
     "output_type": "execute_result"
    }
   ],
   "source": [
    "lens = dict((contig,length) for (contig,length) in zip(lengths[0],lengths[1]) if length>1000)\n",
    "len(lens.keys())"
   ]
  },
  {
   "cell_type": "code",
   "execution_count": 108,
   "metadata": {},
   "outputs": [
    {
     "data": {
      "text/plain": [
       "((1987784, 90), (1995933, 178))"
      ]
     },
     "execution_count": 108,
     "metadata": {},
     "output_type": "execute_result"
    }
   ],
   "source": [
    "freqcols = [col for col in snps.columns if '.FREQ' in col]\n",
    "reduced = snps[snps['CHROM'].isin(list(lens.keys()))].copy()\n",
    "reduced = reduced.loc[:, freqcols + ['CHROM', 'AF', 'MAF']]\n",
    "reduced.shape, snps.shape"
   ]
  },
  {
   "cell_type": "code",
   "execution_count": 66,
   "metadata": {},
   "outputs": [
    {
     "data": {
      "text/plain": [
       "1001"
      ]
     },
     "execution_count": 66,
     "metadata": {},
     "output_type": "execute_result"
    }
   ],
   "source": [
    "min(lens.values())"
   ]
  },
  {
   "cell_type": "code",
   "execution_count": 109,
   "metadata": {},
   "outputs": [
    {
     "name": "stdout",
     "output_type": "stream",
     "text": [
      "50\n",
      "50\n"
     ]
    },
    {
     "data": {
      "image/png": "[encoded data removed]",
      "text/plain": [
       "<Figure size 1800x360 with 1 Axes>"
      ]
     },
     "metadata": {
      "needs_background": "light"
     },
     "output_type": "display_data"
    }
   ],
   "source": [
    "make_mafdict_fig(get_mafdict(reduced['AF'], roundto=2),\n",
    "                 get_mafdict(snps['AF'], roundto=2),\n",
    "                 title='Doug fir\\nafter filtering for contig length >1Kbp')"
   ]
  },
  {
   "cell_type": "markdown",
   "metadata": {},
   "source": [
    "#### reduce to no missing data  (can't, MAF spectrum doesn't match well with MAF spectrum of all data. Filter for % missing below)"
   ]
  },
  {
   "cell_type": "code",
   "execution_count": 107,
   "metadata": {},
   "outputs": [
    {
     "name": "stdout",
     "output_type": "stream",
     "text": [
      "5 5\n"
     ]
    }
   ],
   "source": [
    "# lview,dview = get_client()"
   ]
  },
  {
   "cell_type": "code",
   "execution_count": 108,
   "metadata": {},
   "outputs": [],
   "source": [
    "# def reduce_col(col):\n",
    "#     \"\"\"Return list of loci with no missing data for pop.FREQ col.\"\"\"\n",
    "#     return reduced[~reduced[col].isnull()].index\n",
    "\n",
    "# dview['reduced'] = reduced"
   ]
  },
  {
   "cell_type": "code",
   "execution_count": null,
   "metadata": {},
   "outputs": [],
   "source": [
    "# # jobs = []\n",
    "# # for col in nb(freqcols):\n",
    "# #     jobs.append(reduce_col(col))"
   ]
  },
  {
   "cell_type": "code",
   "execution_count": 109,
   "metadata": {},
   "outputs": [
    {
     "name": "stdout",
     "output_type": "stream",
     "text": [
      "87\n",
      "87\n"
     ]
    }
   ],
   "source": [
    "# # send jobs to reduce_col\n",
    "# freqcols = [col for col in reduced.columns if '.FREQ' in col]\n",
    "# jobs = []\n",
    "# for col in freqcols:\n",
    "#     jobs.append(lview.apply_async(reduce_col, col))\n",
    "# watch_async(jobs)"
   ]
  },
  {
   "cell_type": "code",
   "execution_count": 113,
   "metadata": {},
   "outputs": [
    {
     "data": {
      "text/plain": [
       "(208947, 208947)"
      ]
     },
     "execution_count": 113,
     "metadata": {},
     "output_type": "execute_result"
    }
   ],
   "source": [
    "# # combine returns to get loci with no missing data across pop.FREQ cols\n",
    "# nomissingloci = snps.index.tolist()\n",
    "# for j in jobs:\n",
    "#     nomissingloci = list(set(nomissingloci).intersection(j.r))\n",
    "# len(nomissingloci), luni(nomissingloci)"
   ]
  },
  {
   "cell_type": "code",
   "execution_count": 112,
   "metadata": {},
   "outputs": [
    {
     "data": {
      "text/plain": [
       "(1995933, 1995933)"
      ]
     },
     "execution_count": 112,
     "metadata": {},
     "output_type": "execute_result"
    }
   ],
   "source": [
    "# nrow(reduced), nrow(snps)"
   ]
  },
  {
   "cell_type": "code",
   "execution_count": 72,
   "metadata": {},
   "outputs": [
    {
     "data": {
      "text/plain": [
       "(194893, 194893)"
      ]
     },
     "execution_count": 72,
     "metadata": {},
     "output_type": "execute_result"
    }
   ],
   "source": [
    "# # # combine returns to get loci with no missing data across pop.FREQ cols\n",
    "# # nomissingloci = snps.index.tolist()\n",
    "# # for j in jobs:\n",
    "# #     nomissingloci = list(set(nomissingloci).intersection(j))\n",
    "# # len(nomissingloci), luni(nomissingloci)"
   ]
  },
  {
   "cell_type": "code",
   "execution_count": 114,
   "metadata": {},
   "outputs": [
    {
     "data": {
      "text/html": [
       "<div>\n",
       "<style scoped>\n",
       "    .dataframe tbody tr th:only-of-type {\n",
       "        vertical-align: middle;\n",
       "    }\n",
       "\n",
       "    .dataframe tbody tr th {\n",
       "        vertical-align: top;\n",
       "    }\n",
       "\n",
       "    .dataframe thead th {\n",
       "        text-align: right;\n",
       "    }\n",
       "</style>\n",
       "<table border=\"1\" class=\"dataframe\">\n",
       "  <thead>\n",
       "    <tr style=\"text-align: right;\">\n",
       "      <th></th>\n",
       "      <th>DF_p1.FREQ</th>\n",
       "      <th>DF_p18.FREQ</th>\n",
       "      <th>DF_p19.FREQ</th>\n",
       "      <th>DF_p2.FREQ</th>\n",
       "      <th>DF_p20.FREQ</th>\n",
       "      <th>DF_p23.FREQ</th>\n",
       "      <th>DF_p24.FREQ</th>\n",
       "      <th>DF_p25.FREQ</th>\n",
       "      <th>DF_p26.FREQ</th>\n",
       "      <th>DF_p27.FREQ</th>\n",
       "      <th>DF_p28.FREQ</th>\n",
       "      <th>DF_p10.FREQ</th>\n",
       "      <th>DF_p29.FREQ</th>\n",
       "      <th>DF_p3.FREQ</th>\n",
       "      <th>DF_p30.FREQ</th>\n",
       "      <th>DF_p31.FREQ</th>\n",
       "      <th>DF_p32.FREQ</th>\n",
       "      <th>DF_p33.FREQ</th>\n",
       "      <th>DF_p34.FREQ</th>\n",
       "      <th>DF_p35.FREQ</th>\n",
       "      <th>DF_p36.FREQ</th>\n",
       "      <th>DF_p37.FREQ</th>\n",
       "      <th>DF_p11.FREQ</th>\n",
       "      <th>DF_p38.FREQ</th>\n",
       "      <th>DF_p39.FREQ</th>\n",
       "      <th>DF_p4.FREQ</th>\n",
       "      <th>DF_p40.FREQ</th>\n",
       "      <th>DF_p41.FREQ</th>\n",
       "      <th>DF_p42.FREQ</th>\n",
       "      <th>DF_p43.FREQ</th>\n",
       "      <th>DF_p44.FREQ</th>\n",
       "      <th>DF_p45.FREQ</th>\n",
       "      <th>DF_p46.FREQ</th>\n",
       "      <th>DF_p12.FREQ</th>\n",
       "      <th>DF_p47.FREQ</th>\n",
       "      <th>DF_p48.FREQ</th>\n",
       "      <th>DF_p49.FREQ</th>\n",
       "      <th>DF_p5.FREQ</th>\n",
       "      <th>DF_p50.FREQ</th>\n",
       "      <th>DF_p51.FREQ</th>\n",
       "      <th>DF_p52.FREQ</th>\n",
       "      <th>DF_p53.FREQ</th>\n",
       "      <th>DF_p54.FREQ</th>\n",
       "      <th>DF_p55.FREQ</th>\n",
       "      <th>DF_p13.FREQ</th>\n",
       "      <th>DF_p56.FREQ</th>\n",
       "      <th>DF_p57.FREQ</th>\n",
       "      <th>DF_p58.FREQ</th>\n",
       "      <th>DF_p59.FREQ</th>\n",
       "      <th>DF_p6.FREQ</th>\n",
       "      <th>DF_p60.FREQ</th>\n",
       "      <th>DF_p61.FREQ</th>\n",
       "      <th>DF_p62.FREQ</th>\n",
       "      <th>DF_p7.FREQ</th>\n",
       "      <th>DF_p72.FREQ</th>\n",
       "      <th>DF_p14.FREQ</th>\n",
       "      <th>DF_p73.FREQ</th>\n",
       "      <th>DF_p74.FREQ</th>\n",
       "      <th>DF_p75.FREQ</th>\n",
       "      <th>DF_p76.FREQ</th>\n",
       "      <th>DF_p77.FREQ</th>\n",
       "      <th>DF_p78.FREQ</th>\n",
       "      <th>DF_p79.FREQ</th>\n",
       "      <th>DF_p8.FREQ</th>\n",
       "      <th>DF_p80.FREQ</th>\n",
       "      <th>DF_p81.FREQ</th>\n",
       "      <th>DF_p15.FREQ</th>\n",
       "      <th>DF_p82.FREQ</th>\n",
       "      <th>DF_p83.FREQ</th>\n",
       "      <th>DF_p84.FREQ</th>\n",
       "      <th>DF_p85.FREQ</th>\n",
       "      <th>DF_p86.FREQ</th>\n",
       "      <th>DF_p87.FREQ</th>\n",
       "      <th>DF_p88.FREQ</th>\n",
       "      <th>DF_p89.FREQ</th>\n",
       "      <th>DF_p9.FREQ</th>\n",
       "      <th>DF_p90.FREQ</th>\n",
       "      <th>DF_p16.FREQ</th>\n",
       "      <th>DF_p91.FREQ</th>\n",
       "      <th>DF_p92.FREQ</th>\n",
       "      <th>DF_p93.FREQ</th>\n",
       "      <th>DF_p94.FREQ</th>\n",
       "      <th>DF_p95.FREQ</th>\n",
       "      <th>DF_p96.FREQ</th>\n",
       "      <th>DF_p97.FREQ</th>\n",
       "      <th>DF_p98.FREQ</th>\n",
       "      <th>DF_p17.FREQ</th>\n",
       "      <th>CHROM</th>\n",
       "      <th>MAF</th>\n",
       "    </tr>\n",
       "  </thead>\n",
       "  <tbody>\n",
       "    <tr>\n",
       "      <th>jcf7190000000004-54589</th>\n",
       "      <td>86.67%</td>\n",
       "      <td>98.08%</td>\n",
       "      <td>100%</td>\n",
       "      <td>83.87%</td>\n",
       "      <td>100%</td>\n",
       "      <td>89.13%</td>\n",
       "      <td>84.93%</td>\n",
       "      <td>83.58%</td>\n",
       "      <td>84%</td>\n",
       "      <td>58.21%</td>\n",
       "      <td>85.37%</td>\n",
       "      <td>71.67%</td>\n",
       "      <td>93.59%</td>\n",
       "      <td>100%</td>\n",
       "      <td>80%</td>\n",
       "      <td>80.49%</td>\n",
       "      <td>78.33%</td>\n",
       "      <td>100%</td>\n",
       "      <td>100%</td>\n",
       "      <td>100%</td>\n",
       "      <td>91.38%</td>\n",
       "      <td>100%</td>\n",
       "      <td>85.96%</td>\n",
       "      <td>100%</td>\n",
       "      <td>91.3%</td>\n",
       "      <td>100%</td>\n",
       "      <td>100%</td>\n",
       "      <td>100%</td>\n",
       "      <td>96.15%</td>\n",
       "      <td>100%</td>\n",
       "      <td>85.07%</td>\n",
       "      <td>98.31%</td>\n",
       "      <td>100%</td>\n",
       "      <td>100%</td>\n",
       "      <td>98.04%</td>\n",
       "      <td>93.1%</td>\n",
       "      <td>98.46%</td>\n",
       "      <td>100%</td>\n",
       "      <td>84.31%</td>\n",
       "      <td>89.29%</td>\n",
       "      <td>89.86%</td>\n",
       "      <td>61.9%</td>\n",
       "      <td>100%</td>\n",
       "      <td>97.01%</td>\n",
       "      <td>77.97%</td>\n",
       "      <td>100%</td>\n",
       "      <td>100%</td>\n",
       "      <td>100%</td>\n",
       "      <td>100%</td>\n",
       "      <td>91.53%</td>\n",
       "      <td>95.95%</td>\n",
       "      <td>100%</td>\n",
       "      <td>100%</td>\n",
       "      <td>98.41%</td>\n",
       "      <td>63.38%</td>\n",
       "      <td>76.19%</td>\n",
       "      <td>72.88%</td>\n",
       "      <td>86.36%</td>\n",
       "      <td>91.38%</td>\n",
       "      <td>65.67%</td>\n",
       "      <td>93.67%</td>\n",
       "      <td>80.52%</td>\n",
       "      <td>72.31%</td>\n",
       "      <td>97.73%</td>\n",
       "      <td>74.36%</td>\n",
       "      <td>79.31%</td>\n",
       "      <td>72.22%</td>\n",
       "      <td>79.73%</td>\n",
       "      <td>81.61%</td>\n",
       "      <td>58.97%</td>\n",
       "      <td>100%</td>\n",
       "      <td>100%</td>\n",
       "      <td>100%</td>\n",
       "      <td>100%</td>\n",
       "      <td>96.88%</td>\n",
       "      <td>100%</td>\n",
       "      <td>68.63%</td>\n",
       "      <td>76.12%</td>\n",
       "      <td>84.29%</td>\n",
       "      <td>95.38%</td>\n",
       "      <td>83.33%</td>\n",
       "      <td>100%</td>\n",
       "      <td>76.19%</td>\n",
       "      <td>61.76%</td>\n",
       "      <td>82.81%</td>\n",
       "      <td>97.26%</td>\n",
       "      <td>86.36%</td>\n",
       "      <td>jcf7190000000004</td>\n",
       "      <td>0.110721</td>\n",
       "    </tr>\n",
       "    <tr>\n",
       "      <th>jcf7190000000004-480048</th>\n",
       "      <td>78.75%</td>\n",
       "      <td>65.12%</td>\n",
       "      <td>85.37%</td>\n",
       "      <td>71.43%</td>\n",
       "      <td>77.19%</td>\n",
       "      <td>82.35%</td>\n",
       "      <td>69.86%</td>\n",
       "      <td>57.14%</td>\n",
       "      <td>67.35%</td>\n",
       "      <td>33.9%</td>\n",
       "      <td>66.67%</td>\n",
       "      <td>60.26%</td>\n",
       "      <td>57.83%</td>\n",
       "      <td>85.94%</td>\n",
       "      <td>72.73%</td>\n",
       "      <td>70.31%</td>\n",
       "      <td>66.67%</td>\n",
       "      <td>89.47%</td>\n",
       "      <td>88.24%</td>\n",
       "      <td>88.16%</td>\n",
       "      <td>77.42%</td>\n",
       "      <td>90.91%</td>\n",
       "      <td>80.33%</td>\n",
       "      <td>84.62%</td>\n",
       "      <td>86.11%</td>\n",
       "      <td>77.19%</td>\n",
       "      <td>88.57%</td>\n",
       "      <td>86.57%</td>\n",
       "      <td>75.93%</td>\n",
       "      <td>71.83%</td>\n",
       "      <td>72.53%</td>\n",
       "      <td>78.33%</td>\n",
       "      <td>76.27%</td>\n",
       "      <td>77.42%</td>\n",
       "      <td>77.78%</td>\n",
       "      <td>76.81%</td>\n",
       "      <td>92.77%</td>\n",
       "      <td>70.69%</td>\n",
       "      <td>47.62%</td>\n",
       "      <td>59.18%</td>\n",
       "      <td>32.65%</td>\n",
       "      <td>37.93%</td>\n",
       "      <td>88.75%</td>\n",
       "      <td>83.08%</td>\n",
       "      <td>53.52%</td>\n",
       "      <td>80.77%</td>\n",
       "      <td>71.67%</td>\n",
       "      <td>78.08%</td>\n",
       "      <td>85.19%</td>\n",
       "      <td>84.85%</td>\n",
       "      <td>83.91%</td>\n",
       "      <td>81.52%</td>\n",
       "      <td>81.25%</td>\n",
       "      <td>81.16%</td>\n",
       "      <td>39.76%</td>\n",
       "      <td>45.28%</td>\n",
       "      <td>57.38%</td>\n",
       "      <td>47.37%</td>\n",
       "      <td>74.67%</td>\n",
       "      <td>56.41%</td>\n",
       "      <td>68.49%</td>\n",
       "      <td>53.73%</td>\n",
       "      <td>50.79%</td>\n",
       "      <td>80.3%</td>\n",
       "      <td>60.49%</td>\n",
       "      <td>61.19%</td>\n",
       "      <td>66.15%</td>\n",
       "      <td>52.56%</td>\n",
       "      <td>65.38%</td>\n",
       "      <td>54.55%</td>\n",
       "      <td>83.13%</td>\n",
       "      <td>77.94%</td>\n",
       "      <td>77.97%</td>\n",
       "      <td>75.36%</td>\n",
       "      <td>79.45%</td>\n",
       "      <td>78.48%</td>\n",
       "      <td>70.97%</td>\n",
       "      <td>61.76%</td>\n",
       "      <td>62.32%</td>\n",
       "      <td>66.07%</td>\n",
       "      <td>68.09%</td>\n",
       "      <td>70%</td>\n",
       "      <td>30.43%</td>\n",
       "      <td>61.04%</td>\n",
       "      <td>52.44%</td>\n",
       "      <td>77.27%</td>\n",
       "      <td>32.26%</td>\n",
       "      <td>jcf7190000000004</td>\n",
       "      <td>0.302994</td>\n",
       "    </tr>\n",
       "    <tr>\n",
       "      <th>jcf7190000000004-480109</th>\n",
       "      <td>79.35%</td>\n",
       "      <td>58.82%</td>\n",
       "      <td>76.15%</td>\n",
       "      <td>92.31%</td>\n",
       "      <td>68.66%</td>\n",
       "      <td>80%</td>\n",
       "      <td>86.75%</td>\n",
       "      <td>64.1%</td>\n",
       "      <td>86.15%</td>\n",
       "      <td>44.78%</td>\n",
       "      <td>70.69%</td>\n",
       "      <td>69.51%</td>\n",
       "      <td>70.67%</td>\n",
       "      <td>77.78%</td>\n",
       "      <td>75%</td>\n",
       "      <td>74.24%</td>\n",
       "      <td>70.97%</td>\n",
       "      <td>82.72%</td>\n",
       "      <td>68.67%</td>\n",
       "      <td>88.76%</td>\n",
       "      <td>70.27%</td>\n",
       "      <td>75.86%</td>\n",
       "      <td>88.73%</td>\n",
       "      <td>77.19%</td>\n",
       "      <td>72.5%</td>\n",
       "      <td>76.25%</td>\n",
       "      <td>82.61%</td>\n",
       "      <td>79.03%</td>\n",
       "      <td>73.02%</td>\n",
       "      <td>57.65%</td>\n",
       "      <td>61.05%</td>\n",
       "      <td>62.67%</td>\n",
       "      <td>70.51%</td>\n",
       "      <td>94.64%</td>\n",
       "      <td>70%</td>\n",
       "      <td>70%</td>\n",
       "      <td>71.57%</td>\n",
       "      <td>64.71%</td>\n",
       "      <td>58.73%</td>\n",
       "      <td>61.82%</td>\n",
       "      <td>22%</td>\n",
       "      <td>39.73%</td>\n",
       "      <td>80.68%</td>\n",
       "      <td>70%</td>\n",
       "      <td>74.29%</td>\n",
       "      <td>65%</td>\n",
       "      <td>76.32%</td>\n",
       "      <td>67.05%</td>\n",
       "      <td>75%</td>\n",
       "      <td>83.1%</td>\n",
       "      <td>70.11%</td>\n",
       "      <td>73.08%</td>\n",
       "      <td>78.76%</td>\n",
       "      <td>79.1%</td>\n",
       "      <td>63.22%</td>\n",
       "      <td>60%</td>\n",
       "      <td>66.2%</td>\n",
       "      <td>71.88%</td>\n",
       "      <td>77.14%</td>\n",
       "      <td>54.02%</td>\n",
       "      <td>67.42%</td>\n",
       "      <td>60.49%</td>\n",
       "      <td>66.67%</td>\n",
       "      <td>79.73%</td>\n",
       "      <td>65.98%</td>\n",
       "      <td>67.06%</td>\n",
       "      <td>74.39%</td>\n",
       "      <td>70.79%</td>\n",
       "      <td>76.61%</td>\n",
       "      <td>53.85%</td>\n",
       "      <td>68.75%</td>\n",
       "      <td>66.67%</td>\n",
       "      <td>55.56%</td>\n",
       "      <td>67.57%</td>\n",
       "      <td>66.67%</td>\n",
       "      <td>72.73%</td>\n",
       "      <td>78.26%</td>\n",
       "      <td>55.17%</td>\n",
       "      <td>73.42%</td>\n",
       "      <td>82.26%</td>\n",
       "      <td>60.71%</td>\n",
       "      <td>62.12%</td>\n",
       "      <td>45.12%</td>\n",
       "      <td>72.29%</td>\n",
       "      <td>55.56%</td>\n",
       "      <td>82.35%</td>\n",
       "      <td>44.44%</td>\n",
       "      <td>jcf7190000000004</td>\n",
       "      <td>0.303194</td>\n",
       "    </tr>\n",
       "    <tr>\n",
       "      <th>jcf7190000000004-480120</th>\n",
       "      <td>82.42%</td>\n",
       "      <td>71.28%</td>\n",
       "      <td>86.84%</td>\n",
       "      <td>68%</td>\n",
       "      <td>80.3%</td>\n",
       "      <td>80.56%</td>\n",
       "      <td>85.37%</td>\n",
       "      <td>66.67%</td>\n",
       "      <td>74.6%</td>\n",
       "      <td>45.31%</td>\n",
       "      <td>77.59%</td>\n",
       "      <td>67.9%</td>\n",
       "      <td>77.46%</td>\n",
       "      <td>90.12%</td>\n",
       "      <td>75.61%</td>\n",
       "      <td>73.44%</td>\n",
       "      <td>72.58%</td>\n",
       "      <td>83.78%</td>\n",
       "      <td>79.31%</td>\n",
       "      <td>94.05%</td>\n",
       "      <td>82.5%</td>\n",
       "      <td>81.48%</td>\n",
       "      <td>85.92%</td>\n",
       "      <td>79.66%</td>\n",
       "      <td>79.52%</td>\n",
       "      <td>91.78%</td>\n",
       "      <td>84.44%</td>\n",
       "      <td>87.3%</td>\n",
       "      <td>84.13%</td>\n",
       "      <td>67.78%</td>\n",
       "      <td>74.23%</td>\n",
       "      <td>76.39%</td>\n",
       "      <td>77.5%</td>\n",
       "      <td>77.19%</td>\n",
       "      <td>77.97%</td>\n",
       "      <td>78.16%</td>\n",
       "      <td>85.32%</td>\n",
       "      <td>85.07%</td>\n",
       "      <td>57.58%</td>\n",
       "      <td>67.92%</td>\n",
       "      <td>26%</td>\n",
       "      <td>42.11%</td>\n",
       "      <td>91.95%</td>\n",
       "      <td>77.17%</td>\n",
       "      <td>78.26%</td>\n",
       "      <td>76.19%</td>\n",
       "      <td>84.21%</td>\n",
       "      <td>78.02%</td>\n",
       "      <td>72.31%</td>\n",
       "      <td>93.15%</td>\n",
       "      <td>82.14%</td>\n",
       "      <td>88.29%</td>\n",
       "      <td>92.04%</td>\n",
       "      <td>89.04%</td>\n",
       "      <td>52.81%</td>\n",
       "      <td>57.14%</td>\n",
       "      <td>61.97%</td>\n",
       "      <td>67.69%</td>\n",
       "      <td>80.3%</td>\n",
       "      <td>59.55%</td>\n",
       "      <td>72.53%</td>\n",
       "      <td>68.42%</td>\n",
       "      <td>63.33%</td>\n",
       "      <td>89.47%</td>\n",
       "      <td>67.65%</td>\n",
       "      <td>64.77%</td>\n",
       "      <td>70.73%</td>\n",
       "      <td>71.43%</td>\n",
       "      <td>64.75%</td>\n",
       "      <td>66.67%</td>\n",
       "      <td>74.39%</td>\n",
       "      <td>81.58%</td>\n",
       "      <td>80.25%</td>\n",
       "      <td>81.33%</td>\n",
       "      <td>80.28%</td>\n",
       "      <td>76.32%</td>\n",
       "      <td>75.81%</td>\n",
       "      <td>65.52%</td>\n",
       "      <td>60.49%</td>\n",
       "      <td>70.77%</td>\n",
       "      <td>63.64%</td>\n",
       "      <td>68.18%</td>\n",
       "      <td>48.1%</td>\n",
       "      <td>65.85%</td>\n",
       "      <td>61.18%</td>\n",
       "      <td>82.09%</td>\n",
       "      <td>42.86%</td>\n",
       "      <td>jcf7190000000004</td>\n",
       "      <td>0.259579</td>\n",
       "    </tr>\n",
       "    <tr>\n",
       "      <th>jcf7190000000004-480192</th>\n",
       "      <td>20.41%</td>\n",
       "      <td>43.18%</td>\n",
       "      <td>66%</td>\n",
       "      <td>15.38%</td>\n",
       "      <td>56.25%</td>\n",
       "      <td>19.12%</td>\n",
       "      <td>29.63%</td>\n",
       "      <td>25.3%</td>\n",
       "      <td>20%</td>\n",
       "      <td>26.15%</td>\n",
       "      <td>20.59%</td>\n",
       "      <td>32.39%</td>\n",
       "      <td>14.29%</td>\n",
       "      <td>46.58%</td>\n",
       "      <td>22.89%</td>\n",
       "      <td>23.33%</td>\n",
       "      <td>32.69%</td>\n",
       "      <td>56.94%</td>\n",
       "      <td>45.45%</td>\n",
       "      <td>61.43%</td>\n",
       "      <td>38.67%</td>\n",
       "      <td>41.18%</td>\n",
       "      <td>27.69%</td>\n",
       "      <td>33.9%</td>\n",
       "      <td>56.06%</td>\n",
       "      <td>50.77%</td>\n",
       "      <td>43.18%</td>\n",
       "      <td>56.36%</td>\n",
       "      <td>50.85%</td>\n",
       "      <td>42.68%</td>\n",
       "      <td>48%</td>\n",
       "      <td>43.66%</td>\n",
       "      <td>55.22%</td>\n",
       "      <td>17.86%</td>\n",
       "      <td>35.59%</td>\n",
       "      <td>42.03%</td>\n",
       "      <td>54.21%</td>\n",
       "      <td>45.83%</td>\n",
       "      <td>14.52%</td>\n",
       "      <td>32.69%</td>\n",
       "      <td>18.97%</td>\n",
       "      <td>19.67%</td>\n",
       "      <td>44.16%</td>\n",
       "      <td>52.5%</td>\n",
       "      <td>25.68%</td>\n",
       "      <td>50.7%</td>\n",
       "      <td>28%</td>\n",
       "      <td>53.93%</td>\n",
       "      <td>75.76%</td>\n",
       "      <td>52.05%</td>\n",
       "      <td>30.68%</td>\n",
       "      <td>49.04%</td>\n",
       "      <td>58.88%</td>\n",
       "      <td>50%</td>\n",
       "      <td>42.17%</td>\n",
       "      <td>20.55%</td>\n",
       "      <td>32.79%</td>\n",
       "      <td>13.79%</td>\n",
       "      <td>46.38%</td>\n",
       "      <td>27.85%</td>\n",
       "      <td>26%</td>\n",
       "      <td>29.63%</td>\n",
       "      <td>38.6%</td>\n",
       "      <td>35%</td>\n",
       "      <td>24.49%</td>\n",
       "      <td>11.96%</td>\n",
       "      <td>32.43%</td>\n",
       "      <td>28.4%</td>\n",
       "      <td>26.92%</td>\n",
       "      <td>26.09%</td>\n",
       "      <td>53.52%</td>\n",
       "      <td>45%</td>\n",
       "      <td>50.63%</td>\n",
       "      <td>45.59%</td>\n",
       "      <td>39.06%</td>\n",
       "      <td>58.57%</td>\n",
       "      <td>15.38%</td>\n",
       "      <td>15.73%</td>\n",
       "      <td>34.12%</td>\n",
       "      <td>23.33%</td>\n",
       "      <td>30.91%</td>\n",
       "      <td>57.14%</td>\n",
       "      <td>18.6%</td>\n",
       "      <td>10.13%</td>\n",
       "      <td>14.47%</td>\n",
       "      <td>22.95%</td>\n",
       "      <td>25%</td>\n",
       "      <td>jcf7190000000004</td>\n",
       "      <td>0.360938</td>\n",
       "    </tr>\n",
       "  </tbody>\n",
       "</table>\n",
       "</div>"
      ],
      "text/plain": [
       "                        DF_p1.FREQ DF_p18.FREQ DF_p19.FREQ DF_p2.FREQ  \\\n",
       "jcf7190000000004-54589      86.67%      98.08%        100%     83.87%   \n",
       "jcf7190000000004-480048     78.75%      65.12%      85.37%     71.43%   \n",
       "jcf7190000000004-480109     79.35%      58.82%      76.15%     92.31%   \n",
       "jcf7190000000004-480120     82.42%      71.28%      86.84%        68%   \n",
       "jcf7190000000004-480192     20.41%      43.18%         66%     15.38%   \n",
       "\n",
       "                        DF_p20.FREQ DF_p23.FREQ DF_p24.FREQ DF_p25.FREQ  \\\n",
       "jcf7190000000004-54589         100%      89.13%      84.93%      83.58%   \n",
       "jcf7190000000004-480048      77.19%      82.35%      69.86%      57.14%   \n",
       "jcf7190000000004-480109      68.66%         80%      86.75%       64.1%   \n",
       "jcf7190000000004-480120       80.3%      80.56%      85.37%      66.67%   \n",
       "jcf7190000000004-480192      56.25%      19.12%      29.63%       25.3%   \n",
       "\n",
       "                        DF_p26.FREQ DF_p27.FREQ DF_p28.FREQ DF_p10.FREQ  \\\n",
       "jcf7190000000004-54589          84%      58.21%      85.37%      71.67%   \n",
       "jcf7190000000004-480048      67.35%       33.9%      66.67%      60.26%   \n",
       "jcf7190000000004-480109      86.15%      44.78%      70.69%      69.51%   \n",
       "jcf7190000000004-480120       74.6%      45.31%      77.59%       67.9%   \n",
       "jcf7190000000004-480192         20%      26.15%      20.59%      32.39%   \n",
       "\n",
       "                        DF_p29.FREQ DF_p3.FREQ DF_p30.FREQ DF_p31.FREQ  \\\n",
       "jcf7190000000004-54589       93.59%       100%         80%      80.49%   \n",
       "jcf7190000000004-480048      57.83%     85.94%      72.73%      70.31%   \n",
       "jcf7190000000004-480109      70.67%     77.78%         75%      74.24%   \n",
       "jcf7190000000004-480120      77.46%     90.12%      75.61%      73.44%   \n",
       "jcf7190000000004-480192      14.29%     46.58%      22.89%      23.33%   \n",
       "\n",
       "                        DF_p32.FREQ DF_p33.FREQ DF_p34.FREQ DF_p35.FREQ  \\\n",
       "jcf7190000000004-54589       78.33%        100%        100%        100%   \n",
       "jcf7190000000004-480048      66.67%      89.47%      88.24%      88.16%   \n",
       "jcf7190000000004-480109      70.97%      82.72%      68.67%      88.76%   \n",
       "jcf7190000000004-480120      72.58%      83.78%      79.31%      94.05%   \n",
       "jcf7190000000004-480192      32.69%      56.94%      45.45%      61.43%   \n",
       "\n",
       "                        DF_p36.FREQ DF_p37.FREQ DF_p11.FREQ DF_p38.FREQ  \\\n",
       "jcf7190000000004-54589       91.38%        100%      85.96%        100%   \n",
       "jcf7190000000004-480048      77.42%      90.91%      80.33%      84.62%   \n",
       "jcf7190000000004-480109      70.27%      75.86%      88.73%      77.19%   \n",
       "jcf7190000000004-480120       82.5%      81.48%      85.92%      79.66%   \n",
       "jcf7190000000004-480192      38.67%      41.18%      27.69%       33.9%   \n",
       "\n",
       "                        DF_p39.FREQ DF_p4.FREQ DF_p40.FREQ DF_p41.FREQ  \\\n",
       "jcf7190000000004-54589        91.3%       100%        100%        100%   \n",
       "jcf7190000000004-480048      86.11%     77.19%      88.57%      86.57%   \n",
       "jcf7190000000004-480109       72.5%     76.25%      82.61%      79.03%   \n",
       "jcf7190000000004-480120      79.52%     91.78%      84.44%       87.3%   \n",
       "jcf7190000000004-480192      56.06%     50.77%      43.18%      56.36%   \n",
       "\n",
       "                        DF_p42.FREQ DF_p43.FREQ DF_p44.FREQ DF_p45.FREQ  \\\n",
       "jcf7190000000004-54589       96.15%        100%      85.07%      98.31%   \n",
       "jcf7190000000004-480048      75.93%      71.83%      72.53%      78.33%   \n",
       "jcf7190000000004-480109      73.02%      57.65%      61.05%      62.67%   \n",
       "jcf7190000000004-480120      84.13%      67.78%      74.23%      76.39%   \n",
       "jcf7190000000004-480192      50.85%      42.68%         48%      43.66%   \n",
       "\n",
       "                        DF_p46.FREQ DF_p12.FREQ DF_p47.FREQ DF_p48.FREQ  \\\n",
       "jcf7190000000004-54589         100%        100%      98.04%       93.1%   \n",
       "jcf7190000000004-480048      76.27%      77.42%      77.78%      76.81%   \n",
       "jcf7190000000004-480109      70.51%      94.64%         70%         70%   \n",
       "jcf7190000000004-480120       77.5%      77.19%      77.97%      78.16%   \n",
       "jcf7190000000004-480192      55.22%      17.86%      35.59%      42.03%   \n",
       "\n",
       "                        DF_p49.FREQ DF_p5.FREQ DF_p50.FREQ DF_p51.FREQ  \\\n",
       "jcf7190000000004-54589       98.46%       100%      84.31%      89.29%   \n",
       "jcf7190000000004-480048      92.77%     70.69%      47.62%      59.18%   \n",
       "jcf7190000000004-480109      71.57%     64.71%      58.73%      61.82%   \n",
       "jcf7190000000004-480120      85.32%     85.07%      57.58%      67.92%   \n",
       "jcf7190000000004-480192      54.21%     45.83%      14.52%      32.69%   \n",
       "\n",
       "                        DF_p52.FREQ DF_p53.FREQ DF_p54.FREQ DF_p55.FREQ  \\\n",
       "jcf7190000000004-54589       89.86%       61.9%        100%      97.01%   \n",
       "jcf7190000000004-480048      32.65%      37.93%      88.75%      83.08%   \n",
       "jcf7190000000004-480109         22%      39.73%      80.68%         70%   \n",
       "jcf7190000000004-480120         26%      42.11%      91.95%      77.17%   \n",
       "jcf7190000000004-480192      18.97%      19.67%      44.16%       52.5%   \n",
       "\n",
       "                        DF_p13.FREQ DF_p56.FREQ DF_p57.FREQ DF_p58.FREQ  \\\n",
       "jcf7190000000004-54589       77.97%        100%        100%        100%   \n",
       "jcf7190000000004-480048      53.52%      80.77%      71.67%      78.08%   \n",
       "jcf7190000000004-480109      74.29%         65%      76.32%      67.05%   \n",
       "jcf7190000000004-480120      78.26%      76.19%      84.21%      78.02%   \n",
       "jcf7190000000004-480192      25.68%       50.7%         28%      53.93%   \n",
       "\n",
       "                        DF_p59.FREQ DF_p6.FREQ DF_p60.FREQ DF_p61.FREQ  \\\n",
       "jcf7190000000004-54589         100%     91.53%      95.95%        100%   \n",
       "jcf7190000000004-480048      85.19%     84.85%      83.91%      81.52%   \n",
       "jcf7190000000004-480109         75%      83.1%      70.11%      73.08%   \n",
       "jcf7190000000004-480120      72.31%     93.15%      82.14%      88.29%   \n",
       "jcf7190000000004-480192      75.76%     52.05%      30.68%      49.04%   \n",
       "\n",
       "                        DF_p62.FREQ DF_p7.FREQ DF_p72.FREQ DF_p14.FREQ  \\\n",
       "jcf7190000000004-54589         100%     98.41%      63.38%      76.19%   \n",
       "jcf7190000000004-480048      81.25%     81.16%      39.76%      45.28%   \n",
       "jcf7190000000004-480109      78.76%      79.1%      63.22%         60%   \n",
       "jcf7190000000004-480120      92.04%     89.04%      52.81%      57.14%   \n",
       "jcf7190000000004-480192      58.88%        50%      42.17%      20.55%   \n",
       "\n",
       "                        DF_p73.FREQ DF_p74.FREQ DF_p75.FREQ DF_p76.FREQ  \\\n",
       "jcf7190000000004-54589       72.88%      86.36%      91.38%      65.67%   \n",
       "jcf7190000000004-480048      57.38%      47.37%      74.67%      56.41%   \n",
       "jcf7190000000004-480109       66.2%      71.88%      77.14%      54.02%   \n",
       "jcf7190000000004-480120      61.97%      67.69%       80.3%      59.55%   \n",
       "jcf7190000000004-480192      32.79%      13.79%      46.38%      27.85%   \n",
       "\n",
       "                        DF_p77.FREQ DF_p78.FREQ DF_p79.FREQ DF_p8.FREQ  \\\n",
       "jcf7190000000004-54589       93.67%      80.52%      72.31%     97.73%   \n",
       "jcf7190000000004-480048      68.49%      53.73%      50.79%      80.3%   \n",
       "jcf7190000000004-480109      67.42%      60.49%      66.67%     79.73%   \n",
       "jcf7190000000004-480120      72.53%      68.42%      63.33%     89.47%   \n",
       "jcf7190000000004-480192         26%      29.63%       38.6%        35%   \n",
       "\n",
       "                        DF_p80.FREQ DF_p81.FREQ DF_p15.FREQ DF_p82.FREQ  \\\n",
       "jcf7190000000004-54589       74.36%      79.31%      72.22%      79.73%   \n",
       "jcf7190000000004-480048      60.49%      61.19%      66.15%      52.56%   \n",
       "jcf7190000000004-480109      65.98%      67.06%      74.39%      70.79%   \n",
       "jcf7190000000004-480120      67.65%      64.77%      70.73%      71.43%   \n",
       "jcf7190000000004-480192      24.49%      11.96%      32.43%       28.4%   \n",
       "\n",
       "                        DF_p83.FREQ DF_p84.FREQ DF_p85.FREQ DF_p86.FREQ  \\\n",
       "jcf7190000000004-54589       81.61%      58.97%        100%        100%   \n",
       "jcf7190000000004-480048      65.38%      54.55%      83.13%      77.94%   \n",
       "jcf7190000000004-480109      76.61%      53.85%      68.75%      66.67%   \n",
       "jcf7190000000004-480120      64.75%      66.67%      74.39%      81.58%   \n",
       "jcf7190000000004-480192      26.92%      26.09%      53.52%         45%   \n",
       "\n",
       "                        DF_p87.FREQ DF_p88.FREQ DF_p89.FREQ DF_p9.FREQ  \\\n",
       "jcf7190000000004-54589         100%        100%      96.88%       100%   \n",
       "jcf7190000000004-480048      77.97%      75.36%      79.45%     78.48%   \n",
       "jcf7190000000004-480109      55.56%      67.57%      66.67%     72.73%   \n",
       "jcf7190000000004-480120      80.25%      81.33%      80.28%     76.32%   \n",
       "jcf7190000000004-480192      50.63%      45.59%      39.06%     58.57%   \n",
       "\n",
       "                        DF_p90.FREQ DF_p16.FREQ DF_p91.FREQ DF_p92.FREQ  \\\n",
       "jcf7190000000004-54589       68.63%      76.12%      84.29%      95.38%   \n",
       "jcf7190000000004-480048      70.97%      61.76%      62.32%      66.07%   \n",
       "jcf7190000000004-480109      78.26%      55.17%      73.42%      82.26%   \n",
       "jcf7190000000004-480120      75.81%      65.52%      60.49%      70.77%   \n",
       "jcf7190000000004-480192      15.38%      15.73%      34.12%      23.33%   \n",
       "\n",
       "                        DF_p93.FREQ DF_p94.FREQ DF_p95.FREQ DF_p96.FREQ  \\\n",
       "jcf7190000000004-54589       83.33%        100%      76.19%      61.76%   \n",
       "jcf7190000000004-480048      68.09%         70%      30.43%      61.04%   \n",
       "jcf7190000000004-480109      60.71%      62.12%      45.12%      72.29%   \n",
       "jcf7190000000004-480120      63.64%      68.18%       48.1%      65.85%   \n",
       "jcf7190000000004-480192      30.91%      57.14%       18.6%      10.13%   \n",
       "\n",
       "                        DF_p97.FREQ DF_p98.FREQ DF_p17.FREQ             CHROM  \\\n",
       "jcf7190000000004-54589       82.81%      97.26%      86.36%  jcf7190000000004   \n",
       "jcf7190000000004-480048      52.44%      77.27%      32.26%  jcf7190000000004   \n",
       "jcf7190000000004-480109      55.56%      82.35%      44.44%  jcf7190000000004   \n",
       "jcf7190000000004-480120      61.18%      82.09%      42.86%  jcf7190000000004   \n",
       "jcf7190000000004-480192      14.47%      22.95%         25%  jcf7190000000004   \n",
       "\n",
       "                              MAF  \n",
       "jcf7190000000004-54589   0.110721  \n",
       "jcf7190000000004-480048  0.302994  \n",
       "jcf7190000000004-480109  0.303194  \n",
       "jcf7190000000004-480120  0.259579  \n",
       "jcf7190000000004-480192  0.360938  "
      ]
     },
     "execution_count": 114,
     "metadata": {},
     "output_type": "execute_result"
    }
   ],
   "source": [
    "# # reduce snp table to no missing loci\n",
    "# reduced = reduced[reduced.index.isin(nomissingloci)]\n",
    "# reduced.head()"
   ]
  },
  {
   "cell_type": "code",
   "execution_count": 94,
   "metadata": {},
   "outputs": [
    {
     "data": {
      "text/plain": [
       "(208205, 208205)"
      ]
     },
     "execution_count": 94,
     "metadata": {},
     "output_type": "execute_result"
    }
   ],
   "source": [
    "# len(nomissingloci), nrow(reduced)"
   ]
  },
  {
   "cell_type": "code",
   "execution_count": 95,
   "metadata": {},
   "outputs": [
    {
     "data": {
      "text/plain": [
       "1995933"
      ]
     },
     "execution_count": 95,
     "metadata": {},
     "output_type": "execute_result"
    }
   ],
   "source": [
    "# nrow(snps)"
   ]
  },
  {
   "cell_type": "code",
   "execution_count": 116,
   "metadata": {
    "scrolled": true
   },
   "outputs": [
    {
     "data": {
      "image/png": "[encoded data removed]",
      "text/plain": [
       "<Figure size 432x288 with 1 Axes>"
      ]
     },
     "metadata": {
      "needs_background": "light"
     },
     "output_type": "display_data"
    }
   ],
   "source": [
    "# plt.hist(reduced['MAF'], bins=100)\n",
    "# plt.title('SNPs with no missing data\\nAnd 20 < DP < 1000\\nall contigs')\n",
    "# plt.show()"
   ]
  },
  {
   "cell_type": "code",
   "execution_count": 117,
   "metadata": {},
   "outputs": [
    {
     "data": {
      "image/png": "[encoded data removed]",
      "text/plain": [
       "<Figure size 432x288 with 1 Axes>"
      ]
     },
     "metadata": {
      "needs_background": "light"
     },
     "output_type": "display_data"
    }
   ],
   "source": [
    "# plt.hist(snps['MAF'],bins=100)\n",
    "# plt.title('all SNPs')\n",
    "# plt.show()"
   ]
  },
  {
   "cell_type": "markdown",
   "metadata": {},
   "source": [
    "#### try to reduce to X% missing data ... Result: any filtering resulted in a visibly different MAF spectrum"
   ]
  },
  {
   "cell_type": "code",
   "execution_count": 110,
   "metadata": {},
   "outputs": [
    {
     "data": {
      "text/plain": [
       "(1987784, 90)"
      ]
     },
     "execution_count": 110,
     "metadata": {},
     "output_type": "execute_result"
    }
   ],
   "source": [
    "reduced.shape"
   ]
  },
  {
   "cell_type": "code",
   "execution_count": 111,
   "metadata": {},
   "outputs": [
    {
     "name": "stdout",
     "output_type": "stream",
     "text": [
      "10 10\n"
     ]
    }
   ],
   "source": [
    "lview,dview = get_client()"
   ]
  },
  {
   "cell_type": "code",
   "execution_count": 112,
   "metadata": {},
   "outputs": [],
   "source": [
    "def filter_perc(loci, perc=0.10):\n",
    "    \"\"\"Return only loci with missing data <= perc arg.\n",
    "    freqcols = all cols with .FREQ in col name\n",
    "    \"\"\"\n",
    "    import pandas\n",
    "    from tqdm.notebook import tqdm as nb\n",
    "\n",
    "    keep = []\n",
    "    for locus in nb(loci):\n",
    "        sums = sum([1 for freq in reduced.loc[locus,freqcols] if freq!=freq])\n",
    "        if sums/len(freqcols) <= perc:\n",
    "            keep.append(locus)\n",
    "    return keep\n",
    "dview['reduced'] = reduced\n",
    "dview['freqcols'] = freqcols"
   ]
  },
  {
   "cell_type": "code",
   "execution_count": 113,
   "metadata": {},
   "outputs": [
    {
     "data": {
      "text/plain": [
       "(1987784, 90)"
      ]
     },
     "execution_count": 113,
     "metadata": {},
     "output_type": "execute_result"
    }
   ],
   "source": [
    "reduced.shape"
   ]
  },
  {
   "cell_type": "code",
   "execution_count": 114,
   "metadata": {},
   "outputs": [
    {
     "data": {
      "text/plain": [
       "198778.4"
      ]
     },
     "execution_count": 114,
     "metadata": {},
     "output_type": "execute_result"
    }
   ],
   "source": [
    "nrow(reduced)/len(lview)"
   ]
  },
  {
   "cell_type": "code",
   "execution_count": 115,
   "metadata": {},
   "outputs": [
    {
     "data": {
      "text/plain": [
       "24937"
      ]
     },
     "execution_count": 115,
     "metadata": {},
     "output_type": "execute_result"
    }
   ],
   "source": [
    "luni(reduced['CHROM'])"
   ]
  },
  {
   "cell_type": "markdown",
   "metadata": {},
   "source": [
    "<center> SETTING PERC TO 0.25 MEANS NO LOCI WERE FILTERED BY MAF\n",
    "    \n",
    "    if I tried filtering < 25% missing data, the MAF spectrum looked weird, leaving the code inplace."
   ]
  },
  {
   "cell_type": "code",
   "execution_count": 96,
   "metadata": {},
   "outputs": [
    {
     "name": "stdout",
     "output_type": "stream",
     "text": [
      "10\n",
      "10\n"
     ]
    }
   ],
   "source": [
    "jobs = send_chunks(filter_perc, reduced.index.tolist(), nrow(reduced)/len(lview), lview, {'perc':0.25})\n",
    "watch_async(jobs)"
   ]
  },
  {
   "cell_type": "code",
   "execution_count": 117,
   "metadata": {},
   "outputs": [
    {
     "name": "stdout",
     "output_type": "stream",
     "text": [
      "1987784\n"
     ]
    }
   ],
   "source": [
    "perc_above = []\n",
    "for j in jobs:\n",
    "    perc_above.extend(j.r)\n",
    "len(perc_above)"
   ]
  },
  {
   "cell_type": "code",
   "execution_count": 116,
   "metadata": {},
   "outputs": [
    {
     "data": {
      "text/plain": [
       "(1987784, 90)"
      ]
     },
     "execution_count": 116,
     "metadata": {},
     "output_type": "execute_result"
    }
   ],
   "source": [
    "print(reduced.shape)\n",
    "reduced = reduced[reduced.index.isin(perc_above)].copy()\n",
    "reduced.shape"
   ]
  },
  {
   "cell_type": "code",
   "execution_count": 119,
   "metadata": {},
   "outputs": [
    {
     "name": "stdout",
     "output_type": "stream",
     "text": [
      "50\n",
      "50\n"
     ]
    },
    {
     "data": {
      "image/png": "[encoded data removed]",
      "text/plain": [
       "<Figure size 1800x360 with 1 Axes>"
      ]
     },
     "metadata": {
      "needs_background": "light"
     },
     "output_type": "display_data"
    }
   ],
   "source": [
    "# this is what I used (pipeline default)\n",
    "make_mafdict_fig(get_mafdict(reduced['AF'], roundto=2),\n",
    "                 get_mafdict(snps['AF'], roundto=2),\n",
    "                 title='Doug fir\\nafter filtering for <= 25 % missing data (pipeline default)')"
   ]
  },
  {
   "cell_type": "code",
   "execution_count": 52,
   "metadata": {},
   "outputs": [
    {
     "name": "stdout",
     "output_type": "stream",
     "text": [
      "50\n",
      "50\n"
     ]
    },
    {
     "data": {
      "image/png": "[encoded data removed]",
      "text/plain": [
       "<Figure size 1800x360 with 1 Axes>"
      ]
     },
     "metadata": {
      "needs_background": "light"
     },
     "output_type": "display_data"
    }
   ],
   "source": [
    "# this is when trying to filter for less missing data than default (eg perc=0.1)\n",
    "make_mafdict_fig(get_mafdict(reduced['AF'], roundto=2),\n",
    "                 get_mafdict(snps['AF'], roundto=2),\n",
    "                 title='Doug fir\\nafter filtering for perc missing data')"
   ]
  },
  {
   "cell_type": "markdown",
   "metadata": {},
   "source": [
    "#### choose one snp per contig"
   ]
  },
  {
   "cell_type": "code",
   "execution_count": 127,
   "metadata": {},
   "outputs": [
    {
     "name": "stdout",
     "output_type": "stream",
     "text": [
      "30 30\n"
     ]
    }
   ],
   "source": [
    "lview,dview = get_client()"
   ]
  },
  {
   "cell_type": "code",
   "execution_count": 128,
   "metadata": {},
   "outputs": [
    {
     "data": {
      "text/plain": [
       "(1987784, 90)"
      ]
     },
     "execution_count": 128,
     "metadata": {},
     "output_type": "execute_result"
    }
   ],
   "source": [
    "reduced.shape"
   ]
  },
  {
   "cell_type": "code",
   "execution_count": 124,
   "metadata": {},
   "outputs": [],
   "source": [
    "def choose_random_loci(chrom_list):\n",
    "    \"\"\"For each chrom in chrom_list, randomly choose 1 snp.\"\"\"\n",
    "    from random import shuffle\n",
    "    from tqdm.notebook import tqdm as nb\n",
    "    \n",
    "    loci = []\n",
    "    for chrom in nb(chrom_list):\n",
    "        chrom_snps = list(reduced[reduced['CHROM']==chrom].index)\n",
    "        shuffle(chrom_snps)\n",
    "        loci.append(chrom_snps[0])\n",
    "\n",
    "    return loci\n",
    "dview['reduced'] = pd.DataFrame(reduced['CHROM'])  # reload reduced"
   ]
  },
  {
   "cell_type": "code",
   "execution_count": 130,
   "metadata": {},
   "outputs": [
    {
     "data": {
      "text/plain": [
       "24937"
      ]
     },
     "execution_count": 130,
     "metadata": {},
     "output_type": "execute_result"
    }
   ],
   "source": [
    "uni_chroms = uni(reduced['CHROM'])\n",
    "len(uni_chroms)"
   ]
  },
  {
   "cell_type": "code",
   "execution_count": 131,
   "metadata": {},
   "outputs": [
    {
     "data": {
      "text/plain": [
       "831.2333333333333"
      ]
     },
     "execution_count": 131,
     "metadata": {},
     "output_type": "execute_result"
    }
   ],
   "source": [
    "len(uni_chroms)/len(lview)"
   ]
  },
  {
   "cell_type": "code",
   "execution_count": 135,
   "metadata": {},
   "outputs": [
    {
     "name": "stdout",
     "output_type": "stream",
     "text": [
      "len(uni_chrom) = 24937\n",
      "30\n",
      "30\n"
     ]
    }
   ],
   "source": [
    "# send to choose_random_loci\n",
    "# jobs = send_chunks(choose_random_loci, uni_chroms, len(uni_chroms)/len(lview), lview)\n",
    "watch_async(jobs, phase='len(uni_chrom) = %s' % len(uni_chroms))"
   ]
  },
  {
   "cell_type": "code",
   "execution_count": 136,
   "metadata": {},
   "outputs": [
    {
     "data": {
      "text/plain": [
       "True"
      ]
     },
     "execution_count": 136,
     "metadata": {},
     "output_type": "execute_result"
    }
   ],
   "source": [
    "randomloci = []\n",
    "for j in jobs:\n",
    "    randomloci.extend(j.r)\n",
    "len(randomloci) == len(uni_chroms)"
   ]
  },
  {
   "cell_type": "code",
   "execution_count": 137,
   "metadata": {},
   "outputs": [
    {
     "data": {
      "text/plain": [
       "24937"
      ]
     },
     "execution_count": 137,
     "metadata": {},
     "output_type": "execute_result"
    }
   ],
   "source": [
    "len(randomloci)"
   ]
  },
  {
   "cell_type": "code",
   "execution_count": 138,
   "metadata": {},
   "outputs": [],
   "source": [
    "reduced = reduced[reduced.index.isin(randomloci)].copy()"
   ]
  },
  {
   "cell_type": "code",
   "execution_count": 139,
   "metadata": {},
   "outputs": [
    {
     "data": {
      "text/plain": [
       "(24937, 90)"
      ]
     },
     "execution_count": 139,
     "metadata": {},
     "output_type": "execute_result"
    }
   ],
   "source": [
    "reduced.shape"
   ]
  },
  {
   "cell_type": "code",
   "execution_count": 140,
   "metadata": {},
   "outputs": [
    {
     "name": "stdout",
     "output_type": "stream",
     "text": [
      "50\n",
      "50\n"
     ]
    },
    {
     "data": {
      "image/png": "[encoded data removed]",
      "text/plain": [
       "<Figure size 1800x360 with 1 Axes>"
      ]
     },
     "metadata": {
      "needs_background": "light"
     },
     "output_type": "display_data"
    }
   ],
   "source": [
    "make_mafdict_fig(get_mafdict(reduced['AF'], roundto=2),\n",
    "                 get_mafdict(snps['AF'], roundto=2),\n",
    "                 title='Doug fir\\nafter choose one SNP per contig for contigs > 1Kb')"
   ]
  },
  {
   "cell_type": "markdown",
   "metadata": {},
   "source": [
    "#### get an idea of r2 values so we can determine an empirical high-end cutoff"
   ]
  },
  {
   "cell_type": "code",
   "execution_count": 75,
   "metadata": {},
   "outputs": [],
   "source": [
    "# # skip choosing 1 per contig to see what happens\n",
    "# randomloci = list(nomissingloci)"
   ]
  },
  {
   "cell_type": "code",
   "execution_count": 146,
   "metadata": {},
   "outputs": [
    {
     "name": "stdout",
     "output_type": "stream",
     "text": [
      "56 56\n"
     ]
    }
   ],
   "source": [
    "lview,dview = get_client()"
   ]
  },
  {
   "cell_type": "code",
   "execution_count": 147,
   "metadata": {
    "scrolled": false
   },
   "outputs": [],
   "source": [
    "def getfreqs(myloci):\n",
    "    \"\"\"Get the population ALT frequency as a float (reported as a str in table).\n",
    "    \n",
    "    Returns\n",
    "    -------\n",
    "    list of tuples\n",
    "        - first element = locus name\n",
    "        - second element = pandas.Series\n",
    "    \"\"\"\n",
    "    rets = []\n",
    "    for locus in myloci:\n",
    "        rets.append((locus, reduced.loc[locus, freqcols].str.replace(\"%\", \"\").astype(float) / 100))\n",
    "    return rets\n",
    "dview['getfreqs'] = getfreqs\n",
    "dview['freqcols'] = freqcols\n",
    "dview['reduced'] = reduced[freqcols]\n",
    "\n",
    "def getr2(myloci):\n",
    "    from scipy.stats import pearsonr\n",
    "    from numpy import logical_or\n",
    "    from tqdm.notebook import tqdm as nb\n",
    "\n",
    "    freqs = dict((locus, freqs) for (locus,freqs) in getfreqs(myloci))\n",
    "\n",
    "    r2vals = []\n",
    "    i = 0\n",
    "    for locusi in nb(myloci):\n",
    "        for j,locusj in enumerate(myloci):\n",
    "            if i < j:\n",
    "                nas = logical_or(freqs[locusi].isnull(), freqs[locusj].isnull())\n",
    "                r2 = pearsonr(freqs[locusi][~nas], freqs[locusj][~nas])[0]**2\n",
    "                r2vals.append(r2)\n",
    "        i += 1\n",
    "    return r2vals"
   ]
  },
  {
   "cell_type": "code",
   "execution_count": 148,
   "metadata": {
    "scrolled": true
   },
   "outputs": [
    {
     "name": "stdout",
     "output_type": "stream",
     "text": [
      "100\n",
      "100\n"
     ]
    }
   ],
   "source": [
    "jobs = send_chunks(getr2, randomloci, 250, lview)\n",
    "watch_async(jobs)"
   ]
  },
  {
   "cell_type": "code",
   "execution_count": 149,
   "metadata": {},
   "outputs": [
    {
     "data": {
      "image/png": "[encoded data removed]",
      "text/plain": [
       "<Figure size 432x288 with 1 Axes>"
      ]
     },
     "metadata": {
      "needs_background": "light"
     },
     "output_type": "display_data"
    }
   ],
   "source": [
    "r2vals = []\n",
    "for j in jobs:\n",
    "    r2vals.extend(j.r)\n",
    "plt.hist(r2vals, bins=100)\n",
    "plt.show()"
   ]
  },
  {
   "cell_type": "code",
   "execution_count": 150,
   "metadata": {},
   "outputs": [
    {
     "data": {
      "text/plain": [
       "0.7746249983386226"
      ]
     },
     "execution_count": 150,
     "metadata": {},
     "output_type": "execute_result"
    }
   ],
   "source": [
    "# get 99.9th percentile\n",
    "r2thresh = sorted(r2vals)[math.ceil(len(r2vals)*.999)]\n",
    "r2thresh"
   ]
  },
  {
   "cell_type": "code",
   "execution_count": 151,
   "metadata": {},
   "outputs": [
    {
     "data": {
      "text/plain": [
       "0.8764139976287196"
      ]
     },
     "execution_count": 151,
     "metadata": {},
     "output_type": "execute_result"
    }
   ],
   "source": [
    "# what is 99.99th percentile?\n",
    "sorted(r2vals)[math.ceil(len(r2vals)*.9999)]"
   ]
  },
  {
   "cell_type": "code",
   "execution_count": 152,
   "metadata": {},
   "outputs": [
    {
     "data": {
      "text/plain": [
       "0.5955066930267439"
      ]
     },
     "execution_count": 152,
     "metadata": {},
     "output_type": "execute_result"
    }
   ],
   "source": [
    "# what is 99th percentile?\n",
    "sorted(r2vals)[math.ceil(len(r2vals)*.99)]"
   ]
  },
  {
   "cell_type": "code",
   "execution_count": 161,
   "metadata": {},
   "outputs": [],
   "source": [
    "# percentiles are too high, let's see what 0.2 looks like\n",
    "r2thresh = 0.2"
   ]
  },
  {
   "cell_type": "code",
   "execution_count": 162,
   "metadata": {},
   "outputs": [
    {
     "name": "stdout",
     "output_type": "stream",
     "text": [
      "2579302\n"
     ]
    }
   ],
   "source": [
    "for i,x in enumerate(sorted(r2vals)):\n",
    "    if x > r2thresh:\n",
    "        print(i)\n",
    "        break"
   ]
  },
  {
   "cell_type": "code",
   "execution_count": 163,
   "metadata": {},
   "outputs": [
    {
     "data": {
      "text/plain": [
       "0.8323642378934066"
      ]
     },
     "execution_count": 163,
     "metadata": {},
     "output_type": "execute_result"
    }
   ],
   "source": [
    "i/len(r2vals)  # percentile of r2thresh in r2vals"
   ]
  },
  {
   "cell_type": "code",
   "execution_count": 164,
   "metadata": {},
   "outputs": [
    {
     "data": {
      "text/plain": [
       "0.200000131483694"
      ]
     },
     "execution_count": 164,
     "metadata": {},
     "output_type": "execute_result"
    }
   ],
   "source": [
    "sorted(r2vals)[math.ceil(len(r2vals)*(i/len(r2vals)))]"
   ]
  },
  {
   "cell_type": "markdown",
   "metadata": {},
   "source": [
    "#### LD prune random loci¶"
   ]
  },
  {
   "cell_type": "code",
   "execution_count": 165,
   "metadata": {},
   "outputs": [
    {
     "data": {
      "text/plain": [
       "(24937, 90)"
      ]
     },
     "execution_count": 165,
     "metadata": {},
     "output_type": "execute_result"
    }
   ],
   "source": [
    "reduced.shape"
   ]
  },
  {
   "cell_type": "code",
   "execution_count": 166,
   "metadata": {},
   "outputs": [
    {
     "data": {
      "text/plain": [
       "24937"
      ]
     },
     "execution_count": 166,
     "metadata": {},
     "output_type": "execute_result"
    }
   ],
   "source": [
    "len(randomloci)"
   ]
  },
  {
   "cell_type": "code",
   "execution_count": 167,
   "metadata": {},
   "outputs": [
    {
     "data": {
      "text/plain": [
       "((1995933, 178), (24937, 90))"
      ]
     },
     "execution_count": 167,
     "metadata": {},
     "output_type": "execute_result"
    }
   ],
   "source": [
    "snps.shape, reduced.shape"
   ]
  },
  {
   "cell_type": "code",
   "execution_count": 168,
   "metadata": {},
   "outputs": [],
   "source": [
    "freqcols = [col for col in snps if '.FREQ' in col]"
   ]
  },
  {
   "cell_type": "code",
   "execution_count": 170,
   "metadata": {},
   "outputs": [
    {
     "data": {
      "text/plain": [
       "24937"
      ]
     },
     "execution_count": 170,
     "metadata": {},
     "output_type": "execute_result"
    }
   ],
   "source": [
    "freqs = dict((locus, freqs) for (locus,freqs) in getfreqs(randomloci))\n",
    "dview['freqs'] = freqs\n",
    "len(freqs)"
   ]
  },
  {
   "cell_type": "code",
   "execution_count": 171,
   "metadata": {},
   "outputs": [],
   "source": [
    "dview['reduced'] = None"
   ]
  },
  {
   "cell_type": "code",
   "execution_count": 172,
   "metadata": {},
   "outputs": [
    {
     "data": {
      "text/plain": [
       "56"
      ]
     },
     "execution_count": 172,
     "metadata": {},
     "output_type": "execute_result"
    }
   ],
   "source": [
    "len(lview)"
   ]
  },
  {
   "cell_type": "code",
   "execution_count": 173,
   "metadata": {},
   "outputs": [],
   "source": [
    "def prune_em(compareto, locusi=None, r2thresh=0.2):\n",
    "    from scipy.stats import pearsonr\n",
    "    from numpy import logical_or\n",
    "    \n",
    "    drop = []\n",
    "    for locusj in compareto:\n",
    "        nas = logical_or(freqs[locusi].isnull(), freqs[locusj].isnull())\n",
    "        r2 = pearsonr(freqs[locusi][~nas], freqs[locusj][~nas])[0]**2\n",
    "#         print('r2 = ', r2)\n",
    "        if r2 > r2thresh:\n",
    "            drop.append(locusj)\n",
    "\n",
    "    return locusi,drop"
   ]
  },
  {
   "cell_type": "code",
   "execution_count": 174,
   "metadata": {},
   "outputs": [
    {
     "data": {
      "text/plain": [
       "0.2"
      ]
     },
     "execution_count": 174,
     "metadata": {},
     "output_type": "execute_result"
    }
   ],
   "source": [
    "r2thresh"
   ]
  },
  {
   "cell_type": "code",
   "execution_count": 175,
   "metadata": {},
   "outputs": [
    {
     "data": {
      "text/plain": [
       "56"
      ]
     },
     "execution_count": 175,
     "metadata": {},
     "output_type": "execute_result"
    }
   ],
   "source": [
    "len(lview)"
   ]
  },
  {
   "cell_type": "code",
   "execution_count": 176,
   "metadata": {},
   "outputs": [
    {
     "data": {
      "text/plain": [
       "0.2"
      ]
     },
     "execution_count": 176,
     "metadata": {},
     "output_type": "execute_result"
    }
   ],
   "source": [
    "r2thresh"
   ]
  },
  {
   "cell_type": "code",
   "execution_count": 177,
   "metadata": {
    "collapsed": true
   },
   "outputs": [
    {
     "name": "stdout",
     "output_type": "stream",
     "text": [
      "186\n",
      "24937\n"
     ]
    },
    {
     "ename": "KeyboardInterrupt",
     "evalue": "",
     "output_type": "error",
     "traceback": [
      "\u001b[0;31m---------------------------------------------------------------------------\u001b[0m",
      "\u001b[0;31mKeyboardInterrupt\u001b[0m                         Traceback (most recent call last)",
      "\u001b[0;32m<ipython-input-177-1103568cdaa2>\u001b[0m in \u001b[0;36m<module>\u001b[0;34m\u001b[0m\n\u001b[1;32m      6\u001b[0m     \u001b[0mjobs\u001b[0m\u001b[0;34m.\u001b[0m\u001b[0mappend\u001b[0m\u001b[0;34m(\u001b[0m\u001b[0mlview\u001b[0m\u001b[0;34m.\u001b[0m\u001b[0mapply_async\u001b[0m\u001b[0;34m(\u001b[0m\u001b[0mprune_em\u001b[0m\u001b[0;34m,\u001b[0m \u001b[0mtosend\u001b[0m\u001b[0;34m,\u001b[0m \u001b[0;34m**\u001b[0m\u001b[0;34m{\u001b[0m\u001b[0;34m'r2thresh'\u001b[0m\u001b[0;34m:\u001b[0m\u001b[0mr2thresh\u001b[0m\u001b[0;34m,\u001b[0m \u001b[0;34m'locusi'\u001b[0m\u001b[0;34m:\u001b[0m\u001b[0mlocusi\u001b[0m\u001b[0;34m}\u001b[0m\u001b[0;34m)\u001b[0m\u001b[0;34m)\u001b[0m\u001b[0;34m\u001b[0m\u001b[0;34m\u001b[0m\u001b[0m\n\u001b[1;32m      7\u001b[0m     \u001b[0mi\u001b[0m \u001b[0;34m+=\u001b[0m \u001b[0;36m1\u001b[0m\u001b[0;34m\u001b[0m\u001b[0;34m\u001b[0m\u001b[0m\n\u001b[0;32m----> 8\u001b[0;31m \u001b[0mwatch_async\u001b[0m\u001b[0;34m(\u001b[0m\u001b[0mjobs\u001b[0m\u001b[0;34m)\u001b[0m\u001b[0;34m\u001b[0m\u001b[0;34m\u001b[0m\u001b[0m\n\u001b[0m",
      "\u001b[0;32m~/mypy/pythonimports/pythonimports.py\u001b[0m in \u001b[0;36mwatch_async\u001b[0;34m(jobs, phase, sleep)\u001b[0m\n\u001b[1;32m    298\u001b[0m     \u001b[0mcount\u001b[0m \u001b[0;34m=\u001b[0m \u001b[0;36m0\u001b[0m\u001b[0;34m\u001b[0m\u001b[0;34m\u001b[0m\u001b[0m\n\u001b[1;32m    299\u001b[0m     \u001b[0;32mwhile\u001b[0m \u001b[0mcount\u001b[0m \u001b[0;34m!=\u001b[0m \u001b[0mlen\u001b[0m\u001b[0;34m(\u001b[0m\u001b[0mjobs\u001b[0m\u001b[0;34m)\u001b[0m\u001b[0;34m:\u001b[0m\u001b[0;34m\u001b[0m\u001b[0;34m\u001b[0m\u001b[0m\n\u001b[0;32m--> 300\u001b[0;31m         \u001b[0mtime\u001b[0m\u001b[0;34m.\u001b[0m\u001b[0msleep\u001b[0m\u001b[0;34m(\u001b[0m\u001b[0msleep\u001b[0m\u001b[0;34m)\u001b[0m\u001b[0;34m\u001b[0m\u001b[0;34m\u001b[0m\u001b[0m\n\u001b[0m\u001b[1;32m    301\u001b[0m         \u001b[0mcount\u001b[0m \u001b[0;34m=\u001b[0m \u001b[0;36m0\u001b[0m\u001b[0;34m\u001b[0m\u001b[0;34m\u001b[0m\u001b[0m\n\u001b[1;32m    302\u001b[0m         \u001b[0;32mfor\u001b[0m \u001b[0mj\u001b[0m \u001b[0;32min\u001b[0m \u001b[0mjobs\u001b[0m\u001b[0;34m:\u001b[0m\u001b[0;34m\u001b[0m\u001b[0;34m\u001b[0m\u001b[0m\n",
      "\u001b[0;31mKeyboardInterrupt\u001b[0m: "
     ]
    }
   ],
   "source": [
    "# send locus along with all needed loci for pairwise comparisons to engines\n",
    "jobs = []\n",
    "i = 0\n",
    "for locusi in tnb(randomloci):\n",
    "    tosend = randomloci[i+1:]\n",
    "    jobs.append(lview.apply_async(prune_em, tosend, **{'r2thresh':r2thresh, 'locusi':locusi}))\n",
    "    i += 1\n",
    "watch_async(jobs)"
   ]
  },
  {
   "cell_type": "code",
   "execution_count": 178,
   "metadata": {},
   "outputs": [
    {
     "name": "stdout",
     "output_type": "stream",
     "text": [
      "(True, 24473, 24475, 3591)\n"
     ]
    },
    {
     "data": {
      "application/vnd.jupyter.widget-view+json": {
       "model_id": "40faf9c0f6b546dda4e760086fd23fd0",
       "version_major": 2,
       "version_minor": 0
      },
      "text/plain": [
       "HBox(children=(FloatProgress(value=0.0, max=24937.0), HTML(value='')))"
      ]
     },
     "metadata": {},
     "output_type": "display_data"
    },
    {
     "name": "stdout",
     "output_type": "stream",
     "text": [
      "\n"
     ]
    },
    {
     "data": {
      "text/plain": [
       "3591"
      ]
     },
     "execution_count": 178,
     "metadata": {},
     "output_type": "execute_result"
    }
   ],
   "source": [
    "# found = {-1: None}  # comment this out after running this the first time in case I want to interrupt and restart\n",
    "# keep = list(randomloci)  # comment this out after running this the first time in case I want to interrupt and restart\n",
    "maxx = -1\n",
    "while maxx < (len(randomloci) - 1):\n",
    "    i = 0\n",
    "    for j in tnb(jobs):\n",
    "        if j.ready() and i-1 in found.keys() and i not in found.keys():\n",
    "            found[i] = True\n",
    "            try:\n",
    "                locusi, drop = j.r\n",
    "            except: # CancelledError\n",
    "                continue\n",
    "            if locusi in keep:\n",
    "                for locusj in drop:\n",
    "                    if locusj in keep:\n",
    "                        job_idx = randomloci.index(locusj)\n",
    "    #                     print('\\tcanceling ', job_idx, '. ', locusj, randomloci[job_idx])\n",
    "                        jobs[job_idx].cancel()\n",
    "                        keep.remove(locusj)\n",
    "        i += 1\n",
    "    maxx = max(found.keys())\n",
    "    if maxx+1 < len(randomloci):\n",
    "        update([(jobs[maxx+1].ready(), maxx, len(found.keys()), len(keep))])\n",
    "        time.sleep(10)\n",
    "len(keep)"
   ]
  },
  {
   "cell_type": "code",
   "execution_count": 1,
   "metadata": {},
   "outputs": [],
   "source": [
    "from pythonimports import *"
   ]
  },
  {
   "cell_type": "code",
   "execution_count": 2,
   "metadata": {},
   "outputs": [
    {
     "data": {
      "text/plain": [
       "3591"
      ]
     },
     "execution_count": 2,
     "metadata": {},
     "output_type": "execute_result"
    }
   ],
   "source": [
    "# pkldump(keep, '/data/home/lindb/temp_dougfir_gea_pruned.pkl')\n",
    "keep = pklload('/data/home/lindb/temp_dougfir_gea_pruned.pkl')\n",
    "len(keep)"
   ]
  },
  {
   "cell_type": "code",
   "execution_count": 182,
   "metadata": {
    "scrolled": true
   },
   "outputs": [
    {
     "data": {
      "text/plain": [
       "(3591, 178)"
      ]
     },
     "execution_count": 182,
     "metadata": {},
     "output_type": "execute_result"
    }
   ],
   "source": [
    "keeping = snps[snps['locus'].isin(keep)].copy()\n",
    "keeping.shape"
   ]
  },
  {
   "cell_type": "code",
   "execution_count": 184,
   "metadata": {},
   "outputs": [
    {
     "name": "stdout",
     "output_type": "stream",
     "text": [
      "50\n",
      "50\n"
     ]
    },
    {
     "data": {
      "image/png": "[encoded data removed]",
      "text/plain": [
       "<Figure size 1800x360 with 1 Axes>"
      ]
     },
     "metadata": {
      "needs_background": "light"
     },
     "output_type": "display_data"
    }
   ],
   "source": [
    "make_mafdict_fig(get_mafdict(keeping['AF'], roundto=2),\n",
    "                 get_mafdict(snps['AF'], roundto=2),\n",
    "                 title='Doug fir\\nafter pruing for r2 > 0.2')"
   ]
  },
  {
   "cell_type": "code",
   "execution_count": 144,
   "metadata": {},
   "outputs": [
    {
     "data": {
      "image/png": "[encoded data removed]",
      "text/plain": [
       "<Figure size 1800x360 with 1 Axes>"
      ]
     },
     "metadata": {
      "needs_background": "light"
     },
     "output_type": "display_data"
    }
   ],
   "source": [
    "# this is when I had used a lower threshold of missing data.\n",
    "make_mafdict_fig(pruned_mafdict, snp_mafdict, 'Doug fir')"
   ]
  },
  {
   "cell_type": "code",
   "execution_count": 185,
   "metadata": {},
   "outputs": [
    {
     "data": {
      "text/plain": [
       "3591"
      ]
     },
     "execution_count": 185,
     "metadata": {},
     "output_type": "execute_result"
    }
   ],
   "source": [
    "len(keep)"
   ]
  },
  {
   "cell_type": "code",
   "execution_count": 186,
   "metadata": {},
   "outputs": [
    {
     "data": {
      "text/plain": [
       "3591"
      ]
     },
     "execution_count": 186,
     "metadata": {},
     "output_type": "execute_result"
    }
   ],
   "source": [
    "luni(keeping['CHROM'])"
   ]
  },
  {
   "cell_type": "code",
   "execution_count": 190,
   "metadata": {},
   "outputs": [
    {
     "data": {
      "image/png": "[encoded data removed]",
      "text/plain": [
       "<Figure size 432x288 with 1 Axes>"
      ]
     },
     "metadata": {
      "needs_background": "light"
     },
     "output_type": "display_data"
    }
   ],
   "source": [
    "plt.hist([lens[chrom] for chrom in keeping['CHROM']], bins = 100)\n",
    "plt.show()"
   ]
  },
  {
   "cell_type": "code",
   "execution_count": 196,
   "metadata": {},
   "outputs": [
    {
     "data": {
      "image/png": "[encoded data removed]",
      "text/plain": [
       "<Figure size 432x288 with 1 Axes>"
      ]
     },
     "metadata": {
      "needs_background": "light"
     },
     "output_type": "display_data"
    }
   ],
   "source": [
    "plt.hist([lens[chrom] for chrom in snps['CHROM'] if chrom in lens], bins=100)\n",
    "plt.show()"
   ]
  },
  {
   "cell_type": "code",
   "execution_count": 193,
   "metadata": {},
   "outputs": [
    {
     "data": {
      "text/plain": [
       "(79910, 25448)"
      ]
     },
     "execution_count": 193,
     "metadata": {},
     "output_type": "execute_result"
    }
   ],
   "source": [
    "len(lens), luni(snps['CHROM'])"
   ]
  },
  {
   "cell_type": "code",
   "execution_count": null,
   "metadata": {},
   "outputs": [],
   "source": []
  },
  {
   "cell_type": "code",
   "execution_count": 125,
   "metadata": {},
   "outputs": [],
   "source": [
    "# save\n",
    "baydir = makedir(op.join(mafdir, 'baypass'))\n",
    "pkldump(keep, op.join(baydir, 'lessthan10perc-missing-data_20-dp-1000_random-snps_1-per-contig-gt1Kbp_r2-lessthan-p30.pkl'))"
   ]
  },
  {
   "cell_type": "code",
   "execution_count": 58,
   "metadata": {},
   "outputs": [
    {
     "data": {
      "image/png": "[encoded data removed]",
      "text/plain": [
       "<Figure size 432x288 with 1 Axes>"
      ]
     },
     "metadata": {
      "needs_background": "light"
     },
     "output_type": "display_data"
    }
   ],
   "source": [
    "plt.hist(keeping['MAF'], bins=100)\n",
    "plt.title('Structure SNPs')\n",
    "plt.xlabel('MAF')\n",
    "plt.ylabel('Count')\n",
    "plt.show()"
   ]
  },
  {
   "cell_type": "code",
   "execution_count": 59,
   "metadata": {},
   "outputs": [
    {
     "data": {
      "image/png": "[encoded data removed]",
      "text/plain": [
       "<Figure size 432x288 with 1 Axes>"
      ]
     },
     "metadata": {
      "needs_background": "light"
     },
     "output_type": "display_data"
    }
   ],
   "source": [
    "plt.hist(snps['MAF'], bins=100)\n",
    "plt.title('All SNPs')\n",
    "plt.xlabel('MAF')\n",
    "plt.ylabel('Count')\n",
    "plt.show()"
   ]
  },
  {
   "cell_type": "markdown",
   "metadata": {},
   "source": [
    "#### get full snps df to reduce to loci in keep"
   ]
  },
  {
   "cell_type": "code",
   "execution_count": 17,
   "metadata": {},
   "outputs": [
    {
     "data": {
      "text/plain": [
       "'/data/projects/pool_seq/DF_datasets/DF_pooled_GEA/DF_pooled/snpsANDindels/03_maf-p01_RD-recalculated/DF_pooled-varscan_all_bedfiles_SNP_maf_RD-recalculated.txt'"
      ]
     },
     "execution_count": 17,
     "metadata": {},
     "output_type": "execute_result"
    }
   ],
   "source": [
    "f"
   ]
  },
  {
   "cell_type": "code",
   "execution_count": 18,
   "metadata": {},
   "outputs": [
    {
     "data": {
      "text/plain": [
       "6728421"
      ]
     },
     "execution_count": 18,
     "metadata": {},
     "output_type": "execute_result"
    }
   ],
   "source": [
    "linenums"
   ]
  },
  {
   "cell_type": "code",
   "execution_count": 21,
   "metadata": {},
   "outputs": [
    {
     "name": "stdout",
     "output_type": "stream",
     "text": [
      "135\n",
      "135\n"
     ]
    }
   ],
   "source": [
    "# read in all SNPs in parallel\n",
    "nrows = 50000\n",
    "jobs = []\n",
    "for skipto in range(0, linenums, nrows):\n",
    "    jobs.append(lview.apply_async(get_skipto_df, *(f, skipto, nrows)))\n",
    "watch_async(jobs)"
   ]
  },
  {
   "cell_type": "code",
   "execution_count": 23,
   "metadata": {},
   "outputs": [
    {
     "data": {
      "text/plain": [
       "(6728421, 711)"
      ]
     },
     "execution_count": 23,
     "metadata": {},
     "output_type": "execute_result"
    }
   ],
   "source": [
    "snps = pd.concat([j.r for j in jobs])\n",
    "snps.shape"
   ]
  },
  {
   "cell_type": "code",
   "execution_count": 26,
   "metadata": {},
   "outputs": [],
   "source": [
    "snps.index = snps['locus'].tolist()"
   ]
  },
  {
   "cell_type": "code",
   "execution_count": 28,
   "metadata": {},
   "outputs": [
    {
     "data": {
      "text/plain": [
       "(3591, 711)"
      ]
     },
     "execution_count": 28,
     "metadata": {},
     "output_type": "execute_result"
    }
   ],
   "source": [
    "filtered = snps.loc[keep, :].copy()\n",
    "filtered.shape"
   ]
  },
  {
   "cell_type": "code",
   "execution_count": 29,
   "metadata": {},
   "outputs": [
    {
     "data": {
      "text/html": [
       "<div>\n",
       "<style scoped>\n",
       "    .dataframe tbody tr th:only-of-type {\n",
       "        vertical-align: middle;\n",
       "    }\n",
       "\n",
       "    .dataframe tbody tr th {\n",
       "        vertical-align: top;\n",
       "    }\n",
       "\n",
       "    .dataframe thead th {\n",
       "        text-align: right;\n",
       "    }\n",
       "</style>\n",
       "<table border=\"1\" class=\"dataframe\">\n",
       "  <thead>\n",
       "    <tr style=\"text-align: right;\">\n",
       "      <th></th>\n",
       "      <th>CHROM</th>\n",
       "      <th>POS</th>\n",
       "      <th>REF</th>\n",
       "      <th>ALT</th>\n",
       "      <th>AF</th>\n",
       "      <th>QUAL</th>\n",
       "      <th>TYPE</th>\n",
       "      <th>FILTER</th>\n",
       "      <th>ADP</th>\n",
       "      <th>WT</th>\n",
       "      <th>HET</th>\n",
       "      <th>HOM</th>\n",
       "      <th>NC</th>\n",
       "      <th>DF_p1.GT</th>\n",
       "      <th>DF_p1.GQ</th>\n",
       "      <th>DF_p1.SDP</th>\n",
       "      <th>DF_p1.DP</th>\n",
       "      <th>DF_p1.FREQ</th>\n",
       "      <th>DF_p1.PVAL</th>\n",
       "      <th>DF_p1.AD</th>\n",
       "      <th>DF_p1.RD</th>\n",
       "      <th>DF_p18.GT</th>\n",
       "      <th>DF_p18.GQ</th>\n",
       "      <th>DF_p18.SDP</th>\n",
       "      <th>DF_p18.DP</th>\n",
       "      <th>DF_p18.FREQ</th>\n",
       "      <th>DF_p18.PVAL</th>\n",
       "      <th>DF_p18.AD</th>\n",
       "      <th>DF_p18.RD</th>\n",
       "      <th>DF_p19.GT</th>\n",
       "      <th>DF_p19.GQ</th>\n",
       "      <th>DF_p19.SDP</th>\n",
       "      <th>DF_p19.DP</th>\n",
       "      <th>DF_p19.FREQ</th>\n",
       "      <th>DF_p19.PVAL</th>\n",
       "      <th>DF_p19.AD</th>\n",
       "      <th>DF_p19.RD</th>\n",
       "      <th>DF_p2.GT</th>\n",
       "      <th>DF_p2.GQ</th>\n",
       "      <th>DF_p2.SDP</th>\n",
       "      <th>DF_p2.DP</th>\n",
       "      <th>DF_p2.FREQ</th>\n",
       "      <th>DF_p2.PVAL</th>\n",
       "      <th>DF_p2.AD</th>\n",
       "      <th>DF_p2.RD</th>\n",
       "      <th>DF_p20.GT</th>\n",
       "      <th>DF_p20.GQ</th>\n",
       "      <th>DF_p20.SDP</th>\n",
       "      <th>DF_p20.DP</th>\n",
       "      <th>DF_p20.FREQ</th>\n",
       "      <th>...</th>\n",
       "      <th>DF_p94.GT</th>\n",
       "      <th>DF_p94.GQ</th>\n",
       "      <th>DF_p94.SDP</th>\n",
       "      <th>DF_p94.DP</th>\n",
       "      <th>DF_p94.FREQ</th>\n",
       "      <th>DF_p94.PVAL</th>\n",
       "      <th>DF_p94.AD</th>\n",
       "      <th>DF_p94.RD</th>\n",
       "      <th>DF_p95.GT</th>\n",
       "      <th>DF_p95.GQ</th>\n",
       "      <th>DF_p95.SDP</th>\n",
       "      <th>DF_p95.DP</th>\n",
       "      <th>DF_p95.FREQ</th>\n",
       "      <th>DF_p95.PVAL</th>\n",
       "      <th>DF_p95.AD</th>\n",
       "      <th>DF_p95.RD</th>\n",
       "      <th>DF_p96.GT</th>\n",
       "      <th>DF_p96.GQ</th>\n",
       "      <th>DF_p96.SDP</th>\n",
       "      <th>DF_p96.DP</th>\n",
       "      <th>DF_p96.FREQ</th>\n",
       "      <th>DF_p96.PVAL</th>\n",
       "      <th>DF_p96.AD</th>\n",
       "      <th>DF_p96.RD</th>\n",
       "      <th>DF_p97.GT</th>\n",
       "      <th>DF_p97.GQ</th>\n",
       "      <th>DF_p97.SDP</th>\n",
       "      <th>DF_p97.DP</th>\n",
       "      <th>DF_p97.FREQ</th>\n",
       "      <th>DF_p97.PVAL</th>\n",
       "      <th>DF_p97.AD</th>\n",
       "      <th>DF_p97.RD</th>\n",
       "      <th>DF_p98.GT</th>\n",
       "      <th>DF_p98.GQ</th>\n",
       "      <th>DF_p98.SDP</th>\n",
       "      <th>DF_p98.DP</th>\n",
       "      <th>DF_p98.FREQ</th>\n",
       "      <th>DF_p98.PVAL</th>\n",
       "      <th>DF_p98.AD</th>\n",
       "      <th>DF_p98.RD</th>\n",
       "      <th>DF_p17.GT</th>\n",
       "      <th>DF_p17.GQ</th>\n",
       "      <th>DF_p17.SDP</th>\n",
       "      <th>DF_p17.DP</th>\n",
       "      <th>DF_p17.FREQ</th>\n",
       "      <th>DF_p17.PVAL</th>\n",
       "      <th>DF_p17.AD</th>\n",
       "      <th>DF_p17.RD</th>\n",
       "      <th>locus</th>\n",
       "      <th>MAF</th>\n",
       "    </tr>\n",
       "  </thead>\n",
       "  <tbody>\n",
       "    <tr>\n",
       "      <th>jcf7190000127863-64936</th>\n",
       "      <td>jcf7190000127863</td>\n",
       "      <td>64936</td>\n",
       "      <td>A</td>\n",
       "      <td>G</td>\n",
       "      <td>0.828873</td>\n",
       "      <td>-10.0</td>\n",
       "      <td>SNP</td>\n",
       "      <td>PASS</td>\n",
       "      <td>72</td>\n",
       "      <td>0</td>\n",
       "      <td>27</td>\n",
       "      <td>60</td>\n",
       "      <td>0</td>\n",
       "      <td>G/G</td>\n",
       "      <td>255.0</td>\n",
       "      <td>84</td>\n",
       "      <td>84.0</td>\n",
       "      <td>84.52%</td>\n",
       "      <td>2.026700e-34</td>\n",
       "      <td>71.0</td>\n",
       "      <td>13.0</td>\n",
       "      <td>A/G</td>\n",
       "      <td>205.0</td>\n",
       "      <td>59</td>\n",
       "      <td>59.0</td>\n",
       "      <td>77.97%</td>\n",
       "      <td>2.911200e-21</td>\n",
       "      <td>46.0</td>\n",
       "      <td>13.0</td>\n",
       "      <td>G/G</td>\n",
       "      <td>255.0</td>\n",
       "      <td>95</td>\n",
       "      <td>95.0</td>\n",
       "      <td>86.32%</td>\n",
       "      <td>2.270000e-40</td>\n",
       "      <td>82.0</td>\n",
       "      <td>13.0</td>\n",
       "      <td>G/G</td>\n",
       "      <td>110.0</td>\n",
       "      <td>29</td>\n",
       "      <td>29.0</td>\n",
       "      <td>82.76%</td>\n",
       "      <td>9.254400e-12</td>\n",
       "      <td>24.0</td>\n",
       "      <td>5.0</td>\n",
       "      <td>A/G</td>\n",
       "      <td>130.0</td>\n",
       "      <td>49</td>\n",
       "      <td>49.0</td>\n",
       "      <td>65.31%</td>\n",
       "      <td>...</td>\n",
       "      <td>G/G</td>\n",
       "      <td>255.0</td>\n",
       "      <td>55</td>\n",
       "      <td>55.0</td>\n",
       "      <td>94.55%</td>\n",
       "      <td>3.131700e-28</td>\n",
       "      <td>52.0</td>\n",
       "      <td>3.0</td>\n",
       "      <td>G/G</td>\n",
       "      <td>255.0</td>\n",
       "      <td>92</td>\n",
       "      <td>92.0</td>\n",
       "      <td>85.87%</td>\n",
       "      <td>9.693500e-39</td>\n",
       "      <td>79.0</td>\n",
       "      <td>13.0</td>\n",
       "      <td>A/G</td>\n",
       "      <td>255.0</td>\n",
       "      <td>79</td>\n",
       "      <td>79.0</td>\n",
       "      <td>75.95%</td>\n",
       "      <td>3.740900e-27</td>\n",
       "      <td>60.0</td>\n",
       "      <td>19.0</td>\n",
       "      <td>G/G</td>\n",
       "      <td>255.0</td>\n",
       "      <td>96</td>\n",
       "      <td>96.0</td>\n",
       "      <td>83.33%</td>\n",
       "      <td>2.636200e-38</td>\n",
       "      <td>80.0</td>\n",
       "      <td>16.0</td>\n",
       "      <td>G/G</td>\n",
       "      <td>255.0</td>\n",
       "      <td>81</td>\n",
       "      <td>81.0</td>\n",
       "      <td>90.12%</td>\n",
       "      <td>1.930100e-37</td>\n",
       "      <td>73.0</td>\n",
       "      <td>8.0</td>\n",
       "      <td>A/G</td>\n",
       "      <td>110.0</td>\n",
       "      <td>36</td>\n",
       "      <td>36.0</td>\n",
       "      <td>72.22%</td>\n",
       "      <td>9.211800e-12</td>\n",
       "      <td>26.0</td>\n",
       "      <td>10.0</td>\n",
       "      <td>jcf7190000127863-64936</td>\n",
       "      <td>0.171127</td>\n",
       "    </tr>\n",
       "    <tr>\n",
       "      <th>jcf7190000135978-38057</th>\n",
       "      <td>jcf7190000135978</td>\n",
       "      <td>38057</td>\n",
       "      <td>T</td>\n",
       "      <td>A</td>\n",
       "      <td>0.011262</td>\n",
       "      <td>-10.0</td>\n",
       "      <td>SNP</td>\n",
       "      <td>PASS</td>\n",
       "      <td>54</td>\n",
       "      <td>85</td>\n",
       "      <td>2</td>\n",
       "      <td>0</td>\n",
       "      <td>0</td>\n",
       "      <td>T/T</td>\n",
       "      <td>66.0</td>\n",
       "      <td>42</td>\n",
       "      <td>42.0</td>\n",
       "      <td>2.38%</td>\n",
       "      <td>5.000000e-01</td>\n",
       "      <td>1.0</td>\n",
       "      <td>41.0</td>\n",
       "      <td>T/T</td>\n",
       "      <td>111.0</td>\n",
       "      <td>60</td>\n",
       "      <td>60.0</td>\n",
       "      <td>0%</td>\n",
       "      <td>1.000000e+00</td>\n",
       "      <td>0.0</td>\n",
       "      <td>60.0</td>\n",
       "      <td>T/T</td>\n",
       "      <td>167.0</td>\n",
       "      <td>98</td>\n",
       "      <td>98.0</td>\n",
       "      <td>1.02%</td>\n",
       "      <td>5.000000e-01</td>\n",
       "      <td>1.0</td>\n",
       "      <td>97.0</td>\n",
       "      <td>T/T</td>\n",
       "      <td>25.0</td>\n",
       "      <td>21</td>\n",
       "      <td>21.0</td>\n",
       "      <td>9.52%</td>\n",
       "      <td>2.439000e-01</td>\n",
       "      <td>2.0</td>\n",
       "      <td>19.0</td>\n",
       "      <td>T/T</td>\n",
       "      <td>74.0</td>\n",
       "      <td>40</td>\n",
       "      <td>40.0</td>\n",
       "      <td>0%</td>\n",
       "      <td>...</td>\n",
       "      <td>T/T</td>\n",
       "      <td>96.0</td>\n",
       "      <td>52</td>\n",
       "      <td>52.0</td>\n",
       "      <td>0%</td>\n",
       "      <td>1.000000e+00</td>\n",
       "      <td>0.0</td>\n",
       "      <td>52.0</td>\n",
       "      <td>T/T</td>\n",
       "      <td>100.0</td>\n",
       "      <td>54</td>\n",
       "      <td>54.0</td>\n",
       "      <td>0%</td>\n",
       "      <td>1.000000e+00</td>\n",
       "      <td>0.0</td>\n",
       "      <td>54.0</td>\n",
       "      <td>T/T</td>\n",
       "      <td>97.0</td>\n",
       "      <td>51</td>\n",
       "      <td>51.0</td>\n",
       "      <td>0%</td>\n",
       "      <td>1.000000e+00</td>\n",
       "      <td>0.0</td>\n",
       "      <td>51.0</td>\n",
       "      <td>T/T</td>\n",
       "      <td>97.0</td>\n",
       "      <td>51</td>\n",
       "      <td>51.0</td>\n",
       "      <td>0%</td>\n",
       "      <td>1.000000e+00</td>\n",
       "      <td>0.0</td>\n",
       "      <td>51.0</td>\n",
       "      <td>T/T</td>\n",
       "      <td>77.0</td>\n",
       "      <td>54</td>\n",
       "      <td>54.0</td>\n",
       "      <td>3.7%</td>\n",
       "      <td>2.476600e-01</td>\n",
       "      <td>2.0</td>\n",
       "      <td>52.0</td>\n",
       "      <td>T/T</td>\n",
       "      <td>44.0</td>\n",
       "      <td>30</td>\n",
       "      <td>30.0</td>\n",
       "      <td>3.33%</td>\n",
       "      <td>5.000000e-01</td>\n",
       "      <td>1.0</td>\n",
       "      <td>29.0</td>\n",
       "      <td>jcf7190000135978-38057</td>\n",
       "      <td>0.011262</td>\n",
       "    </tr>\n",
       "    <tr>\n",
       "      <th>jcf7190000149428-167816</th>\n",
       "      <td>jcf7190000149428</td>\n",
       "      <td>167816</td>\n",
       "      <td>T</td>\n",
       "      <td>C</td>\n",
       "      <td>0.032015</td>\n",
       "      <td>-10.0</td>\n",
       "      <td>SNP</td>\n",
       "      <td>PASS</td>\n",
       "      <td>95</td>\n",
       "      <td>60</td>\n",
       "      <td>27</td>\n",
       "      <td>0</td>\n",
       "      <td>0</td>\n",
       "      <td>T/T</td>\n",
       "      <td>295.0</td>\n",
       "      <td>157</td>\n",
       "      <td>157.0</td>\n",
       "      <td>0%</td>\n",
       "      <td>1.000000e+00</td>\n",
       "      <td>0.0</td>\n",
       "      <td>157.0</td>\n",
       "      <td>T/C</td>\n",
       "      <td>41.0</td>\n",
       "      <td>69</td>\n",
       "      <td>69.0</td>\n",
       "      <td>18.84%</td>\n",
       "      <td>6.550100e-05</td>\n",
       "      <td>13.0</td>\n",
       "      <td>56.0</td>\n",
       "      <td>T/C</td>\n",
       "      <td>48.0</td>\n",
       "      <td>78</td>\n",
       "      <td>78.0</td>\n",
       "      <td>19.23%</td>\n",
       "      <td>1.451200e-05</td>\n",
       "      <td>15.0</td>\n",
       "      <td>63.0</td>\n",
       "      <td>T/T</td>\n",
       "      <td>59.0</td>\n",
       "      <td>32</td>\n",
       "      <td>32.0</td>\n",
       "      <td>0%</td>\n",
       "      <td>1.000000e+00</td>\n",
       "      <td>0.0</td>\n",
       "      <td>32.0</td>\n",
       "      <td>T/C</td>\n",
       "      <td>19.0</td>\n",
       "      <td>30</td>\n",
       "      <td>30.0</td>\n",
       "      <td>NaN</td>\n",
       "      <td>...</td>\n",
       "      <td>T/T</td>\n",
       "      <td>130.0</td>\n",
       "      <td>83</td>\n",
       "      <td>83.0</td>\n",
       "      <td>2.41%</td>\n",
       "      <td>2.484800e-01</td>\n",
       "      <td>2.0</td>\n",
       "      <td>81.0</td>\n",
       "      <td>T/T</td>\n",
       "      <td>336.0</td>\n",
       "      <td>179</td>\n",
       "      <td>179.0</td>\n",
       "      <td>0%</td>\n",
       "      <td>1.000000e+00</td>\n",
       "      <td>0.0</td>\n",
       "      <td>179.0</td>\n",
       "      <td>T/T</td>\n",
       "      <td>197.0</td>\n",
       "      <td>106</td>\n",
       "      <td>106.0</td>\n",
       "      <td>0%</td>\n",
       "      <td>1.000000e+00</td>\n",
       "      <td>0.0</td>\n",
       "      <td>106.0</td>\n",
       "      <td>T/T</td>\n",
       "      <td>235.0</td>\n",
       "      <td>125</td>\n",
       "      <td>125.0</td>\n",
       "      <td>0%</td>\n",
       "      <td>1.000000e+00</td>\n",
       "      <td>0.0</td>\n",
       "      <td>125.0</td>\n",
       "      <td>T/T</td>\n",
       "      <td>209.0</td>\n",
       "      <td>112</td>\n",
       "      <td>112.0</td>\n",
       "      <td>0%</td>\n",
       "      <td>1.000000e+00</td>\n",
       "      <td>0.0</td>\n",
       "      <td>112.0</td>\n",
       "      <td>T/T</td>\n",
       "      <td>66.0</td>\n",
       "      <td>36</td>\n",
       "      <td>36.0</td>\n",
       "      <td>0%</td>\n",
       "      <td>1.000000e+00</td>\n",
       "      <td>0.0</td>\n",
       "      <td>36.0</td>\n",
       "      <td>jcf7190000149428-167816</td>\n",
       "      <td>0.032015</td>\n",
       "    </tr>\n",
       "    <tr>\n",
       "      <th>jcf7190000033887-69342</th>\n",
       "      <td>jcf7190000033887</td>\n",
       "      <td>69342</td>\n",
       "      <td>T</td>\n",
       "      <td>C</td>\n",
       "      <td>0.112383</td>\n",
       "      <td>-10.0</td>\n",
       "      <td>SNP</td>\n",
       "      <td>PASS</td>\n",
       "      <td>82</td>\n",
       "      <td>22</td>\n",
       "      <td>65</td>\n",
       "      <td>0</td>\n",
       "      <td>0</td>\n",
       "      <td>T/C</td>\n",
       "      <td>27.0</td>\n",
       "      <td>107</td>\n",
       "      <td>107.0</td>\n",
       "      <td>8.41%</td>\n",
       "      <td>1.639200e-03</td>\n",
       "      <td>9.0</td>\n",
       "      <td>98.0</td>\n",
       "      <td>T/C</td>\n",
       "      <td>31.0</td>\n",
       "      <td>86</td>\n",
       "      <td>86.0</td>\n",
       "      <td>11.63%</td>\n",
       "      <td>7.402300e-04</td>\n",
       "      <td>10.0</td>\n",
       "      <td>76.0</td>\n",
       "      <td>T/C</td>\n",
       "      <td>27.0</td>\n",
       "      <td>114</td>\n",
       "      <td>114.0</td>\n",
       "      <td>7.89%</td>\n",
       "      <td>1.657600e-03</td>\n",
       "      <td>9.0</td>\n",
       "      <td>105.0</td>\n",
       "      <td>T/T</td>\n",
       "      <td>25.0</td>\n",
       "      <td>25</td>\n",
       "      <td>25.0</td>\n",
       "      <td>12%</td>\n",
       "      <td>1.173500e-01</td>\n",
       "      <td>3.0</td>\n",
       "      <td>22.0</td>\n",
       "      <td>T/T</td>\n",
       "      <td>62.0</td>\n",
       "      <td>40</td>\n",
       "      <td>40.0</td>\n",
       "      <td>2.5%</td>\n",
       "      <td>...</td>\n",
       "      <td>T/T</td>\n",
       "      <td>164.0</td>\n",
       "      <td>88</td>\n",
       "      <td>88.0</td>\n",
       "      <td>0%</td>\n",
       "      <td>1.000000e+00</td>\n",
       "      <td>0.0</td>\n",
       "      <td>88.0</td>\n",
       "      <td>T/C</td>\n",
       "      <td>40.0</td>\n",
       "      <td>113</td>\n",
       "      <td>113.0</td>\n",
       "      <td>11.5%</td>\n",
       "      <td>8.469500e-05</td>\n",
       "      <td>13.0</td>\n",
       "      <td>100.0</td>\n",
       "      <td>T/C</td>\n",
       "      <td>41.0</td>\n",
       "      <td>92</td>\n",
       "      <td>92.0</td>\n",
       "      <td>14.13%</td>\n",
       "      <td>7.743100e-05</td>\n",
       "      <td>13.0</td>\n",
       "      <td>79.0</td>\n",
       "      <td>T/C</td>\n",
       "      <td>54.0</td>\n",
       "      <td>101</td>\n",
       "      <td>101.0</td>\n",
       "      <td>16.83%</td>\n",
       "      <td>3.661600e-06</td>\n",
       "      <td>17.0</td>\n",
       "      <td>84.0</td>\n",
       "      <td>T/T</td>\n",
       "      <td>117.0</td>\n",
       "      <td>81</td>\n",
       "      <td>81.0</td>\n",
       "      <td>3.7%</td>\n",
       "      <td>1.226700e-01</td>\n",
       "      <td>3.0</td>\n",
       "      <td>78.0</td>\n",
       "      <td>T/C</td>\n",
       "      <td>15.0</td>\n",
       "      <td>29</td>\n",
       "      <td>29.0</td>\n",
       "      <td>NaN</td>\n",
       "      <td>2.591700e-02</td>\n",
       "      <td>5.0</td>\n",
       "      <td>24.0</td>\n",
       "      <td>jcf7190000033887-69342</td>\n",
       "      <td>0.112383</td>\n",
       "    </tr>\n",
       "    <tr>\n",
       "      <th>jcf7190000139702-166207</th>\n",
       "      <td>jcf7190000139702</td>\n",
       "      <td>166207</td>\n",
       "      <td>G</td>\n",
       "      <td>A</td>\n",
       "      <td>0.011277</td>\n",
       "      <td>-10.0</td>\n",
       "      <td>SNP</td>\n",
       "      <td>PASS</td>\n",
       "      <td>394</td>\n",
       "      <td>58</td>\n",
       "      <td>29</td>\n",
       "      <td>0</td>\n",
       "      <td>0</td>\n",
       "      <td>G/A</td>\n",
       "      <td>95.0</td>\n",
       "      <td>558</td>\n",
       "      <td>558.0</td>\n",
       "      <td>5.56%</td>\n",
       "      <td>3.033900e-10</td>\n",
       "      <td>31.0</td>\n",
       "      <td>527.0</td>\n",
       "      <td>G/G</td>\n",
       "      <td>543.0</td>\n",
       "      <td>289</td>\n",
       "      <td>289.0</td>\n",
       "      <td>0%</td>\n",
       "      <td>1.000000e+00</td>\n",
       "      <td>0.0</td>\n",
       "      <td>289.0</td>\n",
       "      <td>G/G</td>\n",
       "      <td>640.0</td>\n",
       "      <td>342</td>\n",
       "      <td>342.0</td>\n",
       "      <td>0%</td>\n",
       "      <td>1.000000e+00</td>\n",
       "      <td>0.0</td>\n",
       "      <td>342.0</td>\n",
       "      <td>G/A</td>\n",
       "      <td>15.0</td>\n",
       "      <td>74</td>\n",
       "      <td>74.0</td>\n",
       "      <td>NaN</td>\n",
       "      <td>2.914600e-02</td>\n",
       "      <td>5.0</td>\n",
       "      <td>69.0</td>\n",
       "      <td>G/G</td>\n",
       "      <td>175.0</td>\n",
       "      <td>93</td>\n",
       "      <td>93.0</td>\n",
       "      <td>0%</td>\n",
       "      <td>...</td>\n",
       "      <td>G/G</td>\n",
       "      <td>614.0</td>\n",
       "      <td>327</td>\n",
       "      <td>327.0</td>\n",
       "      <td>0%</td>\n",
       "      <td>1.000000e+00</td>\n",
       "      <td>0.0</td>\n",
       "      <td>327.0</td>\n",
       "      <td>G/G</td>\n",
       "      <td>1438.0</td>\n",
       "      <td>768</td>\n",
       "      <td>768.0</td>\n",
       "      <td>0%</td>\n",
       "      <td>1.000000e+00</td>\n",
       "      <td>0.0</td>\n",
       "      <td>768.0</td>\n",
       "      <td>G/A</td>\n",
       "      <td>24.0</td>\n",
       "      <td>499</td>\n",
       "      <td>499.0</td>\n",
       "      <td>1.6%</td>\n",
       "      <td>3.797400e-03</td>\n",
       "      <td>8.0</td>\n",
       "      <td>491.0</td>\n",
       "      <td>G/A</td>\n",
       "      <td>45.0</td>\n",
       "      <td>554</td>\n",
       "      <td>554.0</td>\n",
       "      <td>2.71%</td>\n",
       "      <td>2.772300e-05</td>\n",
       "      <td>15.0</td>\n",
       "      <td>539.0</td>\n",
       "      <td>G/G</td>\n",
       "      <td>700.0</td>\n",
       "      <td>374</td>\n",
       "      <td>374.0</td>\n",
       "      <td>0%</td>\n",
       "      <td>1.000000e+00</td>\n",
       "      <td>0.0</td>\n",
       "      <td>374.0</td>\n",
       "      <td>G/G</td>\n",
       "      <td>258.0</td>\n",
       "      <td>162</td>\n",
       "      <td>162.0</td>\n",
       "      <td>1.85%</td>\n",
       "      <td>1.238400e-01</td>\n",
       "      <td>3.0</td>\n",
       "      <td>159.0</td>\n",
       "      <td>jcf7190000139702-166207</td>\n",
       "      <td>0.011277</td>\n",
       "    </tr>\n",
       "  </tbody>\n",
       "</table>\n",
       "<p>5 rows × 711 columns</p>\n",
       "</div>"
      ],
      "text/plain": [
       "                                    CHROM     POS REF ALT        AF  QUAL  \\\n",
       "jcf7190000127863-64936   jcf7190000127863   64936   A   G  0.828873 -10.0   \n",
       "jcf7190000135978-38057   jcf7190000135978   38057   T   A  0.011262 -10.0   \n",
       "jcf7190000149428-167816  jcf7190000149428  167816   T   C  0.032015 -10.0   \n",
       "jcf7190000033887-69342   jcf7190000033887   69342   T   C  0.112383 -10.0   \n",
       "jcf7190000139702-166207  jcf7190000139702  166207   G   A  0.011277 -10.0   \n",
       "\n",
       "                        TYPE FILTER  ADP  WT  HET  HOM  NC DF_p1.GT  DF_p1.GQ  \\\n",
       "jcf7190000127863-64936   SNP   PASS   72   0   27   60   0      G/G     255.0   \n",
       "jcf7190000135978-38057   SNP   PASS   54  85    2    0   0      T/T      66.0   \n",
       "jcf7190000149428-167816  SNP   PASS   95  60   27    0   0      T/T     295.0   \n",
       "jcf7190000033887-69342   SNP   PASS   82  22   65    0   0      T/C      27.0   \n",
       "jcf7190000139702-166207  SNP   PASS  394  58   29    0   0      G/A      95.0   \n",
       "\n",
       "                         DF_p1.SDP  DF_p1.DP DF_p1.FREQ    DF_p1.PVAL  \\\n",
       "jcf7190000127863-64936          84      84.0     84.52%  2.026700e-34   \n",
       "jcf7190000135978-38057          42      42.0      2.38%  5.000000e-01   \n",
       "jcf7190000149428-167816        157     157.0         0%  1.000000e+00   \n",
       "jcf7190000033887-69342         107     107.0      8.41%  1.639200e-03   \n",
       "jcf7190000139702-166207        558     558.0      5.56%  3.033900e-10   \n",
       "\n",
       "                         DF_p1.AD  DF_p1.RD DF_p18.GT  DF_p18.GQ  DF_p18.SDP  \\\n",
       "jcf7190000127863-64936       71.0      13.0       A/G      205.0          59   \n",
       "jcf7190000135978-38057        1.0      41.0       T/T      111.0          60   \n",
       "jcf7190000149428-167816       0.0     157.0       T/C       41.0          69   \n",
       "jcf7190000033887-69342        9.0      98.0       T/C       31.0          86   \n",
       "jcf7190000139702-166207      31.0     527.0       G/G      543.0         289   \n",
       "\n",
       "                         DF_p18.DP DF_p18.FREQ   DF_p18.PVAL  DF_p18.AD  \\\n",
       "jcf7190000127863-64936        59.0      77.97%  2.911200e-21       46.0   \n",
       "jcf7190000135978-38057        60.0          0%  1.000000e+00        0.0   \n",
       "jcf7190000149428-167816       69.0      18.84%  6.550100e-05       13.0   \n",
       "jcf7190000033887-69342        86.0      11.63%  7.402300e-04       10.0   \n",
       "jcf7190000139702-166207      289.0          0%  1.000000e+00        0.0   \n",
       "\n",
       "                         DF_p18.RD DF_p19.GT  DF_p19.GQ  DF_p19.SDP  \\\n",
       "jcf7190000127863-64936        13.0       G/G      255.0          95   \n",
       "jcf7190000135978-38057        60.0       T/T      167.0          98   \n",
       "jcf7190000149428-167816       56.0       T/C       48.0          78   \n",
       "jcf7190000033887-69342        76.0       T/C       27.0         114   \n",
       "jcf7190000139702-166207      289.0       G/G      640.0         342   \n",
       "\n",
       "                         DF_p19.DP DF_p19.FREQ   DF_p19.PVAL  DF_p19.AD  \\\n",
       "jcf7190000127863-64936        95.0      86.32%  2.270000e-40       82.0   \n",
       "jcf7190000135978-38057        98.0       1.02%  5.000000e-01        1.0   \n",
       "jcf7190000149428-167816       78.0      19.23%  1.451200e-05       15.0   \n",
       "jcf7190000033887-69342       114.0       7.89%  1.657600e-03        9.0   \n",
       "jcf7190000139702-166207      342.0          0%  1.000000e+00        0.0   \n",
       "\n",
       "                         DF_p19.RD DF_p2.GT  DF_p2.GQ  DF_p2.SDP  DF_p2.DP  \\\n",
       "jcf7190000127863-64936        13.0      G/G     110.0         29      29.0   \n",
       "jcf7190000135978-38057        97.0      T/T      25.0         21      21.0   \n",
       "jcf7190000149428-167816       63.0      T/T      59.0         32      32.0   \n",
       "jcf7190000033887-69342       105.0      T/T      25.0         25      25.0   \n",
       "jcf7190000139702-166207      342.0      G/A      15.0         74      74.0   \n",
       "\n",
       "                        DF_p2.FREQ    DF_p2.PVAL  DF_p2.AD  DF_p2.RD  \\\n",
       "jcf7190000127863-64936      82.76%  9.254400e-12      24.0       5.0   \n",
       "jcf7190000135978-38057       9.52%  2.439000e-01       2.0      19.0   \n",
       "jcf7190000149428-167816         0%  1.000000e+00       0.0      32.0   \n",
       "jcf7190000033887-69342         12%  1.173500e-01       3.0      22.0   \n",
       "jcf7190000139702-166207        NaN  2.914600e-02       5.0      69.0   \n",
       "\n",
       "                        DF_p20.GT  DF_p20.GQ  DF_p20.SDP  DF_p20.DP  \\\n",
       "jcf7190000127863-64936        A/G      130.0          49       49.0   \n",
       "jcf7190000135978-38057        T/T       74.0          40       40.0   \n",
       "jcf7190000149428-167816       T/C       19.0          30       30.0   \n",
       "jcf7190000033887-69342        T/T       62.0          40       40.0   \n",
       "jcf7190000139702-166207       G/G      175.0          93       93.0   \n",
       "\n",
       "                        DF_p20.FREQ  ...  DF_p94.GT  DF_p94.GQ  DF_p94.SDP  \\\n",
       "jcf7190000127863-64936       65.31%  ...        G/G      255.0          55   \n",
       "jcf7190000135978-38057           0%  ...        T/T       96.0          52   \n",
       "jcf7190000149428-167816         NaN  ...        T/T      130.0          83   \n",
       "jcf7190000033887-69342         2.5%  ...        T/T      164.0          88   \n",
       "jcf7190000139702-166207          0%  ...        G/G      614.0         327   \n",
       "\n",
       "                        DF_p94.DP  DF_p94.FREQ   DF_p94.PVAL  DF_p94.AD  \\\n",
       "jcf7190000127863-64936       55.0       94.55%  3.131700e-28       52.0   \n",
       "jcf7190000135978-38057       52.0           0%  1.000000e+00        0.0   \n",
       "jcf7190000149428-167816      83.0        2.41%  2.484800e-01        2.0   \n",
       "jcf7190000033887-69342       88.0           0%  1.000000e+00        0.0   \n",
       "jcf7190000139702-166207     327.0           0%  1.000000e+00        0.0   \n",
       "\n",
       "                        DF_p94.RD  DF_p95.GT  DF_p95.GQ  DF_p95.SDP DF_p95.DP  \\\n",
       "jcf7190000127863-64936        3.0        G/G      255.0          92      92.0   \n",
       "jcf7190000135978-38057       52.0        T/T      100.0          54      54.0   \n",
       "jcf7190000149428-167816      81.0        T/T      336.0         179     179.0   \n",
       "jcf7190000033887-69342       88.0        T/C       40.0         113     113.0   \n",
       "jcf7190000139702-166207     327.0        G/G     1438.0         768     768.0   \n",
       "\n",
       "                         DF_p95.FREQ   DF_p95.PVAL  DF_p95.AD DF_p95.RD  \\\n",
       "jcf7190000127863-64936        85.87%  9.693500e-39       79.0      13.0   \n",
       "jcf7190000135978-38057            0%  1.000000e+00        0.0      54.0   \n",
       "jcf7190000149428-167816           0%  1.000000e+00        0.0     179.0   \n",
       "jcf7190000033887-69342         11.5%  8.469500e-05       13.0     100.0   \n",
       "jcf7190000139702-166207           0%  1.000000e+00        0.0     768.0   \n",
       "\n",
       "                         DF_p96.GT  DF_p96.GQ  DF_p96.SDP DF_p96.DP  \\\n",
       "jcf7190000127863-64936         A/G      255.0          79      79.0   \n",
       "jcf7190000135978-38057         T/T       97.0          51      51.0   \n",
       "jcf7190000149428-167816        T/T      197.0         106     106.0   \n",
       "jcf7190000033887-69342         T/C       41.0          92      92.0   \n",
       "jcf7190000139702-166207        G/A       24.0         499     499.0   \n",
       "\n",
       "                         DF_p96.FREQ   DF_p96.PVAL  DF_p96.AD DF_p96.RD  \\\n",
       "jcf7190000127863-64936        75.95%  3.740900e-27       60.0      19.0   \n",
       "jcf7190000135978-38057            0%  1.000000e+00        0.0      51.0   \n",
       "jcf7190000149428-167816           0%  1.000000e+00        0.0     106.0   \n",
       "jcf7190000033887-69342        14.13%  7.743100e-05       13.0      79.0   \n",
       "jcf7190000139702-166207         1.6%  3.797400e-03        8.0     491.0   \n",
       "\n",
       "                         DF_p97.GT  DF_p97.GQ  DF_p97.SDP DF_p97.DP  \\\n",
       "jcf7190000127863-64936         G/G      255.0          96      96.0   \n",
       "jcf7190000135978-38057         T/T       97.0          51      51.0   \n",
       "jcf7190000149428-167816        T/T      235.0         125     125.0   \n",
       "jcf7190000033887-69342         T/C       54.0         101     101.0   \n",
       "jcf7190000139702-166207        G/A       45.0         554     554.0   \n",
       "\n",
       "                         DF_p97.FREQ   DF_p97.PVAL  DF_p97.AD DF_p97.RD  \\\n",
       "jcf7190000127863-64936        83.33%  2.636200e-38       80.0      16.0   \n",
       "jcf7190000135978-38057            0%  1.000000e+00        0.0      51.0   \n",
       "jcf7190000149428-167816           0%  1.000000e+00        0.0     125.0   \n",
       "jcf7190000033887-69342        16.83%  3.661600e-06       17.0      84.0   \n",
       "jcf7190000139702-166207        2.71%  2.772300e-05       15.0     539.0   \n",
       "\n",
       "                         DF_p98.GT  DF_p98.GQ  DF_p98.SDP DF_p98.DP  \\\n",
       "jcf7190000127863-64936         G/G      255.0          81      81.0   \n",
       "jcf7190000135978-38057         T/T       77.0          54      54.0   \n",
       "jcf7190000149428-167816        T/T      209.0         112     112.0   \n",
       "jcf7190000033887-69342         T/T      117.0          81      81.0   \n",
       "jcf7190000139702-166207        G/G      700.0         374     374.0   \n",
       "\n",
       "                         DF_p98.FREQ   DF_p98.PVAL  DF_p98.AD DF_p98.RD  \\\n",
       "jcf7190000127863-64936        90.12%  1.930100e-37       73.0       8.0   \n",
       "jcf7190000135978-38057          3.7%  2.476600e-01        2.0      52.0   \n",
       "jcf7190000149428-167816           0%  1.000000e+00        0.0     112.0   \n",
       "jcf7190000033887-69342          3.7%  1.226700e-01        3.0      78.0   \n",
       "jcf7190000139702-166207           0%  1.000000e+00        0.0     374.0   \n",
       "\n",
       "                         DF_p17.GT  DF_p17.GQ  DF_p17.SDP DF_p17.DP  \\\n",
       "jcf7190000127863-64936         A/G      110.0          36      36.0   \n",
       "jcf7190000135978-38057         T/T       44.0          30      30.0   \n",
       "jcf7190000149428-167816        T/T       66.0          36      36.0   \n",
       "jcf7190000033887-69342         T/C       15.0          29      29.0   \n",
       "jcf7190000139702-166207        G/G      258.0         162     162.0   \n",
       "\n",
       "                         DF_p17.FREQ   DF_p17.PVAL  DF_p17.AD DF_p17.RD  \\\n",
       "jcf7190000127863-64936        72.22%  9.211800e-12       26.0      10.0   \n",
       "jcf7190000135978-38057         3.33%  5.000000e-01        1.0      29.0   \n",
       "jcf7190000149428-167816           0%  1.000000e+00        0.0      36.0   \n",
       "jcf7190000033887-69342           NaN  2.591700e-02        5.0      24.0   \n",
       "jcf7190000139702-166207        1.85%  1.238400e-01        3.0     159.0   \n",
       "\n",
       "                                           locus       MAF  \n",
       "jcf7190000127863-64936    jcf7190000127863-64936  0.171127  \n",
       "jcf7190000135978-38057    jcf7190000135978-38057  0.011262  \n",
       "jcf7190000149428-167816  jcf7190000149428-167816  0.032015  \n",
       "jcf7190000033887-69342    jcf7190000033887-69342  0.112383  \n",
       "jcf7190000139702-166207  jcf7190000139702-166207  0.011277  \n",
       "\n",
       "[5 rows x 711 columns]"
      ]
     },
     "execution_count": 29,
     "metadata": {},
     "output_type": "execute_result"
    }
   ],
   "source": [
    "filtered.head()"
   ]
  },
  {
   "cell_type": "code",
   "execution_count": 31,
   "metadata": {},
   "outputs": [],
   "source": [
    "baydir = '/data/projects/pool_seq/DF_datasets/DF_pooled_GEA/DF_pooled/snpsANDindels/03_maf-p01_RD-recalculated/baypass'\n",
    "pkldump(keep, op.join(baydir,\n",
    "                      'baseline-missing-data_20-dp-1000_random-snps_1-per-contig-gt1Kbp_r2-lessthan-p20.pkl'))"
   ]
  },
  {
   "cell_type": "code",
   "execution_count": 146,
   "metadata": {},
   "outputs": [],
   "source": [
    "# # moved this and all files like it to baydir/bad_maf_spectrum\n",
    "# filtered.to_csv(op.join(baydir, 'lessthan10perc-missing-data_20-dp-1000_random-snps_1-per-contig-gt1Kbp_r2-lessthan-p30_table.txt'),\n",
    "#                 sep='\\t', index=False)"
   ]
  },
  {
   "cell_type": "code",
   "execution_count": 32,
   "metadata": {},
   "outputs": [],
   "source": [
    "filtered.to_csv(op.join(baydir, 'baseline-missing-data_20-dp-1000_random-snps_1-per-contig-gt1Kbp_r2-lessthan-p20_table.txt'),\n",
    "                sep='\\t', index=False)"
   ]
  },
  {
   "cell_type": "code",
   "execution_count": 33,
   "metadata": {},
   "outputs": [],
   "source": [
    "del snps"
   ]
  },
  {
   "cell_type": "code",
   "execution_count": 34,
   "metadata": {},
   "outputs": [],
   "source": [
    "dview['df'] = None"
   ]
  },
  {
   "cell_type": "code",
   "execution_count": null,
   "metadata": {},
   "outputs": [],
   "source": []
  },
  {
   "cell_type": "code",
   "execution_count": null,
   "metadata": {},
   "outputs": [],
   "source": []
  },
  {
   "cell_type": "code",
   "execution_count": null,
   "metadata": {},
   "outputs": [],
   "source": []
  },
  {
   "cell_type": "code",
   "execution_count": null,
   "metadata": {},
   "outputs": [],
   "source": []
  },
  {
   "cell_type": "code",
   "execution_count": null,
   "metadata": {},
   "outputs": [],
   "source": []
  }
 ],
 "metadata": {
  "kernelspec": {
   "display_name": "Python 3",
   "language": "python",
   "name": "python3"
  },
  "language_info": {
   "codemirror_mode": {
    "name": "ipython",
    "version": 3
   },
   "file_extension": ".py",
   "mimetype": "text/x-python",
   "name": "python",
   "nbconvert_exporter": "python",
   "pygments_lexer": "ipython3",
   "version": "3.7.6"
  }
 },
 "nbformat": 4,
 "nbformat_minor": 2
}
